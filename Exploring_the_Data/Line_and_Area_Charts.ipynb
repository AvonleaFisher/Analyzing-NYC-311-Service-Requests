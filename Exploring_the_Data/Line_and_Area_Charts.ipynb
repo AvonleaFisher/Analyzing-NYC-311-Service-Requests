{
  "nbformat": 4,
  "nbformat_minor": 0,
  "metadata": {
    "accelerator": "GPU",
    "colab": {
      "name": "Exploring_the_Data_Line_and_Area_Charts.ipynb",
      "provenance": [],
      "collapsed_sections": [],
      "machine_shape": "hm",
      "mount_file_id": "1eZHXz7JQz3jfmS8vbEBGmO9w5a7CjLQ1",
      "authorship_tag": "ABX9TyO/SJ8uFu4eEE8TKix7oR2A",
      "include_colab_link": true
    },
    "kernelspec": {
      "display_name": "Python 3",
      "name": "python3"
    }
  },
  "cells": [
    {
      "cell_type": "markdown",
      "metadata": {
        "id": "view-in-github",
        "colab_type": "text"
      },
      "source": [
        "<a href=\"https://colab.research.google.com/github/AvonleaFisher/Analyzing-NYC-311-Service-Requests/blob/main/Exploring_the_Data/Line_and_Area_Charts.ipynb\" target=\"_parent\"><img src=\"https://colab.research.google.com/assets/colab-badge.svg\" alt=\"Open In Colab\"/></a>"
      ]
    },
    {
      "cell_type": "markdown",
      "metadata": {
        "id": "TIW9rM9Wf2lK"
      },
      "source": [
        "# Introduction"
      ]
    },
    {
      "cell_type": "markdown",
      "metadata": {
        "id": "rEDtgSQeu0gD"
      },
      "source": [
        "In this section, we'll create summaries and visualizations to explore the data.\n",
        "\n",
        "**Note:** Notebooks with exploratory visualizations have been broken up into multiple sections to reduce file size. Dependencies required across all EDA notebooks are imported below. To view animated plots that do not render on GitHub, enter the URL into [Jupyter Notebook Viewer](https://nbviewer.jupyter.org/)."
      ]
    },
    {
      "cell_type": "markdown",
      "metadata": {
        "id": "FeZlyEYZgBNi"
      },
      "source": [
        "# Loading Dependencies"
      ]
    },
    {
      "cell_type": "code",
      "metadata": {
        "id": "0P6mTs1yBxs7"
      },
      "source": [
        "import matplotlib.pyplot as plt\n",
        "import pandas as pd\n",
        "import numpy as np\n",
        "import re\n",
        "import string\n",
        "\n",
        "import nltk\n",
        "from nltk.corpus import stopwords\n",
        "from nltk import word_tokenize\n",
        "from nltk.stem import WordNetLemmatizer \n",
        "from nltk.collocations import *\n",
        "from nltk import FreqDist\n",
        "from nltk.probability import FreqDist\n",
        "from os import path\n",
        "from PIL import Image\n",
        "import matplotlib.pyplot as plt\n",
        "import os\n",
        "from wordcloud import WordCloud, STOPWORDS\n",
        "\n",
        "!pip install -U -q PyDrive\n",
        "from pydrive.auth import GoogleAuth\n",
        "from pydrive.drive import GoogleDrive\n",
        "from google.colab import auth\n",
        "from oauth2client.client import GoogleCredentials\n",
        "import plotly.express as px\n",
        "import plotly.graph_objects as go\n",
        "import seaborn as sns\n",
        "import random\n",
        "import plotly.io as pio\n",
        "\n",
        "#display plotly figures\n",
        "pio.renderers.default = \"plotly_mimetype+notebook_connected\""
      ],
      "execution_count": 1,
      "outputs": []
    },
    {
      "cell_type": "markdown",
      "metadata": {
        "id": "6NXm7K5MvBlh"
      },
      "source": [
        "# Importing the Data\n",
        "The data used in this notebook can be accessed via the following sharable Google Drive link:\n",
        "\n",
        "[community_board_311.csv](https://drive.google.com/file/d/1sWrkeaPOhpn37nxT9_zk2vs009nZOrlB/view?usp=sharing)"
      ]
    },
    {
      "cell_type": "code",
      "metadata": {
        "colab": {
          "base_uri": "https://localhost:8080/"
        },
        "id": "mVZTmx0CPFQF",
        "outputId": "ec365d56-e148-4633-bad9-4e0b11e8a9e2"
      },
      "source": [
        "from google.colab import drive\n",
        "drive.mount(\"/content/drive\")\n",
        "path = '/content/drive/MyDrive/Colab Notebooks/community_board_311.csv' #change path to your Google Drive file location\n",
        "df = pd.read_csv(path, index_col=0)"
      ],
      "execution_count": 2,
      "outputs": [
        {
          "output_type": "stream",
          "text": [
            "Drive already mounted at /content/drive; to attempt to forcibly remount, call drive.mount(\"/content/drive\", force_remount=True).\n"
          ],
          "name": "stdout"
        },
        {
          "output_type": "stream",
          "text": [
            "/usr/local/lib/python3.6/dist-packages/numpy/lib/arraysetops.py:569: FutureWarning:\n",
            "\n",
            "elementwise comparison failed; returning scalar instead, but in the future will perform elementwise comparison\n",
            "\n"
          ],
          "name": "stderr"
        }
      ]
    },
    {
      "cell_type": "code",
      "metadata": {
        "colab": {
          "base_uri": "https://localhost:8080/"
        },
        "id": "7uUUl-P6P2DS",
        "outputId": "5a4b62a6-1e1f-4ab9-f6e0-6aced1f5450f"
      },
      "source": [
        "df.columns"
      ],
      "execution_count": 3,
      "outputs": [
        {
          "output_type": "execute_result",
          "data": {
            "text/plain": [
              "Index(['created_date', 'complaint_type', 'agency', 'community_board',\n",
              "       'latitude', 'longitude', 'descriptor', 'borough', 'day', 'month',\n",
              "       'day_of_week', 'hour', 'area_sqmi', 'count_hosp_clinic',\n",
              "       'count_libraries', 'count_parks', 'count_public_schools',\n",
              "       'crime_per_1000', 'female_15_19', 'female_20_24', 'female_25_29',\n",
              "       'female_30_34', 'female_35_39', 'female_40_44', 'female_45_49',\n",
              "       'female_50_54', 'female_55_59', 'female_60_64', 'male_10_14',\n",
              "       'male_15_19', 'male_20_24', 'male_25_29', 'male_30_34', 'male_35_39',\n",
              "       'male_40_44', 'male_45_49', 'male_50_54', 'male_55_59', 'male_60_64',\n",
              "       'under18_rate', 'over65_rate', 'lots_total', 'lots_vacant',\n",
              "       'pct_white_nh', 'pct_black_nh', 'pct_asian_nh', 'pct_other_nh',\n",
              "       'pct_hispanic', 'mean_commute', 'pop_change_00_10', 'pct_clean_strts',\n",
              "       'unemployment', 'poverty_rate', 'lep_rate_boro', 'pct_hh_rent_burd'],\n",
              "      dtype='object')"
            ]
          },
          "metadata": {
            "tags": []
          },
          "execution_count": 3
        }
      ]
    },
    {
      "cell_type": "markdown",
      "metadata": {
        "id": "qHyoRIrf0w8C"
      },
      "source": [
        "# Line Plot: Total Calls by Hour and Agency\n",
        "We'll create a line plot to visualize how calls are distributed across different hours of the day among the top agencies. The function below creates a frequency dictionary with total calls by hour for a given agency."
      ]
    },
    {
      "cell_type": "code",
      "metadata": {
        "id": "mHYSxkddxVwE"
      },
      "source": [
        "def hour_call_freq_df(agency):\n",
        "\n",
        "  \"\"\"Takes in an agency name as a string. Returns a dataframe with agencies \n",
        "     and the total number of calls related to the given agency that were made \n",
        "     at each hour of the day.\"\"\"\n",
        "\n",
        "  subset = df[df.agency==agency]\n",
        "    \n",
        "  call_freqs_by_hour = {}\n",
        "    \n",
        "  for hour in subset.hour:\n",
        "    \n",
        "      if hour not in call_freqs_by_hour: \n",
        "            call_freqs_by_hour[hour] = 1\n",
        "        \n",
        "      else:\n",
        "            call_freqs_by_hour[hour] += 1\n",
        "  \n",
        "  freq_df = pd.DataFrame.from_dict(call_freqs_by_hour, orient='index',\n",
        "                                   columns=['{}'.format(agency)])\n",
        "    \n",
        "  return freq_df.sort_index()"
      ],
      "execution_count": 4,
      "outputs": []
    },
    {
      "cell_type": "markdown",
      "metadata": {
        "id": "AQenp7an12Gl"
      },
      "source": [
        "Below, we create dictionaries for each of the top 5 agencies that receive the most calls."
      ]
    },
    {
      "cell_type": "code",
      "metadata": {
        "id": "cKuKXOp82gXC"
      },
      "source": [
        "NYPD = hour_call_freq_df('NYPD')\n",
        "HPD = hour_call_freq_df('HPD')\n",
        "DPR = hour_call_freq_df('DPR')\n",
        "DOT = hour_call_freq_df('DOT')\n",
        "DEP = hour_call_freq_df('DEP')\n",
        "DSNY = hour_call_freq_df('DSNY')"
      ],
      "execution_count": 5,
      "outputs": []
    },
    {
      "cell_type": "markdown",
      "metadata": {
        "id": "k7WYFVTb2kEX"
      },
      "source": [
        "For each dictionary, hours are displayed on the x-axis and total calls are displayed on the y-axis."
      ]
    },
    {
      "cell_type": "code",
      "metadata": {
        "colab": {
          "base_uri": "https://localhost:8080/",
          "height": 916
        },
        "id": "Fe2nHrpF1M8B",
        "outputId": "07b6a3da-f1e8-427e-974a-905015c1b1b1"
      },
      "source": [
        "font_dict = dict(size=20, color=\"#58508d\", fontweight='bold')\n",
        "title_font_dict = dict(size=27, color=\"#58508d\", fontweight='bold')\n",
        "\n",
        "plt.figure(figsize=(15, 15))\n",
        "plt.plot(NYPD.index, NYPD.NYPD, label=\"NYPD\", linewidth=5)\n",
        "plt.plot(HPD.index, HPD.HPD, label=\"HPD\", linewidth=5)\n",
        "plt.plot(DPR.index, DPR.DPR, label=\"DPR\", linewidth=5)\n",
        "plt.plot(DOT.index, DOT.DOT, label=\"DOT\", linewidth=5)\n",
        "plt.plot(DEP.index, DEP.DEP, label=\"DEP\", linewidth=5)\n",
        "plt.ylabel('Total Calls', fontdict=font_dict)\n",
        "plt.xlabel('Hour', fontdict=font_dict)\n",
        "plt.title('Total Calls by Hour and Agency', fontdict=title_font_dict)\n",
        "plt.legend(title=\"Agency\", title_fontsize=20, fontsize=18, \n",
        "           bbox_to_anchor=[1,1]) #position legend outside of plot\n",
        "plt.xticks(fontsize=15)\n",
        "plt.yticks(fontsize=15)\n",
        "plt.xlim(right=23) \n",
        "plt.xlim(left=0) \n",
        "plt.grid()"
      ],
      "execution_count": 6,
      "outputs": [
        {
          "output_type": "display_data",
          "data": {
            "image/png": "[encoded data removed]",
            "text/plain": [
              "<Figure size 1080x1080 with 1 Axes>"
            ]
          },
          "metadata": {
            "tags": [],
            "needs_background": "light"
          }
        }
      ]
    },
    {
      "cell_type": "markdown",
      "metadata": {
        "id": "4iADIBgM32gt"
      },
      "source": [
        "Most calls to the NYPD are made between 8PM and 5AM. Calls to other top agencies, conversely, peak during the day."
      ]
    },
    {
      "cell_type": "markdown",
      "metadata": {
        "id": "ZhqhpGqVejIo"
      },
      "source": [
        "## Area Plots for Call Volume by Complaint Type\n",
        "To visualize how the volume of calls changes over time for specific complaint type categories, we'll create some area plots. The below function creates a dataframe with the day-by-day call frequencies for a given complaint type, which will allow these values to be easily plotted."
      ]
    },
    {
      "cell_type": "code",
      "metadata": {
        "id": "4hrLJ-KzaEyo"
      },
      "source": [
        "def call_freq_df(complaint_type):\n",
        "  \n",
        "  \"\"\"Takes in a complaint type as a string. Returns a dataframe with dates \n",
        "     and the total number of calls related to the given complaint that were made \n",
        "     on each date.\"\"\"\n",
        "    \n",
        "  subset = df[df.complaint_type==complaint_type]\n",
        "    \n",
        "  call_freqs_by_date = {}\n",
        "    \n",
        "  for date in subset.day:\n",
        "    \n",
        "      if date not in call_freqs_by_date: \n",
        "            call_freqs_by_date[date] = 1\n",
        "        \n",
        "      else:\n",
        "            call_freqs_by_date[date] += 1\n",
        "    \n",
        "  freq_df = pd.DataFrame.from_dict(call_freqs_by_date, orient='index', \n",
        "                                   columns=['{}'.format(complaint_type)])\n",
        "    \n",
        "  return freq_df"
      ],
      "execution_count": 7,
      "outputs": []
    },
    {
      "cell_type": "code",
      "metadata": {
        "id": "qio5lWFTaNdC"
      },
      "source": [
        "#create subsetted dataframes with complaints related to COVID-19\n",
        "noncompliance = call_freq_df('Noncompliance With Phased Reopening')\n",
        "mgc = call_freq_df('Mass Gathering Complaint')"
      ],
      "execution_count": 8,
      "outputs": []
    },
    {
      "cell_type": "code",
      "metadata": {
        "id": "xO6N9pqVaTHh",
        "colab": {
          "base_uri": "https://localhost:8080/",
          "height": 716
        },
        "outputId": "dbc00bb0-60b9-4ed4-cfc8-41bf98b44c8b"
      },
      "source": [
        "#create and show area plot for COVID-related complaints\n",
        "covid_fig = go.Figure()\n",
        "\n",
        "\n",
        "covid_fig.add_trace(go.Scatter(\n",
        "    x=noncompliance.index, y=noncompliance['Noncompliance With Phased Reopening'],\n",
        "    hoverinfo='x+y',\n",
        "    mode='lines',\n",
        "    line=dict(width=0.5, color='#FF0000'), name='Noncompliance W/ Phased Reopening',\n",
        "    stackgroup='one' \n",
        "))\n",
        "\n",
        "covid_fig.add_trace(go.Scatter(\n",
        "    x=mgc.index, y=mgc['Mass Gathering Complaint'],\n",
        "    hoverinfo='x+y',\n",
        "    mode='lines',\n",
        "    line=dict(width=0.5, color='#000000'), name=\"Mass Gathering Complaint\",\n",
        "    stackgroup='two'\n",
        "))\n",
        "    \n",
        "\n",
        "covid_fig.update_layout(legend=dict(\n",
        "    yanchor=\"top\",\n",
        "    y=0.99,\n",
        "    xanchor=\"left\",\n",
        "    x=0.001\n",
        "))\n",
        "\n",
        "\n",
        "covid_fig.update_layout(title=\"COVID-19\", height=700,\n",
        "                  xaxis_title=\"Date\",\n",
        "                  yaxis_title=\"Total Calls\", \n",
        "\n",
        "font=dict(family=\"silom\",\n",
        "          size=14, color=\"#58508d\"))\n",
        "\n",
        "covid_fig.show()"
      ],
      "execution_count": 9,
      "outputs": [
        {
          "output_type": "display_data",
          "data": {
            "text/html": [
              "        <script type=\"text/javascript\">\n",
              "        window.PlotlyConfig = {MathJaxConfig: 'local'};\n",
              "        if (window.MathJax) {MathJax.Hub.Config({SVG: {font: \"STIX-Web\"}});}\n",
              "        if (typeof require !== 'undefined') {\n",
              "        require.undef(\"plotly\");\n",
              "        requirejs.config({\n",
              "            paths: {\n",
              "                'plotly': ['https://cdn.plot.ly/plotly-latest.min']\n",
              "            }\n",
              "        });\n",
              "        require(['plotly'], function(Plotly) {\n",
              "            window._Plotly = Plotly;\n",
              "        });\n",
              "        }\n",
              "        </script>\n",
              "        "
            ]
          },
          "metadata": {
            "tags": []
          }
        },
        {
          "output_type": "display_data",
          "data": {
            "text/html": [
              "<div>\n",
              "        \n",
              "        \n",
              "            <div id=\"04354660-647f-447c-9182-94ea304b3a1b\" class=\"plotly-graph-div\" style=\"height:700px; width:100%;\"></div>\n",
              "            <script type=\"text/javascript\">\n",
              "                require([\"plotly\"], function(Plotly) {\n",
              "                    window.PLOTLYENV=window.PLOTLYENV || {};\n",
              "                    \n",
              "                if (document.getElementById(\"04354660-647f-447c-9182-94ea304b3a1b\")) {\n",
              "                    Plotly.newPlot(\n",
              "                        '04354660-647f-447c-9182-94ea304b3a1b',\n",
              "                        [{\"hoverinfo\": \"x+y\", \"line\": {\"color\": \"#FF0000\", \"width\": 0.5}, \"mode\": \"lines\", \"name\": \"Noncompliance W/ Phased Reopening\", \"stackgroup\": \"one\", \"type\": \"scatter\", \"x\": [\"2020-06-10\", \"2020-06-11\", \"2020-06-13\", \"2020-06-14\", \"2020-06-16\", \"2020-06-17\", \"2020-06-18\", \"2020-06-19\", \"2020-06-21\", \"2020-06-24\", \"2020-06-27\", \"2020-06-28\", \"2020-06-30\", \"2020-07-01\", \"2020-07-02\", \"2020-07-03\", \"2020-07-04\", \"2020-07-06\", \"2020-07-07\", \"2020-07-08\", \"2020-07-09\", \"2020-07-11\", \"2020-07-12\", \"2020-07-13\", \"2020-07-14\", \"2020-07-15\", \"2020-07-16\", \"2020-07-17\", \"2020-07-18\", \"2020-07-19\", \"2020-07-20\", \"2020-07-21\", \"2020-07-22\", \"2020-07-23\", \"2020-07-24\", \"2020-07-25\", \"2020-07-26\", \"2020-07-27\", \"2020-07-28\", \"2020-07-29\", \"2020-07-30\", \"2020-07-31\", \"2020-08-01\", \"2020-08-02\", \"2020-08-03\", \"2020-08-04\", \"2020-08-05\", \"2020-08-06\", \"2020-08-07\", \"2020-08-08\", \"2020-08-09\", \"2020-08-10\", \"2020-08-11\", \"2020-08-12\", \"2020-08-13\", \"2020-08-14\", \"2020-08-16\", \"2020-08-17\", \"2020-08-18\", \"2020-08-19\", \"2020-08-20\", \"2020-08-22\", \"2020-08-24\", \"2020-08-25\", \"2020-08-26\", \"2020-08-28\", \"2020-08-29\", \"2020-08-30\", \"2020-08-31\", \"2020-09-01\", \"2020-09-04\", \"2020-09-05\", \"2020-09-09\", \"2020-09-10\", \"2020-09-12\", \"2020-09-13\", \"2020-09-14\", \"2020-09-15\", \"2020-09-16\", \"2020-09-18\", \"2020-09-20\", \"2020-09-21\", \"2020-09-23\", \"2020-09-25\", \"2020-09-27\", \"2020-09-28\", \"2020-09-29\", \"2020-09-30\", \"2020-10-02\", \"2020-10-03\", \"2020-10-04\", \"2020-10-05\", \"2020-10-06\", \"2020-10-07\", \"2020-10-09\", \"2020-10-10\", \"2020-10-11\", \"2020-10-13\", \"2020-10-15\", \"2020-10-18\", \"2020-10-21\", \"2020-10-24\", \"2020-10-25\", \"2020-10-27\", \"2020-10-28\", \"2020-10-29\", \"2020-10-30\", \"2020-10-31\", \"2020-11-02\", \"2020-11-03\", \"2020-11-05\", \"2020-11-06\", \"2020-11-08\", \"2020-11-09\", \"2020-11-10\", \"2020-11-11\", \"2020-11-13\", \"2020-11-14\", \"2020-11-15\", \"2020-11-17\", \"2020-11-18\", \"2020-11-19\", \"2020-11-20\", \"2020-11-22\", \"2020-11-23\", \"2020-06-12\", \"2020-06-22\", \"2020-06-25\", \"2020-06-26\", \"2020-06-29\", \"2020-07-05\", \"2020-07-10\", \"2020-08-15\", \"2020-08-21\", \"2020-08-23\", \"2020-08-27\", \"2020-09-02\", \"2020-09-03\", \"2020-09-07\", \"2020-09-08\", \"2020-09-11\", \"2020-09-19\", \"2020-09-22\", \"2020-09-24\", \"2020-09-26\", \"2020-10-01\", \"2020-10-08\", \"2020-10-12\", \"2020-10-14\", \"2020-10-17\", \"2020-10-19\", \"2020-10-20\", \"2020-10-22\", \"2020-10-23\", \"2020-10-26\", \"2020-11-01\", \"2020-11-07\", \"2020-11-12\", \"2020-11-16\", \"2020-11-21\", \"2020-11-24\", \"2020-06-08\", \"2020-06-09\", \"2020-06-15\", \"2020-06-23\", \"2020-09-06\", \"2020-09-17\", \"2020-10-16\", \"2020-11-04\", \"2020-06-20\", \"2020-11-25\", \"2020-06-05\"], \"y\": [106, 119, 132, 255, 169, 148, 133, 115, 63, 119, 119, 104, 123, 120, 144, 78, 57, 373, 353, 384, 449, 488, 385, 392, 307, 363, 472, 587, 501, 468, 385, 390, 356, 323, 380, 445, 388, 366, 350, 344, 358, 450, 495, 410, 435, 254, 353, 342, 347, 398, 323, 286, 290, 334, 330, 372, 229, 268, 259, 226, 276, 289, 245, 259, 203, 226, 221, 239, 197, 201, 255, 218, 246, 228, 335, 275, 219, 185, 228, 229, 202, 180, 234, 355, 287, 262, 333, 269, 357, 312, 310, 391, 303, 309, 376, 459, 317, 275, 308, 286, 266, 266, 205, 194, 210, 178, 234, 245, 184, 147, 174, 199, 188, 191, 198, 231, 319, 372, 302, 238, 255, 256, 345, 284, 278, 126, 111, 125, 145, 96, 75, 353, 304, 300, 258, 217, 221, 229, 178, 253, 300, 242, 198, 221, 351, 293, 358, 230, 307, 278, 269, 233, 239, 252, 211, 204, 168, 238, 237, 311, 225, 102, 111, 202, 107, 200, 216, 244, 144, 112, 5, 4]}, {\"hoverinfo\": \"x+y\", \"line\": {\"color\": \"#000000\", \"width\": 0.5}, \"mode\": \"lines\", \"name\": \"Mass Gathering Complaint\", \"stackgroup\": \"two\", \"type\": \"scatter\", \"x\": [\"2020-10-22\", \"2020-10-25\", \"2020-10-31\", \"2020-11-01\", \"2020-11-08\", \"2020-11-20\", \"2020-11-24\", \"2020-10-20\", \"2020-11-03\", \"2020-11-14\", \"2020-11-15\", \"2020-11-21\", \"2020-10-19\", \"2020-10-23\", \"2020-10-30\", \"2020-11-06\", \"2020-11-12\", \"2020-11-13\", \"2020-11-22\", \"2020-11-23\", \"2020-10-24\", \"2020-10-29\", \"2020-11-07\", \"2020-11-11\", \"2020-11-19\", \"2020-10-21\", \"2020-10-26\", \"2020-10-28\", \"2020-11-04\", \"2020-11-09\", \"2020-10-27\", \"2020-11-16\", \"2020-11-17\", \"2020-11-10\", \"2020-11-25\", \"2020-11-05\", \"2020-11-18\", \"2020-11-02\"], \"y\": [31, 48, 138, 83, 58, 57, 17, 25, 5, 137, 79, 114, 7, 59, 38, 40, 21, 47, 60, 20, 105, 8, 102, 17, 21, 14, 26, 14, 12, 21, 14, 18, 13, 24, 1, 8, 12, 13]}],\n",
              "                        {\"font\": {\"color\": \"#58508d\", \"family\": \"silom\", \"size\": 14}, \"height\": 700, \"legend\": {\"x\": 0.001, \"xanchor\": \"left\", \"y\": 0.99, \"yanchor\": \"top\"}, \"template\": {\"data\": {\"bar\": [{\"error_x\": {\"color\": \"#2a3f5f\"}, \"error_y\": {\"color\": \"#2a3f5f\"}, \"marker\": {\"line\": {\"color\": \"#E5ECF6\", \"width\": 0.5}}, \"type\": \"bar\"}], \"barpolar\": [{\"marker\": {\"line\": {\"color\": \"#E5ECF6\", \"width\": 0.5}}, \"type\": \"barpolar\"}], \"carpet\": [{\"aaxis\": {\"endlinecolor\": \"#2a3f5f\", \"gridcolor\": \"white\", \"linecolor\": \"white\", \"minorgridcolor\": \"white\", \"startlinecolor\": \"#2a3f5f\"}, \"baxis\": {\"endlinecolor\": \"#2a3f5f\", \"gridcolor\": \"white\", \"linecolor\": \"white\", \"minorgridcolor\": \"white\", \"startlinecolor\": \"#2a3f5f\"}, \"type\": \"carpet\"}], \"choropleth\": [{\"colorbar\": {\"outlinewidth\": 0, \"ticks\": \"\"}, \"type\": \"choropleth\"}], \"contour\": [{\"colorbar\": {\"outlinewidth\": 0, \"ticks\": \"\"}, \"colorscale\": [[0.0, \"#0d0887\"], [0.1111111111111111, \"#46039f\"], [0.2222222222222222, \"#7201a8\"], [0.3333333333333333, \"#9c179e\"], [0.4444444444444444, \"#bd3786\"], [0.5555555555555556, \"#d8576b\"], [0.6666666666666666, \"#ed7953\"], [0.7777777777777778, \"#fb9f3a\"], [0.8888888888888888, \"#fdca26\"], [1.0, \"#f0f921\"]], \"type\": \"contour\"}], \"contourcarpet\": [{\"colorbar\": {\"outlinewidth\": 0, \"ticks\": \"\"}, \"type\": \"contourcarpet\"}], \"heatmap\": [{\"colorbar\": {\"outlinewidth\": 0, \"ticks\": \"\"}, \"colorscale\": [[0.0, \"#0d0887\"], [0.1111111111111111, \"#46039f\"], [0.2222222222222222, \"#7201a8\"], [0.3333333333333333, \"#9c179e\"], [0.4444444444444444, \"#bd3786\"], [0.5555555555555556, \"#d8576b\"], [0.6666666666666666, \"#ed7953\"], [0.7777777777777778, \"#fb9f3a\"], [0.8888888888888888, \"#fdca26\"], [1.0, \"#f0f921\"]], \"type\": \"heatmap\"}], \"heatmapgl\": [{\"colorbar\": {\"outlinewidth\": 0, \"ticks\": \"\"}, \"colorscale\": [[0.0, \"#0d0887\"], [0.1111111111111111, \"#46039f\"], [0.2222222222222222, \"#7201a8\"], [0.3333333333333333, \"#9c179e\"], [0.4444444444444444, \"#bd3786\"], [0.5555555555555556, \"#d8576b\"], [0.6666666666666666, \"#ed7953\"], [0.7777777777777778, \"#fb9f3a\"], [0.8888888888888888, \"#fdca26\"], [1.0, \"#f0f921\"]], \"type\": \"heatmapgl\"}], \"histogram\": [{\"marker\": {\"colorbar\": {\"outlinewidth\": 0, \"ticks\": \"\"}}, \"type\": \"histogram\"}], \"histogram2d\": [{\"colorbar\": {\"outlinewidth\": 0, \"ticks\": \"\"}, \"colorscale\": [[0.0, \"#0d0887\"], [0.1111111111111111, \"#46039f\"], [0.2222222222222222, \"#7201a8\"], [0.3333333333333333, \"#9c179e\"], [0.4444444444444444, \"#bd3786\"], [0.5555555555555556, \"#d8576b\"], [0.6666666666666666, \"#ed7953\"], [0.7777777777777778, \"#fb9f3a\"], [0.8888888888888888, \"#fdca26\"], [1.0, \"#f0f921\"]], \"type\": \"histogram2d\"}], \"histogram2dcontour\": [{\"colorbar\": {\"outlinewidth\": 0, \"ticks\": \"\"}, \"colorscale\": [[0.0, \"#0d0887\"], [0.1111111111111111, \"#46039f\"], [0.2222222222222222, \"#7201a8\"], [0.3333333333333333, \"#9c179e\"], [0.4444444444444444, \"#bd3786\"], [0.5555555555555556, \"#d8576b\"], [0.6666666666666666, \"#ed7953\"], [0.7777777777777778, \"#fb9f3a\"], [0.8888888888888888, \"#fdca26\"], [1.0, \"#f0f921\"]], \"type\": \"histogram2dcontour\"}], \"mesh3d\": [{\"colorbar\": {\"outlinewidth\": 0, \"ticks\": \"\"}, \"type\": \"mesh3d\"}], \"parcoords\": [{\"line\": {\"colorbar\": {\"outlinewidth\": 0, \"ticks\": \"\"}}, \"type\": \"parcoords\"}], \"pie\": [{\"automargin\": true, \"type\": \"pie\"}], \"scatter\": [{\"marker\": {\"colorbar\": {\"outlinewidth\": 0, \"ticks\": \"\"}}, \"type\": \"scatter\"}], \"scatter3d\": [{\"line\": {\"colorbar\": {\"outlinewidth\": 0, \"ticks\": \"\"}}, \"marker\": {\"colorbar\": {\"outlinewidth\": 0, \"ticks\": \"\"}}, \"type\": \"scatter3d\"}], \"scattercarpet\": [{\"marker\": {\"colorbar\": {\"outlinewidth\": 0, \"ticks\": \"\"}}, \"type\": \"scattercarpet\"}], \"scattergeo\": [{\"marker\": {\"colorbar\": {\"outlinewidth\": 0, \"ticks\": \"\"}}, \"type\": \"scattergeo\"}], \"scattergl\": [{\"marker\": {\"colorbar\": {\"outlinewidth\": 0, \"ticks\": \"\"}}, \"type\": \"scattergl\"}], \"scattermapbox\": [{\"marker\": {\"colorbar\": {\"outlinewidth\": 0, \"ticks\": \"\"}}, \"type\": \"scattermapbox\"}], \"scatterpolar\": [{\"marker\": {\"colorbar\": {\"outlinewidth\": 0, \"ticks\": \"\"}}, \"type\": \"scatterpolar\"}], \"scatterpolargl\": [{\"marker\": {\"colorbar\": {\"outlinewidth\": 0, \"ticks\": \"\"}}, \"type\": \"scatterpolargl\"}], \"scatterternary\": [{\"marker\": {\"colorbar\": {\"outlinewidth\": 0, \"ticks\": \"\"}}, \"type\": \"scatterternary\"}], \"surface\": [{\"colorbar\": {\"outlinewidth\": 0, \"ticks\": \"\"}, \"colorscale\": [[0.0, \"#0d0887\"], [0.1111111111111111, \"#46039f\"], [0.2222222222222222, \"#7201a8\"], [0.3333333333333333, \"#9c179e\"], [0.4444444444444444, \"#bd3786\"], [0.5555555555555556, \"#d8576b\"], [0.6666666666666666, \"#ed7953\"], [0.7777777777777778, \"#fb9f3a\"], [0.8888888888888888, \"#fdca26\"], [1.0, \"#f0f921\"]], \"type\": \"surface\"}], \"table\": [{\"cells\": {\"fill\": {\"color\": \"#EBF0F8\"}, \"line\": {\"color\": \"white\"}}, \"header\": {\"fill\": {\"color\": \"#C8D4E3\"}, \"line\": {\"color\": \"white\"}}, \"type\": \"table\"}]}, \"layout\": {\"annotationdefaults\": {\"arrowcolor\": \"#2a3f5f\", \"arrowhead\": 0, \"arrowwidth\": 1}, \"coloraxis\": {\"colorbar\": {\"outlinewidth\": 0, \"ticks\": \"\"}}, \"colorscale\": {\"diverging\": [[0, \"#8e0152\"], [0.1, \"#c51b7d\"], [0.2, \"#de77ae\"], [0.3, \"#f1b6da\"], [0.4, \"#fde0ef\"], [0.5, \"#f7f7f7\"], [0.6, \"#e6f5d0\"], [0.7, \"#b8e186\"], [0.8, \"#7fbc41\"], [0.9, \"#4d9221\"], [1, \"#276419\"]], \"sequential\": [[0.0, \"#0d0887\"], [0.1111111111111111, \"#46039f\"], [0.2222222222222222, \"#7201a8\"], [0.3333333333333333, \"#9c179e\"], [0.4444444444444444, \"#bd3786\"], [0.5555555555555556, \"#d8576b\"], [0.6666666666666666, \"#ed7953\"], [0.7777777777777778, \"#fb9f3a\"], [0.8888888888888888, \"#fdca26\"], [1.0, \"#f0f921\"]], \"sequentialminus\": [[0.0, \"#0d0887\"], [0.1111111111111111, \"#46039f\"], [0.2222222222222222, \"#7201a8\"], [0.3333333333333333, \"#9c179e\"], [0.4444444444444444, \"#bd3786\"], [0.5555555555555556, \"#d8576b\"], [0.6666666666666666, \"#ed7953\"], [0.7777777777777778, \"#fb9f3a\"], [0.8888888888888888, \"#fdca26\"], [1.0, \"#f0f921\"]]}, \"colorway\": [\"#636efa\", \"#EF553B\", \"#00cc96\", \"#ab63fa\", \"#FFA15A\", \"#19d3f3\", \"#FF6692\", \"#B6E880\", \"#FF97FF\", \"#FECB52\"], \"font\": {\"color\": \"#2a3f5f\"}, \"geo\": {\"bgcolor\": \"white\", \"lakecolor\": \"white\", \"landcolor\": \"#E5ECF6\", \"showlakes\": true, \"showland\": true, \"subunitcolor\": \"white\"}, \"hoverlabel\": {\"align\": \"left\"}, \"hovermode\": \"closest\", \"mapbox\": {\"style\": \"light\"}, \"paper_bgcolor\": \"white\", \"plot_bgcolor\": \"#E5ECF6\", \"polar\": {\"angularaxis\": {\"gridcolor\": \"white\", \"linecolor\": \"white\", \"ticks\": \"\"}, \"bgcolor\": \"#E5ECF6\", \"radialaxis\": {\"gridcolor\": \"white\", \"linecolor\": \"white\", \"ticks\": \"\"}}, \"scene\": {\"xaxis\": {\"backgroundcolor\": \"#E5ECF6\", \"gridcolor\": \"white\", \"gridwidth\": 2, \"linecolor\": \"white\", \"showbackground\": true, \"ticks\": \"\", \"zerolinecolor\": \"white\"}, \"yaxis\": {\"backgroundcolor\": \"#E5ECF6\", \"gridcolor\": \"white\", \"gridwidth\": 2, \"linecolor\": \"white\", \"showbackground\": true, \"ticks\": \"\", \"zerolinecolor\": \"white\"}, \"zaxis\": {\"backgroundcolor\": \"#E5ECF6\", \"gridcolor\": \"white\", \"gridwidth\": 2, \"linecolor\": \"white\", \"showbackground\": true, \"ticks\": \"\", \"zerolinecolor\": \"white\"}}, \"shapedefaults\": {\"line\": {\"color\": \"#2a3f5f\"}}, \"ternary\": {\"aaxis\": {\"gridcolor\": \"white\", \"linecolor\": \"white\", \"ticks\": \"\"}, \"baxis\": {\"gridcolor\": \"white\", \"linecolor\": \"white\", \"ticks\": \"\"}, \"bgcolor\": \"#E5ECF6\", \"caxis\": {\"gridcolor\": \"white\", \"linecolor\": \"white\", \"ticks\": \"\"}}, \"title\": {\"x\": 0.05}, \"xaxis\": {\"automargin\": true, \"gridcolor\": \"white\", \"linecolor\": \"white\", \"ticks\": \"\", \"title\": {\"standoff\": 15}, \"zerolinecolor\": \"white\", \"zerolinewidth\": 2}, \"yaxis\": {\"automargin\": true, \"gridcolor\": \"white\", \"linecolor\": \"white\", \"ticks\": \"\", \"title\": {\"standoff\": 15}, \"zerolinecolor\": \"white\", \"zerolinewidth\": 2}}}, \"title\": {\"text\": \"COVID-19\"}, \"xaxis\": {\"title\": {\"text\": \"Date\"}}, \"yaxis\": {\"title\": {\"text\": \"Total Calls\"}}},\n",
              "                        {\"responsive\": true}\n",
              "                    ).then(function(){\n",
              "                            \n",
              "var gd = document.getElementById('04354660-647f-447c-9182-94ea304b3a1b');\n",
              "var x = new MutationObserver(function (mutations, observer) {{\n",
              "        var display = window.getComputedStyle(gd).display;\n",
              "        if (!display || display === 'none') {{\n",
              "            console.log([gd, 'removed!']);\n",
              "            Plotly.purge(gd);\n",
              "            observer.disconnect();\n",
              "        }}\n",
              "}});\n",
              "\n",
              "// Listen for the removal of the full notebook cells\n",
              "var notebookContainer = gd.closest('#notebook-container');\n",
              "if (notebookContainer) {{\n",
              "    x.observe(notebookContainer, {childList: true});\n",
              "}}\n",
              "\n",
              "// Listen for the clearing of the current output cell\n",
              "var outputEl = gd.closest('.output');\n",
              "if (outputEl) {{\n",
              "    x.observe(outputEl, {childList: true});\n",
              "}}\n",
              "\n",
              "                        })\n",
              "                };\n",
              "                });\n",
              "            </script>\n",
              "        </div>"
            ],
            "application/vnd.plotly.v1+json": {
              "data": [
                {
                  "name": "Noncompliance W/ Phased Reopening",
                  "stackgroup": "one",
                  "mode": "lines",
                  "hoverinfo": "x+y",
                  "y": [
                    106,
                    119,
                    132,
                    255,
                    169,
                    148,
                    133,
                    115,
                    63,
                    119,
                    119,
                    104,
                    123,
                    120,
                    144,
                    78,
                    57,
                    373,
                    353,
                    384,
                    449,
                    488,
                    385,
                    392,
                    307,
                    363,
                    472,
                    587,
                    501,
                    468,
                    385,
                    390,
                    356,
                    323,
                    380,
                    445,
                    388,
                    366,
                    350,
                    344,
                    358,
                    450,
                    495,
                    410,
                    435,
                    254,
                    353,
                    342,
                    347,
                    398,
                    323,
                    286,
                    290,
                    334,
                    330,
                    372,
                    229,
                    268,
                    259,
                    226,
                    276,
                    289,
                    245,
                    259,
                    203,
                    226,
                    221,
                    239,
                    197,
                    201,
                    255,
                    218,
                    246,
                    228,
                    335,
                    275,
                    219,
                    185,
                    228,
                    229,
                    202,
                    180,
                    234,
                    355,
                    287,
                    262,
                    333,
                    269,
                    357,
                    312,
                    310,
                    391,
                    303,
                    309,
                    376,
                    459,
                    317,
                    275,
                    308,
                    286,
                    266,
                    266,
                    205,
                    194,
                    210,
                    178,
                    234,
                    245,
                    184,
                    147,
                    174,
                    199,
                    188,
                    191,
                    198,
                    231,
                    319,
                    372,
                    302,
                    238,
                    255,
                    256,
                    345,
                    284,
                    278,
                    126,
                    111,
                    125,
                    145,
                    96,
                    75,
                    353,
                    304,
                    300,
                    258,
                    217,
                    221,
                    229,
                    178,
                    253,
                    300,
                    242,
                    198,
                    221,
                    351,
                    293,
                    358,
                    230,
                    307,
                    278,
                    269,
                    233,
                    239,
                    252,
                    211,
                    204,
                    168,
                    238,
                    237,
                    311,
                    225,
                    102,
                    111,
                    202,
                    107,
                    200,
                    216,
                    244,
                    144,
                    112,
                    5,
                    4
                  ],
                  "x": [
                    "2020-06-10",
                    "2020-06-11",
                    "2020-06-13",
                    "2020-06-14",
                    "2020-06-16",
                    "2020-06-17",
                    "2020-06-18",
                    "2020-06-19",
                    "2020-06-21",
                    "2020-06-24",
                    "2020-06-27",
                    "2020-06-28",
                    "2020-06-30",
                    "2020-07-01",
                    "2020-07-02",
                    "2020-07-03",
                    "2020-07-04",
                    "2020-07-06",
                    "2020-07-07",
                    "2020-07-08",
                    "2020-07-09",
                    "2020-07-11",
                    "2020-07-12",
                    "2020-07-13",
                    "2020-07-14",
                    "2020-07-15",
                    "2020-07-16",
                    "2020-07-17",
                    "2020-07-18",
                    "2020-07-19",
                    "2020-07-20",
                    "2020-07-21",
                    "2020-07-22",
                    "2020-07-23",
                    "2020-07-24",
                    "2020-07-25",
                    "2020-07-26",
                    "2020-07-27",
                    "2020-07-28",
                    "2020-07-29",
                    "2020-07-30",
                    "2020-07-31",
                    "2020-08-01",
                    "2020-08-02",
                    "2020-08-03",
                    "2020-08-04",
                    "2020-08-05",
                    "2020-08-06",
                    "2020-08-07",
                    "2020-08-08",
                    "2020-08-09",
                    "2020-08-10",
                    "2020-08-11",
                    "2020-08-12",
                    "2020-08-13",
                    "2020-08-14",
                    "2020-08-16",
                    "2020-08-17",
                    "2020-08-18",
                    "2020-08-19",
                    "2020-08-20",
                    "2020-08-22",
                    "2020-08-24",
                    "2020-08-25",
                    "2020-08-26",
                    "2020-08-28",
                    "2020-08-29",
                    "2020-08-30",
                    "2020-08-31",
                    "2020-09-01",
                    "2020-09-04",
                    "2020-09-05",
                    "2020-09-09",
                    "2020-09-10",
                    "2020-09-12",
                    "2020-09-13",
                    "2020-09-14",
                    "2020-09-15",
                    "2020-09-16",
                    "2020-09-18",
                    "2020-09-20",
                    "2020-09-21",
                    "2020-09-23",
                    "2020-09-25",
                    "2020-09-27",
                    "2020-09-28",
                    "2020-09-29",
                    "2020-09-30",
                    "2020-10-02",
                    "2020-10-03",
                    "2020-10-04",
                    "2020-10-05",
                    "2020-10-06",
                    "2020-10-07",
                    "2020-10-09",
                    "2020-10-10",
                    "2020-10-11",
                    "2020-10-13",
                    "2020-10-15",
                    "2020-10-18",
                    "2020-10-21",
                    "2020-10-24",
                    "2020-10-25",
                    "2020-10-27",
                    "2020-10-28",
                    "2020-10-29",
                    "2020-10-30",
                    "2020-10-31",
                    "2020-11-02",
                    "2020-11-03",
                    "2020-11-05",
                    "2020-11-06",
                    "2020-11-08",
                    "2020-11-09",
                    "2020-11-10",
                    "2020-11-11",
                    "2020-11-13",
                    "2020-11-14",
                    "2020-11-15",
                    "2020-11-17",
                    "2020-11-18",
                    "2020-11-19",
                    "2020-11-20",
                    "2020-11-22",
                    "2020-11-23",
                    "2020-06-12",
                    "2020-06-22",
                    "2020-06-25",
                    "2020-06-26",
                    "2020-06-29",
                    "2020-07-05",
                    "2020-07-10",
                    "2020-08-15",
                    "2020-08-21",
                    "2020-08-23",
                    "2020-08-27",
                    "2020-09-02",
                    "2020-09-03",
                    "2020-09-07",
                    "2020-09-08",
                    "2020-09-11",
                    "2020-09-19",
                    "2020-09-22",
                    "2020-09-24",
                    "2020-09-26",
                    "2020-10-01",
                    "2020-10-08",
                    "2020-10-12",
                    "2020-10-14",
                    "2020-10-17",
                    "2020-10-19",
                    "2020-10-20",
                    "2020-10-22",
                    "2020-10-23",
                    "2020-10-26",
                    "2020-11-01",
                    "2020-11-07",
                    "2020-11-12",
                    "2020-11-16",
                    "2020-11-21",
                    "2020-11-24",
                    "2020-06-08",
                    "2020-06-09",
                    "2020-06-15",
                    "2020-06-23",
                    "2020-09-06",
                    "2020-09-17",
                    "2020-10-16",
                    "2020-11-04",
                    "2020-06-20",
                    "2020-11-25",
                    "2020-06-05"
                  ],
                  "line": {
                    "color": "#FF0000",
                    "width": 0.5
                  },
                  "type": "scatter"
                },
                {
                  "name": "Mass Gathering Complaint",
                  "stackgroup": "two",
                  "mode": "lines",
                  "hoverinfo": "x+y",
                  "y": [
                    31,
                    48,
                    138,
                    83,
                    58,
                    57,
                    17,
                    25,
                    5,
                    137,
                    79,
                    114,
                    7,
                    59,
                    38,
                    40,
                    21,
                    47,
                    60,
                    20,
                    105,
                    8,
                    102,
                    17,
                    21,
                    14,
                    26,
                    14,
                    12,
                    21,
                    14,
                    18,
                    13,
                    24,
                    1,
                    8,
                    12,
                    13
                  ],
                  "x": [
                    "2020-10-22",
                    "2020-10-25",
                    "2020-10-31",
                    "2020-11-01",
                    "2020-11-08",
                    "2020-11-20",
                    "2020-11-24",
                    "2020-10-20",
                    "2020-11-03",
                    "2020-11-14",
                    "2020-11-15",
                    "2020-11-21",
                    "2020-10-19",
                    "2020-10-23",
                    "2020-10-30",
                    "2020-11-06",
                    "2020-11-12",
                    "2020-11-13",
                    "2020-11-22",
                    "2020-11-23",
                    "2020-10-24",
                    "2020-10-29",
                    "2020-11-07",
                    "2020-11-11",
                    "2020-11-19",
                    "2020-10-21",
                    "2020-10-26",
                    "2020-10-28",
                    "2020-11-04",
                    "2020-11-09",
                    "2020-10-27",
                    "2020-11-16",
                    "2020-11-17",
                    "2020-11-10",
                    "2020-11-25",
                    "2020-11-05",
                    "2020-11-18",
                    "2020-11-02"
                  ],
                  "line": {
                    "color": "#000000",
                    "width": 0.5
                  },
                  "type": "scatter"
                }
              ],
              "config": {
                "plotlyServerURL": "https://plot.ly"
              },
              "layout": {
                "template": {
                  "layout": {
                    "shapedefaults": {
                      "line": {
                        "color": "#2a3f5f"
                      }
                    },
                    "polar": {
                      "radialaxis": {
                        "ticks": "",
                        "gridcolor": "white",
                        "linecolor": "white"
                      },
                      "bgcolor": "#E5ECF6",
                      "angularaxis": {
                        "ticks": "",
                        "gridcolor": "white",
                        "linecolor": "white"
                      }
                    },
                    "colorway": [
                      "#636efa",
                      "#EF553B",
                      "#00cc96",
                      "#ab63fa",
                      "#FFA15A",
                      "#19d3f3",
                      "#FF6692",
                      "#B6E880",
                      "#FF97FF",
                      "#FECB52"
                    ],
                    "xaxis": {
                      "automargin": true,
                      "title": {
                        "standoff": 15
                      },
                      "zerolinewidth": 2,
                      "ticks": "",
                      "zerolinecolor": "white",
                      "gridcolor": "white",
                      "linecolor": "white"
                    },
                    "colorscale": {
                      "diverging": [
                        [
                          0,
                          "#8e0152"
                        ],
                        [
                          0.1,
                          "#c51b7d"
                        ],
                        [
                          0.2,
                          "#de77ae"
                        ],
                        [
                          0.3,
                          "#f1b6da"
                        ],
                        [
                          0.4,
                          "#fde0ef"
                        ],
                        [
                          0.5,
                          "#f7f7f7"
                        ],
                        [
                          0.6,
                          "#e6f5d0"
                        ],
                        [
                          0.7,
                          "#b8e186"
                        ],
                        [
                          0.8,
                          "#7fbc41"
                        ],
                        [
                          0.9,
                          "#4d9221"
                        ],
                        [
                          1,
                          "#276419"
                        ]
                      ],
                      "sequential": [
                        [
                          0,
                          "#0d0887"
                        ],
                        [
                          0.1111111111111111,
                          "#46039f"
                        ],
                        [
                          0.2222222222222222,
                          "#7201a8"
                        ],
                        [
                          0.3333333333333333,
                          "#9c179e"
                        ],
                        [
                          0.4444444444444444,
                          "#bd3786"
                        ],
                        [
                          0.5555555555555556,
                          "#d8576b"
                        ],
                        [
                          0.6666666666666666,
                          "#ed7953"
                        ],
                        [
                          0.7777777777777778,
                          "#fb9f3a"
                        ],
                        [
                          0.8888888888888888,
                          "#fdca26"
                        ],
                        [
                          1,
                          "#f0f921"
                        ]
                      ],
                      "sequentialminus": [
                        [
                          0,
                          "#0d0887"
                        ],
                        [
                          0.1111111111111111,
                          "#46039f"
                        ],
                        [
                          0.2222222222222222,
                          "#7201a8"
                        ],
                        [
                          0.3333333333333333,
                          "#9c179e"
                        ],
                        [
                          0.4444444444444444,
                          "#bd3786"
                        ],
                        [
                          0.5555555555555556,
                          "#d8576b"
                        ],
                        [
                          0.6666666666666666,
                          "#ed7953"
                        ],
                        [
                          0.7777777777777778,
                          "#fb9f3a"
                        ],
                        [
                          0.8888888888888888,
                          "#fdca26"
                        ],
                        [
                          1,
                          "#f0f921"
                        ]
                      ]
                    },
                    "paper_bgcolor": "white",
                    "plot_bgcolor": "#E5ECF6",
                    "title": {
                      "x": 0.05
                    },
                    "scene": {
                      "zaxis": {
                        "backgroundcolor": "#E5ECF6",
                        "ticks": "",
                        "gridwidth": 2,
                        "showbackground": true,
                        "zerolinecolor": "white",
                        "gridcolor": "white",
                        "linecolor": "white"
                      },
                      "xaxis": {
                        "backgroundcolor": "#E5ECF6",
                        "ticks": "",
                        "gridwidth": 2,
                        "showbackground": true,
                        "zerolinecolor": "white",
                        "gridcolor": "white",
                        "linecolor": "white"
                      },
                      "yaxis": {
                        "backgroundcolor": "#E5ECF6",
                        "ticks": "",
                        "gridwidth": 2,
                        "showbackground": true,
                        "zerolinecolor": "white",
                        "gridcolor": "white",
                        "linecolor": "white"
                      }
                    },
                    "yaxis": {
                      "automargin": true,
                      "title": {
                        "standoff": 15
                      },
                      "zerolinewidth": 2,
                      "ticks": "",
                      "zerolinecolor": "white",
                      "gridcolor": "white",
                      "linecolor": "white"
                    },
                    "annotationdefaults": {
                      "arrowwidth": 1,
                      "arrowhead": 0,
                      "arrowcolor": "#2a3f5f"
                    },
                    "hoverlabel": {
                      "align": "left"
                    },
                    "ternary": {
                      "bgcolor": "#E5ECF6",
                      "baxis": {
                        "ticks": "",
                        "gridcolor": "white",
                        "linecolor": "white"
                      },
                      "caxis": {
                        "ticks": "",
                        "gridcolor": "white",
                        "linecolor": "white"
                      },
                      "aaxis": {
                        "ticks": "",
                        "gridcolor": "white",
                        "linecolor": "white"
                      }
                    },
                    "mapbox": {
                      "style": "light"
                    },
                    "hovermode": "closest",
                    "font": {
                      "color": "#2a3f5f"
                    },
                    "geo": {
                      "showland": true,
                      "landcolor": "#E5ECF6",
                      "showlakes": true,
                      "bgcolor": "white",
                      "subunitcolor": "white",
                      "lakecolor": "white"
                    },
                    "coloraxis": {
                      "colorbar": {
                        "outlinewidth": 0,
                        "ticks": ""
                      }
                    }
                  },
                  "data": {
                    "mesh3d": [
                      {
                        "colorbar": {
                          "outlinewidth": 0,
                          "ticks": ""
                        },
                        "type": "mesh3d"
                      }
                    ],
                    "scattercarpet": [
                      {
                        "marker": {
                          "colorbar": {
                            "outlinewidth": 0,
                            "ticks": ""
                          }
                        },
                        "type": "scattercarpet"
                      }
                    ],
                    "pie": [
                      {
                        "automargin": true,
                        "type": "pie"
                      }
                    ],
                    "surface": [
                      {
                        "colorbar": {
                          "outlinewidth": 0,
                          "ticks": ""
                        },
                        "type": "surface",
                        "colorscale": [
                          [
                            0,
                            "#0d0887"
                          ],
                          [
                            0.1111111111111111,
                            "#46039f"
                          ],
                          [
                            0.2222222222222222,
                            "#7201a8"
                          ],
                          [
                            0.3333333333333333,
                            "#9c179e"
                          ],
                          [
                            0.4444444444444444,
                            "#bd3786"
                          ],
                          [
                            0.5555555555555556,
                            "#d8576b"
                          ],
                          [
                            0.6666666666666666,
                            "#ed7953"
                          ],
                          [
                            0.7777777777777778,
                            "#fb9f3a"
                          ],
                          [
                            0.8888888888888888,
                            "#fdca26"
                          ],
                          [
                            1,
                            "#f0f921"
                          ]
                        ]
                      }
                    ],
                    "table": [
                      {
                        "header": {
                          "line": {
                            "color": "white"
                          },
                          "fill": {
                            "color": "#C8D4E3"
                          }
                        },
                        "cells": {
                          "line": {
                            "color": "white"
                          },
                          "fill": {
                            "color": "#EBF0F8"
                          }
                        },
                        "type": "table"
                      }
                    ],
                    "scatterpolargl": [
                      {
                        "marker": {
                          "colorbar": {
                            "outlinewidth": 0,
                            "ticks": ""
                          }
                        },
                        "type": "scatterpolargl"
                      }
                    ],
                    "contour": [
                      {
                        "colorbar": {
                          "outlinewidth": 0,
                          "ticks": ""
                        },
                        "type": "contour",
                        "colorscale": [
                          [
                            0,
                            "#0d0887"
                          ],
                          [
                            0.1111111111111111,
                            "#46039f"
                          ],
                          [
                            0.2222222222222222,
                            "#7201a8"
                          ],
                          [
                            0.3333333333333333,
                            "#9c179e"
                          ],
                          [
                            0.4444444444444444,
                            "#bd3786"
                          ],
                          [
                            0.5555555555555556,
                            "#d8576b"
                          ],
                          [
                            0.6666666666666666,
                            "#ed7953"
                          ],
                          [
                            0.7777777777777778,
                            "#fb9f3a"
                          ],
                          [
                            0.8888888888888888,
                            "#fdca26"
                          ],
                          [
                            1,
                            "#f0f921"
                          ]
                        ]
                      }
                    ],
                    "carpet": [
                      {
                        "type": "carpet",
                        "baxis": {
                          "minorgridcolor": "white",
                          "gridcolor": "white",
                          "linecolor": "white",
                          "endlinecolor": "#2a3f5f",
                          "startlinecolor": "#2a3f5f"
                        },
                        "aaxis": {
                          "minorgridcolor": "white",
                          "gridcolor": "white",
                          "linecolor": "white",
                          "endlinecolor": "#2a3f5f",
                          "startlinecolor": "#2a3f5f"
                        }
                      }
                    ],
                    "contourcarpet": [
                      {
                        "colorbar": {
                          "outlinewidth": 0,
                          "ticks": ""
                        },
                        "type": "contourcarpet"
                      }
                    ],
                    "heatmap": [
                      {
                        "colorbar": {
                          "outlinewidth": 0,
                          "ticks": ""
                        },
                        "type": "heatmap",
                        "colorscale": [
                          [
                            0,
                            "#0d0887"
                          ],
                          [
                            0.1111111111111111,
                            "#46039f"
                          ],
                          [
                            0.2222222222222222,
                            "#7201a8"
                          ],
                          [
                            0.3333333333333333,
                            "#9c179e"
                          ],
                          [
                            0.4444444444444444,
                            "#bd3786"
                          ],
                          [
                            0.5555555555555556,
                            "#d8576b"
                          ],
                          [
                            0.6666666666666666,
                            "#ed7953"
                          ],
                          [
                            0.7777777777777778,
                            "#fb9f3a"
                          ],
                          [
                            0.8888888888888888,
                            "#fdca26"
                          ],
                          [
                            1,
                            "#f0f921"
                          ]
                        ]
                      }
                    ],
                    "scattermapbox": [
                      {
                        "marker": {
                          "colorbar": {
                            "outlinewidth": 0,
                            "ticks": ""
                          }
                        },
                        "type": "scattermapbox"
                      }
                    ],
                    "scatter3d": [
                      {
                        "marker": {
                          "colorbar": {
                            "outlinewidth": 0,
                            "ticks": ""
                          }
                        },
                        "line": {
                          "colorbar": {
                            "outlinewidth": 0,
                            "ticks": ""
                          }
                        },
                        "type": "scatter3d"
                      }
                    ],
                    "scattergl": [
                      {
                        "marker": {
                          "colorbar": {
                            "outlinewidth": 0,
                            "ticks": ""
                          }
                        },
                        "type": "scattergl"
                      }
                    ],
                    "scatterternary": [
                      {
                        "marker": {
                          "colorbar": {
                            "outlinewidth": 0,
                            "ticks": ""
                          }
                        },
                        "type": "scatterternary"
                      }
                    ],
                    "histogram": [
                      {
                        "marker": {
                          "colorbar": {
                            "outlinewidth": 0,
                            "ticks": ""
                          }
                        },
                        "type": "histogram"
                      }
                    ],
                    "heatmapgl": [
                      {
                        "colorbar": {
                          "outlinewidth": 0,
                          "ticks": ""
                        },
                        "type": "heatmapgl",
                        "colorscale": [
                          [
                            0,
                            "#0d0887"
                          ],
                          [
                            0.1111111111111111,
                            "#46039f"
                          ],
                          [
                            0.2222222222222222,
                            "#7201a8"
                          ],
                          [
                            0.3333333333333333,
                            "#9c179e"
                          ],
                          [
                            0.4444444444444444,
                            "#bd3786"
                          ],
                          [
                            0.5555555555555556,
                            "#d8576b"
                          ],
                          [
                            0.6666666666666666,
                            "#ed7953"
                          ],
                          [
                            0.7777777777777778,
                            "#fb9f3a"
                          ],
                          [
                            0.8888888888888888,
                            "#fdca26"
                          ],
                          [
                            1,
                            "#f0f921"
                          ]
                        ]
                      }
                    ],
                    "scatterpolar": [
                      {
                        "marker": {
                          "colorbar": {
                            "outlinewidth": 0,
                            "ticks": ""
                          }
                        },
                        "type": "scatterpolar"
                      }
                    ],
                    "histogram2d": [
                      {
                        "colorbar": {
                          "outlinewidth": 0,
                          "ticks": ""
                        },
                        "type": "histogram2d",
                        "colorscale": [
                          [
                            0,
                            "#0d0887"
                          ],
                          [
                            0.1111111111111111,
                            "#46039f"
                          ],
                          [
                            0.2222222222222222,
                            "#7201a8"
                          ],
                          [
                            0.3333333333333333,
                            "#9c179e"
                          ],
                          [
                            0.4444444444444444,
                            "#bd3786"
                          ],
                          [
                            0.5555555555555556,
                            "#d8576b"
                          ],
                          [
                            0.6666666666666666,
                            "#ed7953"
                          ],
                          [
                            0.7777777777777778,
                            "#fb9f3a"
                          ],
                          [
                            0.8888888888888888,
                            "#fdca26"
                          ],
                          [
                            1,
                            "#f0f921"
                          ]
                        ]
                      }
                    ],
                    "scattergeo": [
                      {
                        "marker": {
                          "colorbar": {
                            "outlinewidth": 0,
                            "ticks": ""
                          }
                        },
                        "type": "scattergeo"
                      }
                    ],
                    "bar": [
                      {
                        "marker": {
                          "line": {
                            "color": "#E5ECF6",
                            "width": 0.5
                          }
                        },
                        "type": "bar",
                        "error_x": {
                          "color": "#2a3f5f"
                        },
                        "error_y": {
                          "color": "#2a3f5f"
                        }
                      }
                    ],
                    "choropleth": [
                      {
                        "colorbar": {
                          "outlinewidth": 0,
                          "ticks": ""
                        },
                        "type": "choropleth"
                      }
                    ],
                    "parcoords": [
                      {
                        "line": {
                          "colorbar": {
                            "outlinewidth": 0,
                            "ticks": ""
                          }
                        },
                        "type": "parcoords"
                      }
                    ],
                    "barpolar": [
                      {
                        "marker": {
                          "line": {
                            "color": "#E5ECF6",
                            "width": 0.5
                          }
                        },
                        "type": "barpolar"
                      }
                    ],
                    "histogram2dcontour": [
                      {
                        "colorbar": {
                          "outlinewidth": 0,
                          "ticks": ""
                        },
                        "type": "histogram2dcontour",
                        "colorscale": [
                          [
                            0,
                            "#0d0887"
                          ],
                          [
                            0.1111111111111111,
                            "#46039f"
                          ],
                          [
                            0.2222222222222222,
                            "#7201a8"
                          ],
                          [
                            0.3333333333333333,
                            "#9c179e"
                          ],
                          [
                            0.4444444444444444,
                            "#bd3786"
                          ],
                          [
                            0.5555555555555556,
                            "#d8576b"
                          ],
                          [
                            0.6666666666666666,
                            "#ed7953"
                          ],
                          [
                            0.7777777777777778,
                            "#fb9f3a"
                          ],
                          [
                            0.8888888888888888,
                            "#fdca26"
                          ],
                          [
                            1,
                            "#f0f921"
                          ]
                        ]
                      }
                    ],
                    "scatter": [
                      {
                        "marker": {
                          "colorbar": {
                            "outlinewidth": 0,
                            "ticks": ""
                          }
                        },
                        "type": "scatter"
                      }
                    ]
                  }
                },
                "title": {
                  "text": "COVID-19"
                },
                "yaxis": {
                  "title": {
                    "text": "Total Calls"
                  }
                },
                "height": 700,
                "xaxis": {
                  "title": {
                    "text": "Date"
                  }
                },
                "font": {
                  "color": "#58508d",
                  "family": "silom",
                  "size": 14
                },
                "legend": {
                  "y": 0.99,
                  "x": 0.001,
                  "xanchor": "left",
                  "yanchor": "top"
                }
              }
            }
          },
          "metadata": {
            "tags": []
          }
        }
      ]
    },
    {
      "cell_type": "markdown",
      "metadata": {
        "id": "6GT7vaIXcCqK"
      },
      "source": [
        "While calls related to non-compliance with phased reopening have been made at least since June, mass gathering complaints weren't recorded until October 19th, 2020. There were 587 total non-compliance complaints at their peak on July 17th."
      ]
    },
    {
      "cell_type": "code",
      "metadata": {
        "id": "7eNX4CWjcDmd"
      },
      "source": [
        "#create subsetted dataframes with complaints related to noise\n",
        "noise_r = call_freq_df('Noise - Residential')\n",
        "noise_c = call_freq_df('Noise - Commercial')\n",
        "noise_v = call_freq_df('Noise - Vehicle')\n",
        "noise_s = call_freq_df('Noise - Street/Sidewalk')\n",
        "noise = call_freq_df('Noise - Unspecified')"
      ],
      "execution_count": 10,
      "outputs": []
    },
    {
      "cell_type": "code",
      "metadata": {
        "id": "p6IRxjEuc66n",
        "colab": {
          "base_uri": "https://localhost:8080/",
          "height": 716
        },
        "outputId": "0a0f9c19-fb0e-48f6-89cd-3b2615b4a6ad"
      },
      "source": [
        "#create and show area plot\n",
        "noise_fig = go.Figure()\n",
        "\n",
        "noise_fig.add_trace(go.Scatter(\n",
        "    x=noise_r.index, y=noise_r['Noise - Residential'],\n",
        "    hoverinfo='x+y',\n",
        "    mode='lines',\n",
        "    line=dict(width=0.5, color='#003f5c'), name=\"Noise - Residential\",\n",
        "    stackgroup='one'\n",
        "))\n",
        "    \n",
        "noise_fig.add_trace(go.Scatter(\n",
        "    x=noise_s.index, y=noise_s['Noise - Street/Sidewalk'],\n",
        "    hoverinfo='x+y',\n",
        "    mode='lines',\n",
        "    line=dict(width=0.5, color='#58508d'), name='Noise - Street/Sidewalk',\n",
        "    stackgroup='two' \n",
        "))\n",
        "\n",
        "noise_fig.add_trace(go.Scatter(\n",
        "    x=noise_v.index, y=noise_v['Noise - Vehicle'],\n",
        "    hoverinfo='x+y',\n",
        "    mode='lines',\n",
        "    line=dict(width=0.5, color='#bc5090'), name='Noise - Vehicle',\n",
        "    stackgroup='three' \n",
        "))\n",
        "\n",
        "\n",
        "noise_fig.add_trace(go.Scatter(\n",
        "    x=noise_c.index, y=noise_c['Noise - Commercial'],\n",
        "    hoverinfo='x+y',\n",
        "    mode='lines',\n",
        "    line=dict(width=0.5, color='#ffa600'), name='Noise - Commercial',\n",
        "    stackgroup='four' \n",
        "))\n",
        "\n",
        "noise_fig.add_trace(go.Scatter(\n",
        "    x=noise.index, y=noise['Noise - Unspecified'],\n",
        "    hoverinfo='x+y',\n",
        "    mode='lines',\n",
        "    line=dict(width=0.5, color='#003f5c'), name=\"Noise - Unspecified\",\n",
        "    stackgroup='one'\n",
        "))\n",
        "\n",
        "noise_fig.update_layout(legend=dict(\n",
        "    yanchor=\"top\",\n",
        "    y=0.99,\n",
        "    xanchor=\"right\",\n",
        "    x=0.99\n",
        "))\n",
        "\n",
        "noise_fig.update_layout(title=\"Noise\", height=700,\n",
        "                  xaxis_title=\"Date\",\n",
        "                  yaxis_title=\"Total Calls\", \n",
        "\n",
        "font=dict(family=\"silom\",\n",
        "          size=14, color=\"#58508d\"))\n",
        "\n",
        "noise_fig.show()"
      ],
      "execution_count": 11,
      "outputs": [
        {
          "output_type": "display_data",
          "data": {
            "text/html": [
              "<div>\n",
              "        \n",
              "        \n",
              "            <div id=\"6bce2a66-a6b4-43bc-8048-7d366704b531\" class=\"plotly-graph-div\" style=\"height:700px; width:100%;\"></div>\n",
              "            <script type=\"text/javascript\">\n",
              "                require([\"plotly\"], function(Plotly) {\n",
              "                    window.PLOTLYENV=window.PLOTLYENV || {};\n",
              "                    \n",
              "                if (document.getElementById(\"6bce2a66-a6b4-43bc-8048-7d366704b531\")) {\n",
              "                    Plotly.newPlot(\n",
              "                        '6bce2a66-a6b4-43bc-8048-7d366704b531',\n",
              "                        [{\"hoverinfo\": \"x+y\", \"line\": {\"color\": \"#003f5c\", \"width\": 0.5}, \"mode\": \"lines\", \"name\": \"Noise - Residential\", \"stackgroup\": \"one\", \"type\": \"scatter\", \"x\": [\"2020-06-01\", \"2020-06-02\", \"2020-06-03\", \"2020-06-04\", \"2020-06-05\", \"2020-06-06\", \"2020-06-07\", \"2020-06-08\", \"2020-06-09\", \"2020-06-10\", \"2020-06-11\", \"2020-06-12\", \"2020-06-13\", \"2020-06-14\", \"2020-06-15\", \"2020-06-16\", \"2020-06-17\", \"2020-06-18\", \"2020-06-19\", \"2020-06-20\", \"2020-06-21\", \"2020-06-22\", \"2020-06-23\", \"2020-06-24\", \"2020-06-25\", \"2020-06-26\", \"2020-06-27\", \"2020-06-28\", \"2020-06-29\", \"2020-06-30\", \"2020-07-01\", \"2020-07-02\", \"2020-07-03\", \"2020-07-04\", \"2020-07-05\", \"2020-07-06\", \"2020-07-07\", \"2020-07-08\", \"2020-07-09\", \"2020-07-10\", \"2020-07-11\", \"2020-07-12\", \"2020-07-13\", \"2020-07-14\", \"2020-07-15\", \"2020-07-16\", \"2020-07-17\", \"2020-07-18\", \"2020-07-19\", \"2020-07-20\", \"2020-07-21\", \"2020-07-22\", \"2020-07-23\", \"2020-07-24\", \"2020-07-25\", \"2020-07-26\", \"2020-07-27\", \"2020-07-28\", \"2020-07-29\", \"2020-07-30\", \"2020-07-31\", \"2020-08-01\", \"2020-08-02\", \"2020-08-03\", \"2020-08-04\", \"2020-08-05\", \"2020-08-06\", \"2020-08-07\", \"2020-08-08\", \"2020-08-09\", \"2020-08-10\", \"2020-08-11\", \"2020-08-12\", \"2020-08-13\", \"2020-08-14\", \"2020-08-15\", \"2020-08-16\", \"2020-08-17\", \"2020-08-18\", \"2020-08-19\", \"2020-08-20\", \"2020-08-21\", \"2020-08-22\", \"2020-08-23\", \"2020-08-24\", \"2020-08-25\", \"2020-08-26\", \"2020-08-27\", \"2020-08-28\", \"2020-08-29\", \"2020-08-30\", \"2020-08-31\", \"2020-09-01\", \"2020-09-02\", \"2020-09-03\", \"2020-09-04\", \"2020-09-05\", \"2020-09-06\", \"2020-09-07\", \"2020-09-08\", \"2020-09-09\", \"2020-09-10\", \"2020-09-11\", \"2020-09-12\", \"2020-09-13\", \"2020-09-14\", \"2020-09-15\", \"2020-09-16\", \"2020-09-17\", \"2020-09-18\", \"2020-09-19\", \"2020-09-20\", \"2020-09-21\", \"2020-09-22\", \"2020-09-23\", \"2020-09-24\", \"2020-09-25\", \"2020-09-26\", \"2020-09-27\", \"2020-09-28\", \"2020-09-29\", \"2020-09-30\", \"2020-10-01\", \"2020-10-02\", \"2020-10-03\", \"2020-10-04\", \"2020-10-05\", \"2020-10-06\", \"2020-10-07\", \"2020-10-08\", \"2020-10-09\", \"2020-10-10\", \"2020-10-11\", \"2020-10-12\", \"2020-10-13\", \"2020-10-14\", \"2020-10-15\", \"2020-10-16\", \"2020-10-17\", \"2020-10-18\", \"2020-10-19\", \"2020-10-20\", \"2020-10-21\", \"2020-10-22\", \"2020-10-23\", \"2020-10-24\", \"2020-10-25\", \"2020-10-26\", \"2020-10-27\", \"2020-10-28\", \"2020-10-29\", \"2020-10-30\", \"2020-10-31\", \"2020-11-01\", \"2020-11-02\", \"2020-11-03\", \"2020-11-04\", \"2020-11-05\", \"2020-11-06\", \"2020-11-07\", \"2020-11-08\", \"2020-11-09\", \"2020-11-10\", \"2020-11-11\", \"2020-11-12\", \"2020-11-13\", \"2020-11-14\", \"2020-11-15\", \"2020-11-16\", \"2020-11-17\", \"2020-11-18\", \"2020-11-19\", \"2020-11-20\", \"2020-11-21\", \"2020-11-22\", \"2020-11-23\", \"2020-11-24\", \"2020-11-25\"], \"y\": [550, 663, 1232, 750, 657, 1393, 2557, 1042, 764, 725, 604, 1135, 2139, 2003, 1025, 1142, 1820, 1002, 1631, 4599, 3426, 1608, 743, 726, 800, 1273, 1803, 1942, 782, 744, 581, 718, 923, 3113, 4688, 1235, 536, 577, 581, 613, 1537, 1756, 657, 892, 659, 867, 1281, 1384, 1731, 1244, 982, 1306, 1432, 1038, 2573, 2515, 984, 554, 1158, 645, 965, 4210, 2915, 756, 982, 1350, 1324, 1222, 3351, 3667, 2024, 958, 761, 1117, 795, 2936, 2086, 1391, 665, 707, 790, 964, 2095, 2615, 1397, 497, 631, 837, 962, 1900, 2451, 1555, 891, 1169, 1377, 1525, 2258, 2821, 2796, 868, 852, 918, 974, 2587, 3051, 1647, 1123, 1337, 2697, 1691, 2924, 2889, 1653, 1144, 818, 1048, 1268, 2654, 2409, 672, 598, 741, 1166, 1834, 2460, 2986, 1145, 994, 841, 878, 1285, 2987, 2827, 710, 617, 891, 757, 776, 2124, 1749, 706, 724, 843, 779, 1129, 1874, 1670, 708, 665, 602, 635, 872, 1945, 2159, 535, 943, 613, 626, 1059, 1776, 1743, 754, 620, 603, 580, 755, 1468, 1228, 581, 495, 668, 553, 900, 1545, 1305, 871, 689, 85]}, {\"hoverinfo\": \"x+y\", \"line\": {\"color\": \"#58508d\", \"width\": 0.5}, \"mode\": \"lines\", \"name\": \"Noise - Street/Sidewalk\", \"stackgroup\": \"two\", \"type\": \"scatter\", \"x\": [\"2020-06-01\", \"2020-06-02\", \"2020-06-03\", \"2020-06-04\", \"2020-06-05\", \"2020-06-06\", \"2020-06-07\", \"2020-06-08\", \"2020-06-09\", \"2020-06-10\", \"2020-06-11\", \"2020-06-12\", \"2020-06-13\", \"2020-06-14\", \"2020-06-15\", \"2020-06-16\", \"2020-06-17\", \"2020-06-18\", \"2020-06-19\", \"2020-06-20\", \"2020-06-21\", \"2020-06-22\", \"2020-06-23\", \"2020-06-24\", \"2020-06-25\", \"2020-06-26\", \"2020-06-27\", \"2020-06-28\", \"2020-06-29\", \"2020-06-30\", \"2020-07-01\", \"2020-07-02\", \"2020-07-03\", \"2020-07-04\", \"2020-07-05\", \"2020-07-06\", \"2020-07-07\", \"2020-07-08\", \"2020-07-09\", \"2020-07-10\", \"2020-07-11\", \"2020-07-12\", \"2020-07-13\", \"2020-07-14\", \"2020-07-15\", \"2020-07-16\", \"2020-07-17\", \"2020-07-18\", \"2020-07-19\", \"2020-07-20\", \"2020-07-21\", \"2020-07-22\", \"2020-07-23\", \"2020-07-24\", \"2020-07-25\", \"2020-07-26\", \"2020-07-27\", \"2020-07-28\", \"2020-07-29\", \"2020-07-30\", \"2020-07-31\", \"2020-08-01\", \"2020-08-02\", \"2020-08-03\", \"2020-08-04\", \"2020-08-05\", \"2020-08-06\", \"2020-08-07\", \"2020-08-08\", \"2020-08-09\", \"2020-08-10\", \"2020-08-11\", \"2020-08-12\", \"2020-08-13\", \"2020-08-14\", \"2020-08-15\", \"2020-08-16\", \"2020-08-17\", \"2020-08-18\", \"2020-08-19\", \"2020-08-20\", \"2020-08-21\", \"2020-08-22\", \"2020-08-23\", \"2020-08-24\", \"2020-08-25\", \"2020-08-26\", \"2020-08-27\", \"2020-08-28\", \"2020-08-29\", \"2020-08-30\", \"2020-08-31\", \"2020-09-01\", \"2020-09-02\", \"2020-09-03\", \"2020-09-04\", \"2020-09-05\", \"2020-09-06\", \"2020-09-07\", \"2020-09-08\", \"2020-09-09\", \"2020-09-10\", \"2020-09-11\", \"2020-09-12\", \"2020-09-13\", \"2020-09-14\", \"2020-09-15\", \"2020-09-16\", \"2020-09-17\", \"2020-09-18\", \"2020-09-19\", \"2020-09-20\", \"2020-09-21\", \"2020-09-22\", \"2020-09-23\", \"2020-09-24\", \"2020-09-25\", \"2020-09-26\", \"2020-09-27\", \"2020-09-28\", \"2020-09-30\", \"2020-10-01\", \"2020-10-02\", \"2020-10-03\", \"2020-10-04\", \"2020-10-05\", \"2020-10-06\", \"2020-10-07\", \"2020-10-08\", \"2020-10-09\", \"2020-10-10\", \"2020-10-11\", \"2020-10-12\", \"2020-10-13\", \"2020-10-14\", \"2020-10-15\", \"2020-10-16\", \"2020-10-17\", \"2020-10-18\", \"2020-10-19\", \"2020-10-20\", \"2020-10-21\", \"2020-10-22\", \"2020-10-23\", \"2020-10-24\", \"2020-10-25\", \"2020-10-26\", \"2020-10-27\", \"2020-10-29\", \"2020-10-30\", \"2020-10-31\", \"2020-11-01\", \"2020-11-02\", \"2020-11-03\", \"2020-11-04\", \"2020-11-05\", \"2020-11-06\", \"2020-11-07\", \"2020-11-08\", \"2020-11-09\", \"2020-11-10\", \"2020-11-12\", \"2020-11-13\", \"2020-11-14\", \"2020-11-16\", \"2020-11-17\", \"2020-11-18\", \"2020-11-19\", \"2020-11-21\", \"2020-11-22\", \"2020-11-24\", \"2020-09-29\", \"2020-10-28\", \"2020-11-11\", \"2020-11-15\", \"2020-11-20\", \"2020-11-23\", \"2020-11-25\"], \"y\": [309, 333, 383, 641, 391, 987, 1480, 1086, 1077, 965, 621, 1317, 2134, 2393, 1342, 1411, 1551, 1669, 2332, 3489, 4287, 2128, 1306, 1266, 1466, 1758, 2284, 2629, 1229, 929, 551, 1057, 1170, 2344, 2946, 679, 524, 494, 723, 460, 961, 1911, 883, 702, 748, 937, 1049, 1311, 1795, 762, 597, 317, 529, 933, 1664, 1765, 853, 551, 623, 562, 881, 1821, 1723, 582, 306, 607, 766, 694, 1711, 2146, 758, 518, 410, 523, 1007, 1907, 1558, 498, 594, 675, 945, 1227, 1756, 1885, 557, 376, 556, 414, 729, 1338, 1929, 837, 532, 458, 258, 814, 1710, 1965, 1797, 652, 498, 194, 927, 1617, 1772, 593, 532, 531, 760, 865, 1192, 1084, 479, 306, 629, 657, 999, 1618, 1437, 507, 496, 597, 798, 1334, 1100, 544, 474, 388, 324, 710, 1350, 1056, 115, 243, 587, 640, 306, 606, 931, 407, 471, 515, 588, 957, 1083, 463, 264, 326, 102, 148, 397, 329, 143, 191, 343, 448, 739, 929, 1101, 529, 509, 160, 303, 518, 173, 124, 91, 143, 643, 333, 193, 263, 355, 190, 383, 477, 126, 28]}, {\"hoverinfo\": \"x+y\", \"line\": {\"color\": \"#bc5090\", \"width\": 0.5}, \"mode\": \"lines\", \"name\": \"Noise - Vehicle\", \"stackgroup\": \"three\", \"type\": \"scatter\", \"x\": [\"2020-06-01\", \"2020-06-02\", \"2020-06-03\", \"2020-06-06\", \"2020-06-07\", \"2020-06-08\", \"2020-06-09\", \"2020-06-12\", \"2020-06-13\", \"2020-06-14\", \"2020-06-15\", \"2020-06-16\", \"2020-06-17\", \"2020-06-18\", \"2020-06-19\", \"2020-06-20\", \"2020-06-21\", \"2020-06-22\", \"2020-06-23\", \"2020-06-24\", \"2020-06-25\", \"2020-06-26\", \"2020-06-27\", \"2020-06-28\", \"2020-06-29\", \"2020-07-01\", \"2020-07-02\", \"2020-07-03\", \"2020-07-04\", \"2020-07-05\", \"2020-07-06\", \"2020-07-07\", \"2020-07-08\", \"2020-07-09\", \"2020-07-10\", \"2020-07-11\", \"2020-07-12\", \"2020-07-13\", \"2020-07-14\", \"2020-07-15\", \"2020-07-16\", \"2020-07-17\", \"2020-07-18\", \"2020-07-19\", \"2020-07-20\", \"2020-07-21\", \"2020-07-23\", \"2020-07-24\", \"2020-07-25\", \"2020-07-26\", \"2020-07-27\", \"2020-07-28\", \"2020-07-29\", \"2020-07-30\", \"2020-07-31\", \"2020-08-01\", \"2020-08-02\", \"2020-08-04\", \"2020-08-05\", \"2020-08-06\", \"2020-08-07\", \"2020-08-08\", \"2020-08-09\", \"2020-08-10\", \"2020-08-11\", \"2020-08-12\", \"2020-08-13\", \"2020-08-14\", \"2020-08-15\", \"2020-08-16\", \"2020-08-17\", \"2020-08-18\", \"2020-08-19\", \"2020-08-20\", \"2020-08-21\", \"2020-08-22\", \"2020-08-23\", \"2020-08-24\", \"2020-08-25\", \"2020-08-26\", \"2020-08-28\", \"2020-08-29\", \"2020-08-30\", \"2020-08-31\", \"2020-09-01\", \"2020-09-02\", \"2020-09-04\", \"2020-09-05\", \"2020-09-06\", \"2020-09-07\", \"2020-09-08\", \"2020-09-09\", \"2020-09-10\", \"2020-09-11\", \"2020-09-12\", \"2020-09-13\", \"2020-09-14\", \"2020-09-15\", \"2020-09-16\", \"2020-09-17\", \"2020-09-19\", \"2020-09-20\", \"2020-09-21\", \"2020-09-22\", \"2020-09-23\", \"2020-09-24\", \"2020-09-25\", \"2020-09-26\", \"2020-09-27\", \"2020-09-28\", \"2020-09-29\", \"2020-09-30\", \"2020-10-01\", \"2020-10-02\", \"2020-10-03\", \"2020-10-04\", \"2020-10-05\", \"2020-10-06\", \"2020-10-07\", \"2020-10-09\", \"2020-10-10\", \"2020-10-12\", \"2020-10-13\", \"2020-10-14\", \"2020-10-15\", \"2020-10-17\", \"2020-10-18\", \"2020-10-19\", \"2020-10-20\", \"2020-10-21\", \"2020-10-22\", \"2020-10-23\", \"2020-10-24\", \"2020-10-25\", \"2020-10-26\", \"2020-10-27\", \"2020-10-31\", \"2020-11-03\", \"2020-11-04\", \"2020-11-07\", \"2020-11-08\", \"2020-11-09\", \"2020-11-10\", \"2020-11-12\", \"2020-11-13\", \"2020-11-14\", \"2020-11-16\", \"2020-11-17\", \"2020-11-18\", \"2020-11-19\", \"2020-11-20\", \"2020-11-21\", \"2020-11-22\", \"2020-11-23\", \"2020-11-24\", \"2020-06-04\", \"2020-06-05\", \"2020-06-10\", \"2020-06-11\", \"2020-06-30\", \"2020-08-03\", \"2020-08-27\", \"2020-09-03\", \"2020-10-08\", \"2020-10-11\", \"2020-10-16\", \"2020-10-28\", \"2020-10-29\", \"2020-10-30\", \"2020-11-01\", \"2020-11-02\", \"2020-11-05\", \"2020-11-06\", \"2020-11-11\", \"2020-07-22\", \"2020-09-18\", \"2020-11-15\", \"2020-11-25\"], \"y\": [131, 113, 165, 326, 453, 406, 350, 377, 471, 520, 291, 335, 317, 338, 442, 582, 593, 320, 250, 266, 327, 428, 463, 549, 302, 197, 256, 264, 338, 457, 200, 195, 232, 293, 229, 279, 536, 296, 321, 311, 312, 358, 410, 570, 255, 191, 199, 334, 460, 466, 291, 193, 252, 190, 295, 689, 630, 193, 261, 325, 187, 524, 602, 297, 230, 205, 222, 411, 612, 509, 244, 246, 262, 292, 403, 475, 707, 250, 183, 312, 253, 397, 569, 381, 210, 238, 680, 437, 479, 600, 249, 219, 110, 312, 467, 981, 310, 240, 236, 285, 852, 657, 512, 158, 323, 327, 362, 473, 505, 244, 170, 264, 248, 659, 505, 382, 223, 232, 224, 274, 414, 136, 187, 234, 238, 235, 280, 407, 186, 238, 289, 377, 489, 217, 134, 216, 231, 131, 544, 411, 488, 240, 190, 101, 175, 198, 138, 92, 74, 109, 236, 300, 190, 93, 108, 256, 152, 359, 222, 256, 252, 219, 135, 152, 413, 165, 148, 106, 128, 237, 113, 628, 344, 100, 126, 990, 189, 4]}, {\"hoverinfo\": \"x+y\", \"line\": {\"color\": \"#ffa600\", \"width\": 0.5}, \"mode\": \"lines\", \"name\": \"Noise - Commercial\", \"stackgroup\": \"four\", \"type\": \"scatter\", \"x\": [\"2020-06-01\", \"2020-06-06\", \"2020-06-08\", \"2020-06-09\", \"2020-06-10\", \"2020-06-11\", \"2020-06-13\", \"2020-06-19\", \"2020-06-20\", \"2020-06-23\", \"2020-06-24\", \"2020-06-25\", \"2020-06-26\", \"2020-06-27\", \"2020-06-28\", \"2020-06-30\", \"2020-07-01\", \"2020-07-02\", \"2020-07-03\", \"2020-07-04\", \"2020-07-05\", \"2020-07-09\", \"2020-07-11\", \"2020-07-12\", \"2020-07-14\", \"2020-07-15\", \"2020-07-17\", \"2020-07-18\", \"2020-07-19\", \"2020-07-21\", \"2020-07-23\", \"2020-07-24\", \"2020-07-25\", \"2020-07-26\", \"2020-07-27\", \"2020-07-30\", \"2020-07-31\", \"2020-08-01\", \"2020-08-02\", \"2020-08-03\", \"2020-08-06\", \"2020-08-07\", \"2020-08-08\", \"2020-08-09\", \"2020-08-14\", \"2020-08-15\", \"2020-08-16\", \"2020-08-17\", \"2020-08-18\", \"2020-08-20\", \"2020-08-21\", \"2020-08-22\", \"2020-08-23\", \"2020-08-24\", \"2020-08-26\", \"2020-08-28\", \"2020-08-29\", \"2020-08-30\", \"2020-08-31\", \"2020-09-01\", \"2020-09-03\", \"2020-09-04\", \"2020-09-05\", \"2020-09-08\", \"2020-09-09\", \"2020-09-11\", \"2020-09-12\", \"2020-09-13\", \"2020-09-15\", \"2020-09-18\", \"2020-09-19\", \"2020-09-20\", \"2020-09-21\", \"2020-09-23\", \"2020-09-24\", \"2020-09-25\", \"2020-09-26\", \"2020-09-27\", \"2020-09-28\", \"2020-09-29\", \"2020-09-30\", \"2020-10-03\", \"2020-10-04\", \"2020-10-06\", \"2020-10-08\", \"2020-10-09\", \"2020-10-10\", \"2020-10-11\", \"2020-10-15\", \"2020-10-17\", \"2020-10-18\", \"2020-10-21\", \"2020-10-23\", \"2020-10-24\", \"2020-10-25\", \"2020-11-05\", \"2020-11-07\", \"2020-11-10\", \"2020-11-11\", \"2020-11-20\", \"2020-06-03\", \"2020-06-07\", \"2020-06-12\", \"2020-06-14\", \"2020-06-15\", \"2020-06-16\", \"2020-06-17\", \"2020-06-18\", \"2020-06-21\", \"2020-06-22\", \"2020-06-29\", \"2020-07-06\", \"2020-07-10\", \"2020-07-13\", \"2020-07-16\", \"2020-08-05\", \"2020-08-10\", \"2020-08-11\", \"2020-08-13\", \"2020-08-19\", \"2020-08-27\", \"2020-09-02\", \"2020-09-06\", \"2020-09-07\", \"2020-09-10\", \"2020-09-14\", \"2020-09-16\", \"2020-09-17\", \"2020-09-22\", \"2020-10-01\", \"2020-10-02\", \"2020-10-07\", \"2020-10-12\", \"2020-10-13\", \"2020-10-14\", \"2020-10-16\", \"2020-10-19\", \"2020-10-22\", \"2020-10-27\", \"2020-10-28\", \"2020-10-30\", \"2020-10-31\", \"2020-11-03\", \"2020-11-04\", \"2020-11-06\", \"2020-11-08\", \"2020-11-09\", \"2020-11-12\", \"2020-11-13\", \"2020-11-15\", \"2020-11-17\", \"2020-11-18\", \"2020-11-22\", \"2020-11-24\", \"2020-11-25\", \"2020-06-02\", \"2020-06-05\", \"2020-07-22\", \"2020-08-25\", \"2020-10-05\", \"2020-10-20\", \"2020-06-04\", \"2020-07-07\", \"2020-07-08\", \"2020-07-20\", \"2020-07-28\", \"2020-07-29\", \"2020-08-04\", \"2020-08-12\", \"2020-10-26\", \"2020-10-29\", \"2020-11-01\", \"2020-11-02\", \"2020-11-14\", \"2020-11-16\", \"2020-11-19\", \"2020-11-21\", \"2020-11-23\"], \"y\": [42, 78, 69, 81, 87, 96, 208, 153, 191, 129, 151, 162, 249, 282, 246, 124, 132, 150, 173, 242, 234, 197, 279, 391, 123, 134, 265, 304, 309, 113, 124, 264, 298, 254, 97, 110, 178, 284, 209, 65, 148, 156, 313, 245, 171, 298, 170, 109, 103, 147, 240, 267, 255, 78, 101, 162, 260, 317, 151, 122, 100, 190, 309, 97, 106, 258, 403, 345, 157, 235, 337, 357, 112, 214, 239, 282, 393, 374, 105, 84, 159, 430, 361, 99, 168, 270, 369, 305, 165, 265, 290, 165, 241, 322, 155, 141, 260, 137, 88, 153, 52, 135, 155, 176, 89, 95, 98, 106, 157, 100, 114, 109, 107, 175, 245, 111, 97, 81, 101, 116, 115, 77, 275, 186, 88, 127, 169, 203, 106, 203, 265, 111, 88, 81, 147, 115, 117, 194, 95, 90, 116, 244, 48, 94, 168, 300, 101, 103, 116, 132, 50, 64, 132, 57, 5, 49, 54, 90, 66, 157, 123, 56, 89, 109, 110, 77, 98, 46, 68, 93, 69, 182, 52, 184, 37, 66, 232, 74]}, {\"hoverinfo\": \"x+y\", \"line\": {\"color\": \"#003f5c\", \"width\": 0.5}, \"mode\": \"lines\", \"name\": \"Noise - Unspecified\", \"stackgroup\": \"one\", \"type\": \"scatter\", \"x\": [\"2020-06-01\", \"2020-06-02\", \"2020-06-04\", \"2020-06-05\", \"2020-06-06\", \"2020-06-07\", \"2020-06-10\", \"2020-06-11\", \"2020-06-12\", \"2020-06-13\", \"2020-06-15\", \"2020-06-16\", \"2020-06-17\", \"2020-06-18\", \"2020-06-19\", \"2020-06-20\", \"2020-06-21\", \"2020-06-23\", \"2020-06-25\", \"2020-06-26\", \"2020-06-27\", \"2020-06-28\", \"2020-06-29\", \"2020-06-30\", \"2020-07-02\", \"2020-07-04\", \"2020-07-05\", \"2020-07-06\", \"2020-07-08\", \"2020-07-12\", \"2020-07-13\", \"2020-07-15\", \"2020-07-16\", \"2020-07-17\", \"2020-07-20\", \"2020-07-21\", \"2020-07-24\", \"2020-07-25\", \"2020-07-27\", \"2020-07-28\", \"2020-07-31\", \"2020-08-01\", \"2020-08-02\", \"2020-08-05\", \"2020-08-06\", \"2020-08-07\", \"2020-08-08\", \"2020-08-09\", \"2020-08-10\", \"2020-08-11\", \"2020-08-14\", \"2020-08-15\", \"2020-08-16\", \"2020-08-17\", \"2020-08-19\", \"2020-08-20\", \"2020-08-22\", \"2020-08-23\", \"2020-08-28\", \"2020-08-30\", \"2020-09-01\", \"2020-09-03\", \"2020-09-04\", \"2020-09-05\", \"2020-09-09\", \"2020-09-10\", \"2020-09-11\", \"2020-09-12\", \"2020-09-13\", \"2020-09-14\", \"2020-09-15\", \"2020-09-16\", \"2020-09-17\", \"2020-09-18\", \"2020-09-19\", \"2020-09-20\", \"2020-09-22\", \"2020-09-23\", \"2020-09-24\", \"2020-09-26\", \"2020-09-27\", \"2020-09-28\", \"2020-09-29\", \"2020-09-30\", \"2020-10-01\", \"2020-10-03\", \"2020-10-04\", \"2020-10-05\", \"2020-10-06\", \"2020-10-07\", \"2020-10-08\", \"2020-10-09\", \"2020-10-11\", \"2020-10-13\", \"2020-10-14\", \"2020-10-16\", \"2020-10-17\", \"2020-10-20\", \"2020-10-21\", \"2020-10-22\", \"2020-10-23\", \"2020-10-24\", \"2020-10-25\", \"2020-10-27\", \"2020-10-28\", \"2020-10-29\", \"2020-10-31\", \"2020-11-02\", \"2020-11-05\", \"2020-11-06\", \"2020-11-07\", \"2020-11-08\", \"2020-11-09\", \"2020-11-10\", \"2020-11-11\", \"2020-11-13\", \"2020-11-16\", \"2020-11-17\", \"2020-11-18\", \"2020-11-19\", \"2020-11-20\", \"2020-11-24\", \"2020-06-08\", \"2020-06-09\", \"2020-06-22\", \"2020-06-24\", \"2020-07-01\", \"2020-07-03\", \"2020-07-07\", \"2020-07-10\", \"2020-07-11\", \"2020-07-14\", \"2020-07-18\", \"2020-07-22\", \"2020-07-23\", \"2020-07-29\", \"2020-07-30\", \"2020-08-03\", \"2020-08-04\", \"2020-08-12\", \"2020-08-13\", \"2020-08-18\", \"2020-08-21\", \"2020-08-24\", \"2020-08-25\", \"2020-08-26\", \"2020-08-27\", \"2020-08-31\", \"2020-09-02\", \"2020-09-08\", \"2020-09-21\", \"2020-09-25\", \"2020-10-02\", \"2020-10-10\", \"2020-10-12\", \"2020-10-15\", \"2020-10-18\", \"2020-10-19\", \"2020-10-30\", \"2020-11-01\", \"2020-11-03\", \"2020-11-04\", \"2020-11-12\", \"2020-11-15\", \"2020-11-22\", \"2020-06-03\", \"2020-06-14\", \"2020-07-09\", \"2020-07-19\", \"2020-07-26\", \"2020-08-29\", \"2020-09-06\", \"2020-09-07\", \"2020-10-26\", \"2020-11-14\", \"2020-11-21\", \"2020-11-23\"], \"y\": [106, 162, 126, 108, 104, 113, 121, 121, 134, 156, 156, 169, 177, 167, 125, 130, 66, 115, 142, 140, 114, 68, 114, 111, 152, 34, 39, 97, 121, 80, 53, 105, 150, 116, 78, 97, 78, 70, 84, 84, 95, 100, 36, 117, 108, 90, 126, 63, 96, 118, 99, 93, 41, 119, 132, 107, 101, 55, 86, 80, 129, 147, 103, 97, 150, 135, 159, 125, 103, 153, 170, 193, 188, 147, 159, 87, 170, 178, 178, 130, 100, 132, 181, 181, 173, 127, 70, 178, 214, 176, 147, 116, 72, 185, 239, 124, 145, 228, 193, 226, 204, 147, 97, 202, 234, 138, 108, 123, 172, 162, 133, 100, 166, 186, 127, 120, 168, 148, 123, 149, 151, 128, 162, 148, 90, 106, 140, 57, 112, 86, 119, 109, 60, 90, 102, 81, 110, 68, 58, 108, 123, 136, 117, 103, 131, 156, 123, 148, 142, 140, 173, 149, 154, 118, 98, 187, 117, 173, 107, 89, 119, 147, 134, 95, 85, 109, 95, 92, 57, 45, 73, 89, 106, 166, 118, 134, 126]}],\n",
              "                        {\"font\": {\"color\": \"#58508d\", \"family\": \"silom\", \"size\": 14}, \"height\": 700, \"legend\": {\"x\": 0.99, \"xanchor\": \"right\", \"y\": 0.99, \"yanchor\": \"top\"}, \"template\": {\"data\": {\"bar\": [{\"error_x\": {\"color\": \"#2a3f5f\"}, \"error_y\": {\"color\": \"#2a3f5f\"}, \"marker\": {\"line\": {\"color\": \"#E5ECF6\", \"width\": 0.5}}, \"type\": \"bar\"}], \"barpolar\": [{\"marker\": {\"line\": {\"color\": \"#E5ECF6\", \"width\": 0.5}}, \"type\": \"barpolar\"}], \"carpet\": [{\"aaxis\": {\"endlinecolor\": \"#2a3f5f\", \"gridcolor\": \"white\", \"linecolor\": \"white\", \"minorgridcolor\": \"white\", \"startlinecolor\": \"#2a3f5f\"}, \"baxis\": {\"endlinecolor\": \"#2a3f5f\", \"gridcolor\": \"white\", \"linecolor\": \"white\", \"minorgridcolor\": \"white\", \"startlinecolor\": \"#2a3f5f\"}, \"type\": \"carpet\"}], \"choropleth\": [{\"colorbar\": {\"outlinewidth\": 0, \"ticks\": \"\"}, \"type\": \"choropleth\"}], \"contour\": [{\"colorbar\": {\"outlinewidth\": 0, \"ticks\": \"\"}, \"colorscale\": [[0.0, \"#0d0887\"], [0.1111111111111111, \"#46039f\"], [0.2222222222222222, \"#7201a8\"], [0.3333333333333333, \"#9c179e\"], [0.4444444444444444, \"#bd3786\"], [0.5555555555555556, \"#d8576b\"], [0.6666666666666666, \"#ed7953\"], [0.7777777777777778, \"#fb9f3a\"], [0.8888888888888888, \"#fdca26\"], [1.0, \"#f0f921\"]], \"type\": \"contour\"}], \"contourcarpet\": [{\"colorbar\": {\"outlinewidth\": 0, \"ticks\": \"\"}, \"type\": \"contourcarpet\"}], \"heatmap\": [{\"colorbar\": {\"outlinewidth\": 0, \"ticks\": \"\"}, \"colorscale\": [[0.0, \"#0d0887\"], [0.1111111111111111, \"#46039f\"], [0.2222222222222222, \"#7201a8\"], [0.3333333333333333, \"#9c179e\"], [0.4444444444444444, \"#bd3786\"], [0.5555555555555556, \"#d8576b\"], [0.6666666666666666, \"#ed7953\"], [0.7777777777777778, \"#fb9f3a\"], [0.8888888888888888, \"#fdca26\"], [1.0, \"#f0f921\"]], \"type\": \"heatmap\"}], \"heatmapgl\": [{\"colorbar\": {\"outlinewidth\": 0, \"ticks\": \"\"}, \"colorscale\": [[0.0, \"#0d0887\"], [0.1111111111111111, \"#46039f\"], [0.2222222222222222, \"#7201a8\"], [0.3333333333333333, \"#9c179e\"], [0.4444444444444444, \"#bd3786\"], [0.5555555555555556, \"#d8576b\"], [0.6666666666666666, \"#ed7953\"], [0.7777777777777778, \"#fb9f3a\"], [0.8888888888888888, \"#fdca26\"], [1.0, \"#f0f921\"]], \"type\": \"heatmapgl\"}], \"histogram\": [{\"marker\": {\"colorbar\": {\"outlinewidth\": 0, \"ticks\": \"\"}}, \"type\": \"histogram\"}], \"histogram2d\": [{\"colorbar\": {\"outlinewidth\": 0, \"ticks\": \"\"}, \"colorscale\": [[0.0, \"#0d0887\"], [0.1111111111111111, \"#46039f\"], [0.2222222222222222, \"#7201a8\"], [0.3333333333333333, \"#9c179e\"], [0.4444444444444444, \"#bd3786\"], [0.5555555555555556, \"#d8576b\"], [0.6666666666666666, \"#ed7953\"], [0.7777777777777778, \"#fb9f3a\"], [0.8888888888888888, \"#fdca26\"], [1.0, \"#f0f921\"]], \"type\": \"histogram2d\"}], \"histogram2dcontour\": [{\"colorbar\": {\"outlinewidth\": 0, \"ticks\": \"\"}, \"colorscale\": [[0.0, \"#0d0887\"], [0.1111111111111111, \"#46039f\"], [0.2222222222222222, \"#7201a8\"], [0.3333333333333333, \"#9c179e\"], [0.4444444444444444, \"#bd3786\"], [0.5555555555555556, \"#d8576b\"], [0.6666666666666666, \"#ed7953\"], [0.7777777777777778, \"#fb9f3a\"], [0.8888888888888888, \"#fdca26\"], [1.0, \"#f0f921\"]], \"type\": \"histogram2dcontour\"}], \"mesh3d\": [{\"colorbar\": {\"outlinewidth\": 0, \"ticks\": \"\"}, \"type\": \"mesh3d\"}], \"parcoords\": [{\"line\": {\"colorbar\": {\"outlinewidth\": 0, \"ticks\": \"\"}}, \"type\": \"parcoords\"}], \"pie\": [{\"automargin\": true, \"type\": \"pie\"}], \"scatter\": [{\"marker\": {\"colorbar\": {\"outlinewidth\": 0, \"ticks\": \"\"}}, \"type\": \"scatter\"}], \"scatter3d\": [{\"line\": {\"colorbar\": {\"outlinewidth\": 0, \"ticks\": \"\"}}, \"marker\": {\"colorbar\": {\"outlinewidth\": 0, \"ticks\": \"\"}}, \"type\": \"scatter3d\"}], \"scattercarpet\": [{\"marker\": {\"colorbar\": {\"outlinewidth\": 0, \"ticks\": \"\"}}, \"type\": \"scattercarpet\"}], \"scattergeo\": [{\"marker\": {\"colorbar\": {\"outlinewidth\": 0, \"ticks\": \"\"}}, \"type\": \"scattergeo\"}], \"scattergl\": [{\"marker\": {\"colorbar\": {\"outlinewidth\": 0, \"ticks\": \"\"}}, \"type\": \"scattergl\"}], \"scattermapbox\": [{\"marker\": {\"colorbar\": {\"outlinewidth\": 0, \"ticks\": \"\"}}, \"type\": \"scattermapbox\"}], \"scatterpolar\": [{\"marker\": {\"colorbar\": {\"outlinewidth\": 0, \"ticks\": \"\"}}, \"type\": \"scatterpolar\"}], \"scatterpolargl\": [{\"marker\": {\"colorbar\": {\"outlinewidth\": 0, \"ticks\": \"\"}}, \"type\": \"scatterpolargl\"}], \"scatterternary\": [{\"marker\": {\"colorbar\": {\"outlinewidth\": 0, \"ticks\": \"\"}}, \"type\": \"scatterternary\"}], \"surface\": [{\"colorbar\": {\"outlinewidth\": 0, \"ticks\": \"\"}, \"colorscale\": [[0.0, \"#0d0887\"], [0.1111111111111111, \"#46039f\"], [0.2222222222222222, \"#7201a8\"], [0.3333333333333333, \"#9c179e\"], [0.4444444444444444, \"#bd3786\"], [0.5555555555555556, \"#d8576b\"], [0.6666666666666666, \"#ed7953\"], [0.7777777777777778, \"#fb9f3a\"], [0.8888888888888888, \"#fdca26\"], [1.0, \"#f0f921\"]], \"type\": \"surface\"}], \"table\": [{\"cells\": {\"fill\": {\"color\": \"#EBF0F8\"}, \"line\": {\"color\": \"white\"}}, \"header\": {\"fill\": {\"color\": \"#C8D4E3\"}, \"line\": {\"color\": \"white\"}}, \"type\": \"table\"}]}, \"layout\": {\"annotationdefaults\": {\"arrowcolor\": \"#2a3f5f\", \"arrowhead\": 0, \"arrowwidth\": 1}, \"coloraxis\": {\"colorbar\": {\"outlinewidth\": 0, \"ticks\": \"\"}}, \"colorscale\": {\"diverging\": [[0, \"#8e0152\"], [0.1, \"#c51b7d\"], [0.2, \"#de77ae\"], [0.3, \"#f1b6da\"], [0.4, \"#fde0ef\"], [0.5, \"#f7f7f7\"], [0.6, \"#e6f5d0\"], [0.7, \"#b8e186\"], [0.8, \"#7fbc41\"], [0.9, \"#4d9221\"], [1, \"#276419\"]], \"sequential\": [[0.0, \"#0d0887\"], [0.1111111111111111, \"#46039f\"], [0.2222222222222222, \"#7201a8\"], [0.3333333333333333, \"#9c179e\"], [0.4444444444444444, \"#bd3786\"], [0.5555555555555556, \"#d8576b\"], [0.6666666666666666, \"#ed7953\"], [0.7777777777777778, \"#fb9f3a\"], [0.8888888888888888, \"#fdca26\"], [1.0, \"#f0f921\"]], \"sequentialminus\": [[0.0, \"#0d0887\"], [0.1111111111111111, \"#46039f\"], [0.2222222222222222, \"#7201a8\"], [0.3333333333333333, \"#9c179e\"], [0.4444444444444444, \"#bd3786\"], [0.5555555555555556, \"#d8576b\"], [0.6666666666666666, \"#ed7953\"], [0.7777777777777778, \"#fb9f3a\"], [0.8888888888888888, \"#fdca26\"], [1.0, \"#f0f921\"]]}, \"colorway\": [\"#636efa\", \"#EF553B\", \"#00cc96\", \"#ab63fa\", \"#FFA15A\", \"#19d3f3\", \"#FF6692\", \"#B6E880\", \"#FF97FF\", \"#FECB52\"], \"font\": {\"color\": \"#2a3f5f\"}, \"geo\": {\"bgcolor\": \"white\", \"lakecolor\": \"white\", \"landcolor\": \"#E5ECF6\", \"showlakes\": true, \"showland\": true, \"subunitcolor\": \"white\"}, \"hoverlabel\": {\"align\": \"left\"}, \"hovermode\": \"closest\", \"mapbox\": {\"style\": \"light\"}, \"paper_bgcolor\": \"white\", \"plot_bgcolor\": \"#E5ECF6\", \"polar\": {\"angularaxis\": {\"gridcolor\": \"white\", \"linecolor\": \"white\", \"ticks\": \"\"}, \"bgcolor\": \"#E5ECF6\", \"radialaxis\": {\"gridcolor\": \"white\", \"linecolor\": \"white\", \"ticks\": \"\"}}, \"scene\": {\"xaxis\": {\"backgroundcolor\": \"#E5ECF6\", \"gridcolor\": \"white\", \"gridwidth\": 2, \"linecolor\": \"white\", \"showbackground\": true, \"ticks\": \"\", \"zerolinecolor\": \"white\"}, \"yaxis\": {\"backgroundcolor\": \"#E5ECF6\", \"gridcolor\": \"white\", \"gridwidth\": 2, \"linecolor\": \"white\", \"showbackground\": true, \"ticks\": \"\", \"zerolinecolor\": \"white\"}, \"zaxis\": {\"backgroundcolor\": \"#E5ECF6\", \"gridcolor\": \"white\", \"gridwidth\": 2, \"linecolor\": \"white\", \"showbackground\": true, \"ticks\": \"\", \"zerolinecolor\": \"white\"}}, \"shapedefaults\": {\"line\": {\"color\": \"#2a3f5f\"}}, \"ternary\": {\"aaxis\": {\"gridcolor\": \"white\", \"linecolor\": \"white\", \"ticks\": \"\"}, \"baxis\": {\"gridcolor\": \"white\", \"linecolor\": \"white\", \"ticks\": \"\"}, \"bgcolor\": \"#E5ECF6\", \"caxis\": {\"gridcolor\": \"white\", \"linecolor\": \"white\", \"ticks\": \"\"}}, \"title\": {\"x\": 0.05}, \"xaxis\": {\"automargin\": true, \"gridcolor\": \"white\", \"linecolor\": \"white\", \"ticks\": \"\", \"title\": {\"standoff\": 15}, \"zerolinecolor\": \"white\", \"zerolinewidth\": 2}, \"yaxis\": {\"automargin\": true, \"gridcolor\": \"white\", \"linecolor\": \"white\", \"ticks\": \"\", \"title\": {\"standoff\": 15}, \"zerolinecolor\": \"white\", \"zerolinewidth\": 2}}}, \"title\": {\"text\": \"Noise\"}, \"xaxis\": {\"title\": {\"text\": \"Date\"}}, \"yaxis\": {\"title\": {\"text\": \"Total Calls\"}}},\n",
              "                        {\"responsive\": true}\n",
              "                    ).then(function(){\n",
              "                            \n",
              "var gd = document.getElementById('6bce2a66-a6b4-43bc-8048-7d366704b531');\n",
              "var x = new MutationObserver(function (mutations, observer) {{\n",
              "        var display = window.getComputedStyle(gd).display;\n",
              "        if (!display || display === 'none') {{\n",
              "            console.log([gd, 'removed!']);\n",
              "            Plotly.purge(gd);\n",
              "            observer.disconnect();\n",
              "        }}\n",
              "}});\n",
              "\n",
              "// Listen for the removal of the full notebook cells\n",
              "var notebookContainer = gd.closest('#notebook-container');\n",
              "if (notebookContainer) {{\n",
              "    x.observe(notebookContainer, {childList: true});\n",
              "}}\n",
              "\n",
              "// Listen for the clearing of the current output cell\n",
              "var outputEl = gd.closest('.output');\n",
              "if (outputEl) {{\n",
              "    x.observe(outputEl, {childList: true});\n",
              "}}\n",
              "\n",
              "                        })\n",
              "                };\n",
              "                });\n",
              "            </script>\n",
              "        </div>"
            ],
            "application/vnd.plotly.v1+json": {
              "data": [
                {
                  "name": "Noise - Residential",
                  "stackgroup": "one",
                  "mode": "lines",
                  "hoverinfo": "x+y",
                  "y": [
                    550,
                    663,
                    1232,
                    750,
                    657,
                    1393,
                    2557,
                    1042,
                    764,
                    725,
                    604,
                    1135,
                    2139,
                    2003,
                    1025,
                    1142,
                    1820,
                    1002,
                    1631,
                    4599,
                    3426,
                    1608,
                    743,
                    726,
                    800,
                    1273,
                    1803,
                    1942,
                    782,
                    744,
                    581,
                    718,
                    923,
                    3113,
                    4688,
                    1235,
                    536,
                    577,
                    581,
                    613,
                    1537,
                    1756,
                    657,
                    892,
                    659,
                    867,
                    1281,
                    1384,
                    1731,
                    1244,
                    982,
                    1306,
                    1432,
                    1038,
                    2573,
                    2515,
                    984,
                    554,
                    1158,
                    645,
                    965,
                    4210,
                    2915,
                    756,
                    982,
                    1350,
                    1324,
                    1222,
                    3351,
                    3667,
                    2024,
                    958,
                    761,
                    1117,
                    795,
                    2936,
                    2086,
                    1391,
                    665,
                    707,
                    790,
                    964,
                    2095,
                    2615,
                    1397,
                    497,
                    631,
                    837,
                    962,
                    1900,
                    2451,
                    1555,
                    891,
                    1169,
                    1377,
                    1525,
                    2258,
                    2821,
                    2796,
                    868,
                    852,
                    918,
                    974,
                    2587,
                    3051,
                    1647,
                    1123,
                    1337,
                    2697,
                    1691,
                    2924,
                    2889,
                    1653,
                    1144,
                    818,
                    1048,
                    1268,
                    2654,
                    2409,
                    672,
                    598,
                    741,
                    1166,
                    1834,
                    2460,
                    2986,
                    1145,
                    994,
                    841,
                    878,
                    1285,
                    2987,
                    2827,
                    710,
                    617,
                    891,
                    757,
                    776,
                    2124,
                    1749,
                    706,
                    724,
                    843,
                    779,
                    1129,
                    1874,
                    1670,
                    708,
                    665,
                    602,
                    635,
                    872,
                    1945,
                    2159,
                    535,
                    943,
                    613,
                    626,
                    1059,
                    1776,
                    1743,
                    754,
                    620,
                    603,
                    580,
                    755,
                    1468,
                    1228,
                    581,
                    495,
                    668,
                    553,
                    900,
                    1545,
                    1305,
                    871,
                    689,
                    85
                  ],
                  "x": [
                    "2020-06-01",
                    "2020-06-02",
                    "2020-06-03",
                    "2020-06-04",
                    "2020-06-05",
                    "2020-06-06",
                    "2020-06-07",
                    "2020-06-08",
                    "2020-06-09",
                    "2020-06-10",
                    "2020-06-11",
                    "2020-06-12",
                    "2020-06-13",
                    "2020-06-14",
                    "2020-06-15",
                    "2020-06-16",
                    "2020-06-17",
                    "2020-06-18",
                    "2020-06-19",
                    "2020-06-20",
                    "2020-06-21",
                    "2020-06-22",
                    "2020-06-23",
                    "2020-06-24",
                    "2020-06-25",
                    "2020-06-26",
                    "2020-06-27",
                    "2020-06-28",
                    "2020-06-29",
                    "2020-06-30",
                    "2020-07-01",
                    "2020-07-02",
                    "2020-07-03",
                    "2020-07-04",
                    "2020-07-05",
                    "2020-07-06",
                    "2020-07-07",
                    "2020-07-08",
                    "2020-07-09",
                    "2020-07-10",
                    "2020-07-11",
                    "2020-07-12",
                    "2020-07-13",
                    "2020-07-14",
                    "2020-07-15",
                    "2020-07-16",
                    "2020-07-17",
                    "2020-07-18",
                    "2020-07-19",
                    "2020-07-20",
                    "2020-07-21",
                    "2020-07-22",
                    "2020-07-23",
                    "2020-07-24",
                    "2020-07-25",
                    "2020-07-26",
                    "2020-07-27",
                    "2020-07-28",
                    "2020-07-29",
                    "2020-07-30",
                    "2020-07-31",
                    "2020-08-01",
                    "2020-08-02",
                    "2020-08-03",
                    "2020-08-04",
                    "2020-08-05",
                    "2020-08-06",
                    "2020-08-07",
                    "2020-08-08",
                    "2020-08-09",
                    "2020-08-10",
                    "2020-08-11",
                    "2020-08-12",
                    "2020-08-13",
                    "2020-08-14",
                    "2020-08-15",
                    "2020-08-16",
                    "2020-08-17",
                    "2020-08-18",
                    "2020-08-19",
                    "2020-08-20",
                    "2020-08-21",
                    "2020-08-22",
                    "2020-08-23",
                    "2020-08-24",
                    "2020-08-25",
                    "2020-08-26",
                    "2020-08-27",
                    "2020-08-28",
                    "2020-08-29",
                    "2020-08-30",
                    "2020-08-31",
                    "2020-09-01",
                    "2020-09-02",
                    "2020-09-03",
                    "2020-09-04",
                    "2020-09-05",
                    "2020-09-06",
                    "2020-09-07",
                    "2020-09-08",
                    "2020-09-09",
                    "2020-09-10",
                    "2020-09-11",
                    "2020-09-12",
                    "2020-09-13",
                    "2020-09-14",
                    "2020-09-15",
                    "2020-09-16",
                    "2020-09-17",
                    "2020-09-18",
                    "2020-09-19",
                    "2020-09-20",
                    "2020-09-21",
                    "2020-09-22",
                    "2020-09-23",
                    "2020-09-24",
                    "2020-09-25",
                    "2020-09-26",
                    "2020-09-27",
                    "2020-09-28",
                    "2020-09-29",
                    "2020-09-30",
                    "2020-10-01",
                    "2020-10-02",
                    "2020-10-03",
                    "2020-10-04",
                    "2020-10-05",
                    "2020-10-06",
                    "2020-10-07",
                    "2020-10-08",
                    "2020-10-09",
                    "2020-10-10",
                    "2020-10-11",
                    "2020-10-12",
                    "2020-10-13",
                    "2020-10-14",
                    "2020-10-15",
                    "2020-10-16",
                    "2020-10-17",
                    "2020-10-18",
                    "2020-10-19",
                    "2020-10-20",
                    "2020-10-21",
                    "2020-10-22",
                    "2020-10-23",
                    "2020-10-24",
                    "2020-10-25",
                    "2020-10-26",
                    "2020-10-27",
                    "2020-10-28",
                    "2020-10-29",
                    "2020-10-30",
                    "2020-10-31",
                    "2020-11-01",
                    "2020-11-02",
                    "2020-11-03",
                    "2020-11-04",
                    "2020-11-05",
                    "2020-11-06",
                    "2020-11-07",
                    "2020-11-08",
                    "2020-11-09",
                    "2020-11-10",
                    "2020-11-11",
                    "2020-11-12",
                    "2020-11-13",
                    "2020-11-14",
                    "2020-11-15",
                    "2020-11-16",
                    "2020-11-17",
                    "2020-11-18",
                    "2020-11-19",
                    "2020-11-20",
                    "2020-11-21",
                    "2020-11-22",
                    "2020-11-23",
                    "2020-11-24",
                    "2020-11-25"
                  ],
                  "line": {
                    "color": "#003f5c",
                    "width": 0.5
                  },
                  "type": "scatter"
                },
                {
                  "name": "Noise - Street/Sidewalk",
                  "stackgroup": "two",
                  "mode": "lines",
                  "hoverinfo": "x+y",
                  "y": [
                    309,
                    333,
                    383,
                    641,
                    391,
                    987,
                    1480,
                    1086,
                    1077,
                    965,
                    621,
                    1317,
                    2134,
                    2393,
                    1342,
                    1411,
                    1551,
                    1669,
                    2332,
                    3489,
                    4287,
                    2128,
                    1306,
                    1266,
                    1466,
                    1758,
                    2284,
                    2629,
                    1229,
                    929,
                    551,
                    1057,
                    1170,
                    2344,
                    2946,
                    679,
                    524,
                    494,
                    723,
                    460,
                    961,
                    1911,
                    883,
                    702,
                    748,
                    937,
                    1049,
                    1311,
                    1795,
                    762,
                    597,
                    317,
                    529,
                    933,
                    1664,
                    1765,
                    853,
                    551,
                    623,
                    562,
                    881,
                    1821,
                    1723,
                    582,
                    306,
                    607,
                    766,
                    694,
                    1711,
                    2146,
                    758,
                    518,
                    410,
                    523,
                    1007,
                    1907,
                    1558,
                    498,
                    594,
                    675,
                    945,
                    1227,
                    1756,
                    1885,
                    557,
                    376,
                    556,
                    414,
                    729,
                    1338,
                    1929,
                    837,
                    532,
                    458,
                    258,
                    814,
                    1710,
                    1965,
                    1797,
                    652,
                    498,
                    194,
                    927,
                    1617,
                    1772,
                    593,
                    532,
                    531,
                    760,
                    865,
                    1192,
                    1084,
                    479,
                    306,
                    629,
                    657,
                    999,
                    1618,
                    1437,
                    507,
                    496,
                    597,
                    798,
                    1334,
                    1100,
                    544,
                    474,
                    388,
                    324,
                    710,
                    1350,
                    1056,
                    115,
                    243,
                    587,
                    640,
                    306,
                    606,
                    931,
                    407,
                    471,
                    515,
                    588,
                    957,
                    1083,
                    463,
                    264,
                    326,
                    102,
                    148,
                    397,
                    329,
                    143,
                    191,
                    343,
                    448,
                    739,
                    929,
                    1101,
                    529,
                    509,
                    160,
                    303,
                    518,
                    173,
                    124,
                    91,
                    143,
                    643,
                    333,
                    193,
                    263,
                    355,
                    190,
                    383,
                    477,
                    126,
                    28
                  ],
                  "x": [
                    "2020-06-01",
                    "2020-06-02",
                    "2020-06-03",
                    "2020-06-04",
                    "2020-06-05",
                    "2020-06-06",
                    "2020-06-07",
                    "2020-06-08",
                    "2020-06-09",
                    "2020-06-10",
                    "2020-06-11",
                    "2020-06-12",
                    "2020-06-13",
                    "2020-06-14",
                    "2020-06-15",
                    "2020-06-16",
                    "2020-06-17",
                    "2020-06-18",
                    "2020-06-19",
                    "2020-06-20",
                    "2020-06-21",
                    "2020-06-22",
                    "2020-06-23",
                    "2020-06-24",
                    "2020-06-25",
                    "2020-06-26",
                    "2020-06-27",
                    "2020-06-28",
                    "2020-06-29",
                    "2020-06-30",
                    "2020-07-01",
                    "2020-07-02",
                    "2020-07-03",
                    "2020-07-04",
                    "2020-07-05",
                    "2020-07-06",
                    "2020-07-07",
                    "2020-07-08",
                    "2020-07-09",
                    "2020-07-10",
                    "2020-07-11",
                    "2020-07-12",
                    "2020-07-13",
                    "2020-07-14",
                    "2020-07-15",
                    "2020-07-16",
                    "2020-07-17",
                    "2020-07-18",
                    "2020-07-19",
                    "2020-07-20",
                    "2020-07-21",
                    "2020-07-22",
                    "2020-07-23",
                    "2020-07-24",
                    "2020-07-25",
                    "2020-07-26",
                    "2020-07-27",
                    "2020-07-28",
                    "2020-07-29",
                    "2020-07-30",
                    "2020-07-31",
                    "2020-08-01",
                    "2020-08-02",
                    "2020-08-03",
                    "2020-08-04",
                    "2020-08-05",
                    "2020-08-06",
                    "2020-08-07",
                    "2020-08-08",
                    "2020-08-09",
                    "2020-08-10",
                    "2020-08-11",
                    "2020-08-12",
                    "2020-08-13",
                    "2020-08-14",
                    "2020-08-15",
                    "2020-08-16",
                    "2020-08-17",
                    "2020-08-18",
                    "2020-08-19",
                    "2020-08-20",
                    "2020-08-21",
                    "2020-08-22",
                    "2020-08-23",
                    "2020-08-24",
                    "2020-08-25",
                    "2020-08-26",
                    "2020-08-27",
                    "2020-08-28",
                    "2020-08-29",
                    "2020-08-30",
                    "2020-08-31",
                    "2020-09-01",
                    "2020-09-02",
                    "2020-09-03",
                    "2020-09-04",
                    "2020-09-05",
                    "2020-09-06",
                    "2020-09-07",
                    "2020-09-08",
                    "2020-09-09",
                    "2020-09-10",
                    "2020-09-11",
                    "2020-09-12",
                    "2020-09-13",
                    "2020-09-14",
                    "2020-09-15",
                    "2020-09-16",
                    "2020-09-17",
                    "2020-09-18",
                    "2020-09-19",
                    "2020-09-20",
                    "2020-09-21",
                    "2020-09-22",
                    "2020-09-23",
                    "2020-09-24",
                    "2020-09-25",
                    "2020-09-26",
                    "2020-09-27",
                    "2020-09-28",
                    "2020-09-30",
                    "2020-10-01",
                    "2020-10-02",
                    "2020-10-03",
                    "2020-10-04",
                    "2020-10-05",
                    "2020-10-06",
                    "2020-10-07",
                    "2020-10-08",
                    "2020-10-09",
                    "2020-10-10",
                    "2020-10-11",
                    "2020-10-12",
                    "2020-10-13",
                    "2020-10-14",
                    "2020-10-15",
                    "2020-10-16",
                    "2020-10-17",
                    "2020-10-18",
                    "2020-10-19",
                    "2020-10-20",
                    "2020-10-21",
                    "2020-10-22",
                    "2020-10-23",
                    "2020-10-24",
                    "2020-10-25",
                    "2020-10-26",
                    "2020-10-27",
                    "2020-10-29",
                    "2020-10-30",
                    "2020-10-31",
                    "2020-11-01",
                    "2020-11-02",
                    "2020-11-03",
                    "2020-11-04",
                    "2020-11-05",
                    "2020-11-06",
                    "2020-11-07",
                    "2020-11-08",
                    "2020-11-09",
                    "2020-11-10",
                    "2020-11-12",
                    "2020-11-13",
                    "2020-11-14",
                    "2020-11-16",
                    "2020-11-17",
                    "2020-11-18",
                    "2020-11-19",
                    "2020-11-21",
                    "2020-11-22",
                    "2020-11-24",
                    "2020-09-29",
                    "2020-10-28",
                    "2020-11-11",
                    "2020-11-15",
                    "2020-11-20",
                    "2020-11-23",
                    "2020-11-25"
                  ],
                  "line": {
                    "color": "#58508d",
                    "width": 0.5
                  },
                  "type": "scatter"
                },
                {
                  "name": "Noise - Vehicle",
                  "stackgroup": "three",
                  "mode": "lines",
                  "hoverinfo": "x+y",
                  "y": [
                    131,
                    113,
                    165,
                    326,
                    453,
                    406,
                    350,
                    377,
                    471,
                    520,
                    291,
                    335,
                    317,
                    338,
                    442,
                    582,
                    593,
                    320,
                    250,
                    266,
                    327,
                    428,
                    463,
                    549,
                    302,
                    197,
                    256,
                    264,
                    338,
                    457,
                    200,
                    195,
                    232,
                    293,
                    229,
                    279,
                    536,
                    296,
                    321,
                    311,
                    312,
                    358,
                    410,
                    570,
                    255,
                    191,
                    199,
                    334,
                    460,
                    466,
                    291,
                    193,
                    252,
                    190,
                    295,
                    689,
                    630,
                    193,
                    261,
                    325,
                    187,
                    524,
                    602,
                    297,
                    230,
                    205,
                    222,
                    411,
                    612,
                    509,
                    244,
                    246,
                    262,
                    292,
                    403,
                    475,
                    707,
                    250,
                    183,
                    312,
                    253,
                    397,
                    569,
                    381,
                    210,
                    238,
                    680,
                    437,
                    479,
                    600,
                    249,
                    219,
                    110,
                    312,
                    467,
                    981,
                    310,
                    240,
                    236,
                    285,
                    852,
                    657,
                    512,
                    158,
                    323,
                    327,
                    362,
                    473,
                    505,
                    244,
                    170,
                    264,
                    248,
                    659,
                    505,
                    382,
                    223,
                    232,
                    224,
                    274,
                    414,
                    136,
                    187,
                    234,
                    238,
                    235,
                    280,
                    407,
                    186,
                    238,
                    289,
                    377,
                    489,
                    217,
                    134,
                    216,
                    231,
                    131,
                    544,
                    411,
                    488,
                    240,
                    190,
                    101,
                    175,
                    198,
                    138,
                    92,
                    74,
                    109,
                    236,
                    300,
                    190,
                    93,
                    108,
                    256,
                    152,
                    359,
                    222,
                    256,
                    252,
                    219,
                    135,
                    152,
                    413,
                    165,
                    148,
                    106,
                    128,
                    237,
                    113,
                    628,
                    344,
                    100,
                    126,
                    990,
                    189,
                    4
                  ],
                  "x": [
                    "2020-06-01",
                    "2020-06-02",
                    "2020-06-03",
                    "2020-06-06",
                    "2020-06-07",
                    "2020-06-08",
                    "2020-06-09",
                    "2020-06-12",
                    "2020-06-13",
                    "2020-06-14",
                    "2020-06-15",
                    "2020-06-16",
                    "2020-06-17",
                    "2020-06-18",
                    "2020-06-19",
                    "2020-06-20",
                    "2020-06-21",
                    "2020-06-22",
                    "2020-06-23",
                    "2020-06-24",
                    "2020-06-25",
                    "2020-06-26",
                    "2020-06-27",
                    "2020-06-28",
                    "2020-06-29",
                    "2020-07-01",
                    "2020-07-02",
                    "2020-07-03",
                    "2020-07-04",
                    "2020-07-05",
                    "2020-07-06",
                    "2020-07-07",
                    "2020-07-08",
                    "2020-07-09",
                    "2020-07-10",
                    "2020-07-11",
                    "2020-07-12",
                    "2020-07-13",
                    "2020-07-14",
                    "2020-07-15",
                    "2020-07-16",
                    "2020-07-17",
                    "2020-07-18",
                    "2020-07-19",
                    "2020-07-20",
                    "2020-07-21",
                    "2020-07-23",
                    "2020-07-24",
                    "2020-07-25",
                    "2020-07-26",
                    "2020-07-27",
                    "2020-07-28",
                    "2020-07-29",
                    "2020-07-30",
                    "2020-07-31",
                    "2020-08-01",
                    "2020-08-02",
                    "2020-08-04",
                    "2020-08-05",
                    "2020-08-06",
                    "2020-08-07",
                    "2020-08-08",
                    "2020-08-09",
                    "2020-08-10",
                    "2020-08-11",
                    "2020-08-12",
                    "2020-08-13",
                    "2020-08-14",
                    "2020-08-15",
                    "2020-08-16",
                    "2020-08-17",
                    "2020-08-18",
                    "2020-08-19",
                    "2020-08-20",
                    "2020-08-21",
                    "2020-08-22",
                    "2020-08-23",
                    "2020-08-24",
                    "2020-08-25",
                    "2020-08-26",
                    "2020-08-28",
                    "2020-08-29",
                    "2020-08-30",
                    "2020-08-31",
                    "2020-09-01",
                    "2020-09-02",
                    "2020-09-04",
                    "2020-09-05",
                    "2020-09-06",
                    "2020-09-07",
                    "2020-09-08",
                    "2020-09-09",
                    "2020-09-10",
                    "2020-09-11",
                    "2020-09-12",
                    "2020-09-13",
                    "2020-09-14",
                    "2020-09-15",
                    "2020-09-16",
                    "2020-09-17",
                    "2020-09-19",
                    "2020-09-20",
                    "2020-09-21",
                    "2020-09-22",
                    "2020-09-23",
                    "2020-09-24",
                    "2020-09-25",
                    "2020-09-26",
                    "2020-09-27",
                    "2020-09-28",
                    "2020-09-29",
                    "2020-09-30",
                    "2020-10-01",
                    "2020-10-02",
                    "2020-10-03",
                    "2020-10-04",
                    "2020-10-05",
                    "2020-10-06",
                    "2020-10-07",
                    "2020-10-09",
                    "2020-10-10",
                    "2020-10-12",
                    "2020-10-13",
                    "2020-10-14",
                    "2020-10-15",
                    "2020-10-17",
                    "2020-10-18",
                    "2020-10-19",
                    "2020-10-20",
                    "2020-10-21",
                    "2020-10-22",
                    "2020-10-23",
                    "2020-10-24",
                    "2020-10-25",
                    "2020-10-26",
                    "2020-10-27",
                    "2020-10-31",
                    "2020-11-03",
                    "2020-11-04",
                    "2020-11-07",
                    "2020-11-08",
                    "2020-11-09",
                    "2020-11-10",
                    "2020-11-12",
                    "2020-11-13",
                    "2020-11-14",
                    "2020-11-16",
                    "2020-11-17",
                    "2020-11-18",
                    "2020-11-19",
                    "2020-11-20",
                    "2020-11-21",
                    "2020-11-22",
                    "2020-11-23",
                    "2020-11-24",
                    "2020-06-04",
                    "2020-06-05",
                    "2020-06-10",
                    "2020-06-11",
                    "2020-06-30",
                    "2020-08-03",
                    "2020-08-27",
                    "2020-09-03",
                    "2020-10-08",
                    "2020-10-11",
                    "2020-10-16",
                    "2020-10-28",
                    "2020-10-29",
                    "2020-10-30",
                    "2020-11-01",
                    "2020-11-02",
                    "2020-11-05",
                    "2020-11-06",
                    "2020-11-11",
                    "2020-07-22",
                    "2020-09-18",
                    "2020-11-15",
                    "2020-11-25"
                  ],
                  "line": {
                    "color": "#bc5090",
                    "width": 0.5
                  },
                  "type": "scatter"
                },
                {
                  "name": "Noise - Commercial",
                  "stackgroup": "four",
                  "mode": "lines",
                  "hoverinfo": "x+y",
                  "y": [
                    42,
                    78,
                    69,
                    81,
                    87,
                    96,
                    208,
                    153,
                    191,
                    129,
                    151,
                    162,
                    249,
                    282,
                    246,
                    124,
                    132,
                    150,
                    173,
                    242,
                    234,
                    197,
                    279,
                    391,
                    123,
                    134,
                    265,
                    304,
                    309,
                    113,
                    124,
                    264,
                    298,
                    254,
                    97,
                    110,
                    178,
                    284,
                    209,
                    65,
                    148,
                    156,
                    313,
                    245,
                    171,
                    298,
                    170,
                    109,
                    103,
                    147,
                    240,
                    267,
                    255,
                    78,
                    101,
                    162,
                    260,
                    317,
                    151,
                    122,
                    100,
                    190,
                    309,
                    97,
                    106,
                    258,
                    403,
                    345,
                    157,
                    235,
                    337,
                    357,
                    112,
                    214,
                    239,
                    282,
                    393,
                    374,
                    105,
                    84,
                    159,
                    430,
                    361,
                    99,
                    168,
                    270,
                    369,
                    305,
                    165,
                    265,
                    290,
                    165,
                    241,
                    322,
                    155,
                    141,
                    260,
                    137,
                    88,
                    153,
                    52,
                    135,
                    155,
                    176,
                    89,
                    95,
                    98,
                    106,
                    157,
                    100,
                    114,
                    109,
                    107,
                    175,
                    245,
                    111,
                    97,
                    81,
                    101,
                    116,
                    115,
                    77,
                    275,
                    186,
                    88,
                    127,
                    169,
                    203,
                    106,
                    203,
                    265,
                    111,
                    88,
                    81,
                    147,
                    115,
                    117,
                    194,
                    95,
                    90,
                    116,
                    244,
                    48,
                    94,
                    168,
                    300,
                    101,
                    103,
                    116,
                    132,
                    50,
                    64,
                    132,
                    57,
                    5,
                    49,
                    54,
                    90,
                    66,
                    157,
                    123,
                    56,
                    89,
                    109,
                    110,
                    77,
                    98,
                    46,
                    68,
                    93,
                    69,
                    182,
                    52,
                    184,
                    37,
                    66,
                    232,
                    74
                  ],
                  "x": [
                    "2020-06-01",
                    "2020-06-06",
                    "2020-06-08",
                    "2020-06-09",
                    "2020-06-10",
                    "2020-06-11",
                    "2020-06-13",
                    "2020-06-19",
                    "2020-06-20",
                    "2020-06-23",
                    "2020-06-24",
                    "2020-06-25",
                    "2020-06-26",
                    "2020-06-27",
                    "2020-06-28",
                    "2020-06-30",
                    "2020-07-01",
                    "2020-07-02",
                    "2020-07-03",
                    "2020-07-04",
                    "2020-07-05",
                    "2020-07-09",
                    "2020-07-11",
                    "2020-07-12",
                    "2020-07-14",
                    "2020-07-15",
                    "2020-07-17",
                    "2020-07-18",
                    "2020-07-19",
                    "2020-07-21",
                    "2020-07-23",
                    "2020-07-24",
                    "2020-07-25",
                    "2020-07-26",
                    "2020-07-27",
                    "2020-07-30",
                    "2020-07-31",
                    "2020-08-01",
                    "2020-08-02",
                    "2020-08-03",
                    "2020-08-06",
                    "2020-08-07",
                    "2020-08-08",
                    "2020-08-09",
                    "2020-08-14",
                    "2020-08-15",
                    "2020-08-16",
                    "2020-08-17",
                    "2020-08-18",
                    "2020-08-20",
                    "2020-08-21",
                    "2020-08-22",
                    "2020-08-23",
                    "2020-08-24",
                    "2020-08-26",
                    "2020-08-28",
                    "2020-08-29",
                    "2020-08-30",
                    "2020-08-31",
                    "2020-09-01",
                    "2020-09-03",
                    "2020-09-04",
                    "2020-09-05",
                    "2020-09-08",
                    "2020-09-09",
                    "2020-09-11",
                    "2020-09-12",
                    "2020-09-13",
                    "2020-09-15",
                    "2020-09-18",
                    "2020-09-19",
                    "2020-09-20",
                    "2020-09-21",
                    "2020-09-23",
                    "2020-09-24",
                    "2020-09-25",
                    "2020-09-26",
                    "2020-09-27",
                    "2020-09-28",
                    "2020-09-29",
                    "2020-09-30",
                    "2020-10-03",
                    "2020-10-04",
                    "2020-10-06",
                    "2020-10-08",
                    "2020-10-09",
                    "2020-10-10",
                    "2020-10-11",
                    "2020-10-15",
                    "2020-10-17",
                    "2020-10-18",
                    "2020-10-21",
                    "2020-10-23",
                    "2020-10-24",
                    "2020-10-25",
                    "2020-11-05",
                    "2020-11-07",
                    "2020-11-10",
                    "2020-11-11",
                    "2020-11-20",
                    "2020-06-03",
                    "2020-06-07",
                    "2020-06-12",
                    "2020-06-14",
                    "2020-06-15",
                    "2020-06-16",
                    "2020-06-17",
                    "2020-06-18",
                    "2020-06-21",
                    "2020-06-22",
                    "2020-06-29",
                    "2020-07-06",
                    "2020-07-10",
                    "2020-07-13",
                    "2020-07-16",
                    "2020-08-05",
                    "2020-08-10",
                    "2020-08-11",
                    "2020-08-13",
                    "2020-08-19",
                    "2020-08-27",
                    "2020-09-02",
                    "2020-09-06",
                    "2020-09-07",
                    "2020-09-10",
                    "2020-09-14",
                    "2020-09-16",
                    "2020-09-17",
                    "2020-09-22",
                    "2020-10-01",
                    "2020-10-02",
                    "2020-10-07",
                    "2020-10-12",
                    "2020-10-13",
                    "2020-10-14",
                    "2020-10-16",
                    "2020-10-19",
                    "2020-10-22",
                    "2020-10-27",
                    "2020-10-28",
                    "2020-10-30",
                    "2020-10-31",
                    "2020-11-03",
                    "2020-11-04",
                    "2020-11-06",
                    "2020-11-08",
                    "2020-11-09",
                    "2020-11-12",
                    "2020-11-13",
                    "2020-11-15",
                    "2020-11-17",
                    "2020-11-18",
                    "2020-11-22",
                    "2020-11-24",
                    "2020-11-25",
                    "2020-06-02",
                    "2020-06-05",
                    "2020-07-22",
                    "2020-08-25",
                    "2020-10-05",
                    "2020-10-20",
                    "2020-06-04",
                    "2020-07-07",
                    "2020-07-08",
                    "2020-07-20",
                    "2020-07-28",
                    "2020-07-29",
                    "2020-08-04",
                    "2020-08-12",
                    "2020-10-26",
                    "2020-10-29",
                    "2020-11-01",
                    "2020-11-02",
                    "2020-11-14",
                    "2020-11-16",
                    "2020-11-19",
                    "2020-11-21",
                    "2020-11-23"
                  ],
                  "line": {
                    "color": "#ffa600",
                    "width": 0.5
                  },
                  "type": "scatter"
                },
                {
                  "name": "Noise - Unspecified",
                  "stackgroup": "one",
                  "mode": "lines",
                  "hoverinfo": "x+y",
                  "y": [
                    106,
                    162,
                    126,
                    108,
                    104,
                    113,
                    121,
                    121,
                    134,
                    156,
                    156,
                    169,
                    177,
                    167,
                    125,
                    130,
                    66,
                    115,
                    142,
                    140,
                    114,
                    68,
                    114,
                    111,
                    152,
                    34,
                    39,
                    97,
                    121,
                    80,
                    53,
                    105,
                    150,
                    116,
                    78,
                    97,
                    78,
                    70,
                    84,
                    84,
                    95,
                    100,
                    36,
                    117,
                    108,
                    90,
                    126,
                    63,
                    96,
                    118,
                    99,
                    93,
                    41,
                    119,
                    132,
                    107,
                    101,
                    55,
                    86,
                    80,
                    129,
                    147,
                    103,
                    97,
                    150,
                    135,
                    159,
                    125,
                    103,
                    153,
                    170,
                    193,
                    188,
                    147,
                    159,
                    87,
                    170,
                    178,
                    178,
                    130,
                    100,
                    132,
                    181,
                    181,
                    173,
                    127,
                    70,
                    178,
                    214,
                    176,
                    147,
                    116,
                    72,
                    185,
                    239,
                    124,
                    145,
                    228,
                    193,
                    226,
                    204,
                    147,
                    97,
                    202,
                    234,
                    138,
                    108,
                    123,
                    172,
                    162,
                    133,
                    100,
                    166,
                    186,
                    127,
                    120,
                    168,
                    148,
                    123,
                    149,
                    151,
                    128,
                    162,
                    148,
                    90,
                    106,
                    140,
                    57,
                    112,
                    86,
                    119,
                    109,
                    60,
                    90,
                    102,
                    81,
                    110,
                    68,
                    58,
                    108,
                    123,
                    136,
                    117,
                    103,
                    131,
                    156,
                    123,
                    148,
                    142,
                    140,
                    173,
                    149,
                    154,
                    118,
                    98,
                    187,
                    117,
                    173,
                    107,
                    89,
                    119,
                    147,
                    134,
                    95,
                    85,
                    109,
                    95,
                    92,
                    57,
                    45,
                    73,
                    89,
                    106,
                    166,
                    118,
                    134,
                    126
                  ],
                  "x": [
                    "2020-06-01",
                    "2020-06-02",
                    "2020-06-04",
                    "2020-06-05",
                    "2020-06-06",
                    "2020-06-07",
                    "2020-06-10",
                    "2020-06-11",
                    "2020-06-12",
                    "2020-06-13",
                    "2020-06-15",
                    "2020-06-16",
                    "2020-06-17",
                    "2020-06-18",
                    "2020-06-19",
                    "2020-06-20",
                    "2020-06-21",
                    "2020-06-23",
                    "2020-06-25",
                    "2020-06-26",
                    "2020-06-27",
                    "2020-06-28",
                    "2020-06-29",
                    "2020-06-30",
                    "2020-07-02",
                    "2020-07-04",
                    "2020-07-05",
                    "2020-07-06",
                    "2020-07-08",
                    "2020-07-12",
                    "2020-07-13",
                    "2020-07-15",
                    "2020-07-16",
                    "2020-07-17",
                    "2020-07-20",
                    "2020-07-21",
                    "2020-07-24",
                    "2020-07-25",
                    "2020-07-27",
                    "2020-07-28",
                    "2020-07-31",
                    "2020-08-01",
                    "2020-08-02",
                    "2020-08-05",
                    "2020-08-06",
                    "2020-08-07",
                    "2020-08-08",
                    "2020-08-09",
                    "2020-08-10",
                    "2020-08-11",
                    "2020-08-14",
                    "2020-08-15",
                    "2020-08-16",
                    "2020-08-17",
                    "2020-08-19",
                    "2020-08-20",
                    "2020-08-22",
                    "2020-08-23",
                    "2020-08-28",
                    "2020-08-30",
                    "2020-09-01",
                    "2020-09-03",
                    "2020-09-04",
                    "2020-09-05",
                    "2020-09-09",
                    "2020-09-10",
                    "2020-09-11",
                    "2020-09-12",
                    "2020-09-13",
                    "2020-09-14",
                    "2020-09-15",
                    "2020-09-16",
                    "2020-09-17",
                    "2020-09-18",
                    "2020-09-19",
                    "2020-09-20",
                    "2020-09-22",
                    "2020-09-23",
                    "2020-09-24",
                    "2020-09-26",
                    "2020-09-27",
                    "2020-09-28",
                    "2020-09-29",
                    "2020-09-30",
                    "2020-10-01",
                    "2020-10-03",
                    "2020-10-04",
                    "2020-10-05",
                    "2020-10-06",
                    "2020-10-07",
                    "2020-10-08",
                    "2020-10-09",
                    "2020-10-11",
                    "2020-10-13",
                    "2020-10-14",
                    "2020-10-16",
                    "2020-10-17",
                    "2020-10-20",
                    "2020-10-21",
                    "2020-10-22",
                    "2020-10-23",
                    "2020-10-24",
                    "2020-10-25",
                    "2020-10-27",
                    "2020-10-28",
                    "2020-10-29",
                    "2020-10-31",
                    "2020-11-02",
                    "2020-11-05",
                    "2020-11-06",
                    "2020-11-07",
                    "2020-11-08",
                    "2020-11-09",
                    "2020-11-10",
                    "2020-11-11",
                    "2020-11-13",
                    "2020-11-16",
                    "2020-11-17",
                    "2020-11-18",
                    "2020-11-19",
                    "2020-11-20",
                    "2020-11-24",
                    "2020-06-08",
                    "2020-06-09",
                    "2020-06-22",
                    "2020-06-24",
                    "2020-07-01",
                    "2020-07-03",
                    "2020-07-07",
                    "2020-07-10",
                    "2020-07-11",
                    "2020-07-14",
                    "2020-07-18",
                    "2020-07-22",
                    "2020-07-23",
                    "2020-07-29",
                    "2020-07-30",
                    "2020-08-03",
                    "2020-08-04",
                    "2020-08-12",
                    "2020-08-13",
                    "2020-08-18",
                    "2020-08-21",
                    "2020-08-24",
                    "2020-08-25",
                    "2020-08-26",
                    "2020-08-27",
                    "2020-08-31",
                    "2020-09-02",
                    "2020-09-08",
                    "2020-09-21",
                    "2020-09-25",
                    "2020-10-02",
                    "2020-10-10",
                    "2020-10-12",
                    "2020-10-15",
                    "2020-10-18",
                    "2020-10-19",
                    "2020-10-30",
                    "2020-11-01",
                    "2020-11-03",
                    "2020-11-04",
                    "2020-11-12",
                    "2020-11-15",
                    "2020-11-22",
                    "2020-06-03",
                    "2020-06-14",
                    "2020-07-09",
                    "2020-07-19",
                    "2020-07-26",
                    "2020-08-29",
                    "2020-09-06",
                    "2020-09-07",
                    "2020-10-26",
                    "2020-11-14",
                    "2020-11-21",
                    "2020-11-23"
                  ],
                  "line": {
                    "color": "#003f5c",
                    "width": 0.5
                  },
                  "type": "scatter"
                }
              ],
              "config": {
                "plotlyServerURL": "https://plot.ly"
              },
              "layout": {
                "template": {
                  "layout": {
                    "shapedefaults": {
                      "line": {
                        "color": "#2a3f5f"
                      }
                    },
                    "polar": {
                      "radialaxis": {
                        "ticks": "",
                        "gridcolor": "white",
                        "linecolor": "white"
                      },
                      "bgcolor": "#E5ECF6",
                      "angularaxis": {
                        "ticks": "",
                        "gridcolor": "white",
                        "linecolor": "white"
                      }
                    },
                    "colorway": [
                      "#636efa",
                      "#EF553B",
                      "#00cc96",
                      "#ab63fa",
                      "#FFA15A",
                      "#19d3f3",
                      "#FF6692",
                      "#B6E880",
                      "#FF97FF",
                      "#FECB52"
                    ],
                    "xaxis": {
                      "automargin": true,
                      "title": {
                        "standoff": 15
                      },
                      "zerolinewidth": 2,
                      "ticks": "",
                      "zerolinecolor": "white",
                      "gridcolor": "white",
                      "linecolor": "white"
                    },
                    "colorscale": {
                      "diverging": [
                        [
                          0,
                          "#8e0152"
                        ],
                        [
                          0.1,
                          "#c51b7d"
                        ],
                        [
                          0.2,
                          "#de77ae"
                        ],
                        [
                          0.3,
                          "#f1b6da"
                        ],
                        [
                          0.4,
                          "#fde0ef"
                        ],
                        [
                          0.5,
                          "#f7f7f7"
                        ],
                        [
                          0.6,
                          "#e6f5d0"
                        ],
                        [
                          0.7,
                          "#b8e186"
                        ],
                        [
                          0.8,
                          "#7fbc41"
                        ],
                        [
                          0.9,
                          "#4d9221"
                        ],
                        [
                          1,
                          "#276419"
                        ]
                      ],
                      "sequential": [
                        [
                          0,
                          "#0d0887"
                        ],
                        [
                          0.1111111111111111,
                          "#46039f"
                        ],
                        [
                          0.2222222222222222,
                          "#7201a8"
                        ],
                        [
                          0.3333333333333333,
                          "#9c179e"
                        ],
                        [
                          0.4444444444444444,
                          "#bd3786"
                        ],
                        [
                          0.5555555555555556,
                          "#d8576b"
                        ],
                        [
                          0.6666666666666666,
                          "#ed7953"
                        ],
                        [
                          0.7777777777777778,
                          "#fb9f3a"
                        ],
                        [
                          0.8888888888888888,
                          "#fdca26"
                        ],
                        [
                          1,
                          "#f0f921"
                        ]
                      ],
                      "sequentialminus": [
                        [
                          0,
                          "#0d0887"
                        ],
                        [
                          0.1111111111111111,
                          "#46039f"
                        ],
                        [
                          0.2222222222222222,
                          "#7201a8"
                        ],
                        [
                          0.3333333333333333,
                          "#9c179e"
                        ],
                        [
                          0.4444444444444444,
                          "#bd3786"
                        ],
                        [
                          0.5555555555555556,
                          "#d8576b"
                        ],
                        [
                          0.6666666666666666,
                          "#ed7953"
                        ],
                        [
                          0.7777777777777778,
                          "#fb9f3a"
                        ],
                        [
                          0.8888888888888888,
                          "#fdca26"
                        ],
                        [
                          1,
                          "#f0f921"
                        ]
                      ]
                    },
                    "paper_bgcolor": "white",
                    "plot_bgcolor": "#E5ECF6",
                    "title": {
                      "x": 0.05
                    },
                    "scene": {
                      "zaxis": {
                        "backgroundcolor": "#E5ECF6",
                        "ticks": "",
                        "gridwidth": 2,
                        "showbackground": true,
                        "zerolinecolor": "white",
                        "gridcolor": "white",
                        "linecolor": "white"
                      },
                      "xaxis": {
                        "backgroundcolor": "#E5ECF6",
                        "ticks": "",
                        "gridwidth": 2,
                        "showbackground": true,
                        "zerolinecolor": "white",
                        "gridcolor": "white",
                        "linecolor": "white"
                      },
                      "yaxis": {
                        "backgroundcolor": "#E5ECF6",
                        "ticks": "",
                        "gridwidth": 2,
                        "showbackground": true,
                        "zerolinecolor": "white",
                        "gridcolor": "white",
                        "linecolor": "white"
                      }
                    },
                    "yaxis": {
                      "automargin": true,
                      "title": {
                        "standoff": 15
                      },
                      "zerolinewidth": 2,
                      "ticks": "",
                      "zerolinecolor": "white",
                      "gridcolor": "white",
                      "linecolor": "white"
                    },
                    "annotationdefaults": {
                      "arrowwidth": 1,
                      "arrowhead": 0,
                      "arrowcolor": "#2a3f5f"
                    },
                    "hoverlabel": {
                      "align": "left"
                    },
                    "ternary": {
                      "bgcolor": "#E5ECF6",
                      "baxis": {
                        "ticks": "",
                        "gridcolor": "white",
                        "linecolor": "white"
                      },
                      "caxis": {
                        "ticks": "",
                        "gridcolor": "white",
                        "linecolor": "white"
                      },
                      "aaxis": {
                        "ticks": "",
                        "gridcolor": "white",
                        "linecolor": "white"
                      }
                    },
                    "mapbox": {
                      "style": "light"
                    },
                    "hovermode": "closest",
                    "font": {
                      "color": "#2a3f5f"
                    },
                    "geo": {
                      "showland": true,
                      "landcolor": "#E5ECF6",
                      "showlakes": true,
                      "bgcolor": "white",
                      "subunitcolor": "white",
                      "lakecolor": "white"
                    },
                    "coloraxis": {
                      "colorbar": {
                        "outlinewidth": 0,
                        "ticks": ""
                      }
                    }
                  },
                  "data": {
                    "mesh3d": [
                      {
                        "colorbar": {
                          "outlinewidth": 0,
                          "ticks": ""
                        },
                        "type": "mesh3d"
                      }
                    ],
                    "scattercarpet": [
                      {
                        "marker": {
                          "colorbar": {
                            "outlinewidth": 0,
                            "ticks": ""
                          }
                        },
                        "type": "scattercarpet"
                      }
                    ],
                    "pie": [
                      {
                        "automargin": true,
                        "type": "pie"
                      }
                    ],
                    "surface": [
                      {
                        "colorbar": {
                          "outlinewidth": 0,
                          "ticks": ""
                        },
                        "type": "surface",
                        "colorscale": [
                          [
                            0,
                            "#0d0887"
                          ],
                          [
                            0.1111111111111111,
                            "#46039f"
                          ],
                          [
                            0.2222222222222222,
                            "#7201a8"
                          ],
                          [
                            0.3333333333333333,
                            "#9c179e"
                          ],
                          [
                            0.4444444444444444,
                            "#bd3786"
                          ],
                          [
                            0.5555555555555556,
                            "#d8576b"
                          ],
                          [
                            0.6666666666666666,
                            "#ed7953"
                          ],
                          [
                            0.7777777777777778,
                            "#fb9f3a"
                          ],
                          [
                            0.8888888888888888,
                            "#fdca26"
                          ],
                          [
                            1,
                            "#f0f921"
                          ]
                        ]
                      }
                    ],
                    "table": [
                      {
                        "header": {
                          "line": {
                            "color": "white"
                          },
                          "fill": {
                            "color": "#C8D4E3"
                          }
                        },
                        "cells": {
                          "line": {
                            "color": "white"
                          },
                          "fill": {
                            "color": "#EBF0F8"
                          }
                        },
                        "type": "table"
                      }
                    ],
                    "scatterpolargl": [
                      {
                        "marker": {
                          "colorbar": {
                            "outlinewidth": 0,
                            "ticks": ""
                          }
                        },
                        "type": "scatterpolargl"
                      }
                    ],
                    "contour": [
                      {
                        "colorbar": {
                          "outlinewidth": 0,
                          "ticks": ""
                        },
                        "type": "contour",
                        "colorscale": [
                          [
                            0,
                            "#0d0887"
                          ],
                          [
                            0.1111111111111111,
                            "#46039f"
                          ],
                          [
                            0.2222222222222222,
                            "#7201a8"
                          ],
                          [
                            0.3333333333333333,
                            "#9c179e"
                          ],
                          [
                            0.4444444444444444,
                            "#bd3786"
                          ],
                          [
                            0.5555555555555556,
                            "#d8576b"
                          ],
                          [
                            0.6666666666666666,
                            "#ed7953"
                          ],
                          [
                            0.7777777777777778,
                            "#fb9f3a"
                          ],
                          [
                            0.8888888888888888,
                            "#fdca26"
                          ],
                          [
                            1,
                            "#f0f921"
                          ]
                        ]
                      }
                    ],
                    "carpet": [
                      {
                        "type": "carpet",
                        "baxis": {
                          "minorgridcolor": "white",
                          "gridcolor": "white",
                          "linecolor": "white",
                          "endlinecolor": "#2a3f5f",
                          "startlinecolor": "#2a3f5f"
                        },
                        "aaxis": {
                          "minorgridcolor": "white",
                          "gridcolor": "white",
                          "linecolor": "white",
                          "endlinecolor": "#2a3f5f",
                          "startlinecolor": "#2a3f5f"
                        }
                      }
                    ],
                    "contourcarpet": [
                      {
                        "colorbar": {
                          "outlinewidth": 0,
                          "ticks": ""
                        },
                        "type": "contourcarpet"
                      }
                    ],
                    "heatmap": [
                      {
                        "colorbar": {
                          "outlinewidth": 0,
                          "ticks": ""
                        },
                        "type": "heatmap",
                        "colorscale": [
                          [
                            0,
                            "#0d0887"
                          ],
                          [
                            0.1111111111111111,
                            "#46039f"
                          ],
                          [
                            0.2222222222222222,
                            "#7201a8"
                          ],
                          [
                            0.3333333333333333,
                            "#9c179e"
                          ],
                          [
                            0.4444444444444444,
                            "#bd3786"
                          ],
                          [
                            0.5555555555555556,
                            "#d8576b"
                          ],
                          [
                            0.6666666666666666,
                            "#ed7953"
                          ],
                          [
                            0.7777777777777778,
                            "#fb9f3a"
                          ],
                          [
                            0.8888888888888888,
                            "#fdca26"
                          ],
                          [
                            1,
                            "#f0f921"
                          ]
                        ]
                      }
                    ],
                    "scattermapbox": [
                      {
                        "marker": {
                          "colorbar": {
                            "outlinewidth": 0,
                            "ticks": ""
                          }
                        },
                        "type": "scattermapbox"
                      }
                    ],
                    "scatter3d": [
                      {
                        "marker": {
                          "colorbar": {
                            "outlinewidth": 0,
                            "ticks": ""
                          }
                        },
                        "line": {
                          "colorbar": {
                            "outlinewidth": 0,
                            "ticks": ""
                          }
                        },
                        "type": "scatter3d"
                      }
                    ],
                    "scattergl": [
                      {
                        "marker": {
                          "colorbar": {
                            "outlinewidth": 0,
                            "ticks": ""
                          }
                        },
                        "type": "scattergl"
                      }
                    ],
                    "scatterternary": [
                      {
                        "marker": {
                          "colorbar": {
                            "outlinewidth": 0,
                            "ticks": ""
                          }
                        },
                        "type": "scatterternary"
                      }
                    ],
                    "histogram": [
                      {
                        "marker": {
                          "colorbar": {
                            "outlinewidth": 0,
                            "ticks": ""
                          }
                        },
                        "type": "histogram"
                      }
                    ],
                    "heatmapgl": [
                      {
                        "colorbar": {
                          "outlinewidth": 0,
                          "ticks": ""
                        },
                        "type": "heatmapgl",
                        "colorscale": [
                          [
                            0,
                            "#0d0887"
                          ],
                          [
                            0.1111111111111111,
                            "#46039f"
                          ],
                          [
                            0.2222222222222222,
                            "#7201a8"
                          ],
                          [
                            0.3333333333333333,
                            "#9c179e"
                          ],
                          [
                            0.4444444444444444,
                            "#bd3786"
                          ],
                          [
                            0.5555555555555556,
                            "#d8576b"
                          ],
                          [
                            0.6666666666666666,
                            "#ed7953"
                          ],
                          [
                            0.7777777777777778,
                            "#fb9f3a"
                          ],
                          [
                            0.8888888888888888,
                            "#fdca26"
                          ],
                          [
                            1,
                            "#f0f921"
                          ]
                        ]
                      }
                    ],
                    "scatterpolar": [
                      {
                        "marker": {
                          "colorbar": {
                            "outlinewidth": 0,
                            "ticks": ""
                          }
                        },
                        "type": "scatterpolar"
                      }
                    ],
                    "histogram2d": [
                      {
                        "colorbar": {
                          "outlinewidth": 0,
                          "ticks": ""
                        },
                        "type": "histogram2d",
                        "colorscale": [
                          [
                            0,
                            "#0d0887"
                          ],
                          [
                            0.1111111111111111,
                            "#46039f"
                          ],
                          [
                            0.2222222222222222,
                            "#7201a8"
                          ],
                          [
                            0.3333333333333333,
                            "#9c179e"
                          ],
                          [
                            0.4444444444444444,
                            "#bd3786"
                          ],
                          [
                            0.5555555555555556,
                            "#d8576b"
                          ],
                          [
                            0.6666666666666666,
                            "#ed7953"
                          ],
                          [
                            0.7777777777777778,
                            "#fb9f3a"
                          ],
                          [
                            0.8888888888888888,
                            "#fdca26"
                          ],
                          [
                            1,
                            "#f0f921"
                          ]
                        ]
                      }
                    ],
                    "scattergeo": [
                      {
                        "marker": {
                          "colorbar": {
                            "outlinewidth": 0,
                            "ticks": ""
                          }
                        },
                        "type": "scattergeo"
                      }
                    ],
                    "bar": [
                      {
                        "marker": {
                          "line": {
                            "color": "#E5ECF6",
                            "width": 0.5
                          }
                        },
                        "type": "bar",
                        "error_x": {
                          "color": "#2a3f5f"
                        },
                        "error_y": {
                          "color": "#2a3f5f"
                        }
                      }
                    ],
                    "choropleth": [
                      {
                        "colorbar": {
                          "outlinewidth": 0,
                          "ticks": ""
                        },
                        "type": "choropleth"
                      }
                    ],
                    "parcoords": [
                      {
                        "line": {
                          "colorbar": {
                            "outlinewidth": 0,
                            "ticks": ""
                          }
                        },
                        "type": "parcoords"
                      }
                    ],
                    "barpolar": [
                      {
                        "marker": {
                          "line": {
                            "color": "#E5ECF6",
                            "width": 0.5
                          }
                        },
                        "type": "barpolar"
                      }
                    ],
                    "histogram2dcontour": [
                      {
                        "colorbar": {
                          "outlinewidth": 0,
                          "ticks": ""
                        },
                        "type": "histogram2dcontour",
                        "colorscale": [
                          [
                            0,
                            "#0d0887"
                          ],
                          [
                            0.1111111111111111,
                            "#46039f"
                          ],
                          [
                            0.2222222222222222,
                            "#7201a8"
                          ],
                          [
                            0.3333333333333333,
                            "#9c179e"
                          ],
                          [
                            0.4444444444444444,
                            "#bd3786"
                          ],
                          [
                            0.5555555555555556,
                            "#d8576b"
                          ],
                          [
                            0.6666666666666666,
                            "#ed7953"
                          ],
                          [
                            0.7777777777777778,
                            "#fb9f3a"
                          ],
                          [
                            0.8888888888888888,
                            "#fdca26"
                          ],
                          [
                            1,
                            "#f0f921"
                          ]
                        ]
                      }
                    ],
                    "scatter": [
                      {
                        "marker": {
                          "colorbar": {
                            "outlinewidth": 0,
                            "ticks": ""
                          }
                        },
                        "type": "scatter"
                      }
                    ]
                  }
                },
                "title": {
                  "text": "Noise"
                },
                "yaxis": {
                  "title": {
                    "text": "Total Calls"
                  }
                },
                "height": 700,
                "xaxis": {
                  "title": {
                    "text": "Date"
                  }
                },
                "font": {
                  "color": "#58508d",
                  "family": "silom",
                  "size": 14
                },
                "legend": {
                  "y": 0.99,
                  "x": 0.99,
                  "xanchor": "right",
                  "yanchor": "top"
                }
              }
            }
          },
          "metadata": {
            "tags": []
          }
        }
      ]
    },
    {
      "cell_type": "markdown",
      "metadata": {
        "id": "espEdw1GdCeg"
      },
      "source": [
        "Residential noise complaints are the most common among complaint types in this plot, followed by street/sidewalk, vehicle, and commercial noise complaints."
      ]
    },
    {
      "cell_type": "code",
      "metadata": {
        "id": "0kAxuPCrdEPW"
      },
      "source": [
        "#create subsetted dataframes with complaints related to street and noise condition \n",
        "street = call_freq_df('Street Condition')\n",
        "sidewalk = call_freq_df('Sidewalk Condition')"
      ],
      "execution_count": 12,
      "outputs": []
    },
    {
      "cell_type": "code",
      "metadata": {
        "id": "CbXokmEoeprM",
        "colab": {
          "base_uri": "https://localhost:8080/",
          "height": 716
        },
        "outputId": "55e48c9a-263a-4883-9ac1-cb0acb6fb6ec"
      },
      "source": [
        "#create and show area plot\n",
        "condition_fig = go.Figure()\n",
        "condition_fig.add_trace(go.Scatter(\n",
        "    x=street.index, y=street[\"Street Condition\"],\n",
        "    hoverinfo='x+y',\n",
        "    mode='lines',\n",
        "    line=dict(width=0.5, color='#22DDD3'), name=\"Street Condition\",\n",
        "    stackgroup='one'\n",
        "    ))\n",
        "    \n",
        "condition_fig.add_trace(go.Scatter(\n",
        "    x=sidewalk.index, y=sidewalk[\"Sidewalk Condition\"],\n",
        "    hoverinfo='x+y',\n",
        "    mode='lines',\n",
        "    line=dict(width=0.5, color='#6722DD'), name=\"Sidewalk Condition\",\n",
        "    stackgroup='one' \n",
        "\n",
        "\n",
        "))\n",
        "\n",
        "condition_fig.update_layout(legend=dict(\n",
        "    yanchor=\"top\",\n",
        "    y=0.99,\n",
        "    xanchor=\"right\",\n",
        "    x=0.99\n",
        "))\n",
        "\n",
        "condition_fig.update_layout(title=\"Sidewalk and Street Condition\", height=700,\n",
        "                  xaxis_title=\"Date\",\n",
        "                  yaxis_title=\"Total Calls\", \n",
        "\n",
        "font=dict(family=\"silom\",\n",
        "          size=14, color=\"#58508d\"))\n",
        "\n",
        "condition_fig.show()"
      ],
      "execution_count": 13,
      "outputs": [
        {
          "output_type": "display_data",
          "data": {
            "text/html": [
              "<div>\n",
              "        \n",
              "        \n",
              "            <div id=\"bee51374-344d-4b77-96af-987af1863b43\" class=\"plotly-graph-div\" style=\"height:700px; width:100%;\"></div>\n",
              "            <script type=\"text/javascript\">\n",
              "                require([\"plotly\"], function(Plotly) {\n",
              "                    window.PLOTLYENV=window.PLOTLYENV || {};\n",
              "                    \n",
              "                if (document.getElementById(\"bee51374-344d-4b77-96af-987af1863b43\")) {\n",
              "                    Plotly.newPlot(\n",
              "                        'bee51374-344d-4b77-96af-987af1863b43',\n",
              "                        [{\"hoverinfo\": \"x+y\", \"line\": {\"color\": \"#22DDD3\", \"width\": 0.5}, \"mode\": \"lines\", \"name\": \"Street Condition\", \"stackgroup\": \"one\", \"type\": \"scatter\", \"x\": [\"2020-06-01\", \"2020-06-02\", \"2020-06-05\", \"2020-06-07\", \"2020-06-08\", \"2020-06-09\", \"2020-06-13\", \"2020-06-15\", \"2020-06-16\", \"2020-06-17\", \"2020-06-18\", \"2020-06-19\", \"2020-06-20\", \"2020-06-22\", \"2020-06-23\", \"2020-06-26\", \"2020-06-30\", \"2020-07-01\", \"2020-07-04\", \"2020-07-05\", \"2020-07-06\", \"2020-07-09\", \"2020-07-10\", \"2020-07-13\", \"2020-07-16\", \"2020-07-19\", \"2020-07-21\", \"2020-07-23\", \"2020-07-27\", \"2020-07-30\", \"2020-07-31\", \"2020-08-03\", \"2020-08-04\", \"2020-08-05\", \"2020-08-07\", \"2020-08-09\", \"2020-08-10\", \"2020-08-11\", \"2020-08-12\", \"2020-08-16\", \"2020-08-17\", \"2020-08-18\", \"2020-08-19\", \"2020-08-21\", \"2020-08-22\", \"2020-08-23\", \"2020-08-24\", \"2020-08-25\", \"2020-08-26\", \"2020-08-27\", \"2020-08-28\", \"2020-08-30\", \"2020-08-31\", \"2020-09-01\", \"2020-09-02\", \"2020-09-03\", \"2020-09-04\", \"2020-09-07\", \"2020-09-08\", \"2020-09-10\", \"2020-09-11\", \"2020-09-12\", \"2020-09-14\", \"2020-09-15\", \"2020-09-16\", \"2020-09-19\", \"2020-09-20\", \"2020-09-23\", \"2020-09-24\", \"2020-09-25\", \"2020-09-27\", \"2020-09-28\", \"2020-09-29\", \"2020-09-30\", \"2020-10-01\", \"2020-10-02\", \"2020-10-05\", \"2020-10-06\", \"2020-10-07\", \"2020-10-08\", \"2020-10-14\", \"2020-10-16\", \"2020-10-17\", \"2020-10-18\", \"2020-10-19\", \"2020-10-21\", \"2020-10-22\", \"2020-10-24\", \"2020-10-25\", \"2020-10-26\", \"2020-10-27\", \"2020-10-30\", \"2020-11-03\", \"2020-11-06\", \"2020-11-07\", \"2020-11-09\", \"2020-11-12\", \"2020-11-13\", \"2020-11-16\", \"2020-11-19\", \"2020-11-22\", \"2020-06-06\", \"2020-06-12\", \"2020-06-14\", \"2020-06-25\", \"2020-06-27\", \"2020-07-03\", \"2020-07-07\", \"2020-07-08\", \"2020-07-14\", \"2020-07-15\", \"2020-07-20\", \"2020-07-28\", \"2020-07-29\", \"2020-08-06\", \"2020-08-08\", \"2020-08-13\", \"2020-09-17\", \"2020-09-18\", \"2020-10-03\", \"2020-10-04\", \"2020-10-09\", \"2020-10-10\", \"2020-10-20\", \"2020-10-23\", \"2020-10-31\", \"2020-11-01\", \"2020-11-04\", \"2020-11-05\", \"2020-11-08\", \"2020-11-11\", \"2020-11-14\", \"2020-11-15\", \"2020-11-18\", \"2020-06-03\", \"2020-06-04\", \"2020-06-10\", \"2020-06-11\", \"2020-06-21\", \"2020-06-24\", \"2020-06-28\", \"2020-06-29\", \"2020-07-02\", \"2020-07-11\", \"2020-07-12\", \"2020-07-17\", \"2020-07-24\", \"2020-07-25\", \"2020-07-26\", \"2020-08-01\", \"2020-08-14\", \"2020-08-15\", \"2020-08-20\", \"2020-08-29\", \"2020-09-06\", \"2020-09-09\", \"2020-09-13\", \"2020-09-21\", \"2020-09-22\", \"2020-09-26\", \"2020-10-11\", \"2020-10-12\", \"2020-10-13\", \"2020-10-15\", \"2020-10-28\", \"2020-10-29\", \"2020-11-02\", \"2020-11-10\", \"2020-11-17\", \"2020-11-20\", \"2020-11-23\", \"2020-07-18\", \"2020-07-22\", \"2020-08-02\", \"2020-11-24\", \"2020-11-21\", \"2020-09-05\", \"2020-11-25\"], \"y\": [98, 141, 122, 94, 153, 133, 81, 146, 121, 134, 131, 142, 91, 159, 154, 145, 196, 217, 49, 89, 193, 158, 123, 193, 143, 66, 162, 158, 186, 117, 168, 156, 152, 143, 122, 77, 152, 154, 170, 74, 169, 189, 166, 165, 78, 81, 146, 141, 147, 139, 137, 112, 188, 165, 145, 122, 102, 70, 174, 160, 171, 84, 182, 159, 174, 81, 48, 149, 142, 134, 94, 140, 160, 144, 155, 112, 110, 140, 131, 98, 155, 125, 70, 58, 142, 161, 151, 75, 68, 116, 111, 89, 105, 111, 62, 123, 126, 109, 157, 135, 81, 86, 152, 92, 139, 71, 101, 223, 224, 175, 163, 140, 142, 155, 134, 92, 152, 141, 129, 46, 69, 111, 88, 154, 112, 75, 64, 109, 128, 78, 117, 60, 73, 101, 107, 127, 146, 130, 86, 158, 54, 128, 173, 94, 128, 133, 122, 100, 87, 81, 104, 79, 140, 82, 76, 184, 97, 136, 156, 74, 73, 56, 126, 127, 103, 108, 118, 130, 146, 80, 95, 76, 124, 92, 64, 68, 47, 1]}, {\"hoverinfo\": \"x+y\", \"line\": {\"color\": \"#6722DD\", \"width\": 0.5}, \"mode\": \"lines\", \"name\": \"Sidewalk Condition\", \"stackgroup\": \"one\", \"type\": \"scatter\", \"x\": [\"2020-06-01\", \"2020-06-02\", \"2020-06-04\", \"2020-06-05\", \"2020-06-07\", \"2020-06-08\", \"2020-06-09\", \"2020-06-10\", \"2020-06-11\", \"2020-06-15\", \"2020-06-16\", \"2020-06-17\", \"2020-06-18\", \"2020-06-21\", \"2020-06-22\", \"2020-06-23\", \"2020-06-24\", \"2020-07-06\", \"2020-07-09\", \"2020-07-18\", \"2020-07-20\", \"2020-07-22\", \"2020-07-29\", \"2020-08-01\", \"2020-08-02\", \"2020-08-03\", \"2020-08-05\", \"2020-08-06\", \"2020-08-21\", \"2020-08-25\", \"2020-08-28\", \"2020-09-07\", \"2020-09-10\", \"2020-09-11\", \"2020-09-13\", \"2020-09-16\", \"2020-09-17\", \"2020-09-18\", \"2020-09-21\", \"2020-09-24\", \"2020-09-26\", \"2020-09-28\", \"2020-09-29\", \"2020-10-02\", \"2020-10-03\", \"2020-10-04\", \"2020-10-05\", \"2020-10-06\", \"2020-10-07\", \"2020-10-15\", \"2020-10-21\", \"2020-10-26\", \"2020-10-27\", \"2020-10-28\", \"2020-11-05\", \"2020-11-09\", \"2020-11-10\", \"2020-11-12\", \"2020-11-13\", \"2020-11-15\", \"2020-11-16\", \"2020-11-18\", \"2020-11-20\", \"2020-11-23\", \"2020-06-26\", \"2020-06-30\", \"2020-07-04\", \"2020-07-08\", \"2020-07-23\", \"2020-07-24\", \"2020-07-26\", \"2020-07-28\", \"2020-07-30\", \"2020-07-31\", \"2020-08-11\", \"2020-08-15\", \"2020-08-18\", \"2020-08-19\", \"2020-08-20\", \"2020-08-26\", \"2020-08-29\", \"2020-09-01\", \"2020-09-03\", \"2020-09-06\", \"2020-09-08\", \"2020-09-09\", \"2020-09-22\", \"2020-09-23\", \"2020-10-01\", \"2020-10-08\", \"2020-10-09\", \"2020-10-11\", \"2020-10-16\", \"2020-10-20\", \"2020-10-22\", \"2020-10-23\", \"2020-10-31\", \"2020-11-04\", \"2020-11-06\", \"2020-11-07\", \"2020-06-13\", \"2020-06-14\", \"2020-06-19\", \"2020-06-20\", \"2020-06-29\", \"2020-07-03\", \"2020-07-07\", \"2020-07-11\", \"2020-07-13\", \"2020-07-14\", \"2020-07-15\", \"2020-07-16\", \"2020-07-17\", \"2020-07-19\", \"2020-07-21\", \"2020-07-27\", \"2020-08-10\", \"2020-08-12\", \"2020-08-17\", \"2020-08-22\", \"2020-08-23\", \"2020-08-27\", \"2020-08-31\", \"2020-09-02\", \"2020-09-04\", \"2020-09-15\", \"2020-09-19\", \"2020-09-20\", \"2020-09-25\", \"2020-09-27\", \"2020-10-30\", \"2020-11-01\", \"2020-11-08\", \"2020-11-24\", \"2020-06-03\", \"2020-06-06\", \"2020-06-12\", \"2020-06-25\", \"2020-06-27\", \"2020-07-01\", \"2020-08-04\", \"2020-08-07\", \"2020-08-09\", \"2020-08-13\", \"2020-08-24\", \"2020-08-30\", \"2020-09-05\", \"2020-09-12\", \"2020-09-14\", \"2020-09-30\", \"2020-10-10\", \"2020-10-12\", \"2020-10-13\", \"2020-10-14\", \"2020-10-17\", \"2020-10-19\", \"2020-10-24\", \"2020-10-25\", \"2020-10-29\", \"2020-11-03\", \"2020-11-17\", \"2020-11-19\", \"2020-11-21\", \"2020-11-22\", \"2020-07-02\", \"2020-07-10\", \"2020-07-12\", \"2020-07-25\", \"2020-11-02\", \"2020-06-28\", \"2020-08-16\", \"2020-11-11\", \"2020-07-05\", \"2020-08-08\", \"2020-11-14\", \"2020-08-14\", \"2020-10-18\"], \"y\": [37, 82, 68, 68, 14, 59, 113, 176, 67, 80, 264, 154, 80, 103, 83, 94, 69, 79, 49, 27, 56, 50, 50, 28, 22, 50, 61, 70, 123, 60, 260, 59, 247, 73, 121, 113, 59, 134, 206, 86, 54, 253, 183, 395, 127, 63, 155, 80, 75, 70, 63, 62, 57, 63, 62, 93, 112, 34, 48, 23, 343, 197, 47, 77, 46, 70, 192, 60, 65, 35, 20, 54, 47, 39, 170, 160, 256, 93, 216, 66, 278, 302, 391, 175, 84, 338, 52, 187, 224, 309, 143, 96, 48, 116, 75, 64, 28, 53, 60, 35, 343, 96, 49, 51, 69, 312, 85, 37, 51, 43, 44, 62, 47, 27, 56, 53, 68, 64, 62, 59, 172, 369, 226, 168, 342, 144, 275, 67, 61, 81, 25, 53, 27, 57, 47, 26, 115, 59, 60, 42, 59, 70, 22, 76, 193, 142, 77, 35, 61, 141, 82, 55, 67, 46, 31, 52, 42, 31, 38, 54, 74, 47, 32, 19, 44, 46, 24, 25, 45, 30, 119, 35, 33, 31, 16, 56, 21]}],\n",
              "                        {\"font\": {\"color\": \"#58508d\", \"family\": \"silom\", \"size\": 14}, \"height\": 700, \"legend\": {\"x\": 0.99, \"xanchor\": \"right\", \"y\": 0.99, \"yanchor\": \"top\"}, \"template\": {\"data\": {\"bar\": [{\"error_x\": {\"color\": \"#2a3f5f\"}, \"error_y\": {\"color\": \"#2a3f5f\"}, \"marker\": {\"line\": {\"color\": \"#E5ECF6\", \"width\": 0.5}}, \"type\": \"bar\"}], \"barpolar\": [{\"marker\": {\"line\": {\"color\": \"#E5ECF6\", \"width\": 0.5}}, \"type\": \"barpolar\"}], \"carpet\": [{\"aaxis\": {\"endlinecolor\": \"#2a3f5f\", \"gridcolor\": \"white\", \"linecolor\": \"white\", \"minorgridcolor\": \"white\", \"startlinecolor\": \"#2a3f5f\"}, \"baxis\": {\"endlinecolor\": \"#2a3f5f\", \"gridcolor\": \"white\", \"linecolor\": \"white\", \"minorgridcolor\": \"white\", \"startlinecolor\": \"#2a3f5f\"}, \"type\": \"carpet\"}], \"choropleth\": [{\"colorbar\": {\"outlinewidth\": 0, \"ticks\": \"\"}, \"type\": \"choropleth\"}], \"contour\": [{\"colorbar\": {\"outlinewidth\": 0, \"ticks\": \"\"}, \"colorscale\": [[0.0, \"#0d0887\"], [0.1111111111111111, \"#46039f\"], [0.2222222222222222, \"#7201a8\"], [0.3333333333333333, \"#9c179e\"], [0.4444444444444444, \"#bd3786\"], [0.5555555555555556, \"#d8576b\"], [0.6666666666666666, \"#ed7953\"], [0.7777777777777778, \"#fb9f3a\"], [0.8888888888888888, \"#fdca26\"], [1.0, \"#f0f921\"]], \"type\": \"contour\"}], \"contourcarpet\": [{\"colorbar\": {\"outlinewidth\": 0, \"ticks\": \"\"}, \"type\": \"contourcarpet\"}], \"heatmap\": [{\"colorbar\": {\"outlinewidth\": 0, \"ticks\": \"\"}, \"colorscale\": [[0.0, \"#0d0887\"], [0.1111111111111111, \"#46039f\"], [0.2222222222222222, \"#7201a8\"], [0.3333333333333333, \"#9c179e\"], [0.4444444444444444, \"#bd3786\"], [0.5555555555555556, \"#d8576b\"], [0.6666666666666666, \"#ed7953\"], [0.7777777777777778, \"#fb9f3a\"], [0.8888888888888888, \"#fdca26\"], [1.0, \"#f0f921\"]], \"type\": \"heatmap\"}], \"heatmapgl\": [{\"colorbar\": {\"outlinewidth\": 0, \"ticks\": \"\"}, \"colorscale\": [[0.0, \"#0d0887\"], [0.1111111111111111, \"#46039f\"], [0.2222222222222222, \"#7201a8\"], [0.3333333333333333, \"#9c179e\"], [0.4444444444444444, \"#bd3786\"], [0.5555555555555556, \"#d8576b\"], [0.6666666666666666, \"#ed7953\"], [0.7777777777777778, \"#fb9f3a\"], [0.8888888888888888, \"#fdca26\"], [1.0, \"#f0f921\"]], \"type\": \"heatmapgl\"}], \"histogram\": [{\"marker\": {\"colorbar\": {\"outlinewidth\": 0, \"ticks\": \"\"}}, \"type\": \"histogram\"}], \"histogram2d\": [{\"colorbar\": {\"outlinewidth\": 0, \"ticks\": \"\"}, \"colorscale\": [[0.0, \"#0d0887\"], [0.1111111111111111, \"#46039f\"], [0.2222222222222222, \"#7201a8\"], [0.3333333333333333, \"#9c179e\"], [0.4444444444444444, \"#bd3786\"], [0.5555555555555556, \"#d8576b\"], [0.6666666666666666, \"#ed7953\"], [0.7777777777777778, \"#fb9f3a\"], [0.8888888888888888, \"#fdca26\"], [1.0, \"#f0f921\"]], \"type\": \"histogram2d\"}], \"histogram2dcontour\": [{\"colorbar\": {\"outlinewidth\": 0, \"ticks\": \"\"}, \"colorscale\": [[0.0, \"#0d0887\"], [0.1111111111111111, \"#46039f\"], [0.2222222222222222, \"#7201a8\"], [0.3333333333333333, \"#9c179e\"], [0.4444444444444444, \"#bd3786\"], [0.5555555555555556, \"#d8576b\"], [0.6666666666666666, \"#ed7953\"], [0.7777777777777778, \"#fb9f3a\"], [0.8888888888888888, \"#fdca26\"], [1.0, \"#f0f921\"]], \"type\": \"histogram2dcontour\"}], \"mesh3d\": [{\"colorbar\": {\"outlinewidth\": 0, \"ticks\": \"\"}, \"type\": \"mesh3d\"}], \"parcoords\": [{\"line\": {\"colorbar\": {\"outlinewidth\": 0, \"ticks\": \"\"}}, \"type\": \"parcoords\"}], \"pie\": [{\"automargin\": true, \"type\": \"pie\"}], \"scatter\": [{\"marker\": {\"colorbar\": {\"outlinewidth\": 0, \"ticks\": \"\"}}, \"type\": \"scatter\"}], \"scatter3d\": [{\"line\": {\"colorbar\": {\"outlinewidth\": 0, \"ticks\": \"\"}}, \"marker\": {\"colorbar\": {\"outlinewidth\": 0, \"ticks\": \"\"}}, \"type\": \"scatter3d\"}], \"scattercarpet\": [{\"marker\": {\"colorbar\": {\"outlinewidth\": 0, \"ticks\": \"\"}}, \"type\": \"scattercarpet\"}], \"scattergeo\": [{\"marker\": {\"colorbar\": {\"outlinewidth\": 0, \"ticks\": \"\"}}, \"type\": \"scattergeo\"}], \"scattergl\": [{\"marker\": {\"colorbar\": {\"outlinewidth\": 0, \"ticks\": \"\"}}, \"type\": \"scattergl\"}], \"scattermapbox\": [{\"marker\": {\"colorbar\": {\"outlinewidth\": 0, \"ticks\": \"\"}}, \"type\": \"scattermapbox\"}], \"scatterpolar\": [{\"marker\": {\"colorbar\": {\"outlinewidth\": 0, \"ticks\": \"\"}}, \"type\": \"scatterpolar\"}], \"scatterpolargl\": [{\"marker\": {\"colorbar\": {\"outlinewidth\": 0, \"ticks\": \"\"}}, \"type\": \"scatterpolargl\"}], \"scatterternary\": [{\"marker\": {\"colorbar\": {\"outlinewidth\": 0, \"ticks\": \"\"}}, \"type\": \"scatterternary\"}], \"surface\": [{\"colorbar\": {\"outlinewidth\": 0, \"ticks\": \"\"}, \"colorscale\": [[0.0, \"#0d0887\"], [0.1111111111111111, \"#46039f\"], [0.2222222222222222, \"#7201a8\"], [0.3333333333333333, \"#9c179e\"], [0.4444444444444444, \"#bd3786\"], [0.5555555555555556, \"#d8576b\"], [0.6666666666666666, \"#ed7953\"], [0.7777777777777778, \"#fb9f3a\"], [0.8888888888888888, \"#fdca26\"], [1.0, \"#f0f921\"]], \"type\": \"surface\"}], \"table\": [{\"cells\": {\"fill\": {\"color\": \"#EBF0F8\"}, \"line\": {\"color\": \"white\"}}, \"header\": {\"fill\": {\"color\": \"#C8D4E3\"}, \"line\": {\"color\": \"white\"}}, \"type\": \"table\"}]}, \"layout\": {\"annotationdefaults\": {\"arrowcolor\": \"#2a3f5f\", \"arrowhead\": 0, \"arrowwidth\": 1}, \"coloraxis\": {\"colorbar\": {\"outlinewidth\": 0, \"ticks\": \"\"}}, \"colorscale\": {\"diverging\": [[0, \"#8e0152\"], [0.1, \"#c51b7d\"], [0.2, \"#de77ae\"], [0.3, \"#f1b6da\"], [0.4, \"#fde0ef\"], [0.5, \"#f7f7f7\"], [0.6, \"#e6f5d0\"], [0.7, \"#b8e186\"], [0.8, \"#7fbc41\"], [0.9, \"#4d9221\"], [1, \"#276419\"]], \"sequential\": [[0.0, \"#0d0887\"], [0.1111111111111111, \"#46039f\"], [0.2222222222222222, \"#7201a8\"], [0.3333333333333333, \"#9c179e\"], [0.4444444444444444, \"#bd3786\"], [0.5555555555555556, \"#d8576b\"], [0.6666666666666666, \"#ed7953\"], [0.7777777777777778, \"#fb9f3a\"], [0.8888888888888888, \"#fdca26\"], [1.0, \"#f0f921\"]], \"sequentialminus\": [[0.0, \"#0d0887\"], [0.1111111111111111, \"#46039f\"], [0.2222222222222222, \"#7201a8\"], [0.3333333333333333, \"#9c179e\"], [0.4444444444444444, \"#bd3786\"], [0.5555555555555556, \"#d8576b\"], [0.6666666666666666, \"#ed7953\"], [0.7777777777777778, \"#fb9f3a\"], [0.8888888888888888, \"#fdca26\"], [1.0, \"#f0f921\"]]}, \"colorway\": [\"#636efa\", \"#EF553B\", \"#00cc96\", \"#ab63fa\", \"#FFA15A\", \"#19d3f3\", \"#FF6692\", \"#B6E880\", \"#FF97FF\", \"#FECB52\"], \"font\": {\"color\": \"#2a3f5f\"}, \"geo\": {\"bgcolor\": \"white\", \"lakecolor\": \"white\", \"landcolor\": \"#E5ECF6\", \"showlakes\": true, \"showland\": true, \"subunitcolor\": \"white\"}, \"hoverlabel\": {\"align\": \"left\"}, \"hovermode\": \"closest\", \"mapbox\": {\"style\": \"light\"}, \"paper_bgcolor\": \"white\", \"plot_bgcolor\": \"#E5ECF6\", \"polar\": {\"angularaxis\": {\"gridcolor\": \"white\", \"linecolor\": \"white\", \"ticks\": \"\"}, \"bgcolor\": \"#E5ECF6\", \"radialaxis\": {\"gridcolor\": \"white\", \"linecolor\": \"white\", \"ticks\": \"\"}}, \"scene\": {\"xaxis\": {\"backgroundcolor\": \"#E5ECF6\", \"gridcolor\": \"white\", \"gridwidth\": 2, \"linecolor\": \"white\", \"showbackground\": true, \"ticks\": \"\", \"zerolinecolor\": \"white\"}, \"yaxis\": {\"backgroundcolor\": \"#E5ECF6\", \"gridcolor\": \"white\", \"gridwidth\": 2, \"linecolor\": \"white\", \"showbackground\": true, \"ticks\": \"\", \"zerolinecolor\": \"white\"}, \"zaxis\": {\"backgroundcolor\": \"#E5ECF6\", \"gridcolor\": \"white\", \"gridwidth\": 2, \"linecolor\": \"white\", \"showbackground\": true, \"ticks\": \"\", \"zerolinecolor\": \"white\"}}, \"shapedefaults\": {\"line\": {\"color\": \"#2a3f5f\"}}, \"ternary\": {\"aaxis\": {\"gridcolor\": \"white\", \"linecolor\": \"white\", \"ticks\": \"\"}, \"baxis\": {\"gridcolor\": \"white\", \"linecolor\": \"white\", \"ticks\": \"\"}, \"bgcolor\": \"#E5ECF6\", \"caxis\": {\"gridcolor\": \"white\", \"linecolor\": \"white\", \"ticks\": \"\"}}, \"title\": {\"x\": 0.05}, \"xaxis\": {\"automargin\": true, \"gridcolor\": \"white\", \"linecolor\": \"white\", \"ticks\": \"\", \"title\": {\"standoff\": 15}, \"zerolinecolor\": \"white\", \"zerolinewidth\": 2}, \"yaxis\": {\"automargin\": true, \"gridcolor\": \"white\", \"linecolor\": \"white\", \"ticks\": \"\", \"title\": {\"standoff\": 15}, \"zerolinecolor\": \"white\", \"zerolinewidth\": 2}}}, \"title\": {\"text\": \"Sidewalk and Street Condition\"}, \"xaxis\": {\"title\": {\"text\": \"Date\"}}, \"yaxis\": {\"title\": {\"text\": \"Total Calls\"}}},\n",
              "                        {\"responsive\": true}\n",
              "                    ).then(function(){\n",
              "                            \n",
              "var gd = document.getElementById('bee51374-344d-4b77-96af-987af1863b43');\n",
              "var x = new MutationObserver(function (mutations, observer) {{\n",
              "        var display = window.getComputedStyle(gd).display;\n",
              "        if (!display || display === 'none') {{\n",
              "            console.log([gd, 'removed!']);\n",
              "            Plotly.purge(gd);\n",
              "            observer.disconnect();\n",
              "        }}\n",
              "}});\n",
              "\n",
              "// Listen for the removal of the full notebook cells\n",
              "var notebookContainer = gd.closest('#notebook-container');\n",
              "if (notebookContainer) {{\n",
              "    x.observe(notebookContainer, {childList: true});\n",
              "}}\n",
              "\n",
              "// Listen for the clearing of the current output cell\n",
              "var outputEl = gd.closest('.output');\n",
              "if (outputEl) {{\n",
              "    x.observe(outputEl, {childList: true});\n",
              "}}\n",
              "\n",
              "                        })\n",
              "                };\n",
              "                });\n",
              "            </script>\n",
              "        </div>"
            ],
            "application/vnd.plotly.v1+json": {
              "data": [
                {
                  "name": "Street Condition",
                  "stackgroup": "one",
                  "mode": "lines",
                  "hoverinfo": "x+y",
                  "y": [
                    98,
                    141,
                    122,
                    94,
                    153,
                    133,
                    81,
                    146,
                    121,
                    134,
                    131,
                    142,
                    91,
                    159,
                    154,
                    145,
                    196,
                    217,
                    49,
                    89,
                    193,
                    158,
                    123,
                    193,
                    143,
                    66,
                    162,
                    158,
                    186,
                    117,
                    168,
                    156,
                    152,
                    143,
                    122,
                    77,
                    152,
                    154,
                    170,
                    74,
                    169,
                    189,
                    166,
                    165,
                    78,
                    81,
                    146,
                    141,
                    147,
                    139,
                    137,
                    112,
                    188,
                    165,
                    145,
                    122,
                    102,
                    70,
                    174,
                    160,
                    171,
                    84,
                    182,
                    159,
                    174,
                    81,
                    48,
                    149,
                    142,
                    134,
                    94,
                    140,
                    160,
                    144,
                    155,
                    112,
                    110,
                    140,
                    131,
                    98,
                    155,
                    125,
                    70,
                    58,
                    142,
                    161,
                    151,
                    75,
                    68,
                    116,
                    111,
                    89,
                    105,
                    111,
                    62,
                    123,
                    126,
                    109,
                    157,
                    135,
                    81,
                    86,
                    152,
                    92,
                    139,
                    71,
                    101,
                    223,
                    224,
                    175,
                    163,
                    140,
                    142,
                    155,
                    134,
                    92,
                    152,
                    141,
                    129,
                    46,
                    69,
                    111,
                    88,
                    154,
                    112,
                    75,
                    64,
                    109,
                    128,
                    78,
                    117,
                    60,
                    73,
                    101,
                    107,
                    127,
                    146,
                    130,
                    86,
                    158,
                    54,
                    128,
                    173,
                    94,
                    128,
                    133,
                    122,
                    100,
                    87,
                    81,
                    104,
                    79,
                    140,
                    82,
                    76,
                    184,
                    97,
                    136,
                    156,
                    74,
                    73,
                    56,
                    126,
                    127,
                    103,
                    108,
                    118,
                    130,
                    146,
                    80,
                    95,
                    76,
                    124,
                    92,
                    64,
                    68,
                    47,
                    1
                  ],
                  "x": [
                    "2020-06-01",
                    "2020-06-02",
                    "2020-06-05",
                    "2020-06-07",
                    "2020-06-08",
                    "2020-06-09",
                    "2020-06-13",
                    "2020-06-15",
                    "2020-06-16",
                    "2020-06-17",
                    "2020-06-18",
                    "2020-06-19",
                    "2020-06-20",
                    "2020-06-22",
                    "2020-06-23",
                    "2020-06-26",
                    "2020-06-30",
                    "2020-07-01",
                    "2020-07-04",
                    "2020-07-05",
                    "2020-07-06",
                    "2020-07-09",
                    "2020-07-10",
                    "2020-07-13",
                    "2020-07-16",
                    "2020-07-19",
                    "2020-07-21",
                    "2020-07-23",
                    "2020-07-27",
                    "2020-07-30",
                    "2020-07-31",
                    "2020-08-03",
                    "2020-08-04",
                    "2020-08-05",
                    "2020-08-07",
                    "2020-08-09",
                    "2020-08-10",
                    "2020-08-11",
                    "2020-08-12",
                    "2020-08-16",
                    "2020-08-17",
                    "2020-08-18",
                    "2020-08-19",
                    "2020-08-21",
                    "2020-08-22",
                    "2020-08-23",
                    "2020-08-24",
                    "2020-08-25",
                    "2020-08-26",
                    "2020-08-27",
                    "2020-08-28",
                    "2020-08-30",
                    "2020-08-31",
                    "2020-09-01",
                    "2020-09-02",
                    "2020-09-03",
                    "2020-09-04",
                    "2020-09-07",
                    "2020-09-08",
                    "2020-09-10",
                    "2020-09-11",
                    "2020-09-12",
                    "2020-09-14",
                    "2020-09-15",
                    "2020-09-16",
                    "2020-09-19",
                    "2020-09-20",
                    "2020-09-23",
                    "2020-09-24",
                    "2020-09-25",
                    "2020-09-27",
                    "2020-09-28",
                    "2020-09-29",
                    "2020-09-30",
                    "2020-10-01",
                    "2020-10-02",
                    "2020-10-05",
                    "2020-10-06",
                    "2020-10-07",
                    "2020-10-08",
                    "2020-10-14",
                    "2020-10-16",
                    "2020-10-17",
                    "2020-10-18",
                    "2020-10-19",
                    "2020-10-21",
                    "2020-10-22",
                    "2020-10-24",
                    "2020-10-25",
                    "2020-10-26",
                    "2020-10-27",
                    "2020-10-30",
                    "2020-11-03",
                    "2020-11-06",
                    "2020-11-07",
                    "2020-11-09",
                    "2020-11-12",
                    "2020-11-13",
                    "2020-11-16",
                    "2020-11-19",
                    "2020-11-22",
                    "2020-06-06",
                    "2020-06-12",
                    "2020-06-14",
                    "2020-06-25",
                    "2020-06-27",
                    "2020-07-03",
                    "2020-07-07",
                    "2020-07-08",
                    "2020-07-14",
                    "2020-07-15",
                    "2020-07-20",
                    "2020-07-28",
                    "2020-07-29",
                    "2020-08-06",
                    "2020-08-08",
                    "2020-08-13",
                    "2020-09-17",
                    "2020-09-18",
                    "2020-10-03",
                    "2020-10-04",
                    "2020-10-09",
                    "2020-10-10",
                    "2020-10-20",
                    "2020-10-23",
                    "2020-10-31",
                    "2020-11-01",
                    "2020-11-04",
                    "2020-11-05",
                    "2020-11-08",
                    "2020-11-11",
                    "2020-11-14",
                    "2020-11-15",
                    "2020-11-18",
                    "2020-06-03",
                    "2020-06-04",
                    "2020-06-10",
                    "2020-06-11",
                    "2020-06-21",
                    "2020-06-24",
                    "2020-06-28",
                    "2020-06-29",
                    "2020-07-02",
                    "2020-07-11",
                    "2020-07-12",
                    "2020-07-17",
                    "2020-07-24",
                    "2020-07-25",
                    "2020-07-26",
                    "2020-08-01",
                    "2020-08-14",
                    "2020-08-15",
                    "2020-08-20",
                    "2020-08-29",
                    "2020-09-06",
                    "2020-09-09",
                    "2020-09-13",
                    "2020-09-21",
                    "2020-09-22",
                    "2020-09-26",
                    "2020-10-11",
                    "2020-10-12",
                    "2020-10-13",
                    "2020-10-15",
                    "2020-10-28",
                    "2020-10-29",
                    "2020-11-02",
                    "2020-11-10",
                    "2020-11-17",
                    "2020-11-20",
                    "2020-11-23",
                    "2020-07-18",
                    "2020-07-22",
                    "2020-08-02",
                    "2020-11-24",
                    "2020-11-21",
                    "2020-09-05",
                    "2020-11-25"
                  ],
                  "line": {
                    "color": "#22DDD3",
                    "width": 0.5
                  },
                  "type": "scatter"
                },
                {
                  "name": "Sidewalk Condition",
                  "stackgroup": "one",
                  "mode": "lines",
                  "hoverinfo": "x+y",
                  "y": [
                    37,
                    82,
                    68,
                    68,
                    14,
                    59,
                    113,
                    176,
                    67,
                    80,
                    264,
                    154,
                    80,
                    103,
                    83,
                    94,
                    69,
                    79,
                    49,
                    27,
                    56,
                    50,
                    50,
                    28,
                    22,
                    50,
                    61,
                    70,
                    123,
                    60,
                    260,
                    59,
                    247,
                    73,
                    121,
                    113,
                    59,
                    134,
                    206,
                    86,
                    54,
                    253,
                    183,
                    395,
                    127,
                    63,
                    155,
                    80,
                    75,
                    70,
                    63,
                    62,
                    57,
                    63,
                    62,
                    93,
                    112,
                    34,
                    48,
                    23,
                    343,
                    197,
                    47,
                    77,
                    46,
                    70,
                    192,
                    60,
                    65,
                    35,
                    20,
                    54,
                    47,
                    39,
                    170,
                    160,
                    256,
                    93,
                    216,
                    66,
                    278,
                    302,
                    391,
                    175,
                    84,
                    338,
                    52,
                    187,
                    224,
                    309,
                    143,
                    96,
                    48,
                    116,
                    75,
                    64,
                    28,
                    53,
                    60,
                    35,
                    343,
                    96,
                    49,
                    51,
                    69,
                    312,
                    85,
                    37,
                    51,
                    43,
                    44,
                    62,
                    47,
                    27,
                    56,
                    53,
                    68,
                    64,
                    62,
                    59,
                    172,
                    369,
                    226,
                    168,
                    342,
                    144,
                    275,
                    67,
                    61,
                    81,
                    25,
                    53,
                    27,
                    57,
                    47,
                    26,
                    115,
                    59,
                    60,
                    42,
                    59,
                    70,
                    22,
                    76,
                    193,
                    142,
                    77,
                    35,
                    61,
                    141,
                    82,
                    55,
                    67,
                    46,
                    31,
                    52,
                    42,
                    31,
                    38,
                    54,
                    74,
                    47,
                    32,
                    19,
                    44,
                    46,
                    24,
                    25,
                    45,
                    30,
                    119,
                    35,
                    33,
                    31,
                    16,
                    56,
                    21
                  ],
                  "x": [
                    "2020-06-01",
                    "2020-06-02",
                    "2020-06-04",
                    "2020-06-05",
                    "2020-06-07",
                    "2020-06-08",
                    "2020-06-09",
                    "2020-06-10",
                    "2020-06-11",
                    "2020-06-15",
                    "2020-06-16",
                    "2020-06-17",
                    "2020-06-18",
                    "2020-06-21",
                    "2020-06-22",
                    "2020-06-23",
                    "2020-06-24",
                    "2020-07-06",
                    "2020-07-09",
                    "2020-07-18",
                    "2020-07-20",
                    "2020-07-22",
                    "2020-07-29",
                    "2020-08-01",
                    "2020-08-02",
                    "2020-08-03",
                    "2020-08-05",
                    "2020-08-06",
                    "2020-08-21",
                    "2020-08-25",
                    "2020-08-28",
                    "2020-09-07",
                    "2020-09-10",
                    "2020-09-11",
                    "2020-09-13",
                    "2020-09-16",
                    "2020-09-17",
                    "2020-09-18",
                    "2020-09-21",
                    "2020-09-24",
                    "2020-09-26",
                    "2020-09-28",
                    "2020-09-29",
                    "2020-10-02",
                    "2020-10-03",
                    "2020-10-04",
                    "2020-10-05",
                    "2020-10-06",
                    "2020-10-07",
                    "2020-10-15",
                    "2020-10-21",
                    "2020-10-26",
                    "2020-10-27",
                    "2020-10-28",
                    "2020-11-05",
                    "2020-11-09",
                    "2020-11-10",
                    "2020-11-12",
                    "2020-11-13",
                    "2020-11-15",
                    "2020-11-16",
                    "2020-11-18",
                    "2020-11-20",
                    "2020-11-23",
                    "2020-06-26",
                    "2020-06-30",
                    "2020-07-04",
                    "2020-07-08",
                    "2020-07-23",
                    "2020-07-24",
                    "2020-07-26",
                    "2020-07-28",
                    "2020-07-30",
                    "2020-07-31",
                    "2020-08-11",
                    "2020-08-15",
                    "2020-08-18",
                    "2020-08-19",
                    "2020-08-20",
                    "2020-08-26",
                    "2020-08-29",
                    "2020-09-01",
                    "2020-09-03",
                    "2020-09-06",
                    "2020-09-08",
                    "2020-09-09",
                    "2020-09-22",
                    "2020-09-23",
                    "2020-10-01",
                    "2020-10-08",
                    "2020-10-09",
                    "2020-10-11",
                    "2020-10-16",
                    "2020-10-20",
                    "2020-10-22",
                    "2020-10-23",
                    "2020-10-31",
                    "2020-11-04",
                    "2020-11-06",
                    "2020-11-07",
                    "2020-06-13",
                    "2020-06-14",
                    "2020-06-19",
                    "2020-06-20",
                    "2020-06-29",
                    "2020-07-03",
                    "2020-07-07",
                    "2020-07-11",
                    "2020-07-13",
                    "2020-07-14",
                    "2020-07-15",
                    "2020-07-16",
                    "2020-07-17",
                    "2020-07-19",
                    "2020-07-21",
                    "2020-07-27",
                    "2020-08-10",
                    "2020-08-12",
                    "2020-08-17",
                    "2020-08-22",
                    "2020-08-23",
                    "2020-08-27",
                    "2020-08-31",
                    "2020-09-02",
                    "2020-09-04",
                    "2020-09-15",
                    "2020-09-19",
                    "2020-09-20",
                    "2020-09-25",
                    "2020-09-27",
                    "2020-10-30",
                    "2020-11-01",
                    "2020-11-08",
                    "2020-11-24",
                    "2020-06-03",
                    "2020-06-06",
                    "2020-06-12",
                    "2020-06-25",
                    "2020-06-27",
                    "2020-07-01",
                    "2020-08-04",
                    "2020-08-07",
                    "2020-08-09",
                    "2020-08-13",
                    "2020-08-24",
                    "2020-08-30",
                    "2020-09-05",
                    "2020-09-12",
                    "2020-09-14",
                    "2020-09-30",
                    "2020-10-10",
                    "2020-10-12",
                    "2020-10-13",
                    "2020-10-14",
                    "2020-10-17",
                    "2020-10-19",
                    "2020-10-24",
                    "2020-10-25",
                    "2020-10-29",
                    "2020-11-03",
                    "2020-11-17",
                    "2020-11-19",
                    "2020-11-21",
                    "2020-11-22",
                    "2020-07-02",
                    "2020-07-10",
                    "2020-07-12",
                    "2020-07-25",
                    "2020-11-02",
                    "2020-06-28",
                    "2020-08-16",
                    "2020-11-11",
                    "2020-07-05",
                    "2020-08-08",
                    "2020-11-14",
                    "2020-08-14",
                    "2020-10-18"
                  ],
                  "line": {
                    "color": "#6722DD",
                    "width": 0.5
                  },
                  "type": "scatter"
                }
              ],
              "config": {
                "plotlyServerURL": "https://plot.ly"
              },
              "layout": {
                "template": {
                  "layout": {
                    "shapedefaults": {
                      "line": {
                        "color": "#2a3f5f"
                      }
                    },
                    "polar": {
                      "radialaxis": {
                        "ticks": "",
                        "gridcolor": "white",
                        "linecolor": "white"
                      },
                      "bgcolor": "#E5ECF6",
                      "angularaxis": {
                        "ticks": "",
                        "gridcolor": "white",
                        "linecolor": "white"
                      }
                    },
                    "colorway": [
                      "#636efa",
                      "#EF553B",
                      "#00cc96",
                      "#ab63fa",
                      "#FFA15A",
                      "#19d3f3",
                      "#FF6692",
                      "#B6E880",
                      "#FF97FF",
                      "#FECB52"
                    ],
                    "xaxis": {
                      "automargin": true,
                      "title": {
                        "standoff": 15
                      },
                      "zerolinewidth": 2,
                      "ticks": "",
                      "zerolinecolor": "white",
                      "gridcolor": "white",
                      "linecolor": "white"
                    },
                    "colorscale": {
                      "diverging": [
                        [
                          0,
                          "#8e0152"
                        ],
                        [
                          0.1,
                          "#c51b7d"
                        ],
                        [
                          0.2,
                          "#de77ae"
                        ],
                        [
                          0.3,
                          "#f1b6da"
                        ],
                        [
                          0.4,
                          "#fde0ef"
                        ],
                        [
                          0.5,
                          "#f7f7f7"
                        ],
                        [
                          0.6,
                          "#e6f5d0"
                        ],
                        [
                          0.7,
                          "#b8e186"
                        ],
                        [
                          0.8,
                          "#7fbc41"
                        ],
                        [
                          0.9,
                          "#4d9221"
                        ],
                        [
                          1,
                          "#276419"
                        ]
                      ],
                      "sequential": [
                        [
                          0,
                          "#0d0887"
                        ],
                        [
                          0.1111111111111111,
                          "#46039f"
                        ],
                        [
                          0.2222222222222222,
                          "#7201a8"
                        ],
                        [
                          0.3333333333333333,
                          "#9c179e"
                        ],
                        [
                          0.4444444444444444,
                          "#bd3786"
                        ],
                        [
                          0.5555555555555556,
                          "#d8576b"
                        ],
                        [
                          0.6666666666666666,
                          "#ed7953"
                        ],
                        [
                          0.7777777777777778,
                          "#fb9f3a"
                        ],
                        [
                          0.8888888888888888,
                          "#fdca26"
                        ],
                        [
                          1,
                          "#f0f921"
                        ]
                      ],
                      "sequentialminus": [
                        [
                          0,
                          "#0d0887"
                        ],
                        [
                          0.1111111111111111,
                          "#46039f"
                        ],
                        [
                          0.2222222222222222,
                          "#7201a8"
                        ],
                        [
                          0.3333333333333333,
                          "#9c179e"
                        ],
                        [
                          0.4444444444444444,
                          "#bd3786"
                        ],
                        [
                          0.5555555555555556,
                          "#d8576b"
                        ],
                        [
                          0.6666666666666666,
                          "#ed7953"
                        ],
                        [
                          0.7777777777777778,
                          "#fb9f3a"
                        ],
                        [
                          0.8888888888888888,
                          "#fdca26"
                        ],
                        [
                          1,
                          "#f0f921"
                        ]
                      ]
                    },
                    "paper_bgcolor": "white",
                    "plot_bgcolor": "#E5ECF6",
                    "title": {
                      "x": 0.05
                    },
                    "scene": {
                      "zaxis": {
                        "backgroundcolor": "#E5ECF6",
                        "ticks": "",
                        "gridwidth": 2,
                        "showbackground": true,
                        "zerolinecolor": "white",
                        "gridcolor": "white",
                        "linecolor": "white"
                      },
                      "xaxis": {
                        "backgroundcolor": "#E5ECF6",
                        "ticks": "",
                        "gridwidth": 2,
                        "showbackground": true,
                        "zerolinecolor": "white",
                        "gridcolor": "white",
                        "linecolor": "white"
                      },
                      "yaxis": {
                        "backgroundcolor": "#E5ECF6",
                        "ticks": "",
                        "gridwidth": 2,
                        "showbackground": true,
                        "zerolinecolor": "white",
                        "gridcolor": "white",
                        "linecolor": "white"
                      }
                    },
                    "yaxis": {
                      "automargin": true,
                      "title": {
                        "standoff": 15
                      },
                      "zerolinewidth": 2,
                      "ticks": "",
                      "zerolinecolor": "white",
                      "gridcolor": "white",
                      "linecolor": "white"
                    },
                    "annotationdefaults": {
                      "arrowwidth": 1,
                      "arrowhead": 0,
                      "arrowcolor": "#2a3f5f"
                    },
                    "hoverlabel": {
                      "align": "left"
                    },
                    "ternary": {
                      "bgcolor": "#E5ECF6",
                      "baxis": {
                        "ticks": "",
                        "gridcolor": "white",
                        "linecolor": "white"
                      },
                      "caxis": {
                        "ticks": "",
                        "gridcolor": "white",
                        "linecolor": "white"
                      },
                      "aaxis": {
                        "ticks": "",
                        "gridcolor": "white",
                        "linecolor": "white"
                      }
                    },
                    "mapbox": {
                      "style": "light"
                    },
                    "hovermode": "closest",
                    "font": {
                      "color": "#2a3f5f"
                    },
                    "geo": {
                      "showland": true,
                      "landcolor": "#E5ECF6",
                      "showlakes": true,
                      "bgcolor": "white",
                      "subunitcolor": "white",
                      "lakecolor": "white"
                    },
                    "coloraxis": {
                      "colorbar": {
                        "outlinewidth": 0,
                        "ticks": ""
                      }
                    }
                  },
                  "data": {
                    "mesh3d": [
                      {
                        "colorbar": {
                          "outlinewidth": 0,
                          "ticks": ""
                        },
                        "type": "mesh3d"
                      }
                    ],
                    "scattercarpet": [
                      {
                        "marker": {
                          "colorbar": {
                            "outlinewidth": 0,
                            "ticks": ""
                          }
                        },
                        "type": "scattercarpet"
                      }
                    ],
                    "pie": [
                      {
                        "automargin": true,
                        "type": "pie"
                      }
                    ],
                    "surface": [
                      {
                        "colorbar": {
                          "outlinewidth": 0,
                          "ticks": ""
                        },
                        "type": "surface",
                        "colorscale": [
                          [
                            0,
                            "#0d0887"
                          ],
                          [
                            0.1111111111111111,
                            "#46039f"
                          ],
                          [
                            0.2222222222222222,
                            "#7201a8"
                          ],
                          [
                            0.3333333333333333,
                            "#9c179e"
                          ],
                          [
                            0.4444444444444444,
                            "#bd3786"
                          ],
                          [
                            0.5555555555555556,
                            "#d8576b"
                          ],
                          [
                            0.6666666666666666,
                            "#ed7953"
                          ],
                          [
                            0.7777777777777778,
                            "#fb9f3a"
                          ],
                          [
                            0.8888888888888888,
                            "#fdca26"
                          ],
                          [
                            1,
                            "#f0f921"
                          ]
                        ]
                      }
                    ],
                    "table": [
                      {
                        "header": {
                          "line": {
                            "color": "white"
                          },
                          "fill": {
                            "color": "#C8D4E3"
                          }
                        },
                        "cells": {
                          "line": {
                            "color": "white"
                          },
                          "fill": {
                            "color": "#EBF0F8"
                          }
                        },
                        "type": "table"
                      }
                    ],
                    "scatterpolargl": [
                      {
                        "marker": {
                          "colorbar": {
                            "outlinewidth": 0,
                            "ticks": ""
                          }
                        },
                        "type": "scatterpolargl"
                      }
                    ],
                    "contour": [
                      {
                        "colorbar": {
                          "outlinewidth": 0,
                          "ticks": ""
                        },
                        "type": "contour",
                        "colorscale": [
                          [
                            0,
                            "#0d0887"
                          ],
                          [
                            0.1111111111111111,
                            "#46039f"
                          ],
                          [
                            0.2222222222222222,
                            "#7201a8"
                          ],
                          [
                            0.3333333333333333,
                            "#9c179e"
                          ],
                          [
                            0.4444444444444444,
                            "#bd3786"
                          ],
                          [
                            0.5555555555555556,
                            "#d8576b"
                          ],
                          [
                            0.6666666666666666,
                            "#ed7953"
                          ],
                          [
                            0.7777777777777778,
                            "#fb9f3a"
                          ],
                          [
                            0.8888888888888888,
                            "#fdca26"
                          ],
                          [
                            1,
                            "#f0f921"
                          ]
                        ]
                      }
                    ],
                    "carpet": [
                      {
                        "type": "carpet",
                        "baxis": {
                          "minorgridcolor": "white",
                          "gridcolor": "white",
                          "linecolor": "white",
                          "endlinecolor": "#2a3f5f",
                          "startlinecolor": "#2a3f5f"
                        },
                        "aaxis": {
                          "minorgridcolor": "white",
                          "gridcolor": "white",
                          "linecolor": "white",
                          "endlinecolor": "#2a3f5f",
                          "startlinecolor": "#2a3f5f"
                        }
                      }
                    ],
                    "contourcarpet": [
                      {
                        "colorbar": {
                          "outlinewidth": 0,
                          "ticks": ""
                        },
                        "type": "contourcarpet"
                      }
                    ],
                    "heatmap": [
                      {
                        "colorbar": {
                          "outlinewidth": 0,
                          "ticks": ""
                        },
                        "type": "heatmap",
                        "colorscale": [
                          [
                            0,
                            "#0d0887"
                          ],
                          [
                            0.1111111111111111,
                            "#46039f"
                          ],
                          [
                            0.2222222222222222,
                            "#7201a8"
                          ],
                          [
                            0.3333333333333333,
                            "#9c179e"
                          ],
                          [
                            0.4444444444444444,
                            "#bd3786"
                          ],
                          [
                            0.5555555555555556,
                            "#d8576b"
                          ],
                          [
                            0.6666666666666666,
                            "#ed7953"
                          ],
                          [
                            0.7777777777777778,
                            "#fb9f3a"
                          ],
                          [
                            0.8888888888888888,
                            "#fdca26"
                          ],
                          [
                            1,
                            "#f0f921"
                          ]
                        ]
                      }
                    ],
                    "scattermapbox": [
                      {
                        "marker": {
                          "colorbar": {
                            "outlinewidth": 0,
                            "ticks": ""
                          }
                        },
                        "type": "scattermapbox"
                      }
                    ],
                    "scatter3d": [
                      {
                        "marker": {
                          "colorbar": {
                            "outlinewidth": 0,
                            "ticks": ""
                          }
                        },
                        "line": {
                          "colorbar": {
                            "outlinewidth": 0,
                            "ticks": ""
                          }
                        },
                        "type": "scatter3d"
                      }
                    ],
                    "scattergl": [
                      {
                        "marker": {
                          "colorbar": {
                            "outlinewidth": 0,
                            "ticks": ""
                          }
                        },
                        "type": "scattergl"
                      }
                    ],
                    "scatterternary": [
                      {
                        "marker": {
                          "colorbar": {
                            "outlinewidth": 0,
                            "ticks": ""
                          }
                        },
                        "type": "scatterternary"
                      }
                    ],
                    "histogram": [
                      {
                        "marker": {
                          "colorbar": {
                            "outlinewidth": 0,
                            "ticks": ""
                          }
                        },
                        "type": "histogram"
                      }
                    ],
                    "heatmapgl": [
                      {
                        "colorbar": {
                          "outlinewidth": 0,
                          "ticks": ""
                        },
                        "type": "heatmapgl",
                        "colorscale": [
                          [
                            0,
                            "#0d0887"
                          ],
                          [
                            0.1111111111111111,
                            "#46039f"
                          ],
                          [
                            0.2222222222222222,
                            "#7201a8"
                          ],
                          [
                            0.3333333333333333,
                            "#9c179e"
                          ],
                          [
                            0.4444444444444444,
                            "#bd3786"
                          ],
                          [
                            0.5555555555555556,
                            "#d8576b"
                          ],
                          [
                            0.6666666666666666,
                            "#ed7953"
                          ],
                          [
                            0.7777777777777778,
                            "#fb9f3a"
                          ],
                          [
                            0.8888888888888888,
                            "#fdca26"
                          ],
                          [
                            1,
                            "#f0f921"
                          ]
                        ]
                      }
                    ],
                    "scatterpolar": [
                      {
                        "marker": {
                          "colorbar": {
                            "outlinewidth": 0,
                            "ticks": ""
                          }
                        },
                        "type": "scatterpolar"
                      }
                    ],
                    "histogram2d": [
                      {
                        "colorbar": {
                          "outlinewidth": 0,
                          "ticks": ""
                        },
                        "type": "histogram2d",
                        "colorscale": [
                          [
                            0,
                            "#0d0887"
                          ],
                          [
                            0.1111111111111111,
                            "#46039f"
                          ],
                          [
                            0.2222222222222222,
                            "#7201a8"
                          ],
                          [
                            0.3333333333333333,
                            "#9c179e"
                          ],
                          [
                            0.4444444444444444,
                            "#bd3786"
                          ],
                          [
                            0.5555555555555556,
                            "#d8576b"
                          ],
                          [
                            0.6666666666666666,
                            "#ed7953"
                          ],
                          [
                            0.7777777777777778,
                            "#fb9f3a"
                          ],
                          [
                            0.8888888888888888,
                            "#fdca26"
                          ],
                          [
                            1,
                            "#f0f921"
                          ]
                        ]
                      }
                    ],
                    "scattergeo": [
                      {
                        "marker": {
                          "colorbar": {
                            "outlinewidth": 0,
                            "ticks": ""
                          }
                        },
                        "type": "scattergeo"
                      }
                    ],
                    "bar": [
                      {
                        "marker": {
                          "line": {
                            "color": "#E5ECF6",
                            "width": 0.5
                          }
                        },
                        "type": "bar",
                        "error_x": {
                          "color": "#2a3f5f"
                        },
                        "error_y": {
                          "color": "#2a3f5f"
                        }
                      }
                    ],
                    "choropleth": [
                      {
                        "colorbar": {
                          "outlinewidth": 0,
                          "ticks": ""
                        },
                        "type": "choropleth"
                      }
                    ],
                    "parcoords": [
                      {
                        "line": {
                          "colorbar": {
                            "outlinewidth": 0,
                            "ticks": ""
                          }
                        },
                        "type": "parcoords"
                      }
                    ],
                    "barpolar": [
                      {
                        "marker": {
                          "line": {
                            "color": "#E5ECF6",
                            "width": 0.5
                          }
                        },
                        "type": "barpolar"
                      }
                    ],
                    "histogram2dcontour": [
                      {
                        "colorbar": {
                          "outlinewidth": 0,
                          "ticks": ""
                        },
                        "type": "histogram2dcontour",
                        "colorscale": [
                          [
                            0,
                            "#0d0887"
                          ],
                          [
                            0.1111111111111111,
                            "#46039f"
                          ],
                          [
                            0.2222222222222222,
                            "#7201a8"
                          ],
                          [
                            0.3333333333333333,
                            "#9c179e"
                          ],
                          [
                            0.4444444444444444,
                            "#bd3786"
                          ],
                          [
                            0.5555555555555556,
                            "#d8576b"
                          ],
                          [
                            0.6666666666666666,
                            "#ed7953"
                          ],
                          [
                            0.7777777777777778,
                            "#fb9f3a"
                          ],
                          [
                            0.8888888888888888,
                            "#fdca26"
                          ],
                          [
                            1,
                            "#f0f921"
                          ]
                        ]
                      }
                    ],
                    "scatter": [
                      {
                        "marker": {
                          "colorbar": {
                            "outlinewidth": 0,
                            "ticks": ""
                          }
                        },
                        "type": "scatter"
                      }
                    ]
                  }
                },
                "title": {
                  "text": "Sidewalk and Street Condition"
                },
                "yaxis": {
                  "title": {
                    "text": "Total Calls"
                  }
                },
                "height": 700,
                "xaxis": {
                  "title": {
                    "text": "Date"
                  }
                },
                "font": {
                  "color": "#58508d",
                  "family": "silom",
                  "size": 14
                },
                "legend": {
                  "y": 0.99,
                  "x": 0.99,
                  "xanchor": "right",
                  "yanchor": "top"
                }
              }
            }
          },
          "metadata": {
            "tags": []
          }
        }
      ]
    },
    {
      "cell_type": "markdown",
      "metadata": {
        "id": "qa1UXcfueWNp"
      },
      "source": [
        "Calls related to sidewalk condition are more common than those related to street condition. There is no single peak for either complaint type. The total number of calls per day in these categories ranges from 30-391."
      ]
    },
    {
      "cell_type": "code",
      "metadata": {
        "id": "-bxNUaICeuS4"
      },
      "source": [
        "#create subsetted dataframes with complaints related to trees\n",
        "dt = call_freq_df('Damaged Tree')\n",
        "ot = call_freq_df('Overgrown Tree/Branches')\n",
        "dd = call_freq_df('Dead/Dying Tree')\n",
        "nt = call_freq_df('New Tree Request')"
      ],
      "execution_count": 14,
      "outputs": []
    },
    {
      "cell_type": "code",
      "metadata": {
        "id": "HocoanxEfdsj",
        "colab": {
          "base_uri": "https://localhost:8080/",
          "height": 716
        },
        "outputId": "4bb4367d-c7db-4189-8985-6ca635fa20cf"
      },
      "source": [
        "#create and show area plot (damaged trees)\n",
        "damaged_tree_fig = go.Figure()\n",
        "damaged_tree_fig.add_trace(go.Scatter(\n",
        "    x=dt.index, y=dt[\"Damaged Tree\"],\n",
        "    hoverinfo='x+y',\n",
        "    mode='lines',\n",
        "    line=dict(width=0.5, color='#228B22'), name=\"Damaged Trees\",\n",
        "    stackgroup='one'\n",
        "    ))\n",
        "\n",
        "damaged_tree_fig.update_layout(title=\"Damaged Trees\", height=700,\n",
        "                  xaxis_title=\"Date\",\n",
        "                  yaxis_title=\"Total Calls\", \n",
        "\n",
        "font=dict(family=\"silom\",\n",
        "          size=14, color=\"#58508d\"))\n",
        "\n",
        "damaged_tree_fig.show()"
      ],
      "execution_count": 15,
      "outputs": [
        {
          "output_type": "display_data",
          "data": {
            "text/html": [
              "<div>\n",
              "        \n",
              "        \n",
              "            <div id=\"9a0bb106-a26e-475a-97e1-66e50e87a79c\" class=\"plotly-graph-div\" style=\"height:700px; width:100%;\"></div>\n",
              "            <script type=\"text/javascript\">\n",
              "                require([\"plotly\"], function(Plotly) {\n",
              "                    window.PLOTLYENV=window.PLOTLYENV || {};\n",
              "                    \n",
              "                if (document.getElementById(\"9a0bb106-a26e-475a-97e1-66e50e87a79c\")) {\n",
              "                    Plotly.newPlot(\n",
              "                        '9a0bb106-a26e-475a-97e1-66e50e87a79c',\n",
              "                        [{\"hoverinfo\": \"x+y\", \"line\": {\"color\": \"#228B22\", \"width\": 0.5}, \"mode\": \"lines\", \"name\": \"Damaged Trees\", \"stackgroup\": \"one\", \"type\": \"scatter\", \"x\": [\"2020-06-01\", \"2020-06-05\", \"2020-06-06\", \"2020-06-07\", \"2020-06-08\", \"2020-06-09\", \"2020-06-10\", \"2020-06-14\", \"2020-06-16\", \"2020-06-17\", \"2020-06-18\", \"2020-06-21\", \"2020-06-22\", \"2020-06-23\", \"2020-06-25\", \"2020-06-26\", \"2020-06-27\", \"2020-06-30\", \"2020-07-03\", \"2020-07-08\", \"2020-07-09\", \"2020-07-10\", \"2020-07-11\", \"2020-07-12\", \"2020-07-13\", \"2020-07-14\", \"2020-07-15\", \"2020-07-16\", \"2020-07-20\", \"2020-07-21\", \"2020-07-22\", \"2020-07-23\", \"2020-07-24\", \"2020-07-25\", \"2020-07-26\", \"2020-07-27\", \"2020-07-29\", \"2020-07-30\", \"2020-08-03\", \"2020-08-04\", \"2020-08-05\", \"2020-08-06\", \"2020-08-07\", \"2020-08-08\", \"2020-08-09\", \"2020-08-10\", \"2020-08-11\", \"2020-08-12\", \"2020-08-13\", \"2020-08-14\", \"2020-08-15\", \"2020-08-17\", \"2020-08-18\", \"2020-08-19\", \"2020-08-21\", \"2020-08-22\", \"2020-08-23\", \"2020-08-24\", \"2020-08-25\", \"2020-08-26\", \"2020-08-27\", \"2020-08-28\", \"2020-08-30\", \"2020-08-31\", \"2020-09-01\", \"2020-09-02\", \"2020-09-03\", \"2020-09-04\", \"2020-09-05\", \"2020-09-07\", \"2020-09-08\", \"2020-09-09\", \"2020-09-11\", \"2020-09-12\", \"2020-09-13\", \"2020-09-14\", \"2020-09-18\", \"2020-09-21\", \"2020-09-22\", \"2020-09-25\", \"2020-09-26\", \"2020-09-27\", \"2020-09-28\", \"2020-09-30\", \"2020-10-02\", \"2020-10-05\", \"2020-10-08\", \"2020-10-09\", \"2020-10-11\", \"2020-10-13\", \"2020-10-17\", \"2020-10-19\", \"2020-10-21\", \"2020-10-23\", \"2020-10-24\", \"2020-10-26\", \"2020-10-28\", \"2020-10-29\", \"2020-10-30\", \"2020-11-02\", \"2020-11-04\", \"2020-11-05\", \"2020-11-07\", \"2020-11-13\", \"2020-11-16\", \"2020-11-17\", \"2020-11-18\", \"2020-11-19\", \"2020-11-21\", \"2020-11-23\", \"2020-11-24\", \"2020-06-04\", \"2020-06-11\", \"2020-06-12\", \"2020-06-29\", \"2020-07-04\", \"2020-07-06\", \"2020-07-28\", \"2020-08-01\", \"2020-08-16\", \"2020-08-20\", \"2020-09-06\", \"2020-09-10\", \"2020-09-17\", \"2020-09-19\", \"2020-09-23\", \"2020-09-24\", \"2020-10-07\", \"2020-10-12\", \"2020-11-15\", \"2020-06-02\", \"2020-06-03\", \"2020-06-13\", \"2020-06-15\", \"2020-06-24\", \"2020-06-28\", \"2020-07-05\", \"2020-07-07\", \"2020-07-17\", \"2020-07-18\", \"2020-07-19\", \"2020-07-31\", \"2020-08-29\", \"2020-09-15\", \"2020-09-16\", \"2020-09-29\", \"2020-10-01\", \"2020-10-06\", \"2020-10-14\", \"2020-10-15\", \"2020-10-20\", \"2020-10-22\", \"2020-10-27\", \"2020-11-08\", \"2020-11-09\", \"2020-11-20\", \"2020-06-19\", \"2020-06-20\", \"2020-07-01\", \"2020-07-02\", \"2020-08-02\", \"2020-10-03\", \"2020-10-10\", \"2020-10-18\", \"2020-11-01\", \"2020-11-03\", \"2020-11-06\", \"2020-11-10\", \"2020-11-11\", \"2020-11-12\", \"2020-11-14\", \"2020-09-20\", \"2020-10-16\", \"2020-11-22\", \"2020-10-04\", \"2020-10-31\", \"2020-10-25\"], \"y\": [76, 90, 241, 107, 130, 108, 112, 49, 92, 80, 89, 36, 113, 106, 114, 94, 81, 1099, 186, 165, 137, 672, 403, 176, 259, 184, 179, 131, 115, 108, 337, 449, 195, 85, 75, 161, 124, 112, 228, 13908, 8361, 3187, 1821, 1130, 854, 1528, 1791, 1342, 802, 709, 370, 524, 510, 361, 334, 161, 137, 344, 676, 648, 481, 444, 137, 297, 296, 243, 216, 183, 96, 86, 219, 197, 186, 85, 82, 175, 146, 125, 114, 104, 60, 56, 105, 261, 90, 94, 114, 65, 40, 114, 36, 93, 65, 76, 42, 54, 61, 61, 109, 289, 71, 58, 48, 51, 276, 78, 73, 60, 38, 95, 42, 97, 113, 100, 838, 76, 231, 131, 101, 236, 353, 72, 181, 119, 66, 133, 121, 147, 61, 118, 52, 94, 70, 86, 107, 75, 113, 192, 111, 60, 84, 266, 204, 150, 142, 104, 156, 90, 84, 90, 95, 62, 62, 26, 71, 59, 63, 53, 308, 219, 119, 64, 59, 36, 44, 84, 62, 71, 55, 58, 36, 53, 61, 28, 52, 30, 27]}],\n",
              "                        {\"font\": {\"color\": \"#58508d\", \"family\": \"silom\", \"size\": 14}, \"height\": 700, \"template\": {\"data\": {\"bar\": [{\"error_x\": {\"color\": \"#2a3f5f\"}, \"error_y\": {\"color\": \"#2a3f5f\"}, \"marker\": {\"line\": {\"color\": \"#E5ECF6\", \"width\": 0.5}}, \"type\": \"bar\"}], \"barpolar\": [{\"marker\": {\"line\": {\"color\": \"#E5ECF6\", \"width\": 0.5}}, \"type\": \"barpolar\"}], \"carpet\": [{\"aaxis\": {\"endlinecolor\": \"#2a3f5f\", \"gridcolor\": \"white\", \"linecolor\": \"white\", \"minorgridcolor\": \"white\", \"startlinecolor\": \"#2a3f5f\"}, \"baxis\": {\"endlinecolor\": \"#2a3f5f\", \"gridcolor\": \"white\", \"linecolor\": \"white\", \"minorgridcolor\": \"white\", \"startlinecolor\": \"#2a3f5f\"}, \"type\": \"carpet\"}], \"choropleth\": [{\"colorbar\": {\"outlinewidth\": 0, \"ticks\": \"\"}, \"type\": \"choropleth\"}], \"contour\": [{\"colorbar\": {\"outlinewidth\": 0, \"ticks\": \"\"}, \"colorscale\": [[0.0, \"#0d0887\"], [0.1111111111111111, \"#46039f\"], [0.2222222222222222, \"#7201a8\"], [0.3333333333333333, \"#9c179e\"], [0.4444444444444444, \"#bd3786\"], [0.5555555555555556, \"#d8576b\"], [0.6666666666666666, \"#ed7953\"], [0.7777777777777778, \"#fb9f3a\"], [0.8888888888888888, \"#fdca26\"], [1.0, \"#f0f921\"]], \"type\": \"contour\"}], \"contourcarpet\": [{\"colorbar\": {\"outlinewidth\": 0, \"ticks\": \"\"}, \"type\": \"contourcarpet\"}], \"heatmap\": [{\"colorbar\": {\"outlinewidth\": 0, \"ticks\": \"\"}, \"colorscale\": [[0.0, \"#0d0887\"], [0.1111111111111111, \"#46039f\"], [0.2222222222222222, \"#7201a8\"], [0.3333333333333333, \"#9c179e\"], [0.4444444444444444, \"#bd3786\"], [0.5555555555555556, \"#d8576b\"], [0.6666666666666666, \"#ed7953\"], [0.7777777777777778, \"#fb9f3a\"], [0.8888888888888888, \"#fdca26\"], [1.0, \"#f0f921\"]], \"type\": \"heatmap\"}], \"heatmapgl\": [{\"colorbar\": {\"outlinewidth\": 0, \"ticks\": \"\"}, \"colorscale\": [[0.0, \"#0d0887\"], [0.1111111111111111, \"#46039f\"], [0.2222222222222222, \"#7201a8\"], [0.3333333333333333, \"#9c179e\"], [0.4444444444444444, \"#bd3786\"], [0.5555555555555556, \"#d8576b\"], [0.6666666666666666, \"#ed7953\"], [0.7777777777777778, \"#fb9f3a\"], [0.8888888888888888, \"#fdca26\"], [1.0, \"#f0f921\"]], \"type\": \"heatmapgl\"}], \"histogram\": [{\"marker\": {\"colorbar\": {\"outlinewidth\": 0, \"ticks\": \"\"}}, \"type\": \"histogram\"}], \"histogram2d\": [{\"colorbar\": {\"outlinewidth\": 0, \"ticks\": \"\"}, \"colorscale\": [[0.0, \"#0d0887\"], [0.1111111111111111, \"#46039f\"], [0.2222222222222222, \"#7201a8\"], [0.3333333333333333, \"#9c179e\"], [0.4444444444444444, \"#bd3786\"], [0.5555555555555556, \"#d8576b\"], [0.6666666666666666, \"#ed7953\"], [0.7777777777777778, \"#fb9f3a\"], [0.8888888888888888, \"#fdca26\"], [1.0, \"#f0f921\"]], \"type\": \"histogram2d\"}], \"histogram2dcontour\": [{\"colorbar\": {\"outlinewidth\": 0, \"ticks\": \"\"}, \"colorscale\": [[0.0, \"#0d0887\"], [0.1111111111111111, \"#46039f\"], [0.2222222222222222, \"#7201a8\"], [0.3333333333333333, \"#9c179e\"], [0.4444444444444444, \"#bd3786\"], [0.5555555555555556, \"#d8576b\"], [0.6666666666666666, \"#ed7953\"], [0.7777777777777778, \"#fb9f3a\"], [0.8888888888888888, \"#fdca26\"], [1.0, \"#f0f921\"]], \"type\": \"histogram2dcontour\"}], \"mesh3d\": [{\"colorbar\": {\"outlinewidth\": 0, \"ticks\": \"\"}, \"type\": \"mesh3d\"}], \"parcoords\": [{\"line\": {\"colorbar\": {\"outlinewidth\": 0, \"ticks\": \"\"}}, \"type\": \"parcoords\"}], \"pie\": [{\"automargin\": true, \"type\": \"pie\"}], \"scatter\": [{\"marker\": {\"colorbar\": {\"outlinewidth\": 0, \"ticks\": \"\"}}, \"type\": \"scatter\"}], \"scatter3d\": [{\"line\": {\"colorbar\": {\"outlinewidth\": 0, \"ticks\": \"\"}}, \"marker\": {\"colorbar\": {\"outlinewidth\": 0, \"ticks\": \"\"}}, \"type\": \"scatter3d\"}], \"scattercarpet\": [{\"marker\": {\"colorbar\": {\"outlinewidth\": 0, \"ticks\": \"\"}}, \"type\": \"scattercarpet\"}], \"scattergeo\": [{\"marker\": {\"colorbar\": {\"outlinewidth\": 0, \"ticks\": \"\"}}, \"type\": \"scattergeo\"}], \"scattergl\": [{\"marker\": {\"colorbar\": {\"outlinewidth\": 0, \"ticks\": \"\"}}, \"type\": \"scattergl\"}], \"scattermapbox\": [{\"marker\": {\"colorbar\": {\"outlinewidth\": 0, \"ticks\": \"\"}}, \"type\": \"scattermapbox\"}], \"scatterpolar\": [{\"marker\": {\"colorbar\": {\"outlinewidth\": 0, \"ticks\": \"\"}}, \"type\": \"scatterpolar\"}], \"scatterpolargl\": [{\"marker\": {\"colorbar\": {\"outlinewidth\": 0, \"ticks\": \"\"}}, \"type\": \"scatterpolargl\"}], \"scatterternary\": [{\"marker\": {\"colorbar\": {\"outlinewidth\": 0, \"ticks\": \"\"}}, \"type\": \"scatterternary\"}], \"surface\": [{\"colorbar\": {\"outlinewidth\": 0, \"ticks\": \"\"}, \"colorscale\": [[0.0, \"#0d0887\"], [0.1111111111111111, \"#46039f\"], [0.2222222222222222, \"#7201a8\"], [0.3333333333333333, \"#9c179e\"], [0.4444444444444444, \"#bd3786\"], [0.5555555555555556, \"#d8576b\"], [0.6666666666666666, \"#ed7953\"], [0.7777777777777778, \"#fb9f3a\"], [0.8888888888888888, \"#fdca26\"], [1.0, \"#f0f921\"]], \"type\": \"surface\"}], \"table\": [{\"cells\": {\"fill\": {\"color\": \"#EBF0F8\"}, \"line\": {\"color\": \"white\"}}, \"header\": {\"fill\": {\"color\": \"#C8D4E3\"}, \"line\": {\"color\": \"white\"}}, \"type\": \"table\"}]}, \"layout\": {\"annotationdefaults\": {\"arrowcolor\": \"#2a3f5f\", \"arrowhead\": 0, \"arrowwidth\": 1}, \"coloraxis\": {\"colorbar\": {\"outlinewidth\": 0, \"ticks\": \"\"}}, \"colorscale\": {\"diverging\": [[0, \"#8e0152\"], [0.1, \"#c51b7d\"], [0.2, \"#de77ae\"], [0.3, \"#f1b6da\"], [0.4, \"#fde0ef\"], [0.5, \"#f7f7f7\"], [0.6, \"#e6f5d0\"], [0.7, \"#b8e186\"], [0.8, \"#7fbc41\"], [0.9, \"#4d9221\"], [1, \"#276419\"]], \"sequential\": [[0.0, \"#0d0887\"], [0.1111111111111111, \"#46039f\"], [0.2222222222222222, \"#7201a8\"], [0.3333333333333333, \"#9c179e\"], [0.4444444444444444, \"#bd3786\"], [0.5555555555555556, \"#d8576b\"], [0.6666666666666666, \"#ed7953\"], [0.7777777777777778, \"#fb9f3a\"], [0.8888888888888888, \"#fdca26\"], [1.0, \"#f0f921\"]], \"sequentialminus\": [[0.0, \"#0d0887\"], [0.1111111111111111, \"#46039f\"], [0.2222222222222222, \"#7201a8\"], [0.3333333333333333, \"#9c179e\"], [0.4444444444444444, \"#bd3786\"], [0.5555555555555556, \"#d8576b\"], [0.6666666666666666, \"#ed7953\"], [0.7777777777777778, \"#fb9f3a\"], [0.8888888888888888, \"#fdca26\"], [1.0, \"#f0f921\"]]}, \"colorway\": [\"#636efa\", \"#EF553B\", \"#00cc96\", \"#ab63fa\", \"#FFA15A\", \"#19d3f3\", \"#FF6692\", \"#B6E880\", \"#FF97FF\", \"#FECB52\"], \"font\": {\"color\": \"#2a3f5f\"}, \"geo\": {\"bgcolor\": \"white\", \"lakecolor\": \"white\", \"landcolor\": \"#E5ECF6\", \"showlakes\": true, \"showland\": true, \"subunitcolor\": \"white\"}, \"hoverlabel\": {\"align\": \"left\"}, \"hovermode\": \"closest\", \"mapbox\": {\"style\": \"light\"}, \"paper_bgcolor\": \"white\", \"plot_bgcolor\": \"#E5ECF6\", \"polar\": {\"angularaxis\": {\"gridcolor\": \"white\", \"linecolor\": \"white\", \"ticks\": \"\"}, \"bgcolor\": \"#E5ECF6\", \"radialaxis\": {\"gridcolor\": \"white\", \"linecolor\": \"white\", \"ticks\": \"\"}}, \"scene\": {\"xaxis\": {\"backgroundcolor\": \"#E5ECF6\", \"gridcolor\": \"white\", \"gridwidth\": 2, \"linecolor\": \"white\", \"showbackground\": true, \"ticks\": \"\", \"zerolinecolor\": \"white\"}, \"yaxis\": {\"backgroundcolor\": \"#E5ECF6\", \"gridcolor\": \"white\", \"gridwidth\": 2, \"linecolor\": \"white\", \"showbackground\": true, \"ticks\": \"\", \"zerolinecolor\": \"white\"}, \"zaxis\": {\"backgroundcolor\": \"#E5ECF6\", \"gridcolor\": \"white\", \"gridwidth\": 2, \"linecolor\": \"white\", \"showbackground\": true, \"ticks\": \"\", \"zerolinecolor\": \"white\"}}, \"shapedefaults\": {\"line\": {\"color\": \"#2a3f5f\"}}, \"ternary\": {\"aaxis\": {\"gridcolor\": \"white\", \"linecolor\": \"white\", \"ticks\": \"\"}, \"baxis\": {\"gridcolor\": \"white\", \"linecolor\": \"white\", \"ticks\": \"\"}, \"bgcolor\": \"#E5ECF6\", \"caxis\": {\"gridcolor\": \"white\", \"linecolor\": \"white\", \"ticks\": \"\"}}, \"title\": {\"x\": 0.05}, \"xaxis\": {\"automargin\": true, \"gridcolor\": \"white\", \"linecolor\": \"white\", \"ticks\": \"\", \"title\": {\"standoff\": 15}, \"zerolinecolor\": \"white\", \"zerolinewidth\": 2}, \"yaxis\": {\"automargin\": true, \"gridcolor\": \"white\", \"linecolor\": \"white\", \"ticks\": \"\", \"title\": {\"standoff\": 15}, \"zerolinecolor\": \"white\", \"zerolinewidth\": 2}}}, \"title\": {\"text\": \"Damaged Trees\"}, \"xaxis\": {\"title\": {\"text\": \"Date\"}}, \"yaxis\": {\"title\": {\"text\": \"Total Calls\"}}},\n",
              "                        {\"responsive\": true}\n",
              "                    ).then(function(){\n",
              "                            \n",
              "var gd = document.getElementById('9a0bb106-a26e-475a-97e1-66e50e87a79c');\n",
              "var x = new MutationObserver(function (mutations, observer) {{\n",
              "        var display = window.getComputedStyle(gd).display;\n",
              "        if (!display || display === 'none') {{\n",
              "            console.log([gd, 'removed!']);\n",
              "            Plotly.purge(gd);\n",
              "            observer.disconnect();\n",
              "        }}\n",
              "}});\n",
              "\n",
              "// Listen for the removal of the full notebook cells\n",
              "var notebookContainer = gd.closest('#notebook-container');\n",
              "if (notebookContainer) {{\n",
              "    x.observe(notebookContainer, {childList: true});\n",
              "}}\n",
              "\n",
              "// Listen for the clearing of the current output cell\n",
              "var outputEl = gd.closest('.output');\n",
              "if (outputEl) {{\n",
              "    x.observe(outputEl, {childList: true});\n",
              "}}\n",
              "\n",
              "                        })\n",
              "                };\n",
              "                });\n",
              "            </script>\n",
              "        </div>"
            ],
            "application/vnd.plotly.v1+json": {
              "data": [
                {
                  "name": "Damaged Trees",
                  "stackgroup": "one",
                  "mode": "lines",
                  "hoverinfo": "x+y",
                  "y": [
                    76,
                    90,
                    241,
                    107,
                    130,
                    108,
                    112,
                    49,
                    92,
                    80,
                    89,
                    36,
                    113,
                    106,
                    114,
                    94,
                    81,
                    1099,
                    186,
                    165,
                    137,
                    672,
                    403,
                    176,
                    259,
                    184,
                    179,
                    131,
                    115,
                    108,
                    337,
                    449,
                    195,
                    85,
                    75,
                    161,
                    124,
                    112,
                    228,
                    13908,
                    8361,
                    3187,
                    1821,
                    1130,
                    854,
                    1528,
                    1791,
                    1342,
                    802,
                    709,
                    370,
                    524,
                    510,
                    361,
                    334,
                    161,
                    137,
                    344,
                    676,
                    648,
                    481,
                    444,
                    137,
                    297,
                    296,
                    243,
                    216,
                    183,
                    96,
                    86,
                    219,
                    197,
                    186,
                    85,
                    82,
                    175,
                    146,
                    125,
                    114,
                    104,
                    60,
                    56,
                    105,
                    261,
                    90,
                    94,
                    114,
                    65,
                    40,
                    114,
                    36,
                    93,
                    65,
                    76,
                    42,
                    54,
                    61,
                    61,
                    109,
                    289,
                    71,
                    58,
                    48,
                    51,
                    276,
                    78,
                    73,
                    60,
                    38,
                    95,
                    42,
                    97,
                    113,
                    100,
                    838,
                    76,
                    231,
                    131,
                    101,
                    236,
                    353,
                    72,
                    181,
                    119,
                    66,
                    133,
                    121,
                    147,
                    61,
                    118,
                    52,
                    94,
                    70,
                    86,
                    107,
                    75,
                    113,
                    192,
                    111,
                    60,
                    84,
                    266,
                    204,
                    150,
                    142,
                    104,
                    156,
                    90,
                    84,
                    90,
                    95,
                    62,
                    62,
                    26,
                    71,
                    59,
                    63,
                    53,
                    308,
                    219,
                    119,
                    64,
                    59,
                    36,
                    44,
                    84,
                    62,
                    71,
                    55,
                    58,
                    36,
                    53,
                    61,
                    28,
                    52,
                    30,
                    27
                  ],
                  "x": [
                    "2020-06-01",
                    "2020-06-05",
                    "2020-06-06",
                    "2020-06-07",
                    "2020-06-08",
                    "2020-06-09",
                    "2020-06-10",
                    "2020-06-14",
                    "2020-06-16",
                    "2020-06-17",
                    "2020-06-18",
                    "2020-06-21",
                    "2020-06-22",
                    "2020-06-23",
                    "2020-06-25",
                    "2020-06-26",
                    "2020-06-27",
                    "2020-06-30",
                    "2020-07-03",
                    "2020-07-08",
                    "2020-07-09",
                    "2020-07-10",
                    "2020-07-11",
                    "2020-07-12",
                    "2020-07-13",
                    "2020-07-14",
                    "2020-07-15",
                    "2020-07-16",
                    "2020-07-20",
                    "2020-07-21",
                    "2020-07-22",
                    "2020-07-23",
                    "2020-07-24",
                    "2020-07-25",
                    "2020-07-26",
                    "2020-07-27",
                    "2020-07-29",
                    "2020-07-30",
                    "2020-08-03",
                    "2020-08-04",
                    "2020-08-05",
                    "2020-08-06",
                    "2020-08-07",
                    "2020-08-08",
                    "2020-08-09",
                    "2020-08-10",
                    "2020-08-11",
                    "2020-08-12",
                    "2020-08-13",
                    "2020-08-14",
                    "2020-08-15",
                    "2020-08-17",
                    "2020-08-18",
                    "2020-08-19",
                    "2020-08-21",
                    "2020-08-22",
                    "2020-08-23",
                    "2020-08-24",
                    "2020-08-25",
                    "2020-08-26",
                    "2020-08-27",
                    "2020-08-28",
                    "2020-08-30",
                    "2020-08-31",
                    "2020-09-01",
                    "2020-09-02",
                    "2020-09-03",
                    "2020-09-04",
                    "2020-09-05",
                    "2020-09-07",
                    "2020-09-08",
                    "2020-09-09",
                    "2020-09-11",
                    "2020-09-12",
                    "2020-09-13",
                    "2020-09-14",
                    "2020-09-18",
                    "2020-09-21",
                    "2020-09-22",
                    "2020-09-25",
                    "2020-09-26",
                    "2020-09-27",
                    "2020-09-28",
                    "2020-09-30",
                    "2020-10-02",
                    "2020-10-05",
                    "2020-10-08",
                    "2020-10-09",
                    "2020-10-11",
                    "2020-10-13",
                    "2020-10-17",
                    "2020-10-19",
                    "2020-10-21",
                    "2020-10-23",
                    "2020-10-24",
                    "2020-10-26",
                    "2020-10-28",
                    "2020-10-29",
                    "2020-10-30",
                    "2020-11-02",
                    "2020-11-04",
                    "2020-11-05",
                    "2020-11-07",
                    "2020-11-13",
                    "2020-11-16",
                    "2020-11-17",
                    "2020-11-18",
                    "2020-11-19",
                    "2020-11-21",
                    "2020-11-23",
                    "2020-11-24",
                    "2020-06-04",
                    "2020-06-11",
                    "2020-06-12",
                    "2020-06-29",
                    "2020-07-04",
                    "2020-07-06",
                    "2020-07-28",
                    "2020-08-01",
                    "2020-08-16",
                    "2020-08-20",
                    "2020-09-06",
                    "2020-09-10",
                    "2020-09-17",
                    "2020-09-19",
                    "2020-09-23",
                    "2020-09-24",
                    "2020-10-07",
                    "2020-10-12",
                    "2020-11-15",
                    "2020-06-02",
                    "2020-06-03",
                    "2020-06-13",
                    "2020-06-15",
                    "2020-06-24",
                    "2020-06-28",
                    "2020-07-05",
                    "2020-07-07",
                    "2020-07-17",
                    "2020-07-18",
                    "2020-07-19",
                    "2020-07-31",
                    "2020-08-29",
                    "2020-09-15",
                    "2020-09-16",
                    "2020-09-29",
                    "2020-10-01",
                    "2020-10-06",
                    "2020-10-14",
                    "2020-10-15",
                    "2020-10-20",
                    "2020-10-22",
                    "2020-10-27",
                    "2020-11-08",
                    "2020-11-09",
                    "2020-11-20",
                    "2020-06-19",
                    "2020-06-20",
                    "2020-07-01",
                    "2020-07-02",
                    "2020-08-02",
                    "2020-10-03",
                    "2020-10-10",
                    "2020-10-18",
                    "2020-11-01",
                    "2020-11-03",
                    "2020-11-06",
                    "2020-11-10",
                    "2020-11-11",
                    "2020-11-12",
                    "2020-11-14",
                    "2020-09-20",
                    "2020-10-16",
                    "2020-11-22",
                    "2020-10-04",
                    "2020-10-31",
                    "2020-10-25"
                  ],
                  "line": {
                    "color": "#228B22",
                    "width": 0.5
                  },
                  "type": "scatter"
                }
              ],
              "config": {
                "plotlyServerURL": "https://plot.ly"
              },
              "layout": {
                "template": {
                  "layout": {
                    "shapedefaults": {
                      "line": {
                        "color": "#2a3f5f"
                      }
                    },
                    "polar": {
                      "radialaxis": {
                        "ticks": "",
                        "gridcolor": "white",
                        "linecolor": "white"
                      },
                      "bgcolor": "#E5ECF6",
                      "angularaxis": {
                        "ticks": "",
                        "gridcolor": "white",
                        "linecolor": "white"
                      }
                    },
                    "colorway": [
                      "#636efa",
                      "#EF553B",
                      "#00cc96",
                      "#ab63fa",
                      "#FFA15A",
                      "#19d3f3",
                      "#FF6692",
                      "#B6E880",
                      "#FF97FF",
                      "#FECB52"
                    ],
                    "xaxis": {
                      "automargin": true,
                      "title": {
                        "standoff": 15
                      },
                      "zerolinewidth": 2,
                      "ticks": "",
                      "zerolinecolor": "white",
                      "gridcolor": "white",
                      "linecolor": "white"
                    },
                    "colorscale": {
                      "diverging": [
                        [
                          0,
                          "#8e0152"
                        ],
                        [
                          0.1,
                          "#c51b7d"
                        ],
                        [
                          0.2,
                          "#de77ae"
                        ],
                        [
                          0.3,
                          "#f1b6da"
                        ],
                        [
                          0.4,
                          "#fde0ef"
                        ],
                        [
                          0.5,
                          "#f7f7f7"
                        ],
                        [
                          0.6,
                          "#e6f5d0"
                        ],
                        [
                          0.7,
                          "#b8e186"
                        ],
                        [
                          0.8,
                          "#7fbc41"
                        ],
                        [
                          0.9,
                          "#4d9221"
                        ],
                        [
                          1,
                          "#276419"
                        ]
                      ],
                      "sequential": [
                        [
                          0,
                          "#0d0887"
                        ],
                        [
                          0.1111111111111111,
                          "#46039f"
                        ],
                        [
                          0.2222222222222222,
                          "#7201a8"
                        ],
                        [
                          0.3333333333333333,
                          "#9c179e"
                        ],
                        [
                          0.4444444444444444,
                          "#bd3786"
                        ],
                        [
                          0.5555555555555556,
                          "#d8576b"
                        ],
                        [
                          0.6666666666666666,
                          "#ed7953"
                        ],
                        [
                          0.7777777777777778,
                          "#fb9f3a"
                        ],
                        [
                          0.8888888888888888,
                          "#fdca26"
                        ],
                        [
                          1,
                          "#f0f921"
                        ]
                      ],
                      "sequentialminus": [
                        [
                          0,
                          "#0d0887"
                        ],
                        [
                          0.1111111111111111,
                          "#46039f"
                        ],
                        [
                          0.2222222222222222,
                          "#7201a8"
                        ],
                        [
                          0.3333333333333333,
                          "#9c179e"
                        ],
                        [
                          0.4444444444444444,
                          "#bd3786"
                        ],
                        [
                          0.5555555555555556,
                          "#d8576b"
                        ],
                        [
                          0.6666666666666666,
                          "#ed7953"
                        ],
                        [
                          0.7777777777777778,
                          "#fb9f3a"
                        ],
                        [
                          0.8888888888888888,
                          "#fdca26"
                        ],
                        [
                          1,
                          "#f0f921"
                        ]
                      ]
                    },
                    "paper_bgcolor": "white",
                    "plot_bgcolor": "#E5ECF6",
                    "title": {
                      "x": 0.05
                    },
                    "scene": {
                      "zaxis": {
                        "backgroundcolor": "#E5ECF6",
                        "ticks": "",
                        "gridwidth": 2,
                        "showbackground": true,
                        "zerolinecolor": "white",
                        "gridcolor": "white",
                        "linecolor": "white"
                      },
                      "xaxis": {
                        "backgroundcolor": "#E5ECF6",
                        "ticks": "",
                        "gridwidth": 2,
                        "showbackground": true,
                        "zerolinecolor": "white",
                        "gridcolor": "white",
                        "linecolor": "white"
                      },
                      "yaxis": {
                        "backgroundcolor": "#E5ECF6",
                        "ticks": "",
                        "gridwidth": 2,
                        "showbackground": true,
                        "zerolinecolor": "white",
                        "gridcolor": "white",
                        "linecolor": "white"
                      }
                    },
                    "yaxis": {
                      "automargin": true,
                      "title": {
                        "standoff": 15
                      },
                      "zerolinewidth": 2,
                      "ticks": "",
                      "zerolinecolor": "white",
                      "gridcolor": "white",
                      "linecolor": "white"
                    },
                    "annotationdefaults": {
                      "arrowwidth": 1,
                      "arrowhead": 0,
                      "arrowcolor": "#2a3f5f"
                    },
                    "hoverlabel": {
                      "align": "left"
                    },
                    "ternary": {
                      "bgcolor": "#E5ECF6",
                      "baxis": {
                        "ticks": "",
                        "gridcolor": "white",
                        "linecolor": "white"
                      },
                      "caxis": {
                        "ticks": "",
                        "gridcolor": "white",
                        "linecolor": "white"
                      },
                      "aaxis": {
                        "ticks": "",
                        "gridcolor": "white",
                        "linecolor": "white"
                      }
                    },
                    "mapbox": {
                      "style": "light"
                    },
                    "hovermode": "closest",
                    "font": {
                      "color": "#2a3f5f"
                    },
                    "geo": {
                      "showland": true,
                      "landcolor": "#E5ECF6",
                      "showlakes": true,
                      "bgcolor": "white",
                      "subunitcolor": "white",
                      "lakecolor": "white"
                    },
                    "coloraxis": {
                      "colorbar": {
                        "outlinewidth": 0,
                        "ticks": ""
                      }
                    }
                  },
                  "data": {
                    "mesh3d": [
                      {
                        "colorbar": {
                          "outlinewidth": 0,
                          "ticks": ""
                        },
                        "type": "mesh3d"
                      }
                    ],
                    "scattercarpet": [
                      {
                        "marker": {
                          "colorbar": {
                            "outlinewidth": 0,
                            "ticks": ""
                          }
                        },
                        "type": "scattercarpet"
                      }
                    ],
                    "pie": [
                      {
                        "automargin": true,
                        "type": "pie"
                      }
                    ],
                    "surface": [
                      {
                        "colorbar": {
                          "outlinewidth": 0,
                          "ticks": ""
                        },
                        "type": "surface",
                        "colorscale": [
                          [
                            0,
                            "#0d0887"
                          ],
                          [
                            0.1111111111111111,
                            "#46039f"
                          ],
                          [
                            0.2222222222222222,
                            "#7201a8"
                          ],
                          [
                            0.3333333333333333,
                            "#9c179e"
                          ],
                          [
                            0.4444444444444444,
                            "#bd3786"
                          ],
                          [
                            0.5555555555555556,
                            "#d8576b"
                          ],
                          [
                            0.6666666666666666,
                            "#ed7953"
                          ],
                          [
                            0.7777777777777778,
                            "#fb9f3a"
                          ],
                          [
                            0.8888888888888888,
                            "#fdca26"
                          ],
                          [
                            1,
                            "#f0f921"
                          ]
                        ]
                      }
                    ],
                    "table": [
                      {
                        "header": {
                          "line": {
                            "color": "white"
                          },
                          "fill": {
                            "color": "#C8D4E3"
                          }
                        },
                        "cells": {
                          "line": {
                            "color": "white"
                          },
                          "fill": {
                            "color": "#EBF0F8"
                          }
                        },
                        "type": "table"
                      }
                    ],
                    "scatterpolargl": [
                      {
                        "marker": {
                          "colorbar": {
                            "outlinewidth": 0,
                            "ticks": ""
                          }
                        },
                        "type": "scatterpolargl"
                      }
                    ],
                    "contour": [
                      {
                        "colorbar": {
                          "outlinewidth": 0,
                          "ticks": ""
                        },
                        "type": "contour",
                        "colorscale": [
                          [
                            0,
                            "#0d0887"
                          ],
                          [
                            0.1111111111111111,
                            "#46039f"
                          ],
                          [
                            0.2222222222222222,
                            "#7201a8"
                          ],
                          [
                            0.3333333333333333,
                            "#9c179e"
                          ],
                          [
                            0.4444444444444444,
                            "#bd3786"
                          ],
                          [
                            0.5555555555555556,
                            "#d8576b"
                          ],
                          [
                            0.6666666666666666,
                            "#ed7953"
                          ],
                          [
                            0.7777777777777778,
                            "#fb9f3a"
                          ],
                          [
                            0.8888888888888888,
                            "#fdca26"
                          ],
                          [
                            1,
                            "#f0f921"
                          ]
                        ]
                      }
                    ],
                    "carpet": [
                      {
                        "type": "carpet",
                        "baxis": {
                          "minorgridcolor": "white",
                          "gridcolor": "white",
                          "linecolor": "white",
                          "endlinecolor": "#2a3f5f",
                          "startlinecolor": "#2a3f5f"
                        },
                        "aaxis": {
                          "minorgridcolor": "white",
                          "gridcolor": "white",
                          "linecolor": "white",
                          "endlinecolor": "#2a3f5f",
                          "startlinecolor": "#2a3f5f"
                        }
                      }
                    ],
                    "contourcarpet": [
                      {
                        "colorbar": {
                          "outlinewidth": 0,
                          "ticks": ""
                        },
                        "type": "contourcarpet"
                      }
                    ],
                    "heatmap": [
                      {
                        "colorbar": {
                          "outlinewidth": 0,
                          "ticks": ""
                        },
                        "type": "heatmap",
                        "colorscale": [
                          [
                            0,
                            "#0d0887"
                          ],
                          [
                            0.1111111111111111,
                            "#46039f"
                          ],
                          [
                            0.2222222222222222,
                            "#7201a8"
                          ],
                          [
                            0.3333333333333333,
                            "#9c179e"
                          ],
                          [
                            0.4444444444444444,
                            "#bd3786"
                          ],
                          [
                            0.5555555555555556,
                            "#d8576b"
                          ],
                          [
                            0.6666666666666666,
                            "#ed7953"
                          ],
                          [
                            0.7777777777777778,
                            "#fb9f3a"
                          ],
                          [
                            0.8888888888888888,
                            "#fdca26"
                          ],
                          [
                            1,
                            "#f0f921"
                          ]
                        ]
                      }
                    ],
                    "scattermapbox": [
                      {
                        "marker": {
                          "colorbar": {
                            "outlinewidth": 0,
                            "ticks": ""
                          }
                        },
                        "type": "scattermapbox"
                      }
                    ],
                    "scatter3d": [
                      {
                        "marker": {
                          "colorbar": {
                            "outlinewidth": 0,
                            "ticks": ""
                          }
                        },
                        "line": {
                          "colorbar": {
                            "outlinewidth": 0,
                            "ticks": ""
                          }
                        },
                        "type": "scatter3d"
                      }
                    ],
                    "scattergl": [
                      {
                        "marker": {
                          "colorbar": {
                            "outlinewidth": 0,
                            "ticks": ""
                          }
                        },
                        "type": "scattergl"
                      }
                    ],
                    "scatterternary": [
                      {
                        "marker": {
                          "colorbar": {
                            "outlinewidth": 0,
                            "ticks": ""
                          }
                        },
                        "type": "scatterternary"
                      }
                    ],
                    "histogram": [
                      {
                        "marker": {
                          "colorbar": {
                            "outlinewidth": 0,
                            "ticks": ""
                          }
                        },
                        "type": "histogram"
                      }
                    ],
                    "heatmapgl": [
                      {
                        "colorbar": {
                          "outlinewidth": 0,
                          "ticks": ""
                        },
                        "type": "heatmapgl",
                        "colorscale": [
                          [
                            0,
                            "#0d0887"
                          ],
                          [
                            0.1111111111111111,
                            "#46039f"
                          ],
                          [
                            0.2222222222222222,
                            "#7201a8"
                          ],
                          [
                            0.3333333333333333,
                            "#9c179e"
                          ],
                          [
                            0.4444444444444444,
                            "#bd3786"
                          ],
                          [
                            0.5555555555555556,
                            "#d8576b"
                          ],
                          [
                            0.6666666666666666,
                            "#ed7953"
                          ],
                          [
                            0.7777777777777778,
                            "#fb9f3a"
                          ],
                          [
                            0.8888888888888888,
                            "#fdca26"
                          ],
                          [
                            1,
                            "#f0f921"
                          ]
                        ]
                      }
                    ],
                    "scatterpolar": [
                      {
                        "marker": {
                          "colorbar": {
                            "outlinewidth": 0,
                            "ticks": ""
                          }
                        },
                        "type": "scatterpolar"
                      }
                    ],
                    "histogram2d": [
                      {
                        "colorbar": {
                          "outlinewidth": 0,
                          "ticks": ""
                        },
                        "type": "histogram2d",
                        "colorscale": [
                          [
                            0,
                            "#0d0887"
                          ],
                          [
                            0.1111111111111111,
                            "#46039f"
                          ],
                          [
                            0.2222222222222222,
                            "#7201a8"
                          ],
                          [
                            0.3333333333333333,
                            "#9c179e"
                          ],
                          [
                            0.4444444444444444,
                            "#bd3786"
                          ],
                          [
                            0.5555555555555556,
                            "#d8576b"
                          ],
                          [
                            0.6666666666666666,
                            "#ed7953"
                          ],
                          [
                            0.7777777777777778,
                            "#fb9f3a"
                          ],
                          [
                            0.8888888888888888,
                            "#fdca26"
                          ],
                          [
                            1,
                            "#f0f921"
                          ]
                        ]
                      }
                    ],
                    "scattergeo": [
                      {
                        "marker": {
                          "colorbar": {
                            "outlinewidth": 0,
                            "ticks": ""
                          }
                        },
                        "type": "scattergeo"
                      }
                    ],
                    "bar": [
                      {
                        "marker": {
                          "line": {
                            "color": "#E5ECF6",
                            "width": 0.5
                          }
                        },
                        "type": "bar",
                        "error_x": {
                          "color": "#2a3f5f"
                        },
                        "error_y": {
                          "color": "#2a3f5f"
                        }
                      }
                    ],
                    "choropleth": [
                      {
                        "colorbar": {
                          "outlinewidth": 0,
                          "ticks": ""
                        },
                        "type": "choropleth"
                      }
                    ],
                    "parcoords": [
                      {
                        "line": {
                          "colorbar": {
                            "outlinewidth": 0,
                            "ticks": ""
                          }
                        },
                        "type": "parcoords"
                      }
                    ],
                    "barpolar": [
                      {
                        "marker": {
                          "line": {
                            "color": "#E5ECF6",
                            "width": 0.5
                          }
                        },
                        "type": "barpolar"
                      }
                    ],
                    "histogram2dcontour": [
                      {
                        "colorbar": {
                          "outlinewidth": 0,
                          "ticks": ""
                        },
                        "type": "histogram2dcontour",
                        "colorscale": [
                          [
                            0,
                            "#0d0887"
                          ],
                          [
                            0.1111111111111111,
                            "#46039f"
                          ],
                          [
                            0.2222222222222222,
                            "#7201a8"
                          ],
                          [
                            0.3333333333333333,
                            "#9c179e"
                          ],
                          [
                            0.4444444444444444,
                            "#bd3786"
                          ],
                          [
                            0.5555555555555556,
                            "#d8576b"
                          ],
                          [
                            0.6666666666666666,
                            "#ed7953"
                          ],
                          [
                            0.7777777777777778,
                            "#fb9f3a"
                          ],
                          [
                            0.8888888888888888,
                            "#fdca26"
                          ],
                          [
                            1,
                            "#f0f921"
                          ]
                        ]
                      }
                    ],
                    "scatter": [
                      {
                        "marker": {
                          "colorbar": {
                            "outlinewidth": 0,
                            "ticks": ""
                          }
                        },
                        "type": "scatter"
                      }
                    ]
                  }
                },
                "title": {
                  "text": "Damaged Trees"
                },
                "yaxis": {
                  "title": {
                    "text": "Total Calls"
                  }
                },
                "height": 700,
                "xaxis": {
                  "title": {
                    "text": "Date"
                  }
                },
                "font": {
                  "color": "#58508d",
                  "family": "silom",
                  "size": 14
                }
              }
            }
          },
          "metadata": {
            "tags": []
          }
        }
      ]
    },
    {
      "cell_type": "markdown",
      "metadata": {
        "id": "C11m1M6FfxrY"
      },
      "source": [
        "The data for this complaint type was plotted independently because there is a clear peak that occurs on August 4th, with nearly 14k calls related to damaged trees. This peak causes the data for other dates to appear insignificant, despite the relatively high volume of complaints related to damaged trees that occured throughout the summer. One August 5th, there were more than 8k calls, followed by 3k on August 6th. This high call volume is attributable to [Hurricane Isaias](https://www.ny1.com/nyc/all-boroughs/weather/2020/08/04/isaias-new-york-city-august-4), which resulted in downed trees throughout the entire city in early August."
      ]
    },
    {
      "cell_type": "code",
      "metadata": {
        "id": "FoVrLh73fgFq",
        "colab": {
          "base_uri": "https://localhost:8080/",
          "height": 716
        },
        "outputId": "15729f32-7766-4db4-f57e-ab80395a057d"
      },
      "source": [
        "# #create and show area plot (other tree-related complaints)\n",
        "tree_fig = go.Figure()\n",
        "\n",
        "tree_fig.add_trace(go.Scatter(\n",
        "    x=ot.index, y=ot[\"Overgrown Tree/Branches\"],\n",
        "    hoverinfo='x+y',\n",
        "    mode='lines',\n",
        "    line=dict(width=0.5, color='#8B4513'), name=\"Overgrown Tree/Branches\",\n",
        "    stackgroup='two'\n",
        "    ))\n",
        "\n",
        "tree_fig.add_trace(go.Scatter(\n",
        "    x=dd.index, y=dd[\"Dead/Dying Tree\"],\n",
        "    hoverinfo='x+y',\n",
        "    mode='lines',\n",
        "    line=dict(width=0.5, color='#C4285F'), name=\"Dead/Dying Tree\",\n",
        "    stackgroup='three'\n",
        "    ))\n",
        "\n",
        "tree_fig.add_trace(go.Scatter(\n",
        "    x=nt.index, y=nt[\"New Tree Request\"],\n",
        "    hoverinfo='x+y',\n",
        "    mode='lines',\n",
        "    line=dict(width=0.5, color='#491BE5'), name=\"New Tree Request\",\n",
        "    stackgroup='four'\n",
        "    ))\n",
        "\n",
        "tree_fig.update_layout(legend=dict(\n",
        "    yanchor=\"top\",\n",
        "    y=0.99,\n",
        "    xanchor=\"right\",\n",
        "    x=0.99\n",
        "))\n",
        "\n",
        "\n",
        "tree_fig.update_layout(title=\"Other Tree-Related Requests\", height=700,\n",
        "                  xaxis_title=\"Date\",\n",
        "                  yaxis_title=\"Total Calls\", \n",
        "\n",
        "font=dict(family=\"silom\",\n",
        "          size=14, color=\"#58508d\"))\n",
        "\n",
        "tree_fig.show()"
      ],
      "execution_count": 16,
      "outputs": [
        {
          "output_type": "display_data",
          "data": {
            "text/html": [
              "<div>\n",
              "        \n",
              "        \n",
              "            <div id=\"f26e37c9-cb97-4289-bfb7-ce3e1bd5efa4\" class=\"plotly-graph-div\" style=\"height:700px; width:100%;\"></div>\n",
              "            <script type=\"text/javascript\">\n",
              "                require([\"plotly\"], function(Plotly) {\n",
              "                    window.PLOTLYENV=window.PLOTLYENV || {};\n",
              "                    \n",
              "                if (document.getElementById(\"f26e37c9-cb97-4289-bfb7-ce3e1bd5efa4\")) {\n",
              "                    Plotly.newPlot(\n",
              "                        'f26e37c9-cb97-4289-bfb7-ce3e1bd5efa4',\n",
              "                        [{\"hoverinfo\": \"x+y\", \"line\": {\"color\": \"#8B4513\", \"width\": 0.5}, \"mode\": \"lines\", \"name\": \"Overgrown Tree/Branches\", \"stackgroup\": \"two\", \"type\": \"scatter\", \"x\": [\"2020-06-01\", \"2020-06-02\", \"2020-06-03\", \"2020-06-05\", \"2020-06-06\", \"2020-06-07\", \"2020-06-08\", \"2020-06-13\", \"2020-06-18\", \"2020-06-21\", \"2020-06-22\", \"2020-06-23\", \"2020-06-24\", \"2020-06-25\", \"2020-06-26\", \"2020-06-27\", \"2020-06-29\", \"2020-06-30\", \"2020-07-01\", \"2020-07-02\", \"2020-07-06\", \"2020-07-07\", \"2020-07-08\", \"2020-07-09\", \"2020-07-13\", \"2020-07-15\", \"2020-07-16\", \"2020-07-20\", \"2020-07-21\", \"2020-07-22\", \"2020-07-24\", \"2020-07-27\", \"2020-07-28\", \"2020-07-29\", \"2020-08-01\", \"2020-08-02\", \"2020-08-03\", \"2020-08-04\", \"2020-08-05\", \"2020-08-06\", \"2020-08-11\", \"2020-08-13\", \"2020-08-17\", \"2020-08-21\", \"2020-08-26\", \"2020-08-28\", \"2020-09-02\", \"2020-09-06\", \"2020-09-10\", \"2020-09-11\", \"2020-09-13\", \"2020-09-15\", \"2020-10-02\", \"2020-10-09\", \"2020-10-10\", \"2020-10-16\", \"2020-10-22\", \"2020-10-29\", \"2020-11-05\", \"2020-11-10\", \"2020-11-13\", \"2020-11-16\", \"2020-06-09\", \"2020-06-15\", \"2020-06-16\", \"2020-07-05\", \"2020-07-10\", \"2020-07-14\", \"2020-07-26\", \"2020-08-08\", \"2020-08-27\", \"2020-08-31\", \"2020-09-01\", \"2020-10-13\", \"2020-10-26\", \"2020-11-06\", \"2020-11-08\", \"2020-11-20\", \"2020-11-21\", \"2020-06-04\", \"2020-06-12\", \"2020-06-14\", \"2020-06-19\", \"2020-06-20\", \"2020-06-28\", \"2020-07-03\", \"2020-07-11\", \"2020-07-12\", \"2020-07-19\", \"2020-07-23\", \"2020-07-30\", \"2020-07-31\", \"2020-08-07\", \"2020-08-10\", \"2020-08-12\", \"2020-08-14\", \"2020-08-15\", \"2020-08-16\", \"2020-08-18\", \"2020-08-22\", \"2020-08-23\", \"2020-08-24\", \"2020-08-25\", \"2020-08-30\", \"2020-09-03\", \"2020-09-08\", \"2020-09-12\", \"2020-09-14\", \"2020-09-16\", \"2020-09-17\", \"2020-09-18\", \"2020-09-19\", \"2020-09-20\", \"2020-09-21\", \"2020-09-22\", \"2020-09-23\", \"2020-09-25\", \"2020-09-28\", \"2020-09-29\", \"2020-10-01\", \"2020-10-05\", \"2020-10-07\", \"2020-10-08\", \"2020-10-12\", \"2020-10-14\", \"2020-10-15\", \"2020-10-17\", \"2020-10-18\", \"2020-10-21\", \"2020-11-02\", \"2020-06-10\", \"2020-06-11\", \"2020-06-17\", \"2020-07-04\", \"2020-07-17\", \"2020-07-18\", \"2020-08-09\", \"2020-08-19\", \"2020-08-20\", \"2020-08-29\", \"2020-09-04\", \"2020-09-05\", \"2020-09-07\", \"2020-09-09\", \"2020-09-24\", \"2020-09-26\", \"2020-09-27\", \"2020-09-30\", \"2020-10-03\", \"2020-10-06\", \"2020-10-19\", \"2020-10-20\", \"2020-10-25\", \"2020-10-27\", \"2020-10-28\", \"2020-10-30\", \"2020-11-01\", \"2020-11-03\", \"2020-11-04\", \"2020-11-09\", \"2020-11-11\", \"2020-11-14\", \"2020-11-17\", \"2020-11-18\", \"2020-11-19\", \"2020-11-23\", \"2020-11-25\", \"2020-07-25\", \"2020-10-23\", \"2020-10-24\", \"2020-11-12\", \"2020-11-15\", \"2020-11-24\", \"2020-10-31\", \"2020-10-11\", \"2020-11-22\", \"2020-11-07\", \"2020-10-04\"], \"y\": [81, 70, 113, 99, 73, 67, 163, 40, 109, 42, 120, 123, 126, 118, 99, 57, 176, 212, 161, 115, 134, 125, 113, 101, 161, 136, 101, 100, 91, 119, 118, 146, 99, 96, 60, 44, 166, 598, 362, 195, 153, 118, 117, 87, 160, 107, 83, 24, 91, 70, 21, 85, 51, 48, 25, 49, 49, 55, 37, 50, 19, 64, 134, 127, 122, 31, 177, 138, 45, 63, 149, 96, 79, 69, 29, 30, 19, 13, 17, 94, 116, 51, 102, 52, 44, 67, 133, 64, 30, 151, 72, 98, 131, 126, 114, 108, 46, 51, 132, 38, 38, 93, 107, 47, 85, 85, 34, 86, 82, 68, 74, 37, 23, 64, 53, 75, 49, 64, 61, 66, 59, 62, 77, 32, 73, 60, 21, 22, 75, 95, 114, 107, 114, 24, 75, 37, 61, 95, 87, 31, 70, 34, 31, 67, 67, 24, 14, 91, 26, 61, 66, 39, 16, 50, 46, 37, 21, 19, 30, 50, 34, 11, 27, 31, 19, 31, 2, 51, 38, 15, 45, 34, 28, 22, 18, 11, 6, 22]}, {\"hoverinfo\": \"x+y\", \"line\": {\"color\": \"#C4285F\", \"width\": 0.5}, \"mode\": \"lines\", \"name\": \"Dead/Dying Tree\", \"stackgroup\": \"three\", \"type\": \"scatter\", \"x\": [\"2020-06-01\", \"2020-06-03\", \"2020-06-06\", \"2020-06-08\", \"2020-06-14\", \"2020-06-17\", \"2020-06-19\", \"2020-06-22\", \"2020-06-26\", \"2020-06-30\", \"2020-07-01\", \"2020-07-06\", \"2020-07-07\", \"2020-07-09\", \"2020-07-11\", \"2020-07-13\", \"2020-07-15\", \"2020-07-23\", \"2020-07-30\", \"2020-08-02\", \"2020-08-03\", \"2020-08-04\", \"2020-08-05\", \"2020-08-06\", \"2020-08-07\", \"2020-08-10\", \"2020-08-11\", \"2020-08-16\", \"2020-08-17\", \"2020-08-18\", \"2020-08-25\", \"2020-08-28\", \"2020-09-06\", \"2020-09-08\", \"2020-09-09\", \"2020-10-01\", \"2020-10-07\", \"2020-10-16\", \"2020-10-19\", \"2020-10-20\", \"2020-10-25\", \"2020-10-30\", \"2020-11-10\", \"2020-11-12\", \"2020-07-08\", \"2020-07-16\", \"2020-08-09\", \"2020-08-22\", \"2020-09-10\", \"2020-09-23\", \"2020-10-21\", \"2020-06-04\", \"2020-06-09\", \"2020-06-10\", \"2020-06-12\", \"2020-06-18\", \"2020-06-21\", \"2020-06-23\", \"2020-06-24\", \"2020-06-25\", \"2020-06-27\", \"2020-06-28\", \"2020-07-02\", \"2020-07-10\", \"2020-07-17\", \"2020-07-18\", \"2020-07-21\", \"2020-07-22\", \"2020-07-24\", \"2020-07-26\", \"2020-07-27\", \"2020-07-31\", \"2020-08-13\", \"2020-08-14\", \"2020-08-15\", \"2020-08-21\", \"2020-08-24\", \"2020-08-26\", \"2020-08-29\", \"2020-09-02\", \"2020-09-03\", \"2020-10-06\", \"2020-10-08\", \"2020-10-12\", \"2020-10-13\", \"2020-10-15\", \"2020-10-18\", \"2020-10-24\", \"2020-10-26\", \"2020-10-31\", \"2020-11-02\", \"2020-11-03\", \"2020-11-16\", \"2020-06-05\", \"2020-06-07\", \"2020-06-13\", \"2020-06-15\", \"2020-06-16\", \"2020-06-20\", \"2020-06-29\", \"2020-07-03\", \"2020-07-04\", \"2020-07-12\", \"2020-07-14\", \"2020-07-20\", \"2020-07-25\", \"2020-07-28\", \"2020-08-01\", \"2020-08-08\", \"2020-08-19\", \"2020-08-20\", \"2020-08-23\", \"2020-08-27\", \"2020-08-31\", \"2020-09-01\", \"2020-09-04\", \"2020-09-05\", \"2020-09-07\", \"2020-09-13\", \"2020-09-14\", \"2020-09-15\", \"2020-09-16\", \"2020-09-17\", \"2020-09-18\", \"2020-09-20\", \"2020-09-22\", \"2020-09-24\", \"2020-09-25\", \"2020-09-28\", \"2020-09-29\", \"2020-09-30\", \"2020-10-04\", \"2020-10-05\", \"2020-10-09\", \"2020-10-22\", \"2020-10-23\", \"2020-10-27\", \"2020-10-28\", \"2020-11-04\", \"2020-11-05\", \"2020-11-08\", \"2020-11-11\", \"2020-11-14\", \"2020-11-19\", \"2020-11-20\", \"2020-11-24\", \"2020-11-09\", \"2020-11-18\", \"2020-06-11\", \"2020-07-05\", \"2020-08-12\", \"2020-09-11\", \"2020-09-12\", \"2020-09-21\", \"2020-09-27\", \"2020-06-02\", \"2020-07-29\", \"2020-10-14\", \"2020-11-06\", \"2020-11-07\", \"2020-11-21\", \"2020-11-23\", \"2020-09-26\", \"2020-10-02\", \"2020-10-03\", \"2020-10-11\", \"2020-10-29\", \"2020-11-17\", \"2020-09-19\", \"2020-07-19\", \"2020-10-10\", \"2020-11-15\", \"2020-08-30\", \"2020-11-13\", \"2020-11-22\", \"2020-11-01\", \"2020-10-17\"], \"y\": [39, 41, 33, 62, 21, 41, 62, 42, 46, 91, 69, 81, 49, 41, 41, 64, 51, 54, 33, 29, 71, 213, 158, 122, 74, 94, 65, 22, 67, 74, 53, 53, 20, 69, 41, 33, 29, 20, 31, 19, 7, 20, 34, 23, 61, 47, 42, 18, 36, 34, 32, 58, 52, 60, 49, 60, 15, 44, 41, 53, 14, 33, 36, 59, 54, 12, 48, 48, 25, 26, 46, 42, 63, 77, 32, 38, 57, 71, 22, 40, 42, 39, 32, 21, 23, 24, 13, 11, 16, 14, 34, 28, 28, 47, 17, 29, 51, 50, 17, 70, 32, 16, 22, 42, 39, 18, 54, 19, 44, 44, 70, 25, 47, 43, 45, 35, 22, 15, 24, 44, 42, 46, 44, 36, 7, 30, 36, 28, 32, 42, 41, 13, 30, 20, 16, 22, 34, 10, 19, 18, 7, 8, 5, 11, 9, 16, 23, 13, 44, 24, 64, 24, 16, 36, 15, 48, 36, 47, 14, 13, 8, 12, 18, 22, 27, 12, 17, 25, 13, 23, 10, 8, 16, 20, 5, 5, 6]}, {\"hoverinfo\": \"x+y\", \"line\": {\"color\": \"#491BE5\", \"width\": 0.5}, \"mode\": \"lines\", \"name\": \"New Tree Request\", \"stackgroup\": \"four\", \"type\": \"scatter\", \"x\": [\"2020-06-01\", \"2020-06-17\", \"2020-06-23\", \"2020-06-24\", \"2020-06-27\", \"2020-06-29\", \"2020-06-30\", \"2020-07-09\", \"2020-07-10\", \"2020-07-15\", \"2020-07-16\", \"2020-07-19\", \"2020-07-24\", \"2020-07-29\", \"2020-08-01\", \"2020-08-03\", \"2020-08-04\", \"2020-08-06\", \"2020-08-07\", \"2020-08-10\", \"2020-08-11\", \"2020-08-12\", \"2020-08-15\", \"2020-08-16\", \"2020-08-25\", \"2020-08-28\", \"2020-09-01\", \"2020-09-03\", \"2020-09-07\", \"2020-09-08\", \"2020-09-14\", \"2020-09-17\", \"2020-09-21\", \"2020-09-28\", \"2020-09-30\", \"2020-10-01\", \"2020-10-24\", \"2020-10-27\", \"2020-06-02\", \"2020-06-05\", \"2020-06-08\", \"2020-06-19\", \"2020-07-03\", \"2020-07-07\", \"2020-07-08\", \"2020-07-13\", \"2020-07-22\", \"2020-08-05\", \"2020-08-26\", \"2020-08-27\", \"2020-09-09\", \"2020-10-03\", \"2020-10-10\", \"2020-10-11\", \"2020-10-13\", \"2020-10-15\", \"2020-10-16\", \"2020-10-17\", \"2020-10-18\", \"2020-10-19\", \"2020-10-20\", \"2020-10-23\", \"2020-11-04\", \"2020-11-05\", \"2020-11-20\", \"2020-06-04\", \"2020-06-06\", \"2020-06-07\", \"2020-06-12\", \"2020-06-13\", \"2020-06-14\", \"2020-06-15\", \"2020-06-21\", \"2020-06-22\", \"2020-07-01\", \"2020-07-04\", \"2020-07-06\", \"2020-07-11\", \"2020-07-17\", \"2020-07-21\", \"2020-07-28\", \"2020-08-09\", \"2020-08-14\", \"2020-08-17\", \"2020-08-18\", \"2020-08-31\", \"2020-09-02\", \"2020-09-04\", \"2020-09-05\", \"2020-09-16\", \"2020-09-22\", \"2020-09-24\", \"2020-10-04\", \"2020-10-06\", \"2020-10-08\", \"2020-10-22\", \"2020-10-26\", \"2020-11-10\", \"2020-11-12\", \"2020-11-13\", \"2020-11-16\", \"2020-06-03\", \"2020-06-09\", \"2020-06-10\", \"2020-06-11\", \"2020-06-16\", \"2020-06-18\", \"2020-06-20\", \"2020-06-25\", \"2020-06-26\", \"2020-06-28\", \"2020-07-18\", \"2020-07-20\", \"2020-07-25\", \"2020-07-27\", \"2020-07-31\", \"2020-08-13\", \"2020-08-19\", \"2020-08-20\", \"2020-08-21\", \"2020-08-24\", \"2020-08-29\", \"2020-09-11\", \"2020-09-13\", \"2020-09-15\", \"2020-09-18\", \"2020-09-26\", \"2020-10-02\", \"2020-10-14\", \"2020-10-21\", \"2020-10-28\", \"2020-10-31\", \"2020-11-02\", \"2020-11-03\", \"2020-11-07\", \"2020-11-09\", \"2020-11-11\", \"2020-11-15\", \"2020-11-18\", \"2020-11-19\", \"2020-11-23\", \"2020-11-24\", \"2020-07-12\", \"2020-07-26\", \"2020-08-08\", \"2020-10-05\", \"2020-10-07\", \"2020-10-09\", \"2020-10-29\", \"2020-07-02\", \"2020-07-05\", \"2020-07-30\", \"2020-08-02\", \"2020-09-23\", \"2020-07-14\", \"2020-08-22\", \"2020-09-06\", \"2020-09-10\", \"2020-09-19\", \"2020-09-27\", \"2020-09-29\", \"2020-10-30\", \"2020-11-14\", \"2020-11-17\", \"2020-11-21\", \"2020-09-12\", \"2020-09-25\", \"2020-11-08\", \"2020-07-23\", \"2020-08-30\", \"2020-09-20\", \"2020-11-01\", \"2020-11-06\", \"2020-11-22\", \"2020-08-23\", \"2020-10-12\", \"2020-10-25\"], \"y\": [32, 62, 61, 65, 34, 43, 74, 92, 55, 65, 30, 31, 41, 32, 30, 58, 72, 79, 57, 62, 80, 46, 42, 20, 182, 36, 47, 26, 21, 60, 38, 92, 28, 32, 34, 66, 21, 64, 106, 54, 62, 52, 50, 61, 67, 77, 30, 94, 33, 51, 50, 22, 48, 70, 29, 32, 29, 24, 32, 59, 52, 75, 72, 29, 15, 66, 17, 33, 50, 38, 44, 50, 42, 84, 27, 21, 39, 29, 41, 55, 55, 63, 56, 41, 51, 26, 51, 27, 16, 46, 29, 44, 37, 41, 31, 33, 44, 41, 17, 17, 28, 41, 71, 64, 45, 66, 108, 47, 73, 46, 64, 23, 72, 32, 39, 28, 39, 39, 39, 29, 49, 16, 28, 25, 50, 28, 45, 45, 29, 54, 44, 17, 34, 19, 40, 32, 37, 11, 62, 9, 40, 20, 28, 31, 19, 38, 63, 40, 20, 67, 23, 39, 25, 43, 107, 17, 19, 49, 22, 19, 32, 24, 15, 45, 6, 35, 35, 27, 38, 12, 10, 45, 18, 11, 28, 12, 31]}],\n",
              "                        {\"font\": {\"color\": \"#58508d\", \"family\": \"silom\", \"size\": 14}, \"height\": 700, \"legend\": {\"x\": 0.99, \"xanchor\": \"right\", \"y\": 0.99, \"yanchor\": \"top\"}, \"template\": {\"data\": {\"bar\": [{\"error_x\": {\"color\": \"#2a3f5f\"}, \"error_y\": {\"color\": \"#2a3f5f\"}, \"marker\": {\"line\": {\"color\": \"#E5ECF6\", \"width\": 0.5}}, \"type\": \"bar\"}], \"barpolar\": [{\"marker\": {\"line\": {\"color\": \"#E5ECF6\", \"width\": 0.5}}, \"type\": \"barpolar\"}], \"carpet\": [{\"aaxis\": {\"endlinecolor\": \"#2a3f5f\", \"gridcolor\": \"white\", \"linecolor\": \"white\", \"minorgridcolor\": \"white\", \"startlinecolor\": \"#2a3f5f\"}, \"baxis\": {\"endlinecolor\": \"#2a3f5f\", \"gridcolor\": \"white\", \"linecolor\": \"white\", \"minorgridcolor\": \"white\", \"startlinecolor\": \"#2a3f5f\"}, \"type\": \"carpet\"}], \"choropleth\": [{\"colorbar\": {\"outlinewidth\": 0, \"ticks\": \"\"}, \"type\": \"choropleth\"}], \"contour\": [{\"colorbar\": {\"outlinewidth\": 0, \"ticks\": \"\"}, \"colorscale\": [[0.0, \"#0d0887\"], [0.1111111111111111, \"#46039f\"], [0.2222222222222222, \"#7201a8\"], [0.3333333333333333, \"#9c179e\"], [0.4444444444444444, \"#bd3786\"], [0.5555555555555556, \"#d8576b\"], [0.6666666666666666, \"#ed7953\"], [0.7777777777777778, \"#fb9f3a\"], [0.8888888888888888, \"#fdca26\"], [1.0, \"#f0f921\"]], \"type\": \"contour\"}], \"contourcarpet\": [{\"colorbar\": {\"outlinewidth\": 0, \"ticks\": \"\"}, \"type\": \"contourcarpet\"}], \"heatmap\": [{\"colorbar\": {\"outlinewidth\": 0, \"ticks\": \"\"}, \"colorscale\": [[0.0, \"#0d0887\"], [0.1111111111111111, \"#46039f\"], [0.2222222222222222, \"#7201a8\"], [0.3333333333333333, \"#9c179e\"], [0.4444444444444444, \"#bd3786\"], [0.5555555555555556, \"#d8576b\"], [0.6666666666666666, \"#ed7953\"], [0.7777777777777778, \"#fb9f3a\"], [0.8888888888888888, \"#fdca26\"], [1.0, \"#f0f921\"]], \"type\": \"heatmap\"}], \"heatmapgl\": [{\"colorbar\": {\"outlinewidth\": 0, \"ticks\": \"\"}, \"colorscale\": [[0.0, \"#0d0887\"], [0.1111111111111111, \"#46039f\"], [0.2222222222222222, \"#7201a8\"], [0.3333333333333333, \"#9c179e\"], [0.4444444444444444, \"#bd3786\"], [0.5555555555555556, \"#d8576b\"], [0.6666666666666666, \"#ed7953\"], [0.7777777777777778, \"#fb9f3a\"], [0.8888888888888888, \"#fdca26\"], [1.0, \"#f0f921\"]], \"type\": \"heatmapgl\"}], \"histogram\": [{\"marker\": {\"colorbar\": {\"outlinewidth\": 0, \"ticks\": \"\"}}, \"type\": \"histogram\"}], \"histogram2d\": [{\"colorbar\": {\"outlinewidth\": 0, \"ticks\": \"\"}, \"colorscale\": [[0.0, \"#0d0887\"], [0.1111111111111111, \"#46039f\"], [0.2222222222222222, \"#7201a8\"], [0.3333333333333333, \"#9c179e\"], [0.4444444444444444, \"#bd3786\"], [0.5555555555555556, \"#d8576b\"], [0.6666666666666666, \"#ed7953\"], [0.7777777777777778, \"#fb9f3a\"], [0.8888888888888888, \"#fdca26\"], [1.0, \"#f0f921\"]], \"type\": \"histogram2d\"}], \"histogram2dcontour\": [{\"colorbar\": {\"outlinewidth\": 0, \"ticks\": \"\"}, \"colorscale\": [[0.0, \"#0d0887\"], [0.1111111111111111, \"#46039f\"], [0.2222222222222222, \"#7201a8\"], [0.3333333333333333, \"#9c179e\"], [0.4444444444444444, \"#bd3786\"], [0.5555555555555556, \"#d8576b\"], [0.6666666666666666, \"#ed7953\"], [0.7777777777777778, \"#fb9f3a\"], [0.8888888888888888, \"#fdca26\"], [1.0, \"#f0f921\"]], \"type\": \"histogram2dcontour\"}], \"mesh3d\": [{\"colorbar\": {\"outlinewidth\": 0, \"ticks\": \"\"}, \"type\": \"mesh3d\"}], \"parcoords\": [{\"line\": {\"colorbar\": {\"outlinewidth\": 0, \"ticks\": \"\"}}, \"type\": \"parcoords\"}], \"pie\": [{\"automargin\": true, \"type\": \"pie\"}], \"scatter\": [{\"marker\": {\"colorbar\": {\"outlinewidth\": 0, \"ticks\": \"\"}}, \"type\": \"scatter\"}], \"scatter3d\": [{\"line\": {\"colorbar\": {\"outlinewidth\": 0, \"ticks\": \"\"}}, \"marker\": {\"colorbar\": {\"outlinewidth\": 0, \"ticks\": \"\"}}, \"type\": \"scatter3d\"}], \"scattercarpet\": [{\"marker\": {\"colorbar\": {\"outlinewidth\": 0, \"ticks\": \"\"}}, \"type\": \"scattercarpet\"}], \"scattergeo\": [{\"marker\": {\"colorbar\": {\"outlinewidth\": 0, \"ticks\": \"\"}}, \"type\": \"scattergeo\"}], \"scattergl\": [{\"marker\": {\"colorbar\": {\"outlinewidth\": 0, \"ticks\": \"\"}}, \"type\": \"scattergl\"}], \"scattermapbox\": [{\"marker\": {\"colorbar\": {\"outlinewidth\": 0, \"ticks\": \"\"}}, \"type\": \"scattermapbox\"}], \"scatterpolar\": [{\"marker\": {\"colorbar\": {\"outlinewidth\": 0, \"ticks\": \"\"}}, \"type\": \"scatterpolar\"}], \"scatterpolargl\": [{\"marker\": {\"colorbar\": {\"outlinewidth\": 0, \"ticks\": \"\"}}, \"type\": \"scatterpolargl\"}], \"scatterternary\": [{\"marker\": {\"colorbar\": {\"outlinewidth\": 0, \"ticks\": \"\"}}, \"type\": \"scatterternary\"}], \"surface\": [{\"colorbar\": {\"outlinewidth\": 0, \"ticks\": \"\"}, \"colorscale\": [[0.0, \"#0d0887\"], [0.1111111111111111, \"#46039f\"], [0.2222222222222222, \"#7201a8\"], [0.3333333333333333, \"#9c179e\"], [0.4444444444444444, \"#bd3786\"], [0.5555555555555556, \"#d8576b\"], [0.6666666666666666, \"#ed7953\"], [0.7777777777777778, \"#fb9f3a\"], [0.8888888888888888, \"#fdca26\"], [1.0, \"#f0f921\"]], \"type\": \"surface\"}], \"table\": [{\"cells\": {\"fill\": {\"color\": \"#EBF0F8\"}, \"line\": {\"color\": \"white\"}}, \"header\": {\"fill\": {\"color\": \"#C8D4E3\"}, \"line\": {\"color\": \"white\"}}, \"type\": \"table\"}]}, \"layout\": {\"annotationdefaults\": {\"arrowcolor\": \"#2a3f5f\", \"arrowhead\": 0, \"arrowwidth\": 1}, \"coloraxis\": {\"colorbar\": {\"outlinewidth\": 0, \"ticks\": \"\"}}, \"colorscale\": {\"diverging\": [[0, \"#8e0152\"], [0.1, \"#c51b7d\"], [0.2, \"#de77ae\"], [0.3, \"#f1b6da\"], [0.4, \"#fde0ef\"], [0.5, \"#f7f7f7\"], [0.6, \"#e6f5d0\"], [0.7, \"#b8e186\"], [0.8, \"#7fbc41\"], [0.9, \"#4d9221\"], [1, \"#276419\"]], \"sequential\": [[0.0, \"#0d0887\"], [0.1111111111111111, \"#46039f\"], [0.2222222222222222, \"#7201a8\"], [0.3333333333333333, \"#9c179e\"], [0.4444444444444444, \"#bd3786\"], [0.5555555555555556, \"#d8576b\"], [0.6666666666666666, \"#ed7953\"], [0.7777777777777778, \"#fb9f3a\"], [0.8888888888888888, \"#fdca26\"], [1.0, \"#f0f921\"]], \"sequentialminus\": [[0.0, \"#0d0887\"], [0.1111111111111111, \"#46039f\"], [0.2222222222222222, \"#7201a8\"], [0.3333333333333333, \"#9c179e\"], [0.4444444444444444, \"#bd3786\"], [0.5555555555555556, \"#d8576b\"], [0.6666666666666666, \"#ed7953\"], [0.7777777777777778, \"#fb9f3a\"], [0.8888888888888888, \"#fdca26\"], [1.0, \"#f0f921\"]]}, \"colorway\": [\"#636efa\", \"#EF553B\", \"#00cc96\", \"#ab63fa\", \"#FFA15A\", \"#19d3f3\", \"#FF6692\", \"#B6E880\", \"#FF97FF\", \"#FECB52\"], \"font\": {\"color\": \"#2a3f5f\"}, \"geo\": {\"bgcolor\": \"white\", \"lakecolor\": \"white\", \"landcolor\": \"#E5ECF6\", \"showlakes\": true, \"showland\": true, \"subunitcolor\": \"white\"}, \"hoverlabel\": {\"align\": \"left\"}, \"hovermode\": \"closest\", \"mapbox\": {\"style\": \"light\"}, \"paper_bgcolor\": \"white\", \"plot_bgcolor\": \"#E5ECF6\", \"polar\": {\"angularaxis\": {\"gridcolor\": \"white\", \"linecolor\": \"white\", \"ticks\": \"\"}, \"bgcolor\": \"#E5ECF6\", \"radialaxis\": {\"gridcolor\": \"white\", \"linecolor\": \"white\", \"ticks\": \"\"}}, \"scene\": {\"xaxis\": {\"backgroundcolor\": \"#E5ECF6\", \"gridcolor\": \"white\", \"gridwidth\": 2, \"linecolor\": \"white\", \"showbackground\": true, \"ticks\": \"\", \"zerolinecolor\": \"white\"}, \"yaxis\": {\"backgroundcolor\": \"#E5ECF6\", \"gridcolor\": \"white\", \"gridwidth\": 2, \"linecolor\": \"white\", \"showbackground\": true, \"ticks\": \"\", \"zerolinecolor\": \"white\"}, \"zaxis\": {\"backgroundcolor\": \"#E5ECF6\", \"gridcolor\": \"white\", \"gridwidth\": 2, \"linecolor\": \"white\", \"showbackground\": true, \"ticks\": \"\", \"zerolinecolor\": \"white\"}}, \"shapedefaults\": {\"line\": {\"color\": \"#2a3f5f\"}}, \"ternary\": {\"aaxis\": {\"gridcolor\": \"white\", \"linecolor\": \"white\", \"ticks\": \"\"}, \"baxis\": {\"gridcolor\": \"white\", \"linecolor\": \"white\", \"ticks\": \"\"}, \"bgcolor\": \"#E5ECF6\", \"caxis\": {\"gridcolor\": \"white\", \"linecolor\": \"white\", \"ticks\": \"\"}}, \"title\": {\"x\": 0.05}, \"xaxis\": {\"automargin\": true, \"gridcolor\": \"white\", \"linecolor\": \"white\", \"ticks\": \"\", \"title\": {\"standoff\": 15}, \"zerolinecolor\": \"white\", \"zerolinewidth\": 2}, \"yaxis\": {\"automargin\": true, \"gridcolor\": \"white\", \"linecolor\": \"white\", \"ticks\": \"\", \"title\": {\"standoff\": 15}, \"zerolinecolor\": \"white\", \"zerolinewidth\": 2}}}, \"title\": {\"text\": \"Other Tree-Related Requests\"}, \"xaxis\": {\"title\": {\"text\": \"Date\"}}, \"yaxis\": {\"title\": {\"text\": \"Total Calls\"}}},\n",
              "                        {\"responsive\": true}\n",
              "                    ).then(function(){\n",
              "                            \n",
              "var gd = document.getElementById('f26e37c9-cb97-4289-bfb7-ce3e1bd5efa4');\n",
              "var x = new MutationObserver(function (mutations, observer) {{\n",
              "        var display = window.getComputedStyle(gd).display;\n",
              "        if (!display || display === 'none') {{\n",
              "            console.log([gd, 'removed!']);\n",
              "            Plotly.purge(gd);\n",
              "            observer.disconnect();\n",
              "        }}\n",
              "}});\n",
              "\n",
              "// Listen for the removal of the full notebook cells\n",
              "var notebookContainer = gd.closest('#notebook-container');\n",
              "if (notebookContainer) {{\n",
              "    x.observe(notebookContainer, {childList: true});\n",
              "}}\n",
              "\n",
              "// Listen for the clearing of the current output cell\n",
              "var outputEl = gd.closest('.output');\n",
              "if (outputEl) {{\n",
              "    x.observe(outputEl, {childList: true});\n",
              "}}\n",
              "\n",
              "                        })\n",
              "                };\n",
              "                });\n",
              "            </script>\n",
              "        </div>"
            ],
            "application/vnd.plotly.v1+json": {
              "data": [
                {
                  "name": "Overgrown Tree/Branches",
                  "stackgroup": "two",
                  "mode": "lines",
                  "hoverinfo": "x+y",
                  "y": [
                    81,
                    70,
                    113,
                    99,
                    73,
                    67,
                    163,
                    40,
                    109,
                    42,
                    120,
                    123,
                    126,
                    118,
                    99,
                    57,
                    176,
                    212,
                    161,
                    115,
                    134,
                    125,
                    113,
                    101,
                    161,
                    136,
                    101,
                    100,
                    91,
                    119,
                    118,
                    146,
                    99,
                    96,
                    60,
                    44,
                    166,
                    598,
                    362,
                    195,
                    153,
                    118,
                    117,
                    87,
                    160,
                    107,
                    83,
                    24,
                    91,
                    70,
                    21,
                    85,
                    51,
                    48,
                    25,
                    49,
                    49,
                    55,
                    37,
                    50,
                    19,
                    64,
                    134,
                    127,
                    122,
                    31,
                    177,
                    138,
                    45,
                    63,
                    149,
                    96,
                    79,
                    69,
                    29,
                    30,
                    19,
                    13,
                    17,
                    94,
                    116,
                    51,
                    102,
                    52,
                    44,
                    67,
                    133,
                    64,
                    30,
                    151,
                    72,
                    98,
                    131,
                    126,
                    114,
                    108,
                    46,
                    51,
                    132,
                    38,
                    38,
                    93,
                    107,
                    47,
                    85,
                    85,
                    34,
                    86,
                    82,
                    68,
                    74,
                    37,
                    23,
                    64,
                    53,
                    75,
                    49,
                    64,
                    61,
                    66,
                    59,
                    62,
                    77,
                    32,
                    73,
                    60,
                    21,
                    22,
                    75,
                    95,
                    114,
                    107,
                    114,
                    24,
                    75,
                    37,
                    61,
                    95,
                    87,
                    31,
                    70,
                    34,
                    31,
                    67,
                    67,
                    24,
                    14,
                    91,
                    26,
                    61,
                    66,
                    39,
                    16,
                    50,
                    46,
                    37,
                    21,
                    19,
                    30,
                    50,
                    34,
                    11,
                    27,
                    31,
                    19,
                    31,
                    2,
                    51,
                    38,
                    15,
                    45,
                    34,
                    28,
                    22,
                    18,
                    11,
                    6,
                    22
                  ],
                  "x": [
                    "2020-06-01",
                    "2020-06-02",
                    "2020-06-03",
                    "2020-06-05",
                    "2020-06-06",
                    "2020-06-07",
                    "2020-06-08",
                    "2020-06-13",
                    "2020-06-18",
                    "2020-06-21",
                    "2020-06-22",
                    "2020-06-23",
                    "2020-06-24",
                    "2020-06-25",
                    "2020-06-26",
                    "2020-06-27",
                    "2020-06-29",
                    "2020-06-30",
                    "2020-07-01",
                    "2020-07-02",
                    "2020-07-06",
                    "2020-07-07",
                    "2020-07-08",
                    "2020-07-09",
                    "2020-07-13",
                    "2020-07-15",
                    "2020-07-16",
                    "2020-07-20",
                    "2020-07-21",
                    "2020-07-22",
                    "2020-07-24",
                    "2020-07-27",
                    "2020-07-28",
                    "2020-07-29",
                    "2020-08-01",
                    "2020-08-02",
                    "2020-08-03",
                    "2020-08-04",
                    "2020-08-05",
                    "2020-08-06",
                    "2020-08-11",
                    "2020-08-13",
                    "2020-08-17",
                    "2020-08-21",
                    "2020-08-26",
                    "2020-08-28",
                    "2020-09-02",
                    "2020-09-06",
                    "2020-09-10",
                    "2020-09-11",
                    "2020-09-13",
                    "2020-09-15",
                    "2020-10-02",
                    "2020-10-09",
                    "2020-10-10",
                    "2020-10-16",
                    "2020-10-22",
                    "2020-10-29",
                    "2020-11-05",
                    "2020-11-10",
                    "2020-11-13",
                    "2020-11-16",
                    "2020-06-09",
                    "2020-06-15",
                    "2020-06-16",
                    "2020-07-05",
                    "2020-07-10",
                    "2020-07-14",
                    "2020-07-26",
                    "2020-08-08",
                    "2020-08-27",
                    "2020-08-31",
                    "2020-09-01",
                    "2020-10-13",
                    "2020-10-26",
                    "2020-11-06",
                    "2020-11-08",
                    "2020-11-20",
                    "2020-11-21",
                    "2020-06-04",
                    "2020-06-12",
                    "2020-06-14",
                    "2020-06-19",
                    "2020-06-20",
                    "2020-06-28",
                    "2020-07-03",
                    "2020-07-11",
                    "2020-07-12",
                    "2020-07-19",
                    "2020-07-23",
                    "2020-07-30",
                    "2020-07-31",
                    "2020-08-07",
                    "2020-08-10",
                    "2020-08-12",
                    "2020-08-14",
                    "2020-08-15",
                    "2020-08-16",
                    "2020-08-18",
                    "2020-08-22",
                    "2020-08-23",
                    "2020-08-24",
                    "2020-08-25",
                    "2020-08-30",
                    "2020-09-03",
                    "2020-09-08",
                    "2020-09-12",
                    "2020-09-14",
                    "2020-09-16",
                    "2020-09-17",
                    "2020-09-18",
                    "2020-09-19",
                    "2020-09-20",
                    "2020-09-21",
                    "2020-09-22",
                    "2020-09-23",
                    "2020-09-25",
                    "2020-09-28",
                    "2020-09-29",
                    "2020-10-01",
                    "2020-10-05",
                    "2020-10-07",
                    "2020-10-08",
                    "2020-10-12",
                    "2020-10-14",
                    "2020-10-15",
                    "2020-10-17",
                    "2020-10-18",
                    "2020-10-21",
                    "2020-11-02",
                    "2020-06-10",
                    "2020-06-11",
                    "2020-06-17",
                    "2020-07-04",
                    "2020-07-17",
                    "2020-07-18",
                    "2020-08-09",
                    "2020-08-19",
                    "2020-08-20",
                    "2020-08-29",
                    "2020-09-04",
                    "2020-09-05",
                    "2020-09-07",
                    "2020-09-09",
                    "2020-09-24",
                    "2020-09-26",
                    "2020-09-27",
                    "2020-09-30",
                    "2020-10-03",
                    "2020-10-06",
                    "2020-10-19",
                    "2020-10-20",
                    "2020-10-25",
                    "2020-10-27",
                    "2020-10-28",
                    "2020-10-30",
                    "2020-11-01",
                    "2020-11-03",
                    "2020-11-04",
                    "2020-11-09",
                    "2020-11-11",
                    "2020-11-14",
                    "2020-11-17",
                    "2020-11-18",
                    "2020-11-19",
                    "2020-11-23",
                    "2020-11-25",
                    "2020-07-25",
                    "2020-10-23",
                    "2020-10-24",
                    "2020-11-12",
                    "2020-11-15",
                    "2020-11-24",
                    "2020-10-31",
                    "2020-10-11",
                    "2020-11-22",
                    "2020-11-07",
                    "2020-10-04"
                  ],
                  "line": {
                    "color": "#8B4513",
                    "width": 0.5
                  },
                  "type": "scatter"
                },
                {
                  "name": "Dead/Dying Tree",
                  "stackgroup": "three",
                  "mode": "lines",
                  "hoverinfo": "x+y",
                  "y": [
                    39,
                    41,
                    33,
                    62,
                    21,
                    41,
                    62,
                    42,
                    46,
                    91,
                    69,
                    81,
                    49,
                    41,
                    41,
                    64,
                    51,
                    54,
                    33,
                    29,
                    71,
                    213,
                    158,
                    122,
                    74,
                    94,
                    65,
                    22,
                    67,
                    74,
                    53,
                    53,
                    20,
                    69,
                    41,
                    33,
                    29,
                    20,
                    31,
                    19,
                    7,
                    20,
                    34,
                    23,
                    61,
                    47,
                    42,
                    18,
                    36,
                    34,
                    32,
                    58,
                    52,
                    60,
                    49,
                    60,
                    15,
                    44,
                    41,
                    53,
                    14,
                    33,
                    36,
                    59,
                    54,
                    12,
                    48,
                    48,
                    25,
                    26,
                    46,
                    42,
                    63,
                    77,
                    32,
                    38,
                    57,
                    71,
                    22,
                    40,
                    42,
                    39,
                    32,
                    21,
                    23,
                    24,
                    13,
                    11,
                    16,
                    14,
                    34,
                    28,
                    28,
                    47,
                    17,
                    29,
                    51,
                    50,
                    17,
                    70,
                    32,
                    16,
                    22,
                    42,
                    39,
                    18,
                    54,
                    19,
                    44,
                    44,
                    70,
                    25,
                    47,
                    43,
                    45,
                    35,
                    22,
                    15,
                    24,
                    44,
                    42,
                    46,
                    44,
                    36,
                    7,
                    30,
                    36,
                    28,
                    32,
                    42,
                    41,
                    13,
                    30,
                    20,
                    16,
                    22,
                    34,
                    10,
                    19,
                    18,
                    7,
                    8,
                    5,
                    11,
                    9,
                    16,
                    23,
                    13,
                    44,
                    24,
                    64,
                    24,
                    16,
                    36,
                    15,
                    48,
                    36,
                    47,
                    14,
                    13,
                    8,
                    12,
                    18,
                    22,
                    27,
                    12,
                    17,
                    25,
                    13,
                    23,
                    10,
                    8,
                    16,
                    20,
                    5,
                    5,
                    6
                  ],
                  "x": [
                    "2020-06-01",
                    "2020-06-03",
                    "2020-06-06",
                    "2020-06-08",
                    "2020-06-14",
                    "2020-06-17",
                    "2020-06-19",
                    "2020-06-22",
                    "2020-06-26",
                    "2020-06-30",
                    "2020-07-01",
                    "2020-07-06",
                    "2020-07-07",
                    "2020-07-09",
                    "2020-07-11",
                    "2020-07-13",
                    "2020-07-15",
                    "2020-07-23",
                    "2020-07-30",
                    "2020-08-02",
                    "2020-08-03",
                    "2020-08-04",
                    "2020-08-05",
                    "2020-08-06",
                    "2020-08-07",
                    "2020-08-10",
                    "2020-08-11",
                    "2020-08-16",
                    "2020-08-17",
                    "2020-08-18",
                    "2020-08-25",
                    "2020-08-28",
                    "2020-09-06",
                    "2020-09-08",
                    "2020-09-09",
                    "2020-10-01",
                    "2020-10-07",
                    "2020-10-16",
                    "2020-10-19",
                    "2020-10-20",
                    "2020-10-25",
                    "2020-10-30",
                    "2020-11-10",
                    "2020-11-12",
                    "2020-07-08",
                    "2020-07-16",
                    "2020-08-09",
                    "2020-08-22",
                    "2020-09-10",
                    "2020-09-23",
                    "2020-10-21",
                    "2020-06-04",
                    "2020-06-09",
                    "2020-06-10",
                    "2020-06-12",
                    "2020-06-18",
                    "2020-06-21",
                    "2020-06-23",
                    "2020-06-24",
                    "2020-06-25",
                    "2020-06-27",
                    "2020-06-28",
                    "2020-07-02",
                    "2020-07-10",
                    "2020-07-17",
                    "2020-07-18",
                    "2020-07-21",
                    "2020-07-22",
                    "2020-07-24",
                    "2020-07-26",
                    "2020-07-27",
                    "2020-07-31",
                    "2020-08-13",
                    "2020-08-14",
                    "2020-08-15",
                    "2020-08-21",
                    "2020-08-24",
                    "2020-08-26",
                    "2020-08-29",
                    "2020-09-02",
                    "2020-09-03",
                    "2020-10-06",
                    "2020-10-08",
                    "2020-10-12",
                    "2020-10-13",
                    "2020-10-15",
                    "2020-10-18",
                    "2020-10-24",
                    "2020-10-26",
                    "2020-10-31",
                    "2020-11-02",
                    "2020-11-03",
                    "2020-11-16",
                    "2020-06-05",
                    "2020-06-07",
                    "2020-06-13",
                    "2020-06-15",
                    "2020-06-16",
                    "2020-06-20",
                    "2020-06-29",
                    "2020-07-03",
                    "2020-07-04",
                    "2020-07-12",
                    "2020-07-14",
                    "2020-07-20",
                    "2020-07-25",
                    "2020-07-28",
                    "2020-08-01",
                    "2020-08-08",
                    "2020-08-19",
                    "2020-08-20",
                    "2020-08-23",
                    "2020-08-27",
                    "2020-08-31",
                    "2020-09-01",
                    "2020-09-04",
                    "2020-09-05",
                    "2020-09-07",
                    "2020-09-13",
                    "2020-09-14",
                    "2020-09-15",
                    "2020-09-16",
                    "2020-09-17",
                    "2020-09-18",
                    "2020-09-20",
                    "2020-09-22",
                    "2020-09-24",
                    "2020-09-25",
                    "2020-09-28",
                    "2020-09-29",
                    "2020-09-30",
                    "2020-10-04",
                    "2020-10-05",
                    "2020-10-09",
                    "2020-10-22",
                    "2020-10-23",
                    "2020-10-27",
                    "2020-10-28",
                    "2020-11-04",
                    "2020-11-05",
                    "2020-11-08",
                    "2020-11-11",
                    "2020-11-14",
                    "2020-11-19",
                    "2020-11-20",
                    "2020-11-24",
                    "2020-11-09",
                    "2020-11-18",
                    "2020-06-11",
                    "2020-07-05",
                    "2020-08-12",
                    "2020-09-11",
                    "2020-09-12",
                    "2020-09-21",
                    "2020-09-27",
                    "2020-06-02",
                    "2020-07-29",
                    "2020-10-14",
                    "2020-11-06",
                    "2020-11-07",
                    "2020-11-21",
                    "2020-11-23",
                    "2020-09-26",
                    "2020-10-02",
                    "2020-10-03",
                    "2020-10-11",
                    "2020-10-29",
                    "2020-11-17",
                    "2020-09-19",
                    "2020-07-19",
                    "2020-10-10",
                    "2020-11-15",
                    "2020-08-30",
                    "2020-11-13",
                    "2020-11-22",
                    "2020-11-01",
                    "2020-10-17"
                  ],
                  "line": {
                    "color": "#C4285F",
                    "width": 0.5
                  },
                  "type": "scatter"
                },
                {
                  "name": "New Tree Request",
                  "stackgroup": "four",
                  "mode": "lines",
                  "hoverinfo": "x+y",
                  "y": [
                    32,
                    62,
                    61,
                    65,
                    34,
                    43,
                    74,
                    92,
                    55,
                    65,
                    30,
                    31,
                    41,
                    32,
                    30,
                    58,
                    72,
                    79,
                    57,
                    62,
                    80,
                    46,
                    42,
                    20,
                    182,
                    36,
                    47,
                    26,
                    21,
                    60,
                    38,
                    92,
                    28,
                    32,
                    34,
                    66,
                    21,
                    64,
                    106,
                    54,
                    62,
                    52,
                    50,
                    61,
                    67,
                    77,
                    30,
                    94,
                    33,
                    51,
                    50,
                    22,
                    48,
                    70,
                    29,
                    32,
                    29,
                    24,
                    32,
                    59,
                    52,
                    75,
                    72,
                    29,
                    15,
                    66,
                    17,
                    33,
                    50,
                    38,
                    44,
                    50,
                    42,
                    84,
                    27,
                    21,
                    39,
                    29,
                    41,
                    55,
                    55,
                    63,
                    56,
                    41,
                    51,
                    26,
                    51,
                    27,
                    16,
                    46,
                    29,
                    44,
                    37,
                    41,
                    31,
                    33,
                    44,
                    41,
                    17,
                    17,
                    28,
                    41,
                    71,
                    64,
                    45,
                    66,
                    108,
                    47,
                    73,
                    46,
                    64,
                    23,
                    72,
                    32,
                    39,
                    28,
                    39,
                    39,
                    39,
                    29,
                    49,
                    16,
                    28,
                    25,
                    50,
                    28,
                    45,
                    45,
                    29,
                    54,
                    44,
                    17,
                    34,
                    19,
                    40,
                    32,
                    37,
                    11,
                    62,
                    9,
                    40,
                    20,
                    28,
                    31,
                    19,
                    38,
                    63,
                    40,
                    20,
                    67,
                    23,
                    39,
                    25,
                    43,
                    107,
                    17,
                    19,
                    49,
                    22,
                    19,
                    32,
                    24,
                    15,
                    45,
                    6,
                    35,
                    35,
                    27,
                    38,
                    12,
                    10,
                    45,
                    18,
                    11,
                    28,
                    12,
                    31
                  ],
                  "x": [
                    "2020-06-01",
                    "2020-06-17",
                    "2020-06-23",
                    "2020-06-24",
                    "2020-06-27",
                    "2020-06-29",
                    "2020-06-30",
                    "2020-07-09",
                    "2020-07-10",
                    "2020-07-15",
                    "2020-07-16",
                    "2020-07-19",
                    "2020-07-24",
                    "2020-07-29",
                    "2020-08-01",
                    "2020-08-03",
                    "2020-08-04",
                    "2020-08-06",
                    "2020-08-07",
                    "2020-08-10",
                    "2020-08-11",
                    "2020-08-12",
                    "2020-08-15",
                    "2020-08-16",
                    "2020-08-25",
                    "2020-08-28",
                    "2020-09-01",
                    "2020-09-03",
                    "2020-09-07",
                    "2020-09-08",
                    "2020-09-14",
                    "2020-09-17",
                    "2020-09-21",
                    "2020-09-28",
                    "2020-09-30",
                    "2020-10-01",
                    "2020-10-24",
                    "2020-10-27",
                    "2020-06-02",
                    "2020-06-05",
                    "2020-06-08",
                    "2020-06-19",
                    "2020-07-03",
                    "2020-07-07",
                    "2020-07-08",
                    "2020-07-13",
                    "2020-07-22",
                    "2020-08-05",
                    "2020-08-26",
                    "2020-08-27",
                    "2020-09-09",
                    "2020-10-03",
                    "2020-10-10",
                    "2020-10-11",
                    "2020-10-13",
                    "2020-10-15",
                    "2020-10-16",
                    "2020-10-17",
                    "2020-10-18",
                    "2020-10-19",
                    "2020-10-20",
                    "2020-10-23",
                    "2020-11-04",
                    "2020-11-05",
                    "2020-11-20",
                    "2020-06-04",
                    "2020-06-06",
                    "2020-06-07",
                    "2020-06-12",
                    "2020-06-13",
                    "2020-06-14",
                    "2020-06-15",
                    "2020-06-21",
                    "2020-06-22",
                    "2020-07-01",
                    "2020-07-04",
                    "2020-07-06",
                    "2020-07-11",
                    "2020-07-17",
                    "2020-07-21",
                    "2020-07-28",
                    "2020-08-09",
                    "2020-08-14",
                    "2020-08-17",
                    "2020-08-18",
                    "2020-08-31",
                    "2020-09-02",
                    "2020-09-04",
                    "2020-09-05",
                    "2020-09-16",
                    "2020-09-22",
                    "2020-09-24",
                    "2020-10-04",
                    "2020-10-06",
                    "2020-10-08",
                    "2020-10-22",
                    "2020-10-26",
                    "2020-11-10",
                    "2020-11-12",
                    "2020-11-13",
                    "2020-11-16",
                    "2020-06-03",
                    "2020-06-09",
                    "2020-06-10",
                    "2020-06-11",
                    "2020-06-16",
                    "2020-06-18",
                    "2020-06-20",
                    "2020-06-25",
                    "2020-06-26",
                    "2020-06-28",
                    "2020-07-18",
                    "2020-07-20",
                    "2020-07-25",
                    "2020-07-27",
                    "2020-07-31",
                    "2020-08-13",
                    "2020-08-19",
                    "2020-08-20",
                    "2020-08-21",
                    "2020-08-24",
                    "2020-08-29",
                    "2020-09-11",
                    "2020-09-13",
                    "2020-09-15",
                    "2020-09-18",
                    "2020-09-26",
                    "2020-10-02",
                    "2020-10-14",
                    "2020-10-21",
                    "2020-10-28",
                    "2020-10-31",
                    "2020-11-02",
                    "2020-11-03",
                    "2020-11-07",
                    "2020-11-09",
                    "2020-11-11",
                    "2020-11-15",
                    "2020-11-18",
                    "2020-11-19",
                    "2020-11-23",
                    "2020-11-24",
                    "2020-07-12",
                    "2020-07-26",
                    "2020-08-08",
                    "2020-10-05",
                    "2020-10-07",
                    "2020-10-09",
                    "2020-10-29",
                    "2020-07-02",
                    "2020-07-05",
                    "2020-07-30",
                    "2020-08-02",
                    "2020-09-23",
                    "2020-07-14",
                    "2020-08-22",
                    "2020-09-06",
                    "2020-09-10",
                    "2020-09-19",
                    "2020-09-27",
                    "2020-09-29",
                    "2020-10-30",
                    "2020-11-14",
                    "2020-11-17",
                    "2020-11-21",
                    "2020-09-12",
                    "2020-09-25",
                    "2020-11-08",
                    "2020-07-23",
                    "2020-08-30",
                    "2020-09-20",
                    "2020-11-01",
                    "2020-11-06",
                    "2020-11-22",
                    "2020-08-23",
                    "2020-10-12",
                    "2020-10-25"
                  ],
                  "line": {
                    "color": "#491BE5",
                    "width": 0.5
                  },
                  "type": "scatter"
                }
              ],
              "config": {
                "plotlyServerURL": "https://plot.ly"
              },
              "layout": {
                "template": {
                  "layout": {
                    "shapedefaults": {
                      "line": {
                        "color": "#2a3f5f"
                      }
                    },
                    "polar": {
                      "radialaxis": {
                        "ticks": "",
                        "gridcolor": "white",
                        "linecolor": "white"
                      },
                      "bgcolor": "#E5ECF6",
                      "angularaxis": {
                        "ticks": "",
                        "gridcolor": "white",
                        "linecolor": "white"
                      }
                    },
                    "colorway": [
                      "#636efa",
                      "#EF553B",
                      "#00cc96",
                      "#ab63fa",
                      "#FFA15A",
                      "#19d3f3",
                      "#FF6692",
                      "#B6E880",
                      "#FF97FF",
                      "#FECB52"
                    ],
                    "xaxis": {
                      "automargin": true,
                      "title": {
                        "standoff": 15
                      },
                      "zerolinewidth": 2,
                      "ticks": "",
                      "zerolinecolor": "white",
                      "gridcolor": "white",
                      "linecolor": "white"
                    },
                    "colorscale": {
                      "diverging": [
                        [
                          0,
                          "#8e0152"
                        ],
                        [
                          0.1,
                          "#c51b7d"
                        ],
                        [
                          0.2,
                          "#de77ae"
                        ],
                        [
                          0.3,
                          "#f1b6da"
                        ],
                        [
                          0.4,
                          "#fde0ef"
                        ],
                        [
                          0.5,
                          "#f7f7f7"
                        ],
                        [
                          0.6,
                          "#e6f5d0"
                        ],
                        [
                          0.7,
                          "#b8e186"
                        ],
                        [
                          0.8,
                          "#7fbc41"
                        ],
                        [
                          0.9,
                          "#4d9221"
                        ],
                        [
                          1,
                          "#276419"
                        ]
                      ],
                      "sequential": [
                        [
                          0,
                          "#0d0887"
                        ],
                        [
                          0.1111111111111111,
                          "#46039f"
                        ],
                        [
                          0.2222222222222222,
                          "#7201a8"
                        ],
                        [
                          0.3333333333333333,
                          "#9c179e"
                        ],
                        [
                          0.4444444444444444,
                          "#bd3786"
                        ],
                        [
                          0.5555555555555556,
                          "#d8576b"
                        ],
                        [
                          0.6666666666666666,
                          "#ed7953"
                        ],
                        [
                          0.7777777777777778,
                          "#fb9f3a"
                        ],
                        [
                          0.8888888888888888,
                          "#fdca26"
                        ],
                        [
                          1,
                          "#f0f921"
                        ]
                      ],
                      "sequentialminus": [
                        [
                          0,
                          "#0d0887"
                        ],
                        [
                          0.1111111111111111,
                          "#46039f"
                        ],
                        [
                          0.2222222222222222,
                          "#7201a8"
                        ],
                        [
                          0.3333333333333333,
                          "#9c179e"
                        ],
                        [
                          0.4444444444444444,
                          "#bd3786"
                        ],
                        [
                          0.5555555555555556,
                          "#d8576b"
                        ],
                        [
                          0.6666666666666666,
                          "#ed7953"
                        ],
                        [
                          0.7777777777777778,
                          "#fb9f3a"
                        ],
                        [
                          0.8888888888888888,
                          "#fdca26"
                        ],
                        [
                          1,
                          "#f0f921"
                        ]
                      ]
                    },
                    "paper_bgcolor": "white",
                    "plot_bgcolor": "#E5ECF6",
                    "title": {
                      "x": 0.05
                    },
                    "scene": {
                      "zaxis": {
                        "backgroundcolor": "#E5ECF6",
                        "ticks": "",
                        "gridwidth": 2,
                        "showbackground": true,
                        "zerolinecolor": "white",
                        "gridcolor": "white",
                        "linecolor": "white"
                      },
                      "xaxis": {
                        "backgroundcolor": "#E5ECF6",
                        "ticks": "",
                        "gridwidth": 2,
                        "showbackground": true,
                        "zerolinecolor": "white",
                        "gridcolor": "white",
                        "linecolor": "white"
                      },
                      "yaxis": {
                        "backgroundcolor": "#E5ECF6",
                        "ticks": "",
                        "gridwidth": 2,
                        "showbackground": true,
                        "zerolinecolor": "white",
                        "gridcolor": "white",
                        "linecolor": "white"
                      }
                    },
                    "yaxis": {
                      "automargin": true,
                      "title": {
                        "standoff": 15
                      },
                      "zerolinewidth": 2,
                      "ticks": "",
                      "zerolinecolor": "white",
                      "gridcolor": "white",
                      "linecolor": "white"
                    },
                    "annotationdefaults": {
                      "arrowwidth": 1,
                      "arrowhead": 0,
                      "arrowcolor": "#2a3f5f"
                    },
                    "hoverlabel": {
                      "align": "left"
                    },
                    "ternary": {
                      "bgcolor": "#E5ECF6",
                      "baxis": {
                        "ticks": "",
                        "gridcolor": "white",
                        "linecolor": "white"
                      },
                      "caxis": {
                        "ticks": "",
                        "gridcolor": "white",
                        "linecolor": "white"
                      },
                      "aaxis": {
                        "ticks": "",
                        "gridcolor": "white",
                        "linecolor": "white"
                      }
                    },
                    "mapbox": {
                      "style": "light"
                    },
                    "hovermode": "closest",
                    "font": {
                      "color": "#2a3f5f"
                    },
                    "geo": {
                      "showland": true,
                      "landcolor": "#E5ECF6",
                      "showlakes": true,
                      "bgcolor": "white",
                      "subunitcolor": "white",
                      "lakecolor": "white"
                    },
                    "coloraxis": {
                      "colorbar": {
                        "outlinewidth": 0,
                        "ticks": ""
                      }
                    }
                  },
                  "data": {
                    "mesh3d": [
                      {
                        "colorbar": {
                          "outlinewidth": 0,
                          "ticks": ""
                        },
                        "type": "mesh3d"
                      }
                    ],
                    "scattercarpet": [
                      {
                        "marker": {
                          "colorbar": {
                            "outlinewidth": 0,
                            "ticks": ""
                          }
                        },
                        "type": "scattercarpet"
                      }
                    ],
                    "pie": [
                      {
                        "automargin": true,
                        "type": "pie"
                      }
                    ],
                    "surface": [
                      {
                        "colorbar": {
                          "outlinewidth": 0,
                          "ticks": ""
                        },
                        "type": "surface",
                        "colorscale": [
                          [
                            0,
                            "#0d0887"
                          ],
                          [
                            0.1111111111111111,
                            "#46039f"
                          ],
                          [
                            0.2222222222222222,
                            "#7201a8"
                          ],
                          [
                            0.3333333333333333,
                            "#9c179e"
                          ],
                          [
                            0.4444444444444444,
                            "#bd3786"
                          ],
                          [
                            0.5555555555555556,
                            "#d8576b"
                          ],
                          [
                            0.6666666666666666,
                            "#ed7953"
                          ],
                          [
                            0.7777777777777778,
                            "#fb9f3a"
                          ],
                          [
                            0.8888888888888888,
                            "#fdca26"
                          ],
                          [
                            1,
                            "#f0f921"
                          ]
                        ]
                      }
                    ],
                    "table": [
                      {
                        "header": {
                          "line": {
                            "color": "white"
                          },
                          "fill": {
                            "color": "#C8D4E3"
                          }
                        },
                        "cells": {
                          "line": {
                            "color": "white"
                          },
                          "fill": {
                            "color": "#EBF0F8"
                          }
                        },
                        "type": "table"
                      }
                    ],
                    "scatterpolargl": [
                      {
                        "marker": {
                          "colorbar": {
                            "outlinewidth": 0,
                            "ticks": ""
                          }
                        },
                        "type": "scatterpolargl"
                      }
                    ],
                    "contour": [
                      {
                        "colorbar": {
                          "outlinewidth": 0,
                          "ticks": ""
                        },
                        "type": "contour",
                        "colorscale": [
                          [
                            0,
                            "#0d0887"
                          ],
                          [
                            0.1111111111111111,
                            "#46039f"
                          ],
                          [
                            0.2222222222222222,
                            "#7201a8"
                          ],
                          [
                            0.3333333333333333,
                            "#9c179e"
                          ],
                          [
                            0.4444444444444444,
                            "#bd3786"
                          ],
                          [
                            0.5555555555555556,
                            "#d8576b"
                          ],
                          [
                            0.6666666666666666,
                            "#ed7953"
                          ],
                          [
                            0.7777777777777778,
                            "#fb9f3a"
                          ],
                          [
                            0.8888888888888888,
                            "#fdca26"
                          ],
                          [
                            1,
                            "#f0f921"
                          ]
                        ]
                      }
                    ],
                    "carpet": [
                      {
                        "type": "carpet",
                        "baxis": {
                          "minorgridcolor": "white",
                          "gridcolor": "white",
                          "linecolor": "white",
                          "endlinecolor": "#2a3f5f",
                          "startlinecolor": "#2a3f5f"
                        },
                        "aaxis": {
                          "minorgridcolor": "white",
                          "gridcolor": "white",
                          "linecolor": "white",
                          "endlinecolor": "#2a3f5f",
                          "startlinecolor": "#2a3f5f"
                        }
                      }
                    ],
                    "contourcarpet": [
                      {
                        "colorbar": {
                          "outlinewidth": 0,
                          "ticks": ""
                        },
                        "type": "contourcarpet"
                      }
                    ],
                    "heatmap": [
                      {
                        "colorbar": {
                          "outlinewidth": 0,
                          "ticks": ""
                        },
                        "type": "heatmap",
                        "colorscale": [
                          [
                            0,
                            "#0d0887"
                          ],
                          [
                            0.1111111111111111,
                            "#46039f"
                          ],
                          [
                            0.2222222222222222,
                            "#7201a8"
                          ],
                          [
                            0.3333333333333333,
                            "#9c179e"
                          ],
                          [
                            0.4444444444444444,
                            "#bd3786"
                          ],
                          [
                            0.5555555555555556,
                            "#d8576b"
                          ],
                          [
                            0.6666666666666666,
                            "#ed7953"
                          ],
                          [
                            0.7777777777777778,
                            "#fb9f3a"
                          ],
                          [
                            0.8888888888888888,
                            "#fdca26"
                          ],
                          [
                            1,
                            "#f0f921"
                          ]
                        ]
                      }
                    ],
                    "scattermapbox": [
                      {
                        "marker": {
                          "colorbar": {
                            "outlinewidth": 0,
                            "ticks": ""
                          }
                        },
                        "type": "scattermapbox"
                      }
                    ],
                    "scatter3d": [
                      {
                        "marker": {
                          "colorbar": {
                            "outlinewidth": 0,
                            "ticks": ""
                          }
                        },
                        "line": {
                          "colorbar": {
                            "outlinewidth": 0,
                            "ticks": ""
                          }
                        },
                        "type": "scatter3d"
                      }
                    ],
                    "scattergl": [
                      {
                        "marker": {
                          "colorbar": {
                            "outlinewidth": 0,
                            "ticks": ""
                          }
                        },
                        "type": "scattergl"
                      }
                    ],
                    "scatterternary": [
                      {
                        "marker": {
                          "colorbar": {
                            "outlinewidth": 0,
                            "ticks": ""
                          }
                        },
                        "type": "scatterternary"
                      }
                    ],
                    "histogram": [
                      {
                        "marker": {
                          "colorbar": {
                            "outlinewidth": 0,
                            "ticks": ""
                          }
                        },
                        "type": "histogram"
                      }
                    ],
                    "heatmapgl": [
                      {
                        "colorbar": {
                          "outlinewidth": 0,
                          "ticks": ""
                        },
                        "type": "heatmapgl",
                        "colorscale": [
                          [
                            0,
                            "#0d0887"
                          ],
                          [
                            0.1111111111111111,
                            "#46039f"
                          ],
                          [
                            0.2222222222222222,
                            "#7201a8"
                          ],
                          [
                            0.3333333333333333,
                            "#9c179e"
                          ],
                          [
                            0.4444444444444444,
                            "#bd3786"
                          ],
                          [
                            0.5555555555555556,
                            "#d8576b"
                          ],
                          [
                            0.6666666666666666,
                            "#ed7953"
                          ],
                          [
                            0.7777777777777778,
                            "#fb9f3a"
                          ],
                          [
                            0.8888888888888888,
                            "#fdca26"
                          ],
                          [
                            1,
                            "#f0f921"
                          ]
                        ]
                      }
                    ],
                    "scatterpolar": [
                      {
                        "marker": {
                          "colorbar": {
                            "outlinewidth": 0,
                            "ticks": ""
                          }
                        },
                        "type": "scatterpolar"
                      }
                    ],
                    "histogram2d": [
                      {
                        "colorbar": {
                          "outlinewidth": 0,
                          "ticks": ""
                        },
                        "type": "histogram2d",
                        "colorscale": [
                          [
                            0,
                            "#0d0887"
                          ],
                          [
                            0.1111111111111111,
                            "#46039f"
                          ],
                          [
                            0.2222222222222222,
                            "#7201a8"
                          ],
                          [
                            0.3333333333333333,
                            "#9c179e"
                          ],
                          [
                            0.4444444444444444,
                            "#bd3786"
                          ],
                          [
                            0.5555555555555556,
                            "#d8576b"
                          ],
                          [
                            0.6666666666666666,
                            "#ed7953"
                          ],
                          [
                            0.7777777777777778,
                            "#fb9f3a"
                          ],
                          [
                            0.8888888888888888,
                            "#fdca26"
                          ],
                          [
                            1,
                            "#f0f921"
                          ]
                        ]
                      }
                    ],
                    "scattergeo": [
                      {
                        "marker": {
                          "colorbar": {
                            "outlinewidth": 0,
                            "ticks": ""
                          }
                        },
                        "type": "scattergeo"
                      }
                    ],
                    "bar": [
                      {
                        "marker": {
                          "line": {
                            "color": "#E5ECF6",
                            "width": 0.5
                          }
                        },
                        "type": "bar",
                        "error_x": {
                          "color": "#2a3f5f"
                        },
                        "error_y": {
                          "color": "#2a3f5f"
                        }
                      }
                    ],
                    "choropleth": [
                      {
                        "colorbar": {
                          "outlinewidth": 0,
                          "ticks": ""
                        },
                        "type": "choropleth"
                      }
                    ],
                    "parcoords": [
                      {
                        "line": {
                          "colorbar": {
                            "outlinewidth": 0,
                            "ticks": ""
                          }
                        },
                        "type": "parcoords"
                      }
                    ],
                    "barpolar": [
                      {
                        "marker": {
                          "line": {
                            "color": "#E5ECF6",
                            "width": 0.5
                          }
                        },
                        "type": "barpolar"
                      }
                    ],
                    "histogram2dcontour": [
                      {
                        "colorbar": {
                          "outlinewidth": 0,
                          "ticks": ""
                        },
                        "type": "histogram2dcontour",
                        "colorscale": [
                          [
                            0,
                            "#0d0887"
                          ],
                          [
                            0.1111111111111111,
                            "#46039f"
                          ],
                          [
                            0.2222222222222222,
                            "#7201a8"
                          ],
                          [
                            0.3333333333333333,
                            "#9c179e"
                          ],
                          [
                            0.4444444444444444,
                            "#bd3786"
                          ],
                          [
                            0.5555555555555556,
                            "#d8576b"
                          ],
                          [
                            0.6666666666666666,
                            "#ed7953"
                          ],
                          [
                            0.7777777777777778,
                            "#fb9f3a"
                          ],
                          [
                            0.8888888888888888,
                            "#fdca26"
                          ],
                          [
                            1,
                            "#f0f921"
                          ]
                        ]
                      }
                    ],
                    "scatter": [
                      {
                        "marker": {
                          "colorbar": {
                            "outlinewidth": 0,
                            "ticks": ""
                          }
                        },
                        "type": "scatter"
                      }
                    ]
                  }
                },
                "title": {
                  "text": "Other Tree-Related Requests"
                },
                "yaxis": {
                  "title": {
                    "text": "Total Calls"
                  }
                },
                "height": 700,
                "xaxis": {
                  "title": {
                    "text": "Date"
                  }
                },
                "font": {
                  "color": "#58508d",
                  "family": "silom",
                  "size": 14
                },
                "legend": {
                  "y": 0.99,
                  "x": 0.99,
                  "xanchor": "right",
                  "yanchor": "top"
                }
              }
            }
          },
          "metadata": {
            "tags": []
          }
        }
      ]
    },
    {
      "cell_type": "markdown",
      "metadata": {
        "id": "VnfaNPr-ipe3"
      },
      "source": [
        "New tree requests appear to be relatively uncommon. Calls related to overgrown and dying trees peaked at the same date as damaged trees, on August 4th, albeit with significantly fewer calls. "
      ]
    },
    {
      "cell_type": "code",
      "metadata": {
        "id": "qT286jcWfseH"
      },
      "source": [
        "#create subsetted dataframes with complaints related to parking/traffic/vehicles\n",
        "driveway = call_freq_df('Blocked Driveway')\n",
        "parking = call_freq_df('Illegal Parking')\n",
        "abandoned = call_freq_df('Abandoned Vehicle')\n",
        "traffic = call_freq_df('Traffic')"
      ],
      "execution_count": 17,
      "outputs": []
    },
    {
      "cell_type": "code",
      "metadata": {
        "id": "vswNkJl5gb27",
        "colab": {
          "base_uri": "https://localhost:8080/",
          "height": 716
        },
        "outputId": "2fe88590-4b8c-4976-8571-afe3fb3156a3"
      },
      "source": [
        "# #create and show area plot\n",
        "parking_fig = go.Figure()\n",
        "\n",
        "parking_fig.add_trace(go.Scatter(\n",
        "    x=parking.index, y=parking[\"Illegal Parking\"],\n",
        "    hoverinfo='x+y',\n",
        "    mode='lines',\n",
        "    line=dict(width=0.5, color='#FCF73C'), name=\"Illegal Parking\",\n",
        "    stackgroup='two'\n",
        "    ))\n",
        "\n",
        "parking_fig.add_trace(go.Scatter(\n",
        "    x=driveway.index, y=driveway[\"Blocked Driveway\"],\n",
        "    hoverinfo='x+y',\n",
        "    mode='lines',\n",
        "    line=dict(width=0.5, color='#f288ac'), name=\"Blocked Driveway\",\n",
        "    stackgroup='one'\n",
        "    ))\n",
        "\n",
        "parking_fig.add_trace(go.Scatter(\n",
        "    x=abandoned.index, y=abandoned[\"Abandoned Vehicle\"],\n",
        "    hoverinfo='x+y',\n",
        "    mode='lines',\n",
        "    line=dict(width=0.5, color='#491BE5'), name=\"Abandoned Vehicle\",\n",
        "    stackgroup='three'\n",
        "    ))\n",
        "\n",
        "parking_fig.add_trace(go.Scatter(\n",
        "    x=traffic.index, y=traffic[\"Traffic\"],\n",
        "    hoverinfo='x+y',\n",
        "    mode='lines',\n",
        "    line=dict(width=0.5, color='#2BD51D'), name=\"Traffic\",\n",
        "    stackgroup='four'\n",
        "    ))\n",
        "\n",
        "parking_fig.update_layout(legend=dict(\n",
        "    yanchor=\"top\",\n",
        "    y=0.99,\n",
        "    xanchor=\"left\",\n",
        "    x=0.01\n",
        "))\n",
        "\n",
        "parking_fig.update_layout(title=\"Vehicles and Traffic\",\n",
        "                  xaxis_title=\"Date\", height=700,\n",
        "                  yaxis_title=\"Total Calls\", \n",
        "\n",
        "\n",
        "font=dict(family=\"silom\",\n",
        "          size=14, color=\"#58508d\"))\n",
        "\n",
        "parking_fig.show()"
      ],
      "execution_count": 18,
      "outputs": [
        {
          "output_type": "display_data",
          "data": {
            "text/html": [
              "<div>\n",
              "        \n",
              "        \n",
              "            <div id=\"d66e4432-6646-44d5-9f09-87ad8f331ca4\" class=\"plotly-graph-div\" style=\"height:700px; width:100%;\"></div>\n",
              "            <script type=\"text/javascript\">\n",
              "                require([\"plotly\"], function(Plotly) {\n",
              "                    window.PLOTLYENV=window.PLOTLYENV || {};\n",
              "                    \n",
              "                if (document.getElementById(\"d66e4432-6646-44d5-9f09-87ad8f331ca4\")) {\n",
              "                    Plotly.newPlot(\n",
              "                        'd66e4432-6646-44d5-9f09-87ad8f331ca4',\n",
              "                        [{\"hoverinfo\": \"x+y\", \"line\": {\"color\": \"#FCF73C\", \"width\": 0.5}, \"mode\": \"lines\", \"name\": \"Illegal Parking\", \"stackgroup\": \"two\", \"type\": \"scatter\", \"x\": [\"2020-06-01\", \"2020-06-02\", \"2020-06-03\", \"2020-06-04\", \"2020-06-05\", \"2020-06-06\", \"2020-06-07\", \"2020-06-08\", \"2020-06-09\", \"2020-06-10\", \"2020-06-11\", \"2020-06-12\", \"2020-06-13\", \"2020-06-14\", \"2020-06-15\", \"2020-06-16\", \"2020-06-17\", \"2020-06-18\", \"2020-06-19\", \"2020-06-20\", \"2020-06-21\", \"2020-06-22\", \"2020-06-23\", \"2020-06-24\", \"2020-06-25\", \"2020-06-26\", \"2020-06-27\", \"2020-06-28\", \"2020-06-29\", \"2020-06-30\", \"2020-07-01\", \"2020-07-02\", \"2020-07-03\", \"2020-07-04\", \"2020-07-05\", \"2020-07-06\", \"2020-07-07\", \"2020-07-08\", \"2020-07-09\", \"2020-07-10\", \"2020-07-11\", \"2020-07-12\", \"2020-07-13\", \"2020-07-14\", \"2020-07-15\", \"2020-07-16\", \"2020-07-17\", \"2020-07-18\", \"2020-07-19\", \"2020-07-20\", \"2020-07-21\", \"2020-07-22\", \"2020-07-23\", \"2020-07-24\", \"2020-07-25\", \"2020-07-26\", \"2020-07-27\", \"2020-07-28\", \"2020-07-29\", \"2020-07-30\", \"2020-07-31\", \"2020-08-01\", \"2020-08-02\", \"2020-08-03\", \"2020-08-04\", \"2020-08-05\", \"2020-08-06\", \"2020-08-07\", \"2020-08-08\", \"2020-08-09\", \"2020-08-10\", \"2020-08-11\", \"2020-08-12\", \"2020-08-13\", \"2020-08-14\", \"2020-08-15\", \"2020-08-16\", \"2020-08-17\", \"2020-08-18\", \"2020-08-19\", \"2020-08-20\", \"2020-08-21\", \"2020-08-22\", \"2020-08-23\", \"2020-08-24\", \"2020-08-25\", \"2020-08-26\", \"2020-08-27\", \"2020-08-28\", \"2020-08-29\", \"2020-08-30\", \"2020-08-31\", \"2020-09-01\", \"2020-09-02\", \"2020-09-03\", \"2020-09-04\", \"2020-09-05\", \"2020-09-06\", \"2020-09-07\", \"2020-09-08\", \"2020-09-09\", \"2020-09-10\", \"2020-09-11\", \"2020-09-12\", \"2020-09-13\", \"2020-09-14\", \"2020-09-15\", \"2020-09-16\", \"2020-09-17\", \"2020-09-18\", \"2020-09-19\", \"2020-09-20\", \"2020-09-21\", \"2020-09-22\", \"2020-09-23\", \"2020-09-24\", \"2020-09-25\", \"2020-09-26\", \"2020-09-27\", \"2020-09-28\", \"2020-09-29\", \"2020-09-30\", \"2020-10-01\", \"2020-10-02\", \"2020-10-03\", \"2020-10-04\", \"2020-10-05\", \"2020-10-06\", \"2020-10-07\", \"2020-10-08\", \"2020-10-09\", \"2020-10-10\", \"2020-10-11\", \"2020-10-12\", \"2020-10-13\", \"2020-10-14\", \"2020-10-15\", \"2020-10-16\", \"2020-10-17\", \"2020-10-18\", \"2020-10-19\", \"2020-10-20\", \"2020-10-21\", \"2020-10-22\", \"2020-10-23\", \"2020-10-24\", \"2020-10-25\", \"2020-10-26\", \"2020-10-27\", \"2020-10-28\", \"2020-10-29\", \"2020-10-30\", \"2020-10-31\", \"2020-11-01\", \"2020-11-02\", \"2020-11-03\", \"2020-11-04\", \"2020-11-05\", \"2020-11-06\", \"2020-11-07\", \"2020-11-08\", \"2020-11-09\", \"2020-11-10\", \"2020-11-11\", \"2020-11-12\", \"2020-11-13\", \"2020-11-14\", \"2020-11-15\", \"2020-11-16\", \"2020-11-17\", \"2020-11-18\", \"2020-11-19\", \"2020-11-20\", \"2020-11-21\", \"2020-11-22\", \"2020-11-23\", \"2020-11-24\", \"2020-11-25\"], \"y\": [263, 339, 378, 336, 364, 415, 430, 445, 410, 415, 382, 429, 461, 465, 464, 485, 493, 488, 437, 536, 560, 500, 533, 542, 519, 578, 527, 571, 550, 606, 455, 508, 450, 369, 523, 503, 511, 577, 580, 409, 470, 658, 558, 524, 576, 556, 519, 534, 740, 539, 610, 531, 564, 819, 633, 677, 536, 702, 517, 522, 511, 620, 615, 587, 451, 641, 651, 551, 628, 680, 585, 539, 586, 593, 607, 622, 518, 564, 551, 582, 570, 600, 619, 600, 572, 492, 536, 568, 626, 606, 663, 651, 625, 616, 618, 620, 606, 533, 554, 681, 695, 784, 836, 716, 713, 767, 731, 746, 847, 753, 626, 650, 693, 626, 740, 834, 824, 648, 669, 598, 716, 711, 786, 720, 578, 665, 723, 755, 749, 684, 708, 577, 629, 479, 575, 654, 766, 671, 579, 642, 715, 676, 701, 777, 696, 627, 637, 649, 727, 648, 609, 585, 554, 645, 558, 580, 676, 775, 765, 591, 696, 705, 712, 636, 684, 670, 632, 693, 678, 620, 616, 642, 700, 727, 660, 690, 706, 53]}, {\"hoverinfo\": \"x+y\", \"line\": {\"color\": \"#f288ac\", \"width\": 0.5}, \"mode\": \"lines\", \"name\": \"Blocked Driveway\", \"stackgroup\": \"one\", \"type\": \"scatter\", \"x\": [\"2020-06-04\", \"2020-06-05\", \"2020-06-06\", \"2020-06-07\", \"2020-06-09\", \"2020-06-10\", \"2020-06-11\", \"2020-06-12\", \"2020-06-13\", \"2020-06-14\", \"2020-06-16\", \"2020-06-17\", \"2020-06-18\", \"2020-06-19\", \"2020-06-20\", \"2020-06-21\", \"2020-06-22\", \"2020-06-23\", \"2020-06-24\", \"2020-06-25\", \"2020-06-26\", \"2020-06-27\", \"2020-06-28\", \"2020-06-29\", \"2020-06-30\", \"2020-07-01\", \"2020-07-04\", \"2020-07-05\", \"2020-07-06\", \"2020-07-07\", \"2020-07-08\", \"2020-07-09\", \"2020-07-10\", \"2020-07-13\", \"2020-07-14\", \"2020-07-16\", \"2020-07-18\", \"2020-07-19\", \"2020-07-20\", \"2020-07-21\", \"2020-07-22\", \"2020-07-23\", \"2020-07-24\", \"2020-07-25\", \"2020-07-26\", \"2020-07-27\", \"2020-07-28\", \"2020-07-29\", \"2020-07-30\", \"2020-07-31\", \"2020-08-01\", \"2020-08-02\", \"2020-08-03\", \"2020-08-04\", \"2020-08-05\", \"2020-08-06\", \"2020-08-07\", \"2020-08-08\", \"2020-08-09\", \"2020-08-10\", \"2020-08-11\", \"2020-08-12\", \"2020-08-13\", \"2020-08-14\", \"2020-08-15\", \"2020-08-16\", \"2020-08-17\", \"2020-08-18\", \"2020-08-19\", \"2020-08-20\", \"2020-08-21\", \"2020-08-22\", \"2020-08-23\", \"2020-08-24\", \"2020-08-25\", \"2020-08-26\", \"2020-08-27\", \"2020-08-28\", \"2020-08-29\", \"2020-08-30\", \"2020-08-31\", \"2020-09-01\", \"2020-09-02\", \"2020-09-03\", \"2020-09-04\", \"2020-09-05\", \"2020-09-06\", \"2020-09-07\", \"2020-09-08\", \"2020-09-09\", \"2020-09-10\", \"2020-09-11\", \"2020-09-12\", \"2020-09-13\", \"2020-09-14\", \"2020-09-15\", \"2020-09-16\", \"2020-09-17\", \"2020-09-18\", \"2020-09-19\", \"2020-09-20\", \"2020-09-21\", \"2020-09-22\", \"2020-09-23\", \"2020-09-24\", \"2020-09-25\", \"2020-09-26\", \"2020-09-27\", \"2020-09-29\", \"2020-09-30\", \"2020-10-01\", \"2020-10-02\", \"2020-10-03\", \"2020-10-04\", \"2020-10-05\", \"2020-10-06\", \"2020-10-07\", \"2020-10-08\", \"2020-10-09\", \"2020-10-10\", \"2020-10-11\", \"2020-10-12\", \"2020-10-13\", \"2020-10-14\", \"2020-10-15\", \"2020-10-16\", \"2020-10-17\", \"2020-10-18\", \"2020-10-19\", \"2020-10-20\", \"2020-10-21\", \"2020-10-22\", \"2020-10-23\", \"2020-10-24\", \"2020-10-25\", \"2020-10-26\", \"2020-10-27\", \"2020-10-28\", \"2020-10-29\", \"2020-10-30\", \"2020-10-31\", \"2020-11-01\", \"2020-11-02\", \"2020-11-03\", \"2020-11-04\", \"2020-11-05\", \"2020-11-06\", \"2020-11-07\", \"2020-11-08\", \"2020-11-09\", \"2020-11-10\", \"2020-11-11\", \"2020-11-12\", \"2020-11-13\", \"2020-11-14\", \"2020-11-15\", \"2020-11-16\", \"2020-11-17\", \"2020-11-18\", \"2020-11-19\", \"2020-11-20\", \"2020-11-21\", \"2020-11-22\", \"2020-11-23\", \"2020-11-24\", \"2020-06-01\", \"2020-06-03\", \"2020-07-11\", \"2020-07-15\", \"2020-07-17\", \"2020-09-28\", \"2020-06-02\", \"2020-06-08\", \"2020-06-15\", \"2020-07-02\", \"2020-07-03\", \"2020-07-12\", \"2020-11-25\"], \"y\": [200, 217, 222, 203, 205, 248, 219, 239, 231, 228, 264, 278, 259, 246, 258, 280, 280, 299, 287, 269, 352, 306, 266, 307, 292, 251, 238, 257, 290, 297, 286, 280, 266, 334, 283, 296, 295, 337, 347, 308, 363, 357, 368, 321, 331, 383, 358, 336, 353, 380, 341, 382, 396, 335, 388, 365, 418, 375, 367, 339, 376, 337, 378, 364, 344, 352, 358, 393, 343, 361, 354, 390, 407, 331, 357, 380, 368, 361, 341, 397, 423, 376, 355, 378, 364, 379, 383, 403, 424, 401, 412, 454, 414, 444, 477, 421, 400, 400, 422, 400, 440, 417, 397, 450, 459, 432, 428, 389, 453, 472, 465, 431, 419, 428, 470, 410, 392, 422, 440, 365, 342, 403, 429, 417, 430, 449, 398, 412, 417, 420, 422, 437, 441, 377, 412, 439, 425, 406, 451, 449, 467, 537, 428, 380, 426, 447, 447, 422, 463, 450, 451, 417, 411, 402, 426, 411, 406, 441, 409, 429, 395, 432, 374, 395, 397, 196, 181, 282, 273, 297, 431, 159, 211, 282, 251, 238, 315, 17]}, {\"hoverinfo\": \"x+y\", \"line\": {\"color\": \"#491BE5\", \"width\": 0.5}, \"mode\": \"lines\", \"name\": \"Abandoned Vehicle\", \"stackgroup\": \"three\", \"type\": \"scatter\", \"x\": [\"2020-06-02\", \"2020-06-03\", \"2020-06-05\", \"2020-06-10\", \"2020-06-22\", \"2020-06-24\", \"2020-06-28\", \"2020-06-29\", \"2020-06-30\", \"2020-07-05\", \"2020-07-07\", \"2020-07-10\", \"2020-07-12\", \"2020-07-15\", \"2020-07-19\", \"2020-07-21\", \"2020-07-23\", \"2020-07-24\", \"2020-07-28\", \"2020-07-29\", \"2020-07-31\", \"2020-08-01\", \"2020-08-02\", \"2020-08-06\", \"2020-08-09\", \"2020-08-11\", \"2020-08-13\", \"2020-08-14\", \"2020-08-18\", \"2020-08-20\", \"2020-08-21\", \"2020-08-24\", \"2020-08-26\", \"2020-08-27\", \"2020-08-30\", \"2020-09-04\", \"2020-09-05\", \"2020-09-07\", \"2020-09-08\", \"2020-09-09\", \"2020-09-11\", \"2020-09-12\", \"2020-09-13\", \"2020-09-14\", \"2020-09-17\", \"2020-09-18\", \"2020-09-20\", \"2020-09-21\", \"2020-09-22\", \"2020-09-23\", \"2020-09-24\", \"2020-09-25\", \"2020-09-26\", \"2020-09-27\", \"2020-09-29\", \"2020-09-30\", \"2020-10-01\", \"2020-10-03\", \"2020-10-05\", \"2020-10-06\", \"2020-10-08\", \"2020-10-09\", \"2020-10-11\", \"2020-10-12\", \"2020-10-14\", \"2020-10-15\", \"2020-10-16\", \"2020-10-17\", \"2020-10-19\", \"2020-10-20\", \"2020-10-21\", \"2020-10-22\", \"2020-10-24\", \"2020-10-26\", \"2020-10-27\", \"2020-10-28\", \"2020-10-29\", \"2020-11-03\", \"2020-11-04\", \"2020-11-05\", \"2020-11-07\", \"2020-11-08\", \"2020-11-10\", \"2020-11-13\", \"2020-11-14\", \"2020-11-17\", \"2020-11-18\", \"2020-11-21\", \"2020-11-22\", \"2020-11-24\", \"2020-06-06\", \"2020-06-07\", \"2020-06-11\", \"2020-06-15\", \"2020-06-23\", \"2020-07-03\", \"2020-07-16\", \"2020-08-12\", \"2020-09-01\", \"2020-09-10\", \"2020-09-16\", \"2020-09-19\", \"2020-10-02\", \"2020-10-18\", \"2020-10-23\", \"2020-11-19\", \"2020-11-20\", \"2020-06-12\", \"2020-06-16\", \"2020-06-18\", \"2020-06-19\", \"2020-06-21\", \"2020-06-25\", \"2020-06-26\", \"2020-07-04\", \"2020-07-08\", \"2020-07-13\", \"2020-07-17\", \"2020-07-18\", \"2020-07-20\", \"2020-07-30\", \"2020-08-03\", \"2020-08-04\", \"2020-08-05\", \"2020-08-07\", \"2020-08-08\", \"2020-08-17\", \"2020-08-22\", \"2020-08-31\", \"2020-09-15\", \"2020-09-28\", \"2020-10-04\", \"2020-10-10\", \"2020-10-13\", \"2020-10-30\", \"2020-11-02\", \"2020-11-09\", \"2020-11-12\", \"2020-11-15\", \"2020-11-16\", \"2020-11-23\", \"2020-06-04\", \"2020-06-08\", \"2020-06-09\", \"2020-06-13\", \"2020-06-14\", \"2020-06-17\", \"2020-06-20\", \"2020-06-27\", \"2020-07-01\", \"2020-07-02\", \"2020-07-06\", \"2020-07-09\", \"2020-07-11\", \"2020-07-14\", \"2020-07-22\", \"2020-07-25\", \"2020-07-26\", \"2020-07-27\", \"2020-08-10\", \"2020-08-15\", \"2020-08-16\", \"2020-08-19\", \"2020-08-23\", \"2020-08-25\", \"2020-08-28\", \"2020-08-29\", \"2020-09-02\", \"2020-09-03\", \"2020-09-06\", \"2020-10-07\", \"2020-10-25\", \"2020-10-31\", \"2020-11-01\", \"2020-11-06\", \"2020-11-11\", \"2020-06-01\"], \"y\": [68, 50, 63, 68, 111, 112, 59, 108, 104, 63, 121, 95, 75, 118, 61, 120, 103, 91, 111, 103, 98, 83, 65, 130, 72, 112, 125, 113, 106, 145, 117, 142, 108, 135, 81, 115, 78, 64, 147, 149, 136, 107, 110, 145, 137, 115, 64, 139, 112, 124, 149, 156, 82, 79, 129, 113, 163, 69, 155, 148, 125, 121, 76, 68, 125, 131, 100, 79, 156, 131, 109, 117, 87, 106, 129, 117, 97, 94, 110, 118, 73, 76, 127, 114, 79, 117, 89, 68, 67, 100, 37, 59, 77, 99, 94, 61, 92, 118, 127, 122, 142, 64, 105, 88, 127, 85, 134, 76, 96, 108, 77, 65, 128, 84, 39, 129, 115, 71, 53, 114, 108, 151, 91, 108, 98, 66, 127, 84, 117, 109, 138, 91, 83, 114, 89, 109, 125, 126, 82, 110, 92, 67, 91, 69, 61, 59, 120, 75, 69, 78, 105, 102, 99, 65, 115, 86, 71, 63, 102, 135, 89, 63, 111, 81, 135, 110, 98, 123, 138, 72, 147, 90, 54, 65, 114, 84, 57]}, {\"hoverinfo\": \"x+y\", \"line\": {\"color\": \"#2BD51D\", \"width\": 0.5}, \"mode\": \"lines\", \"name\": \"Traffic\", \"stackgroup\": \"four\", \"type\": \"scatter\", \"x\": [\"2020-06-07\", \"2020-06-09\", \"2020-06-14\", \"2020-06-18\", \"2020-06-24\", \"2020-07-01\", \"2020-07-02\", \"2020-07-09\", \"2020-07-31\", \"2020-08-08\", \"2020-08-09\", \"2020-08-11\", \"2020-08-15\", \"2020-08-16\", \"2020-08-19\", \"2020-08-22\", \"2020-08-24\", \"2020-08-26\", \"2020-08-29\", \"2020-08-31\", \"2020-09-02\", \"2020-09-07\", \"2020-09-08\", \"2020-09-11\", \"2020-09-12\", \"2020-09-13\", \"2020-09-14\", \"2020-09-15\", \"2020-09-16\", \"2020-09-17\", \"2020-09-18\", \"2020-09-21\", \"2020-09-23\", \"2020-09-25\", \"2020-09-26\", \"2020-09-27\", \"2020-09-28\", \"2020-09-30\", \"2020-10-01\", \"2020-10-02\", \"2020-10-03\", \"2020-10-07\", \"2020-10-08\", \"2020-10-09\", \"2020-10-10\", \"2020-10-13\", \"2020-10-14\", \"2020-10-16\", \"2020-10-18\", \"2020-10-19\", \"2020-10-20\", \"2020-10-21\", \"2020-10-22\", \"2020-10-23\", \"2020-10-27\", \"2020-10-28\", \"2020-10-29\", \"2020-10-30\", \"2020-11-01\", \"2020-11-02\", \"2020-11-04\", \"2020-11-05\", \"2020-11-07\", \"2020-11-08\", \"2020-11-09\", \"2020-11-10\", \"2020-11-14\", \"2020-11-20\", \"2020-11-22\", \"2020-06-05\", \"2020-06-06\", \"2020-06-10\", \"2020-06-12\", \"2020-06-13\", \"2020-06-23\", \"2020-08-06\", \"2020-08-07\", \"2020-08-12\", \"2020-08-27\", \"2020-09-05\", \"2020-09-20\", \"2020-10-15\", \"2020-06-21\", \"2020-06-28\", \"2020-07-12\", \"2020-07-13\", \"2020-07-30\", \"2020-08-10\", \"2020-08-18\", \"2020-09-29\", \"2020-11-03\", \"2020-11-15\", \"2020-11-16\", \"2020-11-17\", \"2020-11-19\", \"2020-06-17\", \"2020-06-22\", \"2020-06-29\", \"2020-07-07\", \"2020-07-15\", \"2020-08-05\", \"2020-08-25\", \"2020-08-30\", \"2020-09-04\", \"2020-09-09\", \"2020-11-13\", \"2020-06-08\", \"2020-06-16\", \"2020-06-25\", \"2020-06-26\", \"2020-06-27\", \"2020-07-05\", \"2020-07-14\", \"2020-07-29\", \"2020-08-13\", \"2020-08-20\", \"2020-08-21\", \"2020-08-23\", \"2020-09-06\", \"2020-10-04\", \"2020-10-06\", \"2020-10-12\", \"2020-08-04\", \"2020-08-14\", \"2020-09-24\", \"2020-11-12\", \"2020-06-02\", \"2020-06-03\", \"2020-06-19\", \"2020-07-08\", \"2020-07-21\", \"2020-07-23\", \"2020-07-28\", \"2020-08-28\", \"2020-09-10\", \"2020-10-25\", \"2020-11-18\", \"2020-06-01\", \"2020-07-03\", \"2020-07-17\", \"2020-07-24\", \"2020-08-03\", \"2020-10-11\", \"2020-10-26\", \"2020-10-31\", \"2020-06-11\", \"2020-07-26\", \"2020-08-01\", \"2020-08-17\", \"2020-09-01\", \"2020-11-21\", \"2020-07-16\", \"2020-07-19\", \"2020-07-22\", \"2020-09-03\", \"2020-09-19\", \"2020-10-17\", \"2020-06-20\", \"2020-07-06\", \"2020-06-30\", \"2020-07-10\", \"2020-11-06\", \"2020-11-23\", \"2020-11-24\", \"2020-08-02\", \"2020-07-11\", \"2020-07-18\", \"2020-07-20\", \"2020-11-11\", \"2020-06-15\", \"2020-07-27\", \"2020-07-04\", \"2020-10-05\", \"2020-06-04\", \"2020-10-24\", \"2020-07-25\", \"2020-09-22\"], \"y\": [15, 10, 17, 27, 21, 15, 13, 11, 8, 18, 15, 8, 14, 8, 16, 13, 15, 15, 12, 18, 7, 16, 15, 21, 26, 19, 22, 16, 30, 30, 26, 20, 12, 19, 20, 20, 12, 11, 24, 14, 33, 19, 19, 15, 22, 16, 17, 7, 14, 17, 13, 5, 21, 14, 13, 11, 5, 8, 10, 7, 7, 7, 9, 18, 15, 12, 9, 10, 11, 6, 11, 12, 11, 18, 18, 17, 8, 10, 10, 16, 11, 25, 16, 20, 13, 10, 12, 9, 11, 19, 7, 5, 11, 12, 9, 23, 12, 9, 13, 11, 19, 4, 11, 26, 11, 6, 14, 14, 20, 18, 9, 8, 14, 8, 9, 12, 15, 8, 17, 28, 17, 6, 8, 16, 26, 7, 6, 3, 19, 10, 9, 4, 7, 12, 9, 11, 15, 12, 9, 13, 10, 5, 16, 4, 6, 13, 14, 6, 8, 11, 5, 14, 12, 6, 7, 25, 11, 17, 7, 14, 12, 15, 8, 13, 16, 8, 13, 6, 8, 12, 8, 4, 16, 7, 11, 6, 12]}],\n",
              "                        {\"font\": {\"color\": \"#58508d\", \"family\": \"silom\", \"size\": 14}, \"height\": 700, \"legend\": {\"x\": 0.01, \"xanchor\": \"left\", \"y\": 0.99, \"yanchor\": \"top\"}, \"template\": {\"data\": {\"bar\": [{\"error_x\": {\"color\": \"#2a3f5f\"}, \"error_y\": {\"color\": \"#2a3f5f\"}, \"marker\": {\"line\": {\"color\": \"#E5ECF6\", \"width\": 0.5}}, \"type\": \"bar\"}], \"barpolar\": [{\"marker\": {\"line\": {\"color\": \"#E5ECF6\", \"width\": 0.5}}, \"type\": \"barpolar\"}], \"carpet\": [{\"aaxis\": {\"endlinecolor\": \"#2a3f5f\", \"gridcolor\": \"white\", \"linecolor\": \"white\", \"minorgridcolor\": \"white\", \"startlinecolor\": \"#2a3f5f\"}, \"baxis\": {\"endlinecolor\": \"#2a3f5f\", \"gridcolor\": \"white\", \"linecolor\": \"white\", \"minorgridcolor\": \"white\", \"startlinecolor\": \"#2a3f5f\"}, \"type\": \"carpet\"}], \"choropleth\": [{\"colorbar\": {\"outlinewidth\": 0, \"ticks\": \"\"}, \"type\": \"choropleth\"}], \"contour\": [{\"colorbar\": {\"outlinewidth\": 0, \"ticks\": \"\"}, \"colorscale\": [[0.0, \"#0d0887\"], [0.1111111111111111, \"#46039f\"], [0.2222222222222222, \"#7201a8\"], [0.3333333333333333, \"#9c179e\"], [0.4444444444444444, \"#bd3786\"], [0.5555555555555556, \"#d8576b\"], [0.6666666666666666, \"#ed7953\"], [0.7777777777777778, \"#fb9f3a\"], [0.8888888888888888, \"#fdca26\"], [1.0, \"#f0f921\"]], \"type\": \"contour\"}], \"contourcarpet\": [{\"colorbar\": {\"outlinewidth\": 0, \"ticks\": \"\"}, \"type\": \"contourcarpet\"}], \"heatmap\": [{\"colorbar\": {\"outlinewidth\": 0, \"ticks\": \"\"}, \"colorscale\": [[0.0, \"#0d0887\"], [0.1111111111111111, \"#46039f\"], [0.2222222222222222, \"#7201a8\"], [0.3333333333333333, \"#9c179e\"], [0.4444444444444444, \"#bd3786\"], [0.5555555555555556, \"#d8576b\"], [0.6666666666666666, \"#ed7953\"], [0.7777777777777778, \"#fb9f3a\"], [0.8888888888888888, \"#fdca26\"], [1.0, \"#f0f921\"]], \"type\": \"heatmap\"}], \"heatmapgl\": [{\"colorbar\": {\"outlinewidth\": 0, \"ticks\": \"\"}, \"colorscale\": [[0.0, \"#0d0887\"], [0.1111111111111111, \"#46039f\"], [0.2222222222222222, \"#7201a8\"], [0.3333333333333333, \"#9c179e\"], [0.4444444444444444, \"#bd3786\"], [0.5555555555555556, \"#d8576b\"], [0.6666666666666666, \"#ed7953\"], [0.7777777777777778, \"#fb9f3a\"], [0.8888888888888888, \"#fdca26\"], [1.0, \"#f0f921\"]], \"type\": \"heatmapgl\"}], \"histogram\": [{\"marker\": {\"colorbar\": {\"outlinewidth\": 0, \"ticks\": \"\"}}, \"type\": \"histogram\"}], \"histogram2d\": [{\"colorbar\": {\"outlinewidth\": 0, \"ticks\": \"\"}, \"colorscale\": [[0.0, \"#0d0887\"], [0.1111111111111111, \"#46039f\"], [0.2222222222222222, \"#7201a8\"], [0.3333333333333333, \"#9c179e\"], [0.4444444444444444, \"#bd3786\"], [0.5555555555555556, \"#d8576b\"], [0.6666666666666666, \"#ed7953\"], [0.7777777777777778, \"#fb9f3a\"], [0.8888888888888888, \"#fdca26\"], [1.0, \"#f0f921\"]], \"type\": \"histogram2d\"}], \"histogram2dcontour\": [{\"colorbar\": {\"outlinewidth\": 0, \"ticks\": \"\"}, \"colorscale\": [[0.0, \"#0d0887\"], [0.1111111111111111, \"#46039f\"], [0.2222222222222222, \"#7201a8\"], [0.3333333333333333, \"#9c179e\"], [0.4444444444444444, \"#bd3786\"], [0.5555555555555556, \"#d8576b\"], [0.6666666666666666, \"#ed7953\"], [0.7777777777777778, \"#fb9f3a\"], [0.8888888888888888, \"#fdca26\"], [1.0, \"#f0f921\"]], \"type\": \"histogram2dcontour\"}], \"mesh3d\": [{\"colorbar\": {\"outlinewidth\": 0, \"ticks\": \"\"}, \"type\": \"mesh3d\"}], \"parcoords\": [{\"line\": {\"colorbar\": {\"outlinewidth\": 0, \"ticks\": \"\"}}, \"type\": \"parcoords\"}], \"pie\": [{\"automargin\": true, \"type\": \"pie\"}], \"scatter\": [{\"marker\": {\"colorbar\": {\"outlinewidth\": 0, \"ticks\": \"\"}}, \"type\": \"scatter\"}], \"scatter3d\": [{\"line\": {\"colorbar\": {\"outlinewidth\": 0, \"ticks\": \"\"}}, \"marker\": {\"colorbar\": {\"outlinewidth\": 0, \"ticks\": \"\"}}, \"type\": \"scatter3d\"}], \"scattercarpet\": [{\"marker\": {\"colorbar\": {\"outlinewidth\": 0, \"ticks\": \"\"}}, \"type\": \"scattercarpet\"}], \"scattergeo\": [{\"marker\": {\"colorbar\": {\"outlinewidth\": 0, \"ticks\": \"\"}}, \"type\": \"scattergeo\"}], \"scattergl\": [{\"marker\": {\"colorbar\": {\"outlinewidth\": 0, \"ticks\": \"\"}}, \"type\": \"scattergl\"}], \"scattermapbox\": [{\"marker\": {\"colorbar\": {\"outlinewidth\": 0, \"ticks\": \"\"}}, \"type\": \"scattermapbox\"}], \"scatterpolar\": [{\"marker\": {\"colorbar\": {\"outlinewidth\": 0, \"ticks\": \"\"}}, \"type\": \"scatterpolar\"}], \"scatterpolargl\": [{\"marker\": {\"colorbar\": {\"outlinewidth\": 0, \"ticks\": \"\"}}, \"type\": \"scatterpolargl\"}], \"scatterternary\": [{\"marker\": {\"colorbar\": {\"outlinewidth\": 0, \"ticks\": \"\"}}, \"type\": \"scatterternary\"}], \"surface\": [{\"colorbar\": {\"outlinewidth\": 0, \"ticks\": \"\"}, \"colorscale\": [[0.0, \"#0d0887\"], [0.1111111111111111, \"#46039f\"], [0.2222222222222222, \"#7201a8\"], [0.3333333333333333, \"#9c179e\"], [0.4444444444444444, \"#bd3786\"], [0.5555555555555556, \"#d8576b\"], [0.6666666666666666, \"#ed7953\"], [0.7777777777777778, \"#fb9f3a\"], [0.8888888888888888, \"#fdca26\"], [1.0, \"#f0f921\"]], \"type\": \"surface\"}], \"table\": [{\"cells\": {\"fill\": {\"color\": \"#EBF0F8\"}, \"line\": {\"color\": \"white\"}}, \"header\": {\"fill\": {\"color\": \"#C8D4E3\"}, \"line\": {\"color\": \"white\"}}, \"type\": \"table\"}]}, \"layout\": {\"annotationdefaults\": {\"arrowcolor\": \"#2a3f5f\", \"arrowhead\": 0, \"arrowwidth\": 1}, \"coloraxis\": {\"colorbar\": {\"outlinewidth\": 0, \"ticks\": \"\"}}, \"colorscale\": {\"diverging\": [[0, \"#8e0152\"], [0.1, \"#c51b7d\"], [0.2, \"#de77ae\"], [0.3, \"#f1b6da\"], [0.4, \"#fde0ef\"], [0.5, \"#f7f7f7\"], [0.6, \"#e6f5d0\"], [0.7, \"#b8e186\"], [0.8, \"#7fbc41\"], [0.9, \"#4d9221\"], [1, \"#276419\"]], \"sequential\": [[0.0, \"#0d0887\"], [0.1111111111111111, \"#46039f\"], [0.2222222222222222, \"#7201a8\"], [0.3333333333333333, \"#9c179e\"], [0.4444444444444444, \"#bd3786\"], [0.5555555555555556, \"#d8576b\"], [0.6666666666666666, \"#ed7953\"], [0.7777777777777778, \"#fb9f3a\"], [0.8888888888888888, \"#fdca26\"], [1.0, \"#f0f921\"]], \"sequentialminus\": [[0.0, \"#0d0887\"], [0.1111111111111111, \"#46039f\"], [0.2222222222222222, \"#7201a8\"], [0.3333333333333333, \"#9c179e\"], [0.4444444444444444, \"#bd3786\"], [0.5555555555555556, \"#d8576b\"], [0.6666666666666666, \"#ed7953\"], [0.7777777777777778, \"#fb9f3a\"], [0.8888888888888888, \"#fdca26\"], [1.0, \"#f0f921\"]]}, \"colorway\": [\"#636efa\", \"#EF553B\", \"#00cc96\", \"#ab63fa\", \"#FFA15A\", \"#19d3f3\", \"#FF6692\", \"#B6E880\", \"#FF97FF\", \"#FECB52\"], \"font\": {\"color\": \"#2a3f5f\"}, \"geo\": {\"bgcolor\": \"white\", \"lakecolor\": \"white\", \"landcolor\": \"#E5ECF6\", \"showlakes\": true, \"showland\": true, \"subunitcolor\": \"white\"}, \"hoverlabel\": {\"align\": \"left\"}, \"hovermode\": \"closest\", \"mapbox\": {\"style\": \"light\"}, \"paper_bgcolor\": \"white\", \"plot_bgcolor\": \"#E5ECF6\", \"polar\": {\"angularaxis\": {\"gridcolor\": \"white\", \"linecolor\": \"white\", \"ticks\": \"\"}, \"bgcolor\": \"#E5ECF6\", \"radialaxis\": {\"gridcolor\": \"white\", \"linecolor\": \"white\", \"ticks\": \"\"}}, \"scene\": {\"xaxis\": {\"backgroundcolor\": \"#E5ECF6\", \"gridcolor\": \"white\", \"gridwidth\": 2, \"linecolor\": \"white\", \"showbackground\": true, \"ticks\": \"\", \"zerolinecolor\": \"white\"}, \"yaxis\": {\"backgroundcolor\": \"#E5ECF6\", \"gridcolor\": \"white\", \"gridwidth\": 2, \"linecolor\": \"white\", \"showbackground\": true, \"ticks\": \"\", \"zerolinecolor\": \"white\"}, \"zaxis\": {\"backgroundcolor\": \"#E5ECF6\", \"gridcolor\": \"white\", \"gridwidth\": 2, \"linecolor\": \"white\", \"showbackground\": true, \"ticks\": \"\", \"zerolinecolor\": \"white\"}}, \"shapedefaults\": {\"line\": {\"color\": \"#2a3f5f\"}}, \"ternary\": {\"aaxis\": {\"gridcolor\": \"white\", \"linecolor\": \"white\", \"ticks\": \"\"}, \"baxis\": {\"gridcolor\": \"white\", \"linecolor\": \"white\", \"ticks\": \"\"}, \"bgcolor\": \"#E5ECF6\", \"caxis\": {\"gridcolor\": \"white\", \"linecolor\": \"white\", \"ticks\": \"\"}}, \"title\": {\"x\": 0.05}, \"xaxis\": {\"automargin\": true, \"gridcolor\": \"white\", \"linecolor\": \"white\", \"ticks\": \"\", \"title\": {\"standoff\": 15}, \"zerolinecolor\": \"white\", \"zerolinewidth\": 2}, \"yaxis\": {\"automargin\": true, \"gridcolor\": \"white\", \"linecolor\": \"white\", \"ticks\": \"\", \"title\": {\"standoff\": 15}, \"zerolinecolor\": \"white\", \"zerolinewidth\": 2}}}, \"title\": {\"text\": \"Vehicles and Traffic\"}, \"xaxis\": {\"title\": {\"text\": \"Date\"}}, \"yaxis\": {\"title\": {\"text\": \"Total Calls\"}}},\n",
              "                        {\"responsive\": true}\n",
              "                    ).then(function(){\n",
              "                            \n",
              "var gd = document.getElementById('d66e4432-6646-44d5-9f09-87ad8f331ca4');\n",
              "var x = new MutationObserver(function (mutations, observer) {{\n",
              "        var display = window.getComputedStyle(gd).display;\n",
              "        if (!display || display === 'none') {{\n",
              "            console.log([gd, 'removed!']);\n",
              "            Plotly.purge(gd);\n",
              "            observer.disconnect();\n",
              "        }}\n",
              "}});\n",
              "\n",
              "// Listen for the removal of the full notebook cells\n",
              "var notebookContainer = gd.closest('#notebook-container');\n",
              "if (notebookContainer) {{\n",
              "    x.observe(notebookContainer, {childList: true});\n",
              "}}\n",
              "\n",
              "// Listen for the clearing of the current output cell\n",
              "var outputEl = gd.closest('.output');\n",
              "if (outputEl) {{\n",
              "    x.observe(outputEl, {childList: true});\n",
              "}}\n",
              "\n",
              "                        })\n",
              "                };\n",
              "                });\n",
              "            </script>\n",
              "        </div>"
            ],
            "application/vnd.plotly.v1+json": {
              "data": [
                {
                  "name": "Illegal Parking",
                  "stackgroup": "two",
                  "mode": "lines",
                  "hoverinfo": "x+y",
                  "y": [
                    263,
                    339,
                    378,
                    336,
                    364,
                    415,
                    430,
                    445,
                    410,
                    415,
                    382,
                    429,
                    461,
                    465,
                    464,
                    485,
                    493,
                    488,
                    437,
                    536,
                    560,
                    500,
                    533,
                    542,
                    519,
                    578,
                    527,
                    571,
                    550,
                    606,
                    455,
                    508,
                    450,
                    369,
                    523,
                    503,
                    511,
                    577,
                    580,
                    409,
                    470,
                    658,
                    558,
                    524,
                    576,
                    556,
                    519,
                    534,
                    740,
                    539,
                    610,
                    531,
                    564,
                    819,
                    633,
                    677,
                    536,
                    702,
                    517,
                    522,
                    511,
                    620,
                    615,
                    587,
                    451,
                    641,
                    651,
                    551,
                    628,
                    680,
                    585,
                    539,
                    586,
                    593,
                    607,
                    622,
                    518,
                    564,
                    551,
                    582,
                    570,
                    600,
                    619,
                    600,
                    572,
                    492,
                    536,
                    568,
                    626,
                    606,
                    663,
                    651,
                    625,
                    616,
                    618,
                    620,
                    606,
                    533,
                    554,
                    681,
                    695,
                    784,
                    836,
                    716,
                    713,
                    767,
                    731,
                    746,
                    847,
                    753,
                    626,
                    650,
                    693,
                    626,
                    740,
                    834,
                    824,
                    648,
                    669,
                    598,
                    716,
                    711,
                    786,
                    720,
                    578,
                    665,
                    723,
                    755,
                    749,
                    684,
                    708,
                    577,
                    629,
                    479,
                    575,
                    654,
                    766,
                    671,
                    579,
                    642,
                    715,
                    676,
                    701,
                    777,
                    696,
                    627,
                    637,
                    649,
                    727,
                    648,
                    609,
                    585,
                    554,
                    645,
                    558,
                    580,
                    676,
                    775,
                    765,
                    591,
                    696,
                    705,
                    712,
                    636,
                    684,
                    670,
                    632,
                    693,
                    678,
                    620,
                    616,
                    642,
                    700,
                    727,
                    660,
                    690,
                    706,
                    53
                  ],
                  "x": [
                    "2020-06-01",
                    "2020-06-02",
                    "2020-06-03",
                    "2020-06-04",
                    "2020-06-05",
                    "2020-06-06",
                    "2020-06-07",
                    "2020-06-08",
                    "2020-06-09",
                    "2020-06-10",
                    "2020-06-11",
                    "2020-06-12",
                    "2020-06-13",
                    "2020-06-14",
                    "2020-06-15",
                    "2020-06-16",
                    "2020-06-17",
                    "2020-06-18",
                    "2020-06-19",
                    "2020-06-20",
                    "2020-06-21",
                    "2020-06-22",
                    "2020-06-23",
                    "2020-06-24",
                    "2020-06-25",
                    "2020-06-26",
                    "2020-06-27",
                    "2020-06-28",
                    "2020-06-29",
                    "2020-06-30",
                    "2020-07-01",
                    "2020-07-02",
                    "2020-07-03",
                    "2020-07-04",
                    "2020-07-05",
                    "2020-07-06",
                    "2020-07-07",
                    "2020-07-08",
                    "2020-07-09",
                    "2020-07-10",
                    "2020-07-11",
                    "2020-07-12",
                    "2020-07-13",
                    "2020-07-14",
                    "2020-07-15",
                    "2020-07-16",
                    "2020-07-17",
                    "2020-07-18",
                    "2020-07-19",
                    "2020-07-20",
                    "2020-07-21",
                    "2020-07-22",
                    "2020-07-23",
                    "2020-07-24",
                    "2020-07-25",
                    "2020-07-26",
                    "2020-07-27",
                    "2020-07-28",
                    "2020-07-29",
                    "2020-07-30",
                    "2020-07-31",
                    "2020-08-01",
                    "2020-08-02",
                    "2020-08-03",
                    "2020-08-04",
                    "2020-08-05",
                    "2020-08-06",
                    "2020-08-07",
                    "2020-08-08",
                    "2020-08-09",
                    "2020-08-10",
                    "2020-08-11",
                    "2020-08-12",
                    "2020-08-13",
                    "2020-08-14",
                    "2020-08-15",
                    "2020-08-16",
                    "2020-08-17",
                    "2020-08-18",
                    "2020-08-19",
                    "2020-08-20",
                    "2020-08-21",
                    "2020-08-22",
                    "2020-08-23",
                    "2020-08-24",
                    "2020-08-25",
                    "2020-08-26",
                    "2020-08-27",
                    "2020-08-28",
                    "2020-08-29",
                    "2020-08-30",
                    "2020-08-31",
                    "2020-09-01",
                    "2020-09-02",
                    "2020-09-03",
                    "2020-09-04",
                    "2020-09-05",
                    "2020-09-06",
                    "2020-09-07",
                    "2020-09-08",
                    "2020-09-09",
                    "2020-09-10",
                    "2020-09-11",
                    "2020-09-12",
                    "2020-09-13",
                    "2020-09-14",
                    "2020-09-15",
                    "2020-09-16",
                    "2020-09-17",
                    "2020-09-18",
                    "2020-09-19",
                    "2020-09-20",
                    "2020-09-21",
                    "2020-09-22",
                    "2020-09-23",
                    "2020-09-24",
                    "2020-09-25",
                    "2020-09-26",
                    "2020-09-27",
                    "2020-09-28",
                    "2020-09-29",
                    "2020-09-30",
                    "2020-10-01",
                    "2020-10-02",
                    "2020-10-03",
                    "2020-10-04",
                    "2020-10-05",
                    "2020-10-06",
                    "2020-10-07",
                    "2020-10-08",
                    "2020-10-09",
                    "2020-10-10",
                    "2020-10-11",
                    "2020-10-12",
                    "2020-10-13",
                    "2020-10-14",
                    "2020-10-15",
                    "2020-10-16",
                    "2020-10-17",
                    "2020-10-18",
                    "2020-10-19",
                    "2020-10-20",
                    "2020-10-21",
                    "2020-10-22",
                    "2020-10-23",
                    "2020-10-24",
                    "2020-10-25",
                    "2020-10-26",
                    "2020-10-27",
                    "2020-10-28",
                    "2020-10-29",
                    "2020-10-30",
                    "2020-10-31",
                    "2020-11-01",
                    "2020-11-02",
                    "2020-11-03",
                    "2020-11-04",
                    "2020-11-05",
                    "2020-11-06",
                    "2020-11-07",
                    "2020-11-08",
                    "2020-11-09",
                    "2020-11-10",
                    "2020-11-11",
                    "2020-11-12",
                    "2020-11-13",
                    "2020-11-14",
                    "2020-11-15",
                    "2020-11-16",
                    "2020-11-17",
                    "2020-11-18",
                    "2020-11-19",
                    "2020-11-20",
                    "2020-11-21",
                    "2020-11-22",
                    "2020-11-23",
                    "2020-11-24",
                    "2020-11-25"
                  ],
                  "line": {
                    "color": "#FCF73C",
                    "width": 0.5
                  },
                  "type": "scatter"
                },
                {
                  "name": "Blocked Driveway",
                  "stackgroup": "one",
                  "mode": "lines",
                  "hoverinfo": "x+y",
                  "y": [
                    200,
                    217,
                    222,
                    203,
                    205,
                    248,
                    219,
                    239,
                    231,
                    228,
                    264,
                    278,
                    259,
                    246,
                    258,
                    280,
                    280,
                    299,
                    287,
                    269,
                    352,
                    306,
                    266,
                    307,
                    292,
                    251,
                    238,
                    257,
                    290,
                    297,
                    286,
                    280,
                    266,
                    334,
                    283,
                    296,
                    295,
                    337,
                    347,
                    308,
                    363,
                    357,
                    368,
                    321,
                    331,
                    383,
                    358,
                    336,
                    353,
                    380,
                    341,
                    382,
                    396,
                    335,
                    388,
                    365,
                    418,
                    375,
                    367,
                    339,
                    376,
                    337,
                    378,
                    364,
                    344,
                    352,
                    358,
                    393,
                    343,
                    361,
                    354,
                    390,
                    407,
                    331,
                    357,
                    380,
                    368,
                    361,
                    341,
                    397,
                    423,
                    376,
                    355,
                    378,
                    364,
                    379,
                    383,
                    403,
                    424,
                    401,
                    412,
                    454,
                    414,
                    444,
                    477,
                    421,
                    400,
                    400,
                    422,
                    400,
                    440,
                    417,
                    397,
                    450,
                    459,
                    432,
                    428,
                    389,
                    453,
                    472,
                    465,
                    431,
                    419,
                    428,
                    470,
                    410,
                    392,
                    422,
                    440,
                    365,
                    342,
                    403,
                    429,
                    417,
                    430,
                    449,
                    398,
                    412,
                    417,
                    420,
                    422,
                    437,
                    441,
                    377,
                    412,
                    439,
                    425,
                    406,
                    451,
                    449,
                    467,
                    537,
                    428,
                    380,
                    426,
                    447,
                    447,
                    422,
                    463,
                    450,
                    451,
                    417,
                    411,
                    402,
                    426,
                    411,
                    406,
                    441,
                    409,
                    429,
                    395,
                    432,
                    374,
                    395,
                    397,
                    196,
                    181,
                    282,
                    273,
                    297,
                    431,
                    159,
                    211,
                    282,
                    251,
                    238,
                    315,
                    17
                  ],
                  "x": [
                    "2020-06-04",
                    "2020-06-05",
                    "2020-06-06",
                    "2020-06-07",
                    "2020-06-09",
                    "2020-06-10",
                    "2020-06-11",
                    "2020-06-12",
                    "2020-06-13",
                    "2020-06-14",
                    "2020-06-16",
                    "2020-06-17",
                    "2020-06-18",
                    "2020-06-19",
                    "2020-06-20",
                    "2020-06-21",
                    "2020-06-22",
                    "2020-06-23",
                    "2020-06-24",
                    "2020-06-25",
                    "2020-06-26",
                    "2020-06-27",
                    "2020-06-28",
                    "2020-06-29",
                    "2020-06-30",
                    "2020-07-01",
                    "2020-07-04",
                    "2020-07-05",
                    "2020-07-06",
                    "2020-07-07",
                    "2020-07-08",
                    "2020-07-09",
                    "2020-07-10",
                    "2020-07-13",
                    "2020-07-14",
                    "2020-07-16",
                    "2020-07-18",
                    "2020-07-19",
                    "2020-07-20",
                    "2020-07-21",
                    "2020-07-22",
                    "2020-07-23",
                    "2020-07-24",
                    "2020-07-25",
                    "2020-07-26",
                    "2020-07-27",
                    "2020-07-28",
                    "2020-07-29",
                    "2020-07-30",
                    "2020-07-31",
                    "2020-08-01",
                    "2020-08-02",
                    "2020-08-03",
                    "2020-08-04",
                    "2020-08-05",
                    "2020-08-06",
                    "2020-08-07",
                    "2020-08-08",
                    "2020-08-09",
                    "2020-08-10",
                    "2020-08-11",
                    "2020-08-12",
                    "2020-08-13",
                    "2020-08-14",
                    "2020-08-15",
                    "2020-08-16",
                    "2020-08-17",
                    "2020-08-18",
                    "2020-08-19",
                    "2020-08-20",
                    "2020-08-21",
                    "2020-08-22",
                    "2020-08-23",
                    "2020-08-24",
                    "2020-08-25",
                    "2020-08-26",
                    "2020-08-27",
                    "2020-08-28",
                    "2020-08-29",
                    "2020-08-30",
                    "2020-08-31",
                    "2020-09-01",
                    "2020-09-02",
                    "2020-09-03",
                    "2020-09-04",
                    "2020-09-05",
                    "2020-09-06",
                    "2020-09-07",
                    "2020-09-08",
                    "2020-09-09",
                    "2020-09-10",
                    "2020-09-11",
                    "2020-09-12",
                    "2020-09-13",
                    "2020-09-14",
                    "2020-09-15",
                    "2020-09-16",
                    "2020-09-17",
                    "2020-09-18",
                    "2020-09-19",
                    "2020-09-20",
                    "2020-09-21",
                    "2020-09-22",
                    "2020-09-23",
                    "2020-09-24",
                    "2020-09-25",
                    "2020-09-26",
                    "2020-09-27",
                    "2020-09-29",
                    "2020-09-30",
                    "2020-10-01",
                    "2020-10-02",
                    "2020-10-03",
                    "2020-10-04",
                    "2020-10-05",
                    "2020-10-06",
                    "2020-10-07",
                    "2020-10-08",
                    "2020-10-09",
                    "2020-10-10",
                    "2020-10-11",
                    "2020-10-12",
                    "2020-10-13",
                    "2020-10-14",
                    "2020-10-15",
                    "2020-10-16",
                    "2020-10-17",
                    "2020-10-18",
                    "2020-10-19",
                    "2020-10-20",
                    "2020-10-21",
                    "2020-10-22",
                    "2020-10-23",
                    "2020-10-24",
                    "2020-10-25",
                    "2020-10-26",
                    "2020-10-27",
                    "2020-10-28",
                    "2020-10-29",
                    "2020-10-30",
                    "2020-10-31",
                    "2020-11-01",
                    "2020-11-02",
                    "2020-11-03",
                    "2020-11-04",
                    "2020-11-05",
                    "2020-11-06",
                    "2020-11-07",
                    "2020-11-08",
                    "2020-11-09",
                    "2020-11-10",
                    "2020-11-11",
                    "2020-11-12",
                    "2020-11-13",
                    "2020-11-14",
                    "2020-11-15",
                    "2020-11-16",
                    "2020-11-17",
                    "2020-11-18",
                    "2020-11-19",
                    "2020-11-20",
                    "2020-11-21",
                    "2020-11-22",
                    "2020-11-23",
                    "2020-11-24",
                    "2020-06-01",
                    "2020-06-03",
                    "2020-07-11",
                    "2020-07-15",
                    "2020-07-17",
                    "2020-09-28",
                    "2020-06-02",
                    "2020-06-08",
                    "2020-06-15",
                    "2020-07-02",
                    "2020-07-03",
                    "2020-07-12",
                    "2020-11-25"
                  ],
                  "line": {
                    "color": "#f288ac",
                    "width": 0.5
                  },
                  "type": "scatter"
                },
                {
                  "name": "Abandoned Vehicle",
                  "stackgroup": "three",
                  "mode": "lines",
                  "hoverinfo": "x+y",
                  "y": [
                    68,
                    50,
                    63,
                    68,
                    111,
                    112,
                    59,
                    108,
                    104,
                    63,
                    121,
                    95,
                    75,
                    118,
                    61,
                    120,
                    103,
                    91,
                    111,
                    103,
                    98,
                    83,
                    65,
                    130,
                    72,
                    112,
                    125,
                    113,
                    106,
                    145,
                    117,
                    142,
                    108,
                    135,
                    81,
                    115,
                    78,
                    64,
                    147,
                    149,
                    136,
                    107,
                    110,
                    145,
                    137,
                    115,
                    64,
                    139,
                    112,
                    124,
                    149,
                    156,
                    82,
                    79,
                    129,
                    113,
                    163,
                    69,
                    155,
                    148,
                    125,
                    121,
                    76,
                    68,
                    125,
                    131,
                    100,
                    79,
                    156,
                    131,
                    109,
                    117,
                    87,
                    106,
                    129,
                    117,
                    97,
                    94,
                    110,
                    118,
                    73,
                    76,
                    127,
                    114,
                    79,
                    117,
                    89,
                    68,
                    67,
                    100,
                    37,
                    59,
                    77,
                    99,
                    94,
                    61,
                    92,
                    118,
                    127,
                    122,
                    142,
                    64,
                    105,
                    88,
                    127,
                    85,
                    134,
                    76,
                    96,
                    108,
                    77,
                    65,
                    128,
                    84,
                    39,
                    129,
                    115,
                    71,
                    53,
                    114,
                    108,
                    151,
                    91,
                    108,
                    98,
                    66,
                    127,
                    84,
                    117,
                    109,
                    138,
                    91,
                    83,
                    114,
                    89,
                    109,
                    125,
                    126,
                    82,
                    110,
                    92,
                    67,
                    91,
                    69,
                    61,
                    59,
                    120,
                    75,
                    69,
                    78,
                    105,
                    102,
                    99,
                    65,
                    115,
                    86,
                    71,
                    63,
                    102,
                    135,
                    89,
                    63,
                    111,
                    81,
                    135,
                    110,
                    98,
                    123,
                    138,
                    72,
                    147,
                    90,
                    54,
                    65,
                    114,
                    84,
                    57
                  ],
                  "x": [
                    "2020-06-02",
                    "2020-06-03",
                    "2020-06-05",
                    "2020-06-10",
                    "2020-06-22",
                    "2020-06-24",
                    "2020-06-28",
                    "2020-06-29",
                    "2020-06-30",
                    "2020-07-05",
                    "2020-07-07",
                    "2020-07-10",
                    "2020-07-12",
                    "2020-07-15",
                    "2020-07-19",
                    "2020-07-21",
                    "2020-07-23",
                    "2020-07-24",
                    "2020-07-28",
                    "2020-07-29",
                    "2020-07-31",
                    "2020-08-01",
                    "2020-08-02",
                    "2020-08-06",
                    "2020-08-09",
                    "2020-08-11",
                    "2020-08-13",
                    "2020-08-14",
                    "2020-08-18",
                    "2020-08-20",
                    "2020-08-21",
                    "2020-08-24",
                    "2020-08-26",
                    "2020-08-27",
                    "2020-08-30",
                    "2020-09-04",
                    "2020-09-05",
                    "2020-09-07",
                    "2020-09-08",
                    "2020-09-09",
                    "2020-09-11",
                    "2020-09-12",
                    "2020-09-13",
                    "2020-09-14",
                    "2020-09-17",
                    "2020-09-18",
                    "2020-09-20",
                    "2020-09-21",
                    "2020-09-22",
                    "2020-09-23",
                    "2020-09-24",
                    "2020-09-25",
                    "2020-09-26",
                    "2020-09-27",
                    "2020-09-29",
                    "2020-09-30",
                    "2020-10-01",
                    "2020-10-03",
                    "2020-10-05",
                    "2020-10-06",
                    "2020-10-08",
                    "2020-10-09",
                    "2020-10-11",
                    "2020-10-12",
                    "2020-10-14",
                    "2020-10-15",
                    "2020-10-16",
                    "2020-10-17",
                    "2020-10-19",
                    "2020-10-20",
                    "2020-10-21",
                    "2020-10-22",
                    "2020-10-24",
                    "2020-10-26",
                    "2020-10-27",
                    "2020-10-28",
                    "2020-10-29",
                    "2020-11-03",
                    "2020-11-04",
                    "2020-11-05",
                    "2020-11-07",
                    "2020-11-08",
                    "2020-11-10",
                    "2020-11-13",
                    "2020-11-14",
                    "2020-11-17",
                    "2020-11-18",
                    "2020-11-21",
                    "2020-11-22",
                    "2020-11-24",
                    "2020-06-06",
                    "2020-06-07",
                    "2020-06-11",
                    "2020-06-15",
                    "2020-06-23",
                    "2020-07-03",
                    "2020-07-16",
                    "2020-08-12",
                    "2020-09-01",
                    "2020-09-10",
                    "2020-09-16",
                    "2020-09-19",
                    "2020-10-02",
                    "2020-10-18",
                    "2020-10-23",
                    "2020-11-19",
                    "2020-11-20",
                    "2020-06-12",
                    "2020-06-16",
                    "2020-06-18",
                    "2020-06-19",
                    "2020-06-21",
                    "2020-06-25",
                    "2020-06-26",
                    "2020-07-04",
                    "2020-07-08",
                    "2020-07-13",
                    "2020-07-17",
                    "2020-07-18",
                    "2020-07-20",
                    "2020-07-30",
                    "2020-08-03",
                    "2020-08-04",
                    "2020-08-05",
                    "2020-08-07",
                    "2020-08-08",
                    "2020-08-17",
                    "2020-08-22",
                    "2020-08-31",
                    "2020-09-15",
                    "2020-09-28",
                    "2020-10-04",
                    "2020-10-10",
                    "2020-10-13",
                    "2020-10-30",
                    "2020-11-02",
                    "2020-11-09",
                    "2020-11-12",
                    "2020-11-15",
                    "2020-11-16",
                    "2020-11-23",
                    "2020-06-04",
                    "2020-06-08",
                    "2020-06-09",
                    "2020-06-13",
                    "2020-06-14",
                    "2020-06-17",
                    "2020-06-20",
                    "2020-06-27",
                    "2020-07-01",
                    "2020-07-02",
                    "2020-07-06",
                    "2020-07-09",
                    "2020-07-11",
                    "2020-07-14",
                    "2020-07-22",
                    "2020-07-25",
                    "2020-07-26",
                    "2020-07-27",
                    "2020-08-10",
                    "2020-08-15",
                    "2020-08-16",
                    "2020-08-19",
                    "2020-08-23",
                    "2020-08-25",
                    "2020-08-28",
                    "2020-08-29",
                    "2020-09-02",
                    "2020-09-03",
                    "2020-09-06",
                    "2020-10-07",
                    "2020-10-25",
                    "2020-10-31",
                    "2020-11-01",
                    "2020-11-06",
                    "2020-11-11",
                    "2020-06-01"
                  ],
                  "line": {
                    "color": "#491BE5",
                    "width": 0.5
                  },
                  "type": "scatter"
                },
                {
                  "name": "Traffic",
                  "stackgroup": "four",
                  "mode": "lines",
                  "hoverinfo": "x+y",
                  "y": [
                    15,
                    10,
                    17,
                    27,
                    21,
                    15,
                    13,
                    11,
                    8,
                    18,
                    15,
                    8,
                    14,
                    8,
                    16,
                    13,
                    15,
                    15,
                    12,
                    18,
                    7,
                    16,
                    15,
                    21,
                    26,
                    19,
                    22,
                    16,
                    30,
                    30,
                    26,
                    20,
                    12,
                    19,
                    20,
                    20,
                    12,
                    11,
                    24,
                    14,
                    33,
                    19,
                    19,
                    15,
                    22,
                    16,
                    17,
                    7,
                    14,
                    17,
                    13,
                    5,
                    21,
                    14,
                    13,
                    11,
                    5,
                    8,
                    10,
                    7,
                    7,
                    7,
                    9,
                    18,
                    15,
                    12,
                    9,
                    10,
                    11,
                    6,
                    11,
                    12,
                    11,
                    18,
                    18,
                    17,
                    8,
                    10,
                    10,
                    16,
                    11,
                    25,
                    16,
                    20,
                    13,
                    10,
                    12,
                    9,
                    11,
                    19,
                    7,
                    5,
                    11,
                    12,
                    9,
                    23,
                    12,
                    9,
                    13,
                    11,
                    19,
                    4,
                    11,
                    26,
                    11,
                    6,
                    14,
                    14,
                    20,
                    18,
                    9,
                    8,
                    14,
                    8,
                    9,
                    12,
                    15,
                    8,
                    17,
                    28,
                    17,
                    6,
                    8,
                    16,
                    26,
                    7,
                    6,
                    3,
                    19,
                    10,
                    9,
                    4,
                    7,
                    12,
                    9,
                    11,
                    15,
                    12,
                    9,
                    13,
                    10,
                    5,
                    16,
                    4,
                    6,
                    13,
                    14,
                    6,
                    8,
                    11,
                    5,
                    14,
                    12,
                    6,
                    7,
                    25,
                    11,
                    17,
                    7,
                    14,
                    12,
                    15,
                    8,
                    13,
                    16,
                    8,
                    13,
                    6,
                    8,
                    12,
                    8,
                    4,
                    16,
                    7,
                    11,
                    6,
                    12
                  ],
                  "x": [
                    "2020-06-07",
                    "2020-06-09",
                    "2020-06-14",
                    "2020-06-18",
                    "2020-06-24",
                    "2020-07-01",
                    "2020-07-02",
                    "2020-07-09",
                    "2020-07-31",
                    "2020-08-08",
                    "2020-08-09",
                    "2020-08-11",
                    "2020-08-15",
                    "2020-08-16",
                    "2020-08-19",
                    "2020-08-22",
                    "2020-08-24",
                    "2020-08-26",
                    "2020-08-29",
                    "2020-08-31",
                    "2020-09-02",
                    "2020-09-07",
                    "2020-09-08",
                    "2020-09-11",
                    "2020-09-12",
                    "2020-09-13",
                    "2020-09-14",
                    "2020-09-15",
                    "2020-09-16",
                    "2020-09-17",
                    "2020-09-18",
                    "2020-09-21",
                    "2020-09-23",
                    "2020-09-25",
                    "2020-09-26",
                    "2020-09-27",
                    "2020-09-28",
                    "2020-09-30",
                    "2020-10-01",
                    "2020-10-02",
                    "2020-10-03",
                    "2020-10-07",
                    "2020-10-08",
                    "2020-10-09",
                    "2020-10-10",
                    "2020-10-13",
                    "2020-10-14",
                    "2020-10-16",
                    "2020-10-18",
                    "2020-10-19",
                    "2020-10-20",
                    "2020-10-21",
                    "2020-10-22",
                    "2020-10-23",
                    "2020-10-27",
                    "2020-10-28",
                    "2020-10-29",
                    "2020-10-30",
                    "2020-11-01",
                    "2020-11-02",
                    "2020-11-04",
                    "2020-11-05",
                    "2020-11-07",
                    "2020-11-08",
                    "2020-11-09",
                    "2020-11-10",
                    "2020-11-14",
                    "2020-11-20",
                    "2020-11-22",
                    "2020-06-05",
                    "2020-06-06",
                    "2020-06-10",
                    "2020-06-12",
                    "2020-06-13",
                    "2020-06-23",
                    "2020-08-06",
                    "2020-08-07",
                    "2020-08-12",
                    "2020-08-27",
                    "2020-09-05",
                    "2020-09-20",
                    "2020-10-15",
                    "2020-06-21",
                    "2020-06-28",
                    "2020-07-12",
                    "2020-07-13",
                    "2020-07-30",
                    "2020-08-10",
                    "2020-08-18",
                    "2020-09-29",
                    "2020-11-03",
                    "2020-11-15",
                    "2020-11-16",
                    "2020-11-17",
                    "2020-11-19",
                    "2020-06-17",
                    "2020-06-22",
                    "2020-06-29",
                    "2020-07-07",
                    "2020-07-15",
                    "2020-08-05",
                    "2020-08-25",
                    "2020-08-30",
                    "2020-09-04",
                    "2020-09-09",
                    "2020-11-13",
                    "2020-06-08",
                    "2020-06-16",
                    "2020-06-25",
                    "2020-06-26",
                    "2020-06-27",
                    "2020-07-05",
                    "2020-07-14",
                    "2020-07-29",
                    "2020-08-13",
                    "2020-08-20",
                    "2020-08-21",
                    "2020-08-23",
                    "2020-09-06",
                    "2020-10-04",
                    "2020-10-06",
                    "2020-10-12",
                    "2020-08-04",
                    "2020-08-14",
                    "2020-09-24",
                    "2020-11-12",
                    "2020-06-02",
                    "2020-06-03",
                    "2020-06-19",
                    "2020-07-08",
                    "2020-07-21",
                    "2020-07-23",
                    "2020-07-28",
                    "2020-08-28",
                    "2020-09-10",
                    "2020-10-25",
                    "2020-11-18",
                    "2020-06-01",
                    "2020-07-03",
                    "2020-07-17",
                    "2020-07-24",
                    "2020-08-03",
                    "2020-10-11",
                    "2020-10-26",
                    "2020-10-31",
                    "2020-06-11",
                    "2020-07-26",
                    "2020-08-01",
                    "2020-08-17",
                    "2020-09-01",
                    "2020-11-21",
                    "2020-07-16",
                    "2020-07-19",
                    "2020-07-22",
                    "2020-09-03",
                    "2020-09-19",
                    "2020-10-17",
                    "2020-06-20",
                    "2020-07-06",
                    "2020-06-30",
                    "2020-07-10",
                    "2020-11-06",
                    "2020-11-23",
                    "2020-11-24",
                    "2020-08-02",
                    "2020-07-11",
                    "2020-07-18",
                    "2020-07-20",
                    "2020-11-11",
                    "2020-06-15",
                    "2020-07-27",
                    "2020-07-04",
                    "2020-10-05",
                    "2020-06-04",
                    "2020-10-24",
                    "2020-07-25",
                    "2020-09-22"
                  ],
                  "line": {
                    "color": "#2BD51D",
                    "width": 0.5
                  },
                  "type": "scatter"
                }
              ],
              "config": {
                "plotlyServerURL": "https://plot.ly"
              },
              "layout": {
                "template": {
                  "layout": {
                    "shapedefaults": {
                      "line": {
                        "color": "#2a3f5f"
                      }
                    },
                    "polar": {
                      "radialaxis": {
                        "ticks": "",
                        "gridcolor": "white",
                        "linecolor": "white"
                      },
                      "bgcolor": "#E5ECF6",
                      "angularaxis": {
                        "ticks": "",
                        "gridcolor": "white",
                        "linecolor": "white"
                      }
                    },
                    "colorway": [
                      "#636efa",
                      "#EF553B",
                      "#00cc96",
                      "#ab63fa",
                      "#FFA15A",
                      "#19d3f3",
                      "#FF6692",
                      "#B6E880",
                      "#FF97FF",
                      "#FECB52"
                    ],
                    "xaxis": {
                      "automargin": true,
                      "title": {
                        "standoff": 15
                      },
                      "zerolinewidth": 2,
                      "ticks": "",
                      "zerolinecolor": "white",
                      "gridcolor": "white",
                      "linecolor": "white"
                    },
                    "colorscale": {
                      "diverging": [
                        [
                          0,
                          "#8e0152"
                        ],
                        [
                          0.1,
                          "#c51b7d"
                        ],
                        [
                          0.2,
                          "#de77ae"
                        ],
                        [
                          0.3,
                          "#f1b6da"
                        ],
                        [
                          0.4,
                          "#fde0ef"
                        ],
                        [
                          0.5,
                          "#f7f7f7"
                        ],
                        [
                          0.6,
                          "#e6f5d0"
                        ],
                        [
                          0.7,
                          "#b8e186"
                        ],
                        [
                          0.8,
                          "#7fbc41"
                        ],
                        [
                          0.9,
                          "#4d9221"
                        ],
                        [
                          1,
                          "#276419"
                        ]
                      ],
                      "sequential": [
                        [
                          0,
                          "#0d0887"
                        ],
                        [
                          0.1111111111111111,
                          "#46039f"
                        ],
                        [
                          0.2222222222222222,
                          "#7201a8"
                        ],
                        [
                          0.3333333333333333,
                          "#9c179e"
                        ],
                        [
                          0.4444444444444444,
                          "#bd3786"
                        ],
                        [
                          0.5555555555555556,
                          "#d8576b"
                        ],
                        [
                          0.6666666666666666,
                          "#ed7953"
                        ],
                        [
                          0.7777777777777778,
                          "#fb9f3a"
                        ],
                        [
                          0.8888888888888888,
                          "#fdca26"
                        ],
                        [
                          1,
                          "#f0f921"
                        ]
                      ],
                      "sequentialminus": [
                        [
                          0,
                          "#0d0887"
                        ],
                        [
                          0.1111111111111111,
                          "#46039f"
                        ],
                        [
                          0.2222222222222222,
                          "#7201a8"
                        ],
                        [
                          0.3333333333333333,
                          "#9c179e"
                        ],
                        [
                          0.4444444444444444,
                          "#bd3786"
                        ],
                        [
                          0.5555555555555556,
                          "#d8576b"
                        ],
                        [
                          0.6666666666666666,
                          "#ed7953"
                        ],
                        [
                          0.7777777777777778,
                          "#fb9f3a"
                        ],
                        [
                          0.8888888888888888,
                          "#fdca26"
                        ],
                        [
                          1,
                          "#f0f921"
                        ]
                      ]
                    },
                    "paper_bgcolor": "white",
                    "plot_bgcolor": "#E5ECF6",
                    "title": {
                      "x": 0.05
                    },
                    "scene": {
                      "zaxis": {
                        "backgroundcolor": "#E5ECF6",
                        "ticks": "",
                        "gridwidth": 2,
                        "showbackground": true,
                        "zerolinecolor": "white",
                        "gridcolor": "white",
                        "linecolor": "white"
                      },
                      "xaxis": {
                        "backgroundcolor": "#E5ECF6",
                        "ticks": "",
                        "gridwidth": 2,
                        "showbackground": true,
                        "zerolinecolor": "white",
                        "gridcolor": "white",
                        "linecolor": "white"
                      },
                      "yaxis": {
                        "backgroundcolor": "#E5ECF6",
                        "ticks": "",
                        "gridwidth": 2,
                        "showbackground": true,
                        "zerolinecolor": "white",
                        "gridcolor": "white",
                        "linecolor": "white"
                      }
                    },
                    "yaxis": {
                      "automargin": true,
                      "title": {
                        "standoff": 15
                      },
                      "zerolinewidth": 2,
                      "ticks": "",
                      "zerolinecolor": "white",
                      "gridcolor": "white",
                      "linecolor": "white"
                    },
                    "annotationdefaults": {
                      "arrowwidth": 1,
                      "arrowhead": 0,
                      "arrowcolor": "#2a3f5f"
                    },
                    "hoverlabel": {
                      "align": "left"
                    },
                    "ternary": {
                      "bgcolor": "#E5ECF6",
                      "baxis": {
                        "ticks": "",
                        "gridcolor": "white",
                        "linecolor": "white"
                      },
                      "caxis": {
                        "ticks": "",
                        "gridcolor": "white",
                        "linecolor": "white"
                      },
                      "aaxis": {
                        "ticks": "",
                        "gridcolor": "white",
                        "linecolor": "white"
                      }
                    },
                    "mapbox": {
                      "style": "light"
                    },
                    "hovermode": "closest",
                    "font": {
                      "color": "#2a3f5f"
                    },
                    "geo": {
                      "showland": true,
                      "landcolor": "#E5ECF6",
                      "showlakes": true,
                      "bgcolor": "white",
                      "subunitcolor": "white",
                      "lakecolor": "white"
                    },
                    "coloraxis": {
                      "colorbar": {
                        "outlinewidth": 0,
                        "ticks": ""
                      }
                    }
                  },
                  "data": {
                    "mesh3d": [
                      {
                        "colorbar": {
                          "outlinewidth": 0,
                          "ticks": ""
                        },
                        "type": "mesh3d"
                      }
                    ],
                    "scattercarpet": [
                      {
                        "marker": {
                          "colorbar": {
                            "outlinewidth": 0,
                            "ticks": ""
                          }
                        },
                        "type": "scattercarpet"
                      }
                    ],
                    "pie": [
                      {
                        "automargin": true,
                        "type": "pie"
                      }
                    ],
                    "surface": [
                      {
                        "colorbar": {
                          "outlinewidth": 0,
                          "ticks": ""
                        },
                        "type": "surface",
                        "colorscale": [
                          [
                            0,
                            "#0d0887"
                          ],
                          [
                            0.1111111111111111,
                            "#46039f"
                          ],
                          [
                            0.2222222222222222,
                            "#7201a8"
                          ],
                          [
                            0.3333333333333333,
                            "#9c179e"
                          ],
                          [
                            0.4444444444444444,
                            "#bd3786"
                          ],
                          [
                            0.5555555555555556,
                            "#d8576b"
                          ],
                          [
                            0.6666666666666666,
                            "#ed7953"
                          ],
                          [
                            0.7777777777777778,
                            "#fb9f3a"
                          ],
                          [
                            0.8888888888888888,
                            "#fdca26"
                          ],
                          [
                            1,
                            "#f0f921"
                          ]
                        ]
                      }
                    ],
                    "table": [
                      {
                        "header": {
                          "line": {
                            "color": "white"
                          },
                          "fill": {
                            "color": "#C8D4E3"
                          }
                        },
                        "cells": {
                          "line": {
                            "color": "white"
                          },
                          "fill": {
                            "color": "#EBF0F8"
                          }
                        },
                        "type": "table"
                      }
                    ],
                    "scatterpolargl": [
                      {
                        "marker": {
                          "colorbar": {
                            "outlinewidth": 0,
                            "ticks": ""
                          }
                        },
                        "type": "scatterpolargl"
                      }
                    ],
                    "contour": [
                      {
                        "colorbar": {
                          "outlinewidth": 0,
                          "ticks": ""
                        },
                        "type": "contour",
                        "colorscale": [
                          [
                            0,
                            "#0d0887"
                          ],
                          [
                            0.1111111111111111,
                            "#46039f"
                          ],
                          [
                            0.2222222222222222,
                            "#7201a8"
                          ],
                          [
                            0.3333333333333333,
                            "#9c179e"
                          ],
                          [
                            0.4444444444444444,
                            "#bd3786"
                          ],
                          [
                            0.5555555555555556,
                            "#d8576b"
                          ],
                          [
                            0.6666666666666666,
                            "#ed7953"
                          ],
                          [
                            0.7777777777777778,
                            "#fb9f3a"
                          ],
                          [
                            0.8888888888888888,
                            "#fdca26"
                          ],
                          [
                            1,
                            "#f0f921"
                          ]
                        ]
                      }
                    ],
                    "carpet": [
                      {
                        "type": "carpet",
                        "baxis": {
                          "minorgridcolor": "white",
                          "gridcolor": "white",
                          "linecolor": "white",
                          "endlinecolor": "#2a3f5f",
                          "startlinecolor": "#2a3f5f"
                        },
                        "aaxis": {
                          "minorgridcolor": "white",
                          "gridcolor": "white",
                          "linecolor": "white",
                          "endlinecolor": "#2a3f5f",
                          "startlinecolor": "#2a3f5f"
                        }
                      }
                    ],
                    "contourcarpet": [
                      {
                        "colorbar": {
                          "outlinewidth": 0,
                          "ticks": ""
                        },
                        "type": "contourcarpet"
                      }
                    ],
                    "heatmap": [
                      {
                        "colorbar": {
                          "outlinewidth": 0,
                          "ticks": ""
                        },
                        "type": "heatmap",
                        "colorscale": [
                          [
                            0,
                            "#0d0887"
                          ],
                          [
                            0.1111111111111111,
                            "#46039f"
                          ],
                          [
                            0.2222222222222222,
                            "#7201a8"
                          ],
                          [
                            0.3333333333333333,
                            "#9c179e"
                          ],
                          [
                            0.4444444444444444,
                            "#bd3786"
                          ],
                          [
                            0.5555555555555556,
                            "#d8576b"
                          ],
                          [
                            0.6666666666666666,
                            "#ed7953"
                          ],
                          [
                            0.7777777777777778,
                            "#fb9f3a"
                          ],
                          [
                            0.8888888888888888,
                            "#fdca26"
                          ],
                          [
                            1,
                            "#f0f921"
                          ]
                        ]
                      }
                    ],
                    "scattermapbox": [
                      {
                        "marker": {
                          "colorbar": {
                            "outlinewidth": 0,
                            "ticks": ""
                          }
                        },
                        "type": "scattermapbox"
                      }
                    ],
                    "scatter3d": [
                      {
                        "marker": {
                          "colorbar": {
                            "outlinewidth": 0,
                            "ticks": ""
                          }
                        },
                        "line": {
                          "colorbar": {
                            "outlinewidth": 0,
                            "ticks": ""
                          }
                        },
                        "type": "scatter3d"
                      }
                    ],
                    "scattergl": [
                      {
                        "marker": {
                          "colorbar": {
                            "outlinewidth": 0,
                            "ticks": ""
                          }
                        },
                        "type": "scattergl"
                      }
                    ],
                    "scatterternary": [
                      {
                        "marker": {
                          "colorbar": {
                            "outlinewidth": 0,
                            "ticks": ""
                          }
                        },
                        "type": "scatterternary"
                      }
                    ],
                    "histogram": [
                      {
                        "marker": {
                          "colorbar": {
                            "outlinewidth": 0,
                            "ticks": ""
                          }
                        },
                        "type": "histogram"
                      }
                    ],
                    "heatmapgl": [
                      {
                        "colorbar": {
                          "outlinewidth": 0,
                          "ticks": ""
                        },
                        "type": "heatmapgl",
                        "colorscale": [
                          [
                            0,
                            "#0d0887"
                          ],
                          [
                            0.1111111111111111,
                            "#46039f"
                          ],
                          [
                            0.2222222222222222,
                            "#7201a8"
                          ],
                          [
                            0.3333333333333333,
                            "#9c179e"
                          ],
                          [
                            0.4444444444444444,
                            "#bd3786"
                          ],
                          [
                            0.5555555555555556,
                            "#d8576b"
                          ],
                          [
                            0.6666666666666666,
                            "#ed7953"
                          ],
                          [
                            0.7777777777777778,
                            "#fb9f3a"
                          ],
                          [
                            0.8888888888888888,
                            "#fdca26"
                          ],
                          [
                            1,
                            "#f0f921"
                          ]
                        ]
                      }
                    ],
                    "scatterpolar": [
                      {
                        "marker": {
                          "colorbar": {
                            "outlinewidth": 0,
                            "ticks": ""
                          }
                        },
                        "type": "scatterpolar"
                      }
                    ],
                    "histogram2d": [
                      {
                        "colorbar": {
                          "outlinewidth": 0,
                          "ticks": ""
                        },
                        "type": "histogram2d",
                        "colorscale": [
                          [
                            0,
                            "#0d0887"
                          ],
                          [
                            0.1111111111111111,
                            "#46039f"
                          ],
                          [
                            0.2222222222222222,
                            "#7201a8"
                          ],
                          [
                            0.3333333333333333,
                            "#9c179e"
                          ],
                          [
                            0.4444444444444444,
                            "#bd3786"
                          ],
                          [
                            0.5555555555555556,
                            "#d8576b"
                          ],
                          [
                            0.6666666666666666,
                            "#ed7953"
                          ],
                          [
                            0.7777777777777778,
                            "#fb9f3a"
                          ],
                          [
                            0.8888888888888888,
                            "#fdca26"
                          ],
                          [
                            1,
                            "#f0f921"
                          ]
                        ]
                      }
                    ],
                    "scattergeo": [
                      {
                        "marker": {
                          "colorbar": {
                            "outlinewidth": 0,
                            "ticks": ""
                          }
                        },
                        "type": "scattergeo"
                      }
                    ],
                    "bar": [
                      {
                        "marker": {
                          "line": {
                            "color": "#E5ECF6",
                            "width": 0.5
                          }
                        },
                        "type": "bar",
                        "error_x": {
                          "color": "#2a3f5f"
                        },
                        "error_y": {
                          "color": "#2a3f5f"
                        }
                      }
                    ],
                    "choropleth": [
                      {
                        "colorbar": {
                          "outlinewidth": 0,
                          "ticks": ""
                        },
                        "type": "choropleth"
                      }
                    ],
                    "parcoords": [
                      {
                        "line": {
                          "colorbar": {
                            "outlinewidth": 0,
                            "ticks": ""
                          }
                        },
                        "type": "parcoords"
                      }
                    ],
                    "barpolar": [
                      {
                        "marker": {
                          "line": {
                            "color": "#E5ECF6",
                            "width": 0.5
                          }
                        },
                        "type": "barpolar"
                      }
                    ],
                    "histogram2dcontour": [
                      {
                        "colorbar": {
                          "outlinewidth": 0,
                          "ticks": ""
                        },
                        "type": "histogram2dcontour",
                        "colorscale": [
                          [
                            0,
                            "#0d0887"
                          ],
                          [
                            0.1111111111111111,
                            "#46039f"
                          ],
                          [
                            0.2222222222222222,
                            "#7201a8"
                          ],
                          [
                            0.3333333333333333,
                            "#9c179e"
                          ],
                          [
                            0.4444444444444444,
                            "#bd3786"
                          ],
                          [
                            0.5555555555555556,
                            "#d8576b"
                          ],
                          [
                            0.6666666666666666,
                            "#ed7953"
                          ],
                          [
                            0.7777777777777778,
                            "#fb9f3a"
                          ],
                          [
                            0.8888888888888888,
                            "#fdca26"
                          ],
                          [
                            1,
                            "#f0f921"
                          ]
                        ]
                      }
                    ],
                    "scatter": [
                      {
                        "marker": {
                          "colorbar": {
                            "outlinewidth": 0,
                            "ticks": ""
                          }
                        },
                        "type": "scatter"
                      }
                    ]
                  }
                },
                "title": {
                  "text": "Vehicles and Traffic"
                },
                "yaxis": {
                  "title": {
                    "text": "Total Calls"
                  }
                },
                "height": 700,
                "xaxis": {
                  "title": {
                    "text": "Date"
                  }
                },
                "font": {
                  "color": "#58508d",
                  "family": "silom",
                  "size": 14
                },
                "legend": {
                  "y": 0.99,
                  "x": 0.01,
                  "xanchor": "left",
                  "yanchor": "top"
                }
              }
            }
          },
          "metadata": {
            "tags": []
          }
        }
      ]
    },
    {
      "cell_type": "markdown",
      "metadata": {
        "id": "kqZ1YkWQjt6u"
      },
      "source": [
        "Illegal parking complaints are the most common in the above graph, followed by blocked driveway complaints and abandoned vehicle complaints. Traffic-related calls never exceeded 30 per day."
      ]
    },
    {
      "cell_type": "markdown",
      "metadata": {
        "id": "msxw-7jdKDui"
      },
      "source": [
        "# References\n",
        "\n",
        "[Filled Area Plots in Python](https://plotly.com/python/filled-area-plots/)"
      ]
    }
  ]
}