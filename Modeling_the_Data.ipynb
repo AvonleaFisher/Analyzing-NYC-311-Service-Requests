{
  "nbformat": 4,
  "nbformat_minor": 0,
  "metadata": {
    "accelerator": "GPU",
    "colab": {
      "name": "Modeling_the_Data.ipynb",
      "provenance": [],
      "collapsed_sections": [],
      "toc_visible": true,
      "machine_shape": "hm",
      "mount_file_id": "1XUos6xk6q4Y0wI5hBzLOLJ_8cM_RMUc6",
      "authorship_tag": "ABX9TyNHbh9bG0yDGuHAVPqiBkm1",
      "include_colab_link": true
    },
    "kernelspec": {
      "display_name": "Python 3",
      "name": "python3"
    }
  },
  "cells": [
    {
      "cell_type": "markdown",
      "metadata": {
        "id": "view-in-github",
        "colab_type": "text"
      },
      "source": [
        "<a href=\"https://colab.research.google.com/github/AvonleaFisher/Analyzing-NYC-311-Service-Requests/blob/main/Modeling_the_Data.ipynb\" target=\"_parent\"><img src=\"https://colab.research.google.com/assets/colab-badge.svg\" alt=\"Open In Colab\"/></a>"
      ]
    },
    {
      "cell_type": "markdown",
      "metadata": {
        "id": "BuPIppTCJQoQ"
      },
      "source": [
        "# Introduction "
      ]
    },
    {
      "cell_type": "markdown",
      "metadata": {
        "id": "zalxhpvEJQld"
      },
      "source": [
        "The aim of this section is to train a neural network that can accurately classify the agency that responded to a 311 call, given the call's descriptor. In the exploratory analysis section, we saw that none of the community districts' numeric indicators were highly correlated with any of the dummy-encoded agency categories. Intuitively, one may expect the call's descriptor to be the best predictor of the responding agency, but given that the descriptors consist of natural language data, they will need to undergo additional preprocessig before being fed into a model."
      ]
    },
    {
      "cell_type": "markdown",
      "metadata": {
        "id": "EQ2JuRRPUfI6"
      },
      "source": [
        "# Loading Dependencies and Importing the Data"
      ]
    },
    {
      "cell_type": "code",
      "metadata": {
        "id": "muoTtQYo0uhz"
      },
      "source": [
        "!pip install -U -q PyDrive\n",
        "from pydrive.auth import GoogleAuth\n",
        "from pydrive.drive import GoogleDrive\n",
        "from google.colab import auth\n",
        "from oauth2client.client import GoogleCredentials\n",
        "from sklearn.model_selection import train_test_split\n",
        "from sklearn.metrics import confusion_matrix\n",
        "\n",
        "\n",
        "import matplotlib.pyplot as plt\n",
        "import pandas as pd\n",
        "import numpy as np\n",
        "import seaborn as sns\n",
        "import random\n",
        "import re\n",
        "\n",
        "from sklearn import preprocessing\n",
        "import tensorflow as tf\n",
        "from tensorflow import keras\n",
        "from tensorflow.keras import layers\n",
        "\n",
        "from keras.preprocessing.text import Tokenizer\n",
        "from keras import models\n",
        "from keras import layers\n",
        "from keras import optimizers\n",
        "from keras.utils.np_utils import to_categorical"
      ],
      "execution_count": null,
      "outputs": []
    },
    {
      "cell_type": "code",
      "metadata": {
        "id": "dHtsa82d0yeh"
      },
      "source": [
        "auth.authenticate_user()\n",
        "gauth = GoogleAuth()\n",
        "gauth.credentials = GoogleCredentials.get_application_default()\n",
        "drive = GoogleDrive(gauth)"
      ],
      "execution_count": null,
      "outputs": []
    },
    {
      "cell_type": "code",
      "metadata": {
        "colab": {
          "base_uri": "https://localhost:8080/"
        },
        "id": "WZHghdba0oB5",
        "outputId": "2b4d1781-a9d0-481a-b279-9ed86e0fd671"
      },
      "source": [
        "path = '/content/drive/MyDrive/Colab Notebooks/community_board_311.csv'\n",
        "df = pd.read_csv(path, index_col=0)"
      ],
      "execution_count": null,
      "outputs": [
        {
          "output_type": "stream",
          "text": [
            "/usr/local/lib/python3.6/dist-packages/numpy/lib/arraysetops.py:569: FutureWarning: elementwise comparison failed; returning scalar instead, but in the future will perform elementwise comparison\n",
            "  mask |= (ar1 == a)\n"
          ],
          "name": "stderr"
        }
      ]
    },
    {
      "cell_type": "markdown",
      "metadata": {
        "id": "q395NFX9yEMQ"
      },
      "source": [
        "# Assessing Model Performance"
      ]
    },
    {
      "cell_type": "markdown",
      "metadata": {
        "id": "9LUNQFdHyb4p"
      },
      "source": [
        "With perfectly balanced classes, a model's accuracy is acceptable if it exceeds the expected accuracy rate of simply picking a random class. With heavily imbalanced classes, however, a model's accuracy can instead be compared to that of picking the majority class. Below is the expected accuracy rate if we were to predict that all calls in a sample were responded to by the NYPD."
      ]
    },
    {
      "cell_type": "code",
      "metadata": {
        "colab": {
          "base_uri": "https://localhost:8080/"
        },
        "id": "DNrao_hK2sFG",
        "outputId": "72a76e11-675e-43a1-ccc6-baee25fb8351"
      },
      "source": [
        "len(df[df.agency =='NYPD'])/sum(df.agency.value_counts()) * 100"
      ],
      "execution_count": null,
      "outputs": [
        {
          "output_type": "execute_result",
          "data": {
            "text/plain": [
              "53.560233979566185"
            ]
          },
          "metadata": {
            "tags": []
          },
          "execution_count": 4
        }
      ]
    },
    {
      "cell_type": "markdown",
      "metadata": {
        "id": "1TpY--8t3X-b"
      },
      "source": [
        "While the aim will be to maximize model accuracy, any classifier that is at least 54% accurate will out-perform the simple assignment of all calls to the NYPD."
      ]
    },
    {
      "cell_type": "markdown",
      "metadata": {
        "id": "W9fRwJwwMgbA"
      },
      "source": [
        "# Sampling the Data \n",
        "The dataset currently consists of more than one million rows:"
      ]
    },
    {
      "cell_type": "code",
      "metadata": {
        "colab": {
          "base_uri": "https://localhost:8080/"
        },
        "id": "mMMJh58Y8dIA",
        "outputId": "dab90058-eb87-46cb-8afb-af70286b8df2"
      },
      "source": [
        "len(df)"
      ],
      "execution_count": null,
      "outputs": [
        {
          "output_type": "execute_result",
          "data": {
            "text/plain": [
              "1332595"
            ]
          },
          "metadata": {
            "tags": []
          },
          "execution_count": 5
        }
      ]
    },
    {
      "cell_type": "markdown",
      "metadata": {
        "id": "JMUcv--x8aaY"
      },
      "source": [
        "Retrieving the training data from a representative sample, rather than the entire dataset, will save time in the training process and ideally not result in a significant decline in accuracy.\n",
        "\n",
        "In training classification models, we'll want to ensure that complaint descriptors from every agency category are represented. This way, the model will also be able to recognize encoded descriptors that correspond to agencies that rarely receive calls. However, training a model on samples of equal length from each agency may lead to confusion when it is presented with new, imbalanced data. We'll oversample the minority classes, but ensure that the largest samples are those agencies that receive the most calls. This will allow the diversity of descriptors associated with each agency to be captured in the samples. Below, we create and print a dictionary with the class weights."
      ]
    },
    {
      "cell_type": "code",
      "metadata": {
        "colab": {
          "base_uri": "https://localhost:8080/"
        },
        "id": "m2JjrNL748aM",
        "outputId": "e38c476e-3f9d-4b9d-a450-31ecd1bdd4af"
      },
      "source": [
        "weights_dict = {}\n",
        "\n",
        "for agency, count in list(zip(df.agency.value_counts().index, df.agency.value_counts().values)):\n",
        "  weight = count/len(df)\n",
        "  weights_dict[agency] = weight\n",
        "weights_dict"
      ],
      "execution_count": null,
      "outputs": [
        {
          "output_type": "execute_result",
          "data": {
            "text/plain": [
              "{'DCA': 0.007892870677137466,\n",
              " 'DEP': 0.05711937985659559,\n",
              " 'DOB': 0.031156502913488343,\n",
              " 'DOE': 0.00031142245018178817,\n",
              " 'DOHMH': 0.02230084909518646,\n",
              " 'DOITT': 0.00011031108476318762,\n",
              " 'DOT': 0.058726769948859184,\n",
              " 'DPR': 0.08548958986038518,\n",
              " 'DSNY': 0.04380100480641155,\n",
              " 'EDC': 0.004075506811897088,\n",
              " 'HPD': 0.11758561303321714,\n",
              " 'NYPD': 0.5356023397956619,\n",
              " 'OSE': 0.03240144229867289,\n",
              " 'TLC': 0.0034263973675422764}"
            ]
          },
          "metadata": {
            "tags": []
          },
          "execution_count": 6
        }
      ]
    },
    {
      "cell_type": "code",
      "metadata": {
        "colab": {
          "base_uri": "https://localhost:8080/"
        },
        "id": "uPPBjrs5LGG6",
        "outputId": "c88b0876-3e3d-4d1e-dac3-fdf9d6ef8d72"
      },
      "source": [
        "df.agency.value_counts()"
      ],
      "execution_count": null,
      "outputs": [
        {
          "output_type": "execute_result",
          "data": {
            "text/plain": [
              "NYPD     713741\n",
              "HPD      156694\n",
              "DPR      113923\n",
              "DOT       78259\n",
              "DEP       76117\n",
              "DSNY      58369\n",
              "OSE       43178\n",
              "DOB       41519\n",
              "DOHMH     29718\n",
              "DCA       10518\n",
              "EDC        5431\n",
              "TLC        4566\n",
              "DOE         415\n",
              "DOITT       147\n",
              "Name: agency, dtype: int64"
            ]
          },
          "metadata": {
            "tags": []
          },
          "execution_count": 7
        }
      ]
    },
    {
      "cell_type": "markdown",
      "metadata": {
        "id": "gh_WXYsAPfWm"
      },
      "source": [
        "Next, we'll create a new dictionary with guidelines for the number of samples to be drawn from each class. The class weights are multiplied by a term that results in the largest sample, NYPD, consisting of around 60k calls."
      ]
    },
    {
      "cell_type": "code",
      "metadata": {
        "id": "Eei-2kEy9iCS"
      },
      "source": [
        "n_samples_dict = {}\n",
        "\n",
        "for agency, weight in zip(weights_dict.keys(), weights_dict.values()):\n",
        "  n_samples = int(15**4.3 * weight)\n",
        "  n_samples_dict[agency] = n_samples"
      ],
      "execution_count": null,
      "outputs": []
    },
    {
      "cell_type": "code",
      "metadata": {
        "colab": {
          "base_uri": "https://localhost:8080/"
        },
        "id": "qE__5eWsBH0c",
        "outputId": "42e403cf-536b-43fe-e67d-a9a59cd0aa04"
      },
      "source": [
        "n_samples_dict"
      ],
      "execution_count": null,
      "outputs": [
        {
          "output_type": "execute_result",
          "data": {
            "text/plain": [
              "{'DCA': 900,\n",
              " 'DEP': 6515,\n",
              " 'DOB': 3554,\n",
              " 'DOE': 35,\n",
              " 'DOHMH': 2543,\n",
              " 'DOITT': 12,\n",
              " 'DOT': 6699,\n",
              " 'DPR': 9752,\n",
              " 'DSNY': 4996,\n",
              " 'EDC': 464,\n",
              " 'HPD': 13413,\n",
              " 'NYPD': 61099,\n",
              " 'OSE': 3696,\n",
              " 'TLC': 390}"
            ]
          },
          "metadata": {
            "tags": []
          },
          "execution_count": 9
        }
      ]
    },
    {
      "cell_type": "markdown",
      "metadata": {
        "id": "1g8WnjUsRmw2"
      },
      "source": [
        "The below function returns weighted samples of an agency that's passed in. Agencies that appear in fewer than 500 rows are sampled with replacement, such\n",
        "that the minimum sample size is 500."
      ]
    },
    {
      "cell_type": "code",
      "metadata": {
        "id": "geHzoyWv52OZ"
      },
      "source": [
        "def get_weighted_sample(agency):\n",
        "  \n",
        "  \"\"\"Takes in an agency name as a string, and creates a subset with all rows\n",
        "     with a match in the agency column. If the number of rows is greater than \n",
        "     500, a weighted sample is returned. Otherwise, a sample of lenth 500, with \n",
        "     replacement, is returned.\"\"\"\n",
        "\n",
        "  agency_subset = df[df.agency == agency]\n",
        "\n",
        "  n_samples = n_samples_dict[agency]\n",
        "  \n",
        "  if len(agency_subset) > 415:\n",
        "    weighted_sample = agency_subset.sample(n=n_samples, random_state=7)\n",
        "  elif 416 > len(agency_subset) > 147:\n",
        "    weighted_sample = agency_subset.sample(n=415, random_state=7)\n",
        "  else:\n",
        "    weighted_sample = agency_subset.sample(n=147, random_state=7)\n",
        "  return weighted_sample"
      ],
      "execution_count": null,
      "outputs": []
    },
    {
      "cell_type": "markdown",
      "metadata": {
        "id": "__2PdUBESxkK"
      },
      "source": [
        "The function is applied below to each unique agency to create a dataframe of samples. These are conatenated in 'weighted_df' and the index is reset."
      ]
    },
    {
      "cell_type": "code",
      "metadata": {
        "id": "uR6-bbBC-MiY"
      },
      "source": [
        "DCA = get_weighted_sample('DCA')\n",
        "DEP = get_weighted_sample('DEP')\n",
        "DOB = get_weighted_sample('DOB')\n",
        "DOE = get_weighted_sample('DOE')\n",
        "DOHMH = get_weighted_sample('DOHMH')\n",
        "DOITT = get_weighted_sample('DOITT')\n",
        "DOT = get_weighted_sample('DOT')\n",
        "DPR = get_weighted_sample('DPR')\n",
        "DSNY = get_weighted_sample('DSNY')\n",
        "EDC = get_weighted_sample('EDC')\n",
        "HPD = get_weighted_sample('HPD')\n",
        "NYPD = get_weighted_sample('NYPD')\n",
        "OSE = get_weighted_sample('OSE')\n",
        "TLC = get_weighted_sample('TLC')"
      ],
      "execution_count": null,
      "outputs": []
    },
    {
      "cell_type": "code",
      "metadata": {
        "id": "ny-Ss-YVFcCJ"
      },
      "source": [
        "weighted_df = pd.concat([DCA, DEP, DOB, DOE, DOHMH, \n",
        "                         DOITT, DOT, DPR, DSNY, EDC, HPD, NYPD, OSE, TLC])\n",
        "weighted_df.reset_index(inplace=True)"
      ],
      "execution_count": null,
      "outputs": []
    },
    {
      "cell_type": "markdown",
      "metadata": {
        "id": "VJ-R1hGCuT4P"
      },
      "source": [
        "In order for the model to be tested on new data, it should have exposure to every unique descriptor in the dataset. The below code creates a list of every item in the original dataframe's unique descriptors that is not found in the sample dataframe."
      ]
    },
    {
      "cell_type": "code",
      "metadata": {
        "colab": {
          "base_uri": "https://localhost:8080/"
        },
        "id": "LCKQkzBWcAJy",
        "outputId": "a5fa069a-62d5-42dc-bdef-4dc5b96e0982"
      },
      "source": [
        "descriptors_not_in_sample = []\n",
        "\n",
        "for i in df.descriptor.unique():\n",
        "  if i not in weighted_df.descriptor.unique():\n",
        "    descriptors_not_in_sample.append(i)\n",
        "\n",
        "descriptors_not_in_sample"
      ],
      "execution_count": null,
      "outputs": [
        {
          "output_type": "execute_result",
          "data": {
            "text/plain": [
              "['bingo hall',\n",
              " 'oil, grease in water qd',\n",
              " 'flavored tobacco',\n",
              " 'street cavein *dep internal use only* sg',\n",
              " 'allergy information',\n",
              " 'smoking signs  \"no smoking\" signs not observed on construction site',\n",
              " 'plate condition  antiskid',\n",
              " 'indoor pool over capacity',\n",
              " 'e street obstruction',\n",
              " 'clear water with organisms insects, worms qe',\n",
              " 'safety equipment signs',\n",
              " 'beach pool sauna unpermitted',\n",
              " 'ea storage of receptacles',\n",
              " 'snake',\n",
              " 'time clock maladjusted',\n",
              " 'puddle on sidewalk',\n",
              " 'hyd valve box defective  see comments *for dep use only* wv',\n",
              " 'multiple st lts dayburning',\n",
              " 'puddle on driveway',\n",
              " 'wood pole knocked down',\n",
              " 'bracket arm bent',\n",
              " 'honorary',\n",
              " 'arcade',\n",
              " 'flood light lamp dayburning',\n",
              " 'warning signal lamp',\n",
              " 'detour',\n",
              " 'fire alarm lamp out',\n",
              " 'snow or ice',\n",
              " 'defective water sampling station qss',\n",
              " 'odor in sewer catch basin icb',\n",
              " 'pedicab',\n",
              " 'traffic camera',\n",
              " 'cellar door defective',\n",
              " 'outlet cover',\n",
              " 'air: odor, nail salon ad',\n",
              " 'flood light lamp cycling',\n",
              " 'jewelry appraiser',\n",
              " 'grocery store',\n",
              " 'e illegal dumping surveillance',\n",
              " 'no consent form',\n",
              " 'immigration services',\n",
              " 'material storage  unsafe',\n",
              " 'restroom noncomplaince with local law  ',\n",
              " 'hummock',\n",
              " 'utility cover blocked',\n",
              " 'cloudy or milky water qb',\n",
              " 'milk dairy products',\n",
              " 'street con game',\n",
              " 'oil spill into basin sewer  large iabl',\n",
              " 'tenant refusal',\n",
              " 'domestic employee',\n",
              " 'support bracket',\n",
              " 'remove hydrant locking device wc',\n",
              " 'landmark bldg  illegal work',\n",
              " 'ped flasher',\n",
              " 'flashing hazard',\n",
              " 'warning signal',\n",
              " 'disabled device dealer',\n",
              " ' dead animals',\n",
              " 'unsanitary condition',\n",
              " 'air: odor fumes, other use comments ad',\n",
              " 'toxic chemical material',\n",
              " 'catch basin search sc',\n",
              " 'er comm. recyc. bldg mgmt',\n",
              " 'noise: loud music daytime mark date and time nn',\n",
              " 'unauthorized film shoot',\n",
              " 'waterwaysewage iha',\n",
              " 'rodent bite  pcs only',\n",
              " 'e transfer station',\n",
              " 'sewer break sbr',\n",
              " 'waterwayfloatables ihc',\n",
              " 'inadequate support shoring',\n",
              " 'ticket scalping',\n",
              " 'manhole cover missing emergency for dep internal use only wf',\n",
              " 'sports equipment',\n",
              " 'e asp restricted parking',\n",
              " ' collection truck noise',\n",
              " 'book stationery',\n",
              " 'plate condition  dep',\n",
              " 'technician unlicensed',\n",
              " 'noise: other noise sources use comments nzz',\n",
              " 'sign',\n",
              " 'bikes in buildings',\n",
              " 'illegal air conditioning during drought cjo',\n",
              " 'controller cabinet',\n",
              " 'container  under  gallons',\n",
              " 'lane station',\n",
              " 'detector sensor',\n",
              " 'sway bar',\n",
              " 'platform condition',\n",
              " 'damage structure railing srgdm',\n",
              " 'plumbing',\n",
              " 'flower planters',\n",
              " 'enclosure cap',\n",
              " 'bird bath',\n",
              " 'flooded',\n",
              " 'dead end signal',\n",
              " 'auction house auctioneer',\n",
              " 'conflict monitor',\n",
              " 'monkey',\n",
              " 'ferret',\n",
              " 'blank out matrix sgn',\n",
              " 'speed board sign',\n",
              " 'wood pole leaning',\n",
              " 'maintenance cover',\n",
              " 'defective catch basin',\n",
              " 'newsstand',\n",
              " 'shisha',\n",
              " 'used gun dealer',\n",
              " 'natural gas leak *for dep internal use only* hf',\n",
              " 'e other requests for enforcement',\n",
              " 'plants odor related problems po',\n",
              " 'too few on duty',\n",
              " 'e throwout',\n",
              " 'vocational or trade school',\n",
              " 'door to door sales',\n",
              " 'fire alarm lamp cycling',\n",
              " 'licensee complaint',\n",
              " 'caps & chains missingfire dept use only wkmc',\n",
              " 'asphalt around manhole cover',\n",
              " 'defective hardware  dep',\n",
              " 'professional photographer',\n",
              " 'warning buzzer',\n",
              " 'taste',\n",
              " 'b sweeping inadequate',\n",
              " 'door lock',\n",
              " 'general bad condition',\n",
              " 'do not block the box',\n",
              " 'fire globe missing',\n",
              " 'sediment',\n",
              " 'condulet cover',\n",
              " 'defective manhole cover',\n",
              " 'inspection work order dob',\n",
              " 'inattentive',\n",
              " 'foundation',\n",
              " 'air: odor fumes, dry cleaners ad',\n",
              " 'lane control signal',\n",
              " 'user unlicensed',\n",
              " 'milk not pasteurized',\n",
              " 'asphalt around valve box',\n",
              " 'chained bike',\n",
              " 'not certified',\n",
              " 'pedestrian sign',\n",
              " 'manhole sunken damaged raised sb',\n",
              " 'box cover',\n",
              " 'wood pole damaged',\n",
              " 'high grass',\n",
              " 'driver complaint',\n",
              " 'musical instrument',\n",
              " 'horse drawn carriage',\n",
              " ' litter basket   request',\n",
              " 'use of newly seeded lawn',\n",
              " 'suspected street cut',\n",
              " 'flood light lamp dim',\n",
              " 'controller flasher',\n",
              " 'e litter surveillance',\n",
              " 'guard rail  bridge',\n",
              " 'c uncollected xmas trees',\n",
              " 'failure to post calorie information',\n",
              " ' dsny spillage',\n",
              " 'plate missing movedexposing hole sb',\n",
              " 'color',\n",
              " 'equipment malfunction',\n",
              " 'utility company',\n",
              " 'damaged or leaking roof']"
            ]
          },
          "metadata": {
            "tags": []
          },
          "execution_count": 13
        }
      ]
    },
    {
      "cell_type": "markdown",
      "metadata": {
        "id": "Iim78erDu8if"
      },
      "source": [
        "The list above captures many of the less common descriptors that were not captured in the sample data. Below, we create a dataframe with all calls that match these descriptors and concatenate them with the weighted sample dataframe."
      ]
    },
    {
      "cell_type": "code",
      "metadata": {
        "id": "zdZUiYEveDap"
      },
      "source": [
        "descriptors_not_in_sample_df = df[df.descriptor.isin(descriptors_not_in_sample)]"
      ],
      "execution_count": null,
      "outputs": []
    },
    {
      "cell_type": "code",
      "metadata": {
        "id": "XTy5NgSAezLu"
      },
      "source": [
        "weighted_df = pd.concat([DCA, DEP, DOB, DOE, DOHMH, DOITT, DOT, \n",
        "                         DPR, DSNY, EDC, HPD, NYPD, OSE, TLC,\n",
        "                         descriptors_not_in_sample_df])\n",
        "weighted_df.reset_index(inplace=True)"
      ],
      "execution_count": null,
      "outputs": []
    },
    {
      "cell_type": "code",
      "metadata": {
        "colab": {
          "base_uri": "https://localhost:8080/"
        },
        "id": "Ka9F8jA5b1xJ",
        "outputId": "4787f674-36b5-4424-cc50-c71d1ba3c5ad"
      },
      "source": [
        "#confirm that the number of unique descriptors is the same for both dataframes\n",
        "len(weighted_df.descriptor.unique()) == len(df.descriptor.unique())"
      ],
      "execution_count": null,
      "outputs": [
        {
          "output_type": "execute_result",
          "data": {
            "text/plain": [
              "True"
            ]
          },
          "metadata": {
            "tags": []
          },
          "execution_count": 16
        }
      ]
    },
    {
      "cell_type": "markdown",
      "metadata": {
        "id": "7G-L7vYfTWXO"
      },
      "source": [
        "The classes remain imbalanced, but no agency is represented by only a handful of samples, as would have been the case with simple random sampling:"
      ]
    },
    {
      "cell_type": "code",
      "metadata": {
        "colab": {
          "base_uri": "https://localhost:8080/"
        },
        "id": "iJ_kfxRaDU69",
        "outputId": "fa01bcf5-8cac-45b2-a0c3-4341debe338d"
      },
      "source": [
        "weighted_df.agency.value_counts()"
      ],
      "execution_count": null,
      "outputs": [
        {
          "output_type": "execute_result",
          "data": {
            "text/plain": [
              "NYPD     61105\n",
              "HPD      13418\n",
              "DPR       9763\n",
              "DOT       6989\n",
              "DEP       6715\n",
              "DSNY      5076\n",
              "OSE       3696\n",
              "DOB       3627\n",
              "DOHMH     2742\n",
              "DCA        974\n",
              "EDC        464\n",
              "DOE        415\n",
              "TLC        407\n",
              "DOITT      147\n",
              "Name: agency, dtype: int64"
            ]
          },
          "metadata": {
            "tags": []
          },
          "execution_count": 17
        }
      ]
    },
    {
      "cell_type": "markdown",
      "metadata": {
        "id": "0Xxzm3adUPw4"
      },
      "source": [
        "# Keras Neural Network"
      ]
    },
    {
      "cell_type": "markdown",
      "metadata": {
        "id": "mEdxA7s6wc6X"
      },
      "source": [
        "## Preparing the Training and Test Data"
      ]
    },
    {
      "cell_type": "markdown",
      "metadata": {
        "id": "rQ45Wmxxwhg0"
      },
      "source": [
        "Using the dataframe of weighted samples, we assign 'X' to the descriptor column and 'y' to the agency column. "
      ]
    },
    {
      "cell_type": "code",
      "metadata": {
        "id": "XuDY4PxXbCXy"
      },
      "source": [
        "X = weighted_df.descriptor\n",
        "y = weighted_df.agency"
      ],
      "execution_count": null,
      "outputs": []
    },
    {
      "cell_type": "markdown",
      "metadata": {
        "id": "vWtSr0A5w3qD"
      },
      "source": [
        "The [Keras Tokenizer](https://www.tensorflow.org/api_docs/python/tf/keras/preprocessing/text/Tokenizer) `fit_on_texts()` method, used below, \"updates internal vocabulary based on a list of texts.\" In this case, the list of texts is all descriptors in the weighted sample. The `texts_to_matrix()` method converts the list of texts to a Numpy matrix. Specifying the mode \"binary\" means that only the presence or absence of each item in the tokenizer's vocabulary will be accounted for in the matrix."
      ]
    },
    {
      "cell_type": "code",
      "metadata": {
        "id": "0q7gzxcYgyQ2"
      },
      "source": [
        "descriptors = X\n",
        "tokenizer = Tokenizer() \n",
        "\n",
        "tokenizer.fit_on_texts(descriptors) \n",
        "descriptor_onehot = tokenizer.texts_to_matrix(descriptors)\n",
        "word_index = tokenizer.word_index"
      ],
      "execution_count": null,
      "outputs": []
    },
    {
      "cell_type": "markdown",
      "metadata": {
        "id": "yQMyujM_-goW"
      },
      "source": [
        "The word index is a dictionary that contains words in the tokenizer's vocabulary as keys, and integers that correspond to the keys' frequency rank as values. The first ten items of the dictionary are printed below, and we can see that the most frequent words have the lowest values. The highest value in the dictionary is 1109."
      ]
    },
    {
      "cell_type": "code",
      "metadata": {
        "colab": {
          "base_uri": "https://localhost:8080/"
        },
        "id": "tqSVnoIz3KfY",
        "outputId": "17218259-e432-4400-cdbb-48ad9c6dc550"
      },
      "source": [
        "# reversed_word_index = dict(map(reversed, word_index.items()))\n",
        "# list(reversed_word_index.items())[0:10]\n",
        "print(list(word_index.items())[0:10])\n",
        "print('Max:', max(word_index.values()))"
      ],
      "execution_count": null,
      "outputs": [
        {
          "output_type": "stream",
          "text": [
            "[('music', 1), ('loud', 2), ('party', 3), ('access', 4), ('no', 5), ('blocked', 6), ('hydrant', 7), ('truck', 8), ('car', 9), ('in', 10)]\n",
            "Max: 1109\n"
          ],
          "name": "stdout"
        }
      ]
    },
    {
      "cell_type": "markdown",
      "metadata": {
        "id": "58-ghEfZB5Hn"
      },
      "source": [
        "The content and shape of the one-hot encoded descriptors are displayed below."
      ]
    },
    {
      "cell_type": "code",
      "metadata": {
        "colab": {
          "base_uri": "https://localhost:8080/",
          "height": 147
        },
        "id": "W1L7LoTr3fA8",
        "outputId": "2e424d46-598b-40aa-94d7-fd95b2890524"
      },
      "source": [
        "display(descriptor_onehot)\n",
        "\n",
        "print('Shape:', descriptor_onehot.shape)"
      ],
      "execution_count": null,
      "outputs": [
        {
          "output_type": "display_data",
          "data": {
            "text/plain": [
              "array([[0., 0., 0., ..., 0., 0., 0.],\n",
              "       [0., 0., 0., ..., 0., 0., 0.],\n",
              "       [0., 0., 0., ..., 0., 0., 0.],\n",
              "       ...,\n",
              "       [0., 0., 0., ..., 0., 0., 0.],\n",
              "       [0., 0., 0., ..., 0., 0., 0.],\n",
              "       [0., 0., 0., ..., 0., 0., 0.]])"
            ]
          },
          "metadata": {
            "tags": []
          }
        },
        {
          "output_type": "stream",
          "text": [
            "Shape: (115538, 1110)\n"
          ],
          "name": "stdout"
        }
      ]
    },
    {
      "cell_type": "markdown",
      "metadata": {
        "id": "NWO_IAYWC4Mc"
      },
      "source": [
        "The number of rows is the same as the number of rows in X, and correspond to an individual call:"
      ]
    },
    {
      "cell_type": "code",
      "metadata": {
        "colab": {
          "base_uri": "https://localhost:8080/"
        },
        "id": "1zOwlHkJCtrZ",
        "outputId": "b220727c-9d7d-4e40-fdc2-693b6739d797"
      },
      "source": [
        "X.shape"
      ],
      "execution_count": null,
      "outputs": [
        {
          "output_type": "execute_result",
          "data": {
            "text/plain": [
              "(115538,)"
            ]
          },
          "metadata": {
            "tags": []
          },
          "execution_count": 22
        }
      ]
    },
    {
      "cell_type": "markdown",
      "metadata": {
        "id": "KEr1U7bzDknt"
      },
      "source": [
        "Each column corresponds to one of 1,110 words in the tokenizer's vocabulary. If the word for a column is present in a given call's descriptor, its value at the call's corresponding row will be '1.' Otherwise, it will be '0.'"
      ]
    },
    {
      "cell_type": "markdown",
      "metadata": {
        "id": "EIw59i2XFJ12"
      },
      "source": [
        "The label encoder used below assigns a unique integer to each of the categories in the agency column. The [keras.utils.to_categorical\n",
        "](https://www.tensorflow.org/api_docs/python/tf/keras/utils/to_categorical) method \"converts a class vector (integers) to binary class matrix.\""
      ]
    },
    {
      "cell_type": "code",
      "metadata": {
        "id": "cJGOuSOohgMX"
      },
      "source": [
        "agency = y\n",
        "\n",
        "le = preprocessing.LabelEncoder() \n",
        "le.fit(agency)\n",
        "agency_cat = le.transform(agency)  \n",
        "agency_onehot = to_categorical(agency_cat)"
      ],
      "execution_count": null,
      "outputs": []
    },
    {
      "cell_type": "markdown",
      "metadata": {
        "id": "BitB8V1fKuFb"
      },
      "source": [
        "Let's examine the content and shape of the encoded agency data:"
      ]
    },
    {
      "cell_type": "code",
      "metadata": {
        "colab": {
          "base_uri": "https://localhost:8080/",
          "height": 147
        },
        "id": "XGhGFhjcKYHQ",
        "outputId": "a040e1aa-21ac-4603-bb65-7a45a115126d"
      },
      "source": [
        "display(agency_onehot)\n",
        "print('Shape:', agency_onehot.shape)"
      ],
      "execution_count": null,
      "outputs": [
        {
          "output_type": "display_data",
          "data": {
            "text/plain": [
              "array([[1., 0., 0., ..., 0., 0., 0.],\n",
              "       [1., 0., 0., ..., 0., 0., 0.],\n",
              "       [1., 0., 0., ..., 0., 0., 0.],\n",
              "       ...,\n",
              "       [0., 0., 1., ..., 0., 0., 0.],\n",
              "       [0., 0., 0., ..., 0., 0., 0.],\n",
              "       [0., 0., 0., ..., 0., 0., 0.]], dtype=float32)"
            ]
          },
          "metadata": {
            "tags": []
          }
        },
        {
          "output_type": "stream",
          "text": [
            "Shape: (115538, 14)\n"
          ],
          "name": "stdout"
        }
      ]
    },
    {
      "cell_type": "markdown",
      "metadata": {
        "id": "fe7mqmR7QA6y"
      },
      "source": [
        "Each row corresponds to a call, and each column corresponds to an agency. The value in a given cell indicates whether the agency in its column either responded ('1'), or did not respond ('0'), to the call in its row.\n",
        "\n",
        "Now that both X and y have been encoded, we'll create a random split of training and test data."
      ]
    },
    {
      "cell_type": "code",
      "metadata": {
        "id": "w17CTxizTvsS"
      },
      "source": [
        "test, train, label_test, label_train = train_test_split(descriptor_onehot, agency_onehot, test_size=.1, random_state=9)"
      ],
      "execution_count": null,
      "outputs": []
    },
    {
      "cell_type": "markdown",
      "metadata": {
        "id": "fcydqkeWxrQt"
      },
      "source": [
        "## Baseline Model"
      ]
    },
    {
      "cell_type": "code",
      "metadata": {
        "id": "xkP7CC257B1v"
      },
      "source": [
        "model1 = models.Sequential()\n",
        "\n",
        "model1.add(layers.Dense(50, activation='relu', input_shape=(test.shape[1],)))\n",
        "model1.add(layers.Dense(25, activation='relu'))\n",
        "model1.add(layers.Dense(14, activation='softmax'))\n",
        "\n",
        "opt = tf.keras.optimizers.SGD(learning_rate=0.001)\n",
        "model1.compile(optimizer=opt,\n",
        "              loss='categorical_crossentropy',\n",
        "              metrics=['acc'])"
      ],
      "execution_count": null,
      "outputs": []
    },
    {
      "cell_type": "code",
      "metadata": {
        "colab": {
          "base_uri": "https://localhost:8080/"
        },
        "id": "cRgLsdFd7enu",
        "outputId": "0cc1f41e-7d1e-437f-e748-f1349ec5362a"
      },
      "source": [
        "history = model1.fit(train,\n",
        "                    label_train,\n",
        "                    epochs=65,\n",
        "                    batch_size=32)"
      ],
      "execution_count": null,
      "outputs": [
        {
          "output_type": "stream",
          "text": [
            "Epoch 1/65\n",
            "362/362 [==============================] - 1s 2ms/step - loss: 2.5409 - acc: 0.5093\n",
            "Epoch 2/65\n",
            "362/362 [==============================] - 1s 2ms/step - loss: 2.3932 - acc: 0.5235\n",
            "Epoch 3/65\n",
            "362/362 [==============================] - 1s 2ms/step - loss: 2.2324 - acc: 0.5235\n",
            "Epoch 4/65\n",
            "362/362 [==============================] - 1s 2ms/step - loss: 2.0574 - acc: 0.5235\n",
            "Epoch 5/65\n",
            "362/362 [==============================] - 1s 2ms/step - loss: 1.8905 - acc: 0.5235\n",
            "Epoch 6/65\n",
            "362/362 [==============================] - 1s 2ms/step - loss: 1.7590 - acc: 0.5235\n",
            "Epoch 7/65\n",
            "362/362 [==============================] - 1s 2ms/step - loss: 1.6734 - acc: 0.5235\n",
            "Epoch 8/65\n",
            "362/362 [==============================] - 1s 2ms/step - loss: 1.6177 - acc: 0.5235\n",
            "Epoch 9/65\n",
            "362/362 [==============================] - 1s 2ms/step - loss: 1.5756 - acc: 0.5235\n",
            "Epoch 10/65\n",
            "362/362 [==============================] - 1s 2ms/step - loss: 1.5395 - acc: 0.5235\n",
            "Epoch 11/65\n",
            "362/362 [==============================] - 1s 2ms/step - loss: 1.5072 - acc: 0.5235\n",
            "Epoch 12/65\n",
            "362/362 [==============================] - 1s 2ms/step - loss: 1.4779 - acc: 0.5235\n",
            "Epoch 13/65\n",
            "362/362 [==============================] - 1s 2ms/step - loss: 1.4506 - acc: 0.5235\n",
            "Epoch 14/65\n",
            "362/362 [==============================] - 1s 2ms/step - loss: 1.4251 - acc: 0.5235\n",
            "Epoch 15/65\n",
            "362/362 [==============================] - 1s 2ms/step - loss: 1.4006 - acc: 0.5235\n",
            "Epoch 16/65\n",
            "362/362 [==============================] - 1s 2ms/step - loss: 1.3772 - acc: 0.5235\n",
            "Epoch 17/65\n",
            "362/362 [==============================] - 1s 2ms/step - loss: 1.3549 - acc: 0.5376\n",
            "Epoch 18/65\n",
            "362/362 [==============================] - 1s 2ms/step - loss: 1.3333 - acc: 0.5471\n",
            "Epoch 19/65\n",
            "362/362 [==============================] - 1s 2ms/step - loss: 1.3122 - acc: 0.5568\n",
            "Epoch 20/65\n",
            "362/362 [==============================] - 1s 2ms/step - loss: 1.2919 - acc: 0.5568\n",
            "Epoch 21/65\n",
            "362/362 [==============================] - 1s 2ms/step - loss: 1.2721 - acc: 0.5701\n",
            "Epoch 22/65\n",
            "362/362 [==============================] - 1s 2ms/step - loss: 1.2529 - acc: 0.5806\n",
            "Epoch 23/65\n",
            "362/362 [==============================] - 1s 2ms/step - loss: 1.2342 - acc: 0.5827\n",
            "Epoch 24/65\n",
            "362/362 [==============================] - 1s 2ms/step - loss: 1.2162 - acc: 0.5839\n",
            "Epoch 25/65\n",
            "362/362 [==============================] - 1s 2ms/step - loss: 1.1987 - acc: 0.5909\n",
            "Epoch 26/65\n",
            "362/362 [==============================] - 1s 2ms/step - loss: 1.1818 - acc: 0.5936\n",
            "Epoch 27/65\n",
            "362/362 [==============================] - 1s 2ms/step - loss: 1.1654 - acc: 0.6100\n",
            "Epoch 28/65\n",
            "362/362 [==============================] - 1s 2ms/step - loss: 1.1497 - acc: 0.6176\n",
            "Epoch 29/65\n",
            "362/362 [==============================] - 1s 2ms/step - loss: 1.1345 - acc: 0.6300\n",
            "Epoch 30/65\n",
            "362/362 [==============================] - 1s 2ms/step - loss: 1.1199 - acc: 0.6405\n",
            "Epoch 31/65\n",
            "362/362 [==============================] - 1s 2ms/step - loss: 1.1057 - acc: 0.6507\n",
            "Epoch 32/65\n",
            "362/362 [==============================] - 1s 2ms/step - loss: 1.0920 - acc: 0.6535\n",
            "Epoch 33/65\n",
            "362/362 [==============================] - 1s 2ms/step - loss: 1.0787 - acc: 0.6565\n",
            "Epoch 34/65\n",
            "362/362 [==============================] - 1s 2ms/step - loss: 1.0658 - acc: 0.6625\n",
            "Epoch 35/65\n",
            "362/362 [==============================] - 1s 2ms/step - loss: 1.0533 - acc: 0.6709\n",
            "Epoch 36/65\n",
            "362/362 [==============================] - 1s 2ms/step - loss: 1.0412 - acc: 0.6810\n",
            "Epoch 37/65\n",
            "362/362 [==============================] - 1s 2ms/step - loss: 1.0294 - acc: 0.6840\n",
            "Epoch 38/65\n",
            "362/362 [==============================] - 1s 2ms/step - loss: 1.0180 - acc: 0.6862\n",
            "Epoch 39/65\n",
            "362/362 [==============================] - 1s 2ms/step - loss: 1.0068 - acc: 0.6855\n",
            "Epoch 40/65\n",
            "362/362 [==============================] - 1s 2ms/step - loss: 0.9960 - acc: 0.6868\n",
            "Epoch 41/65\n",
            "362/362 [==============================] - 1s 2ms/step - loss: 0.9854 - acc: 0.6941\n",
            "Epoch 42/65\n",
            "362/362 [==============================] - 1s 2ms/step - loss: 0.9751 - acc: 0.6964\n",
            "Epoch 43/65\n",
            "362/362 [==============================] - 1s 2ms/step - loss: 0.9648 - acc: 0.6954\n",
            "Epoch 44/65\n",
            "362/362 [==============================] - 1s 2ms/step - loss: 0.9549 - acc: 0.6962\n",
            "Epoch 45/65\n",
            "362/362 [==============================] - 1s 2ms/step - loss: 0.9450 - acc: 0.6969\n",
            "Epoch 46/65\n",
            "362/362 [==============================] - 1s 2ms/step - loss: 0.9352 - acc: 0.7050\n",
            "Epoch 47/65\n",
            "362/362 [==============================] - 1s 2ms/step - loss: 0.9256 - acc: 0.7153\n",
            "Epoch 48/65\n",
            "362/362 [==============================] - 1s 2ms/step - loss: 0.9161 - acc: 0.7183\n",
            "Epoch 49/65\n",
            "362/362 [==============================] - 1s 2ms/step - loss: 0.9067 - acc: 0.7217\n",
            "Epoch 50/65\n",
            "362/362 [==============================] - 1s 2ms/step - loss: 0.8974 - acc: 0.7278\n",
            "Epoch 51/65\n",
            "362/362 [==============================] - 1s 2ms/step - loss: 0.8883 - acc: 0.7305\n",
            "Epoch 52/65\n",
            "362/362 [==============================] - 1s 2ms/step - loss: 0.8792 - acc: 0.7387\n",
            "Epoch 53/65\n",
            "362/362 [==============================] - 1s 2ms/step - loss: 0.8701 - acc: 0.7413\n",
            "Epoch 54/65\n",
            "362/362 [==============================] - 1s 2ms/step - loss: 0.8611 - acc: 0.7419\n",
            "Epoch 55/65\n",
            "362/362 [==============================] - 1s 2ms/step - loss: 0.8522 - acc: 0.7423\n",
            "Epoch 56/65\n",
            "362/362 [==============================] - 1s 2ms/step - loss: 0.8432 - acc: 0.7450\n",
            "Epoch 57/65\n",
            "362/362 [==============================] - 1s 2ms/step - loss: 0.8344 - acc: 0.7460\n",
            "Epoch 58/65\n",
            "362/362 [==============================] - 1s 2ms/step - loss: 0.8255 - acc: 0.7491\n",
            "Epoch 59/65\n",
            "362/362 [==============================] - 1s 2ms/step - loss: 0.8166 - acc: 0.7595\n",
            "Epoch 60/65\n",
            "362/362 [==============================] - 1s 2ms/step - loss: 0.8077 - acc: 0.7629\n",
            "Epoch 61/65\n",
            "362/362 [==============================] - 1s 2ms/step - loss: 0.7989 - acc: 0.7677\n",
            "Epoch 62/65\n",
            "362/362 [==============================] - 1s 2ms/step - loss: 0.7900 - acc: 0.7699\n",
            "Epoch 63/65\n",
            "362/362 [==============================] - 1s 2ms/step - loss: 0.7811 - acc: 0.7706\n",
            "Epoch 64/65\n",
            "362/362 [==============================] - 1s 2ms/step - loss: 0.7722 - acc: 0.7807\n",
            "Epoch 65/65\n",
            "362/362 [==============================] - 1s 2ms/step - loss: 0.7634 - acc: 0.7852\n"
          ],
          "name": "stdout"
        }
      ]
    },
    {
      "cell_type": "code",
      "metadata": {
        "colab": {
          "base_uri": "https://localhost:8080/"
        },
        "id": "Fpz0BAQqKNf9",
        "outputId": "2c5d5604-545e-4f2b-e6fa-a5a9587632e0"
      },
      "source": [
        "results = model1.evaluate(test, label_test, batch_size=32)"
      ],
      "execution_count": null,
      "outputs": [
        {
          "output_type": "stream",
          "text": [
            "3250/3250 [==============================] - 5s 2ms/step - loss: 0.7609 - acc: 0.7924\n"
          ],
          "name": "stdout"
        }
      ]
    },
    {
      "cell_type": "code",
      "metadata": {
        "id": "amYF3K8pbej4"
      },
      "source": [
        "def plot_loss_acc(history):\n",
        "  plt.figure(figsize=(10,7))\n",
        "  plt.grid(color='g', linestyle='-', linewidth=.09)\n",
        "  plt.plot(history.history['loss'], label='Loss', color='#D8A7B1', linewidth=4)\n",
        "  plt.plot(history.history['acc'], label='Accuracy', color='#05234C', linewidth=4)\n",
        "  \n",
        "  title_font = {'fontsize': 14, 'family': 'serif','color': '#58508d', 'weight': 'bold'}\n",
        "  plt.title('Loss vs Accuracy', fontdict=title_font)\n",
        "\n",
        "  ax_font = {'fontsize': 12, 'family': 'serif', 'color': '#58508d', 'weight': 'bold'}\n",
        "  plt.ylabel('Value', fontdict=ax_font)\n",
        "  plt.xlabel('Epochs', fontdict=ax_font)\n",
        "\n",
        "  plt.legend(loc=\"upper right\")\n",
        "  plt.show()"
      ],
      "execution_count": null,
      "outputs": []
    },
    {
      "cell_type": "code",
      "metadata": {
        "colab": {
          "base_uri": "https://localhost:8080/",
          "height": 462
        },
        "id": "UWoFuBe5hLco",
        "outputId": "caa7159d-c648-41fc-b342-8bb66c3b01da"
      },
      "source": [
        "plot_loss_acc(history)"
      ],
      "execution_count": null,
      "outputs": [
        {
          "output_type": "display_data",
          "data": {
            "image/png": "[encoded data removed]",
            "text/plain": [
              "<Figure size 720x504 with 1 Axes>"
            ]
          },
          "metadata": {
            "tags": [],
            "needs_background": "light"
          }
        }
      ]
    },
    {
      "cell_type": "code",
      "metadata": {
        "id": "LXx1_N1EQalg"
      },
      "source": [
        "random_df = df.sample(len(weighted_df), random_state=9)"
      ],
      "execution_count": null,
      "outputs": []
    },
    {
      "cell_type": "code",
      "metadata": {
        "colab": {
          "base_uri": "https://localhost:8080/"
        },
        "id": "yuQ8NFhstPu8",
        "outputId": "771613b6-c5f9-4f71-8662-a11d5c7e5588"
      },
      "source": [
        "descriptors_not_in_sample = []\n",
        "\n",
        "for i in df.descriptor.unique():\n",
        "  if i not in random_df.descriptor.unique():\n",
        "    descriptors_not_in_sample.append(i)\n",
        "\n",
        "descriptors_not_in_sample"
      ],
      "execution_count": null,
      "outputs": [
        {
          "output_type": "execute_result",
          "data": {
            "text/plain": [
              "['bingo hall',\n",
              " 'sidewalk staircase',\n",
              " 'safety inspectionretaining walls may ',\n",
              " 'removing flowers plants',\n",
              " 'plate condition  antiskid',\n",
              " 'indoor pool over capacity',\n",
              " 'e street obstruction',\n",
              " 'safety equipment signs',\n",
              " 'beach pool sauna unpermitted',\n",
              " 'sewer',\n",
              " 'time clock maladjusted',\n",
              " 'hyd valve box defective  see comments *for dep use only* wv',\n",
              " 'puddle on driveway',\n",
              " 'deck inspection',\n",
              " 'curb violation',\n",
              " 'wood pole knocked down',\n",
              " 'bracket arm bent',\n",
              " 'arcade',\n",
              " 'flood light lamp dayburning',\n",
              " 'wifi internet not working slow',\n",
              " 'snow or ice',\n",
              " 'building',\n",
              " 'boiler',\n",
              " 'odor in sewer catch basin icb',\n",
              " 'pedicab',\n",
              " 'traffic camera',\n",
              " 'glassware hanging',\n",
              " 'outlet cover',\n",
              " 'air: odor, nail salon ad',\n",
              " 'flood light lamp cycling',\n",
              " 'damaged leg or pole bent',\n",
              " 'grocery store',\n",
              " 'broken window',\n",
              " 'no consent form',\n",
              " 'immigration services',\n",
              " 'sign  in danger of falling',\n",
              " 'relocation of bus stop shelter',\n",
              " 'request to open a hydrant wc',\n",
              " 'tour company',\n",
              " 'illegal use of hose  other cco',\n",
              " 'unauthorized posting of signs',\n",
              " ' overflowing litter baskets',\n",
              " 'microwave',\n",
              " 'dishwashing utensils',\n",
              " 'milk dairy products',\n",
              " 'roof gutters',\n",
              " 'street con game',\n",
              " 'amusement ride',\n",
              " 'tenant refusal',\n",
              " 'water meter stolen missing  other clo',\n",
              " 'domestic employee',\n",
              " 'illegal conversion of manufacturing industrial space',\n",
              " 'remove hydrant locking device wc',\n",
              " 'sidewalk grating  missing',\n",
              " 'booting company',\n",
              " 'graffiti dirty condition',\n",
              " 'flashing hazard',\n",
              " 'disabled device dealer',\n",
              " ' dead animals',\n",
              " 'lack of supplies',\n",
              " 'sewer or drain',\n",
              " 'in post base',\n",
              " 'smoking ban  smoking on construction site',\n",
              " 'home heating oil company',\n",
              " 'unsanitary condition',\n",
              " 'toxic chemical material',\n",
              " 'catch basin search sc',\n",
              " 'noise: loud music daytime mark date and time nn',\n",
              " 'going out of business',\n",
              " 'e transfer station',\n",
              " 'er comm. recyc. comm. tenant',\n",
              " 'sewer break sbr',\n",
              " 'waterwayfloatables ihc',\n",
              " 'inadequate support shoring',\n",
              " 'ticket scalping',\n",
              " 'manhole cover missing emergency for dep internal use only wf',\n",
              " 'e asp restricted parking',\n",
              " 'puddle on roof',\n",
              " ' collection truck noise',\n",
              " 'plate condition  dep',\n",
              " 'technician unlicensed',\n",
              " 'noise: other noise sources use comments nzz',\n",
              " 'leaky roof',\n",
              " 'sign',\n",
              " 'turn signal',\n",
              " 'bikes in buildings',\n",
              " 'veh signal sec door',\n",
              " 'illegal air conditioning during drought cjo',\n",
              " 'controller cabinet',\n",
              " 'dry weather discharge  dwd',\n",
              " 'lane station',\n",
              " 'on structure',\n",
              " 'detector sensor',\n",
              " 'bracket arm loose',\n",
              " 'sway bar',\n",
              " 'platform condition',\n",
              " 'damage structure railing srgdm',\n",
              " 'enclosure cap',\n",
              " 'bird bath',\n",
              " 'flooded',\n",
              " 'cp employee behaviorbcc',\n",
              " 'conflict monitor',\n",
              " 'ferret',\n",
              " 'glassware missing',\n",
              " 'blank out matrix sgn',\n",
              " 'speed board sign',\n",
              " 'wood pole leaning',\n",
              " 'defective catch basin',\n",
              " 'on messenger',\n",
              " 'shisha',\n",
              " 'used gun dealer',\n",
              " 'natural gas leak *for dep internal use only* hf',\n",
              " 'too few on duty',\n",
              " 'e throwout',\n",
              " 'plants noise related problems pn',\n",
              " 'vocational or trade school',\n",
              " 'broken fence',\n",
              " 'fire alarm lamp cycling',\n",
              " 'phone blocking sidewalk',\n",
              " 'water',\n",
              " 'caps & chains missingfire dept use only wkmc',\n",
              " 'blocking sidewalk',\n",
              " 'asphalt around manhole cover',\n",
              " 'professional photographer',\n",
              " 'warning buzzer',\n",
              " 'taste',\n",
              " 'bwso referral to water quality for dep internal use only qbwso',\n",
              " 'b sweeping inadequate',\n",
              " 'general bad condition',\n",
              " 'relocation of parking meter',\n",
              " 'do not block the box',\n",
              " 'fire globe missing',\n",
              " 'sediment',\n",
              " 'poison ivy',\n",
              " 'condulet cover',\n",
              " 'inspection work order dob',\n",
              " 'damaged or missing ad box',\n",
              " 'facility unregistered',\n",
              " 'air: odor fumes, dry cleaners ad',\n",
              " 'broken lock',\n",
              " 'lane control signal',\n",
              " 'other water problem use comments qzz',\n",
              " 'user unlicensed',\n",
              " 'milk not pasteurized',\n",
              " 'asphalt around valve box',\n",
              " 'no dial tone',\n",
              " 'chained bike',\n",
              " 'not certified',\n",
              " 'oil spill into basin sewer  small iabs',\n",
              " 'manhole cover broken making noise sb',\n",
              " 'pedestrian sign',\n",
              " 'manhole sunken damaged raised sb',\n",
              " 'box cover',\n",
              " 'wood pole damaged',\n",
              " 'high grass',\n",
              " 'pothole  highway',\n",
              " 'driver complaint',\n",
              " 'musical instrument',\n",
              " 'horse drawn carriage',\n",
              " ' litter basket   request',\n",
              " 'use of newly seeded lawn',\n",
              " 'suspected street cut',\n",
              " 'flood light lamp dim',\n",
              " 'controller flasher',\n",
              " 'reflector louvre',\n",
              " 'guard rail  bridge',\n",
              " 'c uncollected xmas trees',\n",
              " 'failure to post calorie information',\n",
              " ' dsny spillage',\n",
              " 'plate missing movedexposing hole sb',\n",
              " 'color',\n",
              " 'damaged toilet sink',\n",
              " 'equipment malfunction']"
            ]
          },
          "metadata": {
            "tags": []
          },
          "execution_count": 32
        }
      ]
    },
    {
      "cell_type": "code",
      "metadata": {
        "id": "N5YdojXCtiNf"
      },
      "source": [
        "descriptors_not_in_sample_df = df[df.descriptor.isin(descriptors_not_in_sample)]\n",
        "random_df = pd.concat([random_df, descriptors_not_in_sample_df])\n",
        "random_df.reset_index(inplace=True)"
      ],
      "execution_count": null,
      "outputs": []
    },
    {
      "cell_type": "code",
      "metadata": {
        "id": "yH94tmTEPgUm"
      },
      "source": [
        "random_X = random_df.descriptor\n",
        "random_y = random_df.agency"
      ],
      "execution_count": null,
      "outputs": []
    },
    {
      "cell_type": "code",
      "metadata": {
        "id": "-mOrsN1TQRPr"
      },
      "source": [
        "r_descriptors = random_X\n",
        "tokenizer = Tokenizer() \n",
        "\n",
        "tokenizer.fit_on_texts(r_descriptors) \n",
        "r_descriptor_onehot = tokenizer.texts_to_matrix(r_descriptors, mode='binary')\n",
        "word_index = tokenizer.word_index"
      ],
      "execution_count": null,
      "outputs": []
    },
    {
      "cell_type": "code",
      "metadata": {
        "id": "Q5Ve_W4NQX97"
      },
      "source": [
        "r_agency = random_y\n",
        "\n",
        "le = preprocessing.LabelEncoder() \n",
        "le.fit(r_agency)\n",
        "r_agency_cat = le.transform(r_agency)  \n",
        "r_agency_onehot = to_categorical(r_agency_cat)"
      ],
      "execution_count": null,
      "outputs": []
    },
    {
      "cell_type": "code",
      "metadata": {
        "id": "c9MwlTriRHt1"
      },
      "source": [
        "random.seed(888)\n",
        "test_index = random.sample(range(1,10000), 1500)\n",
        "\n",
        "r_test = r_descriptor_onehot[test_index]\n",
        "r_label_test = r_agency_onehot[test_index]"
      ],
      "execution_count": null,
      "outputs": []
    },
    {
      "cell_type": "code",
      "metadata": {
        "colab": {
          "base_uri": "https://localhost:8080/"
        },
        "id": "md8FyuC0RVLw",
        "outputId": "0d220e65-69b4-4fed-bfb0-0cc1f103f671"
      },
      "source": [
        "random_results = model1.evaluate(r_descriptor_onehot, r_agency_onehot, batch_size=32)"
      ],
      "execution_count": null,
      "outputs": [
        {
          "output_type": "stream",
          "text": [
            "3640/3640 [==============================] - 6s 2ms/step - loss: 1.0035 - acc: 0.6595\n"
          ],
          "name": "stdout"
        }
      ]
    },
    {
      "cell_type": "markdown",
      "metadata": {
        "id": "9TZA4Zl9x2EZ"
      },
      "source": [
        "## Parameter Tuning"
      ]
    },
    {
      "cell_type": "code",
      "metadata": {
        "id": "t1XAcgaVhHSI"
      },
      "source": [
        "def create_model(X_train, y_train, X_test, y_test, params):\n",
        "    \n",
        "    model = models.Sequential()\n",
        "    model.add(layers.Dense(50, activation=params['activation 1'], input_shape=(test.shape[1],)))\n",
        "    model.add(layers.Dense(25, activation=params['activation 2']))\n",
        "    model.add(layers.Dense(14, activation=params['activation 3']))\n",
        "\n",
        "    opt = params['opt']\n",
        "    model.compile(optimizer=opt,\n",
        "              loss=params['loss'],\n",
        "              metrics=['acc'])\n",
        "    \n",
        "    history = model.fit(X_train,\n",
        "                    y_train,\n",
        "                    epochs=params['epochs'],\n",
        "                    batch_size=params['batch_size'])\n",
        "    \n",
        "    print(model.summary)\n",
        "\n",
        "    plot_loss_acc(history)\n",
        "    \n",
        "    return history, model"
      ],
      "execution_count": null,
      "outputs": []
    },
    {
      "cell_type": "code",
      "metadata": {
        "id": "e6QqNu9vI5Bb"
      },
      "source": [
        "model2_params = {'activation 1': 'relu', \n",
        "                 'activation 2': 'softmax', \n",
        "                 'activation 3': 'softmax', \n",
        "                 'opt': keras.optimizers.Adam(lr=0.0001),\n",
        "                 'loss': 'categorical_crossentropy',\n",
        "                 'epochs': 70, \n",
        "                 'batch_size': 16, \n",
        "                 }"
      ],
      "execution_count": null,
      "outputs": []
    },
    {
      "cell_type": "code",
      "metadata": {
        "colab": {
          "base_uri": "https://localhost:8080/",
          "height": 1000
        },
        "id": "qznZkA3tKeWi",
        "outputId": "1113be57-4306-4371-dffe-6c47fd87764c"
      },
      "source": [
        "model2_history, model2 = create_model(train, label_train, test, label_test, model2_params)"
      ],
      "execution_count": null,
      "outputs": [
        {
          "output_type": "stream",
          "text": [
            "Epoch 1/70\n",
            "723/723 [==============================] - 1s 2ms/step - loss: 2.5694 - acc: 0.3104\n",
            "Epoch 2/70\n",
            "723/723 [==============================] - 1s 2ms/step - loss: 2.2935 - acc: 0.5235\n",
            "Epoch 3/70\n",
            "723/723 [==============================] - 1s 2ms/step - loss: 2.0750 - acc: 0.5557\n",
            "Epoch 4/70\n",
            "723/723 [==============================] - 1s 2ms/step - loss: 1.9112 - acc: 0.6441\n",
            "Epoch 5/70\n",
            "723/723 [==============================] - 1s 2ms/step - loss: 1.7731 - acc: 0.7222\n",
            "Epoch 6/70\n",
            "723/723 [==============================] - 1s 2ms/step - loss: 1.6482 - acc: 0.7371\n",
            "Epoch 7/70\n",
            "723/723 [==============================] - 1s 2ms/step - loss: 1.5312 - acc: 0.7455\n",
            "Epoch 8/70\n",
            "723/723 [==============================] - 1s 2ms/step - loss: 1.4256 - acc: 0.7474\n",
            "Epoch 9/70\n",
            "723/723 [==============================] - 1s 2ms/step - loss: 1.3335 - acc: 0.7485\n",
            "Epoch 10/70\n",
            "723/723 [==============================] - 1s 2ms/step - loss: 1.2515 - acc: 0.7500\n",
            "Epoch 11/70\n",
            "723/723 [==============================] - 2s 2ms/step - loss: 1.1769 - acc: 0.7503\n",
            "Epoch 12/70\n",
            "723/723 [==============================] - 2s 2ms/step - loss: 1.1091 - acc: 0.7517\n",
            "Epoch 13/70\n",
            "723/723 [==============================] - 2s 2ms/step - loss: 1.0479 - acc: 0.7791\n",
            "Epoch 14/70\n",
            "723/723 [==============================] - 2s 2ms/step - loss: 0.9931 - acc: 0.7929\n",
            "Epoch 15/70\n",
            "723/723 [==============================] - 2s 2ms/step - loss: 0.9438 - acc: 0.7939\n",
            "Epoch 16/70\n",
            "723/723 [==============================] - 2s 2ms/step - loss: 0.8996 - acc: 0.7943\n",
            "Epoch 17/70\n",
            "723/723 [==============================] - 2s 2ms/step - loss: 0.8596 - acc: 0.7945\n",
            "Epoch 18/70\n",
            "723/723 [==============================] - 1s 2ms/step - loss: 0.8233 - acc: 0.7961\n",
            "Epoch 19/70\n",
            "723/723 [==============================] - 1s 2ms/step - loss: 0.7901 - acc: 0.8246\n",
            "Epoch 20/70\n",
            "723/723 [==============================] - 1s 2ms/step - loss: 0.7598 - acc: 0.8275\n",
            "Epoch 21/70\n",
            "723/723 [==============================] - 1s 2ms/step - loss: 0.7319 - acc: 0.8282\n",
            "Epoch 22/70\n",
            "723/723 [==============================] - 1s 2ms/step - loss: 0.7061 - acc: 0.8285\n",
            "Epoch 23/70\n",
            "723/723 [==============================] - 1s 2ms/step - loss: 0.6822 - acc: 0.8290\n",
            "Epoch 24/70\n",
            "723/723 [==============================] - 1s 2ms/step - loss: 0.6601 - acc: 0.8292\n",
            "Epoch 25/70\n",
            "723/723 [==============================] - 1s 2ms/step - loss: 0.6393 - acc: 0.8301\n",
            "Epoch 26/70\n",
            "723/723 [==============================] - 1s 2ms/step - loss: 0.6200 - acc: 0.8309\n",
            "Epoch 27/70\n",
            "723/723 [==============================] - 1s 2ms/step - loss: 0.6018 - acc: 0.8311\n",
            "Epoch 28/70\n",
            "723/723 [==============================] - 1s 2ms/step - loss: 0.5850 - acc: 0.8311\n",
            "Epoch 29/70\n",
            "723/723 [==============================] - 1s 2ms/step - loss: 0.5689 - acc: 0.8311\n",
            "Epoch 30/70\n",
            "723/723 [==============================] - 1s 2ms/step - loss: 0.5539 - acc: 0.8312\n",
            "Epoch 31/70\n",
            "723/723 [==============================] - 1s 2ms/step - loss: 0.5398 - acc: 0.8315\n",
            "Epoch 32/70\n",
            "723/723 [==============================] - 1s 2ms/step - loss: 0.5265 - acc: 0.8315\n",
            "Epoch 33/70\n",
            "723/723 [==============================] - 1s 2ms/step - loss: 0.5140 - acc: 0.8315\n",
            "Epoch 34/70\n",
            "723/723 [==============================] - 1s 2ms/step - loss: 0.5022 - acc: 0.8315\n",
            "Epoch 35/70\n",
            "723/723 [==============================] - 1s 2ms/step - loss: 0.4910 - acc: 0.8315\n",
            "Epoch 36/70\n",
            "723/723 [==============================] - 1s 2ms/step - loss: 0.4802 - acc: 0.8315\n",
            "Epoch 37/70\n",
            "723/723 [==============================] - 1s 2ms/step - loss: 0.4695 - acc: 0.8315\n",
            "Epoch 38/70\n",
            "723/723 [==============================] - 1s 2ms/step - loss: 0.4590 - acc: 0.8315\n",
            "Epoch 39/70\n",
            "723/723 [==============================] - 1s 2ms/step - loss: 0.4486 - acc: 0.8315\n",
            "Epoch 40/70\n",
            "723/723 [==============================] - 1s 2ms/step - loss: 0.4388 - acc: 0.8315\n",
            "Epoch 41/70\n",
            "723/723 [==============================] - 1s 2ms/step - loss: 0.4294 - acc: 0.8315\n",
            "Epoch 42/70\n",
            "723/723 [==============================] - 1s 2ms/step - loss: 0.4203 - acc: 0.8315\n",
            "Epoch 43/70\n",
            "723/723 [==============================] - 1s 2ms/step - loss: 0.4112 - acc: 0.8316\n",
            "Epoch 44/70\n",
            "723/723 [==============================] - 1s 2ms/step - loss: 0.4020 - acc: 0.8317\n",
            "Epoch 45/70\n",
            "723/723 [==============================] - 1s 2ms/step - loss: 0.3930 - acc: 0.8319\n",
            "Epoch 46/70\n",
            "723/723 [==============================] - 1s 2ms/step - loss: 0.3842 - acc: 0.8319\n",
            "Epoch 47/70\n",
            "723/723 [==============================] - 1s 2ms/step - loss: 0.3754 - acc: 0.8320\n",
            "Epoch 48/70\n",
            "723/723 [==============================] - 1s 2ms/step - loss: 0.3669 - acc: 0.8320\n",
            "Epoch 49/70\n",
            "723/723 [==============================] - 1s 2ms/step - loss: 0.3584 - acc: 0.8320\n",
            "Epoch 50/70\n",
            "723/723 [==============================] - 1s 2ms/step - loss: 0.3499 - acc: 0.8328\n",
            "Epoch 51/70\n",
            "723/723 [==============================] - 1s 2ms/step - loss: 0.3417 - acc: 0.8335\n",
            "Epoch 52/70\n",
            "723/723 [==============================] - 1s 2ms/step - loss: 0.3334 - acc: 0.8531\n",
            "Epoch 53/70\n",
            "723/723 [==============================] - 1s 2ms/step - loss: 0.3256 - acc: 0.8922\n",
            "Epoch 54/70\n",
            "723/723 [==============================] - 1s 2ms/step - loss: 0.3176 - acc: 0.8999\n",
            "Epoch 55/70\n",
            "723/723 [==============================] - 1s 2ms/step - loss: 0.3099 - acc: 0.9139\n",
            "Epoch 56/70\n",
            "723/723 [==============================] - 1s 2ms/step - loss: 0.3023 - acc: 0.9406\n",
            "Epoch 57/70\n",
            "723/723 [==============================] - 1s 2ms/step - loss: 0.2950 - acc: 0.9568\n",
            "Epoch 58/70\n",
            "723/723 [==============================] - 1s 2ms/step - loss: 0.2880 - acc: 0.9598\n",
            "Epoch 59/70\n",
            "723/723 [==============================] - 1s 2ms/step - loss: 0.2810 - acc: 0.9604\n",
            "Epoch 60/70\n",
            "723/723 [==============================] - 1s 2ms/step - loss: 0.2745 - acc: 0.9617\n",
            "Epoch 61/70\n",
            "723/723 [==============================] - 1s 2ms/step - loss: 0.2680 - acc: 0.9620\n",
            "Epoch 62/70\n",
            "723/723 [==============================] - 1s 2ms/step - loss: 0.2617 - acc: 0.9624\n",
            "Epoch 63/70\n",
            "723/723 [==============================] - 1s 2ms/step - loss: 0.2556 - acc: 0.9632\n",
            "Epoch 64/70\n",
            "723/723 [==============================] - 1s 2ms/step - loss: 0.2497 - acc: 0.9646\n",
            "Epoch 65/70\n",
            "723/723 [==============================] - 1s 2ms/step - loss: 0.2440 - acc: 0.9649\n",
            "Epoch 66/70\n",
            "723/723 [==============================] - 1s 2ms/step - loss: 0.2387 - acc: 0.9649\n",
            "Epoch 67/70\n",
            "723/723 [==============================] - 1s 2ms/step - loss: 0.2335 - acc: 0.9650\n",
            "Epoch 68/70\n",
            "723/723 [==============================] - 1s 2ms/step - loss: 0.2284 - acc: 0.9652\n",
            "Epoch 69/70\n",
            "723/723 [==============================] - 1s 2ms/step - loss: 0.2236 - acc: 0.9652\n",
            "Epoch 70/70\n",
            "723/723 [==============================] - 1s 2ms/step - loss: 0.2190 - acc: 0.9653\n",
            "<bound method Model.summary of <tensorflow.python.keras.engine.sequential.Sequential object at 0x7f08c0067668>>\n"
          ],
          "name": "stdout"
        },
        {
          "output_type": "display_data",
          "data": {
            "image/png": "[encoded data removed]",
            "text/plain": [
              "<Figure size 720x504 with 1 Axes>"
            ]
          },
          "metadata": {
            "tags": [],
            "needs_background": "light"
          }
        }
      ]
    },
    {
      "cell_type": "code",
      "metadata": {
        "colab": {
          "base_uri": "https://localhost:8080/"
        },
        "id": "dKfVf2uLmYc2",
        "outputId": "9acfaab3-4c9f-4a0b-d1ac-3d352dfce871"
      },
      "source": [
        "model2.evaluate(test, label_test, batch_size=16)\n",
        "model2.evaluate(r_test, r_label_test, batch_size=16)"
      ],
      "execution_count": null,
      "outputs": [
        {
          "output_type": "stream",
          "text": [
            "6499/6499 [==============================] - 9s 1ms/step - loss: 0.2335 - acc: 0.9572\n",
            "94/94 [==============================] - 0s 2ms/step - loss: 1.7793 - acc: 0.6640\n"
          ],
          "name": "stdout"
        },
        {
          "output_type": "execute_result",
          "data": {
            "text/plain": [
              "[1.779349446296692, 0.6639999747276306]"
            ]
          },
          "metadata": {
            "tags": []
          },
          "execution_count": 42
        }
      ]
    },
    {
      "cell_type": "code",
      "metadata": {
        "id": "8CO8w3uTnjxr"
      },
      "source": [
        "model3_params = {'activation 1': 'relu', \n",
        "                 'activation 2': 'relu', \n",
        "                 'activation 3': 'softmax', \n",
        "                 'opt': tf.keras.optimizers.SGD(learning_rate=0.01),\n",
        "                 'loss': 'categorical_crossentropy',\n",
        "                 'epochs': 35, \n",
        "                 'batch_size': 16, \n",
        "                 }"
      ],
      "execution_count": null,
      "outputs": []
    },
    {
      "cell_type": "code",
      "metadata": {
        "colab": {
          "base_uri": "https://localhost:8080/",
          "height": 1000
        },
        "id": "Rd_DRvv2n3jX",
        "outputId": "871cf91b-7db3-4474-d9fc-a313daf93f55"
      },
      "source": [
        "model3_history, model3 = create_model(train, label_train, test, label_test, model3_params)"
      ],
      "execution_count": null,
      "outputs": [
        {
          "output_type": "stream",
          "text": [
            "Epoch 1/35\n",
            "723/723 [==============================] - 1s 2ms/step - loss: 1.7692 - acc: 0.5170\n",
            "Epoch 2/35\n",
            "723/723 [==============================] - 1s 2ms/step - loss: 1.2269 - acc: 0.5805\n",
            "Epoch 3/35\n",
            "723/723 [==============================] - 1s 2ms/step - loss: 0.9764 - acc: 0.6978\n",
            "Epoch 4/35\n",
            "723/723 [==============================] - 1s 2ms/step - loss: 0.7969 - acc: 0.7633\n",
            "Epoch 5/35\n",
            "723/723 [==============================] - 1s 2ms/step - loss: 0.6425 - acc: 0.8350\n",
            "Epoch 6/35\n",
            "723/723 [==============================] - 1s 2ms/step - loss: 0.5072 - acc: 0.8795\n",
            "Epoch 7/35\n",
            "723/723 [==============================] - 1s 2ms/step - loss: 0.4034 - acc: 0.9037\n",
            "Epoch 8/35\n",
            "723/723 [==============================] - 1s 2ms/step - loss: 0.3309 - acc: 0.9260\n",
            "Epoch 9/35\n",
            "723/723 [==============================] - 1s 2ms/step - loss: 0.2795 - acc: 0.9405\n",
            "Epoch 10/35\n",
            "723/723 [==============================] - 1s 2ms/step - loss: 0.2424 - acc: 0.9452\n",
            "Epoch 11/35\n",
            "723/723 [==============================] - 1s 2ms/step - loss: 0.2140 - acc: 0.9501\n",
            "Epoch 12/35\n",
            "723/723 [==============================] - 1s 2ms/step - loss: 0.1913 - acc: 0.9572\n",
            "Epoch 13/35\n",
            "723/723 [==============================] - 1s 2ms/step - loss: 0.1727 - acc: 0.9617\n",
            "Epoch 14/35\n",
            "723/723 [==============================] - 1s 2ms/step - loss: 0.1572 - acc: 0.9640\n",
            "Epoch 15/35\n",
            "723/723 [==============================] - 1s 2ms/step - loss: 0.1440 - acc: 0.9661\n",
            "Epoch 16/35\n",
            "723/723 [==============================] - 1s 2ms/step - loss: 0.1329 - acc: 0.9694\n",
            "Epoch 17/35\n",
            "723/723 [==============================] - 1s 2ms/step - loss: 0.1227 - acc: 0.9719\n",
            "Epoch 18/35\n",
            "723/723 [==============================] - 1s 2ms/step - loss: 0.1141 - acc: 0.9736\n",
            "Epoch 19/35\n",
            "723/723 [==============================] - 1s 2ms/step - loss: 0.1062 - acc: 0.9753\n",
            "Epoch 20/35\n",
            "723/723 [==============================] - 1s 2ms/step - loss: 0.0994 - acc: 0.9768\n",
            "Epoch 21/35\n",
            "723/723 [==============================] - 1s 2ms/step - loss: 0.0932 - acc: 0.9776\n",
            "Epoch 22/35\n",
            "723/723 [==============================] - 1s 2ms/step - loss: 0.0877 - acc: 0.9793\n",
            "Epoch 23/35\n",
            "723/723 [==============================] - 1s 2ms/step - loss: 0.0827 - acc: 0.9826\n",
            "Epoch 24/35\n",
            "723/723 [==============================] - 1s 2ms/step - loss: 0.0782 - acc: 0.9832\n",
            "Epoch 25/35\n",
            "723/723 [==============================] - 1s 2ms/step - loss: 0.0742 - acc: 0.9842\n",
            "Epoch 26/35\n",
            "723/723 [==============================] - 1s 2ms/step - loss: 0.0705 - acc: 0.9853\n",
            "Epoch 27/35\n",
            "723/723 [==============================] - 1s 2ms/step - loss: 0.0673 - acc: 0.9858\n",
            "Epoch 28/35\n",
            "723/723 [==============================] - 1s 2ms/step - loss: 0.0642 - acc: 0.9862\n",
            "Epoch 29/35\n",
            "723/723 [==============================] - 1s 2ms/step - loss: 0.0614 - acc: 0.9868\n",
            "Epoch 30/35\n",
            "723/723 [==============================] - 1s 2ms/step - loss: 0.0587 - acc: 0.9875\n",
            "Epoch 31/35\n",
            "723/723 [==============================] - 1s 2ms/step - loss: 0.0563 - acc: 0.9878\n",
            "Epoch 32/35\n",
            "723/723 [==============================] - 1s 2ms/step - loss: 0.0544 - acc: 0.9893\n",
            "Epoch 33/35\n",
            "723/723 [==============================] - 1s 2ms/step - loss: 0.0519 - acc: 0.9889\n",
            "Epoch 34/35\n",
            "723/723 [==============================] - 1s 2ms/step - loss: 0.0502 - acc: 0.9896\n",
            "Epoch 35/35\n",
            "723/723 [==============================] - 1s 2ms/step - loss: 0.0485 - acc: 0.9900\n",
            "<bound method Model.summary of <tensorflow.python.keras.engine.sequential.Sequential object at 0x7f08c0067048>>\n"
          ],
          "name": "stdout"
        },
        {
          "output_type": "display_data",
          "data": {
            "image/png": "[encoded data removed]",
            "text/plain": [
              "<Figure size 720x504 with 1 Axes>"
            ]
          },
          "metadata": {
            "tags": [],
            "needs_background": "light"
          }
        }
      ]
    },
    {
      "cell_type": "code",
      "metadata": {
        "colab": {
          "base_uri": "https://localhost:8080/"
        },
        "id": "mKwe9HGOoeZt",
        "outputId": "62231761-ff50-47b9-d8a0-7794ce5de47d"
      },
      "source": [
        "model3.evaluate(test, label_test, batch_size=16)\n",
        "model3.evaluate(r_test, r_label_test, batch_size=16)"
      ],
      "execution_count": null,
      "outputs": [
        {
          "output_type": "stream",
          "text": [
            "6499/6499 [==============================] - 8s 1ms/step - loss: 0.0643 - acc: 0.9847\n",
            "94/94 [==============================] - 0s 2ms/step - loss: 1.6446 - acc: 0.6847\n"
          ],
          "name": "stdout"
        },
        {
          "output_type": "execute_result",
          "data": {
            "text/plain": [
              "[1.6445579528808594, 0.6846666932106018]"
            ]
          },
          "metadata": {
            "tags": []
          },
          "execution_count": 45
        }
      ]
    },
    {
      "cell_type": "code",
      "metadata": {
        "id": "6pC602vWqEXs"
      },
      "source": [
        "model4_params = {'activation 1': 'sigmoid', \n",
        "                 'activation 2': 'relu', \n",
        "                 'activation 3': 'softmax', \n",
        "                 'opt': tf.keras.optimizers.SGD(learning_rate=0.01),\n",
        "                 'loss': 'categorical_crossentropy',\n",
        "                 'epochs': 20, \n",
        "                 'batch_size': 1, \n",
        "                 }"
      ],
      "execution_count": null,
      "outputs": []
    },
    {
      "cell_type": "code",
      "metadata": {
        "colab": {
          "base_uri": "https://localhost:8080/",
          "height": 1000
        },
        "id": "7K7-TnuiqPNa",
        "outputId": "cb436da1-7dbb-41bb-88f2-415e9fc03904"
      },
      "source": [
        "model4_history, model4 = create_model(train, label_train, test, label_test, model4_params)"
      ],
      "execution_count": null,
      "outputs": [
        {
          "output_type": "stream",
          "text": [
            "Epoch 1/20\n",
            "11554/11554 [==============================] - 17s 1ms/step - loss: 1.1594 - acc: 0.6370\n",
            "Epoch 2/20\n",
            "11554/11554 [==============================] - 16s 1ms/step - loss: 0.5466 - acc: 0.8536\n",
            "Epoch 3/20\n",
            "11554/11554 [==============================] - 16s 1ms/step - loss: 0.2642 - acc: 0.9347\n",
            "Epoch 4/20\n",
            "11554/11554 [==============================] - 16s 1ms/step - loss: 0.1661 - acc: 0.9564\n",
            "Epoch 5/20\n",
            "11554/11554 [==============================] - 16s 1ms/step - loss: 0.1195 - acc: 0.9681\n",
            "Epoch 6/20\n",
            "11554/11554 [==============================] - 16s 1ms/step - loss: 0.0950 - acc: 0.9751\n",
            "Epoch 7/20\n",
            "11554/11554 [==============================] - 16s 1ms/step - loss: 0.0753 - acc: 0.9804\n",
            "Epoch 8/20\n",
            "11554/11554 [==============================] - 16s 1ms/step - loss: 0.0639 - acc: 0.9839\n",
            "Epoch 9/20\n",
            "11554/11554 [==============================] - 16s 1ms/step - loss: 0.0538 - acc: 0.9865\n",
            "Epoch 10/20\n",
            "11554/11554 [==============================] - 16s 1ms/step - loss: 0.0497 - acc: 0.9878\n",
            "Epoch 11/20\n",
            "11554/11554 [==============================] - 17s 2ms/step - loss: 0.0426 - acc: 0.9907\n",
            "Epoch 12/20\n",
            "11554/11554 [==============================] - 16s 1ms/step - loss: 0.0403 - acc: 0.9907\n",
            "Epoch 13/20\n",
            "11554/11554 [==============================] - 16s 1ms/step - loss: 0.0354 - acc: 0.9913\n",
            "Epoch 14/20\n",
            "11554/11554 [==============================] - 16s 1ms/step - loss: 0.0320 - acc: 0.9919\n",
            "Epoch 15/20\n",
            "11554/11554 [==============================] - 16s 1ms/step - loss: 0.0271 - acc: 0.9940\n",
            "Epoch 16/20\n",
            "11554/11554 [==============================] - 16s 1ms/step - loss: 0.0262 - acc: 0.9942\n",
            "Epoch 17/20\n",
            "11554/11554 [==============================] - 16s 1ms/step - loss: 0.0244 - acc: 0.9938\n",
            "Epoch 18/20\n",
            "11554/11554 [==============================] - 16s 1ms/step - loss: 0.0236 - acc: 0.9939\n",
            "Epoch 19/20\n",
            "11554/11554 [==============================] - 16s 1ms/step - loss: 0.0215 - acc: 0.9945\n",
            "Epoch 20/20\n",
            "11554/11554 [==============================] - 16s 1ms/step - loss: 0.0207 - acc: 0.9947\n",
            "<bound method Model.summary of <tensorflow.python.keras.engine.sequential.Sequential object at 0x7f08bc5c5400>>\n"
          ],
          "name": "stdout"
        },
        {
          "output_type": "display_data",
          "data": {
            "image/png": "[encoded data removed]",
            "text/plain": [
              "<Figure size 720x504 with 1 Axes>"
            ]
          },
          "metadata": {
            "tags": [],
            "needs_background": "light"
          }
        }
      ]
    },
    {
      "cell_type": "code",
      "metadata": {
        "colab": {
          "base_uri": "https://localhost:8080/"
        },
        "id": "BQbxMlUUysU0",
        "outputId": "7ee94bda-b201-4bb9-ef01-30b8ab35f4a0"
      },
      "source": [
        "model4.evaluate(test, label_test, batch_size=1)\n",
        "model4.evaluate(r_test, r_label_test, batch_size=1)"
      ],
      "execution_count": null,
      "outputs": [
        {
          "output_type": "stream",
          "text": [
            "     1/103984 [..............................] - ETA: 36s - loss: 0.0000e+00 - acc: 1.0000WARNING:tensorflow:Callbacks method `on_test_batch_end` is slow compared to the batch time (batch time: 0.0010s vs `on_test_batch_end` time: 0.0017s). Check your callbacks.\n",
            "103984/103984 [==============================] - 125s 1ms/step - loss: 0.0480 - acc: 0.9902\n",
            "1500/1500 [==============================] - 2s 1ms/step - loss: 2.9469 - acc: 0.6733\n"
          ],
          "name": "stdout"
        },
        {
          "output_type": "execute_result",
          "data": {
            "text/plain": [
              "[2.946913480758667, 0.6733333468437195]"
            ]
          },
          "metadata": {
            "tags": []
          },
          "execution_count": 48
        }
      ]
    },
    {
      "cell_type": "code",
      "metadata": {
        "colab": {
          "base_uri": "https://localhost:8080/"
        },
        "id": "l8EMtKM143FT",
        "outputId": "0848be84-05d1-4393-d58f-4b2105fc39f7"
      },
      "source": [
        "label_preds = model3.predict_classes(r_descriptor_onehot)\n",
        "label_preds_onehot = to_categorical(label_preds)"
      ],
      "execution_count": null,
      "outputs": [
        {
          "output_type": "stream",
          "text": [
            "WARNING:tensorflow:From <ipython-input-49-a24ff00c5c6e>:1: Sequential.predict_classes (from tensorflow.python.keras.engine.sequential) is deprecated and will be removed after 2021-01-01.\n",
            "Instructions for updating:\n",
            "Please use instead:* `np.argmax(model.predict(x), axis=-1)`,   if your model does multi-class classification   (e.g. if it uses a `softmax` last-layer activation).* `(model.predict(x) > 0.5).astype(\"int32\")`,   if your model does binary classification   (e.g. if it uses a `sigmoid` last-layer activation).\n"
          ],
          "name": "stdout"
        }
      ]
    },
    {
      "cell_type": "code",
      "metadata": {
        "id": "fiHQNsVupk2W"
      },
      "source": [
        "cf_matrix = confusion_matrix(r_agency_cat, label_preds)"
      ],
      "execution_count": null,
      "outputs": []
    },
    {
      "cell_type": "code",
      "metadata": {
        "colab": {
          "base_uri": "https://localhost:8080/"
        },
        "id": "9VxZFJDWumpA",
        "outputId": "42cbe3b7-14ae-4d6e-b5d2-620cf564f91e"
      },
      "source": [
        "plt.figure(figsize=(13, 13))\n",
        "plt.title('Confusion Matrix: Predictions on Random Sample', \n",
        "          fontdict={'fontsize': 16, 'family': 'serif', 'color': '#58508d', 'weight': 'bold'})\n",
        "\n",
        "sns.heatmap(cf_matrix/np.sum(cf_matrix), annot=True, xticklabels=le.classes_, yticklabels=le.classes_,\n",
        "            fmt='.2%', cmap='Reds')\n",
        "plt.ylabel('True Agency')\n",
        "plt.xlabel('Predicted Agency')"
      ],
      "execution_count": null,
      "outputs": [
        {
          "output_type": "execute_result",
          "data": {
            "text/plain": [
              "Text(0.5, 96.0, 'Predicted Agency')"
            ]
          },
          "metadata": {
            "tags": []
          },
          "execution_count": 51
        },
        {
          "output_type": "display_data",
          "data": {
            "image/png": "[encoded data removed]",
            "text/plain": [
              "<Figure size 936x936 with 2 Axes>"
            ]
          },
          "metadata": {
            "tags": [],
            "needs_background": "light"
          }
        }
      ]
    },
    {
      "cell_type": "code",
      "metadata": {
        "colab": {
          "base_uri": "https://localhost:8080/"
        },
        "id": "GfF2yAgkx66A",
        "outputId": "564f3d55-da1b-4ea0-afae-ff9ba7bb71af"
      },
      "source": [
        "# model3.save('/content/drive/MyDrive/Colab Notebooks')"
      ],
      "execution_count": null,
      "outputs": [
        {
          "output_type": "stream",
          "text": [
            "WARNING:tensorflow:From /usr/local/lib/python3.6/dist-packages/tensorflow/python/training/tracking/tracking.py:111: Model.state_updates (from tensorflow.python.keras.engine.training) is deprecated and will be removed in a future version.\n",
            "Instructions for updating:\n",
            "This property should not be used in TensorFlow 2.0, as updates are applied automatically.\n",
            "WARNING:tensorflow:From /usr/local/lib/python3.6/dist-packages/tensorflow/python/training/tracking/tracking.py:111: Layer.updates (from tensorflow.python.keras.engine.base_layer) is deprecated and will be removed in a future version.\n",
            "Instructions for updating:\n",
            "This property should not be used in TensorFlow 2.0, as updates are applied automatically.\n",
            "INFO:tensorflow:Assets written to: /content/drive/MyDrive/Colab Notebooks/assets\n"
          ],
          "name": "stdout"
        }
      ]
    },
    {
      "cell_type": "markdown",
      "metadata": {
        "id": "np26u_4T6h2m"
      },
      "source": [
        "# Random Forest"
      ]
    },
    {
      "cell_type": "markdown",
      "metadata": {
        "id": "zr2HFfEJ6qbs"
      },
      "source": [
        "## Baseline Model"
      ]
    },
    {
      "cell_type": "code",
      "metadata": {
        "colab": {
          "base_uri": "https://localhost:8080/"
        },
        "id": "NlbTD_VRC-hp",
        "outputId": "d8756d95-593b-493d-c429-94ecab10139c"
      },
      "source": [
        "descriptor_onehot.shape"
      ],
      "execution_count": null,
      "outputs": [
        {
          "output_type": "execute_result",
          "data": {
            "text/plain": [
              "(115538, 1110)"
            ]
          },
          "metadata": {
            "tags": []
          },
          "execution_count": 53
        }
      ]
    },
    {
      "cell_type": "code",
      "metadata": {
        "colab": {
          "base_uri": "https://localhost:8080/"
        },
        "id": "5Sfs043xDEST",
        "outputId": "6917f00d-a81d-4566-f586-edda4ca9c41d"
      },
      "source": [
        "X.shape"
      ],
      "execution_count": null,
      "outputs": [
        {
          "output_type": "execute_result",
          "data": {
            "text/plain": [
              "(115538,)"
            ]
          },
          "metadata": {
            "tags": []
          },
          "execution_count": 54
        }
      ]
    },
    {
      "cell_type": "code",
      "metadata": {
        "id": "Wyyd2qkGAahg"
      },
      "source": [
        "X = weighted_df[['latitude', 'longitude', 'month', \n",
        "       'count_hosp_clinic', 'count_libraries', 'count_parks',\n",
        "       'count_public_schools', 'crime_per_1000', 'female_20_24', \n",
        "       'female_30_34', 'female_40_44', \n",
        "       'female_45_49', 'female_50_54', 'female_55_59', 'female_60_64',\n",
        "       'male_20_24', 'male_30_34',  \n",
        "       'male_40_44', 'male_45_49', 'male_50_54', 'male_55_59', \n",
        "       'under18_rate', 'over65_rate', 'lots_total', 'lots_vacant', \n",
        "        'pct_white_nh', 'pct_black_nh', 'pct_asian_nh',\n",
        "       'pct_other_nh', 'pct_hispanic', 'mean_commute', 'pop_change_00_10',\n",
        "       'pct_clean_strts', 'unemployment', 'poverty_rate', 'lep_rate_boro',\n",
        "       'pct_hh_rent_burd', 'hour', 'day_of_week']]"
      ],
      "execution_count": null,
      "outputs": []
    },
    {
      "cell_type": "code",
      "metadata": {
        "id": "dtXLug9pDJfQ"
      },
      "source": [
        "X = pd.concat([X, pd.DataFrame(descriptor_onehot)], axis=1)"
      ],
      "execution_count": null,
      "outputs": []
    },
    {
      "cell_type": "code",
      "metadata": {
        "colab": {
          "base_uri": "https://localhost:8080/"
        },
        "id": "-gC4ai41Dhs3",
        "outputId": "e75ed9c8-f560-4050-a04a-5a5fee088eeb"
      },
      "source": [
        "X.shape"
      ],
      "execution_count": null,
      "outputs": [
        {
          "output_type": "execute_result",
          "data": {
            "text/plain": [
              "(115538, 1149)"
            ]
          },
          "metadata": {
            "tags": []
          },
          "execution_count": 57
        }
      ]
    },
    {
      "cell_type": "code",
      "metadata": {
        "id": "6YH0D99iA2Or"
      },
      "source": [
        "y = le.fit_transform(weighted_df.agency)"
      ],
      "execution_count": null,
      "outputs": []
    },
    {
      "cell_type": "code",
      "metadata": {
        "id": "Mi6qPqxmBkhC"
      },
      "source": [
        "X_train, X_test, y_train, y_test = train_test_split(X, y, test_size = 0.2, random_state = 9)"
      ],
      "execution_count": null,
      "outputs": []
    },
    {
      "cell_type": "code",
      "metadata": {
        "colab": {
          "base_uri": "https://localhost:8080/"
        },
        "id": "BkXprcls_09H",
        "outputId": "bb021383-85a2-4ee5-e2c1-b86b1eb22415"
      },
      "source": [
        "from sklearn.ensemble import RandomForestClassifier\n",
        "classifier = RandomForestClassifier(n_estimators = 10, criterion = 'entropy', random_state = 42)\n",
        "classifier.fit(X_train, y_train)"
      ],
      "execution_count": null,
      "outputs": [
        {
          "output_type": "execute_result",
          "data": {
            "text/plain": [
              "RandomForestClassifier(bootstrap=True, ccp_alpha=0.0, class_weight=None,\n",
              "                       criterion='entropy', max_depth=None, max_features='auto',\n",
              "                       max_leaf_nodes=None, max_samples=None,\n",
              "                       min_impurity_decrease=0.0, min_impurity_split=None,\n",
              "                       min_samples_leaf=1, min_samples_split=2,\n",
              "                       min_weight_fraction_leaf=0.0, n_estimators=10,\n",
              "                       n_jobs=None, oob_score=False, random_state=42, verbose=0,\n",
              "                       warm_start=False)"
            ]
          },
          "metadata": {
            "tags": []
          },
          "execution_count": 60
        }
      ]
    },
    {
      "cell_type": "code",
      "metadata": {
        "id": "Jdl3_1VvAC7G"
      },
      "source": [
        "from sklearn.metrics import plot_confusion_matrix\n",
        "def plot_cm(X_train, X_test, y_train, y_test, y_test_preds, y_train_preds):\n",
        "\n",
        "  fig, ax = plt.subplots(figsize=(10, 10))\n",
        "  plot_confusion_matrix(classifier, X_test, y_test,\n",
        "                                display_labels=list(le.classes_),\n",
        "                                cmap='viridis', xticks_rotation='vertical',\n",
        "                                normalize='true', ax=ax)\n",
        "  plt.title('Random Forest Test Confusion Matrix', fontsize=17)\n",
        "  plt.text(accuracy_score(y_test, y_test_preds))\n",
        "  plt.show()\n",
        "\n",
        "  fig, ax = plt.subplots(figsize=(10, 10))\n",
        "  plot_confusion_matrix(classifier, X_train, y_train,\n",
        "                                display_labels=list(le.classes_),\n",
        "                                cmap='viridis', xticks_rotation='vertical',\n",
        "                                normalize='true', ax=ax)\n",
        "  plt.title('Random Forest Test Confusion Matrix', fontsize=17)\n",
        "  plt.text(accuracy_score(y_train, y_train_preds))\n",
        "  plt.show()"
      ],
      "execution_count": null,
      "outputs": []
    },
    {
      "cell_type": "code",
      "metadata": {
        "id": "PtUWsSyNqCFS"
      },
      "source": [
        ""
      ],
      "execution_count": null,
      "outputs": []
    },
    {
      "cell_type": "code",
      "metadata": {
        "colab": {
          "base_uri": "https://localhost:8080/"
        },
        "id": "CkqJ8NX1CZqY",
        "outputId": "b9248a46-f44e-41c3-e378-f6c1481838f3"
      },
      "source": [
        "from sklearn.metrics import accuracy_score\n",
        "y_preds = classifier.predict(X_test)\n",
        "accuracy_score(y_test, y_preds)"
      ],
      "execution_count": null,
      "outputs": [
        {
          "output_type": "execute_result",
          "data": {
            "text/plain": [
              "0.9536956898043968"
            ]
          },
          "metadata": {
            "tags": []
          },
          "execution_count": 62
        }
      ]
    },
    {
      "cell_type": "markdown",
      "metadata": {
        "id": "e-8yPAhz6tkH"
      },
      "source": [
        "## Parameter Tuning"
      ]
    },
    {
      "cell_type": "markdown",
      "metadata": {
        "id": "buv6obDyjy8g"
      },
      "source": [
        "# References \n",
        "[Hyperparameter Optimization with Keras]('https://towardsdatascience.com/hyperparameter-optimization-with-keras-b82e6364ca53')"
      ]
    }
  ]
}