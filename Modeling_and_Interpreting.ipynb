{
  "nbformat": 4,
  "nbformat_minor": 0,
  "metadata": {
    "accelerator": "GPU",
    "colab": {
      "name": "Modeling_and_Interpreting.ipynb",
      "provenance": [],
      "collapsed_sections": [],
      "machine_shape": "hm",
      "mount_file_id": "10a_fm4-ca7ku3LV-M00YKIwEnhcBTEej",
      "authorship_tag": "ABX9TyO0Zxt5qq0vF5I9hsJki0d5",
      "include_colab_link": true
    },
    "kernelspec": {
      "display_name": "Python 3",
      "name": "python3"
    }
  },
  "cells": [
    {
      "cell_type": "markdown",
      "metadata": {
        "id": "view-in-github",
        "colab_type": "text"
      },
      "source": [
        "<a href=\"https://colab.research.google.com/github/AvonleaFisher/Analyzing-NYC-311-Service-Requests/blob/main/Modeling_and_Interpreting.ipynb\" target=\"_parent\"><img src=\"https://colab.research.google.com/assets/colab-badge.svg\" alt=\"Open In Colab\"/></a>"
      ]
    },
    {
      "cell_type": "markdown",
      "metadata": {
        "id": "BuPIppTCJQoQ"
      },
      "source": [
        "# Introduction "
      ]
    },
    {
      "cell_type": "markdown",
      "metadata": {
        "id": "zalxhpvEJQld"
      },
      "source": [
        "The aim of this section is to train a neural network that can accurately classify the agency that responded to a 311 call. In the exploratory analysis section, we saw that none of the community districts' numeric indicators were highly correlated with any of the dummy-encoded agency categories. Intuitively, one may expect the call's descriptor to be the best predictor of the responding agency, but given that the descriptors consist of natural language data, they will need to undergo additional preprocessig before being fed into a model."
      ]
    },
    {
      "cell_type": "markdown",
      "metadata": {
        "id": "EQ2JuRRPUfI6"
      },
      "source": [
        "# Loading Dependencies"
      ]
    },
    {
      "cell_type": "code",
      "metadata": {
        "id": "muoTtQYo0uhz"
      },
      "source": [
        "!pip install -U -q PyDrive\n",
        "from pydrive.auth import GoogleAuth\n",
        "from pydrive.drive import GoogleDrive\n",
        "from google.colab import auth\n",
        "from oauth2client.client import GoogleCredentials\n",
        "from sklearn.model_selection import train_test_split\n",
        "from sklearn.metrics import confusion_matrix\n",
        "\n",
        "\n",
        "import matplotlib.pyplot as plt\n",
        "import pandas as pd\n",
        "import numpy as np\n",
        "import seaborn as sns\n",
        "import random\n",
        "import re\n",
        "\n",
        "from sklearn import preprocessing\n",
        "import tensorflow as tf\n",
        "from tensorflow import keras\n",
        "from tensorflow.keras import layers\n",
        "\n",
        "from keras.preprocessing.text import Tokenizer\n",
        "from keras import models\n",
        "from keras import layers\n",
        "from keras import optimizers\n",
        "from keras.utils.np_utils import to_categorical"
      ],
      "execution_count": 1,
      "outputs": []
    },
    {
      "cell_type": "code",
      "metadata": {
        "id": "dHtsa82d0yeh"
      },
      "source": [
        "auth.authenticate_user()\n",
        "gauth = GoogleAuth()\n",
        "gauth.credentials = GoogleCredentials.get_application_default()\n",
        "drive = GoogleDrive(gauth)"
      ],
      "execution_count": 2,
      "outputs": []
    },
    {
      "cell_type": "code",
      "metadata": {
        "colab": {
          "base_uri": "https://localhost:8080/"
        },
        "id": "WZHghdba0oB5",
        "outputId": "421ed225-8f52-449a-d13c-29398b27fbe0"
      },
      "source": [
        "path = '/content/drive/MyDrive/Colab Notebooks/df_final.csv'\n",
        "df = pd.read_csv(path, index_col=0)"
      ],
      "execution_count": 3,
      "outputs": [
        {
          "output_type": "stream",
          "text": [
            "/usr/local/lib/python3.6/dist-packages/numpy/lib/arraysetops.py:569: FutureWarning: elementwise comparison failed; returning scalar instead, but in the future will perform elementwise comparison\n",
            "  mask |= (ar1 == a)\n"
          ],
          "name": "stderr"
        }
      ]
    },
    {
      "cell_type": "markdown",
      "metadata": {
        "id": "q395NFX9yEMQ"
      },
      "source": [
        "# Assessing Model Performance"
      ]
    },
    {
      "cell_type": "markdown",
      "metadata": {
        "id": "9LUNQFdHyb4p"
      },
      "source": [
        "With perfectly balanced classes, a model's accuracy is acceptable if it exceeds the expected accuracy rate of simply picking a random class. With heavily imbalanced classes, however, a model's accuracy can instead be compared to that of picking the majority class. Below is the expected accuracy rate if we were to predict that all calls in a sample were responded to by the NYPD."
      ]
    },
    {
      "cell_type": "code",
      "metadata": {
        "colab": {
          "base_uri": "https://localhost:8080/"
        },
        "id": "DNrao_hK2sFG",
        "outputId": "d7f60d4e-e0bc-4edd-bf7b-c6bfdc45ce73"
      },
      "source": [
        "len(df[df.agency =='NYPD'])/sum(df.agency.value_counts()) * 100"
      ],
      "execution_count": 4,
      "outputs": [
        {
          "output_type": "execute_result",
          "data": {
            "text/plain": [
              "52.613013902155835"
            ]
          },
          "metadata": {
            "tags": []
          },
          "execution_count": 4
        }
      ]
    },
    {
      "cell_type": "markdown",
      "metadata": {
        "id": "1TpY--8t3X-b"
      },
      "source": [
        "While the aim will be to maximize model accuracy, any classifier that is at least 54% accurate will out-perform the simple assignment of all calls to the NYPD."
      ]
    },
    {
      "cell_type": "markdown",
      "metadata": {
        "id": "W9fRwJwwMgbA"
      },
      "source": [
        "# Sampling the Data \n",
        "The dataset currently consists of more than one million rows:"
      ]
    },
    {
      "cell_type": "code",
      "metadata": {
        "colab": {
          "base_uri": "https://localhost:8080/"
        },
        "id": "mMMJh58Y8dIA",
        "outputId": "824818a5-96de-48e1-f27b-9d5b7f9b3f44"
      },
      "source": [
        "len(df)"
      ],
      "execution_count": 5,
      "outputs": [
        {
          "output_type": "execute_result",
          "data": {
            "text/plain": [
              "1379786"
            ]
          },
          "metadata": {
            "tags": []
          },
          "execution_count": 5
        }
      ]
    },
    {
      "cell_type": "markdown",
      "metadata": {
        "id": "JMUcv--x8aaY"
      },
      "source": [
        "Retrieving the training data from a representative sample, rather than the entire dataset, will save time in the training process and ideally not result in a significant decline in accuracy.\n",
        "\n",
        "In training classification models, we'll want to ensure that complaint descriptors from every agency category are represented. This way, the model will also be able to recognize encoded descriptors that correspond to agencies that rarely receive calls. However, training a model on samples of equal length from each agency may lead to confusion when it is presented with new, imbalanced data. We'll oversample the minority classes, but ensure that the largest samples are those agencies that receive the most calls. This will allow the diversity of descriptors associated with each agency to be captured in the samples. Below, we create and print a dictionary with the class weights."
      ]
    },
    {
      "cell_type": "code",
      "metadata": {
        "colab": {
          "base_uri": "https://localhost:8080/"
        },
        "id": "m2JjrNL748aM",
        "outputId": "9e45dfde-4a33-4192-e46a-f6ef788d0472"
      },
      "source": [
        "weights_dict = {}\n",
        "\n",
        "for agency, count in list(zip(df.agency.value_counts().index, df.agency.value_counts().values)):\n",
        "  weight = count/len(df)\n",
        "  weights_dict[agency] = weight\n",
        "weights_dict"
      ],
      "execution_count": 6,
      "outputs": [
        {
          "output_type": "execute_result",
          "data": {
            "text/plain": [
              "{'DCA': 0.007849768007502613,\n",
              " 'DEP': 0.057544430803037575,\n",
              " 'DOB': 0.031322248522596983,\n",
              " 'DOE': 0.0003138167802833193,\n",
              " 'DOHMH': 0.022252001397318134,\n",
              " 'DOITT': 0.00011233626084044916,\n",
              " 'DOT': 0.059362103978443034,\n",
              " 'DPR': 0.08357020581452486,\n",
              " 'DSNY': 0.04376330822315924,\n",
              " 'EDC': 0.004157891151236496,\n",
              " 'HPD': 0.12691315899711986,\n",
              " 'NYPD': 0.5261301390215584,\n",
              " 'OSE': 0.03320152545394721,\n",
              " 'TLC': 0.0035070655884318295}"
            ]
          },
          "metadata": {
            "tags": []
          },
          "execution_count": 6
        }
      ]
    },
    {
      "cell_type": "code",
      "metadata": {
        "colab": {
          "base_uri": "https://localhost:8080/"
        },
        "id": "uPPBjrs5LGG6",
        "outputId": "e2e5cb35-b914-4bf1-ad1f-f2ffcb43bb1e"
      },
      "source": [
        "df.agency.value_counts()"
      ],
      "execution_count": 7,
      "outputs": [
        {
          "output_type": "execute_result",
          "data": {
            "text/plain": [
              "NYPD     725947\n",
              "HPD      175113\n",
              "DPR      115309\n",
              "DOT       81907\n",
              "DEP       79399\n",
              "DSNY      60384\n",
              "OSE       45811\n",
              "DOB       43218\n",
              "DOHMH     30703\n",
              "DCA       10831\n",
              "EDC        5737\n",
              "TLC        4839\n",
              "DOE         433\n",
              "DOITT       155\n",
              "Name: agency, dtype: int64"
            ]
          },
          "metadata": {
            "tags": []
          },
          "execution_count": 7
        }
      ]
    },
    {
      "cell_type": "markdown",
      "metadata": {
        "id": "gh_WXYsAPfWm"
      },
      "source": [
        "Next, we'll create a new dictionary with guidelines for the number of samples to be drawn from each class. The class weights are multiplied by a term that results in the largest sample, NYPD, consisting of around 60k calls."
      ]
    },
    {
      "cell_type": "code",
      "metadata": {
        "id": "Eei-2kEy9iCS"
      },
      "source": [
        "n_samples_dict = {}\n",
        "\n",
        "for agency, weight in zip(weights_dict.keys(), weights_dict.values()):\n",
        "  n_samples = int(15**4.3 * weight)\n",
        "  n_samples_dict[agency] = n_samples"
      ],
      "execution_count": 8,
      "outputs": []
    },
    {
      "cell_type": "code",
      "metadata": {
        "colab": {
          "base_uri": "https://localhost:8080/"
        },
        "id": "qE__5eWsBH0c",
        "outputId": "d9efe84b-5f83-4a77-8f5b-a3642f433477"
      },
      "source": [
        "n_samples_dict"
      ],
      "execution_count": 9,
      "outputs": [
        {
          "output_type": "execute_result",
          "data": {
            "text/plain": [
              "{'DCA': 895,\n",
              " 'DEP': 6564,\n",
              " 'DOB': 3573,\n",
              " 'DOE': 35,\n",
              " 'DOHMH': 2538,\n",
              " 'DOITT': 12,\n",
              " 'DOT': 6771,\n",
              " 'DPR': 9533,\n",
              " 'DSNY': 4992,\n",
              " 'EDC': 474,\n",
              " 'HPD': 14477,\n",
              " 'NYPD': 60018,\n",
              " 'OSE': 3787,\n",
              " 'TLC': 400}"
            ]
          },
          "metadata": {
            "tags": []
          },
          "execution_count": 9
        }
      ]
    },
    {
      "cell_type": "markdown",
      "metadata": {
        "id": "1g8WnjUsRmw2"
      },
      "source": [
        "The below function returns weighted samples of an agency that's passed in. Agencies that appear in fewer than 400 rows are sampled with replacement, such\n",
        "that the minimum sample size is 400."
      ]
    },
    {
      "cell_type": "code",
      "metadata": {
        "id": "geHzoyWv52OZ"
      },
      "source": [
        "def get_weighted_sample(agency):\n",
        "  \n",
        "  \"\"\"Takes in an agency name as a string, and creates a subset with all rows\n",
        "     with a match in the agency column. If the number of rows is greater than \n",
        "     that of one of the minority classes, DOE, a weighted sample is returned. \n",
        "     For the two smallest minority classes, sample sizes of at least 400 are \n",
        "     returned.\"\"\"\n",
        "\n",
        "  agency_subset = df[df.agency == agency]\n",
        "\n",
        "  n_samples = n_samples_dict[agency]\n",
        "  \n",
        "  if len(agency_subset) > len(df[df.agency=='DOE']):\n",
        "    weighted_sample = agency_subset.sample(n=n_samples, random_state=6)\n",
        "  elif len(df[df.agency=='DOE']) == len(agency_subset):\n",
        "    weighted_sample = agency_subset.sample(n=433, random_state=6)\n",
        "  else:\n",
        "    weighted_sample = agency_subset.sample(n=400, replace=True, random_state=6)\n",
        "  return weighted_sample"
      ],
      "execution_count": 12,
      "outputs": []
    },
    {
      "cell_type": "markdown",
      "metadata": {
        "id": "__2PdUBESxkK"
      },
      "source": [
        "The function is applied below to each unique agency to create a dataframe of samples. These are conatenated in 'weighted_df' and the index is reset."
      ]
    },
    {
      "cell_type": "code",
      "metadata": {
        "id": "uR6-bbBC-MiY"
      },
      "source": [
        "DCA = get_weighted_sample('DCA')\n",
        "DEP = get_weighted_sample('DEP')\n",
        "DOB = get_weighted_sample('DOB')\n",
        "DOE = get_weighted_sample('DOE')\n",
        "DOHMH = get_weighted_sample('DOHMH')\n",
        "DOITT = get_weighted_sample('DOITT')\n",
        "DOT = get_weighted_sample('DOT')\n",
        "DPR = get_weighted_sample('DPR')\n",
        "DSNY = get_weighted_sample('DSNY')\n",
        "EDC = get_weighted_sample('EDC')\n",
        "HPD = get_weighted_sample('HPD')\n",
        "NYPD = get_weighted_sample('NYPD')\n",
        "OSE = get_weighted_sample('OSE')\n",
        "TLC = get_weighted_sample('TLC')"
      ],
      "execution_count": 13,
      "outputs": []
    },
    {
      "cell_type": "code",
      "metadata": {
        "id": "ny-Ss-YVFcCJ"
      },
      "source": [
        "weighted_df = pd.concat([DCA, DEP, DOB, DOE, DOHMH, \n",
        "                        DOT, DPR, DSNY, EDC, HPD, NYPD, OSE, TLC])\n",
        "weighted_df.reset_index(inplace=True)"
      ],
      "execution_count": 14,
      "outputs": []
    },
    {
      "cell_type": "markdown",
      "metadata": {
        "id": "VJ-R1hGCuT4P"
      },
      "source": [
        "In order for the model to be tested on new data, it should have exposure to every unique descriptor in the dataset. The below code creates a list of every item in the original dataframe's unique descriptors that is not found in the sample dataframe."
      ]
    },
    {
      "cell_type": "code",
      "metadata": {
        "colab": {
          "base_uri": "https://localhost:8080/"
        },
        "id": "LCKQkzBWcAJy",
        "outputId": "f91271f4-518a-4379-e202-d0e6db158551"
      },
      "source": [
        "descriptors_not_in_sample = []\n",
        "\n",
        "for i in df.descriptor.unique():\n",
        "  if i not in weighted_df.descriptor.unique():\n",
        "    descriptors_not_in_sample.append(i)\n",
        "\n",
        "descriptors_not_in_sample"
      ],
      "execution_count": 15,
      "outputs": [
        {
          "output_type": "execute_result",
          "data": {
            "text/plain": [
              "['parking card stuck in meter',\n",
              " 'bingo hall',\n",
              " 'street fair vendor',\n",
              " 'waterwaycolor ihd',\n",
              " 'oil, grease in water qd',\n",
              " 'safety inspectionretaining walls may ',\n",
              " 'sign missing or defective',\n",
              " 'removing flowers plants',\n",
              " 'allergy information',\n",
              " 'smoking signs  \"no smoking\" signs not observed on construction site',\n",
              " 'other industrial waste problem use comments for dep internal use only iz',\n",
              " 'indoor pool over capacity',\n",
              " 'wifi internet not working slow',\n",
              " 'graffiti litter on phone',\n",
              " 'vehicle report',\n",
              " 'ada ramp missing',\n",
              " 'phone blocking sidewalk',\n",
              " 'sediment',\n",
              " 'remove hydrant locking device wc',\n",
              " 'sign',\n",
              " 'auction house auctioneer',\n",
              " 'damaged telephone',\n",
              " 'broken defective',\n",
              " 'high grass',\n",
              " 'push button',\n",
              " 'no sampling required, requested information qg',\n",
              " 'cloudy or milky water qb',\n",
              " 'inspection work order dob',\n",
              " 'gutter leader',\n",
              " 'odor in sewer catch basin icb',\n",
              " 'cigarette vending machine',\n",
              " 'er resident recyc. tenant',\n",
              " 'puddle on driveway',\n",
              " 'damaged defective',\n",
              " 'ped flasher',\n",
              " 'illegal conversion of manufacturing industrial space',\n",
              " 'enclosure cap',\n",
              " 'pothole  highway',\n",
              " 'booting company',\n",
              " 'beekeeping  honeybees',\n",
              " 'veh signal sec door',\n",
              " 'immigration services',\n",
              " 'oil spill into basin sewer  small iabs',\n",
              " 'multiple st lts dayburning',\n",
              " ' overflowing litter baskets',\n",
              " 'roof gutters',\n",
              " 'manhole cover broken making noise sb',\n",
              " 'basement',\n",
              " 'material storage  unsafe',\n",
              " 'flood light lamp cycling',\n",
              " 'plants odor related problems po',\n",
              " 'milk dairy products',\n",
              " 'street con game',\n",
              " 'plate condition  dep',\n",
              " 'e asp restricted parking',\n",
              " 'pesticide',\n",
              " 'other water problem use comments qzz',\n",
              " 'skylight',\n",
              " 'shisha',\n",
              " 'scale dealer repairer',\n",
              " 'natural gas leak *for dep internal use only* hf',\n",
              " 'plate missing movedexposing hole sb',\n",
              " 'use of newly seeded lawn',\n",
              " 'waterwaysewage iha',\n",
              " 'color',\n",
              " 'newsstand',\n",
              " 'air: odor fumes, dry cleaners ad',\n",
              " ' collection truck noise',\n",
              " 'disabled device dealer',\n",
              " 'driver complaint',\n",
              " 'musical instrument',\n",
              " 'sports equipment',\n",
              " ' litter basket   request',\n",
              " 'gaming cafe',\n",
              " 'detour',\n",
              " 'inattentive',\n",
              " 'user unlicensed',\n",
              " 'amusement ride',\n",
              " 'curb violation',\n",
              " 'flood light lamp missing',\n",
              " 'foreign attachment on wood pole',\n",
              " 'sway bar',\n",
              " 'hyd valve box defective  see comments *for dep use only* wv',\n",
              " 'on messenger',\n",
              " 'b sweeping inadequate',\n",
              " 'eb sidewalk obstruction',\n",
              " 'general bad condition',\n",
              " 'sewer break sbr',\n",
              " 'guard rail  bridge',\n",
              " 'catch basin search sc',\n",
              " 'unsanitary condition',\n",
              " 'foundation',\n",
              " 'failure to post calorie information',\n",
              " 'bwso referral to water quality for dep internal use only qbwso',\n",
              " 'e street obstruction',\n",
              " 'bikes in buildings',\n",
              " 'going out of business',\n",
              " 'unauthorized film shoot',\n",
              " 'utility cover blocked',\n",
              " 'sidewalk grating  missing',\n",
              " 'noise: construction equipment  for dep internal use only ync',\n",
              " 'no dial tone',\n",
              " 'ticket broker',\n",
              " 'graffiti dirty condition',\n",
              " 'puddle on roof',\n",
              " 'not certified',\n",
              " 'illegal air conditioning during drought cjo',\n",
              " 'water',\n",
              " 'plumbing',\n",
              " 'contrary to ll  handicapped access',\n",
              " 'illegal use of hose  other cco',\n",
              " 'cp employee behaviorbcc',\n",
              " 'conflict monitor',\n",
              " 'monkey',\n",
              " 'rodent bite  pcs only',\n",
              " 'damaged leg or pole bent',\n",
              " 'a sweeping missed',\n",
              " 'flood light lamp dayburning',\n",
              " 'remove stump',\n",
              " 'e throwout',\n",
              " 'catch basin connection broken *dep internal use only* sc',\n",
              " 'fire globe missing',\n",
              " 'bracket arm broken',\n",
              " 'hitting phone cable lines',\n",
              " 'swimming pool cover',\n",
              " 'professional photographer',\n",
              " 'warning buzzer',\n",
              " 'taste',\n",
              " 'outlet cover',\n",
              " ' dsny spillage',\n",
              " 'ferret',\n",
              " 'deck inspection',\n",
              " 'bird bath',\n",
              " 'pedicab',\n",
              " 'microwave',\n",
              " 'traffic camera',\n",
              " 'glassware hanging',\n",
              " 'blocked  atm',\n",
              " 'turn signal',\n",
              " 'noise: loud music daytime mark date and time nn',\n",
              " 'suspected street cut',\n",
              " 'facility unregistered',\n",
              " 'defective hardware  dep',\n",
              " 'lane control signal',\n",
              " 'arcade',\n",
              " 'fire alarm lamp cycling',\n",
              " 'caps & chains missingfire dept use only wkmc',\n",
              " 'bracket arm loose',\n",
              " 'wood pole leaning',\n",
              " 'bracket arm bent',\n",
              " 'i street condition icenon storm',\n",
              " 'time clock maladjusted',\n",
              " 'process server',\n",
              " 'milk not pasteurized',\n",
              " 'asphalt around valve box',\n",
              " 'manhole sunken damaged raised sb',\n",
              " 'detector sensor',\n",
              " 'flooded',\n",
              " 'dead end signal',\n",
              " 'defective catch basin',\n",
              " 'e litter surveillance',\n",
              " 'damaged toilet sink',\n",
              " 'equipment malfunction',\n",
              " 'pedestrian sign',\n",
              " 'dry weather discharge  dwd',\n",
              " 'lane station',\n",
              " 'on structure',\n",
              " 'condulet cover',\n",
              " 'defective manhole cover',\n",
              " 'utility company',\n",
              " 'damaged or leaking roof',\n",
              " 'blocking sidewalk',\n",
              " 'asphalt around manhole cover',\n",
              " 'flood light lamp dim',\n",
              " 'reflector louvre',\n",
              " 'too few on duty',\n",
              " 'plants noise related problems pn',\n",
              " 'manhole cover missing emergency for dep internal use only wf',\n",
              " 'technician unlicensed',\n",
              " 'chained bike',\n",
              " 'box cover']"
            ]
          },
          "metadata": {
            "tags": []
          },
          "execution_count": 15
        }
      ]
    },
    {
      "cell_type": "markdown",
      "metadata": {
        "id": "Iim78erDu8if"
      },
      "source": [
        "The list above captures many of the less common descriptors that were not captured in the sample data. Below, we create a dataframe with all calls that match these descriptors and concatenate them with the weighted sample dataframe."
      ]
    },
    {
      "cell_type": "code",
      "metadata": {
        "id": "zdZUiYEveDap"
      },
      "source": [
        "descriptors_not_in_sample_df = df[df.descriptor.isin(descriptors_not_in_sample)]"
      ],
      "execution_count": 16,
      "outputs": []
    },
    {
      "cell_type": "code",
      "metadata": {
        "id": "XTy5NgSAezLu"
      },
      "source": [
        "weighted_df = pd.concat([DCA, DEP, DOB, DOE, DOHMH, DOT, \n",
        "                         DPR, DSNY, EDC, HPD, NYPD, OSE, TLC,\n",
        "                         descriptors_not_in_sample_df])\n",
        "weighted_df.reset_index(inplace=True)"
      ],
      "execution_count": 17,
      "outputs": []
    },
    {
      "cell_type": "code",
      "metadata": {
        "colab": {
          "base_uri": "https://localhost:8080/"
        },
        "id": "Ka9F8jA5b1xJ",
        "outputId": "766c6515-d4a5-4201-d03a-b203eeb02990"
      },
      "source": [
        "#confirm that the number of unique descriptors is the same for both dataframes\n",
        "len(weighted_df.descriptor.unique()) == len(df.descriptor.unique())"
      ],
      "execution_count": 18,
      "outputs": [
        {
          "output_type": "execute_result",
          "data": {
            "text/plain": [
              "True"
            ]
          },
          "metadata": {
            "tags": []
          },
          "execution_count": 18
        }
      ]
    },
    {
      "cell_type": "markdown",
      "metadata": {
        "id": "7G-L7vYfTWXO"
      },
      "source": [
        "The classes remain imbalanced, but no agency is represented by only a handful of samples, as would have been the case with simple random sampling:"
      ]
    },
    {
      "cell_type": "code",
      "metadata": {
        "colab": {
          "base_uri": "https://localhost:8080/"
        },
        "id": "iJ_kfxRaDU69",
        "outputId": "2d471f83-0e55-4d4d-c921-bed03d88d8b4"
      },
      "source": [
        "weighted_df.agency.value_counts()"
      ],
      "execution_count": 19,
      "outputs": [
        {
          "output_type": "execute_result",
          "data": {
            "text/plain": [
              "NYPD     60023\n",
              "HPD      14532\n",
              "DPR       9568\n",
              "DOT       7078\n",
              "DEP       6781\n",
              "DSNY      5061\n",
              "OSE       3787\n",
              "DOB       3632\n",
              "DOHMH     2725\n",
              "DCA       1018\n",
              "EDC        474\n",
              "DOE        433\n",
              "TLC        423\n",
              "DOITT      155\n",
              "Name: agency, dtype: int64"
            ]
          },
          "metadata": {
            "tags": []
          },
          "execution_count": 19
        }
      ]
    },
    {
      "cell_type": "markdown",
      "metadata": {
        "id": "0Xxzm3adUPw4"
      },
      "source": [
        "# Keras Neural Network"
      ]
    },
    {
      "cell_type": "markdown",
      "metadata": {
        "id": "mEdxA7s6wc6X"
      },
      "source": [
        "## Preparing the Training and Test Data"
      ]
    },
    {
      "cell_type": "markdown",
      "metadata": {
        "id": "rQ45Wmxxwhg0"
      },
      "source": [
        "Using the dataframe of weighted samples, we assign 'X' to the descriptor column and 'y' to the agency column. "
      ]
    },
    {
      "cell_type": "code",
      "metadata": {
        "id": "XuDY4PxXbCXy"
      },
      "source": [
        "X = weighted_df.descriptor\n",
        "y = weighted_df.agency"
      ],
      "execution_count": 20,
      "outputs": []
    },
    {
      "cell_type": "markdown",
      "metadata": {
        "id": "vWtSr0A5w3qD"
      },
      "source": [
        "The [Keras Tokenizer](https://www.tensorflow.org/api_docs/python/tf/keras/preprocessing/text/Tokenizer) `fit_on_texts()` method, used below, \"updates internal vocabulary based on a list of texts.\" In this case, the list of texts is all descriptors in the weighted sample. The `texts_to_matrix()` method converts the list of texts to a Numpy matrix. Specifying the mode \"binary\" means that only the presence or absence of each item in the tokenizer's vocabulary will be accounted for in the matrix."
      ]
    },
    {
      "cell_type": "code",
      "metadata": {
        "id": "0q7gzxcYgyQ2"
      },
      "source": [
        "descriptors = X\n",
        "tokenizer = Tokenizer() \n",
        "\n",
        "tokenizer.fit_on_texts(descriptors) \n",
        "descriptor_onehot = tokenizer.texts_to_matrix(descriptors)\n",
        "word_index = tokenizer.word_index"
      ],
      "execution_count": 21,
      "outputs": []
    },
    {
      "cell_type": "markdown",
      "metadata": {
        "id": "yQMyujM_-goW"
      },
      "source": [
        "The word index is a dictionary that contains words in the tokenizer's vocabulary as keys, and integers that correspond to the keys' frequency rank as values. The first ten items of the dictionary are printed below, and we can see that the most frequent words have the lowest values. The highest value in the dictionary is 1109."
      ]
    },
    {
      "cell_type": "code",
      "metadata": {
        "colab": {
          "base_uri": "https://localhost:8080/"
        },
        "id": "tqSVnoIz3KfY",
        "outputId": "8f1f6d00-72d7-4f92-cd6e-6321b1c098f2"
      },
      "source": [
        "# reversed_word_index = dict(map(reversed, word_index.items()))\n",
        "# list(reversed_word_index.items())[0:10]\n",
        "print(list(word_index.items())[0:10])\n",
        "print('Max:', max(word_index.values()))"
      ],
      "execution_count": 22,
      "outputs": [
        {
          "output_type": "stream",
          "text": [
            "[('music', 1), ('loud', 2), ('party', 3), ('access', 4), ('no', 5), ('blocked', 6), ('hydrant', 7), ('truck', 8), ('in', 9), ('car', 10)]\n",
            "Max: 1114\n"
          ],
          "name": "stdout"
        }
      ]
    },
    {
      "cell_type": "markdown",
      "metadata": {
        "id": "58-ghEfZB5Hn"
      },
      "source": [
        "The content and shape of the one-hot encoded descriptors are displayed below."
      ]
    },
    {
      "cell_type": "code",
      "metadata": {
        "colab": {
          "base_uri": "https://localhost:8080/",
          "height": 147
        },
        "id": "W1L7LoTr3fA8",
        "outputId": "e1cdfdb7-0aaa-4f62-bfdc-5adf74a7da55"
      },
      "source": [
        "display(descriptor_onehot)\n",
        "\n",
        "print('Shape:', descriptor_onehot.shape)"
      ],
      "execution_count": 23,
      "outputs": [
        {
          "output_type": "display_data",
          "data": {
            "text/plain": [
              "array([[0., 0., 0., ..., 0., 0., 0.],\n",
              "       [0., 0., 0., ..., 0., 0., 0.],\n",
              "       [0., 0., 0., ..., 0., 0., 0.],\n",
              "       ...,\n",
              "       [0., 0., 0., ..., 0., 0., 0.],\n",
              "       [0., 0., 0., ..., 0., 0., 0.],\n",
              "       [0., 0., 0., ..., 0., 0., 0.]])"
            ]
          },
          "metadata": {
            "tags": []
          }
        },
        {
          "output_type": "stream",
          "text": [
            "Shape: (115690, 1115)\n"
          ],
          "name": "stdout"
        }
      ]
    },
    {
      "cell_type": "markdown",
      "metadata": {
        "id": "NWO_IAYWC4Mc"
      },
      "source": [
        "The number of rows is the same as the number of rows in X, and correspond to an individual call:"
      ]
    },
    {
      "cell_type": "code",
      "metadata": {
        "colab": {
          "base_uri": "https://localhost:8080/"
        },
        "id": "1zOwlHkJCtrZ",
        "outputId": "8f42a104-0a33-463c-b490-66bcd79f3a82"
      },
      "source": [
        "X.shape"
      ],
      "execution_count": 24,
      "outputs": [
        {
          "output_type": "execute_result",
          "data": {
            "text/plain": [
              "(115690,)"
            ]
          },
          "metadata": {
            "tags": []
          },
          "execution_count": 24
        }
      ]
    },
    {
      "cell_type": "markdown",
      "metadata": {
        "id": "KEr1U7bzDknt"
      },
      "source": [
        "Each column corresponds to one of 1,110 words in the tokenizer's vocabulary. If the word for a column is present in a given call's descriptor, its value at the call's corresponding row will be '1.' Otherwise, it will be '0.'"
      ]
    },
    {
      "cell_type": "markdown",
      "metadata": {
        "id": "EIw59i2XFJ12"
      },
      "source": [
        "The label encoder used below assigns a unique integer to each of the categories in the agency column. The [keras.utils.to_categorical\n",
        "](https://www.tensorflow.org/api_docs/python/tf/keras/utils/to_categorical) method \"converts a class vector (integers) to binary class matrix.\""
      ]
    },
    {
      "cell_type": "code",
      "metadata": {
        "id": "cJGOuSOohgMX"
      },
      "source": [
        "agency = y\n",
        "\n",
        "le = preprocessing.LabelEncoder() \n",
        "le.fit(agency)\n",
        "agency_cat = le.transform(agency)  \n",
        "agency_onehot = to_categorical(agency_cat)"
      ],
      "execution_count": 25,
      "outputs": []
    },
    {
      "cell_type": "markdown",
      "metadata": {
        "id": "BitB8V1fKuFb"
      },
      "source": [
        "Let's examine the content and shape of the encoded agency data:"
      ]
    },
    {
      "cell_type": "code",
      "metadata": {
        "colab": {
          "base_uri": "https://localhost:8080/",
          "height": 147
        },
        "id": "XGhGFhjcKYHQ",
        "outputId": "fe03db84-e1de-431f-9d5c-b3db5e431755"
      },
      "source": [
        "display(agency_onehot)\n",
        "print('Shape:', agency_onehot.shape)"
      ],
      "execution_count": 26,
      "outputs": [
        {
          "output_type": "display_data",
          "data": {
            "text/plain": [
              "array([[1., 0., 0., ..., 0., 0., 0.],\n",
              "       [1., 0., 0., ..., 0., 0., 0.],\n",
              "       [1., 0., 0., ..., 0., 0., 0.],\n",
              "       ...,\n",
              "       [1., 0., 0., ..., 0., 0., 0.],\n",
              "       [0., 0., 0., ..., 0., 0., 0.],\n",
              "       [0., 0., 0., ..., 0., 0., 0.]], dtype=float32)"
            ]
          },
          "metadata": {
            "tags": []
          }
        },
        {
          "output_type": "stream",
          "text": [
            "Shape: (115690, 14)\n"
          ],
          "name": "stdout"
        }
      ]
    },
    {
      "cell_type": "markdown",
      "metadata": {
        "id": "fe7mqmR7QA6y"
      },
      "source": [
        "Each row corresponds to a call, and each column corresponds to an agency. The value in a given cell indicates whether the agency in its column either responded ('1'), or did not respond ('0'), to the call in its row.\n",
        "\n",
        "Now that both X and y have been encoded, we'll create a random split of training and test data."
      ]
    },
    {
      "cell_type": "code",
      "metadata": {
        "id": "w17CTxizTvsS"
      },
      "source": [
        "test, train, label_test, label_train = train_test_split(descriptor_onehot, agency_onehot, test_size=.1, random_state=6)"
      ],
      "execution_count": 27,
      "outputs": []
    },
    {
      "cell_type": "markdown",
      "metadata": {
        "id": "fcydqkeWxrQt"
      },
      "source": [
        "## Baseline Model"
      ]
    },
    {
      "cell_type": "markdown",
      "metadata": {
        "id": "fQ7LdKjaI-kH"
      },
      "source": [
        "We'll start with a baseline model before writing a function to assess how different parameters affect the model's performance. For all of the models, we'll use the \"categorical crossentropy\" loss function, which is appropriate for multiclass classification. Accuracy will also be the performance metric used for each model, but our interpretation of the accuracy should be informed by the large number of classes and significant class imbalance."
      ]
    },
    {
      "cell_type": "code",
      "metadata": {
        "id": "xkP7CC257B1v"
      },
      "source": [
        "model1 = models.Sequential()\n",
        "\n",
        "model1.add(layers.Dense(50, activation='relu', input_shape=(test.shape[1],)))\n",
        "model1.add(layers.Dense(25, activation='relu'))\n",
        "model1.add(layers.Dense(14, activation='softmax'))\n",
        "\n",
        "opt = tf.keras.optimizers.SGD(learning_rate=0.001)\n",
        "model1.compile(optimizer=opt,\n",
        "              loss='categorical_crossentropy',\n",
        "              metrics=['acc'])"
      ],
      "execution_count": 28,
      "outputs": []
    },
    {
      "cell_type": "code",
      "metadata": {
        "colab": {
          "base_uri": "https://localhost:8080/"
        },
        "id": "cRgLsdFd7enu",
        "outputId": "b180518a-3d7b-44dc-d009-18b639c153b3"
      },
      "source": [
        "history = model1.fit(train,\n",
        "                    label_train,\n",
        "                    epochs=62,\n",
        "                    batch_size=32)"
      ],
      "execution_count": 29,
      "outputs": [
        {
          "output_type": "stream",
          "text": [
            "Epoch 1/62\n",
            "362/362 [==============================] - 1s 2ms/step - loss: 2.5909 - acc: 0.3368\n",
            "Epoch 2/62\n",
            "362/362 [==============================] - 1s 2ms/step - loss: 2.4850 - acc: 0.5221\n",
            "Epoch 3/62\n",
            "362/362 [==============================] - 1s 2ms/step - loss: 2.3713 - acc: 0.5221\n",
            "Epoch 4/62\n",
            "362/362 [==============================] - 1s 2ms/step - loss: 2.2564 - acc: 0.5221\n",
            "Epoch 5/62\n",
            "362/362 [==============================] - 1s 2ms/step - loss: 2.1343 - acc: 0.5221\n",
            "Epoch 6/62\n",
            "362/362 [==============================] - 1s 2ms/step - loss: 2.0127 - acc: 0.5221\n",
            "Epoch 7/62\n",
            "362/362 [==============================] - 1s 2ms/step - loss: 1.8996 - acc: 0.5221\n",
            "Epoch 8/62\n",
            "362/362 [==============================] - 1s 2ms/step - loss: 1.8043 - acc: 0.5221\n",
            "Epoch 9/62\n",
            "362/362 [==============================] - 1s 2ms/step - loss: 1.7324 - acc: 0.5221\n",
            "Epoch 10/62\n",
            "362/362 [==============================] - 1s 2ms/step - loss: 1.6803 - acc: 0.5221\n",
            "Epoch 11/62\n",
            "362/362 [==============================] - 1s 2ms/step - loss: 1.6400 - acc: 0.5221\n",
            "Epoch 12/62\n",
            "362/362 [==============================] - 1s 2ms/step - loss: 1.6059 - acc: 0.5221\n",
            "Epoch 13/62\n",
            "362/362 [==============================] - 1s 2ms/step - loss: 1.5749 - acc: 0.5221\n",
            "Epoch 14/62\n",
            "362/362 [==============================] - 1s 2ms/step - loss: 1.5457 - acc: 0.5221\n",
            "Epoch 15/62\n",
            "362/362 [==============================] - 1s 2ms/step - loss: 1.5182 - acc: 0.5221\n",
            "Epoch 16/62\n",
            "362/362 [==============================] - 1s 2ms/step - loss: 1.4925 - acc: 0.5221\n",
            "Epoch 17/62\n",
            "362/362 [==============================] - 1s 2ms/step - loss: 1.4684 - acc: 0.5221\n",
            "Epoch 18/62\n",
            "362/362 [==============================] - 1s 2ms/step - loss: 1.4457 - acc: 0.5221\n",
            "Epoch 19/62\n",
            "362/362 [==============================] - 1s 2ms/step - loss: 1.4242 - acc: 0.5221\n",
            "Epoch 20/62\n",
            "362/362 [==============================] - 1s 2ms/step - loss: 1.4036 - acc: 0.5221\n",
            "Epoch 21/62\n",
            "362/362 [==============================] - 1s 2ms/step - loss: 1.3838 - acc: 0.5221\n",
            "Epoch 22/62\n",
            "362/362 [==============================] - 1s 2ms/step - loss: 1.3645 - acc: 0.5221\n",
            "Epoch 23/62\n",
            "362/362 [==============================] - 1s 2ms/step - loss: 1.3455 - acc: 0.5221\n",
            "Epoch 24/62\n",
            "362/362 [==============================] - 1s 2ms/step - loss: 1.3269 - acc: 0.5221\n",
            "Epoch 25/62\n",
            "362/362 [==============================] - 1s 2ms/step - loss: 1.3087 - acc: 0.5221\n",
            "Epoch 26/62\n",
            "362/362 [==============================] - 1s 2ms/step - loss: 1.2910 - acc: 0.5259\n",
            "Epoch 27/62\n",
            "362/362 [==============================] - 1s 2ms/step - loss: 1.2740 - acc: 0.5422\n",
            "Epoch 28/62\n",
            "362/362 [==============================] - 1s 2ms/step - loss: 1.2572 - acc: 0.5426\n",
            "Epoch 29/62\n",
            "362/362 [==============================] - 1s 2ms/step - loss: 1.2406 - acc: 0.5427\n",
            "Epoch 30/62\n",
            "362/362 [==============================] - 1s 2ms/step - loss: 1.2244 - acc: 0.5463\n",
            "Epoch 31/62\n",
            "362/362 [==============================] - 1s 2ms/step - loss: 1.2085 - acc: 0.5673\n",
            "Epoch 32/62\n",
            "362/362 [==============================] - 1s 2ms/step - loss: 1.1930 - acc: 0.5775\n",
            "Epoch 33/62\n",
            "362/362 [==============================] - 1s 2ms/step - loss: 1.1775 - acc: 0.5845\n",
            "Epoch 34/62\n",
            "362/362 [==============================] - 1s 2ms/step - loss: 1.1623 - acc: 0.5975\n",
            "Epoch 35/62\n",
            "362/362 [==============================] - 1s 2ms/step - loss: 1.1474 - acc: 0.6090\n",
            "Epoch 36/62\n",
            "362/362 [==============================] - 1s 2ms/step - loss: 1.1327 - acc: 0.6201\n",
            "Epoch 37/62\n",
            "362/362 [==============================] - 1s 2ms/step - loss: 1.1184 - acc: 0.6515\n",
            "Epoch 38/62\n",
            "362/362 [==============================] - 1s 2ms/step - loss: 1.1043 - acc: 0.6740\n",
            "Epoch 39/62\n",
            "362/362 [==============================] - 1s 2ms/step - loss: 1.0904 - acc: 0.6860\n",
            "Epoch 40/62\n",
            "362/362 [==============================] - 1s 2ms/step - loss: 1.0768 - acc: 0.6897\n",
            "Epoch 41/62\n",
            "362/362 [==============================] - 1s 2ms/step - loss: 1.0633 - acc: 0.6928\n",
            "Epoch 42/62\n",
            "362/362 [==============================] - 1s 2ms/step - loss: 1.0502 - acc: 0.7004\n",
            "Epoch 43/62\n",
            "362/362 [==============================] - 1s 2ms/step - loss: 1.0372 - acc: 0.7039\n",
            "Epoch 44/62\n",
            "362/362 [==============================] - 1s 2ms/step - loss: 1.0245 - acc: 0.7049\n",
            "Epoch 45/62\n",
            "362/362 [==============================] - 1s 2ms/step - loss: 1.0120 - acc: 0.7052\n",
            "Epoch 46/62\n",
            "362/362 [==============================] - 1s 2ms/step - loss: 0.9999 - acc: 0.7085\n",
            "Epoch 47/62\n",
            "362/362 [==============================] - 1s 2ms/step - loss: 0.9879 - acc: 0.7102\n",
            "Epoch 48/62\n",
            "362/362 [==============================] - 1s 2ms/step - loss: 0.9761 - acc: 0.7135\n",
            "Epoch 49/62\n",
            "362/362 [==============================] - 1s 2ms/step - loss: 0.9646 - acc: 0.7210\n",
            "Epoch 50/62\n",
            "362/362 [==============================] - 1s 2ms/step - loss: 0.9532 - acc: 0.7249\n",
            "Epoch 51/62\n",
            "362/362 [==============================] - 1s 2ms/step - loss: 0.9420 - acc: 0.7273\n",
            "Epoch 52/62\n",
            "362/362 [==============================] - 1s 2ms/step - loss: 0.9309 - acc: 0.7294\n",
            "Epoch 53/62\n",
            "362/362 [==============================] - 1s 2ms/step - loss: 0.9200 - acc: 0.7307\n",
            "Epoch 54/62\n",
            "362/362 [==============================] - 1s 2ms/step - loss: 0.9093 - acc: 0.7368\n",
            "Epoch 55/62\n",
            "362/362 [==============================] - 1s 2ms/step - loss: 0.8988 - acc: 0.7384\n",
            "Epoch 56/62\n",
            "362/362 [==============================] - 1s 2ms/step - loss: 0.8885 - acc: 0.7421\n",
            "Epoch 57/62\n",
            "362/362 [==============================] - 1s 2ms/step - loss: 0.8784 - acc: 0.7518\n",
            "Epoch 58/62\n",
            "362/362 [==============================] - 1s 2ms/step - loss: 0.8684 - acc: 0.7556\n",
            "Epoch 59/62\n",
            "362/362 [==============================] - 1s 2ms/step - loss: 0.8586 - acc: 0.7563\n",
            "Epoch 60/62\n",
            "362/362 [==============================] - 1s 2ms/step - loss: 0.8490 - acc: 0.7576\n",
            "Epoch 61/62\n",
            "362/362 [==============================] - 1s 2ms/step - loss: 0.8396 - acc: 0.7645\n",
            "Epoch 62/62\n",
            "362/362 [==============================] - 1s 2ms/step - loss: 0.8303 - acc: 0.7689\n"
          ],
          "name": "stdout"
        }
      ]
    },
    {
      "cell_type": "code",
      "metadata": {
        "colab": {
          "base_uri": "https://localhost:8080/"
        },
        "id": "Fpz0BAQqKNf9",
        "outputId": "695aa67b-0aca-43aa-9800-cb7d91427c93"
      },
      "source": [
        "results = model1.evaluate(test, label_test, batch_size=32)"
      ],
      "execution_count": 30,
      "outputs": [
        {
          "output_type": "stream",
          "text": [
            "3254/3254 [==============================] - 6s 2ms/step - loss: 0.8362 - acc: 0.7668\n"
          ],
          "name": "stdout"
        }
      ]
    },
    {
      "cell_type": "code",
      "metadata": {
        "id": "amYF3K8pbej4"
      },
      "source": [
        "def plot_loss_acc(history):\n",
        "  plt.figure(figsize=(10,7))\n",
        "  plt.grid(color='g', linestyle='-', linewidth=.09)\n",
        "  plt.plot(history.history['loss'], label='Loss', color='#D8A7B1', linewidth=4)\n",
        "  plt.plot(history.history['acc'], label='Accuracy', color='#05234C', linewidth=4)\n",
        "  \n",
        "  title_font = {'fontsize': 14, 'family': 'serif','color': '#58508d', 'weight': 'bold'}\n",
        "  plt.title('Loss vs Accuracy', fontdict=title_font)\n",
        "\n",
        "  ax_font = {'fontsize': 12, 'family': 'serif', 'color': '#58508d', 'weight': 'bold'}\n",
        "  plt.ylabel('Value', fontdict=ax_font)\n",
        "  plt.xlabel('Epochs', fontdict=ax_font)\n",
        "\n",
        "  plt.legend(loc=\"upper right\")\n",
        "  plt.show()"
      ],
      "execution_count": 31,
      "outputs": []
    },
    {
      "cell_type": "code",
      "metadata": {
        "colab": {
          "base_uri": "https://localhost:8080/",
          "height": 462
        },
        "id": "UWoFuBe5hLco",
        "outputId": "6b389daa-5033-4582-f0d3-b899a4620d9a"
      },
      "source": [
        "plot_loss_acc(history)"
      ],
      "execution_count": 32,
      "outputs": [
        {
          "output_type": "display_data",
          "data": {
            "image/png": "[encoded data removed]",
            "text/plain": [
              "<Figure size 720x504 with 1 Axes>"
            ]
          },
          "metadata": {
            "tags": [],
            "needs_background": "light"
          }
        }
      ]
    },
    {
      "cell_type": "code",
      "metadata": {
        "id": "LXx1_N1EQalg"
      },
      "source": [
        "random_df = df.sample(len(weighted_df), random_state=6)"
      ],
      "execution_count": 33,
      "outputs": []
    },
    {
      "cell_type": "code",
      "metadata": {
        "colab": {
          "base_uri": "https://localhost:8080/"
        },
        "id": "yuQ8NFhstPu8",
        "outputId": "4fba1260-f9de-4854-a6f4-e06ba5662511"
      },
      "source": [
        "descriptors_not_in_sample = []\n",
        "\n",
        "for i in df.descriptor.unique():\n",
        "  if i not in random_df.descriptor.unique():\n",
        "    descriptors_not_in_sample.append(i)\n",
        "\n",
        "descriptors_not_in_sample"
      ],
      "execution_count": 34,
      "outputs": [
        {
          "output_type": "execute_result",
          "data": {
            "text/plain": [
              "['bingo hall',\n",
              " 'waterwaycolor ihd',\n",
              " 'oil, grease in water qd',\n",
              " 'safety inspectionretaining walls may ',\n",
              " 'allergy information',\n",
              " 'other industrial waste problem use comments for dep internal use only iz',\n",
              " 'indoor pool over capacity',\n",
              " 'jewelry appraiser',\n",
              " 'graffiti litter on phone',\n",
              " 'phone blocking sidewalk',\n",
              " 'sediment',\n",
              " 'snake',\n",
              " 'high grass',\n",
              " 'cloudy or milky, other use comments qbz',\n",
              " 'push button',\n",
              " 'cloudy or milky water qb',\n",
              " 'absent',\n",
              " 'inspection work order dob',\n",
              " 'cigarette vending machine',\n",
              " 'unauthorized posting of signs',\n",
              " 'ped flasher',\n",
              " 'enclosure cap',\n",
              " 'maintenance cover',\n",
              " 'booting company',\n",
              " 'warning signal lamp',\n",
              " 'immigration services',\n",
              " 'oil spill into basin sewer  small iabs',\n",
              " 'roof gutters',\n",
              " 'platform condition',\n",
              " 'manhole cover broken making noise sb',\n",
              " 'dogs or cats not sold',\n",
              " 'bent loose',\n",
              " 'toxic chemical material',\n",
              " 'basement',\n",
              " 'gasoline spill iaa',\n",
              " 'puddle on sidewalk',\n",
              " 'warning signal',\n",
              " 'remove debris',\n",
              " 'plants odor related problems po',\n",
              " 'street con game',\n",
              " 'temporary',\n",
              " 'inadequate support shoring',\n",
              " 'building',\n",
              " 'other water problem use comments qzz',\n",
              " 'shisha',\n",
              " 'used gun dealer',\n",
              " 'natural gas leak *for dep internal use only* hf',\n",
              " 'junction box',\n",
              " 'veh signal lens',\n",
              " 'grocery store',\n",
              " 'plate missing movedexposing hole sb',\n",
              " 'e transfer station',\n",
              " 'defective water sampling station qss',\n",
              " 'use of newly seeded lawn',\n",
              " 'color',\n",
              " 'air: odor fumes, dry cleaners ad',\n",
              " 'disabled device dealer',\n",
              " 'smoking ban  smoking on construction site',\n",
              " 'driver complaint',\n",
              " 'musical instrument',\n",
              " 'sports equipment',\n",
              " ' litter basket   request',\n",
              " 'contamination risk',\n",
              " ' dead animals',\n",
              " 'inattentive',\n",
              " 'user unlicensed',\n",
              " 'amusement ride',\n",
              " 'integrity complaint referral',\n",
              " 'curb violation',\n",
              " 'flood light lamp missing',\n",
              " 'plumbing problem',\n",
              " 'sway bar',\n",
              " 'on messenger',\n",
              " 'b sweeping inadequate',\n",
              " 'eb sidewalk obstruction',\n",
              " 'general bad condition',\n",
              " 'relocation of parking meter',\n",
              " 'ped lens',\n",
              " 'guard rail  bridge',\n",
              " 'catch basin search sc',\n",
              " 'c uncollected xmas trees',\n",
              " 'controller flasher',\n",
              " 'foundation',\n",
              " 'request to open a hydrant wc',\n",
              " 'failure to post calorie information',\n",
              " 'bwso referral to water quality for dep internal use only qbwso',\n",
              " 'snow or ice',\n",
              " 'e street obstruction',\n",
              " 'bikes in buildings',\n",
              " 'going out of business',\n",
              " 'unauthorized film shoot',\n",
              " 'utility cover blocked',\n",
              " 'sidewalk grating  missing',\n",
              " 'exposure unnecessary',\n",
              " 'noise: construction equipment  for dep internal use only ync',\n",
              " 'no dial tone',\n",
              " 'graffiti dirty condition',\n",
              " 'puddle on roof',\n",
              " 'not certified',\n",
              " 'illegal air conditioning during drought cjo',\n",
              " 'plumbing',\n",
              " 'contrary to ll  handicapped access',\n",
              " 'cp employee behaviorbcc',\n",
              " 'conflict monitor',\n",
              " 'monkey',\n",
              " 'broken window',\n",
              " 'a sweeping missed',\n",
              " 'flood light lamp dayburning',\n",
              " 'remove stump',\n",
              " 'e throwout',\n",
              " 'do not block the box',\n",
              " 'fire globe missing',\n",
              " 'bracket arm broken',\n",
              " 'vocational or trade school',\n",
              " 'hitting phone cable lines',\n",
              " 'swimming pool cover',\n",
              " 'professional photographer',\n",
              " 'warning buzzer',\n",
              " 'taste',\n",
              " 'outlet cover',\n",
              " ' dsny spillage',\n",
              " 'ferret',\n",
              " 'fountain  over  gallons',\n",
              " 'no idling',\n",
              " 'traffic camera',\n",
              " 'glassware hanging',\n",
              " 'blocked  atm',\n",
              " 'noise: other noise sources use comments nzz',\n",
              " 'noise: loud music daytime mark date and time nn',\n",
              " 'waterwayfloatables ihc',\n",
              " 'suspected street cut',\n",
              " 'controller cabinet',\n",
              " 'facility unregistered',\n",
              " 'defective hardware  dep',\n",
              " 'broken lock',\n",
              " 'lane control signal',\n",
              " 'fire alarm lamp cycling',\n",
              " 'licensee complaint',\n",
              " 'caps & chains missingfire dept use only wkmc',\n",
              " 'bracket arm loose',\n",
              " 'bracket arm bent',\n",
              " 'i street condition icenon storm',\n",
              " 'beach pool sauna unpermitted',\n",
              " 'time clock maladjusted',\n",
              " 'process server',\n",
              " 'milk not pasteurized',\n",
              " 'asphalt around valve box',\n",
              " 'manhole sunken damaged raised sb',\n",
              " 'detector sensor',\n",
              " 'flooded',\n",
              " 'dead end signal',\n",
              " 'defective catch basin',\n",
              " 'flashing hazard',\n",
              " 'e litter surveillance',\n",
              " 'damaged toilet sink',\n",
              " 'equipment malfunction',\n",
              " 'pedestrian sign',\n",
              " 'glassware missing',\n",
              " 'lane station',\n",
              " 'on structure',\n",
              " 'condulet cover',\n",
              " 'defective manhole cover',\n",
              " 'utility company',\n",
              " 'blocking sidewalk',\n",
              " 'asphalt around manhole cover',\n",
              " 'flood light lamp dim',\n",
              " 'reflector louvre',\n",
              " 'too few on duty',\n",
              " 'plants noise related problems pn',\n",
              " 'ticket scalping',\n",
              " 'manhole cover missing emergency for dep internal use only wf',\n",
              " 'technician unlicensed',\n",
              " 'chained bike',\n",
              " 'box cover']"
            ]
          },
          "metadata": {
            "tags": []
          },
          "execution_count": 34
        }
      ]
    },
    {
      "cell_type": "code",
      "metadata": {
        "id": "N5YdojXCtiNf"
      },
      "source": [
        "descriptors_not_in_sample_df = df[df.descriptor.isin(descriptors_not_in_sample)]\n",
        "random_df = pd.concat([random_df, descriptors_not_in_sample_df])\n",
        "random_df.reset_index(inplace=True)"
      ],
      "execution_count": 35,
      "outputs": []
    },
    {
      "cell_type": "code",
      "metadata": {
        "id": "yH94tmTEPgUm"
      },
      "source": [
        "random_X = random_df.descriptor\n",
        "random_y = random_df.agency"
      ],
      "execution_count": 36,
      "outputs": []
    },
    {
      "cell_type": "code",
      "metadata": {
        "id": "-mOrsN1TQRPr"
      },
      "source": [
        "r_descriptors = random_X\n",
        "tokenizer = Tokenizer() \n",
        "\n",
        "tokenizer.fit_on_texts(r_descriptors) \n",
        "r_descriptor_onehot = tokenizer.texts_to_matrix(r_descriptors, mode='binary')\n",
        "word_index = tokenizer.word_index"
      ],
      "execution_count": 37,
      "outputs": []
    },
    {
      "cell_type": "code",
      "metadata": {
        "id": "Q5Ve_W4NQX97"
      },
      "source": [
        "r_agency = random_y\n",
        "\n",
        "le = preprocessing.LabelEncoder() \n",
        "le.fit(r_agency)\n",
        "r_agency_cat = le.transform(r_agency)  \n",
        "r_agency_onehot = to_categorical(r_agency_cat)"
      ],
      "execution_count": 38,
      "outputs": []
    },
    {
      "cell_type": "code",
      "metadata": {
        "id": "c9MwlTriRHt1"
      },
      "source": [
        "random.seed(999)\n",
        "test_index = random.sample(range(1,10000), 1500)\n",
        "\n",
        "r_test = r_descriptor_onehot[test_index]\n",
        "r_label_test = r_agency_onehot[test_index]"
      ],
      "execution_count": 39,
      "outputs": []
    },
    {
      "cell_type": "code",
      "metadata": {
        "colab": {
          "base_uri": "https://localhost:8080/"
        },
        "id": "md8FyuC0RVLw",
        "outputId": "0605bac1-f546-4298-ca4f-e3f0b82303b0"
      },
      "source": [
        "random_results = model1.evaluate(r_descriptor_onehot, r_agency_onehot, batch_size=32)"
      ],
      "execution_count": 40,
      "outputs": [
        {
          "output_type": "stream",
          "text": [
            "3646/3646 [==============================] - 7s 2ms/step - loss: 1.1150 - acc: 0.6318\n"
          ],
          "name": "stdout"
        }
      ]
    },
    {
      "cell_type": "markdown",
      "metadata": {
        "id": "9TZA4Zl9x2EZ"
      },
      "source": [
        "## Parameter Tuning"
      ]
    },
    {
      "cell_type": "code",
      "metadata": {
        "id": "t1XAcgaVhHSI"
      },
      "source": [
        "def create_model(X_train, y_train, X_test, y_test, params):\n",
        "    \n",
        "    model = models.Sequential()\n",
        "    model.add(layers.Dense(50, activation=params['activation 1'], input_shape=(test.shape[1],)))\n",
        "    model.add(layers.Dense(25, activation=params['activation 2']))\n",
        "    model.add(layers.Dense(14, activation=params['activation 3']))\n",
        "\n",
        "    opt = params['opt']\n",
        "    model.compile(optimizer=opt,\n",
        "              loss=params['loss'],\n",
        "              metrics=['acc'])\n",
        "    \n",
        "    history = model.fit(X_train,\n",
        "                    y_train,\n",
        "                    epochs=params['epochs'],\n",
        "                    batch_size=params['batch_size'])\n",
        "    \n",
        "    print(model.summary)\n",
        "\n",
        "    plot_loss_acc(history)\n",
        "    \n",
        "    return history, model"
      ],
      "execution_count": 41,
      "outputs": []
    },
    {
      "cell_type": "code",
      "metadata": {
        "id": "e6QqNu9vI5Bb"
      },
      "source": [
        "model2_params = {'activation 1': 'relu', \n",
        "                 'activation 2': 'softmax', \n",
        "                 'activation 3': 'softmax', \n",
        "                 'opt': keras.optimizers.Adam(lr=0.0001),\n",
        "                 'loss': 'categorical_crossentropy',\n",
        "                 'epochs': 75, \n",
        "                 'batch_size': 16, \n",
        "                 }"
      ],
      "execution_count": 42,
      "outputs": []
    },
    {
      "cell_type": "code",
      "metadata": {
        "colab": {
          "base_uri": "https://localhost:8080/",
          "height": 1000
        },
        "id": "qznZkA3tKeWi",
        "outputId": "b6daaef4-234a-480a-c68e-bbf769304bab"
      },
      "source": [
        "model2_history, model2 = create_model(train, label_train, test, label_test, model2_params)"
      ],
      "execution_count": 43,
      "outputs": [
        {
          "output_type": "stream",
          "text": [
            "Epoch 1/75\n",
            "724/724 [==============================] - 2s 2ms/step - loss: 2.5198 - acc: 0.5082\n",
            "Epoch 2/75\n",
            "724/724 [==============================] - 2s 2ms/step - loss: 2.3051 - acc: 0.5221\n",
            "Epoch 3/75\n",
            "724/724 [==============================] - 2s 2ms/step - loss: 2.0944 - acc: 0.5221\n",
            "Epoch 4/75\n",
            "724/724 [==============================] - 2s 2ms/step - loss: 1.9150 - acc: 0.5678\n",
            "Epoch 5/75\n",
            "724/724 [==============================] - 2s 2ms/step - loss: 1.7569 - acc: 0.6383\n",
            "Epoch 6/75\n",
            "724/724 [==============================] - 2s 2ms/step - loss: 1.6287 - acc: 0.6562\n",
            "Epoch 7/75\n",
            "724/724 [==============================] - 2s 2ms/step - loss: 1.5233 - acc: 0.6769\n",
            "Epoch 8/75\n",
            "724/724 [==============================] - 2s 2ms/step - loss: 1.4351 - acc: 0.7370\n",
            "Epoch 9/75\n",
            "724/724 [==============================] - 2s 2ms/step - loss: 1.3600 - acc: 0.7429\n",
            "Epoch 10/75\n",
            "724/724 [==============================] - 2s 2ms/step - loss: 1.2950 - acc: 0.7485\n",
            "Epoch 11/75\n",
            "724/724 [==============================] - 2s 2ms/step - loss: 1.2383 - acc: 0.7497\n",
            "Epoch 12/75\n",
            "724/724 [==============================] - 2s 2ms/step - loss: 1.1880 - acc: 0.7511\n",
            "Epoch 13/75\n",
            "724/724 [==============================] - 2s 2ms/step - loss: 1.1426 - acc: 0.7523\n",
            "Epoch 14/75\n",
            "724/724 [==============================] - 2s 2ms/step - loss: 1.0992 - acc: 0.7532\n",
            "Epoch 15/75\n",
            "724/724 [==============================] - 2s 2ms/step - loss: 1.0587 - acc: 0.7532\n",
            "Epoch 16/75\n",
            "724/724 [==============================] - 2s 3ms/step - loss: 1.0154 - acc: 0.7532\n",
            "Epoch 17/75\n",
            "724/724 [==============================] - 2s 3ms/step - loss: 0.9710 - acc: 0.7531\n",
            "Epoch 18/75\n",
            "724/724 [==============================] - 2s 3ms/step - loss: 0.9235 - acc: 0.7532\n",
            "Epoch 19/75\n",
            "724/724 [==============================] - 2s 3ms/step - loss: 0.8768 - acc: 0.7540\n",
            "Epoch 20/75\n",
            "724/724 [==============================] - 2s 3ms/step - loss: 0.8259 - acc: 0.7614\n",
            "Epoch 21/75\n",
            "724/724 [==============================] - 2s 2ms/step - loss: 0.7863 - acc: 0.7718\n",
            "Epoch 22/75\n",
            "724/724 [==============================] - 2s 2ms/step - loss: 0.7522 - acc: 0.7805\n",
            "Epoch 23/75\n",
            "724/724 [==============================] - 2s 2ms/step - loss: 0.7212 - acc: 0.8058\n",
            "Epoch 24/75\n",
            "724/724 [==============================] - 2s 2ms/step - loss: 0.6926 - acc: 0.8388\n",
            "Epoch 25/75\n",
            "724/724 [==============================] - 2s 2ms/step - loss: 0.6659 - acc: 0.8453\n",
            "Epoch 26/75\n",
            "724/724 [==============================] - 2s 2ms/step - loss: 0.6410 - acc: 0.8461\n",
            "Epoch 27/75\n",
            "724/724 [==============================] - 2s 2ms/step - loss: 0.6177 - acc: 0.8468\n",
            "Epoch 28/75\n",
            "724/724 [==============================] - 2s 2ms/step - loss: 0.5958 - acc: 0.8593\n",
            "Epoch 29/75\n",
            "724/724 [==============================] - 2s 2ms/step - loss: 0.5753 - acc: 0.8943\n",
            "Epoch 30/75\n",
            "724/724 [==============================] - 2s 2ms/step - loss: 0.5559 - acc: 0.8997\n",
            "Epoch 31/75\n",
            "724/724 [==============================] - 2s 2ms/step - loss: 0.5376 - acc: 0.9015\n",
            "Epoch 32/75\n",
            "724/724 [==============================] - 2s 2ms/step - loss: 0.5205 - acc: 0.9040\n",
            "Epoch 33/75\n",
            "724/724 [==============================] - 2s 2ms/step - loss: 0.5043 - acc: 0.9048\n",
            "Epoch 34/75\n",
            "724/724 [==============================] - 2s 2ms/step - loss: 0.4889 - acc: 0.9053\n",
            "Epoch 35/75\n",
            "724/724 [==============================] - 2s 2ms/step - loss: 0.4743 - acc: 0.9055\n",
            "Epoch 36/75\n",
            "724/724 [==============================] - 2s 2ms/step - loss: 0.4604 - acc: 0.9058\n",
            "Epoch 37/75\n",
            "724/724 [==============================] - 2s 2ms/step - loss: 0.4472 - acc: 0.9060\n",
            "Epoch 38/75\n",
            "724/724 [==============================] - 2s 2ms/step - loss: 0.4346 - acc: 0.9061\n",
            "Epoch 39/75\n",
            "724/724 [==============================] - 2s 2ms/step - loss: 0.4223 - acc: 0.9081\n",
            "Epoch 40/75\n",
            "724/724 [==============================] - 2s 2ms/step - loss: 0.4106 - acc: 0.9122\n",
            "Epoch 41/75\n",
            "724/724 [==============================] - 2s 2ms/step - loss: 0.3991 - acc: 0.9132\n",
            "Epoch 42/75\n",
            "724/724 [==============================] - 2s 2ms/step - loss: 0.3878 - acc: 0.9135\n",
            "Epoch 43/75\n",
            "724/724 [==============================] - 2s 2ms/step - loss: 0.3773 - acc: 0.9136\n",
            "Epoch 44/75\n",
            "724/724 [==============================] - 2s 2ms/step - loss: 0.3673 - acc: 0.9139\n",
            "Epoch 45/75\n",
            "724/724 [==============================] - 2s 2ms/step - loss: 0.3579 - acc: 0.9142\n",
            "Epoch 46/75\n",
            "724/724 [==============================] - 2s 2ms/step - loss: 0.3490 - acc: 0.9143\n",
            "Epoch 47/75\n",
            "724/724 [==============================] - 2s 2ms/step - loss: 0.3404 - acc: 0.9145\n",
            "Epoch 48/75\n",
            "724/724 [==============================] - 2s 2ms/step - loss: 0.3322 - acc: 0.9146\n",
            "Epoch 49/75\n",
            "724/724 [==============================] - 2s 2ms/step - loss: 0.3244 - acc: 0.9154\n",
            "Epoch 50/75\n",
            "724/724 [==============================] - 2s 2ms/step - loss: 0.3170 - acc: 0.9154\n",
            "Epoch 51/75\n",
            "724/724 [==============================] - 2s 2ms/step - loss: 0.3100 - acc: 0.9155\n",
            "Epoch 52/75\n",
            "724/724 [==============================] - 2s 2ms/step - loss: 0.3031 - acc: 0.9156\n",
            "Epoch 53/75\n",
            "724/724 [==============================] - 2s 2ms/step - loss: 0.2962 - acc: 0.9157\n",
            "Epoch 54/75\n",
            "724/724 [==============================] - 2s 2ms/step - loss: 0.2883 - acc: 0.9156\n",
            "Epoch 55/75\n",
            "724/724 [==============================] - 2s 2ms/step - loss: 0.2805 - acc: 0.9156\n",
            "Epoch 56/75\n",
            "724/724 [==============================] - 2s 2ms/step - loss: 0.2736 - acc: 0.9157\n",
            "Epoch 57/75\n",
            "724/724 [==============================] - 2s 2ms/step - loss: 0.2673 - acc: 0.9160\n",
            "Epoch 58/75\n",
            "724/724 [==============================] - 2s 2ms/step - loss: 0.2614 - acc: 0.9162\n",
            "Epoch 59/75\n",
            "724/724 [==============================] - 2s 2ms/step - loss: 0.2556 - acc: 0.9169\n",
            "Epoch 60/75\n",
            "724/724 [==============================] - 2s 2ms/step - loss: 0.2500 - acc: 0.9172\n",
            "Epoch 61/75\n",
            "724/724 [==============================] - 2s 2ms/step - loss: 0.2446 - acc: 0.9181\n",
            "Epoch 62/75\n",
            "724/724 [==============================] - 2s 2ms/step - loss: 0.2394 - acc: 0.9234\n",
            "Epoch 63/75\n",
            "724/724 [==============================] - 2s 2ms/step - loss: 0.2344 - acc: 0.9339\n",
            "Epoch 64/75\n",
            "724/724 [==============================] - 2s 2ms/step - loss: 0.2296 - acc: 0.9379\n",
            "Epoch 65/75\n",
            "724/724 [==============================] - 2s 2ms/step - loss: 0.2248 - acc: 0.9681\n",
            "Epoch 66/75\n",
            "724/724 [==============================] - 2s 2ms/step - loss: 0.2204 - acc: 0.9804\n",
            "Epoch 67/75\n",
            "724/724 [==============================] - 2s 2ms/step - loss: 0.2160 - acc: 0.9809\n",
            "Epoch 68/75\n",
            "724/724 [==============================] - 2s 2ms/step - loss: 0.2117 - acc: 0.9814\n",
            "Epoch 69/75\n",
            "724/724 [==============================] - 2s 2ms/step - loss: 0.2075 - acc: 0.9813\n",
            "Epoch 70/75\n",
            "724/724 [==============================] - 2s 2ms/step - loss: 0.2037 - acc: 0.9816\n",
            "Epoch 71/75\n",
            "724/724 [==============================] - 2s 2ms/step - loss: 0.1996 - acc: 0.9817\n",
            "Epoch 72/75\n",
            "724/724 [==============================] - 2s 2ms/step - loss: 0.1959 - acc: 0.9818\n",
            "Epoch 73/75\n",
            "724/724 [==============================] - 2s 2ms/step - loss: 0.1923 - acc: 0.9819\n",
            "Epoch 74/75\n",
            "724/724 [==============================] - 2s 2ms/step - loss: 0.1889 - acc: 0.9822\n",
            "Epoch 75/75\n",
            "724/724 [==============================] - 2s 2ms/step - loss: 0.1853 - acc: 0.9823\n",
            "<bound method Model.summary of <tensorflow.python.keras.engine.sequential.Sequential object at 0x7f7c502aaeb8>>\n"
          ],
          "name": "stdout"
        },
        {
          "output_type": "display_data",
          "data": {
            "image/png": "[encoded data removed]",
            "text/plain": [
              "<Figure size 720x504 with 1 Axes>"
            ]
          },
          "metadata": {
            "tags": [],
            "needs_background": "light"
          }
        }
      ]
    },
    {
      "cell_type": "code",
      "metadata": {
        "colab": {
          "base_uri": "https://localhost:8080/"
        },
        "id": "dKfVf2uLmYc2",
        "outputId": "7a357d71-7460-4d0f-ada6-dc7b085c1a51"
      },
      "source": [
        "model2.evaluate(test, label_test, batch_size=16)\n",
        "model2.evaluate(r_test, r_label_test, batch_size=16)"
      ],
      "execution_count": 44,
      "outputs": [
        {
          "output_type": "stream",
          "text": [
            "6508/6508 [==============================] - 12s 2ms/step - loss: 0.2060 - acc: 0.9750\n",
            "94/94 [==============================] - 0s 2ms/step - loss: 1.7828 - acc: 0.6387\n"
          ],
          "name": "stdout"
        },
        {
          "output_type": "execute_result",
          "data": {
            "text/plain": [
              "[1.7828254699707031, 0.6386666893959045]"
            ]
          },
          "metadata": {
            "tags": []
          },
          "execution_count": 44
        }
      ]
    },
    {
      "cell_type": "code",
      "metadata": {
        "id": "8CO8w3uTnjxr"
      },
      "source": [
        "model3_params = {'activation 1': 'relu', \n",
        "                 'activation 2': 'relu', \n",
        "                 'activation 3': 'softmax', \n",
        "                 'opt': tf.keras.optimizers.SGD(learning_rate=0.01),\n",
        "                 'loss': 'categorical_crossentropy',\n",
        "                 'epochs': 45, \n",
        "                 'batch_size': 16, \n",
        "                 }"
      ],
      "execution_count": 45,
      "outputs": []
    },
    {
      "cell_type": "code",
      "metadata": {
        "colab": {
          "base_uri": "https://localhost:8080/",
          "height": 1000
        },
        "id": "Rd_DRvv2n3jX",
        "outputId": "444d4cf8-8d0b-4ee5-c07c-0d9a03cf24bb"
      },
      "source": [
        "model3_history, model3 = create_model(train, label_train, test, label_test, model3_params)"
      ],
      "execution_count": 46,
      "outputs": [
        {
          "output_type": "stream",
          "text": [
            "Epoch 1/45\n",
            "724/724 [==============================] - 2s 2ms/step - loss: 1.6815 - acc: 0.5115\n",
            "Epoch 2/45\n",
            "724/724 [==============================] - 2s 2ms/step - loss: 1.1587 - acc: 0.5938\n",
            "Epoch 3/45\n",
            "724/724 [==============================] - 2s 2ms/step - loss: 0.9094 - acc: 0.7117\n",
            "Epoch 4/45\n",
            "724/724 [==============================] - 2s 2ms/step - loss: 0.7178 - acc: 0.8083\n",
            "Epoch 5/45\n",
            "724/724 [==============================] - 2s 2ms/step - loss: 0.5510 - acc: 0.8730\n",
            "Epoch 6/45\n",
            "724/724 [==============================] - 2s 2ms/step - loss: 0.4261 - acc: 0.9027\n",
            "Epoch 7/45\n",
            "724/724 [==============================] - 2s 2ms/step - loss: 0.3418 - acc: 0.9203\n",
            "Epoch 8/45\n",
            "724/724 [==============================] - 2s 2ms/step - loss: 0.2848 - acc: 0.9366\n",
            "Epoch 9/45\n",
            "724/724 [==============================] - 2s 2ms/step - loss: 0.2447 - acc: 0.9463\n",
            "Epoch 10/45\n",
            "724/724 [==============================] - 2s 2ms/step - loss: 0.2144 - acc: 0.9519\n",
            "Epoch 11/45\n",
            "724/724 [==============================] - 1s 2ms/step - loss: 0.1910 - acc: 0.9565\n",
            "Epoch 12/45\n",
            "724/724 [==============================] - 1s 2ms/step - loss: 0.1722 - acc: 0.9597\n",
            "Epoch 13/45\n",
            "724/724 [==============================] - 2s 2ms/step - loss: 0.1564 - acc: 0.9627\n",
            "Epoch 14/45\n",
            "724/724 [==============================] - 2s 2ms/step - loss: 0.1436 - acc: 0.9679\n",
            "Epoch 15/45\n",
            "724/724 [==============================] - 2s 2ms/step - loss: 0.1323 - acc: 0.9698\n",
            "Epoch 16/45\n",
            "724/724 [==============================] - 2s 2ms/step - loss: 0.1229 - acc: 0.9717\n",
            "Epoch 17/45\n",
            "724/724 [==============================] - 2s 2ms/step - loss: 0.1143 - acc: 0.9730\n",
            "Epoch 18/45\n",
            "724/724 [==============================] - 2s 2ms/step - loss: 0.1068 - acc: 0.9752\n",
            "Epoch 19/45\n",
            "724/724 [==============================] - 2s 2ms/step - loss: 0.1000 - acc: 0.9765\n",
            "Epoch 20/45\n",
            "724/724 [==============================] - 2s 2ms/step - loss: 0.0939 - acc: 0.9776\n",
            "Epoch 21/45\n",
            "724/724 [==============================] - 2s 2ms/step - loss: 0.0884 - acc: 0.9779\n",
            "Epoch 22/45\n",
            "724/724 [==============================] - 2s 2ms/step - loss: 0.0833 - acc: 0.9784\n",
            "Epoch 23/45\n",
            "724/724 [==============================] - 2s 2ms/step - loss: 0.0788 - acc: 0.9793\n",
            "Epoch 24/45\n",
            "724/724 [==============================] - 2s 2ms/step - loss: 0.0745 - acc: 0.9809\n",
            "Epoch 25/45\n",
            "724/724 [==============================] - 2s 2ms/step - loss: 0.0707 - acc: 0.9813\n",
            "Epoch 26/45\n",
            "724/724 [==============================] - 2s 2ms/step - loss: 0.0671 - acc: 0.9844\n",
            "Epoch 27/45\n",
            "724/724 [==============================] - 2s 2ms/step - loss: 0.0639 - acc: 0.9861\n",
            "Epoch 28/45\n",
            "724/724 [==============================] - 2s 2ms/step - loss: 0.0609 - acc: 0.9867\n",
            "Epoch 29/45\n",
            "724/724 [==============================] - 2s 2ms/step - loss: 0.0579 - acc: 0.9869\n",
            "Epoch 30/45\n",
            "724/724 [==============================] - 2s 2ms/step - loss: 0.0554 - acc: 0.9884\n",
            "Epoch 31/45\n",
            "724/724 [==============================] - 2s 2ms/step - loss: 0.0530 - acc: 0.9895\n",
            "Epoch 32/45\n",
            "724/724 [==============================] - 2s 2ms/step - loss: 0.0506 - acc: 0.9900\n",
            "Epoch 33/45\n",
            "724/724 [==============================] - 2s 2ms/step - loss: 0.0486 - acc: 0.9905\n",
            "Epoch 34/45\n",
            "724/724 [==============================] - 2s 2ms/step - loss: 0.0465 - acc: 0.9914\n",
            "Epoch 35/45\n",
            "724/724 [==============================] - 2s 2ms/step - loss: 0.0446 - acc: 0.9920\n",
            "Epoch 36/45\n",
            "724/724 [==============================] - 2s 2ms/step - loss: 0.0428 - acc: 0.9924\n",
            "Epoch 37/45\n",
            "724/724 [==============================] - 2s 2ms/step - loss: 0.0411 - acc: 0.9927\n",
            "Epoch 38/45\n",
            "724/724 [==============================] - 2s 2ms/step - loss: 0.0393 - acc: 0.9934\n",
            "Epoch 39/45\n",
            "724/724 [==============================] - 2s 2ms/step - loss: 0.0383 - acc: 0.9935\n",
            "Epoch 40/45\n",
            "724/724 [==============================] - 2s 2ms/step - loss: 0.0368 - acc: 0.9939\n",
            "Epoch 41/45\n",
            "724/724 [==============================] - 2s 2ms/step - loss: 0.0355 - acc: 0.9942\n",
            "Epoch 42/45\n",
            "724/724 [==============================] - 2s 2ms/step - loss: 0.0343 - acc: 0.9946\n",
            "Epoch 43/45\n",
            "724/724 [==============================] - 2s 2ms/step - loss: 0.0330 - acc: 0.9947\n",
            "Epoch 44/45\n",
            "724/724 [==============================] - 2s 2ms/step - loss: 0.0318 - acc: 0.9949\n",
            "Epoch 45/45\n",
            "724/724 [==============================] - 2s 2ms/step - loss: 0.0309 - acc: 0.9949\n",
            "<bound method Model.summary of <tensorflow.python.keras.engine.sequential.Sequential object at 0x7f7c502aac88>>\n"
          ],
          "name": "stdout"
        },
        {
          "output_type": "display_data",
          "data": {
            "image/png": "[encoded data removed]",
            "text/plain": [
              "<Figure size 720x504 with 1 Axes>"
            ]
          },
          "metadata": {
            "tags": [],
            "needs_background": "light"
          }
        }
      ]
    },
    {
      "cell_type": "code",
      "metadata": {
        "colab": {
          "base_uri": "https://localhost:8080/"
        },
        "id": "mKwe9HGOoeZt",
        "outputId": "1786c6c6-fc27-4469-e50d-6465dfad7b35"
      },
      "source": [
        "model3.evaluate(test, label_test, batch_size=16)\n",
        "model3.evaluate(r_test, r_label_test, batch_size=16)"
      ],
      "execution_count": 47,
      "outputs": [
        {
          "output_type": "stream",
          "text": [
            "6508/6508 [==============================] - 12s 2ms/step - loss: 0.0577 - acc: 0.9877\n",
            "94/94 [==============================] - 0s 2ms/step - loss: 1.8359 - acc: 0.7020\n"
          ],
          "name": "stdout"
        },
        {
          "output_type": "execute_result",
          "data": {
            "text/plain": [
              "[1.8358904123306274, 0.7020000219345093]"
            ]
          },
          "metadata": {
            "tags": []
          },
          "execution_count": 47
        }
      ]
    },
    {
      "cell_type": "code",
      "metadata": {
        "id": "Tr_uT5YW6wBu"
      },
      "source": [
        "model4_params = {'activation 1': 'relu', \n",
        "                 'activation 2': 'relu', \n",
        "                 'activation 3': 'softmax', \n",
        "                 'opt': tf.keras.optimizers.SGD(learning_rate=0.001),\n",
        "                 'loss': 'categorical_crossentropy',\n",
        "                 'epochs': 250, \n",
        "                 'batch_size': 40, \n",
        "                 }"
      ],
      "execution_count": 48,
      "outputs": []
    },
    {
      "cell_type": "code",
      "metadata": {
        "colab": {
          "base_uri": "https://localhost:8080/",
          "height": 1000
        },
        "id": "nKzymFb26_kD",
        "outputId": "083553de-97ac-4512-fbc1-04ded077d03d"
      },
      "source": [
        "model4_history, model4 = create_model(train, label_train, test, label_test, model4_params)"
      ],
      "execution_count": 49,
      "outputs": [
        {
          "output_type": "stream",
          "text": [
            "Epoch 1/250\n",
            "290/290 [==============================] - 1s 2ms/step - loss: 2.5903 - acc: 0.3823\n",
            "Epoch 2/250\n",
            "290/290 [==============================] - 1s 2ms/step - loss: 2.4752 - acc: 0.5217\n",
            "Epoch 3/250\n",
            "290/290 [==============================] - 1s 2ms/step - loss: 2.3656 - acc: 0.5221\n",
            "Epoch 4/250\n",
            "290/290 [==============================] - 1s 2ms/step - loss: 2.2435 - acc: 0.5221\n",
            "Epoch 5/250\n",
            "290/290 [==============================] - 1s 2ms/step - loss: 2.1064 - acc: 0.5221\n",
            "Epoch 6/250\n",
            "290/290 [==============================] - 1s 2ms/step - loss: 1.9660 - acc: 0.5221\n",
            "Epoch 7/250\n",
            "290/290 [==============================] - 1s 2ms/step - loss: 1.8401 - acc: 0.5221\n",
            "Epoch 8/250\n",
            "290/290 [==============================] - 1s 2ms/step - loss: 1.7447 - acc: 0.5221\n",
            "Epoch 9/250\n",
            "290/290 [==============================] - 1s 2ms/step - loss: 1.6816 - acc: 0.5221\n",
            "Epoch 10/250\n",
            "290/290 [==============================] - 1s 2ms/step - loss: 1.6397 - acc: 0.5221\n",
            "Epoch 11/250\n",
            "290/290 [==============================] - 1s 2ms/step - loss: 1.6084 - acc: 0.5221\n",
            "Epoch 12/250\n",
            "290/290 [==============================] - 1s 2ms/step - loss: 1.5821 - acc: 0.5221\n",
            "Epoch 13/250\n",
            "290/290 [==============================] - 1s 2ms/step - loss: 1.5586 - acc: 0.5221\n",
            "Epoch 14/250\n",
            "290/290 [==============================] - 1s 2ms/step - loss: 1.5371 - acc: 0.5221\n",
            "Epoch 15/250\n",
            "290/290 [==============================] - 1s 2ms/step - loss: 1.5168 - acc: 0.5221\n",
            "Epoch 16/250\n",
            "290/290 [==============================] - 1s 2ms/step - loss: 1.4974 - acc: 0.5221\n",
            "Epoch 17/250\n",
            "290/290 [==============================] - 1s 2ms/step - loss: 1.4788 - acc: 0.5221\n",
            "Epoch 18/250\n",
            "290/290 [==============================] - 1s 2ms/step - loss: 1.4609 - acc: 0.5221\n",
            "Epoch 19/250\n",
            "290/290 [==============================] - 1s 2ms/step - loss: 1.4436 - acc: 0.5221\n",
            "Epoch 20/250\n",
            "290/290 [==============================] - 1s 2ms/step - loss: 1.4271 - acc: 0.5221\n",
            "Epoch 21/250\n",
            "290/290 [==============================] - 1s 2ms/step - loss: 1.4112 - acc: 0.5221\n",
            "Epoch 22/250\n",
            "290/290 [==============================] - 1s 2ms/step - loss: 1.3955 - acc: 0.5221\n",
            "Epoch 23/250\n",
            "290/290 [==============================] - 1s 2ms/step - loss: 1.3803 - acc: 0.5221\n",
            "Epoch 24/250\n",
            "290/290 [==============================] - 1s 2ms/step - loss: 1.3658 - acc: 0.5221\n",
            "Epoch 25/250\n",
            "290/290 [==============================] - 1s 2ms/step - loss: 1.3517 - acc: 0.5221\n",
            "Epoch 26/250\n",
            "290/290 [==============================] - 1s 2ms/step - loss: 1.3378 - acc: 0.5221\n",
            "Epoch 27/250\n",
            "290/290 [==============================] - 1s 2ms/step - loss: 1.3242 - acc: 0.5221\n",
            "Epoch 28/250\n",
            "290/290 [==============================] - 1s 2ms/step - loss: 1.3107 - acc: 0.5221\n",
            "Epoch 29/250\n",
            "290/290 [==============================] - 1s 2ms/step - loss: 1.2972 - acc: 0.5221\n",
            "Epoch 30/250\n",
            "290/290 [==============================] - 1s 2ms/step - loss: 1.2839 - acc: 0.5221\n",
            "Epoch 31/250\n",
            "290/290 [==============================] - 1s 2ms/step - loss: 1.2707 - acc: 0.5273\n",
            "Epoch 32/250\n",
            "290/290 [==============================] - 1s 2ms/step - loss: 1.2577 - acc: 0.5384\n",
            "Epoch 33/250\n",
            "290/290 [==============================] - 1s 2ms/step - loss: 1.2450 - acc: 0.5497\n",
            "Epoch 34/250\n",
            "290/290 [==============================] - 1s 2ms/step - loss: 1.2325 - acc: 0.5531\n",
            "Epoch 35/250\n",
            "290/290 [==============================] - 1s 2ms/step - loss: 1.2201 - acc: 0.5719\n",
            "Epoch 36/250\n",
            "290/290 [==============================] - 1s 2ms/step - loss: 1.2080 - acc: 0.5733\n",
            "Epoch 37/250\n",
            "290/290 [==============================] - 1s 2ms/step - loss: 1.1960 - acc: 0.5733\n",
            "Epoch 38/250\n",
            "290/290 [==============================] - 1s 2ms/step - loss: 1.1844 - acc: 0.5733\n",
            "Epoch 39/250\n",
            "290/290 [==============================] - 1s 2ms/step - loss: 1.1730 - acc: 0.5743\n",
            "Epoch 40/250\n",
            "290/290 [==============================] - 1s 2ms/step - loss: 1.1617 - acc: 0.5782\n",
            "Epoch 41/250\n",
            "290/290 [==============================] - 1s 2ms/step - loss: 1.1507 - acc: 0.5821\n",
            "Epoch 42/250\n",
            "290/290 [==============================] - 1s 2ms/step - loss: 1.1397 - acc: 0.5863\n",
            "Epoch 43/250\n",
            "290/290 [==============================] - 1s 2ms/step - loss: 1.1290 - acc: 0.5992\n",
            "Epoch 44/250\n",
            "290/290 [==============================] - 1s 2ms/step - loss: 1.1185 - acc: 0.6103\n",
            "Epoch 45/250\n",
            "290/290 [==============================] - 1s 2ms/step - loss: 1.1081 - acc: 0.6166\n",
            "Epoch 46/250\n",
            "290/290 [==============================] - 1s 2ms/step - loss: 1.0979 - acc: 0.6243\n",
            "Epoch 47/250\n",
            "290/290 [==============================] - 1s 2ms/step - loss: 1.0878 - acc: 0.6330\n",
            "Epoch 48/250\n",
            "290/290 [==============================] - 1s 2ms/step - loss: 1.0780 - acc: 0.6423\n",
            "Epoch 49/250\n",
            "290/290 [==============================] - 1s 2ms/step - loss: 1.0682 - acc: 0.6740\n",
            "Epoch 50/250\n",
            "290/290 [==============================] - 1s 2ms/step - loss: 1.0585 - acc: 0.6891\n",
            "Epoch 51/250\n",
            "290/290 [==============================] - 1s 2ms/step - loss: 1.0489 - acc: 0.6942\n",
            "Epoch 52/250\n",
            "290/290 [==============================] - 1s 2ms/step - loss: 1.0394 - acc: 0.6966\n",
            "Epoch 53/250\n",
            "290/290 [==============================] - 1s 2ms/step - loss: 1.0301 - acc: 0.7035\n",
            "Epoch 54/250\n",
            "290/290 [==============================] - 1s 2ms/step - loss: 1.0209 - acc: 0.7074\n",
            "Epoch 55/250\n",
            "290/290 [==============================] - 1s 2ms/step - loss: 1.0118 - acc: 0.7101\n",
            "Epoch 56/250\n",
            "290/290 [==============================] - 1s 2ms/step - loss: 1.0029 - acc: 0.7121\n",
            "Epoch 57/250\n",
            "290/290 [==============================] - 1s 2ms/step - loss: 0.9939 - acc: 0.7149\n",
            "Epoch 58/250\n",
            "290/290 [==============================] - 1s 2ms/step - loss: 0.9851 - acc: 0.7150\n",
            "Epoch 59/250\n",
            "290/290 [==============================] - 1s 2ms/step - loss: 0.9764 - acc: 0.7173\n",
            "Epoch 60/250\n",
            "290/290 [==============================] - 1s 2ms/step - loss: 0.9678 - acc: 0.7237\n",
            "Epoch 61/250\n",
            "290/290 [==============================] - 1s 2ms/step - loss: 0.9592 - acc: 0.7250\n",
            "Epoch 62/250\n",
            "290/290 [==============================] - 1s 2ms/step - loss: 0.9506 - acc: 0.7276\n",
            "Epoch 63/250\n",
            "290/290 [==============================] - 1s 2ms/step - loss: 0.9422 - acc: 0.7328\n",
            "Epoch 64/250\n",
            "290/290 [==============================] - 1s 2ms/step - loss: 0.9338 - acc: 0.7329\n",
            "Epoch 65/250\n",
            "290/290 [==============================] - 1s 2ms/step - loss: 0.9254 - acc: 0.7337\n",
            "Epoch 66/250\n",
            "290/290 [==============================] - 1s 2ms/step - loss: 0.9170 - acc: 0.7338\n",
            "Epoch 67/250\n",
            "290/290 [==============================] - 1s 2ms/step - loss: 0.9087 - acc: 0.7349\n",
            "Epoch 68/250\n",
            "290/290 [==============================] - 1s 2ms/step - loss: 0.9004 - acc: 0.7363\n",
            "Epoch 69/250\n",
            "290/290 [==============================] - 1s 2ms/step - loss: 0.8922 - acc: 0.7380\n",
            "Epoch 70/250\n",
            "290/290 [==============================] - 1s 2ms/step - loss: 0.8840 - acc: 0.7378\n",
            "Epoch 71/250\n",
            "290/290 [==============================] - 1s 2ms/step - loss: 0.8759 - acc: 0.7411\n",
            "Epoch 72/250\n",
            "290/290 [==============================] - 1s 2ms/step - loss: 0.8677 - acc: 0.7437\n",
            "Epoch 73/250\n",
            "290/290 [==============================] - 1s 2ms/step - loss: 0.8594 - acc: 0.7445\n",
            "Epoch 74/250\n",
            "290/290 [==============================] - 1s 2ms/step - loss: 0.8510 - acc: 0.7447\n",
            "Epoch 75/250\n",
            "290/290 [==============================] - 1s 2ms/step - loss: 0.8426 - acc: 0.7467\n",
            "Epoch 76/250\n",
            "290/290 [==============================] - 1s 2ms/step - loss: 0.8343 - acc: 0.7516\n",
            "Epoch 77/250\n",
            "290/290 [==============================] - 1s 2ms/step - loss: 0.8261 - acc: 0.7704\n",
            "Epoch 78/250\n",
            "290/290 [==============================] - 1s 2ms/step - loss: 0.8181 - acc: 0.7774\n",
            "Epoch 79/250\n",
            "290/290 [==============================] - 1s 2ms/step - loss: 0.8102 - acc: 0.7900\n",
            "Epoch 80/250\n",
            "290/290 [==============================] - 1s 2ms/step - loss: 0.8024 - acc: 0.7906\n",
            "Epoch 81/250\n",
            "290/290 [==============================] - 1s 2ms/step - loss: 0.7947 - acc: 0.7910\n",
            "Epoch 82/250\n",
            "290/290 [==============================] - 1s 2ms/step - loss: 0.7871 - acc: 0.7938\n",
            "Epoch 83/250\n",
            "290/290 [==============================] - 1s 2ms/step - loss: 0.7795 - acc: 0.7996\n",
            "Epoch 84/250\n",
            "290/290 [==============================] - 1s 2ms/step - loss: 0.7720 - acc: 0.8037\n",
            "Epoch 85/250\n",
            "290/290 [==============================] - 1s 2ms/step - loss: 0.7647 - acc: 0.8136\n",
            "Epoch 86/250\n",
            "290/290 [==============================] - 1s 2ms/step - loss: 0.7574 - acc: 0.8176\n",
            "Epoch 87/250\n",
            "290/290 [==============================] - 1s 2ms/step - loss: 0.7502 - acc: 0.8228\n",
            "Epoch 88/250\n",
            "290/290 [==============================] - 1s 2ms/step - loss: 0.7430 - acc: 0.8270\n",
            "Epoch 89/250\n",
            "290/290 [==============================] - 1s 2ms/step - loss: 0.7359 - acc: 0.8290\n",
            "Epoch 90/250\n",
            "290/290 [==============================] - 1s 2ms/step - loss: 0.7288 - acc: 0.8294\n",
            "Epoch 91/250\n",
            "290/290 [==============================] - 1s 2ms/step - loss: 0.7217 - acc: 0.8308\n",
            "Epoch 92/250\n",
            "290/290 [==============================] - 1s 2ms/step - loss: 0.7148 - acc: 0.8308\n",
            "Epoch 93/250\n",
            "290/290 [==============================] - 1s 2ms/step - loss: 0.7079 - acc: 0.8308\n",
            "Epoch 94/250\n",
            "290/290 [==============================] - 1s 2ms/step - loss: 0.7010 - acc: 0.8308\n",
            "Epoch 95/250\n",
            "290/290 [==============================] - 1s 2ms/step - loss: 0.6942 - acc: 0.8316\n",
            "Epoch 96/250\n",
            "290/290 [==============================] - 1s 2ms/step - loss: 0.6875 - acc: 0.8323\n",
            "Epoch 97/250\n",
            "290/290 [==============================] - 1s 2ms/step - loss: 0.6808 - acc: 0.8340\n",
            "Epoch 98/250\n",
            "290/290 [==============================] - 1s 2ms/step - loss: 0.6742 - acc: 0.8363\n",
            "Epoch 99/250\n",
            "290/290 [==============================] - 1s 2ms/step - loss: 0.6677 - acc: 0.8395\n",
            "Epoch 100/250\n",
            "290/290 [==============================] - 1s 2ms/step - loss: 0.6612 - acc: 0.8410\n",
            "Epoch 101/250\n",
            "290/290 [==============================] - 1s 2ms/step - loss: 0.6548 - acc: 0.8415\n",
            "Epoch 102/250\n",
            "290/290 [==============================] - 1s 2ms/step - loss: 0.6484 - acc: 0.8416\n",
            "Epoch 103/250\n",
            "290/290 [==============================] - 1s 2ms/step - loss: 0.6421 - acc: 0.8424\n",
            "Epoch 104/250\n",
            "290/290 [==============================] - 1s 2ms/step - loss: 0.6358 - acc: 0.8435\n",
            "Epoch 105/250\n",
            "290/290 [==============================] - 1s 2ms/step - loss: 0.6296 - acc: 0.8435\n",
            "Epoch 106/250\n",
            "290/290 [==============================] - 1s 2ms/step - loss: 0.6235 - acc: 0.8437\n",
            "Epoch 107/250\n",
            "290/290 [==============================] - 1s 2ms/step - loss: 0.6174 - acc: 0.8444\n",
            "Epoch 108/250\n",
            "290/290 [==============================] - 1s 2ms/step - loss: 0.6114 - acc: 0.8452\n",
            "Epoch 109/250\n",
            "290/290 [==============================] - 1s 2ms/step - loss: 0.6055 - acc: 0.8475\n",
            "Epoch 110/250\n",
            "290/290 [==============================] - 1s 2ms/step - loss: 0.5996 - acc: 0.8537\n",
            "Epoch 111/250\n",
            "290/290 [==============================] - 1s 2ms/step - loss: 0.5938 - acc: 0.8537\n",
            "Epoch 112/250\n",
            "290/290 [==============================] - 1s 2ms/step - loss: 0.5880 - acc: 0.8540\n",
            "Epoch 113/250\n",
            "290/290 [==============================] - 1s 2ms/step - loss: 0.5823 - acc: 0.8561\n",
            "Epoch 114/250\n",
            "290/290 [==============================] - 1s 2ms/step - loss: 0.5767 - acc: 0.8591\n",
            "Epoch 115/250\n",
            "290/290 [==============================] - 1s 2ms/step - loss: 0.5711 - acc: 0.8601\n",
            "Epoch 116/250\n",
            "290/290 [==============================] - 1s 2ms/step - loss: 0.5656 - acc: 0.8607\n",
            "Epoch 117/250\n",
            "290/290 [==============================] - 1s 2ms/step - loss: 0.5602 - acc: 0.8620\n",
            "Epoch 118/250\n",
            "290/290 [==============================] - 1s 2ms/step - loss: 0.5548 - acc: 0.8622\n",
            "Epoch 119/250\n",
            "290/290 [==============================] - 1s 2ms/step - loss: 0.5496 - acc: 0.8623\n",
            "Epoch 120/250\n",
            "290/290 [==============================] - 1s 2ms/step - loss: 0.5443 - acc: 0.8625\n",
            "Epoch 121/250\n",
            "290/290 [==============================] - 1s 2ms/step - loss: 0.5392 - acc: 0.8632\n",
            "Epoch 122/250\n",
            "290/290 [==============================] - 1s 2ms/step - loss: 0.5341 - acc: 0.8634\n",
            "Epoch 123/250\n",
            "290/290 [==============================] - 1s 2ms/step - loss: 0.5291 - acc: 0.8637\n",
            "Epoch 124/250\n",
            "290/290 [==============================] - 1s 2ms/step - loss: 0.5242 - acc: 0.8669\n",
            "Epoch 125/250\n",
            "290/290 [==============================] - 1s 2ms/step - loss: 0.5193 - acc: 0.8697\n",
            "Epoch 126/250\n",
            "290/290 [==============================] - 1s 2ms/step - loss: 0.5145 - acc: 0.8706\n",
            "Epoch 127/250\n",
            "290/290 [==============================] - 1s 2ms/step - loss: 0.5098 - acc: 0.8706\n",
            "Epoch 128/250\n",
            "290/290 [==============================] - 1s 2ms/step - loss: 0.5051 - acc: 0.8708\n",
            "Epoch 129/250\n",
            "290/290 [==============================] - 1s 2ms/step - loss: 0.5005 - acc: 0.8714\n",
            "Epoch 130/250\n",
            "290/290 [==============================] - 1s 2ms/step - loss: 0.4960 - acc: 0.8749\n",
            "Epoch 131/250\n",
            "290/290 [==============================] - 1s 2ms/step - loss: 0.4915 - acc: 0.8758\n",
            "Epoch 132/250\n",
            "290/290 [==============================] - 1s 2ms/step - loss: 0.4871 - acc: 0.8779\n",
            "Epoch 133/250\n",
            "290/290 [==============================] - 1s 2ms/step - loss: 0.4827 - acc: 0.8778\n",
            "Epoch 134/250\n",
            "290/290 [==============================] - 1s 2ms/step - loss: 0.4784 - acc: 0.8792\n",
            "Epoch 135/250\n",
            "290/290 [==============================] - 1s 2ms/step - loss: 0.4741 - acc: 0.8808\n",
            "Epoch 136/250\n",
            "290/290 [==============================] - 1s 2ms/step - loss: 0.4699 - acc: 0.8830\n",
            "Epoch 137/250\n",
            "290/290 [==============================] - 1s 2ms/step - loss: 0.4658 - acc: 0.8856\n",
            "Epoch 138/250\n",
            "290/290 [==============================] - 1s 2ms/step - loss: 0.4617 - acc: 0.8888\n",
            "Epoch 139/250\n",
            "290/290 [==============================] - 1s 2ms/step - loss: 0.4576 - acc: 0.8918\n",
            "Epoch 140/250\n",
            "290/290 [==============================] - 1s 2ms/step - loss: 0.4536 - acc: 0.8932\n",
            "Epoch 141/250\n",
            "290/290 [==============================] - 1s 2ms/step - loss: 0.4497 - acc: 0.8941\n",
            "Epoch 142/250\n",
            "290/290 [==============================] - 1s 2ms/step - loss: 0.4458 - acc: 0.8958\n",
            "Epoch 143/250\n",
            "290/290 [==============================] - 1s 2ms/step - loss: 0.4419 - acc: 0.8958\n",
            "Epoch 144/250\n",
            "290/290 [==============================] - 1s 2ms/step - loss: 0.4381 - acc: 0.8974\n",
            "Epoch 145/250\n",
            "290/290 [==============================] - 1s 2ms/step - loss: 0.4344 - acc: 0.9003\n",
            "Epoch 146/250\n",
            "290/290 [==============================] - 1s 2ms/step - loss: 0.4307 - acc: 0.9037\n",
            "Epoch 147/250\n",
            "290/290 [==============================] - 1s 2ms/step - loss: 0.4270 - acc: 0.9049\n",
            "Epoch 148/250\n",
            "290/290 [==============================] - 1s 2ms/step - loss: 0.4234 - acc: 0.9052\n",
            "Epoch 149/250\n",
            "290/290 [==============================] - 1s 2ms/step - loss: 0.4199 - acc: 0.9053\n",
            "Epoch 150/250\n",
            "290/290 [==============================] - 1s 2ms/step - loss: 0.4163 - acc: 0.9053\n",
            "Epoch 151/250\n",
            "290/290 [==============================] - 1s 2ms/step - loss: 0.4129 - acc: 0.9053\n",
            "Epoch 152/250\n",
            "290/290 [==============================] - 1s 2ms/step - loss: 0.4094 - acc: 0.9054\n",
            "Epoch 153/250\n",
            "290/290 [==============================] - 1s 2ms/step - loss: 0.4061 - acc: 0.9055\n",
            "Epoch 154/250\n",
            "290/290 [==============================] - 1s 2ms/step - loss: 0.4027 - acc: 0.9060\n",
            "Epoch 155/250\n",
            "290/290 [==============================] - 1s 2ms/step - loss: 0.3994 - acc: 0.9066\n",
            "Epoch 156/250\n",
            "290/290 [==============================] - 1s 2ms/step - loss: 0.3961 - acc: 0.9079\n",
            "Epoch 157/250\n",
            "290/290 [==============================] - 1s 2ms/step - loss: 0.3929 - acc: 0.9084\n",
            "Epoch 158/250\n",
            "290/290 [==============================] - 1s 2ms/step - loss: 0.3897 - acc: 0.9081\n",
            "Epoch 159/250\n",
            "290/290 [==============================] - 1s 2ms/step - loss: 0.3866 - acc: 0.9100\n",
            "Epoch 160/250\n",
            "290/290 [==============================] - 1s 2ms/step - loss: 0.3834 - acc: 0.9108\n",
            "Epoch 161/250\n",
            "290/290 [==============================] - 1s 2ms/step - loss: 0.3804 - acc: 0.9109\n",
            "Epoch 162/250\n",
            "290/290 [==============================] - 1s 2ms/step - loss: 0.3773 - acc: 0.9109\n",
            "Epoch 163/250\n",
            "290/290 [==============================] - 1s 2ms/step - loss: 0.3743 - acc: 0.9109\n",
            "Epoch 164/250\n",
            "290/290 [==============================] - 1s 2ms/step - loss: 0.3714 - acc: 0.9108\n",
            "Epoch 165/250\n",
            "290/290 [==============================] - 1s 2ms/step - loss: 0.3685 - acc: 0.9109\n",
            "Epoch 166/250\n",
            "290/290 [==============================] - 1s 2ms/step - loss: 0.3656 - acc: 0.9115\n",
            "Epoch 167/250\n",
            "290/290 [==============================] - 1s 2ms/step - loss: 0.3627 - acc: 0.9121\n",
            "Epoch 168/250\n",
            "290/290 [==============================] - 1s 2ms/step - loss: 0.3599 - acc: 0.9130\n",
            "Epoch 169/250\n",
            "290/290 [==============================] - 1s 2ms/step - loss: 0.3571 - acc: 0.9134\n",
            "Epoch 170/250\n",
            "290/290 [==============================] - 1s 2ms/step - loss: 0.3543 - acc: 0.9140\n",
            "Epoch 171/250\n",
            "290/290 [==============================] - 1s 2ms/step - loss: 0.3516 - acc: 0.9168\n",
            "Epoch 172/250\n",
            "290/290 [==============================] - 1s 2ms/step - loss: 0.3489 - acc: 0.9200\n",
            "Epoch 173/250\n",
            "290/290 [==============================] - 1s 2ms/step - loss: 0.3463 - acc: 0.9208\n",
            "Epoch 174/250\n",
            "290/290 [==============================] - 1s 2ms/step - loss: 0.3436 - acc: 0.9211\n",
            "Epoch 175/250\n",
            "290/290 [==============================] - 1s 2ms/step - loss: 0.3411 - acc: 0.9218\n",
            "Epoch 176/250\n",
            "290/290 [==============================] - 1s 2ms/step - loss: 0.3385 - acc: 0.9221\n",
            "Epoch 177/250\n",
            "290/290 [==============================] - 1s 2ms/step - loss: 0.3359 - acc: 0.9226\n",
            "Epoch 178/250\n",
            "290/290 [==============================] - 1s 2ms/step - loss: 0.3334 - acc: 0.9232\n",
            "Epoch 179/250\n",
            "290/290 [==============================] - 1s 2ms/step - loss: 0.3310 - acc: 0.9233\n",
            "Epoch 180/250\n",
            "290/290 [==============================] - 1s 2ms/step - loss: 0.3285 - acc: 0.9238\n",
            "Epoch 181/250\n",
            "290/290 [==============================] - 1s 2ms/step - loss: 0.3261 - acc: 0.9250\n",
            "Epoch 182/250\n",
            "290/290 [==============================] - 1s 2ms/step - loss: 0.3237 - acc: 0.9293\n",
            "Epoch 183/250\n",
            "290/290 [==============================] - 1s 3ms/step - loss: 0.3214 - acc: 0.9315\n",
            "Epoch 184/250\n",
            "290/290 [==============================] - 1s 3ms/step - loss: 0.3190 - acc: 0.9316\n",
            "Epoch 185/250\n",
            "290/290 [==============================] - 1s 3ms/step - loss: 0.3167 - acc: 0.9322\n",
            "Epoch 186/250\n",
            "290/290 [==============================] - 1s 3ms/step - loss: 0.3144 - acc: 0.9327\n",
            "Epoch 187/250\n",
            "290/290 [==============================] - 1s 3ms/step - loss: 0.3122 - acc: 0.9334\n",
            "Epoch 188/250\n",
            "290/290 [==============================] - 1s 3ms/step - loss: 0.3100 - acc: 0.9336\n",
            "Epoch 189/250\n",
            "290/290 [==============================] - 1s 3ms/step - loss: 0.3078 - acc: 0.9340\n",
            "Epoch 190/250\n",
            "290/290 [==============================] - 1s 3ms/step - loss: 0.3056 - acc: 0.9342\n",
            "Epoch 191/250\n",
            "290/290 [==============================] - 1s 3ms/step - loss: 0.3034 - acc: 0.9343\n",
            "Epoch 192/250\n",
            "290/290 [==============================] - 1s 3ms/step - loss: 0.3013 - acc: 0.9347\n",
            "Epoch 193/250\n",
            "290/290 [==============================] - 1s 3ms/step - loss: 0.2992 - acc: 0.9347\n",
            "Epoch 194/250\n",
            "290/290 [==============================] - 1s 3ms/step - loss: 0.2971 - acc: 0.9347\n",
            "Epoch 195/250\n",
            "290/290 [==============================] - 1s 2ms/step - loss: 0.2951 - acc: 0.9352\n",
            "Epoch 196/250\n",
            "290/290 [==============================] - 1s 2ms/step - loss: 0.2931 - acc: 0.9362\n",
            "Epoch 197/250\n",
            "290/290 [==============================] - 1s 2ms/step - loss: 0.2911 - acc: 0.9370\n",
            "Epoch 198/250\n",
            "290/290 [==============================] - 1s 2ms/step - loss: 0.2891 - acc: 0.9370\n",
            "Epoch 199/250\n",
            "290/290 [==============================] - 1s 2ms/step - loss: 0.2871 - acc: 0.9382\n",
            "Epoch 200/250\n",
            "290/290 [==============================] - 1s 2ms/step - loss: 0.2852 - acc: 0.9392\n",
            "Epoch 201/250\n",
            "290/290 [==============================] - 1s 2ms/step - loss: 0.2833 - acc: 0.9397\n",
            "Epoch 202/250\n",
            "290/290 [==============================] - 1s 2ms/step - loss: 0.2814 - acc: 0.9398\n",
            "Epoch 203/250\n",
            "290/290 [==============================] - 1s 2ms/step - loss: 0.2795 - acc: 0.9410\n",
            "Epoch 204/250\n",
            "290/290 [==============================] - 1s 2ms/step - loss: 0.2777 - acc: 0.9413\n",
            "Epoch 205/250\n",
            "290/290 [==============================] - 1s 2ms/step - loss: 0.2759 - acc: 0.9413\n",
            "Epoch 206/250\n",
            "290/290 [==============================] - 1s 2ms/step - loss: 0.2741 - acc: 0.9416\n",
            "Epoch 207/250\n",
            "290/290 [==============================] - 1s 2ms/step - loss: 0.2723 - acc: 0.9415\n",
            "Epoch 208/250\n",
            "290/290 [==============================] - 1s 2ms/step - loss: 0.2705 - acc: 0.9417\n",
            "Epoch 209/250\n",
            "290/290 [==============================] - 1s 2ms/step - loss: 0.2688 - acc: 0.9418\n",
            "Epoch 210/250\n",
            "290/290 [==============================] - 1s 2ms/step - loss: 0.2671 - acc: 0.9424\n",
            "Epoch 211/250\n",
            "290/290 [==============================] - 1s 2ms/step - loss: 0.2654 - acc: 0.9425\n",
            "Epoch 212/250\n",
            "290/290 [==============================] - 1s 2ms/step - loss: 0.2637 - acc: 0.9430\n",
            "Epoch 213/250\n",
            "290/290 [==============================] - 1s 2ms/step - loss: 0.2620 - acc: 0.9444\n",
            "Epoch 214/250\n",
            "290/290 [==============================] - 1s 2ms/step - loss: 0.2604 - acc: 0.9444\n",
            "Epoch 215/250\n",
            "290/290 [==============================] - 1s 2ms/step - loss: 0.2588 - acc: 0.9447\n",
            "Epoch 216/250\n",
            "290/290 [==============================] - 1s 2ms/step - loss: 0.2571 - acc: 0.9448\n",
            "Epoch 217/250\n",
            "290/290 [==============================] - 1s 2ms/step - loss: 0.2556 - acc: 0.9447\n",
            "Epoch 218/250\n",
            "290/290 [==============================] - 1s 2ms/step - loss: 0.2540 - acc: 0.9449\n",
            "Epoch 219/250\n",
            "290/290 [==============================] - 1s 2ms/step - loss: 0.2524 - acc: 0.9449\n",
            "Epoch 220/250\n",
            "290/290 [==============================] - 1s 2ms/step - loss: 0.2509 - acc: 0.9454\n",
            "Epoch 221/250\n",
            "290/290 [==============================] - 1s 2ms/step - loss: 0.2494 - acc: 0.9456\n",
            "Epoch 222/250\n",
            "290/290 [==============================] - 1s 2ms/step - loss: 0.2479 - acc: 0.9456\n",
            "Epoch 223/250\n",
            "290/290 [==============================] - 1s 2ms/step - loss: 0.2464 - acc: 0.9459\n",
            "Epoch 224/250\n",
            "290/290 [==============================] - 1s 2ms/step - loss: 0.2449 - acc: 0.9462\n",
            "Epoch 225/250\n",
            "290/290 [==============================] - 1s 2ms/step - loss: 0.2435 - acc: 0.9474\n",
            "Epoch 226/250\n",
            "290/290 [==============================] - 1s 2ms/step - loss: 0.2420 - acc: 0.9483\n",
            "Epoch 227/250\n",
            "290/290 [==============================] - 1s 2ms/step - loss: 0.2406 - acc: 0.9485\n",
            "Epoch 228/250\n",
            "290/290 [==============================] - 1s 2ms/step - loss: 0.2392 - acc: 0.9487\n",
            "Epoch 229/250\n",
            "290/290 [==============================] - 1s 2ms/step - loss: 0.2378 - acc: 0.9494\n",
            "Epoch 230/250\n",
            "290/290 [==============================] - 1s 2ms/step - loss: 0.2364 - acc: 0.9503\n",
            "Epoch 231/250\n",
            "290/290 [==============================] - 1s 2ms/step - loss: 0.2351 - acc: 0.9502\n",
            "Epoch 232/250\n",
            "290/290 [==============================] - 1s 2ms/step - loss: 0.2337 - acc: 0.9511\n",
            "Epoch 233/250\n",
            "290/290 [==============================] - 1s 2ms/step - loss: 0.2324 - acc: 0.9514\n",
            "Epoch 234/250\n",
            "290/290 [==============================] - 1s 2ms/step - loss: 0.2311 - acc: 0.9517\n",
            "Epoch 235/250\n",
            "290/290 [==============================] - 1s 2ms/step - loss: 0.2298 - acc: 0.9523\n",
            "Epoch 236/250\n",
            "290/290 [==============================] - 1s 2ms/step - loss: 0.2285 - acc: 0.9526\n",
            "Epoch 237/250\n",
            "290/290 [==============================] - 1s 2ms/step - loss: 0.2272 - acc: 0.9525\n",
            "Epoch 238/250\n",
            "290/290 [==============================] - 1s 2ms/step - loss: 0.2260 - acc: 0.9528\n",
            "Epoch 239/250\n",
            "290/290 [==============================] - 1s 2ms/step - loss: 0.2247 - acc: 0.9529\n",
            "Epoch 240/250\n",
            "290/290 [==============================] - 1s 2ms/step - loss: 0.2235 - acc: 0.9530\n",
            "Epoch 241/250\n",
            "290/290 [==============================] - 1s 2ms/step - loss: 0.2223 - acc: 0.9532\n",
            "Epoch 242/250\n",
            "290/290 [==============================] - 1s 2ms/step - loss: 0.2210 - acc: 0.9544\n",
            "Epoch 243/250\n",
            "290/290 [==============================] - 1s 2ms/step - loss: 0.2198 - acc: 0.9540\n",
            "Epoch 244/250\n",
            "290/290 [==============================] - 1s 2ms/step - loss: 0.2187 - acc: 0.9549\n",
            "Epoch 245/250\n",
            "290/290 [==============================] - 1s 2ms/step - loss: 0.2175 - acc: 0.9551\n",
            "Epoch 246/250\n",
            "290/290 [==============================] - 1s 2ms/step - loss: 0.2163 - acc: 0.9552\n",
            "Epoch 247/250\n",
            "290/290 [==============================] - 1s 2ms/step - loss: 0.2152 - acc: 0.9554\n",
            "Epoch 248/250\n",
            "290/290 [==============================] - 1s 2ms/step - loss: 0.2141 - acc: 0.9555\n",
            "Epoch 249/250\n",
            "290/290 [==============================] - 1s 2ms/step - loss: 0.2129 - acc: 0.9555\n",
            "Epoch 250/250\n",
            "290/290 [==============================] - 1s 2ms/step - loss: 0.2118 - acc: 0.9555\n",
            "<bound method Model.summary of <tensorflow.python.keras.engine.sequential.Sequential object at 0x7f7c502c6ef0>>\n"
          ],
          "name": "stdout"
        },
        {
          "output_type": "display_data",
          "data": {
            "image/png": "[encoded data removed]",
            "text/plain": [
              "<Figure size 720x504 with 1 Axes>"
            ]
          },
          "metadata": {
            "tags": [],
            "needs_background": "light"
          }
        }
      ]
    },
    {
      "cell_type": "code",
      "metadata": {
        "colab": {
          "base_uri": "https://localhost:8080/"
        },
        "id": "x4zc6mg47OMy",
        "outputId": "81ef6676-8cd6-4fb4-c6a0-1ef2b79c4bd4"
      },
      "source": [
        "model4.evaluate(test, label_test, batch_size=40)\n",
        "model4.evaluate(r_test, r_label_test, batch_size=40)"
      ],
      "execution_count": 50,
      "outputs": [
        {
          "output_type": "stream",
          "text": [
            "2604/2604 [==============================] - 5s 2ms/step - loss: 0.2343 - acc: 0.9467\n",
            "38/38 [==============================] - 0s 2ms/step - loss: 1.1738 - acc: 0.6880\n"
          ],
          "name": "stdout"
        },
        {
          "output_type": "execute_result",
          "data": {
            "text/plain": [
              "[1.1738474369049072, 0.6880000233650208]"
            ]
          },
          "metadata": {
            "tags": []
          },
          "execution_count": 50
        }
      ]
    },
    {
      "cell_type": "code",
      "metadata": {
        "id": "6pC602vWqEXs"
      },
      "source": [
        "model5_params = {'activation 1': 'relu', \n",
        "                 'activation 2': 'relu', \n",
        "                 'activation 3': 'softmax', \n",
        "                 'opt': tf.keras.optimizers.SGD(learning_rate=0.001),\n",
        "                 'loss': 'categorical_crossentropy',\n",
        "                 'epochs': 350, \n",
        "                 'batch_size': 20, \n",
        "                 }"
      ],
      "execution_count": 51,
      "outputs": []
    },
    {
      "cell_type": "code",
      "metadata": {
        "colab": {
          "base_uri": "https://localhost:8080/",
          "height": 1000
        },
        "id": "7K7-TnuiqPNa",
        "outputId": "9a9c0de0-665d-4bc3-f185-7886ee206129"
      },
      "source": [
        "model5_history, model5 = create_model(train, label_train, test, label_test, model5_params)"
      ],
      "execution_count": 52,
      "outputs": [
        {
          "output_type": "stream",
          "text": [
            "Epoch 1/350\n",
            "579/579 [==============================] - 1s 2ms/step - loss: 2.5044 - acc: 0.4433\n",
            "Epoch 2/350\n",
            "579/579 [==============================] - 1s 2ms/step - loss: 2.2256 - acc: 0.5221\n",
            "Epoch 3/350\n",
            "579/579 [==============================] - 1s 2ms/step - loss: 1.9221 - acc: 0.5221\n",
            "Epoch 4/350\n",
            "579/579 [==============================] - 1s 2ms/step - loss: 1.7092 - acc: 0.5221\n",
            "Epoch 5/350\n",
            "579/579 [==============================] - 1s 2ms/step - loss: 1.6216 - acc: 0.5221\n",
            "Epoch 6/350\n",
            "579/579 [==============================] - 1s 2ms/step - loss: 1.5740 - acc: 0.5221\n",
            "Epoch 7/350\n",
            "579/579 [==============================] - 1s 2ms/step - loss: 1.5344 - acc: 0.5221\n",
            "Epoch 8/350\n",
            "579/579 [==============================] - 1s 2ms/step - loss: 1.4984 - acc: 0.5221\n",
            "Epoch 9/350\n",
            "579/579 [==============================] - 1s 2ms/step - loss: 1.4653 - acc: 0.5221\n",
            "Epoch 10/350\n",
            "579/579 [==============================] - 1s 2ms/step - loss: 1.4335 - acc: 0.5221\n",
            "Epoch 11/350\n",
            "579/579 [==============================] - 1s 2ms/step - loss: 1.4026 - acc: 0.5221\n",
            "Epoch 12/350\n",
            "579/579 [==============================] - 1s 2ms/step - loss: 1.3719 - acc: 0.5221\n",
            "Epoch 13/350\n",
            "579/579 [==============================] - 1s 2ms/step - loss: 1.3418 - acc: 0.5221\n",
            "Epoch 14/350\n",
            "579/579 [==============================] - 1s 2ms/step - loss: 1.3129 - acc: 0.5221\n",
            "Epoch 15/350\n",
            "579/579 [==============================] - 1s 2ms/step - loss: 1.2854 - acc: 0.5221\n",
            "Epoch 16/350\n",
            "579/579 [==============================] - 1s 2ms/step - loss: 1.2585 - acc: 0.5339\n",
            "Epoch 17/350\n",
            "579/579 [==============================] - 1s 2ms/step - loss: 1.2322 - acc: 0.5384\n",
            "Epoch 18/350\n",
            "579/579 [==============================] - 1s 2ms/step - loss: 1.2067 - acc: 0.5392\n",
            "Epoch 19/350\n",
            "579/579 [==============================] - 1s 2ms/step - loss: 1.1819 - acc: 0.5565\n",
            "Epoch 20/350\n",
            "579/579 [==============================] - 1s 2ms/step - loss: 1.1577 - acc: 0.5740\n",
            "Epoch 21/350\n",
            "579/579 [==============================] - 1s 2ms/step - loss: 1.1339 - acc: 0.5936\n",
            "Epoch 22/350\n",
            "579/579 [==============================] - 1s 2ms/step - loss: 1.1109 - acc: 0.6151\n",
            "Epoch 23/350\n",
            "579/579 [==============================] - 1s 2ms/step - loss: 1.0887 - acc: 0.6407\n",
            "Epoch 24/350\n",
            "579/579 [==============================] - 1s 2ms/step - loss: 1.0669 - acc: 0.6676\n",
            "Epoch 25/350\n",
            "579/579 [==============================] - 1s 2ms/step - loss: 1.0454 - acc: 0.6880\n",
            "Epoch 26/350\n",
            "579/579 [==============================] - 1s 2ms/step - loss: 1.0244 - acc: 0.7023\n",
            "Epoch 27/350\n",
            "579/579 [==============================] - 1s 2ms/step - loss: 1.0037 - acc: 0.7161\n",
            "Epoch 28/350\n",
            "579/579 [==============================] - 1s 2ms/step - loss: 0.9835 - acc: 0.7307\n",
            "Epoch 29/350\n",
            "579/579 [==============================] - 1s 2ms/step - loss: 0.9637 - acc: 0.7370\n",
            "Epoch 30/350\n",
            "579/579 [==============================] - 1s 2ms/step - loss: 0.9442 - acc: 0.7409\n",
            "Epoch 31/350\n",
            "579/579 [==============================] - 1s 2ms/step - loss: 0.9251 - acc: 0.7469\n",
            "Epoch 32/350\n",
            "579/579 [==============================] - 1s 2ms/step - loss: 0.9063 - acc: 0.7515\n",
            "Epoch 33/350\n",
            "579/579 [==============================] - 1s 2ms/step - loss: 0.8881 - acc: 0.7534\n",
            "Epoch 34/350\n",
            "579/579 [==============================] - 1s 2ms/step - loss: 0.8703 - acc: 0.7569\n",
            "Epoch 35/350\n",
            "579/579 [==============================] - 1s 2ms/step - loss: 0.8529 - acc: 0.7620\n",
            "Epoch 36/350\n",
            "579/579 [==============================] - 1s 2ms/step - loss: 0.8358 - acc: 0.7658\n",
            "Epoch 37/350\n",
            "579/579 [==============================] - 1s 2ms/step - loss: 0.8190 - acc: 0.7802\n",
            "Epoch 38/350\n",
            "579/579 [==============================] - 1s 2ms/step - loss: 0.8025 - acc: 0.7865\n",
            "Epoch 39/350\n",
            "579/579 [==============================] - 1s 2ms/step - loss: 0.7863 - acc: 0.7956\n",
            "Epoch 40/350\n",
            "579/579 [==============================] - 1s 2ms/step - loss: 0.7704 - acc: 0.8004\n",
            "Epoch 41/350\n",
            "579/579 [==============================] - 1s 2ms/step - loss: 0.7547 - acc: 0.8081\n",
            "Epoch 42/350\n",
            "579/579 [==============================] - 1s 2ms/step - loss: 0.7393 - acc: 0.8168\n",
            "Epoch 43/350\n",
            "579/579 [==============================] - 1s 2ms/step - loss: 0.7241 - acc: 0.8232\n",
            "Epoch 44/350\n",
            "579/579 [==============================] - 1s 2ms/step - loss: 0.7092 - acc: 0.8331\n",
            "Epoch 45/350\n",
            "579/579 [==============================] - 1s 2ms/step - loss: 0.6944 - acc: 0.8415\n",
            "Epoch 46/350\n",
            "579/579 [==============================] - 1s 2ms/step - loss: 0.6798 - acc: 0.8467\n",
            "Epoch 47/350\n",
            "579/579 [==============================] - 1s 2ms/step - loss: 0.6654 - acc: 0.8523\n",
            "Epoch 48/350\n",
            "579/579 [==============================] - 1s 2ms/step - loss: 0.6512 - acc: 0.8552\n",
            "Epoch 49/350\n",
            "579/579 [==============================] - 1s 2ms/step - loss: 0.6373 - acc: 0.8560\n",
            "Epoch 50/350\n",
            "579/579 [==============================] - 1s 2ms/step - loss: 0.6236 - acc: 0.8575\n",
            "Epoch 51/350\n",
            "579/579 [==============================] - 1s 2ms/step - loss: 0.6102 - acc: 0.8609\n",
            "Epoch 52/350\n",
            "579/579 [==============================] - 1s 2ms/step - loss: 0.5971 - acc: 0.8630\n",
            "Epoch 53/350\n",
            "579/579 [==============================] - 1s 2ms/step - loss: 0.5842 - acc: 0.8648\n",
            "Epoch 54/350\n",
            "579/579 [==============================] - 1s 2ms/step - loss: 0.5717 - acc: 0.8697\n",
            "Epoch 55/350\n",
            "579/579 [==============================] - 1s 2ms/step - loss: 0.5594 - acc: 0.8767\n",
            "Epoch 56/350\n",
            "579/579 [==============================] - 1s 2ms/step - loss: 0.5475 - acc: 0.8835\n",
            "Epoch 57/350\n",
            "579/579 [==============================] - 1s 2ms/step - loss: 0.5358 - acc: 0.8856\n",
            "Epoch 58/350\n",
            "579/579 [==============================] - 1s 2ms/step - loss: 0.5244 - acc: 0.8869\n",
            "Epoch 59/350\n",
            "579/579 [==============================] - 1s 2ms/step - loss: 0.5133 - acc: 0.8875\n",
            "Epoch 60/350\n",
            "579/579 [==============================] - 1s 2ms/step - loss: 0.5025 - acc: 0.8892\n",
            "Epoch 61/350\n",
            "579/579 [==============================] - 1s 2ms/step - loss: 0.4920 - acc: 0.8909\n",
            "Epoch 62/350\n",
            "579/579 [==============================] - 1s 2ms/step - loss: 0.4818 - acc: 0.8916\n",
            "Epoch 63/350\n",
            "579/579 [==============================] - 1s 2ms/step - loss: 0.4720 - acc: 0.8934\n",
            "Epoch 64/350\n",
            "579/579 [==============================] - 1s 2ms/step - loss: 0.4624 - acc: 0.8950\n",
            "Epoch 65/350\n",
            "579/579 [==============================] - 1s 2ms/step - loss: 0.4532 - acc: 0.8964\n",
            "Epoch 66/350\n",
            "579/579 [==============================] - 1s 2ms/step - loss: 0.4442 - acc: 0.8992\n",
            "Epoch 67/350\n",
            "579/579 [==============================] - 1s 2ms/step - loss: 0.4356 - acc: 0.9025\n",
            "Epoch 68/350\n",
            "579/579 [==============================] - 1s 2ms/step - loss: 0.4272 - acc: 0.9054\n",
            "Epoch 69/350\n",
            "579/579 [==============================] - 1s 2ms/step - loss: 0.4191 - acc: 0.9055\n",
            "Epoch 70/350\n",
            "579/579 [==============================] - 1s 2ms/step - loss: 0.4114 - acc: 0.9060\n",
            "Epoch 71/350\n",
            "579/579 [==============================] - 1s 2ms/step - loss: 0.4038 - acc: 0.9060\n",
            "Epoch 72/350\n",
            "579/579 [==============================] - 1s 2ms/step - loss: 0.3965 - acc: 0.9147\n",
            "Epoch 73/350\n",
            "579/579 [==============================] - 1s 2ms/step - loss: 0.3895 - acc: 0.9204\n",
            "Epoch 74/350\n",
            "579/579 [==============================] - 1s 2ms/step - loss: 0.3827 - acc: 0.9219\n",
            "Epoch 75/350\n",
            "579/579 [==============================] - 1s 2ms/step - loss: 0.3761 - acc: 0.9219\n",
            "Epoch 76/350\n",
            "579/579 [==============================] - 1s 2ms/step - loss: 0.3697 - acc: 0.9230\n",
            "Epoch 77/350\n",
            "579/579 [==============================] - 1s 2ms/step - loss: 0.3635 - acc: 0.9241\n",
            "Epoch 78/350\n",
            "579/579 [==============================] - 1s 2ms/step - loss: 0.3576 - acc: 0.9251\n",
            "Epoch 79/350\n",
            "579/579 [==============================] - 1s 2ms/step - loss: 0.3518 - acc: 0.9270\n",
            "Epoch 80/350\n",
            "579/579 [==============================] - 1s 2ms/step - loss: 0.3462 - acc: 0.9276\n",
            "Epoch 81/350\n",
            "579/579 [==============================] - 1s 2ms/step - loss: 0.3407 - acc: 0.9279\n",
            "Epoch 82/350\n",
            "579/579 [==============================] - 1s 2ms/step - loss: 0.3355 - acc: 0.9297\n",
            "Epoch 83/350\n",
            "579/579 [==============================] - 1s 2ms/step - loss: 0.3303 - acc: 0.9308\n",
            "Epoch 84/350\n",
            "579/579 [==============================] - 1s 2ms/step - loss: 0.3254 - acc: 0.9331\n",
            "Epoch 85/350\n",
            "579/579 [==============================] - 1s 2ms/step - loss: 0.3206 - acc: 0.9339\n",
            "Epoch 86/350\n",
            "579/579 [==============================] - 1s 2ms/step - loss: 0.3159 - acc: 0.9377\n",
            "Epoch 87/350\n",
            "579/579 [==============================] - 1s 2ms/step - loss: 0.3114 - acc: 0.9389\n",
            "Epoch 88/350\n",
            "579/579 [==============================] - 1s 2ms/step - loss: 0.3070 - acc: 0.9391\n",
            "Epoch 89/350\n",
            "579/579 [==============================] - 1s 2ms/step - loss: 0.3027 - acc: 0.9392\n",
            "Epoch 90/350\n",
            "579/579 [==============================] - 1s 2ms/step - loss: 0.2985 - acc: 0.9396\n",
            "Epoch 91/350\n",
            "579/579 [==============================] - 1s 2ms/step - loss: 0.2945 - acc: 0.9396\n",
            "Epoch 92/350\n",
            "579/579 [==============================] - 1s 2ms/step - loss: 0.2906 - acc: 0.9403\n",
            "Epoch 93/350\n",
            "579/579 [==============================] - 1s 2ms/step - loss: 0.2868 - acc: 0.9416\n",
            "Epoch 94/350\n",
            "579/579 [==============================] - 1s 2ms/step - loss: 0.2830 - acc: 0.9433\n",
            "Epoch 95/350\n",
            "579/579 [==============================] - 1s 2ms/step - loss: 0.2794 - acc: 0.9437\n",
            "Epoch 96/350\n",
            "579/579 [==============================] - 1s 2ms/step - loss: 0.2759 - acc: 0.9438\n",
            "Epoch 97/350\n",
            "579/579 [==============================] - 1s 2ms/step - loss: 0.2725 - acc: 0.9442\n",
            "Epoch 98/350\n",
            "579/579 [==============================] - 1s 2ms/step - loss: 0.2691 - acc: 0.9456\n",
            "Epoch 99/350\n",
            "579/579 [==============================] - 1s 2ms/step - loss: 0.2658 - acc: 0.9463\n",
            "Epoch 100/350\n",
            "579/579 [==============================] - 1s 2ms/step - loss: 0.2626 - acc: 0.9472\n",
            "Epoch 101/350\n",
            "579/579 [==============================] - 1s 2ms/step - loss: 0.2595 - acc: 0.9472\n",
            "Epoch 102/350\n",
            "579/579 [==============================] - 1s 2ms/step - loss: 0.2565 - acc: 0.9481\n",
            "Epoch 103/350\n",
            "579/579 [==============================] - 1s 2ms/step - loss: 0.2535 - acc: 0.9485\n",
            "Epoch 104/350\n",
            "579/579 [==============================] - 1s 2ms/step - loss: 0.2506 - acc: 0.9490\n",
            "Epoch 105/350\n",
            "579/579 [==============================] - 1s 2ms/step - loss: 0.2478 - acc: 0.9495\n",
            "Epoch 106/350\n",
            "579/579 [==============================] - 1s 2ms/step - loss: 0.2450 - acc: 0.9500\n",
            "Epoch 107/350\n",
            "579/579 [==============================] - 1s 2ms/step - loss: 0.2423 - acc: 0.9502\n",
            "Epoch 108/350\n",
            "579/579 [==============================] - 1s 2ms/step - loss: 0.2396 - acc: 0.9511\n",
            "Epoch 109/350\n",
            "579/579 [==============================] - 1s 2ms/step - loss: 0.2370 - acc: 0.9512\n",
            "Epoch 110/350\n",
            "579/579 [==============================] - 1s 2ms/step - loss: 0.2345 - acc: 0.9518\n",
            "Epoch 111/350\n",
            "579/579 [==============================] - 1s 2ms/step - loss: 0.2320 - acc: 0.9521\n",
            "Epoch 112/350\n",
            "579/579 [==============================] - 1s 2ms/step - loss: 0.2296 - acc: 0.9522\n",
            "Epoch 113/350\n",
            "579/579 [==============================] - 1s 2ms/step - loss: 0.2272 - acc: 0.9532\n",
            "Epoch 114/350\n",
            "579/579 [==============================] - 1s 2ms/step - loss: 0.2249 - acc: 0.9536\n",
            "Epoch 115/350\n",
            "579/579 [==============================] - 1s 2ms/step - loss: 0.2226 - acc: 0.9543\n",
            "Epoch 116/350\n",
            "579/579 [==============================] - 1s 2ms/step - loss: 0.2204 - acc: 0.9544\n",
            "Epoch 117/350\n",
            "579/579 [==============================] - 1s 2ms/step - loss: 0.2182 - acc: 0.9546\n",
            "Epoch 118/350\n",
            "579/579 [==============================] - 1s 2ms/step - loss: 0.2160 - acc: 0.9547\n",
            "Epoch 119/350\n",
            "579/579 [==============================] - 1s 2ms/step - loss: 0.2139 - acc: 0.9547\n",
            "Epoch 120/350\n",
            "579/579 [==============================] - 1s 2ms/step - loss: 0.2119 - acc: 0.9546\n",
            "Epoch 121/350\n",
            "579/579 [==============================] - 1s 2ms/step - loss: 0.2098 - acc: 0.9549\n",
            "Epoch 122/350\n",
            "579/579 [==============================] - 1s 2ms/step - loss: 0.2079 - acc: 0.9554\n",
            "Epoch 123/350\n",
            "579/579 [==============================] - 1s 2ms/step - loss: 0.2059 - acc: 0.9555\n",
            "Epoch 124/350\n",
            "579/579 [==============================] - 1s 2ms/step - loss: 0.2040 - acc: 0.9556\n",
            "Epoch 125/350\n",
            "579/579 [==============================] - 1s 2ms/step - loss: 0.2021 - acc: 0.9555\n",
            "Epoch 126/350\n",
            "579/579 [==============================] - 1s 2ms/step - loss: 0.2003 - acc: 0.9557\n",
            "Epoch 127/350\n",
            "579/579 [==============================] - 1s 2ms/step - loss: 0.1985 - acc: 0.9559\n",
            "Epoch 128/350\n",
            "579/579 [==============================] - 1s 2ms/step - loss: 0.1967 - acc: 0.9559\n",
            "Epoch 129/350\n",
            "579/579 [==============================] - 1s 2ms/step - loss: 0.1950 - acc: 0.9565\n",
            "Epoch 130/350\n",
            "579/579 [==============================] - 1s 2ms/step - loss: 0.1933 - acc: 0.9570\n",
            "Epoch 131/350\n",
            "579/579 [==============================] - 1s 2ms/step - loss: 0.1916 - acc: 0.9571\n",
            "Epoch 132/350\n",
            "579/579 [==============================] - 1s 2ms/step - loss: 0.1900 - acc: 0.9573\n",
            "Epoch 133/350\n",
            "579/579 [==============================] - 1s 2ms/step - loss: 0.1883 - acc: 0.9577\n",
            "Epoch 134/350\n",
            "579/579 [==============================] - 1s 2ms/step - loss: 0.1867 - acc: 0.9580\n",
            "Epoch 135/350\n",
            "579/579 [==============================] - 1s 2ms/step - loss: 0.1852 - acc: 0.9586\n",
            "Epoch 136/350\n",
            "579/579 [==============================] - 1s 2ms/step - loss: 0.1836 - acc: 0.9614\n",
            "Epoch 137/350\n",
            "579/579 [==============================] - 1s 2ms/step - loss: 0.1821 - acc: 0.9615\n",
            "Epoch 138/350\n",
            "579/579 [==============================] - 1s 2ms/step - loss: 0.1806 - acc: 0.9618\n",
            "Epoch 139/350\n",
            "579/579 [==============================] - 1s 2ms/step - loss: 0.1792 - acc: 0.9616\n",
            "Epoch 140/350\n",
            "579/579 [==============================] - 1s 2ms/step - loss: 0.1777 - acc: 0.9620\n",
            "Epoch 141/350\n",
            "579/579 [==============================] - 1s 2ms/step - loss: 0.1763 - acc: 0.9620\n",
            "Epoch 142/350\n",
            "579/579 [==============================] - 1s 2ms/step - loss: 0.1749 - acc: 0.9623\n",
            "Epoch 143/350\n",
            "579/579 [==============================] - 1s 2ms/step - loss: 0.1736 - acc: 0.9620\n",
            "Epoch 144/350\n",
            "579/579 [==============================] - 1s 2ms/step - loss: 0.1722 - acc: 0.9621\n",
            "Epoch 145/350\n",
            "579/579 [==============================] - 1s 2ms/step - loss: 0.1709 - acc: 0.9628\n",
            "Epoch 146/350\n",
            "579/579 [==============================] - 1s 2ms/step - loss: 0.1696 - acc: 0.9629\n",
            "Epoch 147/350\n",
            "579/579 [==============================] - 1s 2ms/step - loss: 0.1683 - acc: 0.9630\n",
            "Epoch 148/350\n",
            "579/579 [==============================] - 1s 2ms/step - loss: 0.1670 - acc: 0.9630\n",
            "Epoch 149/350\n",
            "579/579 [==============================] - 1s 2ms/step - loss: 0.1658 - acc: 0.9640\n",
            "Epoch 150/350\n",
            "579/579 [==============================] - 1s 2ms/step - loss: 0.1645 - acc: 0.9646\n",
            "Epoch 151/350\n",
            "579/579 [==============================] - 1s 2ms/step - loss: 0.1633 - acc: 0.9648\n",
            "Epoch 152/350\n",
            "579/579 [==============================] - 1s 2ms/step - loss: 0.1621 - acc: 0.9649\n",
            "Epoch 153/350\n",
            "579/579 [==============================] - 1s 2ms/step - loss: 0.1610 - acc: 0.9650\n",
            "Epoch 154/350\n",
            "579/579 [==============================] - 1s 2ms/step - loss: 0.1598 - acc: 0.9650\n",
            "Epoch 155/350\n",
            "579/579 [==============================] - 1s 2ms/step - loss: 0.1587 - acc: 0.9651\n",
            "Epoch 156/350\n",
            "579/579 [==============================] - 1s 2ms/step - loss: 0.1575 - acc: 0.9653\n",
            "Epoch 157/350\n",
            "579/579 [==============================] - 1s 2ms/step - loss: 0.1564 - acc: 0.9657\n",
            "Epoch 158/350\n",
            "579/579 [==============================] - 1s 2ms/step - loss: 0.1553 - acc: 0.9659\n",
            "Epoch 159/350\n",
            "579/579 [==============================] - 1s 2ms/step - loss: 0.1542 - acc: 0.9663\n",
            "Epoch 160/350\n",
            "579/579 [==============================] - 1s 2ms/step - loss: 0.1532 - acc: 0.9665\n",
            "Epoch 161/350\n",
            "579/579 [==============================] - 1s 2ms/step - loss: 0.1521 - acc: 0.9668\n",
            "Epoch 162/350\n",
            "579/579 [==============================] - 1s 2ms/step - loss: 0.1511 - acc: 0.9670\n",
            "Epoch 163/350\n",
            "579/579 [==============================] - 1s 2ms/step - loss: 0.1501 - acc: 0.9670\n",
            "Epoch 164/350\n",
            "579/579 [==============================] - 1s 2ms/step - loss: 0.1491 - acc: 0.9670\n",
            "Epoch 165/350\n",
            "579/579 [==============================] - 1s 2ms/step - loss: 0.1481 - acc: 0.9671\n",
            "Epoch 166/350\n",
            "579/579 [==============================] - 1s 2ms/step - loss: 0.1471 - acc: 0.9670\n",
            "Epoch 167/350\n",
            "579/579 [==============================] - 1s 2ms/step - loss: 0.1461 - acc: 0.9672\n",
            "Epoch 168/350\n",
            "579/579 [==============================] - 1s 2ms/step - loss: 0.1452 - acc: 0.9681\n",
            "Epoch 169/350\n",
            "579/579 [==============================] - 1s 2ms/step - loss: 0.1442 - acc: 0.9676\n",
            "Epoch 170/350\n",
            "579/579 [==============================] - 1s 2ms/step - loss: 0.1433 - acc: 0.9681\n",
            "Epoch 171/350\n",
            "579/579 [==============================] - 1s 2ms/step - loss: 0.1424 - acc: 0.9682\n",
            "Epoch 172/350\n",
            "579/579 [==============================] - 1s 2ms/step - loss: 0.1415 - acc: 0.9694\n",
            "Epoch 173/350\n",
            "579/579 [==============================] - 1s 2ms/step - loss: 0.1406 - acc: 0.9695\n",
            "Epoch 174/350\n",
            "579/579 [==============================] - 1s 2ms/step - loss: 0.1397 - acc: 0.9697\n",
            "Epoch 175/350\n",
            "579/579 [==============================] - 1s 2ms/step - loss: 0.1388 - acc: 0.9700\n",
            "Epoch 176/350\n",
            "579/579 [==============================] - 1s 2ms/step - loss: 0.1379 - acc: 0.9700\n",
            "Epoch 177/350\n",
            "579/579 [==============================] - 1s 2ms/step - loss: 0.1371 - acc: 0.9700\n",
            "Epoch 178/350\n",
            "579/579 [==============================] - 1s 2ms/step - loss: 0.1362 - acc: 0.9704\n",
            "Epoch 179/350\n",
            "579/579 [==============================] - 1s 2ms/step - loss: 0.1354 - acc: 0.9702\n",
            "Epoch 180/350\n",
            "579/579 [==============================] - 1s 2ms/step - loss: 0.1346 - acc: 0.9702\n",
            "Epoch 181/350\n",
            "579/579 [==============================] - 1s 2ms/step - loss: 0.1338 - acc: 0.9702\n",
            "Epoch 182/350\n",
            "579/579 [==============================] - 1s 2ms/step - loss: 0.1330 - acc: 0.9705\n",
            "Epoch 183/350\n",
            "579/579 [==============================] - 1s 2ms/step - loss: 0.1322 - acc: 0.9709\n",
            "Epoch 184/350\n",
            "579/579 [==============================] - 1s 2ms/step - loss: 0.1314 - acc: 0.9714\n",
            "Epoch 185/350\n",
            "579/579 [==============================] - 1s 2ms/step - loss: 0.1306 - acc: 0.9713\n",
            "Epoch 186/350\n",
            "579/579 [==============================] - 1s 2ms/step - loss: 0.1298 - acc: 0.9714\n",
            "Epoch 187/350\n",
            "579/579 [==============================] - 1s 2ms/step - loss: 0.1291 - acc: 0.9715\n",
            "Epoch 188/350\n",
            "579/579 [==============================] - 1s 2ms/step - loss: 0.1283 - acc: 0.9715\n",
            "Epoch 189/350\n",
            "579/579 [==============================] - 1s 2ms/step - loss: 0.1276 - acc: 0.9717\n",
            "Epoch 190/350\n",
            "579/579 [==============================] - 1s 2ms/step - loss: 0.1268 - acc: 0.9718\n",
            "Epoch 191/350\n",
            "579/579 [==============================] - 1s 2ms/step - loss: 0.1261 - acc: 0.9718\n",
            "Epoch 192/350\n",
            "579/579 [==============================] - 1s 2ms/step - loss: 0.1254 - acc: 0.9720\n",
            "Epoch 193/350\n",
            "579/579 [==============================] - 1s 2ms/step - loss: 0.1247 - acc: 0.9721\n",
            "Epoch 194/350\n",
            "579/579 [==============================] - 1s 2ms/step - loss: 0.1240 - acc: 0.9721\n",
            "Epoch 195/350\n",
            "579/579 [==============================] - 1s 2ms/step - loss: 0.1233 - acc: 0.9721\n",
            "Epoch 196/350\n",
            "579/579 [==============================] - 1s 2ms/step - loss: 0.1226 - acc: 0.9722\n",
            "Epoch 197/350\n",
            "579/579 [==============================] - 1s 2ms/step - loss: 0.1219 - acc: 0.9723\n",
            "Epoch 198/350\n",
            "579/579 [==============================] - 1s 2ms/step - loss: 0.1212 - acc: 0.9723\n",
            "Epoch 199/350\n",
            "579/579 [==============================] - 1s 2ms/step - loss: 0.1206 - acc: 0.9724\n",
            "Epoch 200/350\n",
            "579/579 [==============================] - 1s 2ms/step - loss: 0.1199 - acc: 0.9724\n",
            "Epoch 201/350\n",
            "579/579 [==============================] - 1s 2ms/step - loss: 0.1193 - acc: 0.9724\n",
            "Epoch 202/350\n",
            "579/579 [==============================] - 1s 2ms/step - loss: 0.1186 - acc: 0.9724\n",
            "Epoch 203/350\n",
            "579/579 [==============================] - 1s 2ms/step - loss: 0.1180 - acc: 0.9726\n",
            "Epoch 204/350\n",
            "579/579 [==============================] - 1s 2ms/step - loss: 0.1173 - acc: 0.9725\n",
            "Epoch 205/350\n",
            "579/579 [==============================] - 1s 2ms/step - loss: 0.1167 - acc: 0.9726\n",
            "Epoch 206/350\n",
            "579/579 [==============================] - 1s 2ms/step - loss: 0.1161 - acc: 0.9727\n",
            "Epoch 207/350\n",
            "579/579 [==============================] - 1s 2ms/step - loss: 0.1155 - acc: 0.9726\n",
            "Epoch 208/350\n",
            "579/579 [==============================] - 1s 2ms/step - loss: 0.1149 - acc: 0.9727\n",
            "Epoch 209/350\n",
            "579/579 [==============================] - 1s 2ms/step - loss: 0.1143 - acc: 0.9727\n",
            "Epoch 210/350\n",
            "579/579 [==============================] - 2s 3ms/step - loss: 0.1137 - acc: 0.9728\n",
            "Epoch 211/350\n",
            "579/579 [==============================] - 2s 3ms/step - loss: 0.1131 - acc: 0.9728\n",
            "Epoch 212/350\n",
            "579/579 [==============================] - 2s 3ms/step - loss: 0.1125 - acc: 0.9729\n",
            "Epoch 213/350\n",
            "579/579 [==============================] - 2s 3ms/step - loss: 0.1119 - acc: 0.9728\n",
            "Epoch 214/350\n",
            "579/579 [==============================] - 2s 3ms/step - loss: 0.1113 - acc: 0.9729\n",
            "Epoch 215/350\n",
            "579/579 [==============================] - 2s 3ms/step - loss: 0.1108 - acc: 0.9728\n",
            "Epoch 216/350\n",
            "579/579 [==============================] - 1s 2ms/step - loss: 0.1102 - acc: 0.9729\n",
            "Epoch 217/350\n",
            "579/579 [==============================] - 1s 2ms/step - loss: 0.1096 - acc: 0.9730\n",
            "Epoch 218/350\n",
            "579/579 [==============================] - 1s 2ms/step - loss: 0.1091 - acc: 0.9731\n",
            "Epoch 219/350\n",
            "579/579 [==============================] - 1s 2ms/step - loss: 0.1085 - acc: 0.9731\n",
            "Epoch 220/350\n",
            "579/579 [==============================] - 1s 2ms/step - loss: 0.1080 - acc: 0.9732\n",
            "Epoch 221/350\n",
            "579/579 [==============================] - 1s 2ms/step - loss: 0.1075 - acc: 0.9732\n",
            "Epoch 222/350\n",
            "579/579 [==============================] - 1s 2ms/step - loss: 0.1069 - acc: 0.9735\n",
            "Epoch 223/350\n",
            "579/579 [==============================] - 1s 2ms/step - loss: 0.1064 - acc: 0.9733\n",
            "Epoch 224/350\n",
            "579/579 [==============================] - 1s 2ms/step - loss: 0.1059 - acc: 0.9735\n",
            "Epoch 225/350\n",
            "579/579 [==============================] - 1s 2ms/step - loss: 0.1053 - acc: 0.9736\n",
            "Epoch 226/350\n",
            "579/579 [==============================] - 1s 2ms/step - loss: 0.1048 - acc: 0.9736\n",
            "Epoch 227/350\n",
            "579/579 [==============================] - 1s 2ms/step - loss: 0.1043 - acc: 0.9736\n",
            "Epoch 228/350\n",
            "579/579 [==============================] - 1s 2ms/step - loss: 0.1038 - acc: 0.9739\n",
            "Epoch 229/350\n",
            "579/579 [==============================] - 1s 2ms/step - loss: 0.1033 - acc: 0.9742\n",
            "Epoch 230/350\n",
            "579/579 [==============================] - 1s 2ms/step - loss: 0.1028 - acc: 0.9743\n",
            "Epoch 231/350\n",
            "579/579 [==============================] - 1s 2ms/step - loss: 0.1023 - acc: 0.9743\n",
            "Epoch 232/350\n",
            "579/579 [==============================] - 1s 2ms/step - loss: 0.1018 - acc: 0.9743\n",
            "Epoch 233/350\n",
            "579/579 [==============================] - 1s 2ms/step - loss: 0.1013 - acc: 0.9743\n",
            "Epoch 234/350\n",
            "579/579 [==============================] - 1s 2ms/step - loss: 0.1009 - acc: 0.9743\n",
            "Epoch 235/350\n",
            "579/579 [==============================] - 1s 2ms/step - loss: 0.1004 - acc: 0.9743\n",
            "Epoch 236/350\n",
            "579/579 [==============================] - 1s 2ms/step - loss: 0.0999 - acc: 0.9743\n",
            "Epoch 237/350\n",
            "579/579 [==============================] - 1s 2ms/step - loss: 0.0994 - acc: 0.9743\n",
            "Epoch 238/350\n",
            "579/579 [==============================] - 1s 2ms/step - loss: 0.0990 - acc: 0.9743\n",
            "Epoch 239/350\n",
            "579/579 [==============================] - 1s 2ms/step - loss: 0.0985 - acc: 0.9743\n",
            "Epoch 240/350\n",
            "579/579 [==============================] - 1s 2ms/step - loss: 0.0980 - acc: 0.9744\n",
            "Epoch 241/350\n",
            "579/579 [==============================] - 1s 2ms/step - loss: 0.0976 - acc: 0.9746\n",
            "Epoch 242/350\n",
            "579/579 [==============================] - 1s 2ms/step - loss: 0.0971 - acc: 0.9749\n",
            "Epoch 243/350\n",
            "579/579 [==============================] - 1s 2ms/step - loss: 0.0967 - acc: 0.9747\n",
            "Epoch 244/350\n",
            "579/579 [==============================] - 1s 2ms/step - loss: 0.0963 - acc: 0.9749\n",
            "Epoch 245/350\n",
            "579/579 [==============================] - 1s 2ms/step - loss: 0.0958 - acc: 0.9749\n",
            "Epoch 246/350\n",
            "579/579 [==============================] - 1s 2ms/step - loss: 0.0954 - acc: 0.9749\n",
            "Epoch 247/350\n",
            "579/579 [==============================] - 1s 2ms/step - loss: 0.0949 - acc: 0.9749\n",
            "Epoch 248/350\n",
            "579/579 [==============================] - 1s 2ms/step - loss: 0.0945 - acc: 0.9749\n",
            "Epoch 249/350\n",
            "579/579 [==============================] - 1s 2ms/step - loss: 0.0941 - acc: 0.9750\n",
            "Epoch 250/350\n",
            "579/579 [==============================] - 1s 2ms/step - loss: 0.0937 - acc: 0.9750\n",
            "Epoch 251/350\n",
            "579/579 [==============================] - 1s 2ms/step - loss: 0.0933 - acc: 0.9753\n",
            "Epoch 252/350\n",
            "579/579 [==============================] - 1s 2ms/step - loss: 0.0928 - acc: 0.9751\n",
            "Epoch 253/350\n",
            "579/579 [==============================] - 1s 2ms/step - loss: 0.0924 - acc: 0.9754\n",
            "Epoch 254/350\n",
            "579/579 [==============================] - 1s 2ms/step - loss: 0.0920 - acc: 0.9752\n",
            "Epoch 255/350\n",
            "579/579 [==============================] - 1s 2ms/step - loss: 0.0916 - acc: 0.9754\n",
            "Epoch 256/350\n",
            "579/579 [==============================] - 1s 2ms/step - loss: 0.0912 - acc: 0.9755\n",
            "Epoch 257/350\n",
            "579/579 [==============================] - 1s 2ms/step - loss: 0.0908 - acc: 0.9758\n",
            "Epoch 258/350\n",
            "579/579 [==============================] - 1s 2ms/step - loss: 0.0904 - acc: 0.9758\n",
            "Epoch 259/350\n",
            "579/579 [==============================] - 1s 2ms/step - loss: 0.0900 - acc: 0.9758\n",
            "Epoch 260/350\n",
            "579/579 [==============================] - 1s 2ms/step - loss: 0.0896 - acc: 0.9758\n",
            "Epoch 261/350\n",
            "579/579 [==============================] - 1s 2ms/step - loss: 0.0892 - acc: 0.9760\n",
            "Epoch 262/350\n",
            "579/579 [==============================] - 1s 2ms/step - loss: 0.0888 - acc: 0.9760\n",
            "Epoch 263/350\n",
            "579/579 [==============================] - 1s 2ms/step - loss: 0.0885 - acc: 0.9760\n",
            "Epoch 264/350\n",
            "579/579 [==============================] - 1s 2ms/step - loss: 0.0881 - acc: 0.9761\n",
            "Epoch 265/350\n",
            "579/579 [==============================] - 1s 2ms/step - loss: 0.0877 - acc: 0.9761\n",
            "Epoch 266/350\n",
            "579/579 [==============================] - 1s 2ms/step - loss: 0.0873 - acc: 0.9761\n",
            "Epoch 267/350\n",
            "579/579 [==============================] - 1s 2ms/step - loss: 0.0870 - acc: 0.9761\n",
            "Epoch 268/350\n",
            "579/579 [==============================] - 1s 2ms/step - loss: 0.0866 - acc: 0.9761\n",
            "Epoch 269/350\n",
            "579/579 [==============================] - 1s 2ms/step - loss: 0.0862 - acc: 0.9761\n",
            "Epoch 270/350\n",
            "579/579 [==============================] - 1s 2ms/step - loss: 0.0859 - acc: 0.9761\n",
            "Epoch 271/350\n",
            "579/579 [==============================] - 1s 2ms/step - loss: 0.0855 - acc: 0.9761\n",
            "Epoch 272/350\n",
            "579/579 [==============================] - 1s 2ms/step - loss: 0.0851 - acc: 0.9761\n",
            "Epoch 273/350\n",
            "579/579 [==============================] - 1s 2ms/step - loss: 0.0848 - acc: 0.9761\n",
            "Epoch 274/350\n",
            "579/579 [==============================] - 1s 2ms/step - loss: 0.0844 - acc: 0.9761\n",
            "Epoch 275/350\n",
            "579/579 [==============================] - 1s 2ms/step - loss: 0.0841 - acc: 0.9762\n",
            "Epoch 276/350\n",
            "579/579 [==============================] - 1s 2ms/step - loss: 0.0837 - acc: 0.9761\n",
            "Epoch 277/350\n",
            "579/579 [==============================] - 1s 2ms/step - loss: 0.0834 - acc: 0.9762\n",
            "Epoch 278/350\n",
            "579/579 [==============================] - 1s 2ms/step - loss: 0.0830 - acc: 0.9762\n",
            "Epoch 279/350\n",
            "579/579 [==============================] - 1s 2ms/step - loss: 0.0827 - acc: 0.9762\n",
            "Epoch 280/350\n",
            "579/579 [==============================] - 1s 2ms/step - loss: 0.0823 - acc: 0.9763\n",
            "Epoch 281/350\n",
            "579/579 [==============================] - 1s 2ms/step - loss: 0.0820 - acc: 0.9763\n",
            "Epoch 282/350\n",
            "579/579 [==============================] - 1s 2ms/step - loss: 0.0817 - acc: 0.9763\n",
            "Epoch 283/350\n",
            "579/579 [==============================] - 1s 2ms/step - loss: 0.0813 - acc: 0.9763\n",
            "Epoch 284/350\n",
            "579/579 [==============================] - 1s 2ms/step - loss: 0.0810 - acc: 0.9763\n",
            "Epoch 285/350\n",
            "579/579 [==============================] - 1s 2ms/step - loss: 0.0807 - acc: 0.9765\n",
            "Epoch 286/350\n",
            "579/579 [==============================] - 1s 2ms/step - loss: 0.0803 - acc: 0.9766\n",
            "Epoch 287/350\n",
            "579/579 [==============================] - 1s 2ms/step - loss: 0.0800 - acc: 0.9767\n",
            "Epoch 288/350\n",
            "579/579 [==============================] - 1s 2ms/step - loss: 0.0797 - acc: 0.9770\n",
            "Epoch 289/350\n",
            "579/579 [==============================] - 1s 2ms/step - loss: 0.0794 - acc: 0.9780\n",
            "Epoch 290/350\n",
            "579/579 [==============================] - 1s 2ms/step - loss: 0.0791 - acc: 0.9784\n",
            "Epoch 291/350\n",
            "579/579 [==============================] - 1s 2ms/step - loss: 0.0787 - acc: 0.9785\n",
            "Epoch 292/350\n",
            "579/579 [==============================] - 1s 2ms/step - loss: 0.0784 - acc: 0.9786\n",
            "Epoch 293/350\n",
            "579/579 [==============================] - 1s 2ms/step - loss: 0.0781 - acc: 0.9786\n",
            "Epoch 294/350\n",
            "579/579 [==============================] - 1s 2ms/step - loss: 0.0778 - acc: 0.9786\n",
            "Epoch 295/350\n",
            "579/579 [==============================] - 1s 2ms/step - loss: 0.0775 - acc: 0.9790\n",
            "Epoch 296/350\n",
            "579/579 [==============================] - 1s 2ms/step - loss: 0.0772 - acc: 0.9791\n",
            "Epoch 297/350\n",
            "579/579 [==============================] - 1s 2ms/step - loss: 0.0769 - acc: 0.9793\n",
            "Epoch 298/350\n",
            "579/579 [==============================] - 1s 2ms/step - loss: 0.0766 - acc: 0.9795\n",
            "Epoch 299/350\n",
            "579/579 [==============================] - 1s 2ms/step - loss: 0.0763 - acc: 0.9793\n",
            "Epoch 300/350\n",
            "579/579 [==============================] - 1s 2ms/step - loss: 0.0760 - acc: 0.9797\n",
            "Epoch 301/350\n",
            "579/579 [==============================] - 1s 2ms/step - loss: 0.0757 - acc: 0.9798\n",
            "Epoch 302/350\n",
            "579/579 [==============================] - 1s 2ms/step - loss: 0.0754 - acc: 0.9806\n",
            "Epoch 303/350\n",
            "579/579 [==============================] - 1s 2ms/step - loss: 0.0751 - acc: 0.9799\n",
            "Epoch 304/350\n",
            "579/579 [==============================] - 1s 2ms/step - loss: 0.0748 - acc: 0.9803\n",
            "Epoch 305/350\n",
            "579/579 [==============================] - 1s 2ms/step - loss: 0.0745 - acc: 0.9824\n",
            "Epoch 306/350\n",
            "579/579 [==============================] - 1s 2ms/step - loss: 0.0742 - acc: 0.9824\n",
            "Epoch 307/350\n",
            "579/579 [==============================] - 1s 2ms/step - loss: 0.0740 - acc: 0.9824\n",
            "Epoch 308/350\n",
            "579/579 [==============================] - 1s 2ms/step - loss: 0.0736 - acc: 0.9824\n",
            "Epoch 309/350\n",
            "579/579 [==============================] - 1s 2ms/step - loss: 0.0734 - acc: 0.9824\n",
            "Epoch 310/350\n",
            "579/579 [==============================] - 1s 2ms/step - loss: 0.0731 - acc: 0.9825\n",
            "Epoch 311/350\n",
            "579/579 [==============================] - 1s 2ms/step - loss: 0.0728 - acc: 0.9825\n",
            "Epoch 312/350\n",
            "579/579 [==============================] - 1s 2ms/step - loss: 0.0725 - acc: 0.9829\n",
            "Epoch 313/350\n",
            "579/579 [==============================] - 1s 2ms/step - loss: 0.0723 - acc: 0.9831\n",
            "Epoch 314/350\n",
            "579/579 [==============================] - 1s 2ms/step - loss: 0.0720 - acc: 0.9834\n",
            "Epoch 315/350\n",
            "579/579 [==============================] - 1s 2ms/step - loss: 0.0717 - acc: 0.9835\n",
            "Epoch 316/350\n",
            "579/579 [==============================] - 1s 2ms/step - loss: 0.0714 - acc: 0.9834\n",
            "Epoch 317/350\n",
            "579/579 [==============================] - 1s 2ms/step - loss: 0.0712 - acc: 0.9834\n",
            "Epoch 318/350\n",
            "579/579 [==============================] - 1s 2ms/step - loss: 0.0709 - acc: 0.9834\n",
            "Epoch 319/350\n",
            "579/579 [==============================] - 1s 2ms/step - loss: 0.0706 - acc: 0.9834\n",
            "Epoch 320/350\n",
            "579/579 [==============================] - 1s 2ms/step - loss: 0.0704 - acc: 0.9836\n",
            "Epoch 321/350\n",
            "579/579 [==============================] - 1s 2ms/step - loss: 0.0701 - acc: 0.9834\n",
            "Epoch 322/350\n",
            "579/579 [==============================] - 1s 2ms/step - loss: 0.0698 - acc: 0.9836\n",
            "Epoch 323/350\n",
            "579/579 [==============================] - 1s 2ms/step - loss: 0.0696 - acc: 0.9837\n",
            "Epoch 324/350\n",
            "579/579 [==============================] - 1s 2ms/step - loss: 0.0693 - acc: 0.9838\n",
            "Epoch 325/350\n",
            "579/579 [==============================] - 1s 2ms/step - loss: 0.0691 - acc: 0.9834\n",
            "Epoch 326/350\n",
            "579/579 [==============================] - 1s 2ms/step - loss: 0.0688 - acc: 0.9837\n",
            "Epoch 327/350\n",
            "579/579 [==============================] - 1s 2ms/step - loss: 0.0686 - acc: 0.9837\n",
            "Epoch 328/350\n",
            "579/579 [==============================] - 1s 2ms/step - loss: 0.0683 - acc: 0.9838\n",
            "Epoch 329/350\n",
            "579/579 [==============================] - 1s 2ms/step - loss: 0.0681 - acc: 0.9840\n",
            "Epoch 330/350\n",
            "579/579 [==============================] - 1s 2ms/step - loss: 0.0678 - acc: 0.9838\n",
            "Epoch 331/350\n",
            "579/579 [==============================] - 1s 2ms/step - loss: 0.0676 - acc: 0.9839\n",
            "Epoch 332/350\n",
            "579/579 [==============================] - 1s 2ms/step - loss: 0.0673 - acc: 0.9840\n",
            "Epoch 333/350\n",
            "579/579 [==============================] - 1s 2ms/step - loss: 0.0671 - acc: 0.9839\n",
            "Epoch 334/350\n",
            "579/579 [==============================] - 1s 2ms/step - loss: 0.0668 - acc: 0.9840\n",
            "Epoch 335/350\n",
            "579/579 [==============================] - 1s 2ms/step - loss: 0.0666 - acc: 0.9840\n",
            "Epoch 336/350\n",
            "579/579 [==============================] - 1s 2ms/step - loss: 0.0663 - acc: 0.9841\n",
            "Epoch 337/350\n",
            "579/579 [==============================] - 1s 2ms/step - loss: 0.0661 - acc: 0.9843\n",
            "Epoch 338/350\n",
            "579/579 [==============================] - 1s 2ms/step - loss: 0.0658 - acc: 0.9842\n",
            "Epoch 339/350\n",
            "579/579 [==============================] - 1s 2ms/step - loss: 0.0656 - acc: 0.9842\n",
            "Epoch 340/350\n",
            "579/579 [==============================] - 1s 2ms/step - loss: 0.0654 - acc: 0.9843\n",
            "Epoch 341/350\n",
            "579/579 [==============================] - 1s 2ms/step - loss: 0.0651 - acc: 0.9844\n",
            "Epoch 342/350\n",
            "579/579 [==============================] - 1s 2ms/step - loss: 0.0649 - acc: 0.9843\n",
            "Epoch 343/350\n",
            "579/579 [==============================] - 1s 2ms/step - loss: 0.0647 - acc: 0.9844\n",
            "Epoch 344/350\n",
            "579/579 [==============================] - 1s 2ms/step - loss: 0.0645 - acc: 0.9844\n",
            "Epoch 345/350\n",
            "579/579 [==============================] - 1s 2ms/step - loss: 0.0642 - acc: 0.9843\n",
            "Epoch 346/350\n",
            "579/579 [==============================] - 1s 2ms/step - loss: 0.0640 - acc: 0.9843\n",
            "Epoch 347/350\n",
            "579/579 [==============================] - 1s 2ms/step - loss: 0.0638 - acc: 0.9844\n",
            "Epoch 348/350\n",
            "579/579 [==============================] - 1s 2ms/step - loss: 0.0635 - acc: 0.9843\n",
            "Epoch 349/350\n",
            "579/579 [==============================] - 1s 2ms/step - loss: 0.0633 - acc: 0.9844\n",
            "Epoch 350/350\n",
            "579/579 [==============================] - 1s 2ms/step - loss: 0.0631 - acc: 0.9844\n",
            "<bound method Model.summary of <tensorflow.python.keras.engine.sequential.Sequential object at 0x7f7bd8520ba8>>\n"
          ],
          "name": "stdout"
        },
        {
          "output_type": "display_data",
          "data": {
            "image/png": "[encoded data removed]",
            "text/plain": [
              "<Figure size 720x504 with 1 Axes>"
            ]
          },
          "metadata": {
            "tags": [],
            "needs_background": "light"
          }
        }
      ]
    },
    {
      "cell_type": "code",
      "metadata": {
        "colab": {
          "base_uri": "https://localhost:8080/"
        },
        "id": "hfYvXwzn_Mm1",
        "outputId": "45cd277d-4050-4737-d343-d21e5780f3fd"
      },
      "source": [
        "model5.evaluate(test, label_test, batch_size=40)\n",
        "model5.evaluate(r_test, r_label_test, batch_size=40)"
      ],
      "execution_count": 58,
      "outputs": [
        {
          "output_type": "stream",
          "text": [
            "2604/2604 [==============================] - 5s 2ms/step - loss: 0.0891 - acc: 0.9769\n",
            "38/38 [==============================] - 0s 2ms/step - loss: 1.4480 - acc: 0.6873\n"
          ],
          "name": "stdout"
        },
        {
          "output_type": "execute_result",
          "data": {
            "text/plain": [
              "[1.448018193244934, 0.687333345413208]"
            ]
          },
          "metadata": {
            "tags": []
          },
          "execution_count": 58
        }
      ]
    },
    {
      "cell_type": "code",
      "metadata": {
        "id": "l8EMtKM143FT"
      },
      "source": [
        "label_preds = model3.predict_classes(r_descriptor_onehot)\n",
        "label_preds_onehot = to_categorical(label_preds)"
      ],
      "execution_count": 59,
      "outputs": []
    },
    {
      "cell_type": "code",
      "metadata": {
        "id": "fiHQNsVupk2W"
      },
      "source": [
        "cf_matrix = confusion_matrix(r_agency_cat, label_preds)"
      ],
      "execution_count": 60,
      "outputs": []
    },
    {
      "cell_type": "code",
      "metadata": {
        "colab": {
          "base_uri": "https://localhost:8080/",
          "height": 803
        },
        "id": "9VxZFJDWumpA",
        "outputId": "c7534d70-fe2b-4dc0-8565-855cc9964341"
      },
      "source": [
        "plt.figure(figsize=(13, 13))\n",
        "plt.title('Confusion Matrix: Predictions on Random Sample', \n",
        "          fontdict={'fontsize': 16, 'family': 'serif', 'color': '#58508d', 'weight': 'bold'})\n",
        "\n",
        "sns.heatmap(cf_matrix/np.sum(cf_matrix), annot=True, xticklabels=le.classes_, yticklabels=le.classes_,\n",
        "            fmt='.2%', cmap='Reds')\n",
        "plt.ylabel('True Agency')\n",
        "plt.xlabel('Predicted Agency')"
      ],
      "execution_count": 61,
      "outputs": [
        {
          "output_type": "execute_result",
          "data": {
            "text/plain": [
              "Text(0.5, 96.0, 'Predicted Agency')"
            ]
          },
          "metadata": {
            "tags": []
          },
          "execution_count": 61
        },
        {
          "output_type": "display_data",
          "data": {
            "image/png": "[encoded data removed]",
            "text/plain": [
              "<Figure size 936x936 with 2 Axes>"
            ]
          },
          "metadata": {
            "tags": [],
            "needs_background": "light"
          }
        }
      ]
    },
    {
      "cell_type": "markdown",
      "metadata": {
        "id": "nQCkQBCrLMhL"
      },
      "source": [
        "# Conclusion: Interpreting the Results\n",
        "With 98% accuracy on the resampled test data, and 70% accuracy on the random subset, the third model had the best overall performance. It correctly predicted that the majority of calls received a response from the NYPD, and did not completely exclude any agency from its predictions. Similar models can be trained and broadened in scope to optimize the assignment of future complaints to a responding agency."
      ]
    },
    {
      "cell_type": "markdown",
      "metadata": {
        "id": "buv6obDyjy8g"
      },
      "source": [
        "# References \n",
        "[Hyperparameter Optimization with Keras]('https://towardsdatascience.com/hyperparameter-optimization-with-keras-b82e6364ca53')"
      ]
    }
  ]
}