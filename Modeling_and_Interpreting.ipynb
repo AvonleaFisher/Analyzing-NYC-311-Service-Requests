{
  "nbformat": 4,
  "nbformat_minor": 0,
  "metadata": {
    "accelerator": "GPU",
    "colab": {
      "name": "Modeling_and_Interpreting.ipynb",
      "provenance": [],
      "collapsed_sections": [],
      "machine_shape": "hm"
    },
    "kernelspec": {
      "display_name": "Python 3",
      "name": "python3"
    }
  },
  "cells": [
    {
      "cell_type": "markdown",
      "metadata": {
        "id": "BuPIppTCJQoQ"
      },
      "source": [
        "# Introduction "
      ]
    },
    {
      "cell_type": "markdown",
      "metadata": {
        "id": "zalxhpvEJQld"
      },
      "source": [
        "The aim of this section is to train a neural network that can accurately classify the agency that responded to a 311 call. In the exploratory analysis section, we saw that none of the community districts' numeric indicators were highly correlated with any of the dummy-encoded agency categories. Intuitively, one may expect the call's descriptor to be the best predictor of the responding agency, but given that the descriptors consist of natural language data, they will need to undergo additional preprocessig before being fed into a model."
      ]
    },
    {
      "cell_type": "markdown",
      "metadata": {
        "id": "EQ2JuRRPUfI6"
      },
      "source": [
        "# Loading Dependencies"
      ]
    },
    {
      "cell_type": "code",
      "metadata": {
        "id": "muoTtQYo0uhz"
      },
      "source": [
        "!pip install -U -q PyDrive\n",
        "from pydrive.auth import GoogleAuth\n",
        "from pydrive.drive import GoogleDrive\n",
        "from google.colab import auth\n",
        "from oauth2client.client import GoogleCredentials\n",
        "from sklearn.model_selection import train_test_split\n",
        "from sklearn.metrics import confusion_matrix\n",
        "\n",
        "\n",
        "import matplotlib.pyplot as plt\n",
        "import pandas as pd\n",
        "import numpy as np\n",
        "import seaborn as sns\n",
        "import random\n",
        "import re\n",
        "\n",
        "from sklearn import preprocessing\n",
        "import tensorflow as tf\n",
        "from tensorflow import keras\n",
        "from tensorflow.keras import layers\n",
        "\n",
        "from keras.preprocessing.text import Tokenizer\n",
        "from keras import models\n",
        "from keras import layers\n",
        "from keras import optimizers\n",
        "from keras.utils.np_utils import to_categorical"
      ],
      "execution_count": 1,
      "outputs": []
    },
    {
      "cell_type": "code",
      "metadata": {
        "id": "dHtsa82d0yeh"
      },
      "source": [
        "auth.authenticate_user()\n",
        "gauth = GoogleAuth()\n",
        "gauth.credentials = GoogleCredentials.get_application_default()\n",
        "drive = GoogleDrive(gauth)"
      ],
      "execution_count": 2,
      "outputs": []
    },
    {
      "cell_type": "code",
      "metadata": {
        "colab": {
          "base_uri": "https://localhost:8080/"
        },
        "id": "WZHghdba0oB5",
        "outputId": "f960cd28-94e9-4d8b-d51f-d76ffe1de1cb"
      },
      "source": [
        "path = '/content/drive/MyDrive/Colab Notebooks/df_final.csv'\n",
        "df = pd.read_csv(path, index_col=0)"
      ],
      "execution_count": 3,
      "outputs": [
        {
          "output_type": "stream",
          "text": [
            "/usr/local/lib/python3.6/dist-packages/numpy/lib/arraysetops.py:569: FutureWarning: elementwise comparison failed; returning scalar instead, but in the future will perform elementwise comparison\n",
            "  mask |= (ar1 == a)\n"
          ],
          "name": "stderr"
        }
      ]
    },
    {
      "cell_type": "markdown",
      "metadata": {
        "id": "q395NFX9yEMQ"
      },
      "source": [
        "# Assessing Model Performance"
      ]
    },
    {
      "cell_type": "markdown",
      "metadata": {
        "id": "9LUNQFdHyb4p"
      },
      "source": [
        "With perfectly balanced classes, a model's accuracy is acceptable if it exceeds the expected accuracy rate of simply picking a random class. With heavily imbalanced classes, however, a model's accuracy can instead be compared to that of picking the majority class. Below is the expected accuracy rate if we were to predict that all calls in a sample were responded to by the NYPD."
      ]
    },
    {
      "cell_type": "code",
      "metadata": {
        "colab": {
          "base_uri": "https://localhost:8080/"
        },
        "id": "DNrao_hK2sFG",
        "outputId": "6db0c3ef-d1fb-4725-c087-8b6f61ca1018"
      },
      "source": [
        "len(df[df.agency =='NYPD'])/sum(df.agency.value_counts()) * 100"
      ],
      "execution_count": 4,
      "outputs": [
        {
          "output_type": "execute_result",
          "data": {
            "text/plain": [
              "52.613013902155835"
            ]
          },
          "metadata": {
            "tags": []
          },
          "execution_count": 4
        }
      ]
    },
    {
      "cell_type": "markdown",
      "metadata": {
        "id": "1TpY--8t3X-b"
      },
      "source": [
        "While the aim will be to maximize model accuracy, any classifier that is at least 53% accurate will out-perform the simple assignment of all calls to the NYPD."
      ]
    },
    {
      "cell_type": "markdown",
      "metadata": {
        "id": "W9fRwJwwMgbA"
      },
      "source": [
        "# Sampling the Data \n",
        "The dataset currently consists of more than one million rows:"
      ]
    },
    {
      "cell_type": "code",
      "metadata": {
        "colab": {
          "base_uri": "https://localhost:8080/"
        },
        "id": "mMMJh58Y8dIA",
        "outputId": "99d83036-6f67-4cb9-bec4-414a798cc5d7"
      },
      "source": [
        "len(df)"
      ],
      "execution_count": 5,
      "outputs": [
        {
          "output_type": "execute_result",
          "data": {
            "text/plain": [
              "1379786"
            ]
          },
          "metadata": {
            "tags": []
          },
          "execution_count": 5
        }
      ]
    },
    {
      "cell_type": "markdown",
      "metadata": {
        "id": "JMUcv--x8aaY"
      },
      "source": [
        "Retrieving the training data from a representative sample, rather than the entire dataset, will save time in the training process and ideally not result in a significant decline in accuracy.\n",
        "\n",
        "In training classification models, we'll want to ensure that complaint descriptors from every agency category are represented. This way, the model will also be able to recognize encoded descriptors that correspond to agencies that rarely receive calls. However, training a model on samples of equal length from each agency may lead to confusion when it is presented with new, imbalanced data. We'll oversample the minority classes, but ensure that the largest samples are those agencies that receive the most calls. This will allow the diversity of descriptors associated with each agency to be captured in the samples. Below, we create and print a dictionary with the class weights."
      ]
    },
    {
      "cell_type": "code",
      "metadata": {
        "colab": {
          "base_uri": "https://localhost:8080/"
        },
        "id": "m2JjrNL748aM",
        "outputId": "92d3058a-b28e-4b19-ca70-a3b6a6a63bf3"
      },
      "source": [
        "weights_dict = {}\n",
        "\n",
        "for agency, count in list(zip(df.agency.value_counts().index, df.agency.value_counts().values)):\n",
        "  weight = count/len(df)\n",
        "  weights_dict[agency] = weight\n",
        "weights_dict"
      ],
      "execution_count": 6,
      "outputs": [
        {
          "output_type": "execute_result",
          "data": {
            "text/plain": [
              "{'DCA': 0.007849768007502613,\n",
              " 'DEP': 0.057544430803037575,\n",
              " 'DOB': 0.031322248522596983,\n",
              " 'DOE': 0.0003138167802833193,\n",
              " 'DOHMH': 0.022252001397318134,\n",
              " 'DOITT': 0.00011233626084044916,\n",
              " 'DOT': 0.059362103978443034,\n",
              " 'DPR': 0.08357020581452486,\n",
              " 'DSNY': 0.04376330822315924,\n",
              " 'EDC': 0.004157891151236496,\n",
              " 'HPD': 0.12691315899711986,\n",
              " 'NYPD': 0.5261301390215584,\n",
              " 'OSE': 0.03320152545394721,\n",
              " 'TLC': 0.0035070655884318295}"
            ]
          },
          "metadata": {
            "tags": []
          },
          "execution_count": 6
        }
      ]
    },
    {
      "cell_type": "code",
      "metadata": {
        "colab": {
          "base_uri": "https://localhost:8080/"
        },
        "id": "uPPBjrs5LGG6",
        "outputId": "ee6bac45-0a8f-4afa-f248-1da92a7dc75a"
      },
      "source": [
        "df.agency.value_counts()"
      ],
      "execution_count": 7,
      "outputs": [
        {
          "output_type": "execute_result",
          "data": {
            "text/plain": [
              "NYPD     725947\n",
              "HPD      175113\n",
              "DPR      115309\n",
              "DOT       81907\n",
              "DEP       79399\n",
              "DSNY      60384\n",
              "OSE       45811\n",
              "DOB       43218\n",
              "DOHMH     30703\n",
              "DCA       10831\n",
              "EDC        5737\n",
              "TLC        4839\n",
              "DOE         433\n",
              "DOITT       155\n",
              "Name: agency, dtype: int64"
            ]
          },
          "metadata": {
            "tags": []
          },
          "execution_count": 7
        }
      ]
    },
    {
      "cell_type": "markdown",
      "metadata": {
        "id": "gh_WXYsAPfWm"
      },
      "source": [
        "Next, we'll create a new dictionary with guidelines for the number of samples to be drawn from each class. The class weights are multiplied by a term that results in the largest sample, NYPD, consisting of around 60k calls."
      ]
    },
    {
      "cell_type": "code",
      "metadata": {
        "id": "Eei-2kEy9iCS"
      },
      "source": [
        "n_samples_dict = {}\n",
        "\n",
        "for agency, weight in zip(weights_dict.keys(), weights_dict.values()):\n",
        "  n_samples = int(15**4.3 * weight)\n",
        "  n_samples_dict[agency] = n_samples"
      ],
      "execution_count": 8,
      "outputs": []
    },
    {
      "cell_type": "code",
      "metadata": {
        "colab": {
          "base_uri": "https://localhost:8080/"
        },
        "id": "qE__5eWsBH0c",
        "outputId": "4683ec4d-7d07-4f60-9030-8b57940677b6"
      },
      "source": [
        "n_samples_dict"
      ],
      "execution_count": 9,
      "outputs": [
        {
          "output_type": "execute_result",
          "data": {
            "text/plain": [
              "{'DCA': 895,\n",
              " 'DEP': 6564,\n",
              " 'DOB': 3573,\n",
              " 'DOE': 35,\n",
              " 'DOHMH': 2538,\n",
              " 'DOITT': 12,\n",
              " 'DOT': 6771,\n",
              " 'DPR': 9533,\n",
              " 'DSNY': 4992,\n",
              " 'EDC': 474,\n",
              " 'HPD': 14477,\n",
              " 'NYPD': 60018,\n",
              " 'OSE': 3787,\n",
              " 'TLC': 400}"
            ]
          },
          "metadata": {
            "tags": []
          },
          "execution_count": 9
        }
      ]
    },
    {
      "cell_type": "markdown",
      "metadata": {
        "id": "1g8WnjUsRmw2"
      },
      "source": [
        "The below function returns weighted samples of an agency that's passed in. Agencies that appear in fewer than 400 rows are sampled with replacement, such\n",
        "that the minimum sample size is 400."
      ]
    },
    {
      "cell_type": "code",
      "metadata": {
        "id": "geHzoyWv52OZ"
      },
      "source": [
        "def get_weighted_sample(agency):\n",
        "  \n",
        "  \"\"\"Takes in an agency name as a string, and creates a subset with all rows\n",
        "     with a match in the agency column. If the number of rows is greater than \n",
        "     that of one of the minority classes, DOE, a weighted sample is returned. \n",
        "     For the two smallest minority classes, sample sizes of at least 400 are \n",
        "     returned.\"\"\"\n",
        "\n",
        "  agency_subset = df[df.agency == agency]\n",
        "\n",
        "  n_samples = n_samples_dict[agency]\n",
        "  \n",
        "  weighted_sample = agency_subset.sample(n=n_samples, random_state=9)\n",
        "\n",
        "  return weighted_sample"
      ],
      "execution_count": 10,
      "outputs": []
    },
    {
      "cell_type": "markdown",
      "metadata": {
        "id": "__2PdUBESxkK"
      },
      "source": [
        "The function is applied below to each unique agency to create a dataframe of samples. These are conatenated in 'weighted_df' and the index is reset."
      ]
    },
    {
      "cell_type": "code",
      "metadata": {
        "id": "uR6-bbBC-MiY"
      },
      "source": [
        "DCA = get_weighted_sample('DCA')\n",
        "DEP = get_weighted_sample('DEP')\n",
        "DOB = get_weighted_sample('DOB')\n",
        "DOE = get_weighted_sample('DOE')\n",
        "DOHMH = get_weighted_sample('DOHMH')\n",
        "DOITT = get_weighted_sample('DOITT')\n",
        "DOT = get_weighted_sample('DOT')\n",
        "DPR = get_weighted_sample('DPR')\n",
        "DSNY = get_weighted_sample('DSNY')\n",
        "EDC = get_weighted_sample('EDC')\n",
        "HPD = get_weighted_sample('HPD')\n",
        "NYPD = get_weighted_sample('NYPD')\n",
        "OSE = get_weighted_sample('OSE')\n",
        "TLC = get_weighted_sample('TLC')"
      ],
      "execution_count": 11,
      "outputs": []
    },
    {
      "cell_type": "code",
      "metadata": {
        "id": "ny-Ss-YVFcCJ"
      },
      "source": [
        "weighted_df = pd.concat([DCA, DEP, DOB, DOE, DOHMH, DOITT,\n",
        "                        DOT, DPR, DSNY, EDC, HPD, NYPD, OSE, TLC])\n",
        "weighted_df.reset_index(inplace=True)"
      ],
      "execution_count": 12,
      "outputs": []
    },
    {
      "cell_type": "markdown",
      "metadata": {
        "id": "VJ-R1hGCuT4P"
      },
      "source": [
        "In order for the model to be tested on new data, it should have exposure to every unique descriptor in the dataset. The below code creates a list of every item in the original dataframe's unique descriptors that is not found in the sample dataframe."
      ]
    },
    {
      "cell_type": "code",
      "metadata": {
        "colab": {
          "base_uri": "https://localhost:8080/"
        },
        "id": "LCKQkzBWcAJy",
        "outputId": "c90faeb7-484a-4e68-a0db-aa3c3803adf1"
      },
      "source": [
        "descriptors_not_in_sample = []\n",
        "\n",
        "for i in df.descriptor.unique():\n",
        "  if i not in weighted_df.descriptor.unique():\n",
        "    descriptors_not_in_sample.append(i)\n",
        "\n",
        "len(descriptors_not_in_sample)"
      ],
      "execution_count": 13,
      "outputs": [
        {
          "output_type": "execute_result",
          "data": {
            "text/plain": [
              "168"
            ]
          },
          "metadata": {
            "tags": []
          },
          "execution_count": 13
        }
      ]
    },
    {
      "cell_type": "markdown",
      "metadata": {
        "id": "Iim78erDu8if"
      },
      "source": [
        "The list above captures many of the less common descriptors that were not captured in the sample data. Below, we create a dataframe with all calls that match these descriptors and concatenate them with the weighted sample dataframe."
      ]
    },
    {
      "cell_type": "code",
      "metadata": {
        "id": "zdZUiYEveDap"
      },
      "source": [
        "descriptors_not_in_sample_df = df[df.descriptor.isin(descriptors_not_in_sample)]"
      ],
      "execution_count": 14,
      "outputs": []
    },
    {
      "cell_type": "code",
      "metadata": {
        "id": "XTy5NgSAezLu"
      },
      "source": [
        "weighted_df = pd.concat([DCA, DEP, DOB, DOE, DOHMH, DOT, DOITT,\n",
        "                         DPR, DSNY, EDC, HPD, NYPD, OSE, TLC,\n",
        "                         descriptors_not_in_sample_df])\n",
        "weighted_df.reset_index(inplace=True)"
      ],
      "execution_count": 15,
      "outputs": []
    },
    {
      "cell_type": "code",
      "metadata": {
        "colab": {
          "base_uri": "https://localhost:8080/"
        },
        "id": "Ka9F8jA5b1xJ",
        "outputId": "230547fa-20fa-4b23-dbd3-4ba0cfce3170"
      },
      "source": [
        "#confirm that the number of unique descriptors is the same for both dataframes\n",
        "len(weighted_df.descriptor.unique()) == len(df.descriptor.unique())"
      ],
      "execution_count": 16,
      "outputs": [
        {
          "output_type": "execute_result",
          "data": {
            "text/plain": [
              "True"
            ]
          },
          "metadata": {
            "tags": []
          },
          "execution_count": 16
        }
      ]
    },
    {
      "cell_type": "markdown",
      "metadata": {
        "id": "7G-L7vYfTWXO"
      },
      "source": [
        "The classes remain imbalanced, but no agency is represented by only a handful of samples, as would have been the case with simple random sampling:"
      ]
    },
    {
      "cell_type": "code",
      "metadata": {
        "colab": {
          "base_uri": "https://localhost:8080/"
        },
        "id": "iJ_kfxRaDU69",
        "outputId": "31e48c7b-1e4f-4036-8438-ad1906175521"
      },
      "source": [
        "weighted_df.agency.value_counts()"
      ],
      "execution_count": 17,
      "outputs": [
        {
          "output_type": "execute_result",
          "data": {
            "text/plain": [
              "NYPD     60042\n",
              "HPD      14521\n",
              "DPR       9556\n",
              "DOT       6999\n",
              "DEP       6684\n",
              "DSNY      5022\n",
              "OSE       3787\n",
              "DOB       3618\n",
              "DOHMH     2675\n",
              "DCA        978\n",
              "EDC        474\n",
              "TLC        412\n",
              "DOE         53\n",
              "DOITT       37\n",
              "Name: agency, dtype: int64"
            ]
          },
          "metadata": {
            "tags": []
          },
          "execution_count": 17
        }
      ]
    },
    {
      "cell_type": "markdown",
      "metadata": {
        "id": "0Xxzm3adUPw4"
      },
      "source": [
        "# Keras Neural Network"
      ]
    },
    {
      "cell_type": "markdown",
      "metadata": {
        "id": "mEdxA7s6wc6X"
      },
      "source": [
        "## Preparing the Training and Test Data"
      ]
    },
    {
      "cell_type": "markdown",
      "metadata": {
        "id": "rQ45Wmxxwhg0"
      },
      "source": [
        "Using the dataframe of weighted samples, we assign 'X' to the descriptor column and 'y' to the agency column. "
      ]
    },
    {
      "cell_type": "code",
      "metadata": {
        "id": "XuDY4PxXbCXy"
      },
      "source": [
        "X = weighted_df.descriptor\n",
        "y = weighted_df.agency"
      ],
      "execution_count": 18,
      "outputs": []
    },
    {
      "cell_type": "markdown",
      "metadata": {
        "id": "vWtSr0A5w3qD"
      },
      "source": [
        "The [Keras Tokenizer](https://www.tensorflow.org/api_docs/python/tf/keras/preprocessing/text/Tokenizer) `fit_on_texts()` method, used below, \"updates internal vocabulary based on a list of texts.\" In this case, the list of texts is all descriptors in the weighted sample. The `texts_to_matrix()` method converts the list of texts to a NumPy matrix. Specifying the mode \"binary\" means that only the presence or absence of each item in the tokenizer's vocabulary will be accounted for in the matrix."
      ]
    },
    {
      "cell_type": "code",
      "metadata": {
        "id": "0q7gzxcYgyQ2"
      },
      "source": [
        "descriptors = X\n",
        "tokenizer = Tokenizer() \n",
        "\n",
        "tokenizer.fit_on_texts(descriptors) \n",
        "descriptor_onehot = tokenizer.texts_to_matrix(descriptors, mode='binary')\n",
        "word_index = tokenizer.word_index"
      ],
      "execution_count": 19,
      "outputs": []
    },
    {
      "cell_type": "markdown",
      "metadata": {
        "id": "yQMyujM_-goW"
      },
      "source": [
        "The word index is a dictionary that contains words in the tokenizer's vocabulary as keys, and integers that correspond to the keys' frequency rank as values. The first ten items of the dictionary are printed below, and we can see that the most frequent words have the lowest values. The highest value in the dictionary is 1114."
      ]
    },
    {
      "cell_type": "code",
      "metadata": {
        "colab": {
          "base_uri": "https://localhost:8080/"
        },
        "id": "tqSVnoIz3KfY",
        "outputId": "145315d4-03da-4841-ca04-f58bfdc95f2e"
      },
      "source": [
        "# reversed_word_index = dict(map(reversed, word_index.items()))\n",
        "# list(reversed_word_index.items())[0:10]\n",
        "print(list(word_index.items())[0:10])\n",
        "print('Max:', max(word_index.values()))"
      ],
      "execution_count": 20,
      "outputs": [
        {
          "output_type": "stream",
          "text": [
            "[('music', 1), ('loud', 2), ('party', 3), ('access', 4), ('no', 5), ('blocked', 6), ('hydrant', 7), ('truck', 8), ('car', 9), ('in', 10)]\n",
            "Max: 1114\n"
          ],
          "name": "stdout"
        }
      ]
    },
    {
      "cell_type": "markdown",
      "metadata": {
        "id": "58-ghEfZB5Hn"
      },
      "source": [
        "The content and shape of the one-hot encoded descriptors are displayed below."
      ]
    },
    {
      "cell_type": "code",
      "metadata": {
        "colab": {
          "base_uri": "https://localhost:8080/",
          "height": 158
        },
        "id": "W1L7LoTr3fA8",
        "outputId": "fe5ee5a7-c941-4783-b66d-928f7768138f"
      },
      "source": [
        "display(descriptor_onehot)\n",
        "\n",
        "print('Shape:', descriptor_onehot.shape)"
      ],
      "execution_count": 21,
      "outputs": [
        {
          "output_type": "display_data",
          "data": {
            "text/plain": [
              "array([[0., 0., 0., ..., 0., 0., 0.],\n",
              "       [0., 0., 0., ..., 0., 0., 0.],\n",
              "       [0., 0., 0., ..., 0., 0., 0.],\n",
              "       ...,\n",
              "       [0., 0., 0., ..., 0., 0., 0.],\n",
              "       [0., 0., 0., ..., 0., 0., 0.],\n",
              "       [0., 0., 0., ..., 0., 0., 0.]])"
            ]
          },
          "metadata": {
            "tags": []
          }
        },
        {
          "output_type": "stream",
          "text": [
            "Shape: (114858, 1115)\n"
          ],
          "name": "stdout"
        }
      ]
    },
    {
      "cell_type": "markdown",
      "metadata": {
        "id": "NWO_IAYWC4Mc"
      },
      "source": [
        "The number of rows is the same as the number of rows in X, and correspond to an individual call:"
      ]
    },
    {
      "cell_type": "code",
      "metadata": {
        "colab": {
          "base_uri": "https://localhost:8080/"
        },
        "id": "1zOwlHkJCtrZ",
        "outputId": "db2a4167-3395-4d55-f724-6762faf9143d"
      },
      "source": [
        "X.shape"
      ],
      "execution_count": 22,
      "outputs": [
        {
          "output_type": "execute_result",
          "data": {
            "text/plain": [
              "(114858,)"
            ]
          },
          "metadata": {
            "tags": []
          },
          "execution_count": 22
        }
      ]
    },
    {
      "cell_type": "markdown",
      "metadata": {
        "id": "KEr1U7bzDknt"
      },
      "source": [
        "Each column corresponds to one of 1,110 words in the tokenizer's vocabulary. If the word for a column is present in a given call's descriptor, its value at the call's corresponding row will be '1.' Otherwise, it will be '0.'"
      ]
    },
    {
      "cell_type": "markdown",
      "metadata": {
        "id": "EIw59i2XFJ12"
      },
      "source": [
        "The label encoder used below assigns a unique integer to each of the categories in the agency column. The [keras.utils.to_categorical\n",
        "](https://www.tensorflow.org/api_docs/python/tf/keras/utils/to_categorical) method \"converts a class vector (integers) to binary class matrix.\""
      ]
    },
    {
      "cell_type": "code",
      "metadata": {
        "id": "cJGOuSOohgMX"
      },
      "source": [
        "agency = y\n",
        "\n",
        "le = preprocessing.LabelEncoder() \n",
        "le.fit(agency)\n",
        "agency_cat = le.transform(agency)  \n",
        "agency_onehot = to_categorical(agency_cat)"
      ],
      "execution_count": 23,
      "outputs": []
    },
    {
      "cell_type": "markdown",
      "metadata": {
        "id": "BitB8V1fKuFb"
      },
      "source": [
        "Let's examine the content and shape of the encoded agency data:"
      ]
    },
    {
      "cell_type": "code",
      "metadata": {
        "colab": {
          "base_uri": "https://localhost:8080/",
          "height": 158
        },
        "id": "XGhGFhjcKYHQ",
        "outputId": "28d0f366-8d37-4b8d-f03a-e7cc55444641"
      },
      "source": [
        "display(agency_onehot)\n",
        "print('Shape:', agency_onehot.shape)"
      ],
      "execution_count": 24,
      "outputs": [
        {
          "output_type": "display_data",
          "data": {
            "text/plain": [
              "array([[1., 0., 0., ..., 0., 0., 0.],\n",
              "       [1., 0., 0., ..., 0., 0., 0.],\n",
              "       [1., 0., 0., ..., 0., 0., 0.],\n",
              "       ...,\n",
              "       [0., 0., 0., ..., 0., 0., 0.],\n",
              "       [0., 0., 0., ..., 0., 0., 0.],\n",
              "       [0., 0., 0., ..., 0., 0., 0.]], dtype=float32)"
            ]
          },
          "metadata": {
            "tags": []
          }
        },
        {
          "output_type": "stream",
          "text": [
            "Shape: (114858, 14)\n"
          ],
          "name": "stdout"
        }
      ]
    },
    {
      "cell_type": "markdown",
      "metadata": {
        "id": "fe7mqmR7QA6y"
      },
      "source": [
        "Each row corresponds to a call, and each column corresponds to an agency. The value in a given cell indicates whether the agency in its column either responded ('1'), or did not respond ('0'), to the call in its row.\n",
        "\n",
        "Now that both X and y have been encoded, we'll create a random split of training and test data."
      ]
    },
    {
      "cell_type": "code",
      "metadata": {
        "id": "w17CTxizTvsS"
      },
      "source": [
        "test, train, label_test, label_train = train_test_split(descriptor_onehot, agency_onehot, test_size=.1, random_state=6)"
      ],
      "execution_count": 25,
      "outputs": []
    },
    {
      "cell_type": "markdown",
      "metadata": {
        "id": "fcydqkeWxrQt"
      },
      "source": [
        "## Baseline Model"
      ]
    },
    {
      "cell_type": "markdown",
      "metadata": {
        "id": "fQ7LdKjaI-kH"
      },
      "source": [
        "We'll start with a baseline model before writing a function to assess how different parameters affect the model's performance. For all of the models, we'll use the \"categorical crossentropy\" loss function, which is appropriate for multiclass classification. Accuracy will also be the performance metric used for each model, but our interpretation of the accuracy should be informed by the large number of classes and significant class imbalance."
      ]
    },
    {
      "cell_type": "code",
      "metadata": {
        "id": "xkP7CC257B1v"
      },
      "source": [
        "model1 = models.Sequential()\n",
        "\n",
        "model1.add(layers.Dense(50, activation='relu', input_shape=(test.shape[1],)))\n",
        "model1.add(layers.Dense(25, activation='relu'))\n",
        "model1.add(layers.Dense(14, activation='softmax'))\n",
        "\n",
        "\n",
        "opt = tf.keras.optimizers.SGD(learning_rate=0.001)\n",
        "model1.compile(optimizer=opt,\n",
        "              loss='categorical_crossentropy',\n",
        "              metrics=['acc'])"
      ],
      "execution_count": 26,
      "outputs": []
    },
    {
      "cell_type": "markdown",
      "metadata": {
        "id": "889WTz47R5_A"
      },
      "source": [
        "To avoid overfitting the model to the training data, we'll add the `validation_split` parameter, and an early stopping callback that monitors validation loss, to our fit function."
      ]
    },
    {
      "cell_type": "code",
      "metadata": {
        "colab": {
          "base_uri": "https://localhost:8080/"
        },
        "id": "cRgLsdFd7enu",
        "outputId": "61235d25-a799-4b0a-9a6c-a1aad0c15847"
      },
      "source": [
        "es = keras.callbacks.EarlyStopping(monitor='val_loss', patience=5)\n",
        "\n",
        "history = model1.fit(train,\n",
        "                    label_train,\n",
        "                    validation_split=0.20,\n",
        "                    epochs=62,\n",
        "                    batch_size=32,\n",
        "                    callbacks=[es])"
      ],
      "execution_count": 27,
      "outputs": [
        {
          "output_type": "stream",
          "text": [
            "Epoch 1/62\n",
            "288/288 [==============================] - 1s 3ms/step - loss: 2.5556 - acc: 0.4673 - val_loss: 2.4822 - val_acc: 0.5231\n",
            "Epoch 2/62\n",
            "288/288 [==============================] - 1s 2ms/step - loss: 2.4022 - acc: 0.5258 - val_loss: 2.3243 - val_acc: 0.5231\n",
            "Epoch 3/62\n",
            "288/288 [==============================] - 1s 2ms/step - loss: 2.2386 - acc: 0.5258 - val_loss: 2.1567 - val_acc: 0.5231\n",
            "Epoch 4/62\n",
            "288/288 [==============================] - 1s 2ms/step - loss: 2.0641 - acc: 0.5258 - val_loss: 1.9811 - val_acc: 0.5231\n",
            "Epoch 5/62\n",
            "288/288 [==============================] - 1s 2ms/step - loss: 1.8944 - acc: 0.5258 - val_loss: 1.8262 - val_acc: 0.5231\n",
            "Epoch 6/62\n",
            "288/288 [==============================] - 1s 2ms/step - loss: 1.7618 - acc: 0.5258 - val_loss: 1.7203 - val_acc: 0.5231\n",
            "Epoch 7/62\n",
            "288/288 [==============================] - 1s 2ms/step - loss: 1.6777 - acc: 0.5258 - val_loss: 1.6561 - val_acc: 0.5231\n",
            "Epoch 8/62\n",
            "288/288 [==============================] - 1s 2ms/step - loss: 1.6259 - acc: 0.5258 - val_loss: 1.6141 - val_acc: 0.5231\n",
            "Epoch 9/62\n",
            "288/288 [==============================] - 1s 2ms/step - loss: 1.5891 - acc: 0.5258 - val_loss: 1.5817 - val_acc: 0.5231\n",
            "Epoch 10/62\n",
            "288/288 [==============================] - 1s 2ms/step - loss: 1.5598 - acc: 0.5258 - val_loss: 1.5550 - val_acc: 0.5231\n",
            "Epoch 11/62\n",
            "288/288 [==============================] - 1s 2ms/step - loss: 1.5349 - acc: 0.5258 - val_loss: 1.5315 - val_acc: 0.5231\n",
            "Epoch 12/62\n",
            "288/288 [==============================] - 1s 2ms/step - loss: 1.5128 - acc: 0.5258 - val_loss: 1.5106 - val_acc: 0.5231\n",
            "Epoch 13/62\n",
            "288/288 [==============================] - 1s 2ms/step - loss: 1.4928 - acc: 0.5258 - val_loss: 1.4915 - val_acc: 0.5231\n",
            "Epoch 14/62\n",
            "288/288 [==============================] - 1s 2ms/step - loss: 1.4745 - acc: 0.5258 - val_loss: 1.4738 - val_acc: 0.5231\n",
            "Epoch 15/62\n",
            "288/288 [==============================] - 1s 2ms/step - loss: 1.4573 - acc: 0.5258 - val_loss: 1.4571 - val_acc: 0.5231\n",
            "Epoch 16/62\n",
            "288/288 [==============================] - 1s 2ms/step - loss: 1.4410 - acc: 0.5258 - val_loss: 1.4411 - val_acc: 0.5231\n",
            "Epoch 17/62\n",
            "288/288 [==============================] - 1s 2ms/step - loss: 1.4253 - acc: 0.5258 - val_loss: 1.4257 - val_acc: 0.5231\n",
            "Epoch 18/62\n",
            "288/288 [==============================] - 1s 2ms/step - loss: 1.4104 - acc: 0.5258 - val_loss: 1.4112 - val_acc: 0.5231\n",
            "Epoch 19/62\n",
            "288/288 [==============================] - 1s 2ms/step - loss: 1.3962 - acc: 0.5258 - val_loss: 1.3973 - val_acc: 0.5231\n",
            "Epoch 20/62\n",
            "288/288 [==============================] - 1s 2ms/step - loss: 1.3828 - acc: 0.5258 - val_loss: 1.3841 - val_acc: 0.5231\n",
            "Epoch 21/62\n",
            "288/288 [==============================] - 1s 2ms/step - loss: 1.3697 - acc: 0.5258 - val_loss: 1.3712 - val_acc: 0.5231\n",
            "Epoch 22/62\n",
            "288/288 [==============================] - 1s 2ms/step - loss: 1.3571 - acc: 0.5258 - val_loss: 1.3588 - val_acc: 0.5231\n",
            "Epoch 23/62\n",
            "288/288 [==============================] - 1s 2ms/step - loss: 1.3449 - acc: 0.5258 - val_loss: 1.3467 - val_acc: 0.5231\n",
            "Epoch 24/62\n",
            "288/288 [==============================] - 1s 2ms/step - loss: 1.3329 - acc: 0.5258 - val_loss: 1.3349 - val_acc: 0.5231\n",
            "Epoch 25/62\n",
            "288/288 [==============================] - 1s 2ms/step - loss: 1.3213 - acc: 0.5258 - val_loss: 1.3235 - val_acc: 0.5231\n",
            "Epoch 26/62\n",
            "288/288 [==============================] - 1s 2ms/step - loss: 1.3101 - acc: 0.5258 - val_loss: 1.3123 - val_acc: 0.5231\n",
            "Epoch 27/62\n",
            "288/288 [==============================] - 1s 2ms/step - loss: 1.2991 - acc: 0.5258 - val_loss: 1.3015 - val_acc: 0.5231\n",
            "Epoch 28/62\n",
            "288/288 [==============================] - 1s 2ms/step - loss: 1.2883 - acc: 0.5258 - val_loss: 1.2908 - val_acc: 0.5231\n",
            "Epoch 29/62\n",
            "288/288 [==============================] - 1s 2ms/step - loss: 1.2778 - acc: 0.5258 - val_loss: 1.2803 - val_acc: 0.5231\n",
            "Epoch 30/62\n",
            "288/288 [==============================] - 1s 2ms/step - loss: 1.2674 - acc: 0.5258 - val_loss: 1.2701 - val_acc: 0.5231\n",
            "Epoch 31/62\n",
            "288/288 [==============================] - 1s 2ms/step - loss: 1.2573 - acc: 0.5258 - val_loss: 1.2601 - val_acc: 0.5231\n",
            "Epoch 32/62\n",
            "288/288 [==============================] - 1s 2ms/step - loss: 1.2474 - acc: 0.5258 - val_loss: 1.2502 - val_acc: 0.5226\n",
            "Epoch 33/62\n",
            "288/288 [==============================] - 1s 2ms/step - loss: 1.2376 - acc: 0.5256 - val_loss: 1.2405 - val_acc: 0.5226\n",
            "Epoch 34/62\n",
            "288/288 [==============================] - 1s 2ms/step - loss: 1.2280 - acc: 0.5262 - val_loss: 1.2308 - val_acc: 0.5413\n",
            "Epoch 35/62\n",
            "288/288 [==============================] - 1s 2ms/step - loss: 1.2184 - acc: 0.5481 - val_loss: 1.2213 - val_acc: 0.5413\n",
            "Epoch 36/62\n",
            "288/288 [==============================] - 1s 2ms/step - loss: 1.2089 - acc: 0.5481 - val_loss: 1.2119 - val_acc: 0.5413\n",
            "Epoch 37/62\n",
            "288/288 [==============================] - 1s 2ms/step - loss: 1.1996 - acc: 0.5481 - val_loss: 1.2026 - val_acc: 0.5413\n",
            "Epoch 38/62\n",
            "288/288 [==============================] - 1s 2ms/step - loss: 1.1903 - acc: 0.5518 - val_loss: 1.1933 - val_acc: 0.5548\n",
            "Epoch 39/62\n",
            "288/288 [==============================] - 1s 2ms/step - loss: 1.1812 - acc: 0.5616 - val_loss: 1.1843 - val_acc: 0.5548\n",
            "Epoch 40/62\n",
            "288/288 [==============================] - 1s 2ms/step - loss: 1.1722 - acc: 0.5635 - val_loss: 1.1754 - val_acc: 0.5614\n",
            "Epoch 41/62\n",
            "288/288 [==============================] - 1s 2ms/step - loss: 1.1633 - acc: 0.5702 - val_loss: 1.1665 - val_acc: 0.5657\n",
            "Epoch 42/62\n",
            "288/288 [==============================] - 1s 2ms/step - loss: 1.1544 - acc: 0.5861 - val_loss: 1.1577 - val_acc: 0.5775\n",
            "Epoch 43/62\n",
            "288/288 [==============================] - 1s 2ms/step - loss: 1.1458 - acc: 0.5950 - val_loss: 1.1491 - val_acc: 0.5901\n",
            "Epoch 44/62\n",
            "288/288 [==============================] - 1s 2ms/step - loss: 1.1372 - acc: 0.6001 - val_loss: 1.1406 - val_acc: 0.5936\n",
            "Epoch 45/62\n",
            "288/288 [==============================] - 1s 2ms/step - loss: 1.1287 - acc: 0.6120 - val_loss: 1.1322 - val_acc: 0.6140\n",
            "Epoch 46/62\n",
            "288/288 [==============================] - 1s 2ms/step - loss: 1.1203 - acc: 0.6236 - val_loss: 1.1238 - val_acc: 0.6175\n",
            "Epoch 47/62\n",
            "288/288 [==============================] - 1s 2ms/step - loss: 1.1120 - acc: 0.6278 - val_loss: 1.1156 - val_acc: 0.6236\n",
            "Epoch 48/62\n",
            "288/288 [==============================] - 1s 2ms/step - loss: 1.1038 - acc: 0.6367 - val_loss: 1.1075 - val_acc: 0.6475\n",
            "Epoch 49/62\n",
            "288/288 [==============================] - 1s 2ms/step - loss: 1.0957 - acc: 0.6519 - val_loss: 1.0994 - val_acc: 0.6493\n",
            "Epoch 50/62\n",
            "288/288 [==============================] - 1s 2ms/step - loss: 1.0876 - acc: 0.6547 - val_loss: 1.0914 - val_acc: 0.6523\n",
            "Epoch 51/62\n",
            "288/288 [==============================] - 1s 2ms/step - loss: 1.0796 - acc: 0.6603 - val_loss: 1.0833 - val_acc: 0.6619\n",
            "Epoch 52/62\n",
            "288/288 [==============================] - 1s 2ms/step - loss: 1.0715 - acc: 0.6716 - val_loss: 1.0753 - val_acc: 0.6728\n",
            "Epoch 53/62\n",
            "288/288 [==============================] - 1s 2ms/step - loss: 1.0635 - acc: 0.6774 - val_loss: 1.0674 - val_acc: 0.6758\n",
            "Epoch 54/62\n",
            "288/288 [==============================] - 1s 2ms/step - loss: 1.0555 - acc: 0.6793 - val_loss: 1.0594 - val_acc: 0.6789\n",
            "Epoch 55/62\n",
            "288/288 [==============================] - 1s 2ms/step - loss: 1.0476 - acc: 0.6825 - val_loss: 1.0515 - val_acc: 0.6793\n",
            "Epoch 56/62\n",
            "288/288 [==============================] - 1s 2ms/step - loss: 1.0396 - acc: 0.6840 - val_loss: 1.0436 - val_acc: 0.6858\n",
            "Epoch 57/62\n",
            "288/288 [==============================] - 1s 2ms/step - loss: 1.0317 - acc: 0.6856 - val_loss: 1.0357 - val_acc: 0.6858\n",
            "Epoch 58/62\n",
            "288/288 [==============================] - 1s 2ms/step - loss: 1.0237 - acc: 0.6916 - val_loss: 1.0278 - val_acc: 0.6880\n",
            "Epoch 59/62\n",
            "288/288 [==============================] - 1s 2ms/step - loss: 1.0158 - acc: 0.6922 - val_loss: 1.0199 - val_acc: 0.6880\n",
            "Epoch 60/62\n",
            "288/288 [==============================] - 1s 2ms/step - loss: 1.0078 - acc: 0.6922 - val_loss: 1.0120 - val_acc: 0.6880\n",
            "Epoch 61/62\n",
            "288/288 [==============================] - 1s 2ms/step - loss: 0.9999 - acc: 0.6925 - val_loss: 1.0041 - val_acc: 0.6884\n",
            "Epoch 62/62\n",
            "288/288 [==============================] - 1s 2ms/step - loss: 0.9920 - acc: 0.6928 - val_loss: 0.9962 - val_acc: 0.6884\n"
          ],
          "name": "stdout"
        }
      ]
    },
    {
      "cell_type": "markdown",
      "metadata": {
        "id": "HXCkp3-l0FRD"
      },
      "source": [
        "Let's look at the model's loss and accuracy score."
      ]
    },
    {
      "cell_type": "code",
      "metadata": {
        "colab": {
          "base_uri": "https://localhost:8080/"
        },
        "id": "Fpz0BAQqKNf9",
        "outputId": "64d814ac-83d6-48b9-94f1-e2f6255dc358"
      },
      "source": [
        "results = model1.evaluate(test, label_test, batch_size=32)"
      ],
      "execution_count": 28,
      "outputs": [
        {
          "output_type": "stream",
          "text": [
            "3231/3231 [==============================] - 5s 2ms/step - loss: 0.9985 - acc: 0.6901\n"
          ],
          "name": "stdout"
        }
      ]
    },
    {
      "cell_type": "markdown",
      "metadata": {
        "id": "KRKe8u-B0Nu5"
      },
      "source": [
        "The function below plots the model's loss and accuracy curves, which will provide a better visual sense of how the values for these metrics changed as the number of epochs increased."
      ]
    },
    {
      "cell_type": "code",
      "metadata": {
        "id": "amYF3K8pbej4"
      },
      "source": [
        "def plot_loss_acc(history):\n",
        " \n",
        "  \"\"\"Takes in a Keras history object and returns a 15*6 figure displaying the \n",
        "     model's loss and accuracy curves.\"\"\"\n",
        "\n",
        "\n",
        "  fig, (ax1, ax2) = plt.subplots(nrows=1,\n",
        "                               ncols=2,\n",
        "                               figsize=(15, 6))\n",
        "\n",
        "  ax_font = {'fontsize': 12, 'family': 'serif', \n",
        "             'color': '#58508d', 'weight': 'bold'}\n",
        "  title_font = {'fontsize': 14, 'family': 'serif',\n",
        "                'color': '#58508d', 'weight': 'bold'}\n",
        "\n",
        "\n",
        "  ax1.plot(history.history['acc'], color='#D8A7B1', linewidth=3)\n",
        "  ax1.grid(color='g', linestyle='-', linewidth=.09)\n",
        "  ax1.plot(history.history['val_acc'], color='#05234C', linewidth=3)\n",
        "  ax1.set_title('Model Accuracy', fontdict=title_font)\n",
        "  ax1.set_ylabel('Accuracy', fontdict=ax_font)\n",
        "  ax1.set_xlabel('Number of epochs', fontdict=ax_font)\n",
        "  ax1.legend(['train', 'validation'], loc='upper left')\n",
        "\n",
        "\n",
        "  ax2.plot(history.history['loss'], color='#D8A7B1', linewidth=3)\n",
        "  ax2.grid(color='g', linestyle='-', linewidth=.09)\n",
        "  ax2.plot(history.history['val_loss'], color='#05234C', linewidth=3)\n",
        "  ax2.set_title('Model Loss', fontdict=title_font)\n",
        "  ax2.set_ylabel('Loss', fontdict=ax_font)\n",
        "  ax2.set_xlabel('Number of epochs', fontdict=ax_font)\n",
        "  ax2.legend(['train', 'validation'], loc='upper right')\n",
        "\n",
        "  fig.show()"
      ],
      "execution_count": 56,
      "outputs": []
    },
    {
      "cell_type": "code",
      "metadata": {
        "colab": {
          "base_uri": "https://localhost:8080/",
          "height": 407
        },
        "id": "UWoFuBe5hLco",
        "outputId": "ece070e3-0420-4f9c-bfa9-0502fc4351d5"
      },
      "source": [
        "plot_loss_acc(history)"
      ],
      "execution_count": 57,
      "outputs": [
        {
          "output_type": "display_data",
          "data": {
            "image/png": "[encoded data removed]",
            "text/plain": [
              "<Figure size 1080x432 with 2 Axes>"
            ]
          },
          "metadata": {
            "tags": [],
            "needs_background": "light"
          }
        }
      ]
    },
    {
      "cell_type": "markdown",
      "metadata": {
        "id": "n4iIKXNU0qcn"
      },
      "source": [
        "The accuracy score improves steadily after 30 epochs, while the loss steadily drops. We'll also create a random subset of the data that has not been resampled to evaluate the model's performance, and apply the same preprocessing steps as above."
      ]
    },
    {
      "cell_type": "code",
      "metadata": {
        "id": "ywhDpnurahU8"
      },
      "source": [
        "random_df = df.sample(len(weighted_df), random_state=6)"
      ],
      "execution_count": 31,
      "outputs": []
    },
    {
      "cell_type": "code",
      "metadata": {
        "colab": {
          "base_uri": "https://localhost:8080/"
        },
        "id": "yuQ8NFhstPu8",
        "outputId": "0a5f83b9-9956-4a84-bf33-fdd755e18530"
      },
      "source": [
        "descriptors_not_in_sample = []\n",
        "\n",
        "for i in df.descriptor.unique():\n",
        "  if i not in random_df.descriptor.unique():\n",
        "    descriptors_not_in_sample.append(i)\n",
        "\n",
        "descriptors_not_in_sample"
      ],
      "execution_count": 32,
      "outputs": [
        {
          "output_type": "execute_result",
          "data": {
            "text/plain": [
              "['bingo hall',\n",
              " 'waterwaycolor ihd',\n",
              " 'oil, grease in water qd',\n",
              " 'safety inspectionretaining walls may ',\n",
              " 'allergy information',\n",
              " 'other industrial waste problem use comments for dep internal use only iz',\n",
              " 'indoor pool over capacity',\n",
              " 'jewelry appraiser',\n",
              " 'graffiti litter on phone',\n",
              " 'phone blocking sidewalk',\n",
              " 'sediment',\n",
              " 'snake',\n",
              " 'high grass',\n",
              " 'cloudy or milky, other use comments qbz',\n",
              " 'push button',\n",
              " 'cloudy or milky water qb',\n",
              " 'absent',\n",
              " 'inspection work order dob',\n",
              " 'cigarette vending machine',\n",
              " 'mast arm',\n",
              " 'unauthorized posting of signs',\n",
              " 'ped flasher',\n",
              " 'enclosure cap',\n",
              " 'maintenance cover',\n",
              " 'booting company',\n",
              " 'warning signal lamp',\n",
              " 'immigration services',\n",
              " 'oil spill into basin sewer  small iabs',\n",
              " 'roof gutters',\n",
              " 'platform condition',\n",
              " 'manhole cover broken making noise sb',\n",
              " 'dogs or cats not sold',\n",
              " 'bent loose',\n",
              " 'toxic chemical material',\n",
              " 'basement',\n",
              " 'gasoline spill iaa',\n",
              " 'puddle on sidewalk',\n",
              " 'warning signal',\n",
              " 'remove debris',\n",
              " 'plants odor related problems po',\n",
              " 'street con game',\n",
              " 'temporary',\n",
              " 'inadequate support shoring',\n",
              " 'building',\n",
              " 'other water problem use comments qzz',\n",
              " 'shisha',\n",
              " 'used gun dealer',\n",
              " 'natural gas leak *for dep internal use only* hf',\n",
              " 'junction box',\n",
              " 'veh signal lens',\n",
              " 'grocery store',\n",
              " 'plate missing movedexposing hole sb',\n",
              " 'e transfer station',\n",
              " 'defective water sampling station qss',\n",
              " 'use of newly seeded lawn',\n",
              " 'color',\n",
              " 'air: odor fumes, dry cleaners ad',\n",
              " 'disabled device dealer',\n",
              " 'smoking ban  smoking on construction site',\n",
              " 'new automatic public toilet request',\n",
              " 'driver complaint',\n",
              " 'musical instrument',\n",
              " 'sports equipment',\n",
              " ' litter basket   request',\n",
              " 'contamination risk',\n",
              " ' dead animals',\n",
              " 'inattentive',\n",
              " 'user unlicensed',\n",
              " 'amusement ride',\n",
              " 'integrity complaint referral',\n",
              " 'curb violation',\n",
              " 'flood light lamp missing',\n",
              " 'plumbing problem',\n",
              " 'sway bar',\n",
              " 'on messenger',\n",
              " 'b sweeping inadequate',\n",
              " 'eb sidewalk obstruction',\n",
              " 'general bad condition',\n",
              " 'relocation of parking meter',\n",
              " 'ped lens',\n",
              " 'guard rail  bridge',\n",
              " 'catch basin search sc',\n",
              " 'c uncollected xmas trees',\n",
              " 'controller flasher',\n",
              " 'foundation',\n",
              " 'request to open a hydrant wc',\n",
              " 'failure to post calorie information',\n",
              " 'bwso referral to water quality for dep internal use only qbwso',\n",
              " 'snow or ice',\n",
              " 'e street obstruction',\n",
              " 'bikes in buildings',\n",
              " 'going out of business',\n",
              " 'unauthorized film shoot',\n",
              " 'utility cover blocked',\n",
              " 'sidewalk grating  missing',\n",
              " 'exposure unnecessary',\n",
              " 'noise: construction equipment  for dep internal use only ync',\n",
              " 'no dial tone',\n",
              " 'graffiti dirty condition',\n",
              " 'puddle on roof',\n",
              " 'not certified',\n",
              " 'illegal air conditioning during drought cjo',\n",
              " 'plumbing',\n",
              " 'contrary to ll  handicapped access',\n",
              " 'cp employee behaviorbcc',\n",
              " 'conflict monitor',\n",
              " 'monkey',\n",
              " 'broken window',\n",
              " 'a sweeping missed',\n",
              " 'flood light lamp dayburning',\n",
              " 'remove stump',\n",
              " 'e throwout',\n",
              " 'do not block the box',\n",
              " 'fire globe missing',\n",
              " 'bracket arm broken',\n",
              " 'vocational or trade school',\n",
              " 'hitting phone cable lines',\n",
              " 'swimming pool cover',\n",
              " 'professional photographer',\n",
              " 'warning buzzer',\n",
              " 'taste',\n",
              " 'outlet cover',\n",
              " ' dsny spillage',\n",
              " 'ferret',\n",
              " 'fountain  over  gallons',\n",
              " 'no idling',\n",
              " 'traffic camera',\n",
              " 'glassware hanging',\n",
              " 'blocked  atm',\n",
              " 'noise: other noise sources use comments nzz',\n",
              " 'noise: loud music daytime mark date and time nn',\n",
              " 'waterwayfloatables ihc',\n",
              " 'suspected street cut',\n",
              " 'controller cabinet',\n",
              " 'facility unregistered',\n",
              " 'defective hardware  dep',\n",
              " 'broken lock',\n",
              " 'lane control signal',\n",
              " 'fire alarm lamp cycling',\n",
              " 'licensee complaint',\n",
              " 'caps & chains missingfire dept use only wkmc',\n",
              " 'bracket arm loose',\n",
              " 'bracket arm bent',\n",
              " 'i street condition icenon storm',\n",
              " 'beach pool sauna unpermitted',\n",
              " 'time clock maladjusted',\n",
              " 'process server',\n",
              " 'milk not pasteurized',\n",
              " 'asphalt around valve box',\n",
              " 'manhole sunken damaged raised sb',\n",
              " 'detector sensor',\n",
              " 'flooded',\n",
              " 'dead end signal',\n",
              " 'defective catch basin',\n",
              " 'flashing hazard',\n",
              " 'e litter surveillance',\n",
              " 'damaged toilet sink',\n",
              " 'equipment malfunction',\n",
              " 'pedestrian sign',\n",
              " 'glassware missing',\n",
              " 'lane station',\n",
              " 'on structure',\n",
              " 'condulet cover',\n",
              " 'defective manhole cover',\n",
              " 'utility company',\n",
              " 'blocking sidewalk',\n",
              " 'asphalt around manhole cover',\n",
              " 'flood light lamp dim',\n",
              " 'reflector louvre',\n",
              " 'too few on duty',\n",
              " 'plants noise related problems pn',\n",
              " 'ticket scalping',\n",
              " 'manhole cover missing emergency for dep internal use only wf',\n",
              " 'technician unlicensed',\n",
              " 'chained bike',\n",
              " 'box cover']"
            ]
          },
          "metadata": {
            "tags": []
          },
          "execution_count": 32
        }
      ]
    },
    {
      "cell_type": "code",
      "metadata": {
        "id": "N5YdojXCtiNf"
      },
      "source": [
        "descriptors_not_in_sample_df = df[df.descriptor.isin(descriptors_not_in_sample)]\n",
        "random_df = pd.concat([random_df, descriptors_not_in_sample_df])\n",
        "random_df.reset_index(inplace=True)"
      ],
      "execution_count": 33,
      "outputs": []
    },
    {
      "cell_type": "code",
      "metadata": {
        "id": "yH94tmTEPgUm"
      },
      "source": [
        "random_X = random_df.descriptor\n",
        "random_y = random_df.agency"
      ],
      "execution_count": 34,
      "outputs": []
    },
    {
      "cell_type": "code",
      "metadata": {
        "id": "-mOrsN1TQRPr"
      },
      "source": [
        "r_descriptors = random_X\n",
        "tokenizer = Tokenizer() \n",
        "\n",
        "tokenizer.fit_on_texts(r_descriptors) \n",
        "r_descriptor_onehot = tokenizer.texts_to_matrix(r_descriptors, mode='binary')\n",
        "word_index = tokenizer.word_index"
      ],
      "execution_count": 35,
      "outputs": []
    },
    {
      "cell_type": "code",
      "metadata": {
        "id": "Q5Ve_W4NQX97"
      },
      "source": [
        "r_agency = random_y\n",
        "\n",
        "le = preprocessing.LabelEncoder() \n",
        "le.fit(r_agency)\n",
        "r_agency_cat = le.transform(r_agency)  \n",
        "r_agency_onehot = to_categorical(r_agency_cat)"
      ],
      "execution_count": 36,
      "outputs": []
    },
    {
      "cell_type": "code",
      "metadata": {
        "id": "c9MwlTriRHt1"
      },
      "source": [
        "random.seed(999)\n",
        "test_index = random.sample(range(1,10000), 1500)\n",
        "\n",
        "r_test = r_descriptor_onehot[test_index]\n",
        "r_label_test = r_agency_onehot[test_index]"
      ],
      "execution_count": 37,
      "outputs": []
    },
    {
      "cell_type": "code",
      "metadata": {
        "colab": {
          "base_uri": "https://localhost:8080/"
        },
        "id": "md8FyuC0RVLw",
        "outputId": "9c8e7dcf-d77f-4600-edbb-5a7859fdac33"
      },
      "source": [
        "random_results = model1.evaluate(r_descriptor_onehot, r_agency_onehot, batch_size=32)"
      ],
      "execution_count": 38,
      "outputs": [
        {
          "output_type": "stream",
          "text": [
            "3622/3622 [==============================] - 6s 2ms/step - loss: 1.1589 - acc: 0.6288\n"
          ],
          "name": "stdout"
        }
      ]
    },
    {
      "cell_type": "markdown",
      "metadata": {
        "id": "COFR7H471iEo"
      },
      "source": [
        "The model had 62% accuracy on the random sample. This score can be improved by testing different parameters in the model."
      ]
    },
    {
      "cell_type": "markdown",
      "metadata": {
        "id": "9TZA4Zl9x2EZ"
      },
      "source": [
        "## Parameter Tuning"
      ]
    },
    {
      "cell_type": "code",
      "metadata": {
        "id": "t1XAcgaVhHSI"
      },
      "source": [
        "def create_model(X_train, y_train, X_test, y_test, params):\n",
        "\n",
        "    model = models.Sequential()\n",
        "    model.add(layers.Dense(50, activation=params['activation 1'], \n",
        "                           input_shape=(test.shape[1],)))\n",
        "    model.add(layers.Dense(25, activation=params['activation 2']))\n",
        "    model.add(layers.Dense(14, activation=params['activation 3']))\n",
        "\n",
        "    opt = params['opt']\n",
        "    model.compile(optimizer=opt,\n",
        "              loss=params['loss'],\n",
        "              metrics=['acc'])\n",
        "    \n",
        "    es = keras.callbacks.EarlyStopping(monitor='val_loss', patience=5)\n",
        "    history = model.fit(X_train,\n",
        "                    y_train,\n",
        "                    epochs=params['epochs'],\n",
        "                    batch_size=params['batch_size'],\n",
        "                    validation_split=0.20)\n",
        "    \n",
        "    print(model.summary)\n",
        "\n",
        "    print('Test Accuracy:')\n",
        "    model.evaluate(X_test, y_test, batch_size=params['batch_size'])\n",
        "    \n",
        "    print('Random Sample Accuracy:')\n",
        "    model.evaluate(r_test, r_label_test, batch_size=params['batch_size'])\n",
        "    \n",
        "    plot_loss_acc(history)\n",
        "    \n",
        "    return history, model"
      ],
      "execution_count": 58,
      "outputs": []
    },
    {
      "cell_type": "code",
      "metadata": {
        "id": "e6QqNu9vI5Bb"
      },
      "source": [
        "model2_params = {'activation 1': 'relu', \n",
        "                 'activation 2': 'softmax', \n",
        "                 'activation 3': 'softmax', \n",
        "                 'opt': keras.optimizers.Adam(lr=0.0001),\n",
        "                 'loss': 'categorical_crossentropy',\n",
        "                 'epochs': 75, \n",
        "                 'batch_size': 16, \n",
        "                 }"
      ],
      "execution_count": 59,
      "outputs": []
    },
    {
      "cell_type": "code",
      "metadata": {
        "colab": {
          "base_uri": "https://localhost:8080/",
          "height": 1000
        },
        "id": "qznZkA3tKeWi",
        "outputId": "04da368b-2486-4891-b1a8-0e23b1ba5fa8"
      },
      "source": [
        "model2_history, model2 = create_model(train, label_train, test, label_test, model2_params)"
      ],
      "execution_count": 60,
      "outputs": [
        {
          "output_type": "stream",
          "text": [
            "Epoch 1/75\n",
            "575/575 [==============================] - 1s 2ms/step - loss: 2.5665 - acc: 0.3603 - val_loss: 2.4759 - val_acc: 0.5231\n",
            "Epoch 2/75\n",
            "575/575 [==============================] - 1s 2ms/step - loss: 2.3728 - acc: 0.5258 - val_loss: 2.2766 - val_acc: 0.5231\n",
            "Epoch 3/75\n",
            "575/575 [==============================] - 1s 2ms/step - loss: 2.1752 - acc: 0.5258 - val_loss: 2.0833 - val_acc: 0.5231\n",
            "Epoch 4/75\n",
            "575/575 [==============================] - 1s 2ms/step - loss: 2.0039 - acc: 0.5257 - val_loss: 1.9341 - val_acc: 0.5226\n",
            "Epoch 5/75\n",
            "575/575 [==============================] - 1s 2ms/step - loss: 1.8692 - acc: 0.5581 - val_loss: 1.8096 - val_acc: 0.5827\n",
            "Epoch 6/75\n",
            "575/575 [==============================] - 1s 2ms/step - loss: 1.7521 - acc: 0.5899 - val_loss: 1.6997 - val_acc: 0.6018\n",
            "Epoch 7/75\n",
            "575/575 [==============================] - 1s 2ms/step - loss: 1.6480 - acc: 0.6054 - val_loss: 1.6021 - val_acc: 0.6149\n",
            "Epoch 8/75\n",
            "575/575 [==============================] - 1s 2ms/step - loss: 1.5551 - acc: 0.6664 - val_loss: 1.5142 - val_acc: 0.7132\n",
            "Epoch 9/75\n",
            "575/575 [==============================] - 1s 2ms/step - loss: 1.4714 - acc: 0.7200 - val_loss: 1.4348 - val_acc: 0.7341\n",
            "Epoch 10/75\n",
            "575/575 [==============================] - 1s 2ms/step - loss: 1.3961 - acc: 0.7319 - val_loss: 1.3634 - val_acc: 0.7372\n",
            "Epoch 11/75\n",
            "575/575 [==============================] - 1s 2ms/step - loss: 1.3278 - acc: 0.7354 - val_loss: 1.2986 - val_acc: 0.7389\n",
            "Epoch 12/75\n",
            "575/575 [==============================] - 1s 2ms/step - loss: 1.2658 - acc: 0.7373 - val_loss: 1.2398 - val_acc: 0.7393\n",
            "Epoch 13/75\n",
            "575/575 [==============================] - 1s 2ms/step - loss: 1.2094 - acc: 0.7384 - val_loss: 1.1861 - val_acc: 0.7402\n",
            "Epoch 14/75\n",
            "575/575 [==============================] - 1s 2ms/step - loss: 1.1577 - acc: 0.7385 - val_loss: 1.1368 - val_acc: 0.7402\n",
            "Epoch 15/75\n",
            "575/575 [==============================] - 1s 2ms/step - loss: 1.1099 - acc: 0.7385 - val_loss: 1.0911 - val_acc: 0.7406\n",
            "Epoch 16/75\n",
            "575/575 [==============================] - 1s 2ms/step - loss: 1.0651 - acc: 0.7597 - val_loss: 1.0479 - val_acc: 0.7763\n",
            "Epoch 17/75\n",
            "575/575 [==============================] - 1s 2ms/step - loss: 1.0226 - acc: 0.7829 - val_loss: 1.0064 - val_acc: 0.7815\n",
            "Epoch 18/75\n",
            "575/575 [==============================] - 1s 2ms/step - loss: 0.9802 - acc: 0.7835 - val_loss: 0.9637 - val_acc: 0.7811\n",
            "Epoch 19/75\n",
            "575/575 [==============================] - 1s 2ms/step - loss: 0.9361 - acc: 0.7835 - val_loss: 0.9211 - val_acc: 0.7811\n",
            "Epoch 20/75\n",
            "575/575 [==============================] - 1s 2ms/step - loss: 0.8943 - acc: 0.7835 - val_loss: 0.8822 - val_acc: 0.7811\n",
            "Epoch 21/75\n",
            "575/575 [==============================] - 1s 2ms/step - loss: 0.8564 - acc: 0.7836 - val_loss: 0.8466 - val_acc: 0.7811\n",
            "Epoch 22/75\n",
            "575/575 [==============================] - 1s 2ms/step - loss: 0.8217 - acc: 0.7841 - val_loss: 0.8140 - val_acc: 0.7815\n",
            "Epoch 23/75\n",
            "575/575 [==============================] - 1s 2ms/step - loss: 0.7897 - acc: 0.7845 - val_loss: 0.7837 - val_acc: 0.7815\n",
            "Epoch 24/75\n",
            "575/575 [==============================] - 1s 2ms/step - loss: 0.7601 - acc: 0.7847 - val_loss: 0.7557 - val_acc: 0.7815\n",
            "Epoch 25/75\n",
            "575/575 [==============================] - 1s 2ms/step - loss: 0.7326 - acc: 0.7848 - val_loss: 0.7297 - val_acc: 0.7815\n",
            "Epoch 26/75\n",
            "575/575 [==============================] - 1s 2ms/step - loss: 0.7071 - acc: 0.8128 - val_loss: 0.7055 - val_acc: 0.8211\n",
            "Epoch 27/75\n",
            "575/575 [==============================] - 1s 2ms/step - loss: 0.6833 - acc: 0.8342 - val_loss: 0.6828 - val_acc: 0.8294\n",
            "Epoch 28/75\n",
            "575/575 [==============================] - 1s 2ms/step - loss: 0.6608 - acc: 0.8411 - val_loss: 0.6614 - val_acc: 0.8351\n",
            "Epoch 29/75\n",
            "575/575 [==============================] - 1s 2ms/step - loss: 0.6396 - acc: 0.8439 - val_loss: 0.6411 - val_acc: 0.8364\n",
            "Epoch 30/75\n",
            "575/575 [==============================] - 1s 2ms/step - loss: 0.6194 - acc: 0.8449 - val_loss: 0.6219 - val_acc: 0.8364\n",
            "Epoch 31/75\n",
            "575/575 [==============================] - 1s 2ms/step - loss: 0.6002 - acc: 0.8466 - val_loss: 0.6037 - val_acc: 0.8368\n",
            "Epoch 32/75\n",
            "575/575 [==============================] - 1s 2ms/step - loss: 0.5820 - acc: 0.8476 - val_loss: 0.5864 - val_acc: 0.8372\n",
            "Epoch 33/75\n",
            "575/575 [==============================] - 1s 2ms/step - loss: 0.5648 - acc: 0.8535 - val_loss: 0.5701 - val_acc: 0.8516\n",
            "Epoch 34/75\n",
            "575/575 [==============================] - 1s 2ms/step - loss: 0.5484 - acc: 0.8622 - val_loss: 0.5547 - val_acc: 0.8520\n",
            "Epoch 35/75\n",
            "575/575 [==============================] - 1s 2ms/step - loss: 0.5329 - acc: 0.8625 - val_loss: 0.5401 - val_acc: 0.8534\n",
            "Epoch 36/75\n",
            "575/575 [==============================] - 1s 2ms/step - loss: 0.5182 - acc: 0.8628 - val_loss: 0.5263 - val_acc: 0.8538\n",
            "Epoch 37/75\n",
            "575/575 [==============================] - 1s 2ms/step - loss: 0.5042 - acc: 0.8643 - val_loss: 0.5132 - val_acc: 0.8547\n",
            "Epoch 38/75\n",
            "575/575 [==============================] - 1s 2ms/step - loss: 0.4909 - acc: 0.8650 - val_loss: 0.5008 - val_acc: 0.8547\n",
            "Epoch 39/75\n",
            "575/575 [==============================] - 1s 2ms/step - loss: 0.4784 - acc: 0.8652 - val_loss: 0.4890 - val_acc: 0.8547\n",
            "Epoch 40/75\n",
            "575/575 [==============================] - 1s 2ms/step - loss: 0.4664 - acc: 0.8654 - val_loss: 0.4778 - val_acc: 0.8547\n",
            "Epoch 41/75\n",
            "575/575 [==============================] - 1s 2ms/step - loss: 0.4549 - acc: 0.8656 - val_loss: 0.4670 - val_acc: 0.8551\n",
            "Epoch 42/75\n",
            "575/575 [==============================] - 1s 2ms/step - loss: 0.4439 - acc: 0.8660 - val_loss: 0.4568 - val_acc: 0.8551\n",
            "Epoch 43/75\n",
            "575/575 [==============================] - 1s 2ms/step - loss: 0.4335 - acc: 0.8666 - val_loss: 0.4470 - val_acc: 0.8551\n",
            "Epoch 44/75\n",
            "575/575 [==============================] - 1s 2ms/step - loss: 0.4235 - acc: 0.8668 - val_loss: 0.4376 - val_acc: 0.8564\n",
            "Epoch 45/75\n",
            "575/575 [==============================] - 1s 2ms/step - loss: 0.4140 - acc: 0.8677 - val_loss: 0.4287 - val_acc: 0.8573\n",
            "Epoch 46/75\n",
            "575/575 [==============================] - 1s 2ms/step - loss: 0.4050 - acc: 0.8684 - val_loss: 0.4203 - val_acc: 0.8586\n",
            "Epoch 47/75\n",
            "575/575 [==============================] - 1s 2ms/step - loss: 0.3966 - acc: 0.8687 - val_loss: 0.4124 - val_acc: 0.8599\n",
            "Epoch 48/75\n",
            "575/575 [==============================] - 1s 2ms/step - loss: 0.3886 - acc: 0.8693 - val_loss: 0.4050 - val_acc: 0.8599\n",
            "Epoch 49/75\n",
            "575/575 [==============================] - 1s 2ms/step - loss: 0.3811 - acc: 0.8698 - val_loss: 0.3980 - val_acc: 0.8603\n",
            "Epoch 50/75\n",
            "575/575 [==============================] - 1s 2ms/step - loss: 0.3740 - acc: 0.8697 - val_loss: 0.3914 - val_acc: 0.8603\n",
            "Epoch 51/75\n",
            "575/575 [==============================] - 1s 2ms/step - loss: 0.3673 - acc: 0.8698 - val_loss: 0.3852 - val_acc: 0.8603\n",
            "Epoch 52/75\n",
            "575/575 [==============================] - 1s 2ms/step - loss: 0.3610 - acc: 0.8698 - val_loss: 0.3792 - val_acc: 0.8603\n",
            "Epoch 53/75\n",
            "575/575 [==============================] - 1s 2ms/step - loss: 0.3550 - acc: 0.8698 - val_loss: 0.3736 - val_acc: 0.8603\n",
            "Epoch 54/75\n",
            "575/575 [==============================] - 1s 2ms/step - loss: 0.3494 - acc: 0.8698 - val_loss: 0.3681 - val_acc: 0.8603\n",
            "Epoch 55/75\n",
            "575/575 [==============================] - 1s 2ms/step - loss: 0.3440 - acc: 0.8698 - val_loss: 0.3625 - val_acc: 0.8603\n",
            "Epoch 56/75\n",
            "575/575 [==============================] - 1s 2ms/step - loss: 0.3388 - acc: 0.8698 - val_loss: 0.3565 - val_acc: 0.8603\n",
            "Epoch 57/75\n",
            "575/575 [==============================] - 1s 2ms/step - loss: 0.3338 - acc: 0.8698 - val_loss: 0.3508 - val_acc: 0.8603\n",
            "Epoch 58/75\n",
            "575/575 [==============================] - 1s 2ms/step - loss: 0.3291 - acc: 0.8699 - val_loss: 0.3459 - val_acc: 0.8603\n",
            "Epoch 59/75\n",
            "575/575 [==============================] - 1s 2ms/step - loss: 0.3248 - acc: 0.8699 - val_loss: 0.3423 - val_acc: 0.8603\n",
            "Epoch 60/75\n",
            "575/575 [==============================] - 1s 2ms/step - loss: 0.3207 - acc: 0.8699 - val_loss: 0.3383 - val_acc: 0.8603\n",
            "Epoch 61/75\n",
            "575/575 [==============================] - 1s 2ms/step - loss: 0.3169 - acc: 0.8700 - val_loss: 0.3350 - val_acc: 0.8599\n",
            "Epoch 62/75\n",
            "575/575 [==============================] - 1s 2ms/step - loss: 0.3133 - acc: 0.8704 - val_loss: 0.3318 - val_acc: 0.8599\n",
            "Epoch 63/75\n",
            "575/575 [==============================] - 1s 2ms/step - loss: 0.3100 - acc: 0.8704 - val_loss: 0.3291 - val_acc: 0.8599\n",
            "Epoch 64/75\n",
            "575/575 [==============================] - 1s 2ms/step - loss: 0.3068 - acc: 0.8704 - val_loss: 0.3262 - val_acc: 0.8599\n",
            "Epoch 65/75\n",
            "575/575 [==============================] - 1s 2ms/step - loss: 0.3038 - acc: 0.8704 - val_loss: 0.3232 - val_acc: 0.8599\n",
            "Epoch 66/75\n",
            "575/575 [==============================] - 1s 2ms/step - loss: 0.3011 - acc: 0.8704 - val_loss: 0.3213 - val_acc: 0.8599\n",
            "Epoch 67/75\n",
            "575/575 [==============================] - 1s 2ms/step - loss: 0.2984 - acc: 0.8704 - val_loss: 0.3191 - val_acc: 0.8599\n",
            "Epoch 68/75\n",
            "575/575 [==============================] - 1s 2ms/step - loss: 0.2959 - acc: 0.8704 - val_loss: 0.3168 - val_acc: 0.8599\n",
            "Epoch 69/75\n",
            "575/575 [==============================] - 1s 2ms/step - loss: 0.2936 - acc: 0.8704 - val_loss: 0.3151 - val_acc: 0.8599\n",
            "Epoch 70/75\n",
            "575/575 [==============================] - 1s 2ms/step - loss: 0.2914 - acc: 0.8704 - val_loss: 0.3133 - val_acc: 0.8599\n",
            "Epoch 71/75\n",
            "575/575 [==============================] - 1s 2ms/step - loss: 0.2893 - acc: 0.8704 - val_loss: 0.3116 - val_acc: 0.8603\n",
            "Epoch 72/75\n",
            "575/575 [==============================] - 1s 2ms/step - loss: 0.2874 - acc: 0.8704 - val_loss: 0.3094 - val_acc: 0.8599\n",
            "Epoch 73/75\n",
            "575/575 [==============================] - 1s 2ms/step - loss: 0.2855 - acc: 0.8704 - val_loss: 0.3081 - val_acc: 0.8603\n",
            "Epoch 74/75\n",
            "575/575 [==============================] - 1s 2ms/step - loss: 0.2837 - acc: 0.8704 - val_loss: 0.3060 - val_acc: 0.8603\n",
            "Epoch 75/75\n",
            "575/575 [==============================] - 1s 2ms/step - loss: 0.2820 - acc: 0.8704 - val_loss: 0.3051 - val_acc: 0.8603\n",
            "<bound method Model.summary of <tensorflow.python.keras.engine.sequential.Sequential object at 0x7f7327a765f8>>\n",
            "Test Accuracy:\n",
            "6461/6461 [==============================] - 10s 2ms/step - loss: 0.3131 - acc: 0.8628\n",
            "Random Sample Accuracy:\n",
            "94/94 [==============================] - 0s 1ms/step - loss: 1.6250 - acc: 0.5907\n"
          ],
          "name": "stdout"
        },
        {
          "output_type": "display_data",
          "data": {
            "image/png": "[encoded data removed]",
            "text/plain": [
              "<Figure size 1080x432 with 2 Axes>"
            ]
          },
          "metadata": {
            "tags": [],
            "needs_background": "light"
          }
        }
      ]
    },
    {
      "cell_type": "code",
      "metadata": {
        "id": "8CO8w3uTnjxr"
      },
      "source": [
        "model3_params = {'activation 1': 'relu', \n",
        "                 'activation 2': 'relu', \n",
        "                 'activation 3': 'softmax', \n",
        "                 'opt': tf.keras.optimizers.SGD(learning_rate=0.01),\n",
        "                 'loss': 'categorical_crossentropy',\n",
        "                 'epochs': 45, \n",
        "                 'batch_size': 16, \n",
        "                 }"
      ],
      "execution_count": 61,
      "outputs": []
    },
    {
      "cell_type": "code",
      "metadata": {
        "colab": {
          "base_uri": "https://localhost:8080/",
          "height": 1000
        },
        "id": "Rd_DRvv2n3jX",
        "outputId": "5caeef0a-2bad-45a3-ea13-a5489ddf90b1"
      },
      "source": [
        "model3_history, model3 = create_model(train, label_train, test, label_test, model3_params)"
      ],
      "execution_count": 62,
      "outputs": [
        {
          "output_type": "stream",
          "text": [
            "Epoch 1/45\n",
            "575/575 [==============================] - 1s 2ms/step - loss: 1.6907 - acc: 0.5245 - val_loss: 1.3770 - val_acc: 0.5231\n",
            "Epoch 2/45\n",
            "575/575 [==============================] - 1s 2ms/step - loss: 1.2472 - acc: 0.5551 - val_loss: 1.1366 - val_acc: 0.5970\n",
            "Epoch 3/45\n",
            "575/575 [==============================] - 1s 2ms/step - loss: 1.0321 - acc: 0.6660 - val_loss: 0.9425 - val_acc: 0.6897\n",
            "Epoch 4/45\n",
            "575/575 [==============================] - 1s 2ms/step - loss: 0.8606 - acc: 0.7331 - val_loss: 0.7848 - val_acc: 0.7789\n",
            "Epoch 5/45\n",
            "575/575 [==============================] - 1s 2ms/step - loss: 0.7109 - acc: 0.8227 - val_loss: 0.6437 - val_acc: 0.8581\n",
            "Epoch 6/45\n",
            "575/575 [==============================] - 1s 2ms/step - loss: 0.5786 - acc: 0.8724 - val_loss: 0.5224 - val_acc: 0.8838\n",
            "Epoch 7/45\n",
            "575/575 [==============================] - 1s 2ms/step - loss: 0.4678 - acc: 0.8954 - val_loss: 0.4261 - val_acc: 0.9021\n",
            "Epoch 8/45\n",
            "575/575 [==============================] - 1s 2ms/step - loss: 0.3811 - acc: 0.9186 - val_loss: 0.3534 - val_acc: 0.9269\n",
            "Epoch 9/45\n",
            "575/575 [==============================] - 1s 2ms/step - loss: 0.3177 - acc: 0.9359 - val_loss: 0.3009 - val_acc: 0.9399\n",
            "Epoch 10/45\n",
            "575/575 [==============================] - 1s 2ms/step - loss: 0.2707 - acc: 0.9459 - val_loss: 0.2604 - val_acc: 0.9452\n",
            "Epoch 11/45\n",
            "575/575 [==============================] - 1s 2ms/step - loss: 0.2354 - acc: 0.9524 - val_loss: 0.2314 - val_acc: 0.9526\n",
            "Epoch 12/45\n",
            "575/575 [==============================] - 1s 2ms/step - loss: 0.2080 - acc: 0.9577 - val_loss: 0.2065 - val_acc: 0.9578\n",
            "Epoch 13/45\n",
            "575/575 [==============================] - 1s 2ms/step - loss: 0.1861 - acc: 0.9621 - val_loss: 0.1874 - val_acc: 0.9578\n",
            "Epoch 14/45\n",
            "575/575 [==============================] - 1s 2ms/step - loss: 0.1684 - acc: 0.9644 - val_loss: 0.1717 - val_acc: 0.9600\n",
            "Epoch 15/45\n",
            "575/575 [==============================] - 1s 2ms/step - loss: 0.1537 - acc: 0.9673 - val_loss: 0.1589 - val_acc: 0.9621\n",
            "Epoch 16/45\n",
            "575/575 [==============================] - 1s 2ms/step - loss: 0.1415 - acc: 0.9690 - val_loss: 0.1477 - val_acc: 0.9621\n",
            "Epoch 17/45\n",
            "575/575 [==============================] - 1s 2ms/step - loss: 0.1309 - acc: 0.9701 - val_loss: 0.1396 - val_acc: 0.9630\n",
            "Epoch 18/45\n",
            "575/575 [==============================] - 1s 2ms/step - loss: 0.1218 - acc: 0.9715 - val_loss: 0.1296 - val_acc: 0.9661\n",
            "Epoch 19/45\n",
            "575/575 [==============================] - 1s 2ms/step - loss: 0.1139 - acc: 0.9739 - val_loss: 0.1230 - val_acc: 0.9682\n",
            "Epoch 20/45\n",
            "575/575 [==============================] - 1s 2ms/step - loss: 0.1066 - acc: 0.9769 - val_loss: 0.1159 - val_acc: 0.9700\n",
            "Epoch 21/45\n",
            "575/575 [==============================] - 1s 2ms/step - loss: 0.1003 - acc: 0.9798 - val_loss: 0.1105 - val_acc: 0.9721\n",
            "Epoch 22/45\n",
            "575/575 [==============================] - 1s 2ms/step - loss: 0.0947 - acc: 0.9802 - val_loss: 0.1051 - val_acc: 0.9726\n",
            "Epoch 23/45\n",
            "575/575 [==============================] - 1s 2ms/step - loss: 0.0896 - acc: 0.9811 - val_loss: 0.1003 - val_acc: 0.9730\n",
            "Epoch 24/45\n",
            "575/575 [==============================] - 1s 2ms/step - loss: 0.0848 - acc: 0.9818 - val_loss: 0.0959 - val_acc: 0.9769\n",
            "Epoch 25/45\n",
            "575/575 [==============================] - 1s 2ms/step - loss: 0.0804 - acc: 0.9828 - val_loss: 0.0912 - val_acc: 0.9769\n",
            "Epoch 26/45\n",
            "575/575 [==============================] - 1s 2ms/step - loss: 0.0764 - acc: 0.9836 - val_loss: 0.0882 - val_acc: 0.9769\n",
            "Epoch 27/45\n",
            "575/575 [==============================] - 1s 2ms/step - loss: 0.0726 - acc: 0.9840 - val_loss: 0.0845 - val_acc: 0.9787\n",
            "Epoch 28/45\n",
            "575/575 [==============================] - 1s 2ms/step - loss: 0.0694 - acc: 0.9853 - val_loss: 0.0816 - val_acc: 0.9804\n",
            "Epoch 29/45\n",
            "575/575 [==============================] - 1s 2ms/step - loss: 0.0663 - acc: 0.9860 - val_loss: 0.0783 - val_acc: 0.9813\n",
            "Epoch 30/45\n",
            "575/575 [==============================] - 1s 2ms/step - loss: 0.0634 - acc: 0.9868 - val_loss: 0.0755 - val_acc: 0.9817\n",
            "Epoch 31/45\n",
            "575/575 [==============================] - 1s 2ms/step - loss: 0.0607 - acc: 0.9874 - val_loss: 0.0733 - val_acc: 0.9826\n",
            "Epoch 32/45\n",
            "575/575 [==============================] - 1s 2ms/step - loss: 0.0582 - acc: 0.9874 - val_loss: 0.0703 - val_acc: 0.9826\n",
            "Epoch 33/45\n",
            "575/575 [==============================] - 1s 2ms/step - loss: 0.0560 - acc: 0.9880 - val_loss: 0.0688 - val_acc: 0.9826\n",
            "Epoch 34/45\n",
            "575/575 [==============================] - 1s 2ms/step - loss: 0.0538 - acc: 0.9881 - val_loss: 0.0673 - val_acc: 0.9830\n",
            "Epoch 35/45\n",
            "575/575 [==============================] - 1s 2ms/step - loss: 0.0518 - acc: 0.9882 - val_loss: 0.0660 - val_acc: 0.9839\n",
            "Epoch 36/45\n",
            "575/575 [==============================] - 1s 2ms/step - loss: 0.0500 - acc: 0.9888 - val_loss: 0.0635 - val_acc: 0.9839\n",
            "Epoch 37/45\n",
            "575/575 [==============================] - 1s 2ms/step - loss: 0.0482 - acc: 0.9903 - val_loss: 0.0622 - val_acc: 0.9874\n",
            "Epoch 38/45\n",
            "575/575 [==============================] - 1s 2ms/step - loss: 0.0465 - acc: 0.9904 - val_loss: 0.0610 - val_acc: 0.9869\n",
            "Epoch 39/45\n",
            "575/575 [==============================] - 1s 2ms/step - loss: 0.0449 - acc: 0.9911 - val_loss: 0.0597 - val_acc: 0.9869\n",
            "Epoch 40/45\n",
            "575/575 [==============================] - 1s 2ms/step - loss: 0.0435 - acc: 0.9925 - val_loss: 0.0581 - val_acc: 0.9869\n",
            "Epoch 41/45\n",
            "575/575 [==============================] - 1s 2ms/step - loss: 0.0421 - acc: 0.9924 - val_loss: 0.0564 - val_acc: 0.9874\n",
            "Epoch 42/45\n",
            "575/575 [==============================] - 1s 2ms/step - loss: 0.0408 - acc: 0.9928 - val_loss: 0.0569 - val_acc: 0.9869\n",
            "Epoch 43/45\n",
            "575/575 [==============================] - 1s 2ms/step - loss: 0.0396 - acc: 0.9929 - val_loss: 0.0546 - val_acc: 0.9878\n",
            "Epoch 44/45\n",
            "575/575 [==============================] - 1s 2ms/step - loss: 0.0385 - acc: 0.9934 - val_loss: 0.0542 - val_acc: 0.9878\n",
            "Epoch 45/45\n",
            "575/575 [==============================] - 1s 2ms/step - loss: 0.0374 - acc: 0.9933 - val_loss: 0.0541 - val_acc: 0.9878\n",
            "<bound method Model.summary of <tensorflow.python.keras.engine.sequential.Sequential object at 0x7f73282c6860>>\n",
            "Test Accuracy:\n",
            "6461/6461 [==============================] - 10s 2ms/step - loss: 0.0697 - acc: 0.9850\n",
            "Random Sample Accuracy:\n",
            "94/94 [==============================] - 0s 2ms/step - loss: 1.3793 - acc: 0.6813\n"
          ],
          "name": "stdout"
        },
        {
          "output_type": "display_data",
          "data": {
            "image/png": "[encoded data removed]",
            "text/plain": [
              "<Figure size 1080x432 with 2 Axes>"
            ]
          },
          "metadata": {
            "tags": [],
            "needs_background": "light"
          }
        }
      ]
    },
    {
      "cell_type": "code",
      "metadata": {
        "id": "Tr_uT5YW6wBu"
      },
      "source": [
        "model4_params = {'activation 1': 'relu', \n",
        "                 'activation 2': 'relu', \n",
        "                 'activation 3': 'softmax', \n",
        "                 'opt': tf.keras.optimizers.SGD(learning_rate=0.001),\n",
        "                 'loss': 'categorical_crossentropy',\n",
        "                 'epochs': 250, \n",
        "                 'batch_size': 50, \n",
        "                 }"
      ],
      "execution_count": 63,
      "outputs": []
    },
    {
      "cell_type": "code",
      "metadata": {
        "colab": {
          "base_uri": "https://localhost:8080/",
          "height": 1000
        },
        "id": "nKzymFb26_kD",
        "outputId": "befd5cc8-bed7-4ca8-8e28-ca95c3c7fc0b"
      },
      "source": [
        "model4_history, model4 = create_model(train, label_train, test, label_test, model4_params)"
      ],
      "execution_count": 64,
      "outputs": [
        {
          "output_type": "stream",
          "text": [
            "Epoch 1/250\n",
            "184/184 [==============================] - 1s 3ms/step - loss: 2.6350 - acc: 0.0759 - val_loss: 2.5977 - val_acc: 0.4987\n",
            "Epoch 2/250\n",
            "184/184 [==============================] - 0s 3ms/step - loss: 2.5643 - acc: 0.5128 - val_loss: 2.5330 - val_acc: 0.5265\n",
            "Epoch 3/250\n",
            "184/184 [==============================] - 0s 3ms/step - loss: 2.4981 - acc: 0.5257 - val_loss: 2.4668 - val_acc: 0.5231\n",
            "Epoch 4/250\n",
            "184/184 [==============================] - 0s 3ms/step - loss: 2.4330 - acc: 0.5258 - val_loss: 2.4036 - val_acc: 0.5231\n",
            "Epoch 5/250\n",
            "184/184 [==============================] - 0s 3ms/step - loss: 2.3695 - acc: 0.5258 - val_loss: 2.3406 - val_acc: 0.5231\n",
            "Epoch 6/250\n",
            "184/184 [==============================] - 1s 3ms/step - loss: 2.3061 - acc: 0.5258 - val_loss: 2.2772 - val_acc: 0.5231\n",
            "Epoch 7/250\n",
            "184/184 [==============================] - 0s 3ms/step - loss: 2.2413 - acc: 0.5258 - val_loss: 2.2121 - val_acc: 0.5231\n",
            "Epoch 8/250\n",
            "184/184 [==============================] - 0s 3ms/step - loss: 2.1748 - acc: 0.5258 - val_loss: 2.1450 - val_acc: 0.5231\n",
            "Epoch 9/250\n",
            "184/184 [==============================] - 0s 3ms/step - loss: 2.1066 - acc: 0.5258 - val_loss: 2.0766 - val_acc: 0.5231\n",
            "Epoch 10/250\n",
            "184/184 [==============================] - 0s 3ms/step - loss: 2.0374 - acc: 0.5258 - val_loss: 2.0073 - val_acc: 0.5231\n",
            "Epoch 11/250\n",
            "184/184 [==============================] - 0s 3ms/step - loss: 1.9677 - acc: 0.5258 - val_loss: 1.9390 - val_acc: 0.5231\n",
            "Epoch 12/250\n",
            "184/184 [==============================] - 1s 3ms/step - loss: 1.9006 - acc: 0.5258 - val_loss: 1.8747 - val_acc: 0.5231\n",
            "Epoch 13/250\n",
            "184/184 [==============================] - 0s 3ms/step - loss: 1.8390 - acc: 0.5258 - val_loss: 1.8172 - val_acc: 0.5231\n",
            "Epoch 14/250\n",
            "184/184 [==============================] - 0s 3ms/step - loss: 1.7850 - acc: 0.5258 - val_loss: 1.7679 - val_acc: 0.5231\n",
            "Epoch 15/250\n",
            "184/184 [==============================] - 0s 3ms/step - loss: 1.7396 - acc: 0.5258 - val_loss: 1.7272 - val_acc: 0.5231\n",
            "Epoch 16/250\n",
            "184/184 [==============================] - 1s 3ms/step - loss: 1.7025 - acc: 0.5258 - val_loss: 1.6940 - val_acc: 0.5231\n",
            "Epoch 17/250\n",
            "184/184 [==============================] - 0s 3ms/step - loss: 1.6721 - acc: 0.5258 - val_loss: 1.6666 - val_acc: 0.5231\n",
            "Epoch 18/250\n",
            "184/184 [==============================] - 0s 3ms/step - loss: 1.6466 - acc: 0.5258 - val_loss: 1.6433 - val_acc: 0.5231\n",
            "Epoch 19/250\n",
            "184/184 [==============================] - 0s 3ms/step - loss: 1.6246 - acc: 0.5258 - val_loss: 1.6227 - val_acc: 0.5231\n",
            "Epoch 20/250\n",
            "184/184 [==============================] - 0s 3ms/step - loss: 1.6049 - acc: 0.5258 - val_loss: 1.6041 - val_acc: 0.5231\n",
            "Epoch 21/250\n",
            "184/184 [==============================] - 0s 2ms/step - loss: 1.5869 - acc: 0.5258 - val_loss: 1.5867 - val_acc: 0.5231\n",
            "Epoch 22/250\n",
            "184/184 [==============================] - 0s 2ms/step - loss: 1.5698 - acc: 0.5258 - val_loss: 1.5701 - val_acc: 0.5231\n",
            "Epoch 23/250\n",
            "184/184 [==============================] - 0s 2ms/step - loss: 1.5534 - acc: 0.5258 - val_loss: 1.5538 - val_acc: 0.5231\n",
            "Epoch 24/250\n",
            "184/184 [==============================] - 0s 2ms/step - loss: 1.5371 - acc: 0.5258 - val_loss: 1.5378 - val_acc: 0.5231\n",
            "Epoch 25/250\n",
            "184/184 [==============================] - 0s 2ms/step - loss: 1.5211 - acc: 0.5258 - val_loss: 1.5219 - val_acc: 0.5231\n",
            "Epoch 26/250\n",
            "184/184 [==============================] - 0s 2ms/step - loss: 1.5052 - acc: 0.5258 - val_loss: 1.5061 - val_acc: 0.5231\n",
            "Epoch 27/250\n",
            "184/184 [==============================] - 0s 2ms/step - loss: 1.4895 - acc: 0.5258 - val_loss: 1.4907 - val_acc: 0.5231\n",
            "Epoch 28/250\n",
            "184/184 [==============================] - 0s 2ms/step - loss: 1.4742 - acc: 0.5258 - val_loss: 1.4756 - val_acc: 0.5231\n",
            "Epoch 29/250\n",
            "184/184 [==============================] - 0s 2ms/step - loss: 1.4592 - acc: 0.5258 - val_loss: 1.4609 - val_acc: 0.5231\n",
            "Epoch 30/250\n",
            "184/184 [==============================] - 0s 2ms/step - loss: 1.4446 - acc: 0.5258 - val_loss: 1.4464 - val_acc: 0.5231\n",
            "Epoch 31/250\n",
            "184/184 [==============================] - 0s 2ms/step - loss: 1.4304 - acc: 0.5258 - val_loss: 1.4323 - val_acc: 0.5231\n",
            "Epoch 32/250\n",
            "184/184 [==============================] - 0s 2ms/step - loss: 1.4166 - acc: 0.5258 - val_loss: 1.4187 - val_acc: 0.5231\n",
            "Epoch 33/250\n",
            "184/184 [==============================] - 0s 2ms/step - loss: 1.4032 - acc: 0.5258 - val_loss: 1.4055 - val_acc: 0.5231\n",
            "Epoch 34/250\n",
            "184/184 [==============================] - 0s 2ms/step - loss: 1.3902 - acc: 0.5258 - val_loss: 1.3926 - val_acc: 0.5231\n",
            "Epoch 35/250\n",
            "184/184 [==============================] - 0s 2ms/step - loss: 1.3774 - acc: 0.5258 - val_loss: 1.3799 - val_acc: 0.5231\n",
            "Epoch 36/250\n",
            "184/184 [==============================] - 0s 2ms/step - loss: 1.3649 - acc: 0.5258 - val_loss: 1.3674 - val_acc: 0.5231\n",
            "Epoch 37/250\n",
            "184/184 [==============================] - 0s 2ms/step - loss: 1.3526 - acc: 0.5258 - val_loss: 1.3552 - val_acc: 0.5231\n",
            "Epoch 38/250\n",
            "184/184 [==============================] - 0s 2ms/step - loss: 1.3405 - acc: 0.5258 - val_loss: 1.3431 - val_acc: 0.5231\n",
            "Epoch 39/250\n",
            "184/184 [==============================] - 0s 2ms/step - loss: 1.3286 - acc: 0.5258 - val_loss: 1.3313 - val_acc: 0.5231\n",
            "Epoch 40/250\n",
            "184/184 [==============================] - 0s 2ms/step - loss: 1.3169 - acc: 0.5258 - val_loss: 1.3196 - val_acc: 0.5226\n",
            "Epoch 41/250\n",
            "184/184 [==============================] - 0s 2ms/step - loss: 1.3054 - acc: 0.5256 - val_loss: 1.3081 - val_acc: 0.5226\n",
            "Epoch 42/250\n",
            "184/184 [==============================] - 0s 2ms/step - loss: 1.2940 - acc: 0.5256 - val_loss: 1.2967 - val_acc: 0.5226\n",
            "Epoch 43/250\n",
            "184/184 [==============================] - 0s 2ms/step - loss: 1.2828 - acc: 0.5256 - val_loss: 1.2855 - val_acc: 0.5226\n",
            "Epoch 44/250\n",
            "184/184 [==============================] - 0s 2ms/step - loss: 1.2717 - acc: 0.5295 - val_loss: 1.2745 - val_acc: 0.5392\n",
            "Epoch 45/250\n",
            "184/184 [==============================] - 0s 2ms/step - loss: 1.2609 - acc: 0.5421 - val_loss: 1.2636 - val_acc: 0.5392\n",
            "Epoch 46/250\n",
            "184/184 [==============================] - 0s 2ms/step - loss: 1.2502 - acc: 0.5421 - val_loss: 1.2530 - val_acc: 0.5392\n",
            "Epoch 47/250\n",
            "184/184 [==============================] - 0s 2ms/step - loss: 1.2397 - acc: 0.5529 - val_loss: 1.2425 - val_acc: 0.5574\n",
            "Epoch 48/250\n",
            "184/184 [==============================] - 0s 2ms/step - loss: 1.2293 - acc: 0.5584 - val_loss: 1.2321 - val_acc: 0.5762\n",
            "Epoch 49/250\n",
            "184/184 [==============================] - 0s 2ms/step - loss: 1.2191 - acc: 0.5796 - val_loss: 1.2218 - val_acc: 0.5762\n",
            "Epoch 50/250\n",
            "184/184 [==============================] - 0s 2ms/step - loss: 1.2090 - acc: 0.5796 - val_loss: 1.2118 - val_acc: 0.5762\n",
            "Epoch 51/250\n",
            "184/184 [==============================] - 0s 2ms/step - loss: 1.1990 - acc: 0.5802 - val_loss: 1.2018 - val_acc: 0.5792\n",
            "Epoch 52/250\n",
            "184/184 [==============================] - 0s 2ms/step - loss: 1.1893 - acc: 0.5833 - val_loss: 1.1920 - val_acc: 0.5888\n",
            "Epoch 53/250\n",
            "184/184 [==============================] - 0s 2ms/step - loss: 1.1796 - acc: 0.5916 - val_loss: 1.1824 - val_acc: 0.5892\n",
            "Epoch 54/250\n",
            "184/184 [==============================] - 0s 2ms/step - loss: 1.1702 - acc: 0.5913 - val_loss: 1.1729 - val_acc: 0.5892\n",
            "Epoch 55/250\n",
            "184/184 [==============================] - 0s 2ms/step - loss: 1.1609 - acc: 0.5950 - val_loss: 1.1637 - val_acc: 0.5949\n",
            "Epoch 56/250\n",
            "184/184 [==============================] - 0s 2ms/step - loss: 1.1517 - acc: 0.6000 - val_loss: 1.1545 - val_acc: 0.5997\n",
            "Epoch 57/250\n",
            "184/184 [==============================] - 0s 2ms/step - loss: 1.1427 - acc: 0.6183 - val_loss: 1.1454 - val_acc: 0.6271\n",
            "Epoch 58/250\n",
            "184/184 [==============================] - 0s 2ms/step - loss: 1.1338 - acc: 0.6318 - val_loss: 1.1365 - val_acc: 0.6379\n",
            "Epoch 59/250\n",
            "184/184 [==============================] - 0s 2ms/step - loss: 1.1251 - acc: 0.6407 - val_loss: 1.1278 - val_acc: 0.6379\n",
            "Epoch 60/250\n",
            "184/184 [==============================] - 0s 2ms/step - loss: 1.1166 - acc: 0.6448 - val_loss: 1.1193 - val_acc: 0.6497\n",
            "Epoch 61/250\n",
            "184/184 [==============================] - 0s 2ms/step - loss: 1.1082 - acc: 0.6548 - val_loss: 1.1109 - val_acc: 0.6497\n",
            "Epoch 62/250\n",
            "184/184 [==============================] - 0s 2ms/step - loss: 1.1000 - acc: 0.6646 - val_loss: 1.1027 - val_acc: 0.6628\n",
            "Epoch 63/250\n",
            "184/184 [==============================] - 0s 2ms/step - loss: 1.0920 - acc: 0.6670 - val_loss: 1.0947 - val_acc: 0.6628\n",
            "Epoch 64/250\n",
            "184/184 [==============================] - 0s 2ms/step - loss: 1.0841 - acc: 0.6678 - val_loss: 1.0868 - val_acc: 0.6671\n",
            "Epoch 65/250\n",
            "184/184 [==============================] - 0s 2ms/step - loss: 1.0764 - acc: 0.6702 - val_loss: 1.0791 - val_acc: 0.6688\n",
            "Epoch 66/250\n",
            "184/184 [==============================] - 0s 2ms/step - loss: 1.0688 - acc: 0.6695 - val_loss: 1.0715 - val_acc: 0.6728\n",
            "Epoch 67/250\n",
            "184/184 [==============================] - 0s 2ms/step - loss: 1.0614 - acc: 0.6729 - val_loss: 1.0641 - val_acc: 0.6732\n",
            "Epoch 68/250\n",
            "184/184 [==============================] - 0s 2ms/step - loss: 1.0540 - acc: 0.6753 - val_loss: 1.0568 - val_acc: 0.6767\n",
            "Epoch 69/250\n",
            "184/184 [==============================] - 0s 2ms/step - loss: 1.0468 - acc: 0.6799 - val_loss: 1.0496 - val_acc: 0.6780\n",
            "Epoch 70/250\n",
            "184/184 [==============================] - 0s 2ms/step - loss: 1.0398 - acc: 0.6805 - val_loss: 1.0425 - val_acc: 0.6802\n",
            "Epoch 71/250\n",
            "184/184 [==============================] - 0s 2ms/step - loss: 1.0328 - acc: 0.6838 - val_loss: 1.0355 - val_acc: 0.6806\n",
            "Epoch 72/250\n",
            "184/184 [==============================] - 0s 2ms/step - loss: 1.0260 - acc: 0.6837 - val_loss: 1.0287 - val_acc: 0.6802\n",
            "Epoch 73/250\n",
            "184/184 [==============================] - 0s 2ms/step - loss: 1.0192 - acc: 0.6850 - val_loss: 1.0219 - val_acc: 0.6849\n",
            "Epoch 74/250\n",
            "184/184 [==============================] - 0s 2ms/step - loss: 1.0125 - acc: 0.6861 - val_loss: 1.0152 - val_acc: 0.6832\n",
            "Epoch 75/250\n",
            "184/184 [==============================] - 0s 2ms/step - loss: 1.0060 - acc: 0.6846 - val_loss: 1.0087 - val_acc: 0.6815\n",
            "Epoch 76/250\n",
            "184/184 [==============================] - 0s 2ms/step - loss: 0.9995 - acc: 0.6844 - val_loss: 1.0022 - val_acc: 0.6819\n",
            "Epoch 77/250\n",
            "184/184 [==============================] - 0s 2ms/step - loss: 0.9931 - acc: 0.6846 - val_loss: 0.9958 - val_acc: 0.6815\n",
            "Epoch 78/250\n",
            "184/184 [==============================] - 0s 2ms/step - loss: 0.9869 - acc: 0.6846 - val_loss: 0.9896 - val_acc: 0.6832\n",
            "Epoch 79/250\n",
            "184/184 [==============================] - 0s 2ms/step - loss: 0.9807 - acc: 0.6857 - val_loss: 0.9834 - val_acc: 0.6832\n",
            "Epoch 80/250\n",
            "184/184 [==============================] - 0s 2ms/step - loss: 0.9746 - acc: 0.6857 - val_loss: 0.9773 - val_acc: 0.6832\n",
            "Epoch 81/250\n",
            "184/184 [==============================] - 0s 2ms/step - loss: 0.9685 - acc: 0.6857 - val_loss: 0.9712 - val_acc: 0.6832\n",
            "Epoch 82/250\n",
            "184/184 [==============================] - 0s 2ms/step - loss: 0.9625 - acc: 0.6857 - val_loss: 0.9652 - val_acc: 0.6832\n",
            "Epoch 83/250\n",
            "184/184 [==============================] - 0s 2ms/step - loss: 0.9566 - acc: 0.6857 - val_loss: 0.9592 - val_acc: 0.6832\n",
            "Epoch 84/250\n",
            "184/184 [==============================] - 0s 2ms/step - loss: 0.9507 - acc: 0.6857 - val_loss: 0.9533 - val_acc: 0.6832\n",
            "Epoch 85/250\n",
            "184/184 [==============================] - 0s 2ms/step - loss: 0.9449 - acc: 0.6868 - val_loss: 0.9475 - val_acc: 0.6845\n",
            "Epoch 86/250\n",
            "184/184 [==============================] - 0s 2ms/step - loss: 0.9392 - acc: 0.6868 - val_loss: 0.9417 - val_acc: 0.6845\n",
            "Epoch 87/250\n",
            "184/184 [==============================] - 0s 2ms/step - loss: 0.9335 - acc: 0.6868 - val_loss: 0.9360 - val_acc: 0.6845\n",
            "Epoch 88/250\n",
            "184/184 [==============================] - 0s 2ms/step - loss: 0.9279 - acc: 0.6867 - val_loss: 0.9304 - val_acc: 0.6845\n",
            "Epoch 89/250\n",
            "184/184 [==============================] - 0s 2ms/step - loss: 0.9223 - acc: 0.6871 - val_loss: 0.9248 - val_acc: 0.6845\n",
            "Epoch 90/250\n",
            "184/184 [==============================] - 0s 2ms/step - loss: 0.9168 - acc: 0.6871 - val_loss: 0.9192 - val_acc: 0.6845\n",
            "Epoch 91/250\n",
            "184/184 [==============================] - 0s 2ms/step - loss: 0.9113 - acc: 0.6884 - val_loss: 0.9137 - val_acc: 0.6876\n",
            "Epoch 92/250\n",
            "184/184 [==============================] - 0s 2ms/step - loss: 0.9059 - acc: 0.6899 - val_loss: 0.9084 - val_acc: 0.6880\n",
            "Epoch 93/250\n",
            "184/184 [==============================] - 0s 2ms/step - loss: 0.9005 - acc: 0.6901 - val_loss: 0.9031 - val_acc: 0.6906\n",
            "Epoch 94/250\n",
            "184/184 [==============================] - 0s 2ms/step - loss: 0.8952 - acc: 0.6941 - val_loss: 0.8978 - val_acc: 0.6906\n",
            "Epoch 95/250\n",
            "184/184 [==============================] - 0s 2ms/step - loss: 0.8900 - acc: 0.6941 - val_loss: 0.8926 - val_acc: 0.6906\n",
            "Epoch 96/250\n",
            "184/184 [==============================] - 0s 2ms/step - loss: 0.8848 - acc: 0.6941 - val_loss: 0.8874 - val_acc: 0.6906\n",
            "Epoch 97/250\n",
            "184/184 [==============================] - 0s 2ms/step - loss: 0.8796 - acc: 0.6941 - val_loss: 0.8822 - val_acc: 0.6906\n",
            "Epoch 98/250\n",
            "184/184 [==============================] - 0s 2ms/step - loss: 0.8744 - acc: 0.6941 - val_loss: 0.8771 - val_acc: 0.6906\n",
            "Epoch 99/250\n",
            "184/184 [==============================] - 0s 2ms/step - loss: 0.8693 - acc: 0.6950 - val_loss: 0.8720 - val_acc: 0.6980\n",
            "Epoch 100/250\n",
            "184/184 [==============================] - 0s 2ms/step - loss: 0.8642 - acc: 0.7245 - val_loss: 0.8669 - val_acc: 0.7433\n",
            "Epoch 101/250\n",
            "184/184 [==============================] - 0s 2ms/step - loss: 0.8591 - acc: 0.7406 - val_loss: 0.8618 - val_acc: 0.7433\n",
            "Epoch 102/250\n",
            "184/184 [==============================] - 0s 2ms/step - loss: 0.8540 - acc: 0.7406 - val_loss: 0.8567 - val_acc: 0.7433\n",
            "Epoch 103/250\n",
            "184/184 [==============================] - 0s 2ms/step - loss: 0.8490 - acc: 0.7406 - val_loss: 0.8517 - val_acc: 0.7433\n",
            "Epoch 104/250\n",
            "184/184 [==============================] - 0s 2ms/step - loss: 0.8439 - acc: 0.7409 - val_loss: 0.8467 - val_acc: 0.7433\n",
            "Epoch 105/250\n",
            "184/184 [==============================] - 0s 2ms/step - loss: 0.8389 - acc: 0.7410 - val_loss: 0.8417 - val_acc: 0.7433\n",
            "Epoch 106/250\n",
            "184/184 [==============================] - 0s 2ms/step - loss: 0.8339 - acc: 0.7410 - val_loss: 0.8367 - val_acc: 0.7433\n",
            "Epoch 107/250\n",
            "184/184 [==============================] - 0s 2ms/step - loss: 0.8290 - acc: 0.7413 - val_loss: 0.8317 - val_acc: 0.7472\n",
            "Epoch 108/250\n",
            "184/184 [==============================] - 0s 2ms/step - loss: 0.8240 - acc: 0.7535 - val_loss: 0.8268 - val_acc: 0.7707\n",
            "Epoch 109/250\n",
            "184/184 [==============================] - 0s 2ms/step - loss: 0.8191 - acc: 0.7796 - val_loss: 0.8218 - val_acc: 0.7820\n",
            "Epoch 110/250\n",
            "184/184 [==============================] - 0s 2ms/step - loss: 0.8141 - acc: 0.7838 - val_loss: 0.8169 - val_acc: 0.7829\n",
            "Epoch 111/250\n",
            "184/184 [==============================] - 0s 2ms/step - loss: 0.8092 - acc: 0.7852 - val_loss: 0.8120 - val_acc: 0.7829\n",
            "Epoch 112/250\n",
            "184/184 [==============================] - 0s 2ms/step - loss: 0.8043 - acc: 0.7890 - val_loss: 0.8071 - val_acc: 0.7885\n",
            "Epoch 113/250\n",
            "184/184 [==============================] - 0s 2ms/step - loss: 0.7994 - acc: 0.7916 - val_loss: 0.8022 - val_acc: 0.7885\n",
            "Epoch 114/250\n",
            "184/184 [==============================] - 0s 2ms/step - loss: 0.7945 - acc: 0.7941 - val_loss: 0.7974 - val_acc: 0.7929\n",
            "Epoch 115/250\n",
            "184/184 [==============================] - 0s 2ms/step - loss: 0.7896 - acc: 0.7968 - val_loss: 0.7924 - val_acc: 0.7959\n",
            "Epoch 116/250\n",
            "184/184 [==============================] - 0s 2ms/step - loss: 0.7846 - acc: 0.7990 - val_loss: 0.7875 - val_acc: 0.7977\n",
            "Epoch 117/250\n",
            "184/184 [==============================] - 0s 2ms/step - loss: 0.7797 - acc: 0.8041 - val_loss: 0.7825 - val_acc: 0.8042\n",
            "Epoch 118/250\n",
            "184/184 [==============================] - 0s 2ms/step - loss: 0.7747 - acc: 0.8092 - val_loss: 0.7776 - val_acc: 0.8094\n",
            "Epoch 119/250\n",
            "184/184 [==============================] - 0s 2ms/step - loss: 0.7698 - acc: 0.8104 - val_loss: 0.7727 - val_acc: 0.8107\n",
            "Epoch 120/250\n",
            "184/184 [==============================] - 0s 2ms/step - loss: 0.7649 - acc: 0.8111 - val_loss: 0.7678 - val_acc: 0.8107\n",
            "Epoch 121/250\n",
            "184/184 [==============================] - 0s 2ms/step - loss: 0.7600 - acc: 0.8138 - val_loss: 0.7629 - val_acc: 0.8159\n",
            "Epoch 122/250\n",
            "184/184 [==============================] - 0s 2ms/step - loss: 0.7551 - acc: 0.8175 - val_loss: 0.7580 - val_acc: 0.8159\n",
            "Epoch 123/250\n",
            "184/184 [==============================] - 0s 2ms/step - loss: 0.7502 - acc: 0.8176 - val_loss: 0.7532 - val_acc: 0.8159\n",
            "Epoch 124/250\n",
            "184/184 [==============================] - 0s 2ms/step - loss: 0.7453 - acc: 0.8182 - val_loss: 0.7483 - val_acc: 0.8190\n",
            "Epoch 125/250\n",
            "184/184 [==============================] - 0s 2ms/step - loss: 0.7404 - acc: 0.8202 - val_loss: 0.7434 - val_acc: 0.8190\n",
            "Epoch 126/250\n",
            "184/184 [==============================] - 0s 2ms/step - loss: 0.7356 - acc: 0.8203 - val_loss: 0.7386 - val_acc: 0.8194\n",
            "Epoch 127/250\n",
            "184/184 [==============================] - 0s 2ms/step - loss: 0.7307 - acc: 0.8224 - val_loss: 0.7338 - val_acc: 0.8238\n",
            "Epoch 128/250\n",
            "184/184 [==============================] - 0s 2ms/step - loss: 0.7259 - acc: 0.8259 - val_loss: 0.7290 - val_acc: 0.8255\n",
            "Epoch 129/250\n",
            "184/184 [==============================] - 0s 2ms/step - loss: 0.7211 - acc: 0.8273 - val_loss: 0.7243 - val_acc: 0.8281\n",
            "Epoch 130/250\n",
            "184/184 [==============================] - 0s 2ms/step - loss: 0.7163 - acc: 0.8286 - val_loss: 0.7195 - val_acc: 0.8285\n",
            "Epoch 131/250\n",
            "184/184 [==============================] - 0s 2ms/step - loss: 0.7115 - acc: 0.8310 - val_loss: 0.7147 - val_acc: 0.8285\n",
            "Epoch 132/250\n",
            "184/184 [==============================] - 0s 2ms/step - loss: 0.7067 - acc: 0.8313 - val_loss: 0.7100 - val_acc: 0.8307\n",
            "Epoch 133/250\n",
            "184/184 [==============================] - 0s 2ms/step - loss: 0.7020 - acc: 0.8345 - val_loss: 0.7053 - val_acc: 0.8364\n",
            "Epoch 134/250\n",
            "184/184 [==============================] - 0s 2ms/step - loss: 0.6973 - acc: 0.8402 - val_loss: 0.7006 - val_acc: 0.8403\n",
            "Epoch 135/250\n",
            "184/184 [==============================] - 0s 2ms/step - loss: 0.6925 - acc: 0.8432 - val_loss: 0.6959 - val_acc: 0.8438\n",
            "Epoch 136/250\n",
            "184/184 [==============================] - 0s 2ms/step - loss: 0.6878 - acc: 0.8440 - val_loss: 0.6913 - val_acc: 0.8442\n",
            "Epoch 137/250\n",
            "184/184 [==============================] - 0s 2ms/step - loss: 0.6832 - acc: 0.8447 - val_loss: 0.6866 - val_acc: 0.8490\n",
            "Epoch 138/250\n",
            "184/184 [==============================] - 0s 2ms/step - loss: 0.6785 - acc: 0.8477 - val_loss: 0.6820 - val_acc: 0.8490\n",
            "Epoch 139/250\n",
            "184/184 [==============================] - 0s 2ms/step - loss: 0.6738 - acc: 0.8477 - val_loss: 0.6774 - val_acc: 0.8490\n",
            "Epoch 140/250\n",
            "184/184 [==============================] - 0s 2ms/step - loss: 0.6692 - acc: 0.8502 - val_loss: 0.6729 - val_acc: 0.8538\n",
            "Epoch 141/250\n",
            "184/184 [==============================] - 0s 2ms/step - loss: 0.6646 - acc: 0.8522 - val_loss: 0.6683 - val_acc: 0.8538\n",
            "Epoch 142/250\n",
            "184/184 [==============================] - 0s 2ms/step - loss: 0.6600 - acc: 0.8522 - val_loss: 0.6638 - val_acc: 0.8538\n",
            "Epoch 143/250\n",
            "184/184 [==============================] - 0s 2ms/step - loss: 0.6554 - acc: 0.8522 - val_loss: 0.6593 - val_acc: 0.8538\n",
            "Epoch 144/250\n",
            "184/184 [==============================] - 0s 2ms/step - loss: 0.6508 - acc: 0.8522 - val_loss: 0.6548 - val_acc: 0.8538\n",
            "Epoch 145/250\n",
            "184/184 [==============================] - 0s 2ms/step - loss: 0.6463 - acc: 0.8529 - val_loss: 0.6503 - val_acc: 0.8538\n",
            "Epoch 146/250\n",
            "184/184 [==============================] - 0s 2ms/step - loss: 0.6418 - acc: 0.8534 - val_loss: 0.6458 - val_acc: 0.8538\n",
            "Epoch 147/250\n",
            "184/184 [==============================] - 0s 2ms/step - loss: 0.6372 - acc: 0.8534 - val_loss: 0.6414 - val_acc: 0.8538\n",
            "Epoch 148/250\n",
            "184/184 [==============================] - 0s 2ms/step - loss: 0.6327 - acc: 0.8540 - val_loss: 0.6370 - val_acc: 0.8538\n",
            "Epoch 149/250\n",
            "184/184 [==============================] - 0s 2ms/step - loss: 0.6282 - acc: 0.8544 - val_loss: 0.6326 - val_acc: 0.8538\n",
            "Epoch 150/250\n",
            "184/184 [==============================] - 0s 2ms/step - loss: 0.6238 - acc: 0.8546 - val_loss: 0.6282 - val_acc: 0.8538\n",
            "Epoch 151/250\n",
            "184/184 [==============================] - 0s 2ms/step - loss: 0.6193 - acc: 0.8568 - val_loss: 0.6238 - val_acc: 0.8551\n",
            "Epoch 152/250\n",
            "184/184 [==============================] - 0s 2ms/step - loss: 0.6149 - acc: 0.8577 - val_loss: 0.6195 - val_acc: 0.8551\n",
            "Epoch 153/250\n",
            "184/184 [==============================] - 0s 2ms/step - loss: 0.6105 - acc: 0.8591 - val_loss: 0.6152 - val_acc: 0.8555\n",
            "Epoch 154/250\n",
            "184/184 [==============================] - 0s 2ms/step - loss: 0.6061 - acc: 0.8597 - val_loss: 0.6109 - val_acc: 0.8560\n",
            "Epoch 155/250\n",
            "184/184 [==============================] - 0s 2ms/step - loss: 0.6018 - acc: 0.8629 - val_loss: 0.6066 - val_acc: 0.8586\n",
            "Epoch 156/250\n",
            "184/184 [==============================] - 0s 2ms/step - loss: 0.5974 - acc: 0.8642 - val_loss: 0.6024 - val_acc: 0.8586\n",
            "Epoch 157/250\n",
            "184/184 [==============================] - 0s 2ms/step - loss: 0.5931 - acc: 0.8642 - val_loss: 0.5982 - val_acc: 0.8603\n",
            "Epoch 158/250\n",
            "184/184 [==============================] - 0s 2ms/step - loss: 0.5889 - acc: 0.8646 - val_loss: 0.5940 - val_acc: 0.8603\n",
            "Epoch 159/250\n",
            "184/184 [==============================] - 0s 2ms/step - loss: 0.5846 - acc: 0.8647 - val_loss: 0.5899 - val_acc: 0.8603\n",
            "Epoch 160/250\n",
            "184/184 [==============================] - 0s 2ms/step - loss: 0.5804 - acc: 0.8647 - val_loss: 0.5858 - val_acc: 0.8603\n",
            "Epoch 161/250\n",
            "184/184 [==============================] - 0s 2ms/step - loss: 0.5762 - acc: 0.8648 - val_loss: 0.5817 - val_acc: 0.8603\n",
            "Epoch 162/250\n",
            "184/184 [==============================] - 0s 2ms/step - loss: 0.5721 - acc: 0.8648 - val_loss: 0.5776 - val_acc: 0.8603\n",
            "Epoch 163/250\n",
            "184/184 [==============================] - 0s 2ms/step - loss: 0.5679 - acc: 0.8652 - val_loss: 0.5736 - val_acc: 0.8603\n",
            "Epoch 164/250\n",
            "184/184 [==============================] - 0s 2ms/step - loss: 0.5638 - acc: 0.8654 - val_loss: 0.5696 - val_acc: 0.8603\n",
            "Epoch 165/250\n",
            "184/184 [==============================] - 0s 2ms/step - loss: 0.5598 - acc: 0.8657 - val_loss: 0.5656 - val_acc: 0.8603\n",
            "Epoch 166/250\n",
            "184/184 [==============================] - 0s 2ms/step - loss: 0.5557 - acc: 0.8657 - val_loss: 0.5617 - val_acc: 0.8603\n",
            "Epoch 167/250\n",
            "184/184 [==============================] - 0s 2ms/step - loss: 0.5517 - acc: 0.8662 - val_loss: 0.5578 - val_acc: 0.8607\n",
            "Epoch 168/250\n",
            "184/184 [==============================] - 0s 2ms/step - loss: 0.5477 - acc: 0.8666 - val_loss: 0.5539 - val_acc: 0.8607\n",
            "Epoch 169/250\n",
            "184/184 [==============================] - 0s 2ms/step - loss: 0.5437 - acc: 0.8666 - val_loss: 0.5500 - val_acc: 0.8607\n",
            "Epoch 170/250\n",
            "184/184 [==============================] - 0s 2ms/step - loss: 0.5398 - acc: 0.8669 - val_loss: 0.5462 - val_acc: 0.8607\n",
            "Epoch 171/250\n",
            "184/184 [==============================] - 0s 2ms/step - loss: 0.5359 - acc: 0.8669 - val_loss: 0.5424 - val_acc: 0.8616\n",
            "Epoch 172/250\n",
            "184/184 [==============================] - 0s 2ms/step - loss: 0.5321 - acc: 0.8673 - val_loss: 0.5386 - val_acc: 0.8616\n",
            "Epoch 173/250\n",
            "184/184 [==============================] - 0s 2ms/step - loss: 0.5282 - acc: 0.8673 - val_loss: 0.5348 - val_acc: 0.8616\n",
            "Epoch 174/250\n",
            "184/184 [==============================] - 0s 2ms/step - loss: 0.5244 - acc: 0.8686 - val_loss: 0.5311 - val_acc: 0.8686\n",
            "Epoch 175/250\n",
            "184/184 [==============================] - 0s 2ms/step - loss: 0.5207 - acc: 0.8719 - val_loss: 0.5274 - val_acc: 0.8686\n",
            "Epoch 176/250\n",
            "184/184 [==============================] - 0s 2ms/step - loss: 0.5169 - acc: 0.8742 - val_loss: 0.5238 - val_acc: 0.8708\n",
            "Epoch 177/250\n",
            "184/184 [==============================] - 0s 2ms/step - loss: 0.5132 - acc: 0.8752 - val_loss: 0.5202 - val_acc: 0.8729\n",
            "Epoch 178/250\n",
            "184/184 [==============================] - 0s 2ms/step - loss: 0.5096 - acc: 0.8767 - val_loss: 0.5166 - val_acc: 0.8747\n",
            "Epoch 179/250\n",
            "184/184 [==============================] - 0s 2ms/step - loss: 0.5059 - acc: 0.8820 - val_loss: 0.5131 - val_acc: 0.8777\n",
            "Epoch 180/250\n",
            "184/184 [==============================] - 0s 2ms/step - loss: 0.5024 - acc: 0.8853 - val_loss: 0.5096 - val_acc: 0.8803\n",
            "Epoch 181/250\n",
            "184/184 [==============================] - 0s 2ms/step - loss: 0.4988 - acc: 0.8867 - val_loss: 0.5061 - val_acc: 0.8864\n",
            "Epoch 182/250\n",
            "184/184 [==============================] - 0s 2ms/step - loss: 0.4953 - acc: 0.8890 - val_loss: 0.5027 - val_acc: 0.8869\n",
            "Epoch 183/250\n",
            "184/184 [==============================] - 0s 2ms/step - loss: 0.4918 - acc: 0.8895 - val_loss: 0.4993 - val_acc: 0.8869\n",
            "Epoch 184/250\n",
            "184/184 [==============================] - 0s 2ms/step - loss: 0.4883 - acc: 0.8895 - val_loss: 0.4959 - val_acc: 0.8869\n",
            "Epoch 185/250\n",
            "184/184 [==============================] - 0s 2ms/step - loss: 0.4849 - acc: 0.8895 - val_loss: 0.4926 - val_acc: 0.8869\n",
            "Epoch 186/250\n",
            "184/184 [==============================] - 0s 2ms/step - loss: 0.4815 - acc: 0.8895 - val_loss: 0.4892 - val_acc: 0.8869\n",
            "Epoch 187/250\n",
            "184/184 [==============================] - 0s 2ms/step - loss: 0.4782 - acc: 0.8895 - val_loss: 0.4860 - val_acc: 0.8869\n",
            "Epoch 188/250\n",
            "184/184 [==============================] - 0s 2ms/step - loss: 0.4749 - acc: 0.8896 - val_loss: 0.4827 - val_acc: 0.8869\n",
            "Epoch 189/250\n",
            "184/184 [==============================] - 0s 2ms/step - loss: 0.4716 - acc: 0.8902 - val_loss: 0.4795 - val_acc: 0.8882\n",
            "Epoch 190/250\n",
            "184/184 [==============================] - 0s 2ms/step - loss: 0.4684 - acc: 0.8902 - val_loss: 0.4764 - val_acc: 0.8882\n",
            "Epoch 191/250\n",
            "184/184 [==============================] - 0s 2ms/step - loss: 0.4651 - acc: 0.8911 - val_loss: 0.4732 - val_acc: 0.8886\n",
            "Epoch 192/250\n",
            "184/184 [==============================] - 0s 2ms/step - loss: 0.4620 - acc: 0.8914 - val_loss: 0.4701 - val_acc: 0.8895\n",
            "Epoch 193/250\n",
            "184/184 [==============================] - 0s 2ms/step - loss: 0.4588 - acc: 0.8914 - val_loss: 0.4670 - val_acc: 0.8895\n",
            "Epoch 194/250\n",
            "184/184 [==============================] - 0s 2ms/step - loss: 0.4557 - acc: 0.8917 - val_loss: 0.4640 - val_acc: 0.8899\n",
            "Epoch 195/250\n",
            "184/184 [==============================] - 0s 2ms/step - loss: 0.4526 - acc: 0.8918 - val_loss: 0.4609 - val_acc: 0.8899\n",
            "Epoch 196/250\n",
            "184/184 [==============================] - 0s 2ms/step - loss: 0.4496 - acc: 0.8936 - val_loss: 0.4579 - val_acc: 0.8912\n",
            "Epoch 197/250\n",
            "184/184 [==============================] - 0s 2ms/step - loss: 0.4465 - acc: 0.8941 - val_loss: 0.4550 - val_acc: 0.8912\n",
            "Epoch 198/250\n",
            "184/184 [==============================] - 0s 2ms/step - loss: 0.4435 - acc: 0.8951 - val_loss: 0.4520 - val_acc: 0.8930\n",
            "Epoch 199/250\n",
            "184/184 [==============================] - 0s 2ms/step - loss: 0.4405 - acc: 0.8957 - val_loss: 0.4491 - val_acc: 0.8934\n",
            "Epoch 200/250\n",
            "184/184 [==============================] - 0s 2ms/step - loss: 0.4376 - acc: 0.8969 - val_loss: 0.4462 - val_acc: 0.8934\n",
            "Epoch 201/250\n",
            "184/184 [==============================] - 0s 2ms/step - loss: 0.4347 - acc: 0.8979 - val_loss: 0.4433 - val_acc: 0.8947\n",
            "Epoch 202/250\n",
            "184/184 [==============================] - 0s 2ms/step - loss: 0.4318 - acc: 0.8987 - val_loss: 0.4405 - val_acc: 0.8947\n",
            "Epoch 203/250\n",
            "184/184 [==============================] - 0s 2ms/step - loss: 0.4289 - acc: 0.8988 - val_loss: 0.4377 - val_acc: 0.8947\n",
            "Epoch 204/250\n",
            "184/184 [==============================] - 0s 2ms/step - loss: 0.4261 - acc: 0.9005 - val_loss: 0.4349 - val_acc: 0.8982\n",
            "Epoch 205/250\n",
            "184/184 [==============================] - 0s 2ms/step - loss: 0.4233 - acc: 0.9037 - val_loss: 0.4322 - val_acc: 0.9012\n",
            "Epoch 206/250\n",
            "184/184 [==============================] - 0s 2ms/step - loss: 0.4205 - acc: 0.9054 - val_loss: 0.4295 - val_acc: 0.9012\n",
            "Epoch 207/250\n",
            "184/184 [==============================] - 0s 2ms/step - loss: 0.4177 - acc: 0.9068 - val_loss: 0.4268 - val_acc: 0.9017\n",
            "Epoch 208/250\n",
            "184/184 [==============================] - 0s 2ms/step - loss: 0.4150 - acc: 0.9069 - val_loss: 0.4241 - val_acc: 0.9030\n",
            "Epoch 209/250\n",
            "184/184 [==============================] - 0s 2ms/step - loss: 0.4123 - acc: 0.9074 - val_loss: 0.4215 - val_acc: 0.9030\n",
            "Epoch 210/250\n",
            "184/184 [==============================] - 0s 2ms/step - loss: 0.4096 - acc: 0.9078 - val_loss: 0.4188 - val_acc: 0.9030\n",
            "Epoch 211/250\n",
            "184/184 [==============================] - 0s 2ms/step - loss: 0.4069 - acc: 0.9085 - val_loss: 0.4163 - val_acc: 0.9030\n",
            "Epoch 212/250\n",
            "184/184 [==============================] - 0s 2ms/step - loss: 0.4043 - acc: 0.9087 - val_loss: 0.4137 - val_acc: 0.9043\n",
            "Epoch 213/250\n",
            "184/184 [==============================] - 0s 2ms/step - loss: 0.4017 - acc: 0.9088 - val_loss: 0.4112 - val_acc: 0.9043\n",
            "Epoch 214/250\n",
            "184/184 [==============================] - 0s 2ms/step - loss: 0.3992 - acc: 0.9090 - val_loss: 0.4086 - val_acc: 0.9047\n",
            "Epoch 215/250\n",
            "184/184 [==============================] - 0s 2ms/step - loss: 0.3966 - acc: 0.9093 - val_loss: 0.4062 - val_acc: 0.9047\n",
            "Epoch 216/250\n",
            "184/184 [==============================] - 0s 2ms/step - loss: 0.3941 - acc: 0.9096 - val_loss: 0.4037 - val_acc: 0.9047\n",
            "Epoch 217/250\n",
            "184/184 [==============================] - 0s 2ms/step - loss: 0.3916 - acc: 0.9097 - val_loss: 0.4013 - val_acc: 0.9047\n",
            "Epoch 218/250\n",
            "184/184 [==============================] - 0s 2ms/step - loss: 0.3891 - acc: 0.9097 - val_loss: 0.3988 - val_acc: 0.9047\n",
            "Epoch 219/250\n",
            "184/184 [==============================] - 0s 2ms/step - loss: 0.3867 - acc: 0.9097 - val_loss: 0.3964 - val_acc: 0.9047\n",
            "Epoch 220/250\n",
            "184/184 [==============================] - 0s 2ms/step - loss: 0.3843 - acc: 0.9099 - val_loss: 0.3941 - val_acc: 0.9047\n",
            "Epoch 221/250\n",
            "184/184 [==============================] - 0s 2ms/step - loss: 0.3819 - acc: 0.9100 - val_loss: 0.3917 - val_acc: 0.9047\n",
            "Epoch 222/250\n",
            "184/184 [==============================] - 0s 2ms/step - loss: 0.3795 - acc: 0.9101 - val_loss: 0.3894 - val_acc: 0.9051\n",
            "Epoch 223/250\n",
            "184/184 [==============================] - 0s 2ms/step - loss: 0.3772 - acc: 0.9103 - val_loss: 0.3871 - val_acc: 0.9051\n",
            "Epoch 224/250\n",
            "184/184 [==============================] - 0s 2ms/step - loss: 0.3749 - acc: 0.9105 - val_loss: 0.3849 - val_acc: 0.9051\n",
            "Epoch 225/250\n",
            "184/184 [==============================] - 0s 2ms/step - loss: 0.3726 - acc: 0.9109 - val_loss: 0.3826 - val_acc: 0.9051\n",
            "Epoch 226/250\n",
            "184/184 [==============================] - 0s 2ms/step - loss: 0.3703 - acc: 0.9109 - val_loss: 0.3804 - val_acc: 0.9051\n",
            "Epoch 227/250\n",
            "184/184 [==============================] - 0s 2ms/step - loss: 0.3681 - acc: 0.9112 - val_loss: 0.3782 - val_acc: 0.9051\n",
            "Epoch 228/250\n",
            "184/184 [==============================] - 0s 2ms/step - loss: 0.3658 - acc: 0.9112 - val_loss: 0.3760 - val_acc: 0.9051\n",
            "Epoch 229/250\n",
            "184/184 [==============================] - 0s 2ms/step - loss: 0.3636 - acc: 0.9114 - val_loss: 0.3738 - val_acc: 0.9056\n",
            "Epoch 230/250\n",
            "184/184 [==============================] - 0s 2ms/step - loss: 0.3614 - acc: 0.9125 - val_loss: 0.3717 - val_acc: 0.9056\n",
            "Epoch 231/250\n",
            "184/184 [==============================] - 0s 2ms/step - loss: 0.3593 - acc: 0.9134 - val_loss: 0.3696 - val_acc: 0.9073\n",
            "Epoch 232/250\n",
            "184/184 [==============================] - 0s 2ms/step - loss: 0.3571 - acc: 0.9142 - val_loss: 0.3674 - val_acc: 0.9073\n",
            "Epoch 233/250\n",
            "184/184 [==============================] - 0s 2ms/step - loss: 0.3550 - acc: 0.9143 - val_loss: 0.3654 - val_acc: 0.9073\n",
            "Epoch 234/250\n",
            "184/184 [==============================] - 0s 2ms/step - loss: 0.3529 - acc: 0.9143 - val_loss: 0.3633 - val_acc: 0.9073\n",
            "Epoch 235/250\n",
            "184/184 [==============================] - 0s 2ms/step - loss: 0.3508 - acc: 0.9143 - val_loss: 0.3612 - val_acc: 0.9073\n",
            "Epoch 236/250\n",
            "184/184 [==============================] - 0s 2ms/step - loss: 0.3487 - acc: 0.9143 - val_loss: 0.3592 - val_acc: 0.9073\n",
            "Epoch 237/250\n",
            "184/184 [==============================] - 0s 2ms/step - loss: 0.3467 - acc: 0.9143 - val_loss: 0.3572 - val_acc: 0.9073\n",
            "Epoch 238/250\n",
            "184/184 [==============================] - 0s 2ms/step - loss: 0.3447 - acc: 0.9150 - val_loss: 0.3552 - val_acc: 0.9138\n",
            "Epoch 239/250\n",
            "184/184 [==============================] - 0s 2ms/step - loss: 0.3426 - acc: 0.9190 - val_loss: 0.3532 - val_acc: 0.9138\n",
            "Epoch 240/250\n",
            "184/184 [==============================] - 0s 2ms/step - loss: 0.3407 - acc: 0.9190 - val_loss: 0.3513 - val_acc: 0.9138\n",
            "Epoch 241/250\n",
            "184/184 [==============================] - 0s 2ms/step - loss: 0.3387 - acc: 0.9192 - val_loss: 0.3493 - val_acc: 0.9182\n",
            "Epoch 242/250\n",
            "184/184 [==============================] - 0s 2ms/step - loss: 0.3367 - acc: 0.9222 - val_loss: 0.3474 - val_acc: 0.9182\n",
            "Epoch 243/250\n",
            "184/184 [==============================] - 0s 2ms/step - loss: 0.3348 - acc: 0.9223 - val_loss: 0.3455 - val_acc: 0.9195\n",
            "Epoch 244/250\n",
            "184/184 [==============================] - 0s 2ms/step - loss: 0.3329 - acc: 0.9232 - val_loss: 0.3436 - val_acc: 0.9195\n",
            "Epoch 245/250\n",
            "184/184 [==============================] - 0s 2ms/step - loss: 0.3310 - acc: 0.9233 - val_loss: 0.3418 - val_acc: 0.9204\n",
            "Epoch 246/250\n",
            "184/184 [==============================] - 0s 2ms/step - loss: 0.3291 - acc: 0.9238 - val_loss: 0.3399 - val_acc: 0.9243\n",
            "Epoch 247/250\n",
            "184/184 [==============================] - 0s 2ms/step - loss: 0.3272 - acc: 0.9260 - val_loss: 0.3381 - val_acc: 0.9247\n",
            "Epoch 248/250\n",
            "184/184 [==============================] - 0s 2ms/step - loss: 0.3254 - acc: 0.9262 - val_loss: 0.3363 - val_acc: 0.9260\n",
            "Epoch 249/250\n",
            "184/184 [==============================] - 0s 2ms/step - loss: 0.3236 - acc: 0.9266 - val_loss: 0.3345 - val_acc: 0.9260\n",
            "Epoch 250/250\n",
            "184/184 [==============================] - 0s 2ms/step - loss: 0.3218 - acc: 0.9269 - val_loss: 0.3327 - val_acc: 0.9260\n",
            "<bound method Model.summary of <tensorflow.python.keras.engine.sequential.Sequential object at 0x7f731e62c240>>\n",
            "Test Accuracy:\n",
            "2068/2068 [==============================] - 3s 2ms/step - loss: 0.3469 - acc: 0.9185\n",
            "Random Sample Accuracy:\n",
            "30/30 [==============================] - 0s 2ms/step - loss: 0.8682 - acc: 0.7187\n"
          ],
          "name": "stdout"
        },
        {
          "output_type": "display_data",
          "data": {
            "image/png": "[encoded data removed]",
            "text/plain": [
              "<Figure size 1080x432 with 2 Axes>"
            ]
          },
          "metadata": {
            "tags": [],
            "needs_background": "light"
          }
        }
      ]
    },
    {
      "cell_type": "code",
      "metadata": {
        "id": "H843Nzhp68kH"
      },
      "source": [
        "model5_params = {'activation 1': 'relu', \n",
        "                 'activation 2': 'relu', \n",
        "                 'activation 3': 'softmax', \n",
        "                 'opt': tf.keras.optimizers.SGD(learning_rate=0.001),\n",
        "                 'loss': 'categorical_crossentropy',\n",
        "                 'epochs': 270, \n",
        "                 'batch_size': 40, \n",
        "                 }"
      ],
      "execution_count": 65,
      "outputs": []
    },
    {
      "cell_type": "code",
      "metadata": {
        "colab": {
          "base_uri": "https://localhost:8080/",
          "height": 1000
        },
        "id": "zx-thXl37FTR",
        "outputId": "4050c8e0-1580-48d9-bf5b-f2a5a1fd84d8"
      },
      "source": [
        "model5_history, model5 = create_model(train, label_train, test, label_test, model5_params)"
      ],
      "execution_count": 66,
      "outputs": [
        {
          "output_type": "stream",
          "text": [
            "Epoch 1/270\n",
            "230/230 [==============================] - 1s 3ms/step - loss: 2.5951 - acc: 0.3791 - val_loss: 2.5421 - val_acc: 0.5361\n",
            "Epoch 2/270\n",
            "230/230 [==============================] - 0s 2ms/step - loss: 2.4930 - acc: 0.5280 - val_loss: 2.4467 - val_acc: 0.5231\n",
            "Epoch 3/270\n",
            "230/230 [==============================] - 0s 2ms/step - loss: 2.3953 - acc: 0.5258 - val_loss: 2.3465 - val_acc: 0.5231\n",
            "Epoch 4/270\n",
            "230/230 [==============================] - 0s 2ms/step - loss: 2.2912 - acc: 0.5258 - val_loss: 2.2406 - val_acc: 0.5231\n",
            "Epoch 5/270\n",
            "230/230 [==============================] - 0s 2ms/step - loss: 2.1812 - acc: 0.5258 - val_loss: 2.1292 - val_acc: 0.5231\n",
            "Epoch 6/270\n",
            "230/230 [==============================] - 1s 2ms/step - loss: 2.0671 - acc: 0.5258 - val_loss: 2.0151 - val_acc: 0.5231\n",
            "Epoch 7/270\n",
            "230/230 [==============================] - 0s 2ms/step - loss: 1.9516 - acc: 0.5258 - val_loss: 1.9034 - val_acc: 0.5231\n",
            "Epoch 8/270\n",
            "230/230 [==============================] - 1s 2ms/step - loss: 1.8457 - acc: 0.5258 - val_loss: 1.8077 - val_acc: 0.5231\n",
            "Epoch 9/270\n",
            "230/230 [==============================] - 0s 2ms/step - loss: 1.7604 - acc: 0.5258 - val_loss: 1.7356 - val_acc: 0.5231\n",
            "Epoch 10/270\n",
            "230/230 [==============================] - 1s 2ms/step - loss: 1.6992 - acc: 0.5258 - val_loss: 1.6863 - val_acc: 0.5231\n",
            "Epoch 11/270\n",
            "230/230 [==============================] - 1s 2ms/step - loss: 1.6577 - acc: 0.5258 - val_loss: 1.6526 - val_acc: 0.5231\n",
            "Epoch 12/270\n",
            "230/230 [==============================] - 1s 2ms/step - loss: 1.6283 - acc: 0.5258 - val_loss: 1.6270 - val_acc: 0.5231\n",
            "Epoch 13/270\n",
            "230/230 [==============================] - 0s 2ms/step - loss: 1.6050 - acc: 0.5258 - val_loss: 1.6057 - val_acc: 0.5231\n",
            "Epoch 14/270\n",
            "230/230 [==============================] - 1s 2ms/step - loss: 1.5850 - acc: 0.5258 - val_loss: 1.5868 - val_acc: 0.5231\n",
            "Epoch 15/270\n",
            "230/230 [==============================] - 1s 2ms/step - loss: 1.5668 - acc: 0.5258 - val_loss: 1.5693 - val_acc: 0.5231\n",
            "Epoch 16/270\n",
            "230/230 [==============================] - 1s 2ms/step - loss: 1.5500 - acc: 0.5258 - val_loss: 1.5527 - val_acc: 0.5231\n",
            "Epoch 17/270\n",
            "230/230 [==============================] - 1s 2ms/step - loss: 1.5339 - acc: 0.5258 - val_loss: 1.5369 - val_acc: 0.5231\n",
            "Epoch 18/270\n",
            "230/230 [==============================] - 0s 2ms/step - loss: 1.5188 - acc: 0.5258 - val_loss: 1.5220 - val_acc: 0.5231\n",
            "Epoch 19/270\n",
            "230/230 [==============================] - 0s 2ms/step - loss: 1.5042 - acc: 0.5258 - val_loss: 1.5076 - val_acc: 0.5231\n",
            "Epoch 20/270\n",
            "230/230 [==============================] - 0s 2ms/step - loss: 1.4903 - acc: 0.5258 - val_loss: 1.4938 - val_acc: 0.5231\n",
            "Epoch 21/270\n",
            "230/230 [==============================] - 0s 2ms/step - loss: 1.4767 - acc: 0.5258 - val_loss: 1.4804 - val_acc: 0.5231\n",
            "Epoch 22/270\n",
            "230/230 [==============================] - 1s 2ms/step - loss: 1.4635 - acc: 0.5258 - val_loss: 1.4673 - val_acc: 0.5231\n",
            "Epoch 23/270\n",
            "230/230 [==============================] - 0s 2ms/step - loss: 1.4507 - acc: 0.5258 - val_loss: 1.4546 - val_acc: 0.5231\n",
            "Epoch 24/270\n",
            "230/230 [==============================] - 0s 2ms/step - loss: 1.4383 - acc: 0.5258 - val_loss: 1.4423 - val_acc: 0.5231\n",
            "Epoch 25/270\n",
            "230/230 [==============================] - 0s 2ms/step - loss: 1.4263 - acc: 0.5258 - val_loss: 1.4304 - val_acc: 0.5231\n",
            "Epoch 26/270\n",
            "230/230 [==============================] - 0s 2ms/step - loss: 1.4146 - acc: 0.5258 - val_loss: 1.4187 - val_acc: 0.5231\n",
            "Epoch 27/270\n",
            "230/230 [==============================] - 0s 2ms/step - loss: 1.4031 - acc: 0.5258 - val_loss: 1.4072 - val_acc: 0.5231\n",
            "Epoch 28/270\n",
            "230/230 [==============================] - 1s 2ms/step - loss: 1.3919 - acc: 0.5258 - val_loss: 1.3959 - val_acc: 0.5231\n",
            "Epoch 29/270\n",
            "230/230 [==============================] - 1s 2ms/step - loss: 1.3807 - acc: 0.5258 - val_loss: 1.3846 - val_acc: 0.5231\n",
            "Epoch 30/270\n",
            "230/230 [==============================] - 1s 2ms/step - loss: 1.3695 - acc: 0.5258 - val_loss: 1.3734 - val_acc: 0.5231\n",
            "Epoch 31/270\n",
            "230/230 [==============================] - 0s 2ms/step - loss: 1.3586 - acc: 0.5258 - val_loss: 1.3624 - val_acc: 0.5231\n",
            "Epoch 32/270\n",
            "230/230 [==============================] - 1s 2ms/step - loss: 1.3478 - acc: 0.5258 - val_loss: 1.3515 - val_acc: 0.5231\n",
            "Epoch 33/270\n",
            "230/230 [==============================] - 0s 2ms/step - loss: 1.3371 - acc: 0.5258 - val_loss: 1.3406 - val_acc: 0.5231\n",
            "Epoch 34/270\n",
            "230/230 [==============================] - 1s 2ms/step - loss: 1.3263 - acc: 0.5258 - val_loss: 1.3297 - val_acc: 0.5231\n",
            "Epoch 35/270\n",
            "230/230 [==============================] - 0s 2ms/step - loss: 1.3155 - acc: 0.5258 - val_loss: 1.3188 - val_acc: 0.5231\n",
            "Epoch 36/270\n",
            "230/230 [==============================] - 1s 2ms/step - loss: 1.3048 - acc: 0.5258 - val_loss: 1.3079 - val_acc: 0.5231\n",
            "Epoch 37/270\n",
            "230/230 [==============================] - 0s 2ms/step - loss: 1.2941 - acc: 0.5257 - val_loss: 1.2970 - val_acc: 0.5226\n",
            "Epoch 38/270\n",
            "230/230 [==============================] - 0s 2ms/step - loss: 1.2834 - acc: 0.5256 - val_loss: 1.2862 - val_acc: 0.5226\n",
            "Epoch 39/270\n",
            "230/230 [==============================] - 0s 2ms/step - loss: 1.2728 - acc: 0.5418 - val_loss: 1.2755 - val_acc: 0.5413\n",
            "Epoch 40/270\n",
            "230/230 [==============================] - 1s 2ms/step - loss: 1.2624 - acc: 0.5479 - val_loss: 1.2650 - val_acc: 0.5413\n",
            "Epoch 41/270\n",
            "230/230 [==============================] - 0s 2ms/step - loss: 1.2520 - acc: 0.5479 - val_loss: 1.2545 - val_acc: 0.5413\n",
            "Epoch 42/270\n",
            "230/230 [==============================] - 1s 2ms/step - loss: 1.2418 - acc: 0.5481 - val_loss: 1.2441 - val_acc: 0.5413\n",
            "Epoch 43/270\n",
            "230/230 [==============================] - 1s 2ms/step - loss: 1.2316 - acc: 0.5479 - val_loss: 1.2338 - val_acc: 0.5413\n",
            "Epoch 44/270\n",
            "230/230 [==============================] - 0s 2ms/step - loss: 1.2216 - acc: 0.5479 - val_loss: 1.2236 - val_acc: 0.5413\n",
            "Epoch 45/270\n",
            "230/230 [==============================] - 1s 2ms/step - loss: 1.2116 - acc: 0.5479 - val_loss: 1.2135 - val_acc: 0.5413\n",
            "Epoch 46/270\n",
            "230/230 [==============================] - 1s 2ms/step - loss: 1.2017 - acc: 0.5479 - val_loss: 1.2035 - val_acc: 0.5413\n",
            "Epoch 47/270\n",
            "230/230 [==============================] - 1s 2ms/step - loss: 1.1920 - acc: 0.5473 - val_loss: 1.1935 - val_acc: 0.5396\n",
            "Epoch 48/270\n",
            "230/230 [==============================] - 1s 2ms/step - loss: 1.1823 - acc: 0.5506 - val_loss: 1.1837 - val_acc: 0.5509\n",
            "Epoch 49/270\n",
            "230/230 [==============================] - 1s 2ms/step - loss: 1.1727 - acc: 0.5611 - val_loss: 1.1740 - val_acc: 0.5557\n",
            "Epoch 50/270\n",
            "230/230 [==============================] - 1s 2ms/step - loss: 1.1633 - acc: 0.5771 - val_loss: 1.1644 - val_acc: 0.5740\n",
            "Epoch 51/270\n",
            "230/230 [==============================] - 1s 2ms/step - loss: 1.1539 - acc: 0.5803 - val_loss: 1.1549 - val_acc: 0.5775\n",
            "Epoch 52/270\n",
            "230/230 [==============================] - 1s 2ms/step - loss: 1.1446 - acc: 0.5867 - val_loss: 1.1455 - val_acc: 0.5827\n",
            "Epoch 53/270\n",
            "230/230 [==============================] - 0s 2ms/step - loss: 1.1355 - acc: 0.5951 - val_loss: 1.1362 - val_acc: 0.5970\n",
            "Epoch 54/270\n",
            "230/230 [==============================] - 1s 2ms/step - loss: 1.1265 - acc: 0.6069 - val_loss: 1.1270 - val_acc: 0.6049\n",
            "Epoch 55/270\n",
            "230/230 [==============================] - 1s 2ms/step - loss: 1.1175 - acc: 0.6107 - val_loss: 1.1180 - val_acc: 0.6053\n",
            "Epoch 56/270\n",
            "230/230 [==============================] - 1s 2ms/step - loss: 1.1087 - acc: 0.6173 - val_loss: 1.1091 - val_acc: 0.6110\n",
            "Epoch 57/270\n",
            "230/230 [==============================] - 1s 2ms/step - loss: 1.1000 - acc: 0.6251 - val_loss: 1.1002 - val_acc: 0.6210\n",
            "Epoch 58/270\n",
            "230/230 [==============================] - 0s 2ms/step - loss: 1.0914 - acc: 0.6292 - val_loss: 1.0915 - val_acc: 0.6340\n",
            "Epoch 59/270\n",
            "230/230 [==============================] - 1s 2ms/step - loss: 1.0830 - acc: 0.6550 - val_loss: 1.0830 - val_acc: 0.6497\n",
            "Epoch 60/270\n",
            "230/230 [==============================] - 0s 2ms/step - loss: 1.0746 - acc: 0.6575 - val_loss: 1.0745 - val_acc: 0.6593\n",
            "Epoch 61/270\n",
            "230/230 [==============================] - 1s 2ms/step - loss: 1.0664 - acc: 0.6636 - val_loss: 1.0662 - val_acc: 0.6628\n",
            "Epoch 62/270\n",
            "230/230 [==============================] - 0s 2ms/step - loss: 1.0583 - acc: 0.6660 - val_loss: 1.0580 - val_acc: 0.6658\n",
            "Epoch 63/270\n",
            "230/230 [==============================] - 0s 2ms/step - loss: 1.0503 - acc: 0.6768 - val_loss: 1.0498 - val_acc: 0.6980\n",
            "Epoch 64/270\n",
            "230/230 [==============================] - 1s 2ms/step - loss: 1.0423 - acc: 0.6976 - val_loss: 1.0418 - val_acc: 0.7015\n",
            "Epoch 65/270\n",
            "230/230 [==============================] - 0s 2ms/step - loss: 1.0346 - acc: 0.6993 - val_loss: 1.0341 - val_acc: 0.7023\n",
            "Epoch 66/270\n",
            "230/230 [==============================] - 1s 2ms/step - loss: 1.0270 - acc: 0.7059 - val_loss: 1.0264 - val_acc: 0.7111\n",
            "Epoch 67/270\n",
            "230/230 [==============================] - 1s 2ms/step - loss: 1.0195 - acc: 0.7078 - val_loss: 1.0189 - val_acc: 0.7119\n",
            "Epoch 68/270\n",
            "230/230 [==============================] - 1s 2ms/step - loss: 1.0121 - acc: 0.7068 - val_loss: 1.0114 - val_acc: 0.7106\n",
            "Epoch 69/270\n",
            "230/230 [==============================] - 0s 2ms/step - loss: 1.0048 - acc: 0.7079 - val_loss: 1.0039 - val_acc: 0.7141\n",
            "Epoch 70/270\n",
            "230/230 [==============================] - 0s 2ms/step - loss: 0.9975 - acc: 0.7108 - val_loss: 0.9966 - val_acc: 0.7132\n",
            "Epoch 71/270\n",
            "230/230 [==============================] - 1s 2ms/step - loss: 0.9903 - acc: 0.7109 - val_loss: 0.9893 - val_acc: 0.7132\n",
            "Epoch 72/270\n",
            "230/230 [==============================] - 0s 2ms/step - loss: 0.9831 - acc: 0.7119 - val_loss: 0.9821 - val_acc: 0.7163\n",
            "Epoch 73/270\n",
            "230/230 [==============================] - 0s 2ms/step - loss: 0.9761 - acc: 0.7117 - val_loss: 0.9751 - val_acc: 0.7145\n",
            "Epoch 74/270\n",
            "230/230 [==============================] - 1s 2ms/step - loss: 0.9691 - acc: 0.7118 - val_loss: 0.9681 - val_acc: 0.7150\n",
            "Epoch 75/270\n",
            "230/230 [==============================] - 1s 2ms/step - loss: 0.9622 - acc: 0.7118 - val_loss: 0.9611 - val_acc: 0.7150\n",
            "Epoch 76/270\n",
            "230/230 [==============================] - 1s 2ms/step - loss: 0.9554 - acc: 0.7118 - val_loss: 0.9542 - val_acc: 0.7150\n",
            "Epoch 77/270\n",
            "230/230 [==============================] - 1s 2ms/step - loss: 0.9486 - acc: 0.7116 - val_loss: 0.9474 - val_acc: 0.7150\n",
            "Epoch 78/270\n",
            "230/230 [==============================] - 0s 2ms/step - loss: 0.9419 - acc: 0.7131 - val_loss: 0.9406 - val_acc: 0.7180\n",
            "Epoch 79/270\n",
            "230/230 [==============================] - 0s 2ms/step - loss: 0.9352 - acc: 0.7183 - val_loss: 0.9339 - val_acc: 0.7241\n",
            "Epoch 80/270\n",
            "230/230 [==============================] - 0s 2ms/step - loss: 0.9286 - acc: 0.7254 - val_loss: 0.9272 - val_acc: 0.7350\n",
            "Epoch 81/270\n",
            "230/230 [==============================] - 1s 2ms/step - loss: 0.9220 - acc: 0.7291 - val_loss: 0.9206 - val_acc: 0.7359\n",
            "Epoch 82/270\n",
            "230/230 [==============================] - 0s 2ms/step - loss: 0.9155 - acc: 0.7325 - val_loss: 0.9140 - val_acc: 0.7411\n",
            "Epoch 83/270\n",
            "230/230 [==============================] - 0s 2ms/step - loss: 0.9091 - acc: 0.7357 - val_loss: 0.9076 - val_acc: 0.7411\n",
            "Epoch 84/270\n",
            "230/230 [==============================] - 1s 2ms/step - loss: 0.9027 - acc: 0.7357 - val_loss: 0.9011 - val_acc: 0.7411\n",
            "Epoch 85/270\n",
            "230/230 [==============================] - 0s 2ms/step - loss: 0.8963 - acc: 0.7357 - val_loss: 0.8947 - val_acc: 0.7411\n",
            "Epoch 86/270\n",
            "230/230 [==============================] - 0s 2ms/step - loss: 0.8899 - acc: 0.7356 - val_loss: 0.8883 - val_acc: 0.7411\n",
            "Epoch 87/270\n",
            "230/230 [==============================] - 1s 2ms/step - loss: 0.8836 - acc: 0.7359 - val_loss: 0.8820 - val_acc: 0.7433\n",
            "Epoch 88/270\n",
            "230/230 [==============================] - 1s 2ms/step - loss: 0.8773 - acc: 0.7378 - val_loss: 0.8756 - val_acc: 0.7437\n",
            "Epoch 89/270\n",
            "230/230 [==============================] - 0s 2ms/step - loss: 0.8710 - acc: 0.7379 - val_loss: 0.8693 - val_acc: 0.7437\n",
            "Epoch 90/270\n",
            "230/230 [==============================] - 0s 2ms/step - loss: 0.8647 - acc: 0.7399 - val_loss: 0.8630 - val_acc: 0.7480\n",
            "Epoch 91/270\n",
            "230/230 [==============================] - 1s 2ms/step - loss: 0.8585 - acc: 0.7431 - val_loss: 0.8568 - val_acc: 0.7498\n",
            "Epoch 92/270\n",
            "230/230 [==============================] - 0s 2ms/step - loss: 0.8522 - acc: 0.7439 - val_loss: 0.8505 - val_acc: 0.7502\n",
            "Epoch 93/270\n",
            "230/230 [==============================] - 1s 2ms/step - loss: 0.8460 - acc: 0.7443 - val_loss: 0.8443 - val_acc: 0.7502\n",
            "Epoch 94/270\n",
            "230/230 [==============================] - 0s 2ms/step - loss: 0.8398 - acc: 0.7448 - val_loss: 0.8381 - val_acc: 0.7511\n",
            "Epoch 95/270\n",
            "230/230 [==============================] - 1s 2ms/step - loss: 0.8336 - acc: 0.7463 - val_loss: 0.8319 - val_acc: 0.7537\n",
            "Epoch 96/270\n",
            "230/230 [==============================] - 1s 2ms/step - loss: 0.8275 - acc: 0.7497 - val_loss: 0.8258 - val_acc: 0.7537\n",
            "Epoch 97/270\n",
            "230/230 [==============================] - 1s 2ms/step - loss: 0.8214 - acc: 0.7498 - val_loss: 0.8197 - val_acc: 0.7537\n",
            "Epoch 98/270\n",
            "230/230 [==============================] - 1s 2ms/step - loss: 0.8153 - acc: 0.7498 - val_loss: 0.8136 - val_acc: 0.7537\n",
            "Epoch 99/270\n",
            "230/230 [==============================] - 1s 2ms/step - loss: 0.8092 - acc: 0.7498 - val_loss: 0.8076 - val_acc: 0.7537\n",
            "Epoch 100/270\n",
            "230/230 [==============================] - 1s 2ms/step - loss: 0.8031 - acc: 0.7511 - val_loss: 0.8016 - val_acc: 0.7581\n",
            "Epoch 101/270\n",
            "230/230 [==============================] - 1s 2ms/step - loss: 0.7971 - acc: 0.7536 - val_loss: 0.7956 - val_acc: 0.7581\n",
            "Epoch 102/270\n",
            "230/230 [==============================] - 1s 2ms/step - loss: 0.7911 - acc: 0.7536 - val_loss: 0.7896 - val_acc: 0.7581\n",
            "Epoch 103/270\n",
            "230/230 [==============================] - 1s 2ms/step - loss: 0.7851 - acc: 0.7536 - val_loss: 0.7837 - val_acc: 0.7581\n",
            "Epoch 104/270\n",
            "230/230 [==============================] - 1s 2ms/step - loss: 0.7792 - acc: 0.7538 - val_loss: 0.7778 - val_acc: 0.7581\n",
            "Epoch 105/270\n",
            "230/230 [==============================] - 1s 2ms/step - loss: 0.7732 - acc: 0.7540 - val_loss: 0.7719 - val_acc: 0.7607\n",
            "Epoch 106/270\n",
            "230/230 [==============================] - 1s 2ms/step - loss: 0.7673 - acc: 0.7591 - val_loss: 0.7661 - val_acc: 0.7628\n",
            "Epoch 107/270\n",
            "230/230 [==============================] - 1s 2ms/step - loss: 0.7614 - acc: 0.7657 - val_loss: 0.7602 - val_acc: 0.7685\n",
            "Epoch 108/270\n",
            "230/230 [==============================] - 1s 2ms/step - loss: 0.7555 - acc: 0.7683 - val_loss: 0.7544 - val_acc: 0.7685\n",
            "Epoch 109/270\n",
            "230/230 [==============================] - 1s 2ms/step - loss: 0.7497 - acc: 0.7709 - val_loss: 0.7487 - val_acc: 0.7715\n",
            "Epoch 110/270\n",
            "230/230 [==============================] - 1s 2ms/step - loss: 0.7439 - acc: 0.7791 - val_loss: 0.7429 - val_acc: 0.7794\n",
            "Epoch 111/270\n",
            "230/230 [==============================] - 1s 2ms/step - loss: 0.7381 - acc: 0.7831 - val_loss: 0.7373 - val_acc: 0.7924\n",
            "Epoch 112/270\n",
            "230/230 [==============================] - 1s 2ms/step - loss: 0.7323 - acc: 0.7929 - val_loss: 0.7316 - val_acc: 0.7950\n",
            "Epoch 113/270\n",
            "230/230 [==============================] - 1s 2ms/step - loss: 0.7266 - acc: 0.7998 - val_loss: 0.7260 - val_acc: 0.8042\n",
            "Epoch 114/270\n",
            "230/230 [==============================] - 1s 2ms/step - loss: 0.7209 - acc: 0.8014 - val_loss: 0.7204 - val_acc: 0.8042\n",
            "Epoch 115/270\n",
            "230/230 [==============================] - 1s 2ms/step - loss: 0.7153 - acc: 0.8032 - val_loss: 0.7149 - val_acc: 0.8116\n",
            "Epoch 116/270\n",
            "230/230 [==============================] - 0s 2ms/step - loss: 0.7097 - acc: 0.8068 - val_loss: 0.7094 - val_acc: 0.8116\n",
            "Epoch 117/270\n",
            "230/230 [==============================] - 0s 2ms/step - loss: 0.7041 - acc: 0.8099 - val_loss: 0.7039 - val_acc: 0.8194\n",
            "Epoch 118/270\n",
            "230/230 [==============================] - 1s 2ms/step - loss: 0.6985 - acc: 0.8178 - val_loss: 0.6985 - val_acc: 0.8194\n",
            "Epoch 119/270\n",
            "230/230 [==============================] - 1s 2ms/step - loss: 0.6930 - acc: 0.8178 - val_loss: 0.6931 - val_acc: 0.8203\n",
            "Epoch 120/270\n",
            "230/230 [==============================] - 1s 2ms/step - loss: 0.6875 - acc: 0.8178 - val_loss: 0.6877 - val_acc: 0.8203\n",
            "Epoch 121/270\n",
            "230/230 [==============================] - 1s 2ms/step - loss: 0.6820 - acc: 0.8181 - val_loss: 0.6824 - val_acc: 0.8312\n",
            "Epoch 122/270\n",
            "230/230 [==============================] - 1s 2ms/step - loss: 0.6766 - acc: 0.8263 - val_loss: 0.6771 - val_acc: 0.8312\n",
            "Epoch 123/270\n",
            "230/230 [==============================] - 1s 2ms/step - loss: 0.6712 - acc: 0.8277 - val_loss: 0.6719 - val_acc: 0.8329\n",
            "Epoch 124/270\n",
            "230/230 [==============================] - 1s 2ms/step - loss: 0.6659 - acc: 0.8277 - val_loss: 0.6667 - val_acc: 0.8329\n",
            "Epoch 125/270\n",
            "230/230 [==============================] - 1s 2ms/step - loss: 0.6605 - acc: 0.8288 - val_loss: 0.6615 - val_acc: 0.8338\n",
            "Epoch 126/270\n",
            "230/230 [==============================] - 1s 2ms/step - loss: 0.6553 - acc: 0.8297 - val_loss: 0.6564 - val_acc: 0.8342\n",
            "Epoch 127/270\n",
            "230/230 [==============================] - 1s 2ms/step - loss: 0.6500 - acc: 0.8323 - val_loss: 0.6513 - val_acc: 0.8346\n",
            "Epoch 128/270\n",
            "230/230 [==============================] - 1s 2ms/step - loss: 0.6448 - acc: 0.8333 - val_loss: 0.6463 - val_acc: 0.8381\n",
            "Epoch 129/270\n",
            "230/230 [==============================] - 1s 2ms/step - loss: 0.6397 - acc: 0.8348 - val_loss: 0.6413 - val_acc: 0.8394\n",
            "Epoch 130/270\n",
            "230/230 [==============================] - 1s 2ms/step - loss: 0.6345 - acc: 0.8359 - val_loss: 0.6363 - val_acc: 0.8394\n",
            "Epoch 131/270\n",
            "230/230 [==============================] - 1s 2ms/step - loss: 0.6294 - acc: 0.8399 - val_loss: 0.6314 - val_acc: 0.8455\n",
            "Epoch 132/270\n",
            "230/230 [==============================] - 0s 2ms/step - loss: 0.6244 - acc: 0.8425 - val_loss: 0.6265 - val_acc: 0.8455\n",
            "Epoch 133/270\n",
            "230/230 [==============================] - 1s 2ms/step - loss: 0.6194 - acc: 0.8432 - val_loss: 0.6217 - val_acc: 0.8455\n",
            "Epoch 134/270\n",
            "230/230 [==============================] - 1s 2ms/step - loss: 0.6144 - acc: 0.8451 - val_loss: 0.6169 - val_acc: 0.8468\n",
            "Epoch 135/270\n",
            "230/230 [==============================] - 1s 2ms/step - loss: 0.6094 - acc: 0.8458 - val_loss: 0.6121 - val_acc: 0.8473\n",
            "Epoch 136/270\n",
            "230/230 [==============================] - 0s 2ms/step - loss: 0.6045 - acc: 0.8471 - val_loss: 0.6074 - val_acc: 0.8473\n",
            "Epoch 137/270\n",
            "230/230 [==============================] - 1s 2ms/step - loss: 0.5996 - acc: 0.8472 - val_loss: 0.6027 - val_acc: 0.8486\n",
            "Epoch 138/270\n",
            "230/230 [==============================] - 0s 2ms/step - loss: 0.5948 - acc: 0.8499 - val_loss: 0.5980 - val_acc: 0.8516\n",
            "Epoch 139/270\n",
            "230/230 [==============================] - 1s 2ms/step - loss: 0.5900 - acc: 0.8514 - val_loss: 0.5934 - val_acc: 0.8551\n",
            "Epoch 140/270\n",
            "230/230 [==============================] - 1s 2ms/step - loss: 0.5853 - acc: 0.8529 - val_loss: 0.5889 - val_acc: 0.8573\n",
            "Epoch 141/270\n",
            "230/230 [==============================] - 1s 2ms/step - loss: 0.5806 - acc: 0.8552 - val_loss: 0.5843 - val_acc: 0.8599\n",
            "Epoch 142/270\n",
            "230/230 [==============================] - 1s 2ms/step - loss: 0.5759 - acc: 0.8575 - val_loss: 0.5798 - val_acc: 0.8599\n",
            "Epoch 143/270\n",
            "230/230 [==============================] - 1s 2ms/step - loss: 0.5713 - acc: 0.8575 - val_loss: 0.5753 - val_acc: 0.8599\n",
            "Epoch 144/270\n",
            "230/230 [==============================] - 0s 2ms/step - loss: 0.5666 - acc: 0.8577 - val_loss: 0.5709 - val_acc: 0.8599\n",
            "Epoch 145/270\n",
            "230/230 [==============================] - 1s 2ms/step - loss: 0.5621 - acc: 0.8594 - val_loss: 0.5665 - val_acc: 0.8647\n",
            "Epoch 146/270\n",
            "230/230 [==============================] - 1s 2ms/step - loss: 0.5575 - acc: 0.8660 - val_loss: 0.5621 - val_acc: 0.8651\n",
            "Epoch 147/270\n",
            "230/230 [==============================] - 1s 2ms/step - loss: 0.5531 - acc: 0.8669 - val_loss: 0.5578 - val_acc: 0.8651\n",
            "Epoch 148/270\n",
            "230/230 [==============================] - 1s 2ms/step - loss: 0.5486 - acc: 0.8684 - val_loss: 0.5535 - val_acc: 0.8655\n",
            "Epoch 149/270\n",
            "230/230 [==============================] - 1s 2ms/step - loss: 0.5442 - acc: 0.8686 - val_loss: 0.5493 - val_acc: 0.8738\n",
            "Epoch 150/270\n",
            "230/230 [==============================] - 1s 2ms/step - loss: 0.5398 - acc: 0.8749 - val_loss: 0.5451 - val_acc: 0.8751\n",
            "Epoch 151/270\n",
            "230/230 [==============================] - 0s 2ms/step - loss: 0.5355 - acc: 0.8761 - val_loss: 0.5409 - val_acc: 0.8755\n",
            "Epoch 152/270\n",
            "230/230 [==============================] - 1s 2ms/step - loss: 0.5312 - acc: 0.8763 - val_loss: 0.5367 - val_acc: 0.8755\n",
            "Epoch 153/270\n",
            "230/230 [==============================] - 1s 2ms/step - loss: 0.5270 - acc: 0.8790 - val_loss: 0.5326 - val_acc: 0.8773\n",
            "Epoch 154/270\n",
            "230/230 [==============================] - 1s 2ms/step - loss: 0.5227 - acc: 0.8820 - val_loss: 0.5285 - val_acc: 0.8782\n",
            "Epoch 155/270\n",
            "230/230 [==============================] - 1s 2ms/step - loss: 0.5186 - acc: 0.8821 - val_loss: 0.5245 - val_acc: 0.8782\n",
            "Epoch 156/270\n",
            "230/230 [==============================] - 1s 2ms/step - loss: 0.5144 - acc: 0.8822 - val_loss: 0.5205 - val_acc: 0.8786\n",
            "Epoch 157/270\n",
            "230/230 [==============================] - 1s 2ms/step - loss: 0.5103 - acc: 0.8831 - val_loss: 0.5166 - val_acc: 0.8829\n",
            "Epoch 158/270\n",
            "230/230 [==============================] - 1s 2ms/step - loss: 0.5062 - acc: 0.8882 - val_loss: 0.5126 - val_acc: 0.8847\n",
            "Epoch 159/270\n",
            "230/230 [==============================] - 1s 2ms/step - loss: 0.5022 - acc: 0.8887 - val_loss: 0.5087 - val_acc: 0.8851\n",
            "Epoch 160/270\n",
            "230/230 [==============================] - 1s 2ms/step - loss: 0.4982 - acc: 0.8888 - val_loss: 0.5048 - val_acc: 0.8851\n",
            "Epoch 161/270\n",
            "230/230 [==============================] - 1s 2ms/step - loss: 0.4942 - acc: 0.8892 - val_loss: 0.5010 - val_acc: 0.8851\n",
            "Epoch 162/270\n",
            "230/230 [==============================] - 0s 2ms/step - loss: 0.4903 - acc: 0.8916 - val_loss: 0.4972 - val_acc: 0.8886\n",
            "Epoch 163/270\n",
            "230/230 [==============================] - 1s 2ms/step - loss: 0.4864 - acc: 0.8928 - val_loss: 0.4935 - val_acc: 0.8903\n",
            "Epoch 164/270\n",
            "230/230 [==============================] - 1s 2ms/step - loss: 0.4826 - acc: 0.8932 - val_loss: 0.4897 - val_acc: 0.8903\n",
            "Epoch 165/270\n",
            "230/230 [==============================] - 0s 2ms/step - loss: 0.4787 - acc: 0.8940 - val_loss: 0.4861 - val_acc: 0.8908\n",
            "Epoch 166/270\n",
            "230/230 [==============================] - 0s 2ms/step - loss: 0.4750 - acc: 0.8950 - val_loss: 0.4825 - val_acc: 0.8908\n",
            "Epoch 167/270\n",
            "230/230 [==============================] - 0s 2ms/step - loss: 0.4712 - acc: 0.8953 - val_loss: 0.4788 - val_acc: 0.8908\n",
            "Epoch 168/270\n",
            "230/230 [==============================] - 1s 2ms/step - loss: 0.4675 - acc: 0.8961 - val_loss: 0.4752 - val_acc: 0.8912\n",
            "Epoch 169/270\n",
            "230/230 [==============================] - 1s 2ms/step - loss: 0.4639 - acc: 0.8964 - val_loss: 0.4717 - val_acc: 0.8912\n",
            "Epoch 170/270\n",
            "230/230 [==============================] - 1s 2ms/step - loss: 0.4602 - acc: 0.8970 - val_loss: 0.4682 - val_acc: 0.8912\n",
            "Epoch 171/270\n",
            "230/230 [==============================] - 1s 2ms/step - loss: 0.4566 - acc: 0.8978 - val_loss: 0.4647 - val_acc: 0.8969\n",
            "Epoch 172/270\n",
            "230/230 [==============================] - 1s 2ms/step - loss: 0.4531 - acc: 0.9034 - val_loss: 0.4613 - val_acc: 0.8977\n",
            "Epoch 173/270\n",
            "230/230 [==============================] - 1s 2ms/step - loss: 0.4496 - acc: 0.9041 - val_loss: 0.4579 - val_acc: 0.8977\n",
            "Epoch 174/270\n",
            "230/230 [==============================] - 1s 2ms/step - loss: 0.4461 - acc: 0.9040 - val_loss: 0.4545 - val_acc: 0.8986\n",
            "Epoch 175/270\n",
            "230/230 [==============================] - 0s 2ms/step - loss: 0.4427 - acc: 0.9049 - val_loss: 0.4512 - val_acc: 0.8986\n",
            "Epoch 176/270\n",
            "230/230 [==============================] - 1s 2ms/step - loss: 0.4393 - acc: 0.9052 - val_loss: 0.4479 - val_acc: 0.8986\n",
            "Epoch 177/270\n",
            "230/230 [==============================] - 1s 2ms/step - loss: 0.4359 - acc: 0.9054 - val_loss: 0.4447 - val_acc: 0.8999\n",
            "Epoch 178/270\n",
            "230/230 [==============================] - 1s 2ms/step - loss: 0.4326 - acc: 0.9074 - val_loss: 0.4414 - val_acc: 0.9008\n",
            "Epoch 179/270\n",
            "230/230 [==============================] - 0s 2ms/step - loss: 0.4293 - acc: 0.9075 - val_loss: 0.4383 - val_acc: 0.9008\n",
            "Epoch 180/270\n",
            "230/230 [==============================] - 1s 2ms/step - loss: 0.4260 - acc: 0.9077 - val_loss: 0.4351 - val_acc: 0.9008\n",
            "Epoch 181/270\n",
            "230/230 [==============================] - 0s 2ms/step - loss: 0.4228 - acc: 0.9077 - val_loss: 0.4320 - val_acc: 0.9012\n",
            "Epoch 182/270\n",
            "230/230 [==============================] - 1s 2ms/step - loss: 0.4196 - acc: 0.9078 - val_loss: 0.4289 - val_acc: 0.9012\n",
            "Epoch 183/270\n",
            "230/230 [==============================] - 1s 2ms/step - loss: 0.4165 - acc: 0.9088 - val_loss: 0.4259 - val_acc: 0.9017\n",
            "Epoch 184/270\n",
            "230/230 [==============================] - 1s 2ms/step - loss: 0.4134 - acc: 0.9089 - val_loss: 0.4228 - val_acc: 0.9017\n",
            "Epoch 185/270\n",
            "230/230 [==============================] - 0s 2ms/step - loss: 0.4103 - acc: 0.9091 - val_loss: 0.4198 - val_acc: 0.9030\n",
            "Epoch 186/270\n",
            "230/230 [==============================] - 1s 2ms/step - loss: 0.4072 - acc: 0.9093 - val_loss: 0.4168 - val_acc: 0.9030\n",
            "Epoch 187/270\n",
            "230/230 [==============================] - 1s 2ms/step - loss: 0.4042 - acc: 0.9094 - val_loss: 0.4139 - val_acc: 0.9030\n",
            "Epoch 188/270\n",
            "230/230 [==============================] - 1s 2ms/step - loss: 0.4013 - acc: 0.9120 - val_loss: 0.4111 - val_acc: 0.9064\n",
            "Epoch 189/270\n",
            "230/230 [==============================] - 0s 2ms/step - loss: 0.3983 - acc: 0.9136 - val_loss: 0.4082 - val_acc: 0.9064\n",
            "Epoch 190/270\n",
            "230/230 [==============================] - 1s 2ms/step - loss: 0.3954 - acc: 0.9150 - val_loss: 0.4053 - val_acc: 0.9099\n",
            "Epoch 191/270\n",
            "230/230 [==============================] - 1s 2ms/step - loss: 0.3925 - acc: 0.9154 - val_loss: 0.4025 - val_acc: 0.9099\n",
            "Epoch 192/270\n",
            "230/230 [==============================] - 0s 2ms/step - loss: 0.3896 - acc: 0.9163 - val_loss: 0.3997 - val_acc: 0.9117\n",
            "Epoch 193/270\n",
            "230/230 [==============================] - 1s 2ms/step - loss: 0.3868 - acc: 0.9174 - val_loss: 0.3970 - val_acc: 0.9117\n",
            "Epoch 194/270\n",
            "230/230 [==============================] - 1s 2ms/step - loss: 0.3840 - acc: 0.9176 - val_loss: 0.3943 - val_acc: 0.9117\n",
            "Epoch 195/270\n",
            "230/230 [==============================] - 0s 2ms/step - loss: 0.3813 - acc: 0.9183 - val_loss: 0.3916 - val_acc: 0.9121\n",
            "Epoch 196/270\n",
            "230/230 [==============================] - 0s 2ms/step - loss: 0.3785 - acc: 0.9184 - val_loss: 0.3889 - val_acc: 0.9121\n",
            "Epoch 197/270\n",
            "230/230 [==============================] - 1s 2ms/step - loss: 0.3758 - acc: 0.9184 - val_loss: 0.3863 - val_acc: 0.9121\n",
            "Epoch 198/270\n",
            "230/230 [==============================] - 1s 2ms/step - loss: 0.3732 - acc: 0.9195 - val_loss: 0.3837 - val_acc: 0.9125\n",
            "Epoch 199/270\n",
            "230/230 [==============================] - 1s 2ms/step - loss: 0.3705 - acc: 0.9197 - val_loss: 0.3811 - val_acc: 0.9134\n",
            "Epoch 200/270\n",
            "230/230 [==============================] - 1s 2ms/step - loss: 0.3679 - acc: 0.9202 - val_loss: 0.3786 - val_acc: 0.9134\n",
            "Epoch 201/270\n",
            "230/230 [==============================] - 1s 2ms/step - loss: 0.3653 - acc: 0.9201 - val_loss: 0.3761 - val_acc: 0.9134\n",
            "Epoch 202/270\n",
            "230/230 [==============================] - 1s 2ms/step - loss: 0.3628 - acc: 0.9213 - val_loss: 0.3736 - val_acc: 0.9186\n",
            "Epoch 203/270\n",
            "230/230 [==============================] - 1s 2ms/step - loss: 0.3603 - acc: 0.9242 - val_loss: 0.3711 - val_acc: 0.9195\n",
            "Epoch 204/270\n",
            "230/230 [==============================] - 0s 2ms/step - loss: 0.3578 - acc: 0.9248 - val_loss: 0.3687 - val_acc: 0.9204\n",
            "Epoch 205/270\n",
            "230/230 [==============================] - 1s 2ms/step - loss: 0.3553 - acc: 0.9262 - val_loss: 0.3663 - val_acc: 0.9234\n",
            "Epoch 206/270\n",
            "230/230 [==============================] - 1s 2ms/step - loss: 0.3529 - acc: 0.9277 - val_loss: 0.3640 - val_acc: 0.9247\n",
            "Epoch 207/270\n",
            "230/230 [==============================] - 1s 2ms/step - loss: 0.3505 - acc: 0.9285 - val_loss: 0.3616 - val_acc: 0.9256\n",
            "Epoch 208/270\n",
            "230/230 [==============================] - 0s 2ms/step - loss: 0.3481 - acc: 0.9297 - val_loss: 0.3593 - val_acc: 0.9256\n",
            "Epoch 209/270\n",
            "230/230 [==============================] - 1s 2ms/step - loss: 0.3458 - acc: 0.9303 - val_loss: 0.3570 - val_acc: 0.9330\n",
            "Epoch 210/270\n",
            "230/230 [==============================] - 1s 2ms/step - loss: 0.3434 - acc: 0.9369 - val_loss: 0.3547 - val_acc: 0.9330\n",
            "Epoch 211/270\n",
            "230/230 [==============================] - 1s 2ms/step - loss: 0.3412 - acc: 0.9372 - val_loss: 0.3525 - val_acc: 0.9330\n",
            "Epoch 212/270\n",
            "230/230 [==============================] - 1s 2ms/step - loss: 0.3389 - acc: 0.9372 - val_loss: 0.3503 - val_acc: 0.9334\n",
            "Epoch 213/270\n",
            "230/230 [==============================] - 1s 2ms/step - loss: 0.3366 - acc: 0.9376 - val_loss: 0.3481 - val_acc: 0.9334\n",
            "Epoch 214/270\n",
            "230/230 [==============================] - 0s 2ms/step - loss: 0.3344 - acc: 0.9382 - val_loss: 0.3459 - val_acc: 0.9343\n",
            "Epoch 215/270\n",
            "230/230 [==============================] - 1s 2ms/step - loss: 0.3322 - acc: 0.9389 - val_loss: 0.3437 - val_acc: 0.9343\n",
            "Epoch 216/270\n",
            "230/230 [==============================] - 0s 2ms/step - loss: 0.3301 - acc: 0.9389 - val_loss: 0.3416 - val_acc: 0.9343\n",
            "Epoch 217/270\n",
            "230/230 [==============================] - 1s 2ms/step - loss: 0.3279 - acc: 0.9389 - val_loss: 0.3395 - val_acc: 0.9343\n",
            "Epoch 218/270\n",
            "230/230 [==============================] - 0s 2ms/step - loss: 0.3258 - acc: 0.9389 - val_loss: 0.3374 - val_acc: 0.9343\n",
            "Epoch 219/270\n",
            "230/230 [==============================] - 1s 2ms/step - loss: 0.3237 - acc: 0.9389 - val_loss: 0.3354 - val_acc: 0.9356\n",
            "Epoch 220/270\n",
            "230/230 [==============================] - 0s 2ms/step - loss: 0.3216 - acc: 0.9395 - val_loss: 0.3333 - val_acc: 0.9373\n",
            "Epoch 221/270\n",
            "230/230 [==============================] - 1s 2ms/step - loss: 0.3196 - acc: 0.9407 - val_loss: 0.3313 - val_acc: 0.9373\n",
            "Epoch 222/270\n",
            "230/230 [==============================] - 1s 2ms/step - loss: 0.3175 - acc: 0.9408 - val_loss: 0.3293 - val_acc: 0.9373\n",
            "Epoch 223/270\n",
            "230/230 [==============================] - 1s 2ms/step - loss: 0.3155 - acc: 0.9412 - val_loss: 0.3273 - val_acc: 0.9386\n",
            "Epoch 224/270\n",
            "230/230 [==============================] - 1s 2ms/step - loss: 0.3135 - acc: 0.9425 - val_loss: 0.3254 - val_acc: 0.9404\n",
            "Epoch 225/270\n",
            "230/230 [==============================] - 0s 2ms/step - loss: 0.3116 - acc: 0.9426 - val_loss: 0.3235 - val_acc: 0.9404\n",
            "Epoch 226/270\n",
            "230/230 [==============================] - 1s 2ms/step - loss: 0.3096 - acc: 0.9432 - val_loss: 0.3215 - val_acc: 0.9404\n",
            "Epoch 227/270\n",
            "230/230 [==============================] - 0s 2ms/step - loss: 0.3077 - acc: 0.9434 - val_loss: 0.3197 - val_acc: 0.9413\n",
            "Epoch 228/270\n",
            "230/230 [==============================] - 1s 2ms/step - loss: 0.3058 - acc: 0.9439 - val_loss: 0.3178 - val_acc: 0.9413\n",
            "Epoch 229/270\n",
            "230/230 [==============================] - 0s 2ms/step - loss: 0.3039 - acc: 0.9439 - val_loss: 0.3159 - val_acc: 0.9413\n",
            "Epoch 230/270\n",
            "230/230 [==============================] - 0s 2ms/step - loss: 0.3021 - acc: 0.9439 - val_loss: 0.3141 - val_acc: 0.9413\n",
            "Epoch 231/270\n",
            "230/230 [==============================] - 1s 2ms/step - loss: 0.3002 - acc: 0.9442 - val_loss: 0.3123 - val_acc: 0.9413\n",
            "Epoch 232/270\n",
            "230/230 [==============================] - 1s 2ms/step - loss: 0.2984 - acc: 0.9441 - val_loss: 0.3105 - val_acc: 0.9426\n",
            "Epoch 233/270\n",
            "230/230 [==============================] - 0s 2ms/step - loss: 0.2966 - acc: 0.9443 - val_loss: 0.3087 - val_acc: 0.9426\n",
            "Epoch 234/270\n",
            "230/230 [==============================] - 1s 2ms/step - loss: 0.2948 - acc: 0.9447 - val_loss: 0.3070 - val_acc: 0.9426\n",
            "Epoch 235/270\n",
            "230/230 [==============================] - 1s 2ms/step - loss: 0.2931 - acc: 0.9448 - val_loss: 0.3052 - val_acc: 0.9426\n",
            "Epoch 236/270\n",
            "230/230 [==============================] - 0s 2ms/step - loss: 0.2913 - acc: 0.9450 - val_loss: 0.3035 - val_acc: 0.9426\n",
            "Epoch 237/270\n",
            "230/230 [==============================] - 0s 2ms/step - loss: 0.2896 - acc: 0.9449 - val_loss: 0.3018 - val_acc: 0.9426\n",
            "Epoch 238/270\n",
            "230/230 [==============================] - 1s 2ms/step - loss: 0.2879 - acc: 0.9449 - val_loss: 0.3001 - val_acc: 0.9426\n",
            "Epoch 239/270\n",
            "230/230 [==============================] - 1s 2ms/step - loss: 0.2862 - acc: 0.9450 - val_loss: 0.2985 - val_acc: 0.9426\n",
            "Epoch 240/270\n",
            "230/230 [==============================] - 1s 2ms/step - loss: 0.2845 - acc: 0.9449 - val_loss: 0.2968 - val_acc: 0.9426\n",
            "Epoch 241/270\n",
            "230/230 [==============================] - 1s 2ms/step - loss: 0.2829 - acc: 0.9450 - val_loss: 0.2952 - val_acc: 0.9426\n",
            "Epoch 242/270\n",
            "230/230 [==============================] - 1s 2ms/step - loss: 0.2812 - acc: 0.9459 - val_loss: 0.2936 - val_acc: 0.9430\n",
            "Epoch 243/270\n",
            "230/230 [==============================] - 1s 2ms/step - loss: 0.2796 - acc: 0.9459 - val_loss: 0.2920 - val_acc: 0.9430\n",
            "Epoch 244/270\n",
            "230/230 [==============================] - 0s 2ms/step - loss: 0.2780 - acc: 0.9461 - val_loss: 0.2904 - val_acc: 0.9430\n",
            "Epoch 245/270\n",
            "230/230 [==============================] - 1s 2ms/step - loss: 0.2764 - acc: 0.9461 - val_loss: 0.2888 - val_acc: 0.9430\n",
            "Epoch 246/270\n",
            "230/230 [==============================] - 1s 2ms/step - loss: 0.2749 - acc: 0.9460 - val_loss: 0.2873 - val_acc: 0.9430\n",
            "Epoch 247/270\n",
            "230/230 [==============================] - 1s 2ms/step - loss: 0.2733 - acc: 0.9461 - val_loss: 0.2858 - val_acc: 0.9430\n",
            "Epoch 248/270\n",
            "230/230 [==============================] - 0s 2ms/step - loss: 0.2718 - acc: 0.9462 - val_loss: 0.2843 - val_acc: 0.9434\n",
            "Epoch 249/270\n",
            "230/230 [==============================] - 1s 2ms/step - loss: 0.2703 - acc: 0.9463 - val_loss: 0.2827 - val_acc: 0.9434\n",
            "Epoch 250/270\n",
            "230/230 [==============================] - 1s 2ms/step - loss: 0.2688 - acc: 0.9470 - val_loss: 0.2812 - val_acc: 0.9434\n",
            "Epoch 251/270\n",
            "230/230 [==============================] - 1s 2ms/step - loss: 0.2673 - acc: 0.9471 - val_loss: 0.2798 - val_acc: 0.9434\n",
            "Epoch 252/270\n",
            "230/230 [==============================] - 1s 2ms/step - loss: 0.2658 - acc: 0.9483 - val_loss: 0.2783 - val_acc: 0.9443\n",
            "Epoch 253/270\n",
            "230/230 [==============================] - 1s 2ms/step - loss: 0.2643 - acc: 0.9504 - val_loss: 0.2769 - val_acc: 0.9456\n",
            "Epoch 254/270\n",
            "230/230 [==============================] - 1s 2ms/step - loss: 0.2629 - acc: 0.9507 - val_loss: 0.2755 - val_acc: 0.9456\n",
            "Epoch 255/270\n",
            "230/230 [==============================] - 1s 2ms/step - loss: 0.2615 - acc: 0.9507 - val_loss: 0.2741 - val_acc: 0.9460\n",
            "Epoch 256/270\n",
            "230/230 [==============================] - 1s 2ms/step - loss: 0.2601 - acc: 0.9507 - val_loss: 0.2727 - val_acc: 0.9460\n",
            "Epoch 257/270\n",
            "230/230 [==============================] - 1s 2ms/step - loss: 0.2587 - acc: 0.9507 - val_loss: 0.2713 - val_acc: 0.9460\n",
            "Epoch 258/270\n",
            "230/230 [==============================] - 1s 2ms/step - loss: 0.2573 - acc: 0.9507 - val_loss: 0.2699 - val_acc: 0.9460\n",
            "Epoch 259/270\n",
            "230/230 [==============================] - 1s 2ms/step - loss: 0.2559 - acc: 0.9512 - val_loss: 0.2686 - val_acc: 0.9460\n",
            "Epoch 260/270\n",
            "230/230 [==============================] - 1s 2ms/step - loss: 0.2545 - acc: 0.9513 - val_loss: 0.2672 - val_acc: 0.9460\n",
            "Epoch 261/270\n",
            "230/230 [==============================] - 1s 2ms/step - loss: 0.2532 - acc: 0.9513 - val_loss: 0.2659 - val_acc: 0.9460\n",
            "Epoch 262/270\n",
            "230/230 [==============================] - 1s 2ms/step - loss: 0.2519 - acc: 0.9513 - val_loss: 0.2646 - val_acc: 0.9465\n",
            "Epoch 263/270\n",
            "230/230 [==============================] - 1s 2ms/step - loss: 0.2505 - acc: 0.9517 - val_loss: 0.2632 - val_acc: 0.9473\n",
            "Epoch 264/270\n",
            "230/230 [==============================] - 1s 2ms/step - loss: 0.2492 - acc: 0.9522 - val_loss: 0.2620 - val_acc: 0.9473\n",
            "Epoch 265/270\n",
            "230/230 [==============================] - 1s 2ms/step - loss: 0.2479 - acc: 0.9523 - val_loss: 0.2607 - val_acc: 0.9473\n",
            "Epoch 266/270\n",
            "230/230 [==============================] - 1s 2ms/step - loss: 0.2467 - acc: 0.9523 - val_loss: 0.2594 - val_acc: 0.9473\n",
            "Epoch 267/270\n",
            "230/230 [==============================] - 1s 2ms/step - loss: 0.2454 - acc: 0.9522 - val_loss: 0.2581 - val_acc: 0.9473\n",
            "Epoch 268/270\n",
            "230/230 [==============================] - 1s 2ms/step - loss: 0.2441 - acc: 0.9525 - val_loss: 0.2569 - val_acc: 0.9482\n",
            "Epoch 269/270\n",
            "230/230 [==============================] - 1s 2ms/step - loss: 0.2429 - acc: 0.9525 - val_loss: 0.2557 - val_acc: 0.9482\n",
            "Epoch 270/270\n",
            "230/230 [==============================] - 1s 2ms/step - loss: 0.2416 - acc: 0.9530 - val_loss: 0.2544 - val_acc: 0.9487\n",
            "<bound method Model.summary of <tensorflow.python.keras.engine.sequential.Sequential object at 0x7f731e62ce48>>\n",
            "Test Accuracy:\n",
            "2585/2585 [==============================] - 4s 2ms/step - loss: 0.2659 - acc: 0.9445\n",
            "Random Sample Accuracy:\n",
            "38/38 [==============================] - 0s 2ms/step - loss: 0.9210 - acc: 0.6993\n"
          ],
          "name": "stdout"
        },
        {
          "output_type": "display_data",
          "data": {
            "image/png": "[encoded data removed]",
            "text/plain": [
              "<Figure size 1080x432 with 2 Axes>"
            ]
          },
          "metadata": {
            "tags": [],
            "needs_background": "light"
          }
        }
      ]
    },
    {
      "cell_type": "code",
      "metadata": {
        "id": "HN_AYIMG7RXp"
      },
      "source": [
        "model6_params = {'activation 1': 'relu', \n",
        "                 'activation 2': 'relu', \n",
        "                 'activation 3': 'softmax', \n",
        "                 'opt': tf.keras.optimizers.SGD(learning_rate=0.001),\n",
        "                 'loss': 'categorical_crossentropy',\n",
        "                 'epochs': 170, \n",
        "                 'batch_size': 30, \n",
        "                 }"
      ],
      "execution_count": 67,
      "outputs": []
    },
    {
      "cell_type": "code",
      "metadata": {
        "colab": {
          "base_uri": "https://localhost:8080/",
          "height": 1000
        },
        "id": "brxftL147ua1",
        "outputId": "5b4d2942-eb97-43b0-f8c6-1407ffba485e"
      },
      "source": [
        "model6_history, model6 = create_model(train, label_train, test, label_test, model6_params)"
      ],
      "execution_count": 68,
      "outputs": [
        {
          "output_type": "stream",
          "text": [
            "Epoch 1/170\n",
            "307/307 [==============================] - 1s 2ms/step - loss: 2.5981 - acc: 0.3037 - val_loss: 2.5528 - val_acc: 0.5244\n",
            "Epoch 2/170\n",
            "307/307 [==============================] - 1s 2ms/step - loss: 2.5070 - acc: 0.5257 - val_loss: 2.4654 - val_acc: 0.5231\n",
            "Epoch 3/170\n",
            "307/307 [==============================] - 1s 2ms/step - loss: 2.4198 - acc: 0.5258 - val_loss: 2.3800 - val_acc: 0.5231\n",
            "Epoch 4/170\n",
            "307/307 [==============================] - 1s 2ms/step - loss: 2.3338 - acc: 0.5258 - val_loss: 2.2948 - val_acc: 0.5231\n",
            "Epoch 5/170\n",
            "307/307 [==============================] - 1s 2ms/step - loss: 2.2467 - acc: 0.5258 - val_loss: 2.2061 - val_acc: 0.5231\n",
            "Epoch 6/170\n",
            "307/307 [==============================] - 1s 2ms/step - loss: 2.1556 - acc: 0.5258 - val_loss: 2.1164 - val_acc: 0.5231\n",
            "Epoch 7/170\n",
            "307/307 [==============================] - 1s 2ms/step - loss: 2.0654 - acc: 0.5258 - val_loss: 2.0277 - val_acc: 0.5231\n",
            "Epoch 8/170\n",
            "307/307 [==============================] - 1s 2ms/step - loss: 1.9761 - acc: 0.5258 - val_loss: 1.9404 - val_acc: 0.5231\n",
            "Epoch 9/170\n",
            "307/307 [==============================] - 1s 2ms/step - loss: 1.8909 - acc: 0.5258 - val_loss: 1.8598 - val_acc: 0.5231\n",
            "Epoch 10/170\n",
            "307/307 [==============================] - 1s 2ms/step - loss: 1.8151 - acc: 0.5258 - val_loss: 1.7909 - val_acc: 0.5231\n",
            "Epoch 11/170\n",
            "307/307 [==============================] - 1s 2ms/step - loss: 1.7523 - acc: 0.5258 - val_loss: 1.7359 - val_acc: 0.5231\n",
            "Epoch 12/170\n",
            "307/307 [==============================] - 1s 2ms/step - loss: 1.7034 - acc: 0.5258 - val_loss: 1.6937 - val_acc: 0.5231\n",
            "Epoch 13/170\n",
            "307/307 [==============================] - 1s 2ms/step - loss: 1.6658 - acc: 0.5258 - val_loss: 1.6603 - val_acc: 0.5231\n",
            "Epoch 14/170\n",
            "307/307 [==============================] - 1s 2ms/step - loss: 1.6354 - acc: 0.5258 - val_loss: 1.6326 - val_acc: 0.5231\n",
            "Epoch 15/170\n",
            "307/307 [==============================] - 1s 2ms/step - loss: 1.6093 - acc: 0.5258 - val_loss: 1.6077 - val_acc: 0.5231\n",
            "Epoch 16/170\n",
            "307/307 [==============================] - 1s 2ms/step - loss: 1.5857 - acc: 0.5258 - val_loss: 1.5849 - val_acc: 0.5231\n",
            "Epoch 17/170\n",
            "307/307 [==============================] - 1s 2ms/step - loss: 1.5639 - acc: 0.5258 - val_loss: 1.5636 - val_acc: 0.5231\n",
            "Epoch 18/170\n",
            "307/307 [==============================] - 1s 2ms/step - loss: 1.5434 - acc: 0.5258 - val_loss: 1.5436 - val_acc: 0.5231\n",
            "Epoch 19/170\n",
            "307/307 [==============================] - 1s 2ms/step - loss: 1.5242 - acc: 0.5258 - val_loss: 1.5246 - val_acc: 0.5231\n",
            "Epoch 20/170\n",
            "307/307 [==============================] - 1s 2ms/step - loss: 1.5057 - acc: 0.5258 - val_loss: 1.5063 - val_acc: 0.5231\n",
            "Epoch 21/170\n",
            "307/307 [==============================] - 1s 2ms/step - loss: 1.4880 - acc: 0.5258 - val_loss: 1.4886 - val_acc: 0.5231\n",
            "Epoch 22/170\n",
            "307/307 [==============================] - 1s 2ms/step - loss: 1.4710 - acc: 0.5258 - val_loss: 1.4715 - val_acc: 0.5231\n",
            "Epoch 23/170\n",
            "307/307 [==============================] - 1s 2ms/step - loss: 1.4544 - acc: 0.5258 - val_loss: 1.4548 - val_acc: 0.5231\n",
            "Epoch 24/170\n",
            "307/307 [==============================] - 1s 2ms/step - loss: 1.4381 - acc: 0.5258 - val_loss: 1.4385 - val_acc: 0.5231\n",
            "Epoch 25/170\n",
            "307/307 [==============================] - 1s 2ms/step - loss: 1.4223 - acc: 0.5258 - val_loss: 1.4225 - val_acc: 0.5231\n",
            "Epoch 26/170\n",
            "307/307 [==============================] - 1s 2ms/step - loss: 1.4069 - acc: 0.5258 - val_loss: 1.4072 - val_acc: 0.5231\n",
            "Epoch 27/170\n",
            "307/307 [==============================] - 1s 2ms/step - loss: 1.3920 - acc: 0.5258 - val_loss: 1.3924 - val_acc: 0.5231\n",
            "Epoch 28/170\n",
            "307/307 [==============================] - 1s 2ms/step - loss: 1.3777 - acc: 0.5258 - val_loss: 1.3782 - val_acc: 0.5231\n",
            "Epoch 29/170\n",
            "307/307 [==============================] - 1s 2ms/step - loss: 1.3638 - acc: 0.5258 - val_loss: 1.3642 - val_acc: 0.5231\n",
            "Epoch 30/170\n",
            "307/307 [==============================] - 1s 2ms/step - loss: 1.3501 - acc: 0.5258 - val_loss: 1.3504 - val_acc: 0.5231\n",
            "Epoch 31/170\n",
            "307/307 [==============================] - 1s 2ms/step - loss: 1.3365 - acc: 0.5258 - val_loss: 1.3367 - val_acc: 0.5231\n",
            "Epoch 32/170\n",
            "307/307 [==============================] - 1s 2ms/step - loss: 1.3230 - acc: 0.5258 - val_loss: 1.3231 - val_acc: 0.5231\n",
            "Epoch 33/170\n",
            "307/307 [==============================] - 1s 2ms/step - loss: 1.3097 - acc: 0.5258 - val_loss: 1.3097 - val_acc: 0.5231\n",
            "Epoch 34/170\n",
            "307/307 [==============================] - 1s 2ms/step - loss: 1.2965 - acc: 0.5258 - val_loss: 1.2965 - val_acc: 0.5231\n",
            "Epoch 35/170\n",
            "307/307 [==============================] - 1s 2ms/step - loss: 1.2835 - acc: 0.5258 - val_loss: 1.2834 - val_acc: 0.5231\n",
            "Epoch 36/170\n",
            "307/307 [==============================] - 1s 2ms/step - loss: 1.2705 - acc: 0.5258 - val_loss: 1.2703 - val_acc: 0.5231\n",
            "Epoch 37/170\n",
            "307/307 [==============================] - 1s 2ms/step - loss: 1.2575 - acc: 0.5258 - val_loss: 1.2572 - val_acc: 0.5231\n",
            "Epoch 38/170\n",
            "307/307 [==============================] - 1s 2ms/step - loss: 1.2447 - acc: 0.5258 - val_loss: 1.2443 - val_acc: 0.5231\n",
            "Epoch 39/170\n",
            "307/307 [==============================] - 1s 2ms/step - loss: 1.2319 - acc: 0.5258 - val_loss: 1.2315 - val_acc: 0.5231\n",
            "Epoch 40/170\n",
            "307/307 [==============================] - 1s 2ms/step - loss: 1.2193 - acc: 0.5258 - val_loss: 1.2188 - val_acc: 0.5226\n",
            "Epoch 41/170\n",
            "307/307 [==============================] - 1s 2ms/step - loss: 1.2068 - acc: 0.5423 - val_loss: 1.2063 - val_acc: 0.5413\n",
            "Epoch 42/170\n",
            "307/307 [==============================] - 1s 2ms/step - loss: 1.1944 - acc: 0.5565 - val_loss: 1.1938 - val_acc: 0.5583\n",
            "Epoch 43/170\n",
            "307/307 [==============================] - 1s 2ms/step - loss: 1.1820 - acc: 0.5652 - val_loss: 1.1813 - val_acc: 0.5583\n",
            "Epoch 44/170\n",
            "307/307 [==============================] - 1s 2ms/step - loss: 1.1698 - acc: 0.5690 - val_loss: 1.1689 - val_acc: 0.5688\n",
            "Epoch 45/170\n",
            "307/307 [==============================] - 1s 2ms/step - loss: 1.1576 - acc: 0.5738 - val_loss: 1.1566 - val_acc: 0.5688\n",
            "Epoch 46/170\n",
            "307/307 [==============================] - 1s 2ms/step - loss: 1.1453 - acc: 0.5806 - val_loss: 1.1442 - val_acc: 0.5792\n",
            "Epoch 47/170\n",
            "307/307 [==============================] - 1s 2ms/step - loss: 1.1331 - acc: 0.5924 - val_loss: 1.1318 - val_acc: 0.5975\n",
            "Epoch 48/170\n",
            "307/307 [==============================] - 1s 2ms/step - loss: 1.1210 - acc: 0.6047 - val_loss: 1.1197 - val_acc: 0.6036\n",
            "Epoch 49/170\n",
            "307/307 [==============================] - 1s 2ms/step - loss: 1.1090 - acc: 0.6136 - val_loss: 1.1075 - val_acc: 0.6110\n",
            "Epoch 50/170\n",
            "307/307 [==============================] - 1s 2ms/step - loss: 1.0971 - acc: 0.6218 - val_loss: 1.0956 - val_acc: 0.6188\n",
            "Epoch 51/170\n",
            "307/307 [==============================] - 1s 2ms/step - loss: 1.0855 - acc: 0.6252 - val_loss: 1.0840 - val_acc: 0.6184\n",
            "Epoch 52/170\n",
            "307/307 [==============================] - 1s 2ms/step - loss: 1.0741 - acc: 0.6304 - val_loss: 1.0725 - val_acc: 0.6393\n",
            "Epoch 53/170\n",
            "307/307 [==============================] - 1s 2ms/step - loss: 1.0627 - acc: 0.6453 - val_loss: 1.0611 - val_acc: 0.6397\n",
            "Epoch 54/170\n",
            "307/307 [==============================] - 1s 2ms/step - loss: 1.0515 - acc: 0.6518 - val_loss: 1.0498 - val_acc: 0.6562\n",
            "Epoch 55/170\n",
            "307/307 [==============================] - 1s 2ms/step - loss: 1.0404 - acc: 0.6822 - val_loss: 1.0386 - val_acc: 0.6997\n",
            "Epoch 56/170\n",
            "307/307 [==============================] - 1s 2ms/step - loss: 1.0295 - acc: 0.6982 - val_loss: 1.0276 - val_acc: 0.6967\n",
            "Epoch 57/170\n",
            "307/307 [==============================] - 1s 2ms/step - loss: 1.0187 - acc: 0.6969 - val_loss: 1.0166 - val_acc: 0.6980\n",
            "Epoch 58/170\n",
            "307/307 [==============================] - 1s 2ms/step - loss: 1.0079 - acc: 0.6992 - val_loss: 1.0058 - val_acc: 0.7023\n",
            "Epoch 59/170\n",
            "307/307 [==============================] - 1s 2ms/step - loss: 0.9973 - acc: 0.7011 - val_loss: 0.9951 - val_acc: 0.7023\n",
            "Epoch 60/170\n",
            "307/307 [==============================] - 1s 2ms/step - loss: 0.9868 - acc: 0.7035 - val_loss: 0.9845 - val_acc: 0.7093\n",
            "Epoch 61/170\n",
            "307/307 [==============================] - 1s 2ms/step - loss: 0.9765 - acc: 0.7067 - val_loss: 0.9740 - val_acc: 0.7106\n",
            "Epoch 62/170\n",
            "307/307 [==============================] - 1s 2ms/step - loss: 0.9662 - acc: 0.7053 - val_loss: 0.9636 - val_acc: 0.7102\n",
            "Epoch 63/170\n",
            "307/307 [==============================] - 1s 2ms/step - loss: 0.9561 - acc: 0.7093 - val_loss: 0.9534 - val_acc: 0.7128\n",
            "Epoch 64/170\n",
            "307/307 [==============================] - 1s 2ms/step - loss: 0.9462 - acc: 0.7141 - val_loss: 0.9434 - val_acc: 0.7163\n",
            "Epoch 65/170\n",
            "307/307 [==============================] - 1s 2ms/step - loss: 0.9363 - acc: 0.7172 - val_loss: 0.9334 - val_acc: 0.7198\n",
            "Epoch 66/170\n",
            "307/307 [==============================] - 1s 2ms/step - loss: 0.9266 - acc: 0.7195 - val_loss: 0.9236 - val_acc: 0.7206\n",
            "Epoch 67/170\n",
            "307/307 [==============================] - 1s 2ms/step - loss: 0.9170 - acc: 0.7230 - val_loss: 0.9140 - val_acc: 0.7285\n",
            "Epoch 68/170\n",
            "307/307 [==============================] - 1s 2ms/step - loss: 0.9077 - acc: 0.7298 - val_loss: 0.9045 - val_acc: 0.7285\n",
            "Epoch 69/170\n",
            "307/307 [==============================] - 1s 2ms/step - loss: 0.8983 - acc: 0.7298 - val_loss: 0.8951 - val_acc: 0.7285\n",
            "Epoch 70/170\n",
            "307/307 [==============================] - 1s 2ms/step - loss: 0.8892 - acc: 0.7327 - val_loss: 0.8858 - val_acc: 0.7363\n",
            "Epoch 71/170\n",
            "307/307 [==============================] - 1s 2ms/step - loss: 0.8801 - acc: 0.7407 - val_loss: 0.8767 - val_acc: 0.7433\n",
            "Epoch 72/170\n",
            "307/307 [==============================] - 1s 2ms/step - loss: 0.8711 - acc: 0.7456 - val_loss: 0.8677 - val_acc: 0.7472\n",
            "Epoch 73/170\n",
            "307/307 [==============================] - 1s 2ms/step - loss: 0.8623 - acc: 0.7566 - val_loss: 0.8589 - val_acc: 0.7615\n",
            "Epoch 74/170\n",
            "307/307 [==============================] - 1s 2ms/step - loss: 0.8536 - acc: 0.7649 - val_loss: 0.8502 - val_acc: 0.7615\n",
            "Epoch 75/170\n",
            "307/307 [==============================] - 1s 2ms/step - loss: 0.8451 - acc: 0.7674 - val_loss: 0.8417 - val_acc: 0.7672\n",
            "Epoch 76/170\n",
            "307/307 [==============================] - 1s 2ms/step - loss: 0.8367 - acc: 0.7739 - val_loss: 0.8333 - val_acc: 0.7737\n",
            "Epoch 77/170\n",
            "307/307 [==============================] - 1s 2ms/step - loss: 0.8284 - acc: 0.7767 - val_loss: 0.8250 - val_acc: 0.7755\n",
            "Epoch 78/170\n",
            "307/307 [==============================] - 1s 2ms/step - loss: 0.8202 - acc: 0.7780 - val_loss: 0.8169 - val_acc: 0.7755\n",
            "Epoch 79/170\n",
            "307/307 [==============================] - 1s 2ms/step - loss: 0.8121 - acc: 0.7780 - val_loss: 0.8089 - val_acc: 0.7755\n",
            "Epoch 80/170\n",
            "307/307 [==============================] - 1s 2ms/step - loss: 0.8042 - acc: 0.7781 - val_loss: 0.8010 - val_acc: 0.7829\n",
            "Epoch 81/170\n",
            "307/307 [==============================] - 1s 2ms/step - loss: 0.7963 - acc: 0.7834 - val_loss: 0.7932 - val_acc: 0.7829\n",
            "Epoch 82/170\n",
            "307/307 [==============================] - 1s 2ms/step - loss: 0.7886 - acc: 0.7859 - val_loss: 0.7856 - val_acc: 0.7837\n",
            "Epoch 83/170\n",
            "307/307 [==============================] - 1s 2ms/step - loss: 0.7810 - acc: 0.7933 - val_loss: 0.7781 - val_acc: 0.7907\n",
            "Epoch 84/170\n",
            "307/307 [==============================] - 1s 2ms/step - loss: 0.7735 - acc: 0.7952 - val_loss: 0.7707 - val_acc: 0.7907\n",
            "Epoch 85/170\n",
            "307/307 [==============================] - 1s 2ms/step - loss: 0.7661 - acc: 0.7952 - val_loss: 0.7633 - val_acc: 0.7907\n",
            "Epoch 86/170\n",
            "307/307 [==============================] - 1s 3ms/step - loss: 0.7588 - acc: 0.7956 - val_loss: 0.7561 - val_acc: 0.7955\n",
            "Epoch 87/170\n",
            "307/307 [==============================] - 1s 3ms/step - loss: 0.7515 - acc: 0.7993 - val_loss: 0.7491 - val_acc: 0.7972\n",
            "Epoch 88/170\n",
            "307/307 [==============================] - 1s 3ms/step - loss: 0.7444 - acc: 0.8002 - val_loss: 0.7421 - val_acc: 0.7972\n",
            "Epoch 89/170\n",
            "307/307 [==============================] - 1s 3ms/step - loss: 0.7373 - acc: 0.8018 - val_loss: 0.7351 - val_acc: 0.8003\n",
            "Epoch 90/170\n",
            "307/307 [==============================] - 1s 3ms/step - loss: 0.7304 - acc: 0.8050 - val_loss: 0.7283 - val_acc: 0.8024\n",
            "Epoch 91/170\n",
            "307/307 [==============================] - 1s 3ms/step - loss: 0.7235 - acc: 0.8087 - val_loss: 0.7216 - val_acc: 0.8059\n",
            "Epoch 92/170\n",
            "307/307 [==============================] - 1s 3ms/step - loss: 0.7166 - acc: 0.8094 - val_loss: 0.7149 - val_acc: 0.8059\n",
            "Epoch 93/170\n",
            "307/307 [==============================] - 1s 3ms/step - loss: 0.7098 - acc: 0.8104 - val_loss: 0.7083 - val_acc: 0.8077\n",
            "Epoch 94/170\n",
            "307/307 [==============================] - 1s 3ms/step - loss: 0.7031 - acc: 0.8178 - val_loss: 0.7017 - val_acc: 0.8255\n",
            "Epoch 95/170\n",
            "307/307 [==============================] - 1s 3ms/step - loss: 0.6965 - acc: 0.8261 - val_loss: 0.6953 - val_acc: 0.8264\n",
            "Epoch 96/170\n",
            "307/307 [==============================] - 1s 3ms/step - loss: 0.6899 - acc: 0.8277 - val_loss: 0.6888 - val_acc: 0.8285\n",
            "Epoch 97/170\n",
            "307/307 [==============================] - 1s 3ms/step - loss: 0.6833 - acc: 0.8316 - val_loss: 0.6824 - val_acc: 0.8303\n",
            "Epoch 98/170\n",
            "307/307 [==============================] - 1s 2ms/step - loss: 0.6768 - acc: 0.8348 - val_loss: 0.6762 - val_acc: 0.8342\n",
            "Epoch 99/170\n",
            "307/307 [==============================] - 1s 2ms/step - loss: 0.6703 - acc: 0.8370 - val_loss: 0.6699 - val_acc: 0.8342\n",
            "Epoch 100/170\n",
            "307/307 [==============================] - 1s 2ms/step - loss: 0.6639 - acc: 0.8415 - val_loss: 0.6637 - val_acc: 0.8451\n",
            "Epoch 101/170\n",
            "307/307 [==============================] - 1s 2ms/step - loss: 0.6576 - acc: 0.8443 - val_loss: 0.6576 - val_acc: 0.8481\n",
            "Epoch 102/170\n",
            "307/307 [==============================] - 1s 2ms/step - loss: 0.6513 - acc: 0.8489 - val_loss: 0.6515 - val_acc: 0.8481\n",
            "Epoch 103/170\n",
            "307/307 [==============================] - 1s 2ms/step - loss: 0.6451 - acc: 0.8489 - val_loss: 0.6455 - val_acc: 0.8481\n",
            "Epoch 104/170\n",
            "307/307 [==============================] - 1s 2ms/step - loss: 0.6390 - acc: 0.8495 - val_loss: 0.6395 - val_acc: 0.8507\n",
            "Epoch 105/170\n",
            "307/307 [==============================] - 1s 2ms/step - loss: 0.6329 - acc: 0.8532 - val_loss: 0.6336 - val_acc: 0.8507\n",
            "Epoch 106/170\n",
            "307/307 [==============================] - 1s 2ms/step - loss: 0.6268 - acc: 0.8532 - val_loss: 0.6277 - val_acc: 0.8507\n",
            "Epoch 107/170\n",
            "307/307 [==============================] - 1s 2ms/step - loss: 0.6207 - acc: 0.8537 - val_loss: 0.6219 - val_acc: 0.8529\n",
            "Epoch 108/170\n",
            "307/307 [==============================] - 1s 2ms/step - loss: 0.6147 - acc: 0.8545 - val_loss: 0.6161 - val_acc: 0.8547\n",
            "Epoch 109/170\n",
            "307/307 [==============================] - 1s 2ms/step - loss: 0.6088 - acc: 0.8548 - val_loss: 0.6103 - val_acc: 0.8547\n",
            "Epoch 110/170\n",
            "307/307 [==============================] - 1s 2ms/step - loss: 0.6029 - acc: 0.8574 - val_loss: 0.6046 - val_acc: 0.8586\n",
            "Epoch 111/170\n",
            "307/307 [==============================] - 1s 2ms/step - loss: 0.5971 - acc: 0.8587 - val_loss: 0.5989 - val_acc: 0.8586\n",
            "Epoch 112/170\n",
            "307/307 [==============================] - 1s 2ms/step - loss: 0.5913 - acc: 0.8591 - val_loss: 0.5932 - val_acc: 0.8599\n",
            "Epoch 113/170\n",
            "307/307 [==============================] - 1s 2ms/step - loss: 0.5855 - acc: 0.8655 - val_loss: 0.5876 - val_acc: 0.8660\n",
            "Epoch 114/170\n",
            "307/307 [==============================] - 1s 2ms/step - loss: 0.5797 - acc: 0.8672 - val_loss: 0.5820 - val_acc: 0.8673\n",
            "Epoch 115/170\n",
            "307/307 [==============================] - 1s 2ms/step - loss: 0.5740 - acc: 0.8685 - val_loss: 0.5764 - val_acc: 0.8686\n",
            "Epoch 116/170\n",
            "307/307 [==============================] - 1s 2ms/step - loss: 0.5684 - acc: 0.8695 - val_loss: 0.5709 - val_acc: 0.8703\n",
            "Epoch 117/170\n",
            "307/307 [==============================] - 1s 2ms/step - loss: 0.5628 - acc: 0.8707 - val_loss: 0.5655 - val_acc: 0.8703\n",
            "Epoch 118/170\n",
            "307/307 [==============================] - 1s 2ms/step - loss: 0.5572 - acc: 0.8709 - val_loss: 0.5600 - val_acc: 0.8708\n",
            "Epoch 119/170\n",
            "307/307 [==============================] - 1s 2ms/step - loss: 0.5516 - acc: 0.8732 - val_loss: 0.5546 - val_acc: 0.8751\n",
            "Epoch 120/170\n",
            "307/307 [==============================] - 1s 2ms/step - loss: 0.5461 - acc: 0.8742 - val_loss: 0.5492 - val_acc: 0.8751\n",
            "Epoch 121/170\n",
            "307/307 [==============================] - 1s 2ms/step - loss: 0.5406 - acc: 0.8778 - val_loss: 0.5439 - val_acc: 0.8799\n",
            "Epoch 122/170\n",
            "307/307 [==============================] - 1s 2ms/step - loss: 0.5352 - acc: 0.8794 - val_loss: 0.5385 - val_acc: 0.8799\n",
            "Epoch 123/170\n",
            "307/307 [==============================] - 1s 2ms/step - loss: 0.5298 - acc: 0.8803 - val_loss: 0.5332 - val_acc: 0.8799\n",
            "Epoch 124/170\n",
            "307/307 [==============================] - 1s 2ms/step - loss: 0.5244 - acc: 0.8804 - val_loss: 0.5279 - val_acc: 0.8808\n",
            "Epoch 125/170\n",
            "307/307 [==============================] - 1s 2ms/step - loss: 0.5192 - acc: 0.8822 - val_loss: 0.5228 - val_acc: 0.8825\n",
            "Epoch 126/170\n",
            "307/307 [==============================] - 1s 2ms/step - loss: 0.5139 - acc: 0.8847 - val_loss: 0.5176 - val_acc: 0.8869\n",
            "Epoch 127/170\n",
            "307/307 [==============================] - 1s 2ms/step - loss: 0.5087 - acc: 0.8857 - val_loss: 0.5125 - val_acc: 0.8903\n",
            "Epoch 128/170\n",
            "307/307 [==============================] - 1s 2ms/step - loss: 0.5035 - acc: 0.8876 - val_loss: 0.5074 - val_acc: 0.8908\n",
            "Epoch 129/170\n",
            "307/307 [==============================] - 1s 2ms/step - loss: 0.4984 - acc: 0.8882 - val_loss: 0.5024 - val_acc: 0.8908\n",
            "Epoch 130/170\n",
            "307/307 [==============================] - 1s 2ms/step - loss: 0.4933 - acc: 0.8895 - val_loss: 0.4973 - val_acc: 0.8908\n",
            "Epoch 131/170\n",
            "307/307 [==============================] - 1s 2ms/step - loss: 0.4883 - acc: 0.8897 - val_loss: 0.4924 - val_acc: 0.8912\n",
            "Epoch 132/170\n",
            "307/307 [==============================] - 1s 2ms/step - loss: 0.4833 - acc: 0.8915 - val_loss: 0.4875 - val_acc: 0.8960\n",
            "Epoch 133/170\n",
            "307/307 [==============================] - 1s 2ms/step - loss: 0.4783 - acc: 0.8941 - val_loss: 0.4826 - val_acc: 0.8960\n",
            "Epoch 134/170\n",
            "307/307 [==============================] - 1s 2ms/step - loss: 0.4734 - acc: 0.8941 - val_loss: 0.4777 - val_acc: 0.8960\n",
            "Epoch 135/170\n",
            "307/307 [==============================] - 1s 2ms/step - loss: 0.4686 - acc: 0.8941 - val_loss: 0.4730 - val_acc: 0.8960\n",
            "Epoch 136/170\n",
            "307/307 [==============================] - 1s 2ms/step - loss: 0.4637 - acc: 0.8941 - val_loss: 0.4682 - val_acc: 0.8960\n",
            "Epoch 137/170\n",
            "307/307 [==============================] - 1s 2ms/step - loss: 0.4589 - acc: 0.8943 - val_loss: 0.4634 - val_acc: 0.8964\n",
            "Epoch 138/170\n",
            "307/307 [==============================] - 1s 2ms/step - loss: 0.4541 - acc: 0.8948 - val_loss: 0.4587 - val_acc: 0.8964\n",
            "Epoch 139/170\n",
            "307/307 [==============================] - 1s 2ms/step - loss: 0.4493 - acc: 0.8950 - val_loss: 0.4539 - val_acc: 0.8973\n",
            "Epoch 140/170\n",
            "307/307 [==============================] - 1s 2ms/step - loss: 0.4446 - acc: 0.8969 - val_loss: 0.4492 - val_acc: 0.8986\n",
            "Epoch 141/170\n",
            "307/307 [==============================] - 1s 2ms/step - loss: 0.4399 - acc: 0.8970 - val_loss: 0.4445 - val_acc: 0.8986\n",
            "Epoch 142/170\n",
            "307/307 [==============================] - 1s 2ms/step - loss: 0.4352 - acc: 0.8974 - val_loss: 0.4400 - val_acc: 0.8999\n",
            "Epoch 143/170\n",
            "307/307 [==============================] - 1s 2ms/step - loss: 0.4307 - acc: 0.8983 - val_loss: 0.4354 - val_acc: 0.9008\n",
            "Epoch 144/170\n",
            "307/307 [==============================] - 1s 2ms/step - loss: 0.4261 - acc: 0.8987 - val_loss: 0.4309 - val_acc: 0.9038\n",
            "Epoch 145/170\n",
            "307/307 [==============================] - 1s 2ms/step - loss: 0.4216 - acc: 0.9000 - val_loss: 0.4265 - val_acc: 0.9038\n",
            "Epoch 146/170\n",
            "307/307 [==============================] - 1s 2ms/step - loss: 0.4171 - acc: 0.9020 - val_loss: 0.4221 - val_acc: 0.9069\n",
            "Epoch 147/170\n",
            "307/307 [==============================] - 1s 2ms/step - loss: 0.4127 - acc: 0.9026 - val_loss: 0.4177 - val_acc: 0.9069\n",
            "Epoch 148/170\n",
            "307/307 [==============================] - 1s 2ms/step - loss: 0.4084 - acc: 0.9038 - val_loss: 0.4135 - val_acc: 0.9069\n",
            "Epoch 149/170\n",
            "307/307 [==============================] - 1s 2ms/step - loss: 0.4042 - acc: 0.9064 - val_loss: 0.4093 - val_acc: 0.9104\n",
            "Epoch 150/170\n",
            "307/307 [==============================] - 1s 2ms/step - loss: 0.4000 - acc: 0.9151 - val_loss: 0.4052 - val_acc: 0.9147\n",
            "Epoch 151/170\n",
            "307/307 [==============================] - 1s 2ms/step - loss: 0.3959 - acc: 0.9166 - val_loss: 0.4012 - val_acc: 0.9186\n",
            "Epoch 152/170\n",
            "307/307 [==============================] - 1s 2ms/step - loss: 0.3919 - acc: 0.9182 - val_loss: 0.3972 - val_acc: 0.9186\n",
            "Epoch 153/170\n",
            "307/307 [==============================] - 1s 2ms/step - loss: 0.3879 - acc: 0.9183 - val_loss: 0.3933 - val_acc: 0.9186\n",
            "Epoch 154/170\n",
            "307/307 [==============================] - 1s 2ms/step - loss: 0.3840 - acc: 0.9185 - val_loss: 0.3894 - val_acc: 0.9186\n",
            "Epoch 155/170\n",
            "307/307 [==============================] - 1s 2ms/step - loss: 0.3801 - acc: 0.9194 - val_loss: 0.3857 - val_acc: 0.9186\n",
            "Epoch 156/170\n",
            "307/307 [==============================] - 1s 2ms/step - loss: 0.3764 - acc: 0.9199 - val_loss: 0.3819 - val_acc: 0.9186\n",
            "Epoch 157/170\n",
            "307/307 [==============================] - 1s 2ms/step - loss: 0.3726 - acc: 0.9200 - val_loss: 0.3783 - val_acc: 0.9186\n",
            "Epoch 158/170\n",
            "307/307 [==============================] - 1s 2ms/step - loss: 0.3689 - acc: 0.9198 - val_loss: 0.3746 - val_acc: 0.9186\n",
            "Epoch 159/170\n",
            "307/307 [==============================] - 1s 2ms/step - loss: 0.3653 - acc: 0.9198 - val_loss: 0.3711 - val_acc: 0.9186\n",
            "Epoch 160/170\n",
            "307/307 [==============================] - 1s 2ms/step - loss: 0.3617 - acc: 0.9198 - val_loss: 0.3675 - val_acc: 0.9186\n",
            "Epoch 161/170\n",
            "307/307 [==============================] - 1s 2ms/step - loss: 0.3582 - acc: 0.9199 - val_loss: 0.3641 - val_acc: 0.9191\n",
            "Epoch 162/170\n",
            "307/307 [==============================] - 1s 2ms/step - loss: 0.3547 - acc: 0.9210 - val_loss: 0.3607 - val_acc: 0.9191\n",
            "Epoch 163/170\n",
            "307/307 [==============================] - 1s 2ms/step - loss: 0.3513 - acc: 0.9220 - val_loss: 0.3573 - val_acc: 0.9204\n",
            "Epoch 164/170\n",
            "307/307 [==============================] - 1s 2ms/step - loss: 0.3479 - acc: 0.9224 - val_loss: 0.3540 - val_acc: 0.9217\n",
            "Epoch 165/170\n",
            "307/307 [==============================] - 1s 2ms/step - loss: 0.3446 - acc: 0.9235 - val_loss: 0.3507 - val_acc: 0.9217\n",
            "Epoch 166/170\n",
            "307/307 [==============================] - 1s 2ms/step - loss: 0.3413 - acc: 0.9235 - val_loss: 0.3476 - val_acc: 0.9221\n",
            "Epoch 167/170\n",
            "307/307 [==============================] - 1s 2ms/step - loss: 0.3381 - acc: 0.9245 - val_loss: 0.3445 - val_acc: 0.9221\n",
            "Epoch 168/170\n",
            "307/307 [==============================] - 1s 2ms/step - loss: 0.3350 - acc: 0.9247 - val_loss: 0.3414 - val_acc: 0.9221\n",
            "Epoch 169/170\n",
            "307/307 [==============================] - 1s 2ms/step - loss: 0.3318 - acc: 0.9247 - val_loss: 0.3384 - val_acc: 0.9238\n",
            "Epoch 170/170\n",
            "307/307 [==============================] - 1s 2ms/step - loss: 0.3288 - acc: 0.9252 - val_loss: 0.3354 - val_acc: 0.9238\n",
            "<bound method Model.summary of <tensorflow.python.keras.engine.sequential.Sequential object at 0x7f731e5678d0>>\n",
            "Test Accuracy:\n",
            "3446/3446 [==============================] - 5s 2ms/step - loss: 0.3500 - acc: 0.9173\n",
            "Random Sample Accuracy:\n",
            "50/50 [==============================] - 0s 2ms/step - loss: 0.8803 - acc: 0.7380\n"
          ],
          "name": "stdout"
        },
        {
          "output_type": "display_data",
          "data": {
            "image/png": "[encoded data removed]",
            "text/plain": [
              "<Figure size 1080x432 with 2 Axes>"
            ]
          },
          "metadata": {
            "tags": [],
            "needs_background": "light"
          }
        }
      ]
    },
    {
      "cell_type": "markdown",
      "metadata": {
        "id": "__MpwHll6CmX"
      },
      "source": [
        "Model 6 had the best performance on the random sample, with about 74% accuracy."
      ]
    },
    {
      "cell_type": "markdown",
      "metadata": {
        "id": "W-VgBuAfywOp"
      },
      "source": [
        "## Confusion Matrix"
      ]
    },
    {
      "cell_type": "markdown",
      "metadata": {
        "id": "DEyOaI696aJh"
      },
      "source": [
        "We'll create a confusion matrix to get a fuller sense of how the model performed on the random sample.  "
      ]
    },
    {
      "cell_type": "code",
      "metadata": {
        "id": "l8EMtKM143FT"
      },
      "source": [
        "label_preds = model6.predict_classes(r_descriptor_onehot)\n",
        "label_preds_onehot = to_categorical(label_preds)"
      ],
      "execution_count": 53,
      "outputs": []
    },
    {
      "cell_type": "code",
      "metadata": {
        "id": "fiHQNsVupk2W"
      },
      "source": [
        "cf_matrix = confusion_matrix(r_agency_cat, label_preds)"
      ],
      "execution_count": 54,
      "outputs": []
    },
    {
      "cell_type": "code",
      "metadata": {
        "colab": {
          "base_uri": "https://localhost:8080/",
          "height": 805
        },
        "id": "9VxZFJDWumpA",
        "outputId": "e8c0753e-4b93-402f-8a47-3ebb19987c2f"
      },
      "source": [
        "plt.figure(figsize=(13, 13))\n",
        "plt.title('Confusion Matrix: Predictions on Random Sample', \n",
        "          fontdict={'fontsize': 16, 'family': 'serif', 'color': '#58508d', 'weight': 'bold'})\n",
        "\n",
        "sns.heatmap(cf_matrix/np.sum(cf_matrix), annot=True, xticklabels=le.classes_, yticklabels=le.classes_,\n",
        "            fmt='.2%', cmap='Reds')\n",
        "plt.ylabel('True Agency')\n",
        "plt.xlabel('Predicted Agency')"
      ],
      "execution_count": 55,
      "outputs": [
        {
          "output_type": "execute_result",
          "data": {
            "text/plain": [
              "Text(0.5, 96.0, 'Predicted Agency')"
            ]
          },
          "metadata": {
            "tags": []
          },
          "execution_count": 55
        },
        {
          "output_type": "display_data",
          "data": {
            "image/png": "[encoded data removed]",
            "text/plain": [
              "<Figure size 936x936 with 2 Axes>"
            ]
          },
          "metadata": {
            "tags": [],
            "needs_background": "light"
          }
        }
      ]
    },
    {
      "cell_type": "markdown",
      "metadata": {
        "id": "nQCkQBCrLMhL"
      },
      "source": [
        "# Interpreting the Results\n",
        "With 91% accuracy on the resampled test data, and 73.8% accuracy on the random subset, the sixth model had the best overall performance. \n",
        "\n",
        "- The model correctly predicted that roughly half (49%) of calls received a response from the NYPD. \n",
        "- About 9% of predictions were correct HPD classifications.\n",
        "- About 6% were correct DPR classifications. \n",
        "- About 3% were correct DOT classifications, and another 3% were correct DSNY classifications.\n",
        "- Despite being trained on resampled data, the model still mis-classified the responding agency of some calls as the NYPD, HPD, or DOT. About 1.6% of calls, for example, were DOT but classified as HPD.\n",
        "\n",
        "Similar models can be trained and broadened in scope to optimize the assignment of future complaints to a responding agency. "
      ]
    },
    {
      "cell_type": "markdown",
      "metadata": {
        "id": "buv6obDyjy8g"
      },
      "source": [
        "# References \n",
        "[Hyperparameter Optimization with Keras]('https://towardsdatascience.com/hyperparameter-optimization-with-keras-b82e6364ca53')"
      ]
    }
  ]
}