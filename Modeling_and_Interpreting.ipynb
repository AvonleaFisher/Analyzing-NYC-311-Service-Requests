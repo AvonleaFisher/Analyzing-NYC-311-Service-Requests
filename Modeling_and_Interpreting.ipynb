{
  "nbformat": 4,
  "nbformat_minor": 0,
  "metadata": {
    "accelerator": "GPU",
    "colab": {
      "name": "Modeling_and_Interpreting.ipynb",
      "provenance": [],
      "collapsed_sections": [],
      "toc_visible": true,
      "machine_shape": "hm"
    },
    "kernelspec": {
      "display_name": "Python 3",
      "name": "python3"
    }
  },
  "cells": [
    {
      "cell_type": "markdown",
      "metadata": {
        "id": "BuPIppTCJQoQ"
      },
      "source": [
        "# Introduction "
      ]
    },
    {
      "cell_type": "markdown",
      "metadata": {
        "id": "zalxhpvEJQld"
      },
      "source": [
        "The aim of this section is to train a neural network that can accurately classify the agency that responded to a 311 call. In the exploratory analysis section, we saw that none of the community districts' numeric indicators were highly correlated with any of the dummy-encoded agency categories. Intuitively, one may expect the call's descriptor to be the best predictor of the responding agency, but given that the descriptors consist of natural language data, they will need to undergo additional preprocessig before being fed into a model."
      ]
    },
    {
      "cell_type": "code",
      "metadata": {
        "id": "GoZ-JIQ3cb2u"
      },
      "source": [
        "from tensorflow.random import set_seed\n",
        "set_seed(9)\n",
        "import numpy as np\n",
        "np.random.seed(999)"
      ],
      "execution_count": 1,
      "outputs": []
    },
    {
      "cell_type": "markdown",
      "metadata": {
        "id": "EQ2JuRRPUfI6"
      },
      "source": [
        "# Loading Dependencies"
      ]
    },
    {
      "cell_type": "code",
      "metadata": {
        "id": "muoTtQYo0uhz"
      },
      "source": [
        "!pip install -U -q PyDrive\n",
        "from pydrive.auth import GoogleAuth\n",
        "from pydrive.drive import GoogleDrive\n",
        "from google.colab import auth\n",
        "from oauth2client.client import GoogleCredentials\n",
        "from sklearn.model_selection import train_test_split\n",
        "from sklearn.metrics import confusion_matrix\n",
        "\n",
        "\n",
        "import matplotlib.pyplot as plt\n",
        "import pandas as pd\n",
        "import numpy as np\n",
        "import seaborn as sns\n",
        "import random\n",
        "import re\n",
        "\n",
        "from sklearn import preprocessing\n",
        "import tensorflow as tf\n",
        "from tensorflow import keras\n",
        "from tensorflow.keras import layers\n",
        "\n",
        "from keras.preprocessing.text import Tokenizer\n",
        "from keras.preprocessing.sequence import pad_sequences\n",
        "from keras import models\n",
        "from keras import layers\n",
        "from keras import optimizers\n",
        "from keras.utils.np_utils import to_categorical\n",
        "from keras.models import Sequential\n",
        "from tensorflow.keras.layers import Embedding, LSTM, Dense, Activation, Dropout"
      ],
      "execution_count": 2,
      "outputs": []
    },
    {
      "cell_type": "markdown",
      "metadata": {
        "id": "8taQeJ4zZwZu"
      },
      "source": [
        "# Importing the Data\n",
        "The data used in this notebook can be accessed via the following sharable Google Drive link:\n",
        "\n",
        "[df_final.csv](https://drive.google.com/file/d/1Jqxrz8lDY_iYYur7eJaBt9fmf-O2UqLO/view?usp=sharing)\n"
      ]
    },
    {
      "cell_type": "code",
      "metadata": {
        "id": "dHtsa82d0yeh"
      },
      "source": [
        "auth.authenticate_user()\n",
        "gauth = GoogleAuth()\n",
        "gauth.credentials = GoogleCredentials.get_application_default()\n",
        "drive = GoogleDrive(gauth)"
      ],
      "execution_count": 3,
      "outputs": []
    },
    {
      "cell_type": "code",
      "metadata": {
        "colab": {
          "base_uri": "https://localhost:8080/"
        },
        "id": "WZHghdba0oB5",
        "outputId": "c451a82e-fbc2-4a1b-eee5-b8556f279739"
      },
      "source": [
        "path = '/content/drive/MyDrive/Colab Notebooks/df_final.csv' #change path to match your Google Drive file location\n",
        "df = pd.read_csv(path, index_col=0)"
      ],
      "execution_count": 4,
      "outputs": [
        {
          "output_type": "stream",
          "text": [
            "/usr/local/lib/python3.6/dist-packages/numpy/lib/arraysetops.py:569: FutureWarning: elementwise comparison failed; returning scalar instead, but in the future will perform elementwise comparison\n",
            "  mask |= (ar1 == a)\n"
          ],
          "name": "stderr"
        }
      ]
    },
    {
      "cell_type": "markdown",
      "metadata": {
        "id": "q395NFX9yEMQ"
      },
      "source": [
        "# Assessing Model Performance"
      ]
    },
    {
      "cell_type": "markdown",
      "metadata": {
        "id": "9LUNQFdHyb4p"
      },
      "source": [
        "With perfectly balanced classes, a model's accuracy is acceptable if it exceeds the expected accuracy rate of simply picking a random class. With heavily imbalanced classes, however, a model's accuracy can instead be compared to that of picking the majority class. Below is the expected accuracy rate if we were to predict that all calls in a sample were responded to by the NYPD."
      ]
    },
    {
      "cell_type": "code",
      "metadata": {
        "colab": {
          "base_uri": "https://localhost:8080/"
        },
        "id": "DNrao_hK2sFG",
        "outputId": "05a33654-cb1f-401e-e3cb-a3b204d3a897"
      },
      "source": [
        "#divide count of NYPD calls by total calls and round to 2 decimal places\n",
        "round(len(df[df.agency =='NYPD'])/len(df) * 100, 2) "
      ],
      "execution_count": 5,
      "outputs": [
        {
          "output_type": "execute_result",
          "data": {
            "text/plain": [
              "52.61"
            ]
          },
          "metadata": {
            "tags": []
          },
          "execution_count": 5
        }
      ]
    },
    {
      "cell_type": "markdown",
      "metadata": {
        "id": "1TpY--8t3X-b"
      },
      "source": [
        "While the aim will be to maximize model accuracy, any classifier that is at least 53% accurate will out-perform the simple assignment of all calls to the NYPD."
      ]
    },
    {
      "cell_type": "markdown",
      "metadata": {
        "id": "W9fRwJwwMgbA"
      },
      "source": [
        "# Sampling the Data \n",
        "The dataset currently consists of more than one million rows:"
      ]
    },
    {
      "cell_type": "code",
      "metadata": {
        "colab": {
          "base_uri": "https://localhost:8080/"
        },
        "id": "mMMJh58Y8dIA",
        "outputId": "ebd7410e-6e7b-45df-c24b-bae912f10ce5"
      },
      "source": [
        "len(df)"
      ],
      "execution_count": 6,
      "outputs": [
        {
          "output_type": "execute_result",
          "data": {
            "text/plain": [
              "1379786"
            ]
          },
          "metadata": {
            "tags": []
          },
          "execution_count": 6
        }
      ]
    },
    {
      "cell_type": "markdown",
      "metadata": {
        "id": "JMUcv--x8aaY"
      },
      "source": [
        "Retrieving the training data from a representative sample, rather than the entire dataset, will save time in the training process and ideally not result in a significant decline in accuracy.\n",
        "\n",
        "In training classification models, we'll want to ensure that complaint descriptors from every agency category are represented. This way, the model will also be able to recognize encoded descriptors that correspond to agencies that rarely receive calls. However, training a model on samples of equal length from each agency may lead to confusion when it is presented with new, imbalanced data. We'll oversample the minority classes, but ensure that the largest samples are those agencies that receive the most calls. This will allow the diversity of descriptors associated with each agency to be captured in the samples. Below, we create and print a dictionary with the class weights."
      ]
    },
    {
      "cell_type": "code",
      "metadata": {
        "colab": {
          "base_uri": "https://localhost:8080/"
        },
        "id": "m2JjrNL748aM",
        "outputId": "04cb78ca-3913-4c33-93a5-ddaf921d93b3"
      },
      "source": [
        "#create dictionary to store weights\n",
        "weights_dict = {}\n",
        "\n",
        "#loop through agency: value count pairs\n",
        "for agency, count in list(zip(df.agency.value_counts().index, \n",
        "                              df.agency.value_counts().values)):\n",
        "#calculate weights and update dictionary \n",
        "  weight = count/len(df)\n",
        "  weights_dict[agency] = weight\n",
        "weights_dict"
      ],
      "execution_count": 7,
      "outputs": [
        {
          "output_type": "execute_result",
          "data": {
            "text/plain": [
              "{'DCA': 0.007849768007502613,\n",
              " 'DEP': 0.057544430803037575,\n",
              " 'DOB': 0.031322248522596983,\n",
              " 'DOE': 0.0003138167802833193,\n",
              " 'DOHMH': 0.022252001397318134,\n",
              " 'DOITT': 0.00011233626084044916,\n",
              " 'DOT': 0.059362103978443034,\n",
              " 'DPR': 0.08357020581452486,\n",
              " 'DSNY': 0.04376330822315924,\n",
              " 'EDC': 0.004157891151236496,\n",
              " 'HPD': 0.12691315899711986,\n",
              " 'NYPD': 0.5261301390215584,\n",
              " 'OSE': 0.03320152545394721,\n",
              " 'TLC': 0.0035070655884318295}"
            ]
          },
          "metadata": {
            "tags": []
          },
          "execution_count": 7
        }
      ]
    },
    {
      "cell_type": "code",
      "metadata": {
        "colab": {
          "base_uri": "https://localhost:8080/"
        },
        "id": "uPPBjrs5LGG6",
        "outputId": "5ac7d78e-f562-4373-b716-51b8be136759"
      },
      "source": [
        "df.agency.value_counts()"
      ],
      "execution_count": 8,
      "outputs": [
        {
          "output_type": "execute_result",
          "data": {
            "text/plain": [
              "NYPD     725947\n",
              "HPD      175113\n",
              "DPR      115309\n",
              "DOT       81907\n",
              "DEP       79399\n",
              "DSNY      60384\n",
              "OSE       45811\n",
              "DOB       43218\n",
              "DOHMH     30703\n",
              "DCA       10831\n",
              "EDC        5737\n",
              "TLC        4839\n",
              "DOE         433\n",
              "DOITT       155\n",
              "Name: agency, dtype: int64"
            ]
          },
          "metadata": {
            "tags": []
          },
          "execution_count": 8
        }
      ]
    },
    {
      "cell_type": "markdown",
      "metadata": {
        "id": "gh_WXYsAPfWm"
      },
      "source": [
        "Next, we'll create a new dictionary with guidelines for the number of samples to be drawn from each class. The class weights are multiplied by a term that results in the largest sample, NYPD, consisting of around 60k calls."
      ]
    },
    {
      "cell_type": "code",
      "metadata": {
        "id": "Eei-2kEy9iCS"
      },
      "source": [
        "n_samples_dict = {}\n",
        "\n",
        "#loop through agency: weight pairs\n",
        "for agency, weight in zip(weights_dict.keys(), weights_dict.values()):\n",
        "\n",
        "#multiply each weight by 15**4.3 and update the dictionary\n",
        "  n_samples = int(15**4.3 * weight)\n",
        "  n_samples_dict[agency] = n_samples"
      ],
      "execution_count": 9,
      "outputs": []
    },
    {
      "cell_type": "code",
      "metadata": {
        "colab": {
          "base_uri": "https://localhost:8080/"
        },
        "id": "qE__5eWsBH0c",
        "outputId": "96242305-d068-4421-c4b1-5ef7e7e2c44d"
      },
      "source": [
        "n_samples_dict"
      ],
      "execution_count": 10,
      "outputs": [
        {
          "output_type": "execute_result",
          "data": {
            "text/plain": [
              "{'DCA': 895,\n",
              " 'DEP': 6564,\n",
              " 'DOB': 3573,\n",
              " 'DOE': 35,\n",
              " 'DOHMH': 2538,\n",
              " 'DOITT': 12,\n",
              " 'DOT': 6771,\n",
              " 'DPR': 9533,\n",
              " 'DSNY': 4992,\n",
              " 'EDC': 474,\n",
              " 'HPD': 14477,\n",
              " 'NYPD': 60018,\n",
              " 'OSE': 3787,\n",
              " 'TLC': 400}"
            ]
          },
          "metadata": {
            "tags": []
          },
          "execution_count": 10
        }
      ]
    },
    {
      "cell_type": "markdown",
      "metadata": {
        "id": "1g8WnjUsRmw2"
      },
      "source": [
        "The below function returns weighted samples of an agency that's passed in."
      ]
    },
    {
      "cell_type": "code",
      "metadata": {
        "id": "geHzoyWv52OZ"
      },
      "source": [
        "def get_weighted_sample(agency):\n",
        "  \n",
        "  \"\"\"Takes in an agency name as a string, and creates a subset with all rows\n",
        "     with a match in the agency column. Returns a weighted sample of call data\n",
        "     associated with that agency, based on the values in n_samples_dict.\"\"\"\n",
        "\n",
        "  agency_subset = df[df.agency == agency]\n",
        "\n",
        "  n_samples = n_samples_dict[agency]\n",
        "  \n",
        "  weighted_sample = agency_subset.sample(n=n_samples, random_state=9)\n",
        "\n",
        "  return weighted_sample"
      ],
      "execution_count": 11,
      "outputs": []
    },
    {
      "cell_type": "markdown",
      "metadata": {
        "id": "__2PdUBESxkK"
      },
      "source": [
        "The function is applied below to each unique agency to create a dataframe of samples, and the dataframe is appended to the list 'samples.' These are conatenated in 'weighted_df' and the index is reset."
      ]
    },
    {
      "cell_type": "code",
      "metadata": {
        "id": "uR6-bbBC-MiY"
      },
      "source": [
        "samples = []\n",
        "\n",
        "for agency in df.agency.unique():\n",
        "  samples.append(get_weighted_sample(agency))"
      ],
      "execution_count": 12,
      "outputs": []
    },
    {
      "cell_type": "code",
      "metadata": {
        "id": "ny-Ss-YVFcCJ"
      },
      "source": [
        "weighted_df = pd.concat(samples)\n",
        "weighted_df.reset_index(inplace=True)"
      ],
      "execution_count": 13,
      "outputs": []
    },
    {
      "cell_type": "code",
      "metadata": {
        "colab": {
          "base_uri": "https://localhost:8080/",
          "height": 760
        },
        "id": "-OP7tnoiFbSk",
        "outputId": "cfd54a52-63bd-4aa5-c3b8-8b95ff272fdf"
      },
      "source": [
        "weighted_df"
      ],
      "execution_count": 14,
      "outputs": [
        {
          "output_type": "execute_result",
          "data": {
            "text/html": [
              "<div>\n",
              "<style scoped>\n",
              "    .dataframe tbody tr th:only-of-type {\n",
              "        vertical-align: middle;\n",
              "    }\n",
              "\n",
              "    .dataframe tbody tr th {\n",
              "        vertical-align: top;\n",
              "    }\n",
              "\n",
              "    .dataframe thead th {\n",
              "        text-align: right;\n",
              "    }\n",
              "</style>\n",
              "<table border=\"1\" class=\"dataframe\">\n",
              "  <thead>\n",
              "    <tr style=\"text-align: right;\">\n",
              "      <th></th>\n",
              "      <th>index</th>\n",
              "      <th>created_date</th>\n",
              "      <th>complaint_type</th>\n",
              "      <th>agency</th>\n",
              "      <th>community_board</th>\n",
              "      <th>latitude</th>\n",
              "      <th>longitude</th>\n",
              "      <th>descriptor</th>\n",
              "      <th>borough</th>\n",
              "      <th>day</th>\n",
              "      <th>month</th>\n",
              "      <th>day_of_week</th>\n",
              "      <th>hour</th>\n",
              "      <th>count_hosp_clinic</th>\n",
              "      <th>count_libraries</th>\n",
              "      <th>count_parks</th>\n",
              "      <th>count_public_schools</th>\n",
              "      <th>crime_per_1000</th>\n",
              "      <th>female_20_24</th>\n",
              "      <th>female_25_29</th>\n",
              "      <th>female_30_34</th>\n",
              "      <th>female_35_39</th>\n",
              "      <th>female_40_44</th>\n",
              "      <th>female_45_49</th>\n",
              "      <th>female_50_54</th>\n",
              "      <th>female_55_59</th>\n",
              "      <th>female_60_64</th>\n",
              "      <th>male_15_19</th>\n",
              "      <th>male_20_24</th>\n",
              "      <th>male_30_34</th>\n",
              "      <th>male_40_44</th>\n",
              "      <th>male_45_49</th>\n",
              "      <th>male_50_54</th>\n",
              "      <th>male_55_59</th>\n",
              "      <th>male_60_64</th>\n",
              "      <th>under18_rate</th>\n",
              "      <th>over65_rate</th>\n",
              "      <th>lots_total</th>\n",
              "      <th>lots_vacant</th>\n",
              "      <th>pct_white_nh</th>\n",
              "      <th>pct_black_nh</th>\n",
              "      <th>pct_asian_nh</th>\n",
              "      <th>pct_other_nh</th>\n",
              "      <th>pct_hispanic</th>\n",
              "      <th>mean_commute</th>\n",
              "      <th>pop_change_00_10</th>\n",
              "      <th>pct_clean_strts</th>\n",
              "      <th>unemployment</th>\n",
              "      <th>poverty_rate</th>\n",
              "      <th>lep_rate_boro</th>\n",
              "      <th>pct_hh_rent_burd</th>\n",
              "    </tr>\n",
              "  </thead>\n",
              "  <tbody>\n",
              "    <tr>\n",
              "      <th>0</th>\n",
              "      <td>383700</td>\n",
              "      <td>2020-10-02 10:07:39</td>\n",
              "      <td>General Construction/Plumbing</td>\n",
              "      <td>DOB</td>\n",
              "      <td>7 BROOKLYN</td>\n",
              "      <td>40.638071</td>\n",
              "      <td>-74.007711</td>\n",
              "      <td>working contrary to stop work order</td>\n",
              "      <td>BROOKLYN</td>\n",
              "      <td>2020-10-02</td>\n",
              "      <td>10</td>\n",
              "      <td>4</td>\n",
              "      <td>10</td>\n",
              "      <td>32</td>\n",
              "      <td>2</td>\n",
              "      <td>4</td>\n",
              "      <td>21</td>\n",
              "      <td>8.3</td>\n",
              "      <td>3.0</td>\n",
              "      <td>4.9</td>\n",
              "      <td>4.6</td>\n",
              "      <td>4.2</td>\n",
              "      <td>3.4</td>\n",
              "      <td>3.4</td>\n",
              "      <td>3.2</td>\n",
              "      <td>2.4</td>\n",
              "      <td>2.4</td>\n",
              "      <td>2.3</td>\n",
              "      <td>2.8</td>\n",
              "      <td>5.0</td>\n",
              "      <td>3.8</td>\n",
              "      <td>3.3</td>\n",
              "      <td>3.3</td>\n",
              "      <td>2.6</td>\n",
              "      <td>2.2</td>\n",
              "      <td>24.0</td>\n",
              "      <td>10.3</td>\n",
              "      <td>13315</td>\n",
              "      <td>177</td>\n",
              "      <td>24.4</td>\n",
              "      <td>2.6</td>\n",
              "      <td>31.3</td>\n",
              "      <td>1.9</td>\n",
              "      <td>39.8</td>\n",
              "      <td>42.9</td>\n",
              "      <td>0.05</td>\n",
              "      <td>92.6</td>\n",
              "      <td>3.8</td>\n",
              "      <td>27.9</td>\n",
              "      <td>23.6</td>\n",
              "      <td>48.1</td>\n",
              "    </tr>\n",
              "    <tr>\n",
              "      <th>1</th>\n",
              "      <td>164754</td>\n",
              "      <td>2020-09-15 11:47:20</td>\n",
              "      <td>Elevator</td>\n",
              "      <td>DOB</td>\n",
              "      <td>4 MANHATTAN</td>\n",
              "      <td>40.752111</td>\n",
              "      <td>-74.004645</td>\n",
              "      <td>elevator  multiple devices on property</td>\n",
              "      <td>MANHATTAN</td>\n",
              "      <td>2020-09-15</td>\n",
              "      <td>9</td>\n",
              "      <td>1</td>\n",
              "      <td>11</td>\n",
              "      <td>38</td>\n",
              "      <td>2</td>\n",
              "      <td>7</td>\n",
              "      <td>29</td>\n",
              "      <td>18.1</td>\n",
              "      <td>4.0</td>\n",
              "      <td>7.2</td>\n",
              "      <td>6.4</td>\n",
              "      <td>3.8</td>\n",
              "      <td>3.0</td>\n",
              "      <td>2.9</td>\n",
              "      <td>2.3</td>\n",
              "      <td>2.7</td>\n",
              "      <td>2.7</td>\n",
              "      <td>1.1</td>\n",
              "      <td>3.3</td>\n",
              "      <td>7.2</td>\n",
              "      <td>4.8</td>\n",
              "      <td>3.9</td>\n",
              "      <td>3.6</td>\n",
              "      <td>3.7</td>\n",
              "      <td>3.1</td>\n",
              "      <td>8.2</td>\n",
              "      <td>13.4</td>\n",
              "      <td>3417</td>\n",
              "      <td>70</td>\n",
              "      <td>59.1</td>\n",
              "      <td>5.2</td>\n",
              "      <td>17.2</td>\n",
              "      <td>3.0</td>\n",
              "      <td>15.5</td>\n",
              "      <td>26.7</td>\n",
              "      <td>0.18</td>\n",
              "      <td>95.6</td>\n",
              "      <td>3.5</td>\n",
              "      <td>11.3</td>\n",
              "      <td>15.8</td>\n",
              "      <td>33.9</td>\n",
              "    </tr>\n",
              "    <tr>\n",
              "      <th>2</th>\n",
              "      <td>1301458</td>\n",
              "      <td>2020-07-02 15:02:08</td>\n",
              "      <td>General Construction/Plumbing</td>\n",
              "      <td>DOB</td>\n",
              "      <td>6 BROOKLYN</td>\n",
              "      <td>40.676215</td>\n",
              "      <td>-74.008818</td>\n",
              "      <td>building shaking vibrating structural stability</td>\n",
              "      <td>BROOKLYN</td>\n",
              "      <td>2020-07-02</td>\n",
              "      <td>7</td>\n",
              "      <td>3</td>\n",
              "      <td>15</td>\n",
              "      <td>18</td>\n",
              "      <td>4</td>\n",
              "      <td>8</td>\n",
              "      <td>24</td>\n",
              "      <td>7.8</td>\n",
              "      <td>2.4</td>\n",
              "      <td>5.3</td>\n",
              "      <td>6.7</td>\n",
              "      <td>5.6</td>\n",
              "      <td>4.3</td>\n",
              "      <td>3.5</td>\n",
              "      <td>2.8</td>\n",
              "      <td>2.6</td>\n",
              "      <td>2.3</td>\n",
              "      <td>1.8</td>\n",
              "      <td>1.3</td>\n",
              "      <td>5.8</td>\n",
              "      <td>4.4</td>\n",
              "      <td>3.9</td>\n",
              "      <td>2.7</td>\n",
              "      <td>2.4</td>\n",
              "      <td>2.0</td>\n",
              "      <td>21.2</td>\n",
              "      <td>10.4</td>\n",
              "      <td>13799</td>\n",
              "      <td>406</td>\n",
              "      <td>64.1</td>\n",
              "      <td>7.2</td>\n",
              "      <td>7.0</td>\n",
              "      <td>5.4</td>\n",
              "      <td>16.3</td>\n",
              "      <td>38.4</td>\n",
              "      <td>0.01</td>\n",
              "      <td>95.9</td>\n",
              "      <td>4.0</td>\n",
              "      <td>9.6</td>\n",
              "      <td>23.6</td>\n",
              "      <td>28.8</td>\n",
              "    </tr>\n",
              "    <tr>\n",
              "      <th>3</th>\n",
              "      <td>661127</td>\n",
              "      <td>2020-08-29 15:41:01</td>\n",
              "      <td>Building/Use</td>\n",
              "      <td>DOB</td>\n",
              "      <td>12 QUEENS</td>\n",
              "      <td>40.696722</td>\n",
              "      <td>-73.761430</td>\n",
              "      <td>illegal conversion of residential building space</td>\n",
              "      <td>QUEENS</td>\n",
              "      <td>2020-08-29</td>\n",
              "      <td>8</td>\n",
              "      <td>5</td>\n",
              "      <td>15</td>\n",
              "      <td>34</td>\n",
              "      <td>9</td>\n",
              "      <td>12</td>\n",
              "      <td>46</td>\n",
              "      <td>11.2</td>\n",
              "      <td>3.6</td>\n",
              "      <td>4.1</td>\n",
              "      <td>3.6</td>\n",
              "      <td>3.6</td>\n",
              "      <td>3.2</td>\n",
              "      <td>3.8</td>\n",
              "      <td>4.0</td>\n",
              "      <td>3.7</td>\n",
              "      <td>3.2</td>\n",
              "      <td>3.0</td>\n",
              "      <td>3.5</td>\n",
              "      <td>3.4</td>\n",
              "      <td>2.8</td>\n",
              "      <td>3.0</td>\n",
              "      <td>3.5</td>\n",
              "      <td>3.1</td>\n",
              "      <td>2.7</td>\n",
              "      <td>22.4</td>\n",
              "      <td>13.3</td>\n",
              "      <td>41418</td>\n",
              "      <td>1189</td>\n",
              "      <td>1.8</td>\n",
              "      <td>61.8</td>\n",
              "      <td>12.6</td>\n",
              "      <td>7.9</td>\n",
              "      <td>15.9</td>\n",
              "      <td>49.0</td>\n",
              "      <td>0.01</td>\n",
              "      <td>94.9</td>\n",
              "      <td>5.9</td>\n",
              "      <td>19.0</td>\n",
              "      <td>28.8</td>\n",
              "      <td>46.9</td>\n",
              "    </tr>\n",
              "    <tr>\n",
              "      <th>4</th>\n",
              "      <td>252987</td>\n",
              "      <td>2020-06-04 13:20:26</td>\n",
              "      <td>Covid-19 Non-Essential Construction</td>\n",
              "      <td>DOB</td>\n",
              "      <td>11 BROOKLYN</td>\n",
              "      <td>40.600670</td>\n",
              "      <td>-73.982837</td>\n",
              "      <td>construction</td>\n",
              "      <td>BROOKLYN</td>\n",
              "      <td>2020-06-04</td>\n",
              "      <td>6</td>\n",
              "      <td>3</td>\n",
              "      <td>13</td>\n",
              "      <td>9</td>\n",
              "      <td>2</td>\n",
              "      <td>2</td>\n",
              "      <td>21</td>\n",
              "      <td>5.4</td>\n",
              "      <td>2.8</td>\n",
              "      <td>3.8</td>\n",
              "      <td>3.9</td>\n",
              "      <td>3.5</td>\n",
              "      <td>3.6</td>\n",
              "      <td>3.4</td>\n",
              "      <td>3.5</td>\n",
              "      <td>3.3</td>\n",
              "      <td>3.1</td>\n",
              "      <td>2.4</td>\n",
              "      <td>2.9</td>\n",
              "      <td>3.9</td>\n",
              "      <td>3.4</td>\n",
              "      <td>3.2</td>\n",
              "      <td>3.4</td>\n",
              "      <td>3.3</td>\n",
              "      <td>2.8</td>\n",
              "      <td>21.3</td>\n",
              "      <td>15.6</td>\n",
              "      <td>21821</td>\n",
              "      <td>150</td>\n",
              "      <td>40.2</td>\n",
              "      <td>1.0</td>\n",
              "      <td>40.8</td>\n",
              "      <td>2.1</td>\n",
              "      <td>15.9</td>\n",
              "      <td>46.6</td>\n",
              "      <td>0.06</td>\n",
              "      <td>93.9</td>\n",
              "      <td>4.1</td>\n",
              "      <td>22.5</td>\n",
              "      <td>23.6</td>\n",
              "      <td>49.9</td>\n",
              "    </tr>\n",
              "    <tr>\n",
              "      <th>...</th>\n",
              "      <td>...</td>\n",
              "      <td>...</td>\n",
              "      <td>...</td>\n",
              "      <td>...</td>\n",
              "      <td>...</td>\n",
              "      <td>...</td>\n",
              "      <td>...</td>\n",
              "      <td>...</td>\n",
              "      <td>...</td>\n",
              "      <td>...</td>\n",
              "      <td>...</td>\n",
              "      <td>...</td>\n",
              "      <td>...</td>\n",
              "      <td>...</td>\n",
              "      <td>...</td>\n",
              "      <td>...</td>\n",
              "      <td>...</td>\n",
              "      <td>...</td>\n",
              "      <td>...</td>\n",
              "      <td>...</td>\n",
              "      <td>...</td>\n",
              "      <td>...</td>\n",
              "      <td>...</td>\n",
              "      <td>...</td>\n",
              "      <td>...</td>\n",
              "      <td>...</td>\n",
              "      <td>...</td>\n",
              "      <td>...</td>\n",
              "      <td>...</td>\n",
              "      <td>...</td>\n",
              "      <td>...</td>\n",
              "      <td>...</td>\n",
              "      <td>...</td>\n",
              "      <td>...</td>\n",
              "      <td>...</td>\n",
              "      <td>...</td>\n",
              "      <td>...</td>\n",
              "      <td>...</td>\n",
              "      <td>...</td>\n",
              "      <td>...</td>\n",
              "      <td>...</td>\n",
              "      <td>...</td>\n",
              "      <td>...</td>\n",
              "      <td>...</td>\n",
              "      <td>...</td>\n",
              "      <td>...</td>\n",
              "      <td>...</td>\n",
              "      <td>...</td>\n",
              "      <td>...</td>\n",
              "      <td>...</td>\n",
              "      <td>...</td>\n",
              "    </tr>\n",
              "    <tr>\n",
              "      <th>114064</th>\n",
              "      <td>1003068</td>\n",
              "      <td>2020-09-29 14:16:21</td>\n",
              "      <td>Linknyc</td>\n",
              "      <td>DOITT</td>\n",
              "      <td>1 MANHATTAN</td>\n",
              "      <td>40.715836</td>\n",
              "      <td>-74.002832</td>\n",
              "      <td>damaged defective</td>\n",
              "      <td>MANHATTAN</td>\n",
              "      <td>2020-09-29</td>\n",
              "      <td>9</td>\n",
              "      <td>1</td>\n",
              "      <td>14</td>\n",
              "      <td>10</td>\n",
              "      <td>2</td>\n",
              "      <td>13</td>\n",
              "      <td>19</td>\n",
              "      <td>6.8</td>\n",
              "      <td>3.9</td>\n",
              "      <td>7.2</td>\n",
              "      <td>6.5</td>\n",
              "      <td>4.7</td>\n",
              "      <td>3.6</td>\n",
              "      <td>2.9</td>\n",
              "      <td>2.3</td>\n",
              "      <td>2.4</td>\n",
              "      <td>2.6</td>\n",
              "      <td>1.8</td>\n",
              "      <td>2.8</td>\n",
              "      <td>6.3</td>\n",
              "      <td>3.6</td>\n",
              "      <td>3.6</td>\n",
              "      <td>2.7</td>\n",
              "      <td>2.7</td>\n",
              "      <td>2.7</td>\n",
              "      <td>12.7</td>\n",
              "      <td>12.8</td>\n",
              "      <td>1461</td>\n",
              "      <td>25</td>\n",
              "      <td>72.2</td>\n",
              "      <td>2.2</td>\n",
              "      <td>15.5</td>\n",
              "      <td>3.6</td>\n",
              "      <td>6.5</td>\n",
              "      <td>25.4</td>\n",
              "      <td>0.77</td>\n",
              "      <td>95.4</td>\n",
              "      <td>2.8</td>\n",
              "      <td>8.8</td>\n",
              "      <td>15.8</td>\n",
              "      <td>30.1</td>\n",
              "    </tr>\n",
              "    <tr>\n",
              "      <th>114065</th>\n",
              "      <td>877336</td>\n",
              "      <td>2020-07-25 11:52:58</td>\n",
              "      <td>Public Payphone Complaint</td>\n",
              "      <td>DOITT</td>\n",
              "      <td>3 QUEENS</td>\n",
              "      <td>40.751321</td>\n",
              "      <td>-73.862459</td>\n",
              "      <td>graffiti litter on phone</td>\n",
              "      <td>QUEENS</td>\n",
              "      <td>2020-07-25</td>\n",
              "      <td>7</td>\n",
              "      <td>5</td>\n",
              "      <td>11</td>\n",
              "      <td>10</td>\n",
              "      <td>4</td>\n",
              "      <td>3</td>\n",
              "      <td>13</td>\n",
              "      <td>8.4</td>\n",
              "      <td>3.0</td>\n",
              "      <td>3.9</td>\n",
              "      <td>4.2</td>\n",
              "      <td>3.9</td>\n",
              "      <td>3.4</td>\n",
              "      <td>3.2</td>\n",
              "      <td>2.9</td>\n",
              "      <td>2.7</td>\n",
              "      <td>2.5</td>\n",
              "      <td>2.5</td>\n",
              "      <td>3.1</td>\n",
              "      <td>4.8</td>\n",
              "      <td>4.4</td>\n",
              "      <td>3.9</td>\n",
              "      <td>3.4</td>\n",
              "      <td>3.1</td>\n",
              "      <td>1.9</td>\n",
              "      <td>22.2</td>\n",
              "      <td>12.7</td>\n",
              "      <td>14658</td>\n",
              "      <td>225</td>\n",
              "      <td>10.4</td>\n",
              "      <td>5.0</td>\n",
              "      <td>16.5</td>\n",
              "      <td>1.5</td>\n",
              "      <td>66.6</td>\n",
              "      <td>42.9</td>\n",
              "      <td>0.01</td>\n",
              "      <td>94.3</td>\n",
              "      <td>3.5</td>\n",
              "      <td>24.0</td>\n",
              "      <td>28.8</td>\n",
              "      <td>53.4</td>\n",
              "    </tr>\n",
              "    <tr>\n",
              "      <th>114066</th>\n",
              "      <td>171680</td>\n",
              "      <td>2020-11-17 16:49:12</td>\n",
              "      <td>Linknyc</td>\n",
              "      <td>DOITT</td>\n",
              "      <td>4 MANHATTAN</td>\n",
              "      <td>40.743605</td>\n",
              "      <td>-73.999726</td>\n",
              "      <td>damaged defective</td>\n",
              "      <td>MANHATTAN</td>\n",
              "      <td>2020-11-17</td>\n",
              "      <td>11</td>\n",
              "      <td>1</td>\n",
              "      <td>16</td>\n",
              "      <td>38</td>\n",
              "      <td>2</td>\n",
              "      <td>7</td>\n",
              "      <td>29</td>\n",
              "      <td>18.1</td>\n",
              "      <td>4.0</td>\n",
              "      <td>7.2</td>\n",
              "      <td>6.4</td>\n",
              "      <td>3.8</td>\n",
              "      <td>3.0</td>\n",
              "      <td>2.9</td>\n",
              "      <td>2.3</td>\n",
              "      <td>2.7</td>\n",
              "      <td>2.7</td>\n",
              "      <td>1.1</td>\n",
              "      <td>3.3</td>\n",
              "      <td>7.2</td>\n",
              "      <td>4.8</td>\n",
              "      <td>3.9</td>\n",
              "      <td>3.6</td>\n",
              "      <td>3.7</td>\n",
              "      <td>3.1</td>\n",
              "      <td>8.2</td>\n",
              "      <td>13.4</td>\n",
              "      <td>3417</td>\n",
              "      <td>70</td>\n",
              "      <td>59.1</td>\n",
              "      <td>5.2</td>\n",
              "      <td>17.2</td>\n",
              "      <td>3.0</td>\n",
              "      <td>15.5</td>\n",
              "      <td>26.7</td>\n",
              "      <td>0.18</td>\n",
              "      <td>95.6</td>\n",
              "      <td>3.5</td>\n",
              "      <td>11.3</td>\n",
              "      <td>15.8</td>\n",
              "      <td>33.9</td>\n",
              "    </tr>\n",
              "    <tr>\n",
              "      <th>114067</th>\n",
              "      <td>306584</td>\n",
              "      <td>2020-06-18 13:35:15</td>\n",
              "      <td>Public Payphone Complaint</td>\n",
              "      <td>DOITT</td>\n",
              "      <td>5 MANHATTAN</td>\n",
              "      <td>40.763025</td>\n",
              "      <td>-73.978139</td>\n",
              "      <td>no dial tone</td>\n",
              "      <td>MANHATTAN</td>\n",
              "      <td>2020-06-18</td>\n",
              "      <td>6</td>\n",
              "      <td>3</td>\n",
              "      <td>13</td>\n",
              "      <td>23</td>\n",
              "      <td>7</td>\n",
              "      <td>3</td>\n",
              "      <td>13</td>\n",
              "      <td>29.4</td>\n",
              "      <td>4.0</td>\n",
              "      <td>7.2</td>\n",
              "      <td>6.4</td>\n",
              "      <td>3.8</td>\n",
              "      <td>3.0</td>\n",
              "      <td>2.9</td>\n",
              "      <td>2.3</td>\n",
              "      <td>2.7</td>\n",
              "      <td>2.7</td>\n",
              "      <td>1.1</td>\n",
              "      <td>3.3</td>\n",
              "      <td>7.2</td>\n",
              "      <td>4.8</td>\n",
              "      <td>3.9</td>\n",
              "      <td>3.6</td>\n",
              "      <td>3.7</td>\n",
              "      <td>3.1</td>\n",
              "      <td>8.2</td>\n",
              "      <td>13.4</td>\n",
              "      <td>3018</td>\n",
              "      <td>109</td>\n",
              "      <td>59.1</td>\n",
              "      <td>5.2</td>\n",
              "      <td>17.2</td>\n",
              "      <td>3.0</td>\n",
              "      <td>15.5</td>\n",
              "      <td>26.7</td>\n",
              "      <td>0.17</td>\n",
              "      <td>94.4</td>\n",
              "      <td>3.5</td>\n",
              "      <td>11.3</td>\n",
              "      <td>15.8</td>\n",
              "      <td>33.9</td>\n",
              "    </tr>\n",
              "    <tr>\n",
              "      <th>114068</th>\n",
              "      <td>459783</td>\n",
              "      <td>2020-08-17 09:46:23</td>\n",
              "      <td>Public Payphone Complaint</td>\n",
              "      <td>DOITT</td>\n",
              "      <td>3 MANHATTAN</td>\n",
              "      <td>40.717612</td>\n",
              "      <td>-73.992035</td>\n",
              "      <td>graffiti litter on phone</td>\n",
              "      <td>MANHATTAN</td>\n",
              "      <td>2020-08-17</td>\n",
              "      <td>8</td>\n",
              "      <td>0</td>\n",
              "      <td>9</td>\n",
              "      <td>41</td>\n",
              "      <td>5</td>\n",
              "      <td>13</td>\n",
              "      <td>42</td>\n",
              "      <td>15.2</td>\n",
              "      <td>4.2</td>\n",
              "      <td>6.4</td>\n",
              "      <td>4.1</td>\n",
              "      <td>3.2</td>\n",
              "      <td>3.0</td>\n",
              "      <td>3.2</td>\n",
              "      <td>2.8</td>\n",
              "      <td>3.3</td>\n",
              "      <td>3.4</td>\n",
              "      <td>2.5</td>\n",
              "      <td>3.7</td>\n",
              "      <td>5.6</td>\n",
              "      <td>2.9</td>\n",
              "      <td>3.3</td>\n",
              "      <td>3.0</td>\n",
              "      <td>2.8</td>\n",
              "      <td>2.5</td>\n",
              "      <td>11.4</td>\n",
              "      <td>17.9</td>\n",
              "      <td>4259</td>\n",
              "      <td>109</td>\n",
              "      <td>33.3</td>\n",
              "      <td>8.4</td>\n",
              "      <td>30.6</td>\n",
              "      <td>2.6</td>\n",
              "      <td>25.1</td>\n",
              "      <td>31.3</td>\n",
              "      <td>-0.01</td>\n",
              "      <td>91.0</td>\n",
              "      <td>3.6</td>\n",
              "      <td>19.3</td>\n",
              "      <td>15.8</td>\n",
              "      <td>38.4</td>\n",
              "    </tr>\n",
              "  </tbody>\n",
              "</table>\n",
              "<p>114069 rows × 51 columns</p>\n",
              "</div>"
            ],
            "text/plain": [
              "          index         created_date  ... lep_rate_boro pct_hh_rent_burd\n",
              "0        383700  2020-10-02 10:07:39  ...          23.6             48.1\n",
              "1        164754  2020-09-15 11:47:20  ...          15.8             33.9\n",
              "2       1301458  2020-07-02 15:02:08  ...          23.6             28.8\n",
              "3        661127  2020-08-29 15:41:01  ...          28.8             46.9\n",
              "4        252987  2020-06-04 13:20:26  ...          23.6             49.9\n",
              "...         ...                  ...  ...           ...              ...\n",
              "114064  1003068  2020-09-29 14:16:21  ...          15.8             30.1\n",
              "114065   877336  2020-07-25 11:52:58  ...          28.8             53.4\n",
              "114066   171680  2020-11-17 16:49:12  ...          15.8             33.9\n",
              "114067   306584  2020-06-18 13:35:15  ...          15.8             33.9\n",
              "114068   459783  2020-08-17 09:46:23  ...          15.8             38.4\n",
              "\n",
              "[114069 rows x 51 columns]"
            ]
          },
          "metadata": {
            "tags": []
          },
          "execution_count": 14
        }
      ]
    },
    {
      "cell_type": "markdown",
      "metadata": {
        "id": "VJ-R1hGCuT4P"
      },
      "source": [
        "In order for the model to be tested on new data, it should have exposure to every unique descriptor in the dataset. The below code creates a list of every item in the original dataframe's unique descriptors that is not found in the sample dataframe."
      ]
    },
    {
      "cell_type": "code",
      "metadata": {
        "colab": {
          "base_uri": "https://localhost:8080/"
        },
        "id": "LCKQkzBWcAJy",
        "outputId": "33a489e6-8644-4afd-c0cd-bcf0fb36cdc0"
      },
      "source": [
        "descriptors_not_in_sample = []\n",
        "\n",
        "#update above list with descriptors that aren't in the sample \n",
        "for i in df.descriptor.unique():\n",
        "  if i not in weighted_df.descriptor.unique():\n",
        "    descriptors_not_in_sample.append(i)\n",
        "\n",
        "len(descriptors_not_in_sample)"
      ],
      "execution_count": 15,
      "outputs": [
        {
          "output_type": "execute_result",
          "data": {
            "text/plain": [
              "168"
            ]
          },
          "metadata": {
            "tags": []
          },
          "execution_count": 15
        }
      ]
    },
    {
      "cell_type": "markdown",
      "metadata": {
        "id": "Iim78erDu8if"
      },
      "source": [
        "The list above captures many of the less common descriptors that were not captured in the sample data, including most descriptors associated with minority agencies. Below, we create a dataframe with all calls that match these descriptors and concatenate them with the weighted sample dataframe."
      ]
    },
    {
      "cell_type": "code",
      "metadata": {
        "id": "zdZUiYEveDap"
      },
      "source": [
        "\n",
        "descriptors_not_in_sample_df = df[df.descriptor.isin(descriptors_not_in_sample)]"
      ],
      "execution_count": 16,
      "outputs": []
    },
    {
      "cell_type": "code",
      "metadata": {
        "id": "XTy5NgSAezLu"
      },
      "source": [
        "weighted_df = pd.concat([weighted_df,\n",
        "                         descriptors_not_in_sample_df])\n",
        "weighted_df.reset_index(inplace=True)"
      ],
      "execution_count": 17,
      "outputs": []
    },
    {
      "cell_type": "code",
      "metadata": {
        "colab": {
          "base_uri": "https://localhost:8080/"
        },
        "id": "Ka9F8jA5b1xJ",
        "outputId": "02010227-81b4-4365-c520-8a24ea2633ce"
      },
      "source": [
        "#confirm that the number of unique descriptors is the same for both dataframes\n",
        "len(weighted_df.descriptor.unique()) == len(df.descriptor.unique())"
      ],
      "execution_count": 18,
      "outputs": [
        {
          "output_type": "execute_result",
          "data": {
            "text/plain": [
              "True"
            ]
          },
          "metadata": {
            "tags": []
          },
          "execution_count": 18
        }
      ]
    },
    {
      "cell_type": "markdown",
      "metadata": {
        "id": "7G-L7vYfTWXO"
      },
      "source": [
        "The classes remain imbalanced, but no agency is represented by only a handful of samples, as would have been the case with simple random sampling:"
      ]
    },
    {
      "cell_type": "code",
      "metadata": {
        "colab": {
          "base_uri": "https://localhost:8080/"
        },
        "id": "iJ_kfxRaDU69",
        "outputId": "6eebc8b2-d7c7-4df7-e78a-5b784b874cce"
      },
      "source": [
        "weighted_df.agency.value_counts()"
      ],
      "execution_count": 19,
      "outputs": [
        {
          "output_type": "execute_result",
          "data": {
            "text/plain": [
              "NYPD     60042\n",
              "HPD      14521\n",
              "DPR       9556\n",
              "DOT       6999\n",
              "DEP       6684\n",
              "DSNY      5022\n",
              "OSE       3787\n",
              "DOB       3618\n",
              "DOHMH     2675\n",
              "DCA        978\n",
              "EDC        474\n",
              "TLC        412\n",
              "DOE         53\n",
              "DOITT       37\n",
              "Name: agency, dtype: int64"
            ]
          },
          "metadata": {
            "tags": []
          },
          "execution_count": 19
        }
      ]
    },
    {
      "cell_type": "markdown",
      "metadata": {
        "id": "0Xxzm3adUPw4"
      },
      "source": [
        "# Keras Neural Network"
      ]
    },
    {
      "cell_type": "markdown",
      "metadata": {
        "id": "mEdxA7s6wc6X"
      },
      "source": [
        "## Preparing the Training and Test Data"
      ]
    },
    {
      "cell_type": "markdown",
      "metadata": {
        "id": "rQ45Wmxxwhg0"
      },
      "source": [
        "Using the dataframe of weighted samples, we assign 'X' to the descriptor column and 'y' to the agency column. "
      ]
    },
    {
      "cell_type": "code",
      "metadata": {
        "id": "XuDY4PxXbCXy"
      },
      "source": [
        "X = weighted_df.descriptor\n",
        "y = weighted_df.agency"
      ],
      "execution_count": 20,
      "outputs": []
    },
    {
      "cell_type": "markdown",
      "metadata": {
        "id": "vWtSr0A5w3qD"
      },
      "source": [
        "The [Keras Tokenizer](https://www.tensorflow.org/api_docs/python/tf/keras/preprocessing/text/Tokenizer) `fit_on_texts()` method, used below, \"updates internal vocabulary based on a list of texts.\" In this case, the list of texts is all descriptors in the weighted sample. The `texts_to_matrix()` method converts the list of texts to a NumPy matrix. Specifying the mode \"binary\" means that only the presence or absence of each item in the tokenizer's vocabulary will be accounted for in the matrix."
      ]
    },
    {
      "cell_type": "code",
      "metadata": {
        "id": "0q7gzxcYgyQ2"
      },
      "source": [
        "descriptors = X\n",
        "tokenizer = Tokenizer() \n",
        "\n",
        "tokenizer.fit_on_texts(descriptors) \n",
        "descriptor_onehot = tokenizer.texts_to_matrix(descriptors, mode='binary')\n",
        "word_index = tokenizer.word_index"
      ],
      "execution_count": 21,
      "outputs": []
    },
    {
      "cell_type": "markdown",
      "metadata": {
        "id": "yQMyujM_-goW"
      },
      "source": [
        "The word index is a dictionary that contains words in the tokenizer's vocabulary as keys, and integers that correspond to the keys' frequency rank as values. The first ten items of the dictionary are printed below, and we can see that the most frequent words have the lowest values. The highest value in the dictionary is 1114."
      ]
    },
    {
      "cell_type": "code",
      "metadata": {
        "colab": {
          "base_uri": "https://localhost:8080/"
        },
        "id": "tqSVnoIz3KfY",
        "outputId": "d23ec0fa-bcb1-4aa0-d4ea-d04b3252132f"
      },
      "source": [
        "print(list(word_index.items())[0:10])\n",
        "print('Max:', max(word_index.values()))"
      ],
      "execution_count": 22,
      "outputs": [
        {
          "output_type": "stream",
          "text": [
            "[('music', 1), ('loud', 2), ('party', 3), ('access', 4), ('no', 5), ('blocked', 6), ('hydrant', 7), ('truck', 8), ('car', 9), ('in', 10)]\n",
            "Max: 1114\n"
          ],
          "name": "stdout"
        }
      ]
    },
    {
      "cell_type": "markdown",
      "metadata": {
        "id": "58-ghEfZB5Hn"
      },
      "source": [
        "The content and shape of the one-hot encoded descriptors are displayed below."
      ]
    },
    {
      "cell_type": "code",
      "metadata": {
        "colab": {
          "base_uri": "https://localhost:8080/",
          "height": 158
        },
        "id": "W1L7LoTr3fA8",
        "outputId": "0b96047b-556e-4a0a-c0c3-a7398322ee35"
      },
      "source": [
        "display(descriptor_onehot)\n",
        "\n",
        "print('Shape:', descriptor_onehot.shape)"
      ],
      "execution_count": 23,
      "outputs": [
        {
          "output_type": "display_data",
          "data": {
            "text/plain": [
              "array([[0., 0., 0., ..., 0., 0., 0.],\n",
              "       [0., 0., 0., ..., 0., 0., 0.],\n",
              "       [0., 0., 0., ..., 0., 0., 0.],\n",
              "       ...,\n",
              "       [0., 0., 0., ..., 0., 0., 0.],\n",
              "       [0., 0., 0., ..., 0., 0., 0.],\n",
              "       [0., 0., 0., ..., 0., 0., 0.]])"
            ]
          },
          "metadata": {
            "tags": []
          }
        },
        {
          "output_type": "stream",
          "text": [
            "Shape: (114858, 1115)\n"
          ],
          "name": "stdout"
        }
      ]
    },
    {
      "cell_type": "markdown",
      "metadata": {
        "id": "NWO_IAYWC4Mc"
      },
      "source": [
        "The number of rows is the same as the number of rows in X, and correspond to an individual call:"
      ]
    },
    {
      "cell_type": "code",
      "metadata": {
        "colab": {
          "base_uri": "https://localhost:8080/"
        },
        "id": "1zOwlHkJCtrZ",
        "outputId": "1f52b314-08db-42dd-a155-db45434702d4"
      },
      "source": [
        "X.shape"
      ],
      "execution_count": 24,
      "outputs": [
        {
          "output_type": "execute_result",
          "data": {
            "text/plain": [
              "(114858,)"
            ]
          },
          "metadata": {
            "tags": []
          },
          "execution_count": 24
        }
      ]
    },
    {
      "cell_type": "markdown",
      "metadata": {
        "id": "KEr1U7bzDknt"
      },
      "source": [
        "Each column corresponds to one of 1,110 words in the tokenizer's vocabulary. If the word for a column is present in a given call's descriptor, its value at the call's corresponding row will be '1.' Otherwise, it will be '0.'"
      ]
    },
    {
      "cell_type": "markdown",
      "metadata": {
        "id": "EIw59i2XFJ12"
      },
      "source": [
        "The label encoder used below assigns a unique integer to each of the categories in the agency column. The [keras.utils.to_categorical\n",
        "](https://www.tensorflow.org/api_docs/python/tf/keras/utils/to_categorical) method \"converts a class vector (integers) to binary class matrix.\""
      ]
    },
    {
      "cell_type": "code",
      "metadata": {
        "id": "cJGOuSOohgMX"
      },
      "source": [
        "agency = y\n",
        "\n",
        "le = preprocessing.LabelEncoder() \n",
        "le.fit(agency)\n",
        "agency_cat = le.transform(agency)  \n",
        "agency_onehot = to_categorical(agency_cat)"
      ],
      "execution_count": 25,
      "outputs": []
    },
    {
      "cell_type": "markdown",
      "metadata": {
        "id": "BitB8V1fKuFb"
      },
      "source": [
        "Let's examine the content and shape of the encoded agency data:"
      ]
    },
    {
      "cell_type": "code",
      "metadata": {
        "colab": {
          "base_uri": "https://localhost:8080/",
          "height": 158
        },
        "id": "XGhGFhjcKYHQ",
        "outputId": "c19e9fe2-42a4-4210-9d33-01430d955141"
      },
      "source": [
        "display(agency_onehot)\n",
        "print('Shape:', agency_onehot.shape)"
      ],
      "execution_count": 26,
      "outputs": [
        {
          "output_type": "display_data",
          "data": {
            "text/plain": [
              "array([[0., 0., 1., ..., 0., 0., 0.],\n",
              "       [0., 0., 1., ..., 0., 0., 0.],\n",
              "       [0., 0., 1., ..., 0., 0., 0.],\n",
              "       ...,\n",
              "       [0., 0., 0., ..., 0., 0., 0.],\n",
              "       [0., 0., 0., ..., 0., 0., 0.],\n",
              "       [0., 0., 0., ..., 0., 0., 0.]], dtype=float32)"
            ]
          },
          "metadata": {
            "tags": []
          }
        },
        {
          "output_type": "stream",
          "text": [
            "Shape: (114858, 14)\n"
          ],
          "name": "stdout"
        }
      ]
    },
    {
      "cell_type": "markdown",
      "metadata": {
        "id": "fe7mqmR7QA6y"
      },
      "source": [
        "Each row corresponds to a call, and each column corresponds to an agency. The value in a given cell indicates whether the agency in its column either responded ('1'), or did not respond ('0'), to the call in its row.\n",
        "\n",
        "Now that both X and y have been encoded, we'll create a random split of training and test data."
      ]
    },
    {
      "cell_type": "code",
      "metadata": {
        "id": "w17CTxizTvsS"
      },
      "source": [
        "test, train, label_test, label_train = train_test_split(descriptor_onehot, agency_onehot, test_size=.1, random_state=6)"
      ],
      "execution_count": 27,
      "outputs": []
    },
    {
      "cell_type": "markdown",
      "metadata": {
        "id": "fcydqkeWxrQt"
      },
      "source": [
        "## Baseline Model"
      ]
    },
    {
      "cell_type": "markdown",
      "metadata": {
        "id": "fQ7LdKjaI-kH"
      },
      "source": [
        "We'll start with a baseline model before writing a function to assess how different parameters affect the model's performance. For all of the models, we'll use the \"categorical crossentropy\" loss function, which is appropriate for multiclass classification. Accuracy will also be the performance metric used for each model, but our interpretation of the accuracy should be informed by the large number of classes and significant class imbalance."
      ]
    },
    {
      "cell_type": "code",
      "metadata": {
        "id": "xkP7CC257B1v"
      },
      "source": [
        "model1 = models.Sequential()\n",
        "\n",
        "model1.add(layers.Dense(50, activation='relu', input_shape=(test.shape[1],)))\n",
        "model1.add(layers.Dense(25, activation='relu'))\n",
        "model1.add(layers.Dense(14, activation='softmax'))\n",
        "\n",
        "\n",
        "opt = tf.keras.optimizers.SGD(learning_rate=0.001)\n",
        "model1.compile(optimizer=opt,\n",
        "              loss='categorical_crossentropy',\n",
        "              metrics=['acc'])"
      ],
      "execution_count": 28,
      "outputs": []
    },
    {
      "cell_type": "markdown",
      "metadata": {
        "id": "889WTz47R5_A"
      },
      "source": [
        "To avoid overfitting the model to the training data, we'll add the `validation_split` parameter, and an early stopping callback that monitors validation loss, to our fit function."
      ]
    },
    {
      "cell_type": "code",
      "metadata": {
        "colab": {
          "base_uri": "https://localhost:8080/"
        },
        "id": "cRgLsdFd7enu",
        "outputId": "f26191e0-bce1-42d2-acbe-6fe7efd75e52"
      },
      "source": [
        "es = keras.callbacks.EarlyStopping(monitor='val_loss', patience=5)\n",
        "\n",
        "history = model1.fit(train,\n",
        "                    label_train,\n",
        "                    validation_split=0.20,\n",
        "                    epochs=62,\n",
        "                    batch_size=32,\n",
        "                    callbacks=[es])"
      ],
      "execution_count": 29,
      "outputs": [
        {
          "output_type": "stream",
          "text": [
            "Epoch 1/62\n",
            "288/288 [==============================] - 1s 3ms/step - loss: 2.5534 - acc: 0.4877 - val_loss: 2.4941 - val_acc: 0.5109\n",
            "Epoch 2/62\n",
            "288/288 [==============================] - 1s 2ms/step - loss: 2.4278 - acc: 0.5215 - val_loss: 2.3713 - val_acc: 0.5109\n",
            "Epoch 3/62\n",
            "288/288 [==============================] - 1s 2ms/step - loss: 2.3006 - acc: 0.5215 - val_loss: 2.2430 - val_acc: 0.5109\n",
            "Epoch 4/62\n",
            "288/288 [==============================] - 1s 2ms/step - loss: 2.1633 - acc: 0.5215 - val_loss: 2.1039 - val_acc: 0.5109\n",
            "Epoch 5/62\n",
            "288/288 [==============================] - 1s 2ms/step - loss: 2.0177 - acc: 0.5215 - val_loss: 1.9634 - val_acc: 0.5109\n",
            "Epoch 6/62\n",
            "288/288 [==============================] - 1s 2ms/step - loss: 1.8843 - acc: 0.5215 - val_loss: 1.8488 - val_acc: 0.5109\n",
            "Epoch 7/62\n",
            "288/288 [==============================] - 1s 2ms/step - loss: 1.7839 - acc: 0.5215 - val_loss: 1.7688 - val_acc: 0.5109\n",
            "Epoch 8/62\n",
            "288/288 [==============================] - 1s 2ms/step - loss: 1.7156 - acc: 0.5215 - val_loss: 1.7152 - val_acc: 0.5109\n",
            "Epoch 9/62\n",
            "288/288 [==============================] - 1s 2ms/step - loss: 1.6682 - acc: 0.5215 - val_loss: 1.6755 - val_acc: 0.5109\n",
            "Epoch 10/62\n",
            "288/288 [==============================] - 1s 2ms/step - loss: 1.6313 - acc: 0.5215 - val_loss: 1.6427 - val_acc: 0.5109\n",
            "Epoch 11/62\n",
            "288/288 [==============================] - 1s 2ms/step - loss: 1.6001 - acc: 0.5215 - val_loss: 1.6140 - val_acc: 0.5109\n",
            "Epoch 12/62\n",
            "288/288 [==============================] - 1s 2ms/step - loss: 1.5723 - acc: 0.5215 - val_loss: 1.5881 - val_acc: 0.5109\n",
            "Epoch 13/62\n",
            "288/288 [==============================] - 1s 2ms/step - loss: 1.5471 - acc: 0.5215 - val_loss: 1.5644 - val_acc: 0.5109\n",
            "Epoch 14/62\n",
            "288/288 [==============================] - 1s 2ms/step - loss: 1.5238 - acc: 0.5215 - val_loss: 1.5423 - val_acc: 0.5109\n",
            "Epoch 15/62\n",
            "288/288 [==============================] - 1s 2ms/step - loss: 1.5020 - acc: 0.5215 - val_loss: 1.5213 - val_acc: 0.5109\n",
            "Epoch 16/62\n",
            "288/288 [==============================] - 1s 2ms/step - loss: 1.4812 - acc: 0.5215 - val_loss: 1.5013 - val_acc: 0.5109\n",
            "Epoch 17/62\n",
            "288/288 [==============================] - 1s 2ms/step - loss: 1.4614 - acc: 0.5215 - val_loss: 1.4821 - val_acc: 0.5109\n",
            "Epoch 18/62\n",
            "288/288 [==============================] - 1s 2ms/step - loss: 1.4424 - acc: 0.5215 - val_loss: 1.4637 - val_acc: 0.5109\n",
            "Epoch 19/62\n",
            "288/288 [==============================] - 1s 2ms/step - loss: 1.4242 - acc: 0.5215 - val_loss: 1.4459 - val_acc: 0.5109\n",
            "Epoch 20/62\n",
            "288/288 [==============================] - 1s 2ms/step - loss: 1.4065 - acc: 0.5215 - val_loss: 1.4286 - val_acc: 0.5109\n",
            "Epoch 21/62\n",
            "288/288 [==============================] - 1s 2ms/step - loss: 1.3892 - acc: 0.5215 - val_loss: 1.4116 - val_acc: 0.5109\n",
            "Epoch 22/62\n",
            "288/288 [==============================] - 1s 2ms/step - loss: 1.3726 - acc: 0.5215 - val_loss: 1.3953 - val_acc: 0.5109\n",
            "Epoch 23/62\n",
            "288/288 [==============================] - 1s 2ms/step - loss: 1.3566 - acc: 0.5215 - val_loss: 1.3795 - val_acc: 0.5109\n",
            "Epoch 24/62\n",
            "288/288 [==============================] - 1s 2ms/step - loss: 1.3410 - acc: 0.5215 - val_loss: 1.3643 - val_acc: 0.5109\n",
            "Epoch 25/62\n",
            "288/288 [==============================] - 1s 2ms/step - loss: 1.3261 - acc: 0.5215 - val_loss: 1.3496 - val_acc: 0.5109\n",
            "Epoch 26/62\n",
            "288/288 [==============================] - 1s 2ms/step - loss: 1.3116 - acc: 0.5215 - val_loss: 1.3354 - val_acc: 0.5109\n",
            "Epoch 27/62\n",
            "288/288 [==============================] - 1s 2ms/step - loss: 1.2975 - acc: 0.5215 - val_loss: 1.3216 - val_acc: 0.5109\n",
            "Epoch 28/62\n",
            "288/288 [==============================] - 1s 2ms/step - loss: 1.2840 - acc: 0.5247 - val_loss: 1.3083 - val_acc: 0.5335\n",
            "Epoch 29/62\n",
            "288/288 [==============================] - 1s 2ms/step - loss: 1.2710 - acc: 0.5409 - val_loss: 1.2955 - val_acc: 0.5335\n",
            "Epoch 30/62\n",
            "288/288 [==============================] - 1s 2ms/step - loss: 1.2583 - acc: 0.5409 - val_loss: 1.2831 - val_acc: 0.5335\n",
            "Epoch 31/62\n",
            "288/288 [==============================] - 1s 2ms/step - loss: 1.2461 - acc: 0.5409 - val_loss: 1.2710 - val_acc: 0.5335\n",
            "Epoch 32/62\n",
            "288/288 [==============================] - 1s 2ms/step - loss: 1.2342 - acc: 0.5489 - val_loss: 1.2593 - val_acc: 0.5492\n",
            "Epoch 33/62\n",
            "288/288 [==============================] - 1s 2ms/step - loss: 1.2227 - acc: 0.5595 - val_loss: 1.2479 - val_acc: 0.5500\n",
            "Epoch 34/62\n",
            "288/288 [==============================] - 1s 2ms/step - loss: 1.2115 - acc: 0.5697 - val_loss: 1.2369 - val_acc: 0.5714\n",
            "Epoch 35/62\n",
            "288/288 [==============================] - 1s 2ms/step - loss: 1.2007 - acc: 0.5902 - val_loss: 1.2262 - val_acc: 0.5788\n",
            "Epoch 36/62\n",
            "288/288 [==============================] - 1s 2ms/step - loss: 1.1902 - acc: 0.5945 - val_loss: 1.2158 - val_acc: 0.5783\n",
            "Epoch 37/62\n",
            "288/288 [==============================] - 1s 2ms/step - loss: 1.1800 - acc: 0.5963 - val_loss: 1.2058 - val_acc: 0.5818\n",
            "Epoch 38/62\n",
            "288/288 [==============================] - 1s 2ms/step - loss: 1.1701 - acc: 0.6075 - val_loss: 1.1960 - val_acc: 0.6118\n",
            "Epoch 39/62\n",
            "288/288 [==============================] - 1s 2ms/step - loss: 1.1605 - acc: 0.6293 - val_loss: 1.1865 - val_acc: 0.6158\n",
            "Epoch 40/62\n",
            "288/288 [==============================] - 1s 2ms/step - loss: 1.1512 - acc: 0.6331 - val_loss: 1.1772 - val_acc: 0.6232\n",
            "Epoch 41/62\n",
            "288/288 [==============================] - 1s 2ms/step - loss: 1.1421 - acc: 0.6357 - val_loss: 1.1682 - val_acc: 0.6232\n",
            "Epoch 42/62\n",
            "288/288 [==============================] - 1s 2ms/step - loss: 1.1333 - acc: 0.6369 - val_loss: 1.1595 - val_acc: 0.6232\n",
            "Epoch 43/62\n",
            "288/288 [==============================] - 1s 2ms/step - loss: 1.1247 - acc: 0.6369 - val_loss: 1.1509 - val_acc: 0.6214\n",
            "Epoch 44/62\n",
            "288/288 [==============================] - 1s 2ms/step - loss: 1.1163 - acc: 0.6391 - val_loss: 1.1425 - val_acc: 0.6236\n",
            "Epoch 45/62\n",
            "288/288 [==============================] - 1s 2ms/step - loss: 1.1081 - acc: 0.6397 - val_loss: 1.1344 - val_acc: 0.6271\n",
            "Epoch 46/62\n",
            "288/288 [==============================] - 1s 2ms/step - loss: 1.1001 - acc: 0.6421 - val_loss: 1.1264 - val_acc: 0.6284\n",
            "Epoch 47/62\n",
            "288/288 [==============================] - 1s 2ms/step - loss: 1.0923 - acc: 0.6420 - val_loss: 1.1185 - val_acc: 0.6292\n",
            "Epoch 48/62\n",
            "288/288 [==============================] - 1s 2ms/step - loss: 1.0847 - acc: 0.6419 - val_loss: 1.1108 - val_acc: 0.6275\n",
            "Epoch 49/62\n",
            "288/288 [==============================] - 1s 2ms/step - loss: 1.0772 - acc: 0.6412 - val_loss: 1.1032 - val_acc: 0.6275\n",
            "Epoch 50/62\n",
            "288/288 [==============================] - 1s 2ms/step - loss: 1.0698 - acc: 0.6515 - val_loss: 1.0958 - val_acc: 0.6449\n",
            "Epoch 51/62\n",
            "288/288 [==============================] - 1s 2ms/step - loss: 1.0625 - acc: 0.6579 - val_loss: 1.0884 - val_acc: 0.6445\n",
            "Epoch 52/62\n",
            "288/288 [==============================] - 1s 2ms/step - loss: 1.0553 - acc: 0.6574 - val_loss: 1.0811 - val_acc: 0.6445\n",
            "Epoch 53/62\n",
            "288/288 [==============================] - 1s 2ms/step - loss: 1.0482 - acc: 0.6574 - val_loss: 1.0739 - val_acc: 0.6445\n",
            "Epoch 54/62\n",
            "288/288 [==============================] - 1s 2ms/step - loss: 1.0413 - acc: 0.6573 - val_loss: 1.0668 - val_acc: 0.6445\n",
            "Epoch 55/62\n",
            "288/288 [==============================] - 1s 3ms/step - loss: 1.0345 - acc: 0.6573 - val_loss: 1.0597 - val_acc: 0.6445\n",
            "Epoch 56/62\n",
            "288/288 [==============================] - 1s 2ms/step - loss: 1.0276 - acc: 0.6573 - val_loss: 1.0527 - val_acc: 0.6445\n",
            "Epoch 57/62\n",
            "288/288 [==============================] - 1s 2ms/step - loss: 1.0208 - acc: 0.6573 - val_loss: 1.0457 - val_acc: 0.6445\n",
            "Epoch 58/62\n",
            "288/288 [==============================] - 1s 2ms/step - loss: 1.0140 - acc: 0.6571 - val_loss: 1.0386 - val_acc: 0.6445\n",
            "Epoch 59/62\n",
            "288/288 [==============================] - 1s 2ms/step - loss: 1.0072 - acc: 0.6572 - val_loss: 1.0316 - val_acc: 0.6475\n",
            "Epoch 60/62\n",
            "288/288 [==============================] - 1s 2ms/step - loss: 1.0005 - acc: 0.6620 - val_loss: 1.0247 - val_acc: 0.6475\n",
            "Epoch 61/62\n",
            "288/288 [==============================] - 1s 2ms/step - loss: 0.9938 - acc: 0.6697 - val_loss: 1.0178 - val_acc: 0.6636\n",
            "Epoch 62/62\n",
            "288/288 [==============================] - 1s 2ms/step - loss: 0.9871 - acc: 0.6772 - val_loss: 1.0109 - val_acc: 0.6636\n"
          ],
          "name": "stdout"
        }
      ]
    },
    {
      "cell_type": "markdown",
      "metadata": {
        "id": "HXCkp3-l0FRD"
      },
      "source": [
        "Let's look at the model's loss and accuracy score."
      ]
    },
    {
      "cell_type": "code",
      "metadata": {
        "colab": {
          "base_uri": "https://localhost:8080/"
        },
        "id": "Fpz0BAQqKNf9",
        "outputId": "da8fa0e9-970d-45c2-bfbc-84e76c2623b5"
      },
      "source": [
        "results = model1.evaluate(test, label_test, batch_size=32)"
      ],
      "execution_count": 30,
      "outputs": [
        {
          "output_type": "stream",
          "text": [
            "3231/3231 [==============================] - 5s 2ms/step - loss: 0.9842 - acc: 0.6742\n"
          ],
          "name": "stdout"
        }
      ]
    },
    {
      "cell_type": "markdown",
      "metadata": {
        "id": "KRKe8u-B0Nu5"
      },
      "source": [
        "The function below plots the model's loss and accuracy curves, which will provide a better visual sense of how the values for these metrics changed as the number of epochs increased."
      ]
    },
    {
      "cell_type": "code",
      "metadata": {
        "id": "amYF3K8pbej4"
      },
      "source": [
        "def plot_loss_acc(history):\n",
        " \n",
        "  \"\"\"Takes in a Keras history object and returns a 15*6 figure displaying the \n",
        "     model's loss and accuracy curves.\"\"\"\n",
        "\n",
        "\n",
        "  fig, (ax1, ax2) = plt.subplots(nrows=1,\n",
        "                               ncols=2,\n",
        "                               figsize=(15, 6))\n",
        "\n",
        "  ax_font = {'fontsize': 12, 'family': 'serif', \n",
        "             'color': '#58508d', 'weight': 'bold'}\n",
        "  title_font = {'fontsize': 14, 'family': 'serif',\n",
        "                'color': '#58508d', 'weight': 'bold'}\n",
        "\n",
        "\n",
        "  ax1.plot(history.history['acc'], color='#D8A7B1', linewidth=3)\n",
        "  ax1.grid(color='g', linestyle='-', linewidth=.09)\n",
        "  ax1.plot(history.history['val_acc'], color='#05234C', linewidth=3)\n",
        "  ax1.set_title('Model Accuracy', fontdict=title_font)\n",
        "  ax1.set_ylabel('Accuracy', fontdict=ax_font)\n",
        "  ax1.set_xlabel('Number of epochs', fontdict=ax_font)\n",
        "  ax1.legend(['train', 'validation'], loc='upper left')\n",
        "\n",
        "\n",
        "  ax2.plot(history.history['loss'], color='#D8A7B1', linewidth=3)\n",
        "  ax2.grid(color='g', linestyle='-', linewidth=.09)\n",
        "  ax2.plot(history.history['val_loss'], color='#05234C', linewidth=3)\n",
        "  ax2.set_title('Model Loss', fontdict=title_font)\n",
        "  ax2.set_ylabel('Loss', fontdict=ax_font)\n",
        "  ax2.set_xlabel('Number of epochs', fontdict=ax_font)\n",
        "  ax2.legend(['train', 'validation'], loc='upper right')\n",
        "\n",
        "  fig.show()"
      ],
      "execution_count": 31,
      "outputs": []
    },
    {
      "cell_type": "code",
      "metadata": {
        "colab": {
          "base_uri": "https://localhost:8080/",
          "height": 407
        },
        "id": "UWoFuBe5hLco",
        "outputId": "9aa1ca45-cb39-455e-ce38-92fbc9625479"
      },
      "source": [
        "plot_loss_acc(history)"
      ],
      "execution_count": 32,
      "outputs": [
        {
          "output_type": "display_data",
          "data": {
            "image/png": "[encoded data removed]",
            "text/plain": [
              "<Figure size 1080x432 with 2 Axes>"
            ]
          },
          "metadata": {
            "tags": [],
            "needs_background": "light"
          }
        }
      ]
    },
    {
      "cell_type": "markdown",
      "metadata": {
        "id": "n4iIKXNU0qcn"
      },
      "source": [
        "The accuracy score improves steadily after 30 epochs, while the loss steadily drops. We'll also create a random subset of the data that has not been resampled to evaluate the model's performance, and apply the same preprocessing steps as above."
      ]
    },
    {
      "cell_type": "code",
      "metadata": {
        "id": "ywhDpnurahU8"
      },
      "source": [
        "random_df = df.sample(len(weighted_df), random_state=6)"
      ],
      "execution_count": 33,
      "outputs": []
    },
    {
      "cell_type": "code",
      "metadata": {
        "colab": {
          "base_uri": "https://localhost:8080/"
        },
        "id": "yuQ8NFhstPu8",
        "outputId": "ba9a1eb9-0496-448d-ddd7-040956630816"
      },
      "source": [
        "descriptors_not_in_sample = []\n",
        "\n",
        "for i in df.descriptor.unique():\n",
        "  if i not in random_df.descriptor.unique():\n",
        "    descriptors_not_in_sample.append(i)\n",
        "\n",
        "descriptors_not_in_sample"
      ],
      "execution_count": 34,
      "outputs": [
        {
          "output_type": "execute_result",
          "data": {
            "text/plain": [
              "['bingo hall',\n",
              " 'waterwaycolor ihd',\n",
              " 'oil, grease in water qd',\n",
              " 'safety inspectionretaining walls may ',\n",
              " 'allergy information',\n",
              " 'other industrial waste problem use comments for dep internal use only iz',\n",
              " 'indoor pool over capacity',\n",
              " 'jewelry appraiser',\n",
              " 'graffiti litter on phone',\n",
              " 'phone blocking sidewalk',\n",
              " 'sediment',\n",
              " 'snake',\n",
              " 'high grass',\n",
              " 'cloudy or milky, other use comments qbz',\n",
              " 'push button',\n",
              " 'cloudy or milky water qb',\n",
              " 'absent',\n",
              " 'inspection work order dob',\n",
              " 'cigarette vending machine',\n",
              " 'mast arm',\n",
              " 'unauthorized posting of signs',\n",
              " 'ped flasher',\n",
              " 'enclosure cap',\n",
              " 'maintenance cover',\n",
              " 'booting company',\n",
              " 'warning signal lamp',\n",
              " 'immigration services',\n",
              " 'oil spill into basin sewer  small iabs',\n",
              " 'roof gutters',\n",
              " 'platform condition',\n",
              " 'manhole cover broken making noise sb',\n",
              " 'dogs or cats not sold',\n",
              " 'bent loose',\n",
              " 'toxic chemical material',\n",
              " 'basement',\n",
              " 'gasoline spill iaa',\n",
              " 'puddle on sidewalk',\n",
              " 'warning signal',\n",
              " 'remove debris',\n",
              " 'plants odor related problems po',\n",
              " 'street con game',\n",
              " 'temporary',\n",
              " 'inadequate support shoring',\n",
              " 'building',\n",
              " 'other water problem use comments qzz',\n",
              " 'shisha',\n",
              " 'used gun dealer',\n",
              " 'natural gas leak *for dep internal use only* hf',\n",
              " 'junction box',\n",
              " 'veh signal lens',\n",
              " 'grocery store',\n",
              " 'plate missing movedexposing hole sb',\n",
              " 'e transfer station',\n",
              " 'defective water sampling station qss',\n",
              " 'use of newly seeded lawn',\n",
              " 'color',\n",
              " 'air: odor fumes, dry cleaners ad',\n",
              " 'disabled device dealer',\n",
              " 'smoking ban  smoking on construction site',\n",
              " 'new automatic public toilet request',\n",
              " 'driver complaint',\n",
              " 'musical instrument',\n",
              " 'sports equipment',\n",
              " ' litter basket   request',\n",
              " 'contamination risk',\n",
              " ' dead animals',\n",
              " 'inattentive',\n",
              " 'user unlicensed',\n",
              " 'amusement ride',\n",
              " 'integrity complaint referral',\n",
              " 'curb violation',\n",
              " 'flood light lamp missing',\n",
              " 'plumbing problem',\n",
              " 'sway bar',\n",
              " 'on messenger',\n",
              " 'b sweeping inadequate',\n",
              " 'eb sidewalk obstruction',\n",
              " 'general bad condition',\n",
              " 'relocation of parking meter',\n",
              " 'ped lens',\n",
              " 'guard rail  bridge',\n",
              " 'catch basin search sc',\n",
              " 'c uncollected xmas trees',\n",
              " 'controller flasher',\n",
              " 'foundation',\n",
              " 'request to open a hydrant wc',\n",
              " 'failure to post calorie information',\n",
              " 'bwso referral to water quality for dep internal use only qbwso',\n",
              " 'snow or ice',\n",
              " 'e street obstruction',\n",
              " 'bikes in buildings',\n",
              " 'going out of business',\n",
              " 'unauthorized film shoot',\n",
              " 'utility cover blocked',\n",
              " 'sidewalk grating  missing',\n",
              " 'exposure unnecessary',\n",
              " 'noise: construction equipment  for dep internal use only ync',\n",
              " 'no dial tone',\n",
              " 'graffiti dirty condition',\n",
              " 'puddle on roof',\n",
              " 'not certified',\n",
              " 'illegal air conditioning during drought cjo',\n",
              " 'plumbing',\n",
              " 'contrary to ll  handicapped access',\n",
              " 'cp employee behaviorbcc',\n",
              " 'conflict monitor',\n",
              " 'monkey',\n",
              " 'broken window',\n",
              " 'a sweeping missed',\n",
              " 'flood light lamp dayburning',\n",
              " 'remove stump',\n",
              " 'e throwout',\n",
              " 'do not block the box',\n",
              " 'fire globe missing',\n",
              " 'bracket arm broken',\n",
              " 'vocational or trade school',\n",
              " 'hitting phone cable lines',\n",
              " 'swimming pool cover',\n",
              " 'professional photographer',\n",
              " 'warning buzzer',\n",
              " 'taste',\n",
              " 'outlet cover',\n",
              " ' dsny spillage',\n",
              " 'ferret',\n",
              " 'fountain  over  gallons',\n",
              " 'no idling',\n",
              " 'traffic camera',\n",
              " 'glassware hanging',\n",
              " 'blocked  atm',\n",
              " 'noise: other noise sources use comments nzz',\n",
              " 'noise: loud music daytime mark date and time nn',\n",
              " 'waterwayfloatables ihc',\n",
              " 'suspected street cut',\n",
              " 'controller cabinet',\n",
              " 'facility unregistered',\n",
              " 'defective hardware  dep',\n",
              " 'broken lock',\n",
              " 'lane control signal',\n",
              " 'fire alarm lamp cycling',\n",
              " 'licensee complaint',\n",
              " 'caps & chains missingfire dept use only wkmc',\n",
              " 'bracket arm loose',\n",
              " 'bracket arm bent',\n",
              " 'i street condition icenon storm',\n",
              " 'beach pool sauna unpermitted',\n",
              " 'time clock maladjusted',\n",
              " 'process server',\n",
              " 'milk not pasteurized',\n",
              " 'asphalt around valve box',\n",
              " 'manhole sunken damaged raised sb',\n",
              " 'detector sensor',\n",
              " 'flooded',\n",
              " 'dead end signal',\n",
              " 'defective catch basin',\n",
              " 'flashing hazard',\n",
              " 'e litter surveillance',\n",
              " 'damaged toilet sink',\n",
              " 'equipment malfunction',\n",
              " 'pedestrian sign',\n",
              " 'glassware missing',\n",
              " 'lane station',\n",
              " 'on structure',\n",
              " 'condulet cover',\n",
              " 'defective manhole cover',\n",
              " 'utility company',\n",
              " 'blocking sidewalk',\n",
              " 'asphalt around manhole cover',\n",
              " 'flood light lamp dim',\n",
              " 'reflector louvre',\n",
              " 'too few on duty',\n",
              " 'plants noise related problems pn',\n",
              " 'ticket scalping',\n",
              " 'manhole cover missing emergency for dep internal use only wf',\n",
              " 'technician unlicensed',\n",
              " 'chained bike',\n",
              " 'box cover']"
            ]
          },
          "metadata": {
            "tags": []
          },
          "execution_count": 34
        }
      ]
    },
    {
      "cell_type": "code",
      "metadata": {
        "id": "N5YdojXCtiNf"
      },
      "source": [
        "descriptors_not_in_sample_df = df[df.descriptor.isin(descriptors_not_in_sample)]\n",
        "random_df = pd.concat([random_df, descriptors_not_in_sample_df])\n",
        "random_df.reset_index(inplace=True)"
      ],
      "execution_count": 35,
      "outputs": []
    },
    {
      "cell_type": "code",
      "metadata": {
        "id": "yH94tmTEPgUm"
      },
      "source": [
        "random_X = random_df.descriptor\n",
        "random_y = random_df.agency"
      ],
      "execution_count": 36,
      "outputs": []
    },
    {
      "cell_type": "code",
      "metadata": {
        "id": "-mOrsN1TQRPr"
      },
      "source": [
        "r_descriptors = random_X\n",
        "tokenizer = Tokenizer() \n",
        "\n",
        "tokenizer.fit_on_texts(r_descriptors) \n",
        "r_descriptor_onehot = tokenizer.texts_to_matrix(r_descriptors, mode='binary')\n",
        "word_index = tokenizer.word_index"
      ],
      "execution_count": 185,
      "outputs": []
    },
    {
      "cell_type": "code",
      "metadata": {
        "id": "Q5Ve_W4NQX97"
      },
      "source": [
        "r_agency = random_y\n",
        "\n",
        "le = preprocessing.LabelEncoder() \n",
        "le.fit(r_agency)\n",
        "r_agency_cat = le.transform(r_agency)  \n",
        "r_agency_onehot = to_categorical(r_agency_cat)"
      ],
      "execution_count": 186,
      "outputs": []
    },
    {
      "cell_type": "code",
      "metadata": {
        "id": "c9MwlTriRHt1"
      },
      "source": [
        "test_index = random.sample(range(1,10000), 1500)\n",
        "\n",
        "r_test = r_descriptor_onehot[test_index]\n",
        "r_label_test = r_agency_onehot[test_index]"
      ],
      "execution_count": 187,
      "outputs": []
    },
    {
      "cell_type": "code",
      "metadata": {
        "colab": {
          "base_uri": "https://localhost:8080/"
        },
        "id": "md8FyuC0RVLw",
        "outputId": "6475a6fc-d602-4ee2-8393-3cd80b8867b9"
      },
      "source": [
        "random_results = model1.evaluate(r_descriptor_onehot, r_agency_onehot, batch_size=32)"
      ],
      "execution_count": 40,
      "outputs": [
        {
          "output_type": "stream",
          "text": [
            "3622/3622 [==============================] - 6s 2ms/step - loss: 1.1399 - acc: 0.6294\n"
          ],
          "name": "stdout"
        }
      ]
    },
    {
      "cell_type": "markdown",
      "metadata": {
        "id": "COFR7H471iEo"
      },
      "source": [
        "The model had 62% accuracy on the random sample. This score can be improved by testing different parameters in the model."
      ]
    },
    {
      "cell_type": "markdown",
      "metadata": {
        "id": "9TZA4Zl9x2EZ"
      },
      "source": [
        "## Parameter Tuning"
      ]
    },
    {
      "cell_type": "markdown",
      "metadata": {
        "id": "qpprv5Nh74uC"
      },
      "source": [
        "The function below allows us to create a model and plot its learning history, given the data and a dictionary of parameters."
      ]
    },
    {
      "cell_type": "code",
      "metadata": {
        "id": "t1XAcgaVhHSI"
      },
      "source": [
        "def create_model(X_train, y_train, X_test, y_test, params):\n",
        "    \n",
        "    \"\"\"Takes in training and test data and a dictionary with activation\n",
        "       functions for each of 3 layers, an optimizer, a loss function, \n",
        "       number of epochs and batch size. Plots the model's accuracy and loss\n",
        "       curves for the training and validation data, and prints the accuracy \n",
        "       score for the random sample data. Returns the history and the model.\"\"\"\n",
        "\n",
        "    model = models.Sequential()\n",
        "    model.add(layers.Dense(50, activation=params['activation 1'], \n",
        "                           input_shape=(test.shape[1],)))\n",
        "    model.add(layers.Dense(25, activation=params['activation 2']))\n",
        "    model.add(layers.Dense(14, activation=params['activation 3']))\n",
        "\n",
        "    opt = params['opt']\n",
        "    model.compile(optimizer=opt,\n",
        "              loss=params['loss'],\n",
        "              metrics=['acc'])\n",
        "    \n",
        "    es = keras.callbacks.EarlyStopping(monitor='val_loss', patience=5)\n",
        "    history = model.fit(X_train,\n",
        "                    y_train,\n",
        "                    epochs=params['epochs'],\n",
        "                    batch_size=params['batch_size'],\n",
        "                    validation_split=0.20)\n",
        "    \n",
        "    print(model.summary)\n",
        "\n",
        "    print('Test Accuracy:')\n",
        "    model.evaluate(X_test, y_test, batch_size=params['batch_size'])\n",
        "    \n",
        "    print('Random Sample Accuracy:')\n",
        "    model.evaluate(r_test, r_label_test, batch_size=params['batch_size'])\n",
        "    \n",
        "    plot_loss_acc(history)\n",
        "    \n",
        "    return history, model"
      ],
      "execution_count": 41,
      "outputs": []
    },
    {
      "cell_type": "markdown",
      "metadata": {
        "id": "4jTnHo089K9R"
      },
      "source": [
        "We'll use the function to test out several different sets of parameters, stored in a dictionary as shown below."
      ]
    },
    {
      "cell_type": "code",
      "metadata": {
        "id": "e6QqNu9vI5Bb"
      },
      "source": [
        "model2_params = {'activation 1': 'relu', \n",
        "                 'activation 2': 'softmax', \n",
        "                 'activation 3': 'softmax', \n",
        "                 'opt': keras.optimizers.Adam(lr=0.0001),\n",
        "                 'loss': 'categorical_crossentropy',\n",
        "                 'epochs': 75, \n",
        "                 'batch_size': 16, \n",
        "                 }"
      ],
      "execution_count": 42,
      "outputs": []
    },
    {
      "cell_type": "code",
      "metadata": {
        "colab": {
          "base_uri": "https://localhost:8080/",
          "height": 1000
        },
        "id": "qznZkA3tKeWi",
        "outputId": "386dbdae-bbe8-4ebb-b64b-5b63084b2047"
      },
      "source": [
        "model2_history, model2 = create_model(train, label_train, test, label_test, model2_params)"
      ],
      "execution_count": 43,
      "outputs": [
        {
          "output_type": "stream",
          "text": [
            "Epoch 1/75\n",
            "575/575 [==============================] - 1s 2ms/step - loss: 2.5713 - acc: 0.2788 - val_loss: 2.4859 - val_acc: 0.5113\n",
            "Epoch 2/75\n",
            "575/575 [==============================] - 1s 2ms/step - loss: 2.3708 - acc: 0.5215 - val_loss: 2.2639 - val_acc: 0.5109\n",
            "Epoch 3/75\n",
            "575/575 [==============================] - 1s 2ms/step - loss: 2.1587 - acc: 0.5215 - val_loss: 2.0840 - val_acc: 0.5109\n",
            "Epoch 4/75\n",
            "575/575 [==============================] - 1s 2ms/step - loss: 2.0064 - acc: 0.5512 - val_loss: 1.9529 - val_acc: 0.5527\n",
            "Epoch 5/75\n",
            "575/575 [==============================] - 1s 2ms/step - loss: 1.8843 - acc: 0.5705 - val_loss: 1.8416 - val_acc: 0.5748\n",
            "Epoch 6/75\n",
            "575/575 [==============================] - 1s 2ms/step - loss: 1.7787 - acc: 0.6084 - val_loss: 1.7449 - val_acc: 0.6449\n",
            "Epoch 7/75\n",
            "575/575 [==============================] - 1s 2ms/step - loss: 1.6856 - acc: 0.6911 - val_loss: 1.6580 - val_acc: 0.6989\n",
            "Epoch 8/75\n",
            "575/575 [==============================] - 1s 2ms/step - loss: 1.6003 - acc: 0.7154 - val_loss: 1.5761 - val_acc: 0.7141\n",
            "Epoch 9/75\n",
            "575/575 [==============================] - 1s 2ms/step - loss: 1.5185 - acc: 0.7258 - val_loss: 1.4970 - val_acc: 0.7158\n",
            "Epoch 10/75\n",
            "575/575 [==============================] - 1s 2ms/step - loss: 1.4416 - acc: 0.7267 - val_loss: 1.4252 - val_acc: 0.7167\n",
            "Epoch 11/75\n",
            "575/575 [==============================] - 1s 2ms/step - loss: 1.3729 - acc: 0.7271 - val_loss: 1.3610 - val_acc: 0.7171\n",
            "Epoch 12/75\n",
            "575/575 [==============================] - 1s 2ms/step - loss: 1.3115 - acc: 0.7278 - val_loss: 1.3034 - val_acc: 0.7180\n",
            "Epoch 13/75\n",
            "575/575 [==============================] - 1s 2ms/step - loss: 1.2563 - acc: 0.7280 - val_loss: 1.2515 - val_acc: 0.7180\n",
            "Epoch 14/75\n",
            "575/575 [==============================] - 1s 2ms/step - loss: 1.2065 - acc: 0.7286 - val_loss: 1.2044 - val_acc: 0.7202\n",
            "Epoch 15/75\n",
            "575/575 [==============================] - 1s 2ms/step - loss: 1.1613 - acc: 0.7294 - val_loss: 1.1618 - val_acc: 0.7202\n",
            "Epoch 16/75\n",
            "575/575 [==============================] - 1s 2ms/step - loss: 1.1200 - acc: 0.7619 - val_loss: 1.1220 - val_acc: 0.7681\n",
            "Epoch 17/75\n",
            "575/575 [==============================] - 1s 2ms/step - loss: 1.0780 - acc: 0.7784 - val_loss: 1.0752 - val_acc: 0.7711\n",
            "Epoch 18/75\n",
            "575/575 [==============================] - 1s 2ms/step - loss: 1.0160 - acc: 0.7817 - val_loss: 1.0077 - val_acc: 0.7737\n",
            "Epoch 19/75\n",
            "575/575 [==============================] - 1s 2ms/step - loss: 0.9566 - acc: 0.7845 - val_loss: 0.9574 - val_acc: 0.7746\n",
            "Epoch 20/75\n",
            "575/575 [==============================] - 1s 2ms/step - loss: 0.9099 - acc: 0.7852 - val_loss: 0.9146 - val_acc: 0.7759\n",
            "Epoch 21/75\n",
            "575/575 [==============================] - 1s 2ms/step - loss: 0.8692 - acc: 0.7862 - val_loss: 0.8767 - val_acc: 0.7781\n",
            "Epoch 22/75\n",
            "575/575 [==============================] - 1s 2ms/step - loss: 0.8327 - acc: 0.7884 - val_loss: 0.8420 - val_acc: 0.7781\n",
            "Epoch 23/75\n",
            "575/575 [==============================] - 1s 2ms/step - loss: 0.7994 - acc: 0.7885 - val_loss: 0.8102 - val_acc: 0.7781\n",
            "Epoch 24/75\n",
            "575/575 [==============================] - 1s 2ms/step - loss: 0.7688 - acc: 0.7893 - val_loss: 0.7807 - val_acc: 0.7789\n",
            "Epoch 25/75\n",
            "575/575 [==============================] - 1s 2ms/step - loss: 0.7404 - acc: 0.7904 - val_loss: 0.7533 - val_acc: 0.7811\n",
            "Epoch 26/75\n",
            "575/575 [==============================] - 1s 2ms/step - loss: 0.7141 - acc: 0.7906 - val_loss: 0.7283 - val_acc: 0.7811\n",
            "Epoch 27/75\n",
            "575/575 [==============================] - 1s 2ms/step - loss: 0.6898 - acc: 0.7907 - val_loss: 0.7046 - val_acc: 0.7815\n",
            "Epoch 28/75\n",
            "575/575 [==============================] - 1s 2ms/step - loss: 0.6670 - acc: 0.8221 - val_loss: 0.6825 - val_acc: 0.8316\n",
            "Epoch 29/75\n",
            "575/575 [==============================] - 1s 2ms/step - loss: 0.6458 - acc: 0.8464 - val_loss: 0.6626 - val_acc: 0.8342\n",
            "Epoch 30/75\n",
            "575/575 [==============================] - 1s 2ms/step - loss: 0.6260 - acc: 0.8473 - val_loss: 0.6430 - val_acc: 0.8355\n",
            "Epoch 31/75\n",
            "575/575 [==============================] - 1s 2ms/step - loss: 0.6073 - acc: 0.8483 - val_loss: 0.6252 - val_acc: 0.8355\n",
            "Epoch 32/75\n",
            "575/575 [==============================] - 1s 2ms/step - loss: 0.5898 - acc: 0.8485 - val_loss: 0.6082 - val_acc: 0.8359\n",
            "Epoch 33/75\n",
            "575/575 [==============================] - 1s 2ms/step - loss: 0.5733 - acc: 0.8488 - val_loss: 0.5922 - val_acc: 0.8359\n",
            "Epoch 34/75\n",
            "575/575 [==============================] - 1s 2ms/step - loss: 0.5579 - acc: 0.8488 - val_loss: 0.5771 - val_acc: 0.8368\n",
            "Epoch 35/75\n",
            "575/575 [==============================] - 1s 2ms/step - loss: 0.5433 - acc: 0.8492 - val_loss: 0.5635 - val_acc: 0.8372\n",
            "Epoch 36/75\n",
            "575/575 [==============================] - 1s 2ms/step - loss: 0.5298 - acc: 0.8493 - val_loss: 0.5500 - val_acc: 0.8372\n",
            "Epoch 37/75\n",
            "575/575 [==============================] - 1s 2ms/step - loss: 0.5168 - acc: 0.8493 - val_loss: 0.5378 - val_acc: 0.8372\n",
            "Epoch 38/75\n",
            "575/575 [==============================] - 1s 2ms/step - loss: 0.5047 - acc: 0.8493 - val_loss: 0.5254 - val_acc: 0.8372\n",
            "Epoch 39/75\n",
            "575/575 [==============================] - 1s 2ms/step - loss: 0.4932 - acc: 0.8493 - val_loss: 0.5142 - val_acc: 0.8372\n",
            "Epoch 40/75\n",
            "575/575 [==============================] - 1s 2ms/step - loss: 0.4824 - acc: 0.8493 - val_loss: 0.5037 - val_acc: 0.8372\n",
            "Epoch 41/75\n",
            "575/575 [==============================] - 1s 2ms/step - loss: 0.4718 - acc: 0.8493 - val_loss: 0.4936 - val_acc: 0.8372\n",
            "Epoch 42/75\n",
            "575/575 [==============================] - 1s 2ms/step - loss: 0.4617 - acc: 0.8493 - val_loss: 0.4839 - val_acc: 0.8372\n",
            "Epoch 43/75\n",
            "575/575 [==============================] - 1s 2ms/step - loss: 0.4520 - acc: 0.8493 - val_loss: 0.4742 - val_acc: 0.8372\n",
            "Epoch 44/75\n",
            "575/575 [==============================] - 1s 2ms/step - loss: 0.4424 - acc: 0.8494 - val_loss: 0.4650 - val_acc: 0.8372\n",
            "Epoch 45/75\n",
            "575/575 [==============================] - 1s 2ms/step - loss: 0.4333 - acc: 0.8494 - val_loss: 0.4562 - val_acc: 0.8377\n",
            "Epoch 46/75\n",
            "575/575 [==============================] - 1s 2ms/step - loss: 0.4247 - acc: 0.8495 - val_loss: 0.4480 - val_acc: 0.8377\n",
            "Epoch 47/75\n",
            "575/575 [==============================] - 1s 2ms/step - loss: 0.4167 - acc: 0.8495 - val_loss: 0.4401 - val_acc: 0.8377\n",
            "Epoch 48/75\n",
            "575/575 [==============================] - 1s 2ms/step - loss: 0.4091 - acc: 0.8495 - val_loss: 0.4328 - val_acc: 0.8377\n",
            "Epoch 49/75\n",
            "575/575 [==============================] - 1s 2ms/step - loss: 0.4020 - acc: 0.8495 - val_loss: 0.4264 - val_acc: 0.8377\n",
            "Epoch 50/75\n",
            "575/575 [==============================] - 1s 2ms/step - loss: 0.3953 - acc: 0.8495 - val_loss: 0.4194 - val_acc: 0.8377\n",
            "Epoch 51/75\n",
            "575/575 [==============================] - 1s 2ms/step - loss: 0.3890 - acc: 0.8496 - val_loss: 0.4136 - val_acc: 0.8377\n",
            "Epoch 52/75\n",
            "575/575 [==============================] - 1s 2ms/step - loss: 0.3830 - acc: 0.8496 - val_loss: 0.4081 - val_acc: 0.8377\n",
            "Epoch 53/75\n",
            "575/575 [==============================] - 1s 2ms/step - loss: 0.3774 - acc: 0.8496 - val_loss: 0.4025 - val_acc: 0.8377\n",
            "Epoch 54/75\n",
            "575/575 [==============================] - 1s 2ms/step - loss: 0.3718 - acc: 0.8496 - val_loss: 0.3972 - val_acc: 0.8377\n",
            "Epoch 55/75\n",
            "575/575 [==============================] - 1s 2ms/step - loss: 0.3662 - acc: 0.8496 - val_loss: 0.3914 - val_acc: 0.8377\n",
            "Epoch 56/75\n",
            "575/575 [==============================] - 1s 2ms/step - loss: 0.3605 - acc: 0.8537 - val_loss: 0.3856 - val_acc: 0.8473\n",
            "Epoch 57/75\n",
            "575/575 [==============================] - 1s 2ms/step - loss: 0.3552 - acc: 0.8629 - val_loss: 0.3805 - val_acc: 0.8538\n",
            "Epoch 58/75\n",
            "575/575 [==============================] - 1s 2ms/step - loss: 0.3500 - acc: 0.8652 - val_loss: 0.3758 - val_acc: 0.8560\n",
            "Epoch 59/75\n",
            "575/575 [==============================] - 1s 2ms/step - loss: 0.3453 - acc: 0.8692 - val_loss: 0.3712 - val_acc: 0.8612\n",
            "Epoch 60/75\n",
            "575/575 [==============================] - 1s 2ms/step - loss: 0.3407 - acc: 0.8730 - val_loss: 0.3670 - val_acc: 0.8642\n",
            "Epoch 61/75\n",
            "575/575 [==============================] - 1s 2ms/step - loss: 0.3365 - acc: 0.8760 - val_loss: 0.3628 - val_acc: 0.8664\n",
            "Epoch 62/75\n",
            "575/575 [==============================] - 1s 2ms/step - loss: 0.3323 - acc: 0.8771 - val_loss: 0.3591 - val_acc: 0.8668\n",
            "Epoch 63/75\n",
            "575/575 [==============================] - 1s 2ms/step - loss: 0.3284 - acc: 0.8776 - val_loss: 0.3552 - val_acc: 0.8668\n",
            "Epoch 64/75\n",
            "575/575 [==============================] - 1s 2ms/step - loss: 0.3246 - acc: 0.8776 - val_loss: 0.3519 - val_acc: 0.8668\n",
            "Epoch 65/75\n",
            "575/575 [==============================] - 1s 2ms/step - loss: 0.3211 - acc: 0.8778 - val_loss: 0.3478 - val_acc: 0.8668\n",
            "Epoch 66/75\n",
            "575/575 [==============================] - 1s 2ms/step - loss: 0.3175 - acc: 0.8781 - val_loss: 0.3453 - val_acc: 0.8668\n",
            "Epoch 67/75\n",
            "575/575 [==============================] - 1s 2ms/step - loss: 0.3143 - acc: 0.8789 - val_loss: 0.3418 - val_acc: 0.8668\n",
            "Epoch 68/75\n",
            "575/575 [==============================] - 1s 2ms/step - loss: 0.3111 - acc: 0.8794 - val_loss: 0.3385 - val_acc: 0.8668\n",
            "Epoch 69/75\n",
            "575/575 [==============================] - 1s 2ms/step - loss: 0.3079 - acc: 0.8795 - val_loss: 0.3354 - val_acc: 0.8673\n",
            "Epoch 70/75\n",
            "575/575 [==============================] - 1s 2ms/step - loss: 0.3048 - acc: 0.8795 - val_loss: 0.3335 - val_acc: 0.8673\n",
            "Epoch 71/75\n",
            "575/575 [==============================] - 1s 2ms/step - loss: 0.3021 - acc: 0.8795 - val_loss: 0.3298 - val_acc: 0.8673\n",
            "Epoch 72/75\n",
            "575/575 [==============================] - 1s 2ms/step - loss: 0.2994 - acc: 0.8798 - val_loss: 0.3268 - val_acc: 0.8673\n",
            "Epoch 73/75\n",
            "575/575 [==============================] - 1s 2ms/step - loss: 0.2967 - acc: 0.8801 - val_loss: 0.3242 - val_acc: 0.8673\n",
            "Epoch 74/75\n",
            "575/575 [==============================] - 1s 2ms/step - loss: 0.2940 - acc: 0.8803 - val_loss: 0.3223 - val_acc: 0.8673\n",
            "Epoch 75/75\n",
            "575/575 [==============================] - 1s 2ms/step - loss: 0.2916 - acc: 0.8804 - val_loss: 0.3200 - val_acc: 0.8673\n",
            "<bound method Model.summary of <tensorflow.python.keras.engine.sequential.Sequential object at 0x7fd8b00a1dd8>>\n",
            "Test Accuracy:\n",
            "6461/6461 [==============================] - 10s 2ms/step - loss: 0.3085 - acc: 0.8747\n",
            "Random Sample Accuracy:\n",
            "94/94 [==============================] - 0s 1ms/step - loss: 1.4984 - acc: 0.6320\n"
          ],
          "name": "stdout"
        },
        {
          "output_type": "display_data",
          "data": {
            "image/png": "[encoded data removed]",
            "text/plain": [
              "<Figure size 1080x432 with 2 Axes>"
            ]
          },
          "metadata": {
            "tags": [],
            "needs_background": "light"
          }
        }
      ]
    },
    {
      "cell_type": "code",
      "metadata": {
        "id": "8CO8w3uTnjxr"
      },
      "source": [
        "model3_params = {'activation 1': 'relu', \n",
        "                 'activation 2': 'relu', \n",
        "                 'activation 3': 'softmax', \n",
        "                 'opt': tf.keras.optimizers.SGD(learning_rate=0.01),\n",
        "                 'loss': 'categorical_crossentropy',\n",
        "                 'epochs': 45, \n",
        "                 'batch_size': 16, \n",
        "                 }"
      ],
      "execution_count": 44,
      "outputs": []
    },
    {
      "cell_type": "code",
      "metadata": {
        "colab": {
          "base_uri": "https://localhost:8080/",
          "height": 1000
        },
        "id": "Rd_DRvv2n3jX",
        "outputId": "d5d45ce2-adc0-4a87-d1e5-bf49e10ebd65"
      },
      "source": [
        "model3_history, model3 = create_model(train, label_train, test, label_test, model3_params)"
      ],
      "execution_count": 45,
      "outputs": [
        {
          "output_type": "stream",
          "text": [
            "Epoch 1/45\n",
            "575/575 [==============================] - 1s 2ms/step - loss: 1.7529 - acc: 0.5126 - val_loss: 1.3868 - val_acc: 0.5283\n",
            "Epoch 2/45\n",
            "575/575 [==============================] - 1s 2ms/step - loss: 1.1958 - acc: 0.5902 - val_loss: 1.0883 - val_acc: 0.6401\n",
            "Epoch 3/45\n",
            "575/575 [==============================] - 1s 2ms/step - loss: 0.9647 - acc: 0.7132 - val_loss: 0.9049 - val_acc: 0.7398\n",
            "Epoch 4/45\n",
            "575/575 [==============================] - 1s 2ms/step - loss: 0.8066 - acc: 0.7781 - val_loss: 0.7607 - val_acc: 0.8007\n",
            "Epoch 5/45\n",
            "575/575 [==============================] - 1s 2ms/step - loss: 0.6704 - acc: 0.8287 - val_loss: 0.6326 - val_acc: 0.8473\n",
            "Epoch 6/45\n",
            "575/575 [==============================] - 1s 2ms/step - loss: 0.5508 - acc: 0.8648 - val_loss: 0.5239 - val_acc: 0.8677\n",
            "Epoch 7/45\n",
            "575/575 [==============================] - 1s 2ms/step - loss: 0.4542 - acc: 0.8863 - val_loss: 0.4400 - val_acc: 0.8960\n",
            "Epoch 8/45\n",
            "575/575 [==============================] - 1s 2ms/step - loss: 0.3819 - acc: 0.9035 - val_loss: 0.3768 - val_acc: 0.9038\n",
            "Epoch 9/45\n",
            "575/575 [==============================] - 1s 2ms/step - loss: 0.3272 - acc: 0.9210 - val_loss: 0.3274 - val_acc: 0.9252\n",
            "Epoch 10/45\n",
            "575/575 [==============================] - 1s 2ms/step - loss: 0.2847 - acc: 0.9345 - val_loss: 0.2883 - val_acc: 0.9386\n",
            "Epoch 11/45\n",
            "575/575 [==============================] - 1s 2ms/step - loss: 0.2517 - acc: 0.9429 - val_loss: 0.2595 - val_acc: 0.9382\n",
            "Epoch 12/45\n",
            "575/575 [==============================] - 1s 2ms/step - loss: 0.2252 - acc: 0.9467 - val_loss: 0.2327 - val_acc: 0.9456\n",
            "Epoch 13/45\n",
            "575/575 [==============================] - 1s 2ms/step - loss: 0.2034 - acc: 0.9516 - val_loss: 0.2119 - val_acc: 0.9465\n",
            "Epoch 14/45\n",
            "575/575 [==============================] - 1s 2ms/step - loss: 0.1852 - acc: 0.9541 - val_loss: 0.1968 - val_acc: 0.9495\n",
            "Epoch 15/45\n",
            "575/575 [==============================] - 1s 2ms/step - loss: 0.1702 - acc: 0.9558 - val_loss: 0.1808 - val_acc: 0.9495\n",
            "Epoch 16/45\n",
            "575/575 [==============================] - 1s 2ms/step - loss: 0.1570 - acc: 0.9602 - val_loss: 0.1677 - val_acc: 0.9556\n",
            "Epoch 17/45\n",
            "575/575 [==============================] - 1s 2ms/step - loss: 0.1464 - acc: 0.9627 - val_loss: 0.1569 - val_acc: 0.9582\n",
            "Epoch 18/45\n",
            "575/575 [==============================] - 1s 2ms/step - loss: 0.1364 - acc: 0.9639 - val_loss: 0.1474 - val_acc: 0.9595\n",
            "Epoch 19/45\n",
            "575/575 [==============================] - 1s 2ms/step - loss: 0.1282 - acc: 0.9653 - val_loss: 0.1393 - val_acc: 0.9608\n",
            "Epoch 20/45\n",
            "575/575 [==============================] - 1s 2ms/step - loss: 0.1206 - acc: 0.9669 - val_loss: 0.1319 - val_acc: 0.9634\n",
            "Epoch 21/45\n",
            "575/575 [==============================] - 1s 2ms/step - loss: 0.1137 - acc: 0.9713 - val_loss: 0.1253 - val_acc: 0.9695\n",
            "Epoch 22/45\n",
            "575/575 [==============================] - 1s 2ms/step - loss: 0.1075 - acc: 0.9730 - val_loss: 0.1188 - val_acc: 0.9700\n",
            "Epoch 23/45\n",
            "575/575 [==============================] - 1s 2ms/step - loss: 0.1017 - acc: 0.9747 - val_loss: 0.1134 - val_acc: 0.9713\n",
            "Epoch 24/45\n",
            "575/575 [==============================] - 1s 2ms/step - loss: 0.0970 - acc: 0.9754 - val_loss: 0.1090 - val_acc: 0.9743\n",
            "Epoch 25/45\n",
            "575/575 [==============================] - 1s 2ms/step - loss: 0.0920 - acc: 0.9788 - val_loss: 0.1040 - val_acc: 0.9752\n",
            "Epoch 26/45\n",
            "575/575 [==============================] - 1s 2ms/step - loss: 0.0877 - acc: 0.9793 - val_loss: 0.1003 - val_acc: 0.9765\n",
            "Epoch 27/45\n",
            "575/575 [==============================] - 1s 2ms/step - loss: 0.0838 - acc: 0.9827 - val_loss: 0.0964 - val_acc: 0.9800\n",
            "Epoch 28/45\n",
            "575/575 [==============================] - 1s 2ms/step - loss: 0.0800 - acc: 0.9851 - val_loss: 0.0926 - val_acc: 0.9804\n",
            "Epoch 29/45\n",
            "575/575 [==============================] - 1s 2ms/step - loss: 0.0764 - acc: 0.9852 - val_loss: 0.0903 - val_acc: 0.9809\n",
            "Epoch 30/45\n",
            "575/575 [==============================] - 1s 2ms/step - loss: 0.0737 - acc: 0.9866 - val_loss: 0.0865 - val_acc: 0.9809\n",
            "Epoch 31/45\n",
            "575/575 [==============================] - 1s 2ms/step - loss: 0.0704 - acc: 0.9872 - val_loss: 0.0845 - val_acc: 0.9826\n",
            "Epoch 32/45\n",
            "575/575 [==============================] - 1s 2ms/step - loss: 0.0679 - acc: 0.9878 - val_loss: 0.0806 - val_acc: 0.9817\n",
            "Epoch 33/45\n",
            "575/575 [==============================] - 1s 2ms/step - loss: 0.0651 - acc: 0.9881 - val_loss: 0.0782 - val_acc: 0.9817\n",
            "Epoch 34/45\n",
            "575/575 [==============================] - 1s 2ms/step - loss: 0.0627 - acc: 0.9881 - val_loss: 0.0764 - val_acc: 0.9813\n",
            "Epoch 35/45\n",
            "575/575 [==============================] - 1s 2ms/step - loss: 0.0602 - acc: 0.9884 - val_loss: 0.0761 - val_acc: 0.9817\n",
            "Epoch 36/45\n",
            "575/575 [==============================] - 1s 2ms/step - loss: 0.0583 - acc: 0.9881 - val_loss: 0.0729 - val_acc: 0.9817\n",
            "Epoch 37/45\n",
            "575/575 [==============================] - 1s 2ms/step - loss: 0.0563 - acc: 0.9881 - val_loss: 0.0728 - val_acc: 0.9822\n",
            "Epoch 38/45\n",
            "575/575 [==============================] - 1s 2ms/step - loss: 0.0545 - acc: 0.9892 - val_loss: 0.0691 - val_acc: 0.9822\n",
            "Epoch 39/45\n",
            "575/575 [==============================] - 1s 2ms/step - loss: 0.0526 - acc: 0.9889 - val_loss: 0.0687 - val_acc: 0.9817\n",
            "Epoch 40/45\n",
            "575/575 [==============================] - 1s 2ms/step - loss: 0.0512 - acc: 0.9898 - val_loss: 0.0670 - val_acc: 0.9822\n",
            "Epoch 41/45\n",
            "575/575 [==============================] - 1s 2ms/step - loss: 0.0497 - acc: 0.9902 - val_loss: 0.0656 - val_acc: 0.9822\n",
            "Epoch 42/45\n",
            "575/575 [==============================] - 1s 2ms/step - loss: 0.0481 - acc: 0.9904 - val_loss: 0.0641 - val_acc: 0.9817\n",
            "Epoch 43/45\n",
            "575/575 [==============================] - 1s 2ms/step - loss: 0.0466 - acc: 0.9906 - val_loss: 0.0629 - val_acc: 0.9822\n",
            "Epoch 44/45\n",
            "575/575 [==============================] - 1s 2ms/step - loss: 0.0456 - acc: 0.9911 - val_loss: 0.0637 - val_acc: 0.9822\n",
            "Epoch 45/45\n",
            "575/575 [==============================] - 1s 2ms/step - loss: 0.0442 - acc: 0.9906 - val_loss: 0.0632 - val_acc: 0.9830\n",
            "<bound method Model.summary of <tensorflow.python.keras.engine.sequential.Sequential object at 0x7fd8b0293240>>\n",
            "Test Accuracy:\n",
            "6461/6461 [==============================] - 10s 2ms/step - loss: 0.0641 - acc: 0.9841\n",
            "Random Sample Accuracy:\n",
            "94/94 [==============================] - 0s 2ms/step - loss: 1.4451 - acc: 0.6513\n"
          ],
          "name": "stdout"
        },
        {
          "output_type": "display_data",
          "data": {
            "image/png": "[encoded data removed]",
            "text/plain": [
              "<Figure size 1080x432 with 2 Axes>"
            ]
          },
          "metadata": {
            "tags": [],
            "needs_background": "light"
          }
        }
      ]
    },
    {
      "cell_type": "code",
      "metadata": {
        "id": "Tr_uT5YW6wBu"
      },
      "source": [
        "model4_params = {'activation 1': 'relu', \n",
        "                 'activation 2': 'relu', \n",
        "                 'activation 3': 'softmax', \n",
        "                 'opt': tf.keras.optimizers.SGD(learning_rate=0.001),\n",
        "                 'loss': 'categorical_crossentropy',\n",
        "                 'epochs': 250, \n",
        "                 'batch_size': 50, \n",
        "                 }"
      ],
      "execution_count": 46,
      "outputs": []
    },
    {
      "cell_type": "code",
      "metadata": {
        "colab": {
          "base_uri": "https://localhost:8080/",
          "height": 1000
        },
        "id": "nKzymFb26_kD",
        "outputId": "b595c49f-81f4-49d5-92d6-c880953dfbca"
      },
      "source": [
        "model4_history, model4 = create_model(train, label_train, test, label_test, model4_params)"
      ],
      "execution_count": 47,
      "outputs": [
        {
          "output_type": "stream",
          "text": [
            "Epoch 1/250\n",
            "184/184 [==============================] - 1s 3ms/step - loss: 2.5729 - acc: 0.3660 - val_loss: 2.5207 - val_acc: 0.5331\n",
            "Epoch 2/250\n",
            "184/184 [==============================] - 0s 2ms/step - loss: 2.4716 - acc: 0.5356 - val_loss: 2.4248 - val_acc: 0.5283\n",
            "Epoch 3/250\n",
            "184/184 [==============================] - 0s 2ms/step - loss: 2.3739 - acc: 0.5276 - val_loss: 2.3301 - val_acc: 0.5109\n",
            "Epoch 4/250\n",
            "184/184 [==============================] - 0s 2ms/step - loss: 2.2750 - acc: 0.5215 - val_loss: 2.2318 - val_acc: 0.5109\n",
            "Epoch 5/250\n",
            "184/184 [==============================] - 0s 2ms/step - loss: 2.1714 - acc: 0.5215 - val_loss: 2.1289 - val_acc: 0.5109\n",
            "Epoch 6/250\n",
            "184/184 [==============================] - 0s 2ms/step - loss: 2.0645 - acc: 0.5215 - val_loss: 2.0245 - val_acc: 0.5109\n",
            "Epoch 7/250\n",
            "184/184 [==============================] - 0s 2ms/step - loss: 1.9579 - acc: 0.5215 - val_loss: 1.9236 - val_acc: 0.5109\n",
            "Epoch 8/250\n",
            "184/184 [==============================] - 0s 2ms/step - loss: 1.8602 - acc: 0.5215 - val_loss: 1.8363 - val_acc: 0.5109\n",
            "Epoch 9/250\n",
            "184/184 [==============================] - 0s 2ms/step - loss: 1.7792 - acc: 0.5215 - val_loss: 1.7671 - val_acc: 0.5109\n",
            "Epoch 10/250\n",
            "184/184 [==============================] - 0s 2ms/step - loss: 1.7169 - acc: 0.5215 - val_loss: 1.7154 - val_acc: 0.5109\n",
            "Epoch 11/250\n",
            "184/184 [==============================] - 0s 2ms/step - loss: 1.6705 - acc: 0.5215 - val_loss: 1.6766 - val_acc: 0.5109\n",
            "Epoch 12/250\n",
            "184/184 [==============================] - 0s 2ms/step - loss: 1.6350 - acc: 0.5215 - val_loss: 1.6461 - val_acc: 0.5109\n",
            "Epoch 13/250\n",
            "184/184 [==============================] - 0s 2ms/step - loss: 1.6065 - acc: 0.5215 - val_loss: 1.6206 - val_acc: 0.5109\n",
            "Epoch 14/250\n",
            "184/184 [==============================] - 0s 2ms/step - loss: 1.5819 - acc: 0.5215 - val_loss: 1.5979 - val_acc: 0.5109\n",
            "Epoch 15/250\n",
            "184/184 [==============================] - 0s 2ms/step - loss: 1.5600 - acc: 0.5215 - val_loss: 1.5776 - val_acc: 0.5109\n",
            "Epoch 16/250\n",
            "184/184 [==============================] - 0s 2ms/step - loss: 1.5403 - acc: 0.5215 - val_loss: 1.5590 - val_acc: 0.5109\n",
            "Epoch 17/250\n",
            "184/184 [==============================] - 0s 2ms/step - loss: 1.5221 - acc: 0.5215 - val_loss: 1.5417 - val_acc: 0.5109\n",
            "Epoch 18/250\n",
            "184/184 [==============================] - 0s 2ms/step - loss: 1.5049 - acc: 0.5215 - val_loss: 1.5249 - val_acc: 0.5109\n",
            "Epoch 19/250\n",
            "184/184 [==============================] - 0s 2ms/step - loss: 1.4883 - acc: 0.5215 - val_loss: 1.5089 - val_acc: 0.5109\n",
            "Epoch 20/250\n",
            "184/184 [==============================] - 0s 2ms/step - loss: 1.4726 - acc: 0.5215 - val_loss: 1.4936 - val_acc: 0.5109\n",
            "Epoch 21/250\n",
            "184/184 [==============================] - 0s 2ms/step - loss: 1.4572 - acc: 0.5215 - val_loss: 1.4785 - val_acc: 0.5109\n",
            "Epoch 22/250\n",
            "184/184 [==============================] - 0s 2ms/step - loss: 1.4423 - acc: 0.5215 - val_loss: 1.4639 - val_acc: 0.5109\n",
            "Epoch 23/250\n",
            "184/184 [==============================] - 0s 2ms/step - loss: 1.4279 - acc: 0.5215 - val_loss: 1.4499 - val_acc: 0.5109\n",
            "Epoch 24/250\n",
            "184/184 [==============================] - 0s 2ms/step - loss: 1.4139 - acc: 0.5215 - val_loss: 1.4361 - val_acc: 0.5109\n",
            "Epoch 25/250\n",
            "184/184 [==============================] - 0s 2ms/step - loss: 1.4002 - acc: 0.5215 - val_loss: 1.4225 - val_acc: 0.5109\n",
            "Epoch 26/250\n",
            "184/184 [==============================] - 0s 2ms/step - loss: 1.3867 - acc: 0.5215 - val_loss: 1.4091 - val_acc: 0.5109\n",
            "Epoch 27/250\n",
            "184/184 [==============================] - 0s 2ms/step - loss: 1.3734 - acc: 0.5215 - val_loss: 1.3958 - val_acc: 0.5109\n",
            "Epoch 28/250\n",
            "184/184 [==============================] - 0s 2ms/step - loss: 1.3602 - acc: 0.5223 - val_loss: 1.3828 - val_acc: 0.5283\n",
            "Epoch 29/250\n",
            "184/184 [==============================] - 0s 2ms/step - loss: 1.3473 - acc: 0.5387 - val_loss: 1.3699 - val_acc: 0.5444\n",
            "Epoch 30/250\n",
            "184/184 [==============================] - 0s 2ms/step - loss: 1.3346 - acc: 0.5540 - val_loss: 1.3571 - val_acc: 0.5444\n",
            "Epoch 31/250\n",
            "184/184 [==============================] - 0s 2ms/step - loss: 1.3221 - acc: 0.5540 - val_loss: 1.3446 - val_acc: 0.5444\n",
            "Epoch 32/250\n",
            "184/184 [==============================] - 0s 2ms/step - loss: 1.3097 - acc: 0.5540 - val_loss: 1.3322 - val_acc: 0.5444\n",
            "Epoch 33/250\n",
            "184/184 [==============================] - 0s 2ms/step - loss: 1.2976 - acc: 0.5540 - val_loss: 1.3201 - val_acc: 0.5444\n",
            "Epoch 34/250\n",
            "184/184 [==============================] - 0s 2ms/step - loss: 1.2856 - acc: 0.5540 - val_loss: 1.3081 - val_acc: 0.5444\n",
            "Epoch 35/250\n",
            "184/184 [==============================] - 0s 2ms/step - loss: 1.2738 - acc: 0.5540 - val_loss: 1.2963 - val_acc: 0.5444\n",
            "Epoch 36/250\n",
            "184/184 [==============================] - 0s 2ms/step - loss: 1.2622 - acc: 0.5540 - val_loss: 1.2847 - val_acc: 0.5444\n",
            "Epoch 37/250\n",
            "184/184 [==============================] - 0s 2ms/step - loss: 1.2509 - acc: 0.5591 - val_loss: 1.2732 - val_acc: 0.5527\n",
            "Epoch 38/250\n",
            "184/184 [==============================] - 0s 2ms/step - loss: 1.2396 - acc: 0.5600 - val_loss: 1.2619 - val_acc: 0.5527\n",
            "Epoch 39/250\n",
            "184/184 [==============================] - 0s 2ms/step - loss: 1.2286 - acc: 0.5600 - val_loss: 1.2509 - val_acc: 0.5527\n",
            "Epoch 40/250\n",
            "184/184 [==============================] - 0s 2ms/step - loss: 1.2179 - acc: 0.5600 - val_loss: 1.2402 - val_acc: 0.5527\n",
            "Epoch 41/250\n",
            "184/184 [==============================] - 0s 2ms/step - loss: 1.2074 - acc: 0.5740 - val_loss: 1.2296 - val_acc: 0.5779\n",
            "Epoch 42/250\n",
            "184/184 [==============================] - 0s 2ms/step - loss: 1.1971 - acc: 0.5835 - val_loss: 1.2193 - val_acc: 0.5779\n",
            "Epoch 43/250\n",
            "184/184 [==============================] - 0s 2ms/step - loss: 1.1870 - acc: 0.5845 - val_loss: 1.2092 - val_acc: 0.5857\n",
            "Epoch 44/250\n",
            "184/184 [==============================] - 0s 2ms/step - loss: 1.1771 - acc: 0.5965 - val_loss: 1.1993 - val_acc: 0.5892\n",
            "Epoch 45/250\n",
            "184/184 [==============================] - 0s 2ms/step - loss: 1.1674 - acc: 0.5993 - val_loss: 1.1896 - val_acc: 0.5970\n",
            "Epoch 46/250\n",
            "184/184 [==============================] - 0s 2ms/step - loss: 1.1579 - acc: 0.6056 - val_loss: 1.1800 - val_acc: 0.5983\n",
            "Epoch 47/250\n",
            "184/184 [==============================] - 0s 2ms/step - loss: 1.1486 - acc: 0.6072 - val_loss: 1.1707 - val_acc: 0.5983\n",
            "Epoch 48/250\n",
            "184/184 [==============================] - 0s 2ms/step - loss: 1.1394 - acc: 0.6129 - val_loss: 1.1616 - val_acc: 0.6049\n",
            "Epoch 49/250\n",
            "184/184 [==============================] - 0s 2ms/step - loss: 1.1305 - acc: 0.6168 - val_loss: 1.1526 - val_acc: 0.6123\n",
            "Epoch 50/250\n",
            "184/184 [==============================] - 0s 2ms/step - loss: 1.1217 - acc: 0.6292 - val_loss: 1.1438 - val_acc: 0.6214\n",
            "Epoch 51/250\n",
            "184/184 [==============================] - 0s 2ms/step - loss: 1.1130 - acc: 0.6342 - val_loss: 1.1352 - val_acc: 0.6227\n",
            "Epoch 52/250\n",
            "184/184 [==============================] - 0s 2ms/step - loss: 1.1046 - acc: 0.6365 - val_loss: 1.1267 - val_acc: 0.6266\n",
            "Epoch 53/250\n",
            "184/184 [==============================] - 0s 2ms/step - loss: 1.0963 - acc: 0.6508 - val_loss: 1.1184 - val_acc: 0.6440\n",
            "Epoch 54/250\n",
            "184/184 [==============================] - 0s 2ms/step - loss: 1.0881 - acc: 0.6590 - val_loss: 1.1102 - val_acc: 0.6523\n",
            "Epoch 55/250\n",
            "184/184 [==============================] - 0s 2ms/step - loss: 1.0801 - acc: 0.6635 - val_loss: 1.1022 - val_acc: 0.6571\n",
            "Epoch 56/250\n",
            "184/184 [==============================] - 0s 2ms/step - loss: 1.0722 - acc: 0.6683 - val_loss: 1.0943 - val_acc: 0.6619\n",
            "Epoch 57/250\n",
            "184/184 [==============================] - 0s 2ms/step - loss: 1.0645 - acc: 0.6759 - val_loss: 1.0866 - val_acc: 0.6701\n",
            "Epoch 58/250\n",
            "184/184 [==============================] - 0s 2ms/step - loss: 1.0570 - acc: 0.6828 - val_loss: 1.0791 - val_acc: 0.6710\n",
            "Epoch 59/250\n",
            "184/184 [==============================] - 0s 2ms/step - loss: 1.0496 - acc: 0.6868 - val_loss: 1.0718 - val_acc: 0.6784\n",
            "Epoch 60/250\n",
            "184/184 [==============================] - 0s 2ms/step - loss: 1.0423 - acc: 0.6898 - val_loss: 1.0645 - val_acc: 0.6797\n",
            "Epoch 61/250\n",
            "184/184 [==============================] - 0s 2ms/step - loss: 1.0352 - acc: 0.6905 - val_loss: 1.0574 - val_acc: 0.6775\n",
            "Epoch 62/250\n",
            "184/184 [==============================] - 0s 2ms/step - loss: 1.0281 - acc: 0.6864 - val_loss: 1.0504 - val_acc: 0.6771\n",
            "Epoch 63/250\n",
            "184/184 [==============================] - 0s 2ms/step - loss: 1.0213 - acc: 0.6868 - val_loss: 1.0435 - val_acc: 0.6762\n",
            "Epoch 64/250\n",
            "184/184 [==============================] - 0s 2ms/step - loss: 1.0145 - acc: 0.6874 - val_loss: 1.0367 - val_acc: 0.6762\n",
            "Epoch 65/250\n",
            "184/184 [==============================] - 0s 2ms/step - loss: 1.0078 - acc: 0.6887 - val_loss: 1.0301 - val_acc: 0.6784\n",
            "Epoch 66/250\n",
            "184/184 [==============================] - 0s 3ms/step - loss: 1.0012 - acc: 0.6891 - val_loss: 1.0234 - val_acc: 0.6784\n",
            "Epoch 67/250\n",
            "184/184 [==============================] - 1s 3ms/step - loss: 0.9947 - acc: 0.7058 - val_loss: 1.0169 - val_acc: 0.7124\n",
            "Epoch 68/250\n",
            "184/184 [==============================] - 1s 3ms/step - loss: 0.9882 - acc: 0.7181 - val_loss: 1.0104 - val_acc: 0.7128\n",
            "Epoch 69/250\n",
            "184/184 [==============================] - 1s 3ms/step - loss: 0.9818 - acc: 0.7183 - val_loss: 1.0040 - val_acc: 0.7128\n",
            "Epoch 70/250\n",
            "184/184 [==============================] - 0s 3ms/step - loss: 0.9755 - acc: 0.7185 - val_loss: 0.9976 - val_acc: 0.7128\n",
            "Epoch 71/250\n",
            "184/184 [==============================] - 0s 3ms/step - loss: 0.9692 - acc: 0.7188 - val_loss: 0.9913 - val_acc: 0.7137\n",
            "Epoch 72/250\n",
            "184/184 [==============================] - 0s 3ms/step - loss: 0.9630 - acc: 0.7205 - val_loss: 0.9851 - val_acc: 0.7137\n",
            "Epoch 73/250\n",
            "184/184 [==============================] - 0s 3ms/step - loss: 0.9569 - acc: 0.7213 - val_loss: 0.9789 - val_acc: 0.7202\n",
            "Epoch 74/250\n",
            "184/184 [==============================] - 1s 3ms/step - loss: 0.9507 - acc: 0.7279 - val_loss: 0.9728 - val_acc: 0.7224\n",
            "Epoch 75/250\n",
            "184/184 [==============================] - 1s 3ms/step - loss: 0.9447 - acc: 0.7299 - val_loss: 0.9667 - val_acc: 0.7224\n",
            "Epoch 76/250\n",
            "184/184 [==============================] - 1s 3ms/step - loss: 0.9387 - acc: 0.7298 - val_loss: 0.9607 - val_acc: 0.7224\n",
            "Epoch 77/250\n",
            "184/184 [==============================] - 0s 3ms/step - loss: 0.9328 - acc: 0.7305 - val_loss: 0.9547 - val_acc: 0.7258\n",
            "Epoch 78/250\n",
            "184/184 [==============================] - 0s 3ms/step - loss: 0.9269 - acc: 0.7329 - val_loss: 0.9488 - val_acc: 0.7258\n",
            "Epoch 79/250\n",
            "184/184 [==============================] - 0s 3ms/step - loss: 0.9210 - acc: 0.7332 - val_loss: 0.9429 - val_acc: 0.7289\n",
            "Epoch 80/250\n",
            "184/184 [==============================] - 1s 3ms/step - loss: 0.9152 - acc: 0.7351 - val_loss: 0.9371 - val_acc: 0.7350\n",
            "Epoch 81/250\n",
            "184/184 [==============================] - 1s 3ms/step - loss: 0.9095 - acc: 0.7439 - val_loss: 0.9314 - val_acc: 0.7415\n",
            "Epoch 82/250\n",
            "184/184 [==============================] - 0s 3ms/step - loss: 0.9039 - acc: 0.7487 - val_loss: 0.9257 - val_acc: 0.7406\n",
            "Epoch 83/250\n",
            "184/184 [==============================] - 0s 3ms/step - loss: 0.8983 - acc: 0.7499 - val_loss: 0.9201 - val_acc: 0.7406\n",
            "Epoch 84/250\n",
            "184/184 [==============================] - 0s 3ms/step - loss: 0.8927 - acc: 0.7505 - val_loss: 0.9145 - val_acc: 0.7433\n",
            "Epoch 85/250\n",
            "184/184 [==============================] - 0s 3ms/step - loss: 0.8872 - acc: 0.7535 - val_loss: 0.9090 - val_acc: 0.7433\n",
            "Epoch 86/250\n",
            "184/184 [==============================] - 1s 3ms/step - loss: 0.8817 - acc: 0.7540 - val_loss: 0.9035 - val_acc: 0.7437\n",
            "Epoch 87/250\n",
            "184/184 [==============================] - 0s 2ms/step - loss: 0.8763 - acc: 0.7542 - val_loss: 0.8980 - val_acc: 0.7437\n",
            "Epoch 88/250\n",
            "184/184 [==============================] - 0s 2ms/step - loss: 0.8709 - acc: 0.7541 - val_loss: 0.8926 - val_acc: 0.7450\n",
            "Epoch 89/250\n",
            "184/184 [==============================] - 0s 2ms/step - loss: 0.8655 - acc: 0.7541 - val_loss: 0.8872 - val_acc: 0.7450\n",
            "Epoch 90/250\n",
            "184/184 [==============================] - 0s 2ms/step - loss: 0.8602 - acc: 0.7577 - val_loss: 0.8818 - val_acc: 0.7537\n",
            "Epoch 91/250\n",
            "184/184 [==============================] - 0s 2ms/step - loss: 0.8549 - acc: 0.7648 - val_loss: 0.8765 - val_acc: 0.7563\n",
            "Epoch 92/250\n",
            "184/184 [==============================] - 0s 2ms/step - loss: 0.8496 - acc: 0.7664 - val_loss: 0.8712 - val_acc: 0.7563\n",
            "Epoch 93/250\n",
            "184/184 [==============================] - 0s 2ms/step - loss: 0.8444 - acc: 0.7658 - val_loss: 0.8660 - val_acc: 0.7559\n",
            "Epoch 94/250\n",
            "184/184 [==============================] - 0s 2ms/step - loss: 0.8392 - acc: 0.7655 - val_loss: 0.8609 - val_acc: 0.7559\n",
            "Epoch 95/250\n",
            "184/184 [==============================] - 0s 2ms/step - loss: 0.8341 - acc: 0.7655 - val_loss: 0.8557 - val_acc: 0.7559\n",
            "Epoch 96/250\n",
            "184/184 [==============================] - 0s 2ms/step - loss: 0.8290 - acc: 0.7669 - val_loss: 0.8506 - val_acc: 0.7602\n",
            "Epoch 97/250\n",
            "184/184 [==============================] - 0s 2ms/step - loss: 0.8240 - acc: 0.7712 - val_loss: 0.8456 - val_acc: 0.7611\n",
            "Epoch 98/250\n",
            "184/184 [==============================] - 0s 2ms/step - loss: 0.8189 - acc: 0.7713 - val_loss: 0.8405 - val_acc: 0.7611\n",
            "Epoch 99/250\n",
            "184/184 [==============================] - 0s 2ms/step - loss: 0.8139 - acc: 0.7750 - val_loss: 0.8356 - val_acc: 0.7676\n",
            "Epoch 100/250\n",
            "184/184 [==============================] - 0s 2ms/step - loss: 0.8090 - acc: 0.7799 - val_loss: 0.8306 - val_acc: 0.7707\n",
            "Epoch 101/250\n",
            "184/184 [==============================] - 0s 2ms/step - loss: 0.8041 - acc: 0.7810 - val_loss: 0.8257 - val_acc: 0.7711\n",
            "Epoch 102/250\n",
            "184/184 [==============================] - 0s 2ms/step - loss: 0.7992 - acc: 0.7833 - val_loss: 0.8208 - val_acc: 0.7837\n",
            "Epoch 103/250\n",
            "184/184 [==============================] - 0s 2ms/step - loss: 0.7943 - acc: 0.7933 - val_loss: 0.8160 - val_acc: 0.7837\n",
            "Epoch 104/250\n",
            "184/184 [==============================] - 0s 2ms/step - loss: 0.7894 - acc: 0.7935 - val_loss: 0.8111 - val_acc: 0.7850\n",
            "Epoch 105/250\n",
            "184/184 [==============================] - 0s 2ms/step - loss: 0.7846 - acc: 0.7942 - val_loss: 0.8064 - val_acc: 0.7850\n",
            "Epoch 106/250\n",
            "184/184 [==============================] - 0s 2ms/step - loss: 0.7799 - acc: 0.7942 - val_loss: 0.8016 - val_acc: 0.7850\n",
            "Epoch 107/250\n",
            "184/184 [==============================] - 0s 2ms/step - loss: 0.7752 - acc: 0.7942 - val_loss: 0.7970 - val_acc: 0.7850\n",
            "Epoch 108/250\n",
            "184/184 [==============================] - 0s 2ms/step - loss: 0.7705 - acc: 0.7943 - val_loss: 0.7924 - val_acc: 0.7855\n",
            "Epoch 109/250\n",
            "184/184 [==============================] - 0s 2ms/step - loss: 0.7658 - acc: 0.7945 - val_loss: 0.7877 - val_acc: 0.7855\n",
            "Epoch 110/250\n",
            "184/184 [==============================] - 0s 2ms/step - loss: 0.7612 - acc: 0.7949 - val_loss: 0.7832 - val_acc: 0.7859\n",
            "Epoch 111/250\n",
            "184/184 [==============================] - 0s 2ms/step - loss: 0.7566 - acc: 0.7984 - val_loss: 0.7786 - val_acc: 0.7920\n",
            "Epoch 112/250\n",
            "184/184 [==============================] - 0s 2ms/step - loss: 0.7520 - acc: 0.8098 - val_loss: 0.7741 - val_acc: 0.8007\n",
            "Epoch 113/250\n",
            "184/184 [==============================] - 0s 2ms/step - loss: 0.7475 - acc: 0.8111 - val_loss: 0.7696 - val_acc: 0.8007\n",
            "Epoch 114/250\n",
            "184/184 [==============================] - 0s 2ms/step - loss: 0.7430 - acc: 0.8130 - val_loss: 0.7651 - val_acc: 0.8042\n",
            "Epoch 115/250\n",
            "184/184 [==============================] - 0s 2ms/step - loss: 0.7385 - acc: 0.8135 - val_loss: 0.7606 - val_acc: 0.8042\n",
            "Epoch 116/250\n",
            "184/184 [==============================] - 0s 2ms/step - loss: 0.7340 - acc: 0.8140 - val_loss: 0.7562 - val_acc: 0.8046\n",
            "Epoch 117/250\n",
            "184/184 [==============================] - 0s 2ms/step - loss: 0.7295 - acc: 0.8142 - val_loss: 0.7518 - val_acc: 0.8046\n",
            "Epoch 118/250\n",
            "184/184 [==============================] - 0s 2ms/step - loss: 0.7251 - acc: 0.8143 - val_loss: 0.7474 - val_acc: 0.8046\n",
            "Epoch 119/250\n",
            "184/184 [==============================] - 0s 2ms/step - loss: 0.7207 - acc: 0.8143 - val_loss: 0.7430 - val_acc: 0.8046\n",
            "Epoch 120/250\n",
            "184/184 [==============================] - 0s 2ms/step - loss: 0.7163 - acc: 0.8148 - val_loss: 0.7387 - val_acc: 0.8059\n",
            "Epoch 121/250\n",
            "184/184 [==============================] - 0s 2ms/step - loss: 0.7119 - acc: 0.8150 - val_loss: 0.7343 - val_acc: 0.8064\n",
            "Epoch 122/250\n",
            "184/184 [==============================] - 0s 2ms/step - loss: 0.7075 - acc: 0.8152 - val_loss: 0.7300 - val_acc: 0.8064\n",
            "Epoch 123/250\n",
            "184/184 [==============================] - 0s 2ms/step - loss: 0.7031 - acc: 0.8152 - val_loss: 0.7257 - val_acc: 0.8064\n",
            "Epoch 124/250\n",
            "184/184 [==============================] - 0s 2ms/step - loss: 0.6988 - acc: 0.8168 - val_loss: 0.7214 - val_acc: 0.8098\n",
            "Epoch 125/250\n",
            "184/184 [==============================] - 0s 2ms/step - loss: 0.6945 - acc: 0.8209 - val_loss: 0.7171 - val_acc: 0.8107\n",
            "Epoch 126/250\n",
            "184/184 [==============================] - 0s 2ms/step - loss: 0.6901 - acc: 0.8218 - val_loss: 0.7129 - val_acc: 0.8107\n",
            "Epoch 127/250\n",
            "184/184 [==============================] - 0s 2ms/step - loss: 0.6859 - acc: 0.8218 - val_loss: 0.7086 - val_acc: 0.8107\n",
            "Epoch 128/250\n",
            "184/184 [==============================] - 0s 2ms/step - loss: 0.6816 - acc: 0.8222 - val_loss: 0.7044 - val_acc: 0.8107\n",
            "Epoch 129/250\n",
            "184/184 [==============================] - 0s 2ms/step - loss: 0.6774 - acc: 0.8222 - val_loss: 0.7003 - val_acc: 0.8116\n",
            "Epoch 130/250\n",
            "184/184 [==============================] - 0s 2ms/step - loss: 0.6731 - acc: 0.8240 - val_loss: 0.6961 - val_acc: 0.8133\n",
            "Epoch 131/250\n",
            "184/184 [==============================] - 0s 2ms/step - loss: 0.6689 - acc: 0.8247 - val_loss: 0.6919 - val_acc: 0.8142\n",
            "Epoch 132/250\n",
            "184/184 [==============================] - 0s 2ms/step - loss: 0.6647 - acc: 0.8248 - val_loss: 0.6878 - val_acc: 0.8142\n",
            "Epoch 133/250\n",
            "184/184 [==============================] - 0s 2ms/step - loss: 0.6606 - acc: 0.8253 - val_loss: 0.6837 - val_acc: 0.8177\n",
            "Epoch 134/250\n",
            "184/184 [==============================] - 0s 2ms/step - loss: 0.6564 - acc: 0.8276 - val_loss: 0.6796 - val_acc: 0.8194\n",
            "Epoch 135/250\n",
            "184/184 [==============================] - 0s 2ms/step - loss: 0.6523 - acc: 0.8280 - val_loss: 0.6755 - val_acc: 0.8194\n",
            "Epoch 136/250\n",
            "184/184 [==============================] - 0s 2ms/step - loss: 0.6482 - acc: 0.8281 - val_loss: 0.6714 - val_acc: 0.8207\n",
            "Epoch 137/250\n",
            "184/184 [==============================] - 0s 2ms/step - loss: 0.6441 - acc: 0.8297 - val_loss: 0.6674 - val_acc: 0.8207\n",
            "Epoch 138/250\n",
            "184/184 [==============================] - 0s 2ms/step - loss: 0.6400 - acc: 0.8297 - val_loss: 0.6633 - val_acc: 0.8207\n",
            "Epoch 139/250\n",
            "184/184 [==============================] - 0s 2ms/step - loss: 0.6359 - acc: 0.8298 - val_loss: 0.6593 - val_acc: 0.8211\n",
            "Epoch 140/250\n",
            "184/184 [==============================] - 0s 2ms/step - loss: 0.6319 - acc: 0.8302 - val_loss: 0.6553 - val_acc: 0.8211\n",
            "Epoch 141/250\n",
            "184/184 [==============================] - 0s 2ms/step - loss: 0.6279 - acc: 0.8305 - val_loss: 0.6514 - val_acc: 0.8211\n",
            "Epoch 142/250\n",
            "184/184 [==============================] - 0s 2ms/step - loss: 0.6239 - acc: 0.8312 - val_loss: 0.6474 - val_acc: 0.8220\n",
            "Epoch 143/250\n",
            "184/184 [==============================] - 0s 2ms/step - loss: 0.6199 - acc: 0.8354 - val_loss: 0.6435 - val_acc: 0.8290\n",
            "Epoch 144/250\n",
            "184/184 [==============================] - 0s 2ms/step - loss: 0.6159 - acc: 0.8360 - val_loss: 0.6395 - val_acc: 0.8299\n",
            "Epoch 145/250\n",
            "184/184 [==============================] - 0s 2ms/step - loss: 0.6120 - acc: 0.8389 - val_loss: 0.6357 - val_acc: 0.8299\n",
            "Epoch 146/250\n",
            "184/184 [==============================] - 0s 2ms/step - loss: 0.6080 - acc: 0.8404 - val_loss: 0.6318 - val_acc: 0.8403\n",
            "Epoch 147/250\n",
            "184/184 [==============================] - 0s 2ms/step - loss: 0.6041 - acc: 0.8484 - val_loss: 0.6279 - val_acc: 0.8403\n",
            "Epoch 148/250\n",
            "184/184 [==============================] - 0s 2ms/step - loss: 0.6002 - acc: 0.8503 - val_loss: 0.6241 - val_acc: 0.8429\n",
            "Epoch 149/250\n",
            "184/184 [==============================] - 0s 2ms/step - loss: 0.5964 - acc: 0.8505 - val_loss: 0.6203 - val_acc: 0.8433\n",
            "Epoch 150/250\n",
            "184/184 [==============================] - 0s 2ms/step - loss: 0.5925 - acc: 0.8534 - val_loss: 0.6165 - val_acc: 0.8499\n",
            "Epoch 151/250\n",
            "184/184 [==============================] - 0s 2ms/step - loss: 0.5887 - acc: 0.8572 - val_loss: 0.6127 - val_acc: 0.8503\n",
            "Epoch 152/250\n",
            "184/184 [==============================] - 0s 2ms/step - loss: 0.5849 - acc: 0.8608 - val_loss: 0.6089 - val_acc: 0.8568\n",
            "Epoch 153/250\n",
            "184/184 [==============================] - 0s 2ms/step - loss: 0.5811 - acc: 0.8640 - val_loss: 0.6052 - val_acc: 0.8568\n",
            "Epoch 154/250\n",
            "184/184 [==============================] - 0s 2ms/step - loss: 0.5774 - acc: 0.8646 - val_loss: 0.6015 - val_acc: 0.8568\n",
            "Epoch 155/250\n",
            "184/184 [==============================] - 0s 2ms/step - loss: 0.5737 - acc: 0.8648 - val_loss: 0.5979 - val_acc: 0.8573\n",
            "Epoch 156/250\n",
            "184/184 [==============================] - 0s 2ms/step - loss: 0.5700 - acc: 0.8656 - val_loss: 0.5942 - val_acc: 0.8577\n",
            "Epoch 157/250\n",
            "184/184 [==============================] - 0s 2ms/step - loss: 0.5663 - acc: 0.8659 - val_loss: 0.5906 - val_acc: 0.8581\n",
            "Epoch 158/250\n",
            "184/184 [==============================] - 0s 2ms/step - loss: 0.5626 - acc: 0.8662 - val_loss: 0.5870 - val_acc: 0.8586\n",
            "Epoch 159/250\n",
            "184/184 [==============================] - 0s 2ms/step - loss: 0.5590 - acc: 0.8689 - val_loss: 0.5834 - val_acc: 0.8621\n",
            "Epoch 160/250\n",
            "184/184 [==============================] - 0s 2ms/step - loss: 0.5554 - acc: 0.8714 - val_loss: 0.5798 - val_acc: 0.8621\n",
            "Epoch 161/250\n",
            "184/184 [==============================] - 0s 2ms/step - loss: 0.5518 - acc: 0.8716 - val_loss: 0.5763 - val_acc: 0.8629\n",
            "Epoch 162/250\n",
            "184/184 [==============================] - 0s 2ms/step - loss: 0.5482 - acc: 0.8721 - val_loss: 0.5728 - val_acc: 0.8629\n",
            "Epoch 163/250\n",
            "184/184 [==============================] - 0s 2ms/step - loss: 0.5447 - acc: 0.8723 - val_loss: 0.5693 - val_acc: 0.8629\n",
            "Epoch 164/250\n",
            "184/184 [==============================] - 0s 2ms/step - loss: 0.5412 - acc: 0.8754 - val_loss: 0.5658 - val_acc: 0.8681\n",
            "Epoch 165/250\n",
            "184/184 [==============================] - 0s 2ms/step - loss: 0.5377 - acc: 0.8773 - val_loss: 0.5624 - val_acc: 0.8721\n",
            "Epoch 166/250\n",
            "184/184 [==============================] - 0s 2ms/step - loss: 0.5342 - acc: 0.8803 - val_loss: 0.5589 - val_acc: 0.8725\n",
            "Epoch 167/250\n",
            "184/184 [==============================] - 0s 2ms/step - loss: 0.5307 - acc: 0.8823 - val_loss: 0.5555 - val_acc: 0.8734\n",
            "Epoch 168/250\n",
            "184/184 [==============================] - 0s 2ms/step - loss: 0.5273 - acc: 0.8853 - val_loss: 0.5521 - val_acc: 0.8734\n",
            "Epoch 169/250\n",
            "184/184 [==============================] - 0s 2ms/step - loss: 0.5239 - acc: 0.8856 - val_loss: 0.5488 - val_acc: 0.8764\n",
            "Epoch 170/250\n",
            "184/184 [==============================] - 0s 2ms/step - loss: 0.5205 - acc: 0.8872 - val_loss: 0.5454 - val_acc: 0.8803\n",
            "Epoch 171/250\n",
            "184/184 [==============================] - 0s 2ms/step - loss: 0.5172 - acc: 0.8930 - val_loss: 0.5421 - val_acc: 0.8803\n",
            "Epoch 172/250\n",
            "184/184 [==============================] - 0s 2ms/step - loss: 0.5138 - acc: 0.8962 - val_loss: 0.5388 - val_acc: 0.8890\n",
            "Epoch 173/250\n",
            "184/184 [==============================] - 0s 2ms/step - loss: 0.5105 - acc: 0.8971 - val_loss: 0.5356 - val_acc: 0.8890\n",
            "Epoch 174/250\n",
            "184/184 [==============================] - 0s 2ms/step - loss: 0.5072 - acc: 0.8988 - val_loss: 0.5323 - val_acc: 0.8912\n",
            "Epoch 175/250\n",
            "184/184 [==============================] - 0s 2ms/step - loss: 0.5039 - acc: 0.8990 - val_loss: 0.5291 - val_acc: 0.8912\n",
            "Epoch 176/250\n",
            "184/184 [==============================] - 0s 2ms/step - loss: 0.5007 - acc: 0.8991 - val_loss: 0.5259 - val_acc: 0.8916\n",
            "Epoch 177/250\n",
            "184/184 [==============================] - 0s 2ms/step - loss: 0.4975 - acc: 0.8991 - val_loss: 0.5227 - val_acc: 0.8916\n",
            "Epoch 178/250\n",
            "184/184 [==============================] - 0s 2ms/step - loss: 0.4943 - acc: 0.8991 - val_loss: 0.5195 - val_acc: 0.8916\n",
            "Epoch 179/250\n",
            "184/184 [==============================] - 0s 2ms/step - loss: 0.4911 - acc: 0.8992 - val_loss: 0.5164 - val_acc: 0.8916\n",
            "Epoch 180/250\n",
            "184/184 [==============================] - 0s 2ms/step - loss: 0.4880 - acc: 0.8992 - val_loss: 0.5133 - val_acc: 0.8916\n",
            "Epoch 181/250\n",
            "184/184 [==============================] - 0s 2ms/step - loss: 0.4849 - acc: 0.8994 - val_loss: 0.5102 - val_acc: 0.8930\n",
            "Epoch 182/250\n",
            "184/184 [==============================] - 0s 2ms/step - loss: 0.4818 - acc: 0.8997 - val_loss: 0.5071 - val_acc: 0.8930\n",
            "Epoch 183/250\n",
            "184/184 [==============================] - 0s 2ms/step - loss: 0.4787 - acc: 0.9002 - val_loss: 0.5041 - val_acc: 0.8951\n",
            "Epoch 184/250\n",
            "184/184 [==============================] - 0s 2ms/step - loss: 0.4756 - acc: 0.9013 - val_loss: 0.5011 - val_acc: 0.8999\n",
            "Epoch 185/250\n",
            "184/184 [==============================] - 0s 2ms/step - loss: 0.4726 - acc: 0.9050 - val_loss: 0.4981 - val_acc: 0.8999\n",
            "Epoch 186/250\n",
            "184/184 [==============================] - 0s 2ms/step - loss: 0.4696 - acc: 0.9052 - val_loss: 0.4952 - val_acc: 0.8999\n",
            "Epoch 187/250\n",
            "184/184 [==============================] - 0s 2ms/step - loss: 0.4667 - acc: 0.9054 - val_loss: 0.4922 - val_acc: 0.8999\n",
            "Epoch 188/250\n",
            "184/184 [==============================] - 0s 2ms/step - loss: 0.4637 - acc: 0.9056 - val_loss: 0.4893 - val_acc: 0.9034\n",
            "Epoch 189/250\n",
            "184/184 [==============================] - 0s 2ms/step - loss: 0.4608 - acc: 0.9088 - val_loss: 0.4864 - val_acc: 0.9034\n",
            "Epoch 190/250\n",
            "184/184 [==============================] - 0s 2ms/step - loss: 0.4579 - acc: 0.9089 - val_loss: 0.4835 - val_acc: 0.9038\n",
            "Epoch 191/250\n",
            "184/184 [==============================] - 0s 2ms/step - loss: 0.4550 - acc: 0.9090 - val_loss: 0.4807 - val_acc: 0.9038\n",
            "Epoch 192/250\n",
            "184/184 [==============================] - 0s 2ms/step - loss: 0.4522 - acc: 0.9096 - val_loss: 0.4778 - val_acc: 0.9043\n",
            "Epoch 193/250\n",
            "184/184 [==============================] - 0s 2ms/step - loss: 0.4493 - acc: 0.9101 - val_loss: 0.4750 - val_acc: 0.9043\n",
            "Epoch 194/250\n",
            "184/184 [==============================] - 0s 2ms/step - loss: 0.4465 - acc: 0.9101 - val_loss: 0.4722 - val_acc: 0.9043\n",
            "Epoch 195/250\n",
            "184/184 [==============================] - 0s 2ms/step - loss: 0.4437 - acc: 0.9102 - val_loss: 0.4695 - val_acc: 0.9043\n",
            "Epoch 196/250\n",
            "184/184 [==============================] - 0s 2ms/step - loss: 0.4410 - acc: 0.9103 - val_loss: 0.4667 - val_acc: 0.9051\n",
            "Epoch 197/250\n",
            "184/184 [==============================] - 0s 2ms/step - loss: 0.4382 - acc: 0.9103 - val_loss: 0.4640 - val_acc: 0.9051\n",
            "Epoch 198/250\n",
            "184/184 [==============================] - 0s 2ms/step - loss: 0.4355 - acc: 0.9104 - val_loss: 0.4613 - val_acc: 0.9056\n",
            "Epoch 199/250\n",
            "184/184 [==============================] - 0s 2ms/step - loss: 0.4328 - acc: 0.9105 - val_loss: 0.4587 - val_acc: 0.9056\n",
            "Epoch 200/250\n",
            "184/184 [==============================] - 0s 2ms/step - loss: 0.4302 - acc: 0.9117 - val_loss: 0.4561 - val_acc: 0.9056\n",
            "Epoch 201/250\n",
            "184/184 [==============================] - 0s 2ms/step - loss: 0.4275 - acc: 0.9121 - val_loss: 0.4534 - val_acc: 0.9056\n",
            "Epoch 202/250\n",
            "184/184 [==============================] - 0s 2ms/step - loss: 0.4249 - acc: 0.9125 - val_loss: 0.4508 - val_acc: 0.9056\n",
            "Epoch 203/250\n",
            "184/184 [==============================] - 0s 2ms/step - loss: 0.4223 - acc: 0.9126 - val_loss: 0.4483 - val_acc: 0.9056\n",
            "Epoch 204/250\n",
            "184/184 [==============================] - 0s 2ms/step - loss: 0.4198 - acc: 0.9126 - val_loss: 0.4457 - val_acc: 0.9056\n",
            "Epoch 205/250\n",
            "184/184 [==============================] - 0s 2ms/step - loss: 0.4172 - acc: 0.9126 - val_loss: 0.4432 - val_acc: 0.9056\n",
            "Epoch 206/250\n",
            "184/184 [==============================] - 0s 2ms/step - loss: 0.4147 - acc: 0.9130 - val_loss: 0.4407 - val_acc: 0.9077\n",
            "Epoch 207/250\n",
            "184/184 [==============================] - 0s 2ms/step - loss: 0.4122 - acc: 0.9141 - val_loss: 0.4382 - val_acc: 0.9077\n",
            "Epoch 208/250\n",
            "184/184 [==============================] - 0s 2ms/step - loss: 0.4097 - acc: 0.9141 - val_loss: 0.4357 - val_acc: 0.9095\n",
            "Epoch 209/250\n",
            "184/184 [==============================] - 0s 2ms/step - loss: 0.4073 - acc: 0.9148 - val_loss: 0.4333 - val_acc: 0.9095\n",
            "Epoch 210/250\n",
            "184/184 [==============================] - 0s 2ms/step - loss: 0.4048 - acc: 0.9150 - val_loss: 0.4309 - val_acc: 0.9095\n",
            "Epoch 211/250\n",
            "184/184 [==============================] - 0s 2ms/step - loss: 0.4024 - acc: 0.9150 - val_loss: 0.4285 - val_acc: 0.9095\n",
            "Epoch 212/250\n",
            "184/184 [==============================] - 0s 2ms/step - loss: 0.4000 - acc: 0.9152 - val_loss: 0.4261 - val_acc: 0.9095\n",
            "Epoch 213/250\n",
            "184/184 [==============================] - 0s 2ms/step - loss: 0.3977 - acc: 0.9152 - val_loss: 0.4237 - val_acc: 0.9095\n",
            "Epoch 214/250\n",
            "184/184 [==============================] - 0s 2ms/step - loss: 0.3953 - acc: 0.9152 - val_loss: 0.4214 - val_acc: 0.9095\n",
            "Epoch 215/250\n",
            "184/184 [==============================] - 0s 2ms/step - loss: 0.3930 - acc: 0.9152 - val_loss: 0.4191 - val_acc: 0.9108\n",
            "Epoch 216/250\n",
            "184/184 [==============================] - 0s 2ms/step - loss: 0.3907 - acc: 0.9159 - val_loss: 0.4168 - val_acc: 0.9108\n",
            "Epoch 217/250\n",
            "184/184 [==============================] - 0s 2ms/step - loss: 0.3884 - acc: 0.9164 - val_loss: 0.4145 - val_acc: 0.9112\n",
            "Epoch 218/250\n",
            "184/184 [==============================] - 0s 2ms/step - loss: 0.3861 - acc: 0.9168 - val_loss: 0.4122 - val_acc: 0.9134\n",
            "Epoch 219/250\n",
            "184/184 [==============================] - 0s 2ms/step - loss: 0.3839 - acc: 0.9172 - val_loss: 0.4100 - val_acc: 0.9134\n",
            "Epoch 220/250\n",
            "184/184 [==============================] - 0s 2ms/step - loss: 0.3817 - acc: 0.9173 - val_loss: 0.4078 - val_acc: 0.9134\n",
            "Epoch 221/250\n",
            "184/184 [==============================] - 0s 2ms/step - loss: 0.3795 - acc: 0.9173 - val_loss: 0.4056 - val_acc: 0.9134\n",
            "Epoch 222/250\n",
            "184/184 [==============================] - 0s 2ms/step - loss: 0.3773 - acc: 0.9175 - val_loss: 0.4035 - val_acc: 0.9134\n",
            "Epoch 223/250\n",
            "184/184 [==============================] - 0s 2ms/step - loss: 0.3752 - acc: 0.9175 - val_loss: 0.4013 - val_acc: 0.9134\n",
            "Epoch 224/250\n",
            "184/184 [==============================] - 0s 2ms/step - loss: 0.3730 - acc: 0.9176 - val_loss: 0.3992 - val_acc: 0.9134\n",
            "Epoch 225/250\n",
            "184/184 [==============================] - 0s 2ms/step - loss: 0.3709 - acc: 0.9179 - val_loss: 0.3971 - val_acc: 0.9134\n",
            "Epoch 226/250\n",
            "184/184 [==============================] - 0s 2ms/step - loss: 0.3688 - acc: 0.9178 - val_loss: 0.3950 - val_acc: 0.9138\n",
            "Epoch 227/250\n",
            "184/184 [==============================] - 0s 2ms/step - loss: 0.3668 - acc: 0.9184 - val_loss: 0.3929 - val_acc: 0.9134\n",
            "Epoch 228/250\n",
            "184/184 [==============================] - 0s 2ms/step - loss: 0.3647 - acc: 0.9190 - val_loss: 0.3909 - val_acc: 0.9138\n",
            "Epoch 229/250\n",
            "184/184 [==============================] - 0s 2ms/step - loss: 0.3627 - acc: 0.9191 - val_loss: 0.3888 - val_acc: 0.9134\n",
            "Epoch 230/250\n",
            "184/184 [==============================] - 0s 2ms/step - loss: 0.3607 - acc: 0.9199 - val_loss: 0.3868 - val_acc: 0.9134\n",
            "Epoch 231/250\n",
            "184/184 [==============================] - 0s 2ms/step - loss: 0.3587 - acc: 0.9213 - val_loss: 0.3849 - val_acc: 0.9147\n",
            "Epoch 232/250\n",
            "184/184 [==============================] - 0s 2ms/step - loss: 0.3567 - acc: 0.9210 - val_loss: 0.3829 - val_acc: 0.9151\n",
            "Epoch 233/250\n",
            "184/184 [==============================] - 0s 2ms/step - loss: 0.3547 - acc: 0.9214 - val_loss: 0.3809 - val_acc: 0.9151\n",
            "Epoch 234/250\n",
            "184/184 [==============================] - 0s 2ms/step - loss: 0.3528 - acc: 0.9214 - val_loss: 0.3790 - val_acc: 0.9151\n",
            "Epoch 235/250\n",
            "184/184 [==============================] - 0s 2ms/step - loss: 0.3509 - acc: 0.9224 - val_loss: 0.3771 - val_acc: 0.9151\n",
            "Epoch 236/250\n",
            "184/184 [==============================] - 0s 2ms/step - loss: 0.3490 - acc: 0.9226 - val_loss: 0.3752 - val_acc: 0.9151\n",
            "Epoch 237/250\n",
            "184/184 [==============================] - 0s 2ms/step - loss: 0.3471 - acc: 0.9233 - val_loss: 0.3733 - val_acc: 0.9156\n",
            "Epoch 238/250\n",
            "184/184 [==============================] - 0s 2ms/step - loss: 0.3452 - acc: 0.9229 - val_loss: 0.3714 - val_acc: 0.9156\n",
            "Epoch 239/250\n",
            "184/184 [==============================] - 0s 2ms/step - loss: 0.3434 - acc: 0.9234 - val_loss: 0.3696 - val_acc: 0.9156\n",
            "Epoch 240/250\n",
            "184/184 [==============================] - 0s 2ms/step - loss: 0.3416 - acc: 0.9235 - val_loss: 0.3678 - val_acc: 0.9156\n",
            "Epoch 241/250\n",
            "184/184 [==============================] - 0s 2ms/step - loss: 0.3398 - acc: 0.9234 - val_loss: 0.3659 - val_acc: 0.9160\n",
            "Epoch 242/250\n",
            "184/184 [==============================] - 0s 2ms/step - loss: 0.3380 - acc: 0.9238 - val_loss: 0.3641 - val_acc: 0.9160\n",
            "Epoch 243/250\n",
            "184/184 [==============================] - 0s 2ms/step - loss: 0.3362 - acc: 0.9242 - val_loss: 0.3624 - val_acc: 0.9212\n",
            "Epoch 244/250\n",
            "184/184 [==============================] - 0s 2ms/step - loss: 0.3344 - acc: 0.9310 - val_loss: 0.3606 - val_acc: 0.9212\n",
            "Epoch 245/250\n",
            "184/184 [==============================] - 0s 3ms/step - loss: 0.3327 - acc: 0.9311 - val_loss: 0.3589 - val_acc: 0.9217\n",
            "Epoch 246/250\n",
            "184/184 [==============================] - 0s 2ms/step - loss: 0.3310 - acc: 0.9313 - val_loss: 0.3572 - val_acc: 0.9217\n",
            "Epoch 247/250\n",
            "184/184 [==============================] - 0s 2ms/step - loss: 0.3292 - acc: 0.9313 - val_loss: 0.3554 - val_acc: 0.9217\n",
            "Epoch 248/250\n",
            "184/184 [==============================] - 0s 2ms/step - loss: 0.3275 - acc: 0.9313 - val_loss: 0.3537 - val_acc: 0.9217\n",
            "Epoch 249/250\n",
            "184/184 [==============================] - 0s 3ms/step - loss: 0.3259 - acc: 0.9313 - val_loss: 0.3521 - val_acc: 0.9217\n",
            "Epoch 250/250\n",
            "184/184 [==============================] - 0s 2ms/step - loss: 0.3242 - acc: 0.9314 - val_loss: 0.3504 - val_acc: 0.9217\n",
            "<bound method Model.summary of <tensorflow.python.keras.engine.sequential.Sequential object at 0x7fd843a6d240>>\n",
            "Test Accuracy:\n",
            "2068/2068 [==============================] - 4s 2ms/step - loss: 0.3308 - acc: 0.9265\n",
            "Random Sample Accuracy:\n",
            "30/30 [==============================] - 0s 2ms/step - loss: 0.8340 - acc: 0.7287\n"
          ],
          "name": "stdout"
        },
        {
          "output_type": "display_data",
          "data": {
            "image/png": "[encoded data removed]",
            "text/plain": [
              "<Figure size 1080x432 with 2 Axes>"
            ]
          },
          "metadata": {
            "tags": [],
            "needs_background": "light"
          }
        }
      ]
    },
    {
      "cell_type": "code",
      "metadata": {
        "id": "H843Nzhp68kH"
      },
      "source": [
        "model5_params = {'activation 1': 'relu', \n",
        "                 'activation 2': 'relu', \n",
        "                 'activation 3': 'softmax', \n",
        "                 'opt': tf.keras.optimizers.SGD(learning_rate=0.001),\n",
        "                 'loss': 'categorical_crossentropy',\n",
        "                 'epochs': 270, \n",
        "                 'batch_size': 40, \n",
        "                 }"
      ],
      "execution_count": 48,
      "outputs": []
    },
    {
      "cell_type": "code",
      "metadata": {
        "colab": {
          "base_uri": "https://localhost:8080/",
          "height": 1000
        },
        "id": "zx-thXl37FTR",
        "outputId": "cf79a66b-a6db-4ba3-bef3-bb1f307110fe"
      },
      "source": [
        "model5_history, model5 = create_model(train, label_train, test, label_test, model5_params)"
      ],
      "execution_count": 49,
      "outputs": [
        {
          "output_type": "stream",
          "text": [
            "Epoch 1/270\n",
            "230/230 [==============================] - 1s 3ms/step - loss: 2.5883 - acc: 0.3399 - val_loss: 2.5324 - val_acc: 0.5096\n",
            "Epoch 2/270\n",
            "230/230 [==============================] - 0s 2ms/step - loss: 2.4650 - acc: 0.5212 - val_loss: 2.4024 - val_acc: 0.5109\n",
            "Epoch 3/270\n",
            "230/230 [==============================] - 0s 2ms/step - loss: 2.3273 - acc: 0.5215 - val_loss: 2.2667 - val_acc: 0.5109\n",
            "Epoch 4/270\n",
            "230/230 [==============================] - 1s 2ms/step - loss: 2.1859 - acc: 0.5215 - val_loss: 2.1280 - val_acc: 0.5109\n",
            "Epoch 5/270\n",
            "230/230 [==============================] - 1s 2ms/step - loss: 2.0423 - acc: 0.5215 - val_loss: 1.9900 - val_acc: 0.5109\n",
            "Epoch 6/270\n",
            "230/230 [==============================] - 0s 2ms/step - loss: 1.9058 - acc: 0.5215 - val_loss: 1.8670 - val_acc: 0.5109\n",
            "Epoch 7/270\n",
            "230/230 [==============================] - 1s 2ms/step - loss: 1.7925 - acc: 0.5215 - val_loss: 1.7736 - val_acc: 0.5109\n",
            "Epoch 8/270\n",
            "230/230 [==============================] - 0s 2ms/step - loss: 1.7119 - acc: 0.5215 - val_loss: 1.7115 - val_acc: 0.5109\n",
            "Epoch 9/270\n",
            "230/230 [==============================] - 1s 2ms/step - loss: 1.6597 - acc: 0.5215 - val_loss: 1.6718 - val_acc: 0.5109\n",
            "Epoch 10/270\n",
            "230/230 [==============================] - 1s 2ms/step - loss: 1.6253 - acc: 0.5215 - val_loss: 1.6442 - val_acc: 0.5109\n",
            "Epoch 11/270\n",
            "230/230 [==============================] - 0s 2ms/step - loss: 1.6001 - acc: 0.5215 - val_loss: 1.6225 - val_acc: 0.5109\n",
            "Epoch 12/270\n",
            "230/230 [==============================] - 0s 2ms/step - loss: 1.5795 - acc: 0.5215 - val_loss: 1.6037 - val_acc: 0.5109\n",
            "Epoch 13/270\n",
            "230/230 [==============================] - 1s 2ms/step - loss: 1.5612 - acc: 0.5215 - val_loss: 1.5864 - val_acc: 0.5109\n",
            "Epoch 14/270\n",
            "230/230 [==============================] - 0s 2ms/step - loss: 1.5443 - acc: 0.5215 - val_loss: 1.5702 - val_acc: 0.5109\n",
            "Epoch 15/270\n",
            "230/230 [==============================] - 1s 2ms/step - loss: 1.5282 - acc: 0.5215 - val_loss: 1.5544 - val_acc: 0.5109\n",
            "Epoch 16/270\n",
            "230/230 [==============================] - 1s 2ms/step - loss: 1.5126 - acc: 0.5215 - val_loss: 1.5389 - val_acc: 0.5109\n",
            "Epoch 17/270\n",
            "230/230 [==============================] - 1s 2ms/step - loss: 1.4973 - acc: 0.5215 - val_loss: 1.5239 - val_acc: 0.5109\n",
            "Epoch 18/270\n",
            "230/230 [==============================] - 0s 2ms/step - loss: 1.4826 - acc: 0.5215 - val_loss: 1.5094 - val_acc: 0.5109\n",
            "Epoch 19/270\n",
            "230/230 [==============================] - 0s 2ms/step - loss: 1.4685 - acc: 0.5215 - val_loss: 1.4954 - val_acc: 0.5109\n",
            "Epoch 20/270\n",
            "230/230 [==============================] - 0s 2ms/step - loss: 1.4547 - acc: 0.5215 - val_loss: 1.4818 - val_acc: 0.5109\n",
            "Epoch 21/270\n",
            "230/230 [==============================] - 1s 2ms/step - loss: 1.4413 - acc: 0.5215 - val_loss: 1.4683 - val_acc: 0.5109\n",
            "Epoch 22/270\n",
            "230/230 [==============================] - 0s 2ms/step - loss: 1.4280 - acc: 0.5215 - val_loss: 1.4548 - val_acc: 0.5109\n",
            "Epoch 23/270\n",
            "230/230 [==============================] - 1s 2ms/step - loss: 1.4147 - acc: 0.5215 - val_loss: 1.4414 - val_acc: 0.5109\n",
            "Epoch 24/270\n",
            "230/230 [==============================] - 0s 2ms/step - loss: 1.4016 - acc: 0.5215 - val_loss: 1.4283 - val_acc: 0.5109\n",
            "Epoch 25/270\n",
            "230/230 [==============================] - 1s 2ms/step - loss: 1.3888 - acc: 0.5215 - val_loss: 1.4154 - val_acc: 0.5109\n",
            "Epoch 26/270\n",
            "230/230 [==============================] - 0s 2ms/step - loss: 1.3762 - acc: 0.5215 - val_loss: 1.4027 - val_acc: 0.5109\n",
            "Epoch 27/270\n",
            "230/230 [==============================] - 1s 2ms/step - loss: 1.3640 - acc: 0.5215 - val_loss: 1.3905 - val_acc: 0.5109\n",
            "Epoch 28/270\n",
            "230/230 [==============================] - 0s 2ms/step - loss: 1.3521 - acc: 0.5215 - val_loss: 1.3786 - val_acc: 0.5109\n",
            "Epoch 29/270\n",
            "230/230 [==============================] - 0s 2ms/step - loss: 1.3406 - acc: 0.5215 - val_loss: 1.3672 - val_acc: 0.5109\n",
            "Epoch 30/270\n",
            "230/230 [==============================] - 0s 2ms/step - loss: 1.3296 - acc: 0.5215 - val_loss: 1.3562 - val_acc: 0.5109\n",
            "Epoch 31/270\n",
            "230/230 [==============================] - 0s 2ms/step - loss: 1.3187 - acc: 0.5215 - val_loss: 1.3453 - val_acc: 0.5109\n",
            "Epoch 32/270\n",
            "230/230 [==============================] - 1s 2ms/step - loss: 1.3081 - acc: 0.5215 - val_loss: 1.3345 - val_acc: 0.5109\n",
            "Epoch 33/270\n",
            "230/230 [==============================] - 0s 2ms/step - loss: 1.2976 - acc: 0.5215 - val_loss: 1.3241 - val_acc: 0.5109\n",
            "Epoch 34/270\n",
            "230/230 [==============================] - 1s 2ms/step - loss: 1.2874 - acc: 0.5215 - val_loss: 1.3138 - val_acc: 0.5109\n",
            "Epoch 35/270\n",
            "230/230 [==============================] - 1s 2ms/step - loss: 1.2773 - acc: 0.5215 - val_loss: 1.3035 - val_acc: 0.5109\n",
            "Epoch 36/270\n",
            "230/230 [==============================] - 1s 2ms/step - loss: 1.2672 - acc: 0.5215 - val_loss: 1.2934 - val_acc: 0.5109\n",
            "Epoch 37/270\n",
            "230/230 [==============================] - 0s 2ms/step - loss: 1.2574 - acc: 0.5215 - val_loss: 1.2835 - val_acc: 0.5109\n",
            "Epoch 38/270\n",
            "230/230 [==============================] - 0s 2ms/step - loss: 1.2477 - acc: 0.5364 - val_loss: 1.2737 - val_acc: 0.5335\n",
            "Epoch 39/270\n",
            "230/230 [==============================] - 0s 2ms/step - loss: 1.2381 - acc: 0.5409 - val_loss: 1.2641 - val_acc: 0.5335\n",
            "Epoch 40/270\n",
            "230/230 [==============================] - 1s 2ms/step - loss: 1.2287 - acc: 0.5409 - val_loss: 1.2547 - val_acc: 0.5335\n",
            "Epoch 41/270\n",
            "230/230 [==============================] - 1s 2ms/step - loss: 1.2195 - acc: 0.5414 - val_loss: 1.2453 - val_acc: 0.5387\n",
            "Epoch 42/270\n",
            "230/230 [==============================] - 1s 2ms/step - loss: 1.2103 - acc: 0.5455 - val_loss: 1.2362 - val_acc: 0.5387\n",
            "Epoch 43/270\n",
            "230/230 [==============================] - 0s 2ms/step - loss: 1.2014 - acc: 0.5455 - val_loss: 1.2271 - val_acc: 0.5387\n",
            "Epoch 44/270\n",
            "230/230 [==============================] - 0s 2ms/step - loss: 1.1926 - acc: 0.5455 - val_loss: 1.2182 - val_acc: 0.5387\n",
            "Epoch 45/270\n",
            "230/230 [==============================] - 0s 2ms/step - loss: 1.1838 - acc: 0.5540 - val_loss: 1.2094 - val_acc: 0.5561\n",
            "Epoch 46/270\n",
            "230/230 [==============================] - 0s 2ms/step - loss: 1.1752 - acc: 0.5759 - val_loss: 1.2008 - val_acc: 0.5679\n",
            "Epoch 47/270\n",
            "230/230 [==============================] - 1s 2ms/step - loss: 1.1667 - acc: 0.5779 - val_loss: 1.1921 - val_acc: 0.5679\n",
            "Epoch 48/270\n",
            "230/230 [==============================] - 0s 2ms/step - loss: 1.1583 - acc: 0.5822 - val_loss: 1.1837 - val_acc: 0.5792\n",
            "Epoch 49/270\n",
            "230/230 [==============================] - 1s 2ms/step - loss: 1.1500 - acc: 0.5976 - val_loss: 1.1752 - val_acc: 0.5836\n",
            "Epoch 50/270\n",
            "230/230 [==============================] - 0s 2ms/step - loss: 1.1418 - acc: 0.6020 - val_loss: 1.1670 - val_acc: 0.5896\n",
            "Epoch 51/270\n",
            "230/230 [==============================] - 1s 2ms/step - loss: 1.1337 - acc: 0.6035 - val_loss: 1.1588 - val_acc: 0.5901\n",
            "Epoch 52/270\n",
            "230/230 [==============================] - 0s 2ms/step - loss: 1.1258 - acc: 0.6220 - val_loss: 1.1507 - val_acc: 0.6205\n",
            "Epoch 53/270\n",
            "230/230 [==============================] - 0s 2ms/step - loss: 1.1179 - acc: 0.6330 - val_loss: 1.1427 - val_acc: 0.6240\n",
            "Epoch 54/270\n",
            "230/230 [==============================] - 1s 2ms/step - loss: 1.1100 - acc: 0.6400 - val_loss: 1.1347 - val_acc: 0.6310\n",
            "Epoch 55/270\n",
            "230/230 [==============================] - 1s 2ms/step - loss: 1.1023 - acc: 0.6415 - val_loss: 1.1268 - val_acc: 0.6305\n",
            "Epoch 56/270\n",
            "230/230 [==============================] - 1s 2ms/step - loss: 1.0946 - acc: 0.6483 - val_loss: 1.1191 - val_acc: 0.6462\n",
            "Epoch 57/270\n",
            "230/230 [==============================] - 1s 2ms/step - loss: 1.0871 - acc: 0.6627 - val_loss: 1.1115 - val_acc: 0.6628\n",
            "Epoch 58/270\n",
            "230/230 [==============================] - 1s 2ms/step - loss: 1.0797 - acc: 0.6731 - val_loss: 1.1039 - val_acc: 0.6636\n",
            "Epoch 59/270\n",
            "230/230 [==============================] - 1s 2ms/step - loss: 1.0723 - acc: 0.6869 - val_loss: 1.0964 - val_acc: 0.6928\n",
            "Epoch 60/270\n",
            "230/230 [==============================] - 1s 2ms/step - loss: 1.0651 - acc: 0.6994 - val_loss: 1.0890 - val_acc: 0.6928\n",
            "Epoch 61/270\n",
            "230/230 [==============================] - 1s 2ms/step - loss: 1.0578 - acc: 0.7003 - val_loss: 1.0816 - val_acc: 0.6963\n",
            "Epoch 62/270\n",
            "230/230 [==============================] - 1s 2ms/step - loss: 1.0506 - acc: 0.7024 - val_loss: 1.0743 - val_acc: 0.6989\n",
            "Epoch 63/270\n",
            "230/230 [==============================] - 1s 2ms/step - loss: 1.0435 - acc: 0.7030 - val_loss: 1.0670 - val_acc: 0.6989\n",
            "Epoch 64/270\n",
            "230/230 [==============================] - 1s 2ms/step - loss: 1.0365 - acc: 0.7025 - val_loss: 1.0597 - val_acc: 0.7010\n",
            "Epoch 65/270\n",
            "230/230 [==============================] - 1s 2ms/step - loss: 1.0295 - acc: 0.7060 - val_loss: 1.0526 - val_acc: 0.7023\n",
            "Epoch 66/270\n",
            "230/230 [==============================] - 1s 2ms/step - loss: 1.0225 - acc: 0.7078 - val_loss: 1.0455 - val_acc: 0.7041\n",
            "Epoch 67/270\n",
            "230/230 [==============================] - 1s 2ms/step - loss: 1.0156 - acc: 0.7091 - val_loss: 1.0385 - val_acc: 0.7041\n",
            "Epoch 68/270\n",
            "230/230 [==============================] - 1s 2ms/step - loss: 1.0088 - acc: 0.7089 - val_loss: 1.0316 - val_acc: 0.7010\n",
            "Epoch 69/270\n",
            "230/230 [==============================] - 1s 2ms/step - loss: 1.0021 - acc: 0.7084 - val_loss: 1.0246 - val_acc: 0.7010\n",
            "Epoch 70/270\n",
            "230/230 [==============================] - 1s 2ms/step - loss: 0.9953 - acc: 0.7084 - val_loss: 1.0177 - val_acc: 0.7010\n",
            "Epoch 71/270\n",
            "230/230 [==============================] - 1s 2ms/step - loss: 0.9885 - acc: 0.7091 - val_loss: 1.0107 - val_acc: 0.7019\n",
            "Epoch 72/270\n",
            "230/230 [==============================] - 1s 2ms/step - loss: 0.9817 - acc: 0.7096 - val_loss: 1.0038 - val_acc: 0.7019\n",
            "Epoch 73/270\n",
            "230/230 [==============================] - 1s 2ms/step - loss: 0.9750 - acc: 0.7085 - val_loss: 0.9969 - val_acc: 0.7019\n",
            "Epoch 74/270\n",
            "230/230 [==============================] - 0s 2ms/step - loss: 0.9683 - acc: 0.7085 - val_loss: 0.9901 - val_acc: 0.7019\n",
            "Epoch 75/270\n",
            "230/230 [==============================] - 1s 2ms/step - loss: 0.9616 - acc: 0.7080 - val_loss: 0.9833 - val_acc: 0.7019\n",
            "Epoch 76/270\n",
            "230/230 [==============================] - 1s 2ms/step - loss: 0.9549 - acc: 0.7080 - val_loss: 0.9765 - val_acc: 0.7019\n",
            "Epoch 77/270\n",
            "230/230 [==============================] - 1s 2ms/step - loss: 0.9483 - acc: 0.7080 - val_loss: 0.9697 - val_acc: 0.7019\n",
            "Epoch 78/270\n",
            "230/230 [==============================] - 0s 2ms/step - loss: 0.9417 - acc: 0.7091 - val_loss: 0.9630 - val_acc: 0.7037\n",
            "Epoch 79/270\n",
            "230/230 [==============================] - 1s 2ms/step - loss: 0.9352 - acc: 0.7093 - val_loss: 0.9563 - val_acc: 0.7037\n",
            "Epoch 80/270\n",
            "230/230 [==============================] - 1s 2ms/step - loss: 0.9287 - acc: 0.7097 - val_loss: 0.9497 - val_acc: 0.7058\n",
            "Epoch 81/270\n",
            "230/230 [==============================] - 0s 2ms/step - loss: 0.9223 - acc: 0.7119 - val_loss: 0.9432 - val_acc: 0.7058\n",
            "Epoch 82/270\n",
            "230/230 [==============================] - 1s 2ms/step - loss: 0.9159 - acc: 0.7119 - val_loss: 0.9367 - val_acc: 0.7058\n",
            "Epoch 83/270\n",
            "230/230 [==============================] - 1s 2ms/step - loss: 0.9096 - acc: 0.7119 - val_loss: 0.9303 - val_acc: 0.7058\n",
            "Epoch 84/270\n",
            "230/230 [==============================] - 1s 2ms/step - loss: 0.9033 - acc: 0.7119 - val_loss: 0.9239 - val_acc: 0.7058\n",
            "Epoch 85/270\n",
            "230/230 [==============================] - 1s 2ms/step - loss: 0.8971 - acc: 0.7130 - val_loss: 0.9175 - val_acc: 0.7115\n",
            "Epoch 86/270\n",
            "230/230 [==============================] - 0s 2ms/step - loss: 0.8909 - acc: 0.7176 - val_loss: 0.9113 - val_acc: 0.7124\n",
            "Epoch 87/270\n",
            "230/230 [==============================] - 0s 2ms/step - loss: 0.8848 - acc: 0.7183 - val_loss: 0.9051 - val_acc: 0.7124\n",
            "Epoch 88/270\n",
            "230/230 [==============================] - 0s 2ms/step - loss: 0.8787 - acc: 0.7183 - val_loss: 0.8989 - val_acc: 0.7124\n",
            "Epoch 89/270\n",
            "230/230 [==============================] - 0s 2ms/step - loss: 0.8728 - acc: 0.7183 - val_loss: 0.8929 - val_acc: 0.7124\n",
            "Epoch 90/270\n",
            "230/230 [==============================] - 0s 2ms/step - loss: 0.8668 - acc: 0.7183 - val_loss: 0.8870 - val_acc: 0.7124\n",
            "Epoch 91/270\n",
            "230/230 [==============================] - 0s 2ms/step - loss: 0.8610 - acc: 0.7225 - val_loss: 0.8811 - val_acc: 0.7167\n",
            "Epoch 92/270\n",
            "230/230 [==============================] - 1s 2ms/step - loss: 0.8552 - acc: 0.7254 - val_loss: 0.8752 - val_acc: 0.7228\n",
            "Epoch 93/270\n",
            "230/230 [==============================] - 0s 2ms/step - loss: 0.8494 - acc: 0.7270 - val_loss: 0.8694 - val_acc: 0.7232\n",
            "Epoch 94/270\n",
            "230/230 [==============================] - 0s 2ms/step - loss: 0.8436 - acc: 0.7273 - val_loss: 0.8636 - val_acc: 0.7232\n",
            "Epoch 95/270\n",
            "230/230 [==============================] - 1s 2ms/step - loss: 0.8379 - acc: 0.7279 - val_loss: 0.8579 - val_acc: 0.7263\n",
            "Epoch 96/270\n",
            "230/230 [==============================] - 0s 2ms/step - loss: 0.8322 - acc: 0.7301 - val_loss: 0.8522 - val_acc: 0.7263\n",
            "Epoch 97/270\n",
            "230/230 [==============================] - 1s 2ms/step - loss: 0.8266 - acc: 0.7369 - val_loss: 0.8465 - val_acc: 0.7341\n",
            "Epoch 98/270\n",
            "230/230 [==============================] - 0s 2ms/step - loss: 0.8210 - acc: 0.7421 - val_loss: 0.8409 - val_acc: 0.7424\n",
            "Epoch 99/270\n",
            "230/230 [==============================] - 0s 2ms/step - loss: 0.8155 - acc: 0.7486 - val_loss: 0.8354 - val_acc: 0.7424\n",
            "Epoch 100/270\n",
            "230/230 [==============================] - 1s 2ms/step - loss: 0.8099 - acc: 0.7489 - val_loss: 0.8298 - val_acc: 0.7424\n",
            "Epoch 101/270\n",
            "230/230 [==============================] - 0s 2ms/step - loss: 0.8045 - acc: 0.7491 - val_loss: 0.8243 - val_acc: 0.7424\n",
            "Epoch 102/270\n",
            "230/230 [==============================] - 1s 2ms/step - loss: 0.7990 - acc: 0.7491 - val_loss: 0.8189 - val_acc: 0.7424\n",
            "Epoch 103/270\n",
            "230/230 [==============================] - 1s 2ms/step - loss: 0.7936 - acc: 0.7526 - val_loss: 0.8135 - val_acc: 0.7472\n",
            "Epoch 104/270\n",
            "230/230 [==============================] - 1s 2ms/step - loss: 0.7882 - acc: 0.7566 - val_loss: 0.8080 - val_acc: 0.7472\n",
            "Epoch 105/270\n",
            "230/230 [==============================] - 1s 2ms/step - loss: 0.7828 - acc: 0.7620 - val_loss: 0.8027 - val_acc: 0.7537\n",
            "Epoch 106/270\n",
            "230/230 [==============================] - 0s 2ms/step - loss: 0.7774 - acc: 0.7699 - val_loss: 0.7973 - val_acc: 0.7585\n",
            "Epoch 107/270\n",
            "230/230 [==============================] - 0s 2ms/step - loss: 0.7721 - acc: 0.7713 - val_loss: 0.7920 - val_acc: 0.7624\n",
            "Epoch 108/270\n",
            "230/230 [==============================] - 1s 2ms/step - loss: 0.7668 - acc: 0.7723 - val_loss: 0.7867 - val_acc: 0.7624\n",
            "Epoch 109/270\n",
            "230/230 [==============================] - 1s 2ms/step - loss: 0.7614 - acc: 0.7735 - val_loss: 0.7814 - val_acc: 0.7646\n",
            "Epoch 110/270\n",
            "230/230 [==============================] - 1s 2ms/step - loss: 0.7561 - acc: 0.7763 - val_loss: 0.7761 - val_acc: 0.7759\n",
            "Epoch 111/270\n",
            "230/230 [==============================] - 0s 2ms/step - loss: 0.7509 - acc: 0.8022 - val_loss: 0.7708 - val_acc: 0.8046\n",
            "Epoch 112/270\n",
            "230/230 [==============================] - 1s 2ms/step - loss: 0.7456 - acc: 0.8129 - val_loss: 0.7656 - val_acc: 0.8085\n",
            "Epoch 113/270\n",
            "230/230 [==============================] - 0s 2ms/step - loss: 0.7403 - acc: 0.8145 - val_loss: 0.7603 - val_acc: 0.8090\n",
            "Epoch 114/270\n",
            "230/230 [==============================] - 0s 2ms/step - loss: 0.7351 - acc: 0.8145 - val_loss: 0.7551 - val_acc: 0.8094\n",
            "Epoch 115/270\n",
            "230/230 [==============================] - 1s 2ms/step - loss: 0.7299 - acc: 0.8150 - val_loss: 0.7498 - val_acc: 0.8103\n",
            "Epoch 116/270\n",
            "230/230 [==============================] - 0s 2ms/step - loss: 0.7246 - acc: 0.8164 - val_loss: 0.7447 - val_acc: 0.8103\n",
            "Epoch 117/270\n",
            "230/230 [==============================] - 0s 2ms/step - loss: 0.7194 - acc: 0.8166 - val_loss: 0.7395 - val_acc: 0.8103\n",
            "Epoch 118/270\n",
            "230/230 [==============================] - 1s 2ms/step - loss: 0.7142 - acc: 0.8179 - val_loss: 0.7343 - val_acc: 0.8138\n",
            "Epoch 119/270\n",
            "230/230 [==============================] - 1s 2ms/step - loss: 0.7090 - acc: 0.8193 - val_loss: 0.7291 - val_acc: 0.8168\n",
            "Epoch 120/270\n",
            "230/230 [==============================] - 1s 2ms/step - loss: 0.7038 - acc: 0.8217 - val_loss: 0.7240 - val_acc: 0.8194\n",
            "Epoch 121/270\n",
            "230/230 [==============================] - 1s 2ms/step - loss: 0.6986 - acc: 0.8276 - val_loss: 0.7188 - val_acc: 0.8220\n",
            "Epoch 122/270\n",
            "230/230 [==============================] - 0s 2ms/step - loss: 0.6935 - acc: 0.8295 - val_loss: 0.7137 - val_acc: 0.8220\n",
            "Epoch 123/270\n",
            "230/230 [==============================] - 0s 2ms/step - loss: 0.6883 - acc: 0.8295 - val_loss: 0.7085 - val_acc: 0.8220\n",
            "Epoch 124/270\n",
            "230/230 [==============================] - 0s 2ms/step - loss: 0.6831 - acc: 0.8314 - val_loss: 0.7034 - val_acc: 0.8242\n",
            "Epoch 125/270\n",
            "230/230 [==============================] - 0s 2ms/step - loss: 0.6780 - acc: 0.8365 - val_loss: 0.6982 - val_acc: 0.8255\n",
            "Epoch 126/270\n",
            "230/230 [==============================] - 0s 2ms/step - loss: 0.6728 - acc: 0.8413 - val_loss: 0.6931 - val_acc: 0.8342\n",
            "Epoch 127/270\n",
            "230/230 [==============================] - 0s 2ms/step - loss: 0.6677 - acc: 0.8471 - val_loss: 0.6880 - val_acc: 0.8368\n",
            "Epoch 128/270\n",
            "230/230 [==============================] - 1s 2ms/step - loss: 0.6625 - acc: 0.8493 - val_loss: 0.6829 - val_acc: 0.8368\n",
            "Epoch 129/270\n",
            "230/230 [==============================] - 0s 2ms/step - loss: 0.6574 - acc: 0.8494 - val_loss: 0.6778 - val_acc: 0.8368\n",
            "Epoch 130/270\n",
            "230/230 [==============================] - 0s 2ms/step - loss: 0.6522 - acc: 0.8495 - val_loss: 0.6727 - val_acc: 0.8372\n",
            "Epoch 131/270\n",
            "230/230 [==============================] - 1s 2ms/step - loss: 0.6471 - acc: 0.8502 - val_loss: 0.6676 - val_acc: 0.8399\n",
            "Epoch 132/270\n",
            "230/230 [==============================] - 0s 2ms/step - loss: 0.6420 - acc: 0.8524 - val_loss: 0.6625 - val_acc: 0.8399\n",
            "Epoch 133/270\n",
            "230/230 [==============================] - 1s 2ms/step - loss: 0.6368 - acc: 0.8542 - val_loss: 0.6574 - val_acc: 0.8407\n",
            "Epoch 134/270\n",
            "230/230 [==============================] - 0s 2ms/step - loss: 0.6317 - acc: 0.8559 - val_loss: 0.6524 - val_acc: 0.8412\n",
            "Epoch 135/270\n",
            "230/230 [==============================] - 1s 2ms/step - loss: 0.6266 - acc: 0.8559 - val_loss: 0.6473 - val_acc: 0.8412\n",
            "Epoch 136/270\n",
            "230/230 [==============================] - 1s 2ms/step - loss: 0.6215 - acc: 0.8559 - val_loss: 0.6423 - val_acc: 0.8412\n",
            "Epoch 137/270\n",
            "230/230 [==============================] - 0s 2ms/step - loss: 0.6165 - acc: 0.8562 - val_loss: 0.6373 - val_acc: 0.8416\n",
            "Epoch 138/270\n",
            "230/230 [==============================] - 0s 2ms/step - loss: 0.6115 - acc: 0.8566 - val_loss: 0.6323 - val_acc: 0.8420\n",
            "Epoch 139/270\n",
            "230/230 [==============================] - 1s 2ms/step - loss: 0.6065 - acc: 0.8581 - val_loss: 0.6274 - val_acc: 0.8451\n",
            "Epoch 140/270\n",
            "230/230 [==============================] - 0s 2ms/step - loss: 0.6015 - acc: 0.8604 - val_loss: 0.6225 - val_acc: 0.8451\n",
            "Epoch 141/270\n",
            "230/230 [==============================] - 1s 2ms/step - loss: 0.5965 - acc: 0.8621 - val_loss: 0.6176 - val_acc: 0.8464\n",
            "Epoch 142/270\n",
            "230/230 [==============================] - 0s 2ms/step - loss: 0.5916 - acc: 0.8634 - val_loss: 0.6127 - val_acc: 0.8481\n",
            "Epoch 143/270\n",
            "230/230 [==============================] - 0s 2ms/step - loss: 0.5867 - acc: 0.8647 - val_loss: 0.6079 - val_acc: 0.8520\n",
            "Epoch 144/270\n",
            "230/230 [==============================] - 0s 2ms/step - loss: 0.5818 - acc: 0.8667 - val_loss: 0.6031 - val_acc: 0.8512\n",
            "Epoch 145/270\n",
            "230/230 [==============================] - 0s 2ms/step - loss: 0.5770 - acc: 0.8672 - val_loss: 0.5983 - val_acc: 0.8529\n",
            "Epoch 146/270\n",
            "230/230 [==============================] - 0s 2ms/step - loss: 0.5722 - acc: 0.8681 - val_loss: 0.5935 - val_acc: 0.8538\n",
            "Epoch 147/270\n",
            "230/230 [==============================] - 1s 2ms/step - loss: 0.5674 - acc: 0.8693 - val_loss: 0.5888 - val_acc: 0.8573\n",
            "Epoch 148/270\n",
            "230/230 [==============================] - 0s 2ms/step - loss: 0.5626 - acc: 0.8698 - val_loss: 0.5841 - val_acc: 0.8577\n",
            "Epoch 149/270\n",
            "230/230 [==============================] - 1s 2ms/step - loss: 0.5579 - acc: 0.8704 - val_loss: 0.5794 - val_acc: 0.8577\n",
            "Epoch 150/270\n",
            "230/230 [==============================] - 1s 2ms/step - loss: 0.5532 - acc: 0.8704 - val_loss: 0.5748 - val_acc: 0.8581\n",
            "Epoch 151/270\n",
            "230/230 [==============================] - 1s 2ms/step - loss: 0.5486 - acc: 0.8707 - val_loss: 0.5702 - val_acc: 0.8581\n",
            "Epoch 152/270\n",
            "230/230 [==============================] - 0s 2ms/step - loss: 0.5439 - acc: 0.8723 - val_loss: 0.5656 - val_acc: 0.8638\n",
            "Epoch 153/270\n",
            "230/230 [==============================] - 0s 2ms/step - loss: 0.5394 - acc: 0.8740 - val_loss: 0.5611 - val_acc: 0.8638\n",
            "Epoch 154/270\n",
            "230/230 [==============================] - 0s 2ms/step - loss: 0.5348 - acc: 0.8744 - val_loss: 0.5566 - val_acc: 0.8638\n",
            "Epoch 155/270\n",
            "230/230 [==============================] - 0s 2ms/step - loss: 0.5303 - acc: 0.8745 - val_loss: 0.5521 - val_acc: 0.8638\n",
            "Epoch 156/270\n",
            "230/230 [==============================] - 0s 2ms/step - loss: 0.5258 - acc: 0.8753 - val_loss: 0.5477 - val_acc: 0.8642\n",
            "Epoch 157/270\n",
            "230/230 [==============================] - 1s 2ms/step - loss: 0.5214 - acc: 0.8810 - val_loss: 0.5433 - val_acc: 0.8716\n",
            "Epoch 158/270\n",
            "230/230 [==============================] - 0s 2ms/step - loss: 0.5170 - acc: 0.8822 - val_loss: 0.5390 - val_acc: 0.8725\n",
            "Epoch 159/270\n",
            "230/230 [==============================] - 1s 2ms/step - loss: 0.5126 - acc: 0.8822 - val_loss: 0.5346 - val_acc: 0.8725\n",
            "Epoch 160/270\n",
            "230/230 [==============================] - 0s 2ms/step - loss: 0.5083 - acc: 0.8830 - val_loss: 0.5303 - val_acc: 0.8755\n",
            "Epoch 161/270\n",
            "230/230 [==============================] - 0s 2ms/step - loss: 0.5040 - acc: 0.8839 - val_loss: 0.5261 - val_acc: 0.8764\n",
            "Epoch 162/270\n",
            "230/230 [==============================] - 0s 2ms/step - loss: 0.4997 - acc: 0.8842 - val_loss: 0.5219 - val_acc: 0.8764\n",
            "Epoch 163/270\n",
            "230/230 [==============================] - 0s 2ms/step - loss: 0.4955 - acc: 0.8847 - val_loss: 0.5177 - val_acc: 0.8764\n",
            "Epoch 164/270\n",
            "230/230 [==============================] - 0s 2ms/step - loss: 0.4914 - acc: 0.8852 - val_loss: 0.5136 - val_acc: 0.8764\n",
            "Epoch 165/270\n",
            "230/230 [==============================] - 1s 2ms/step - loss: 0.4873 - acc: 0.8853 - val_loss: 0.5095 - val_acc: 0.8764\n",
            "Epoch 166/270\n",
            "230/230 [==============================] - 0s 2ms/step - loss: 0.4832 - acc: 0.8854 - val_loss: 0.5055 - val_acc: 0.8764\n",
            "Epoch 167/270\n",
            "230/230 [==============================] - 0s 2ms/step - loss: 0.4791 - acc: 0.8888 - val_loss: 0.5015 - val_acc: 0.8838\n",
            "Epoch 168/270\n",
            "230/230 [==============================] - 0s 2ms/step - loss: 0.4752 - acc: 0.8912 - val_loss: 0.4975 - val_acc: 0.8838\n",
            "Epoch 169/270\n",
            "230/230 [==============================] - 0s 2ms/step - loss: 0.4712 - acc: 0.8918 - val_loss: 0.4936 - val_acc: 0.8842\n",
            "Epoch 170/270\n",
            "230/230 [==============================] - 0s 2ms/step - loss: 0.4673 - acc: 0.8921 - val_loss: 0.4897 - val_acc: 0.8842\n",
            "Epoch 171/270\n",
            "230/230 [==============================] - 0s 2ms/step - loss: 0.4635 - acc: 0.8921 - val_loss: 0.4859 - val_acc: 0.8842\n",
            "Epoch 172/270\n",
            "230/230 [==============================] - 1s 2ms/step - loss: 0.4596 - acc: 0.8921 - val_loss: 0.4821 - val_acc: 0.8842\n",
            "Epoch 173/270\n",
            "230/230 [==============================] - 0s 2ms/step - loss: 0.4559 - acc: 0.8921 - val_loss: 0.4784 - val_acc: 0.8842\n",
            "Epoch 174/270\n",
            "230/230 [==============================] - 0s 2ms/step - loss: 0.4521 - acc: 0.8925 - val_loss: 0.4747 - val_acc: 0.8860\n",
            "Epoch 175/270\n",
            "230/230 [==============================] - 0s 2ms/step - loss: 0.4485 - acc: 0.8931 - val_loss: 0.4710 - val_acc: 0.8864\n",
            "Epoch 176/270\n",
            "230/230 [==============================] - 0s 2ms/step - loss: 0.4448 - acc: 0.8945 - val_loss: 0.4674 - val_acc: 0.8864\n",
            "Epoch 177/270\n",
            "230/230 [==============================] - 1s 2ms/step - loss: 0.4412 - acc: 0.8981 - val_loss: 0.4638 - val_acc: 0.8899\n",
            "Epoch 178/270\n",
            "230/230 [==============================] - 0s 2ms/step - loss: 0.4377 - acc: 0.8989 - val_loss: 0.4603 - val_acc: 0.8903\n",
            "Epoch 179/270\n",
            "230/230 [==============================] - 1s 2ms/step - loss: 0.4342 - acc: 0.8991 - val_loss: 0.4568 - val_acc: 0.8912\n",
            "Epoch 180/270\n",
            "230/230 [==============================] - 0s 2ms/step - loss: 0.4307 - acc: 0.9006 - val_loss: 0.4533 - val_acc: 0.8921\n",
            "Epoch 181/270\n",
            "230/230 [==============================] - 1s 2ms/step - loss: 0.4273 - acc: 0.9023 - val_loss: 0.4499 - val_acc: 0.8921\n",
            "Epoch 182/270\n",
            "230/230 [==============================] - 0s 2ms/step - loss: 0.4239 - acc: 0.9086 - val_loss: 0.4465 - val_acc: 0.8977\n",
            "Epoch 183/270\n",
            "230/230 [==============================] - 0s 2ms/step - loss: 0.4205 - acc: 0.9099 - val_loss: 0.4432 - val_acc: 0.8986\n",
            "Epoch 184/270\n",
            "230/230 [==============================] - 0s 2ms/step - loss: 0.4172 - acc: 0.9100 - val_loss: 0.4399 - val_acc: 0.8986\n",
            "Epoch 185/270\n",
            "230/230 [==============================] - 0s 2ms/step - loss: 0.4140 - acc: 0.9103 - val_loss: 0.4366 - val_acc: 0.8999\n",
            "Epoch 186/270\n",
            "230/230 [==============================] - 1s 2ms/step - loss: 0.4108 - acc: 0.9109 - val_loss: 0.4334 - val_acc: 0.8999\n",
            "Epoch 187/270\n",
            "230/230 [==============================] - 1s 2ms/step - loss: 0.4076 - acc: 0.9118 - val_loss: 0.4302 - val_acc: 0.9025\n",
            "Epoch 188/270\n",
            "230/230 [==============================] - 0s 2ms/step - loss: 0.4045 - acc: 0.9129 - val_loss: 0.4271 - val_acc: 0.9056\n",
            "Epoch 189/270\n",
            "230/230 [==============================] - 1s 2ms/step - loss: 0.4014 - acc: 0.9136 - val_loss: 0.4240 - val_acc: 0.9064\n",
            "Epoch 190/270\n",
            "230/230 [==============================] - 0s 2ms/step - loss: 0.3983 - acc: 0.9137 - val_loss: 0.4209 - val_acc: 0.9064\n",
            "Epoch 191/270\n",
            "230/230 [==============================] - 0s 2ms/step - loss: 0.3953 - acc: 0.9138 - val_loss: 0.4179 - val_acc: 0.9064\n",
            "Epoch 192/270\n",
            "230/230 [==============================] - 1s 2ms/step - loss: 0.3923 - acc: 0.9142 - val_loss: 0.4150 - val_acc: 0.9077\n",
            "Epoch 193/270\n",
            "230/230 [==============================] - 0s 2ms/step - loss: 0.3894 - acc: 0.9149 - val_loss: 0.4120 - val_acc: 0.9077\n",
            "Epoch 194/270\n",
            "230/230 [==============================] - 0s 2ms/step - loss: 0.3865 - acc: 0.9149 - val_loss: 0.4091 - val_acc: 0.9077\n",
            "Epoch 195/270\n",
            "230/230 [==============================] - 1s 2ms/step - loss: 0.3836 - acc: 0.9151 - val_loss: 0.4063 - val_acc: 0.9077\n",
            "Epoch 196/270\n",
            "230/230 [==============================] - 1s 2ms/step - loss: 0.3808 - acc: 0.9183 - val_loss: 0.4034 - val_acc: 0.9125\n",
            "Epoch 197/270\n",
            "230/230 [==============================] - 0s 2ms/step - loss: 0.3781 - acc: 0.9187 - val_loss: 0.4007 - val_acc: 0.9125\n",
            "Epoch 198/270\n",
            "230/230 [==============================] - 1s 2ms/step - loss: 0.3753 - acc: 0.9188 - val_loss: 0.3979 - val_acc: 0.9130\n",
            "Epoch 199/270\n",
            "230/230 [==============================] - 1s 2ms/step - loss: 0.3726 - acc: 0.9197 - val_loss: 0.3952 - val_acc: 0.9147\n",
            "Epoch 200/270\n",
            "230/230 [==============================] - 0s 2ms/step - loss: 0.3699 - acc: 0.9207 - val_loss: 0.3925 - val_acc: 0.9151\n",
            "Epoch 201/270\n",
            "230/230 [==============================] - 1s 2ms/step - loss: 0.3673 - acc: 0.9209 - val_loss: 0.3899 - val_acc: 0.9151\n",
            "Epoch 202/270\n",
            "230/230 [==============================] - 1s 2ms/step - loss: 0.3647 - acc: 0.9209 - val_loss: 0.3873 - val_acc: 0.9151\n",
            "Epoch 203/270\n",
            "230/230 [==============================] - 0s 2ms/step - loss: 0.3621 - acc: 0.9212 - val_loss: 0.3847 - val_acc: 0.9151\n",
            "Epoch 204/270\n",
            "230/230 [==============================] - 0s 2ms/step - loss: 0.3596 - acc: 0.9219 - val_loss: 0.3821 - val_acc: 0.9151\n",
            "Epoch 205/270\n",
            "230/230 [==============================] - 1s 2ms/step - loss: 0.3571 - acc: 0.9216 - val_loss: 0.3796 - val_acc: 0.9169\n",
            "Epoch 206/270\n",
            "230/230 [==============================] - 1s 2ms/step - loss: 0.3547 - acc: 0.9227 - val_loss: 0.3771 - val_acc: 0.9169\n",
            "Epoch 207/270\n",
            "230/230 [==============================] - 0s 2ms/step - loss: 0.3522 - acc: 0.9231 - val_loss: 0.3747 - val_acc: 0.9169\n",
            "Epoch 208/270\n",
            "230/230 [==============================] - 0s 2ms/step - loss: 0.3498 - acc: 0.9231 - val_loss: 0.3723 - val_acc: 0.9169\n",
            "Epoch 209/270\n",
            "230/230 [==============================] - 0s 2ms/step - loss: 0.3475 - acc: 0.9232 - val_loss: 0.3699 - val_acc: 0.9169\n",
            "Epoch 210/270\n",
            "230/230 [==============================] - 0s 2ms/step - loss: 0.3451 - acc: 0.9232 - val_loss: 0.3676 - val_acc: 0.9169\n",
            "Epoch 211/270\n",
            "230/230 [==============================] - 1s 2ms/step - loss: 0.3428 - acc: 0.9240 - val_loss: 0.3652 - val_acc: 0.9182\n",
            "Epoch 212/270\n",
            "230/230 [==============================] - 1s 2ms/step - loss: 0.3406 - acc: 0.9245 - val_loss: 0.3629 - val_acc: 0.9182\n",
            "Epoch 213/270\n",
            "230/230 [==============================] - 1s 2ms/step - loss: 0.3383 - acc: 0.9247 - val_loss: 0.3607 - val_acc: 0.9182\n",
            "Epoch 214/270\n",
            "230/230 [==============================] - 1s 2ms/step - loss: 0.3361 - acc: 0.9251 - val_loss: 0.3585 - val_acc: 0.9182\n",
            "Epoch 215/270\n",
            "230/230 [==============================] - 1s 2ms/step - loss: 0.3339 - acc: 0.9259 - val_loss: 0.3563 - val_acc: 0.9182\n",
            "Epoch 216/270\n",
            "230/230 [==============================] - 1s 2ms/step - loss: 0.3318 - acc: 0.9277 - val_loss: 0.3541 - val_acc: 0.9221\n",
            "Epoch 217/270\n",
            "230/230 [==============================] - 0s 2ms/step - loss: 0.3297 - acc: 0.9293 - val_loss: 0.3519 - val_acc: 0.9221\n",
            "Epoch 218/270\n",
            "230/230 [==============================] - 1s 2ms/step - loss: 0.3276 - acc: 0.9294 - val_loss: 0.3498 - val_acc: 0.9221\n",
            "Epoch 219/270\n",
            "230/230 [==============================] - 1s 2ms/step - loss: 0.3255 - acc: 0.9293 - val_loss: 0.3477 - val_acc: 0.9221\n",
            "Epoch 220/270\n",
            "230/230 [==============================] - 0s 2ms/step - loss: 0.3235 - acc: 0.9291 - val_loss: 0.3457 - val_acc: 0.9221\n",
            "Epoch 221/270\n",
            "230/230 [==============================] - 1s 2ms/step - loss: 0.3214 - acc: 0.9294 - val_loss: 0.3436 - val_acc: 0.9221\n",
            "Epoch 222/270\n",
            "230/230 [==============================] - 1s 2ms/step - loss: 0.3195 - acc: 0.9294 - val_loss: 0.3416 - val_acc: 0.9221\n",
            "Epoch 223/270\n",
            "230/230 [==============================] - 1s 2ms/step - loss: 0.3175 - acc: 0.9294 - val_loss: 0.3397 - val_acc: 0.9221\n",
            "Epoch 224/270\n",
            "230/230 [==============================] - 1s 2ms/step - loss: 0.3156 - acc: 0.9294 - val_loss: 0.3377 - val_acc: 0.9221\n",
            "Epoch 225/270\n",
            "230/230 [==============================] - 1s 2ms/step - loss: 0.3137 - acc: 0.9297 - val_loss: 0.3358 - val_acc: 0.9230\n",
            "Epoch 226/270\n",
            "230/230 [==============================] - 1s 2ms/step - loss: 0.3118 - acc: 0.9298 - val_loss: 0.3339 - val_acc: 0.9234\n",
            "Epoch 227/270\n",
            "230/230 [==============================] - 1s 2ms/step - loss: 0.3099 - acc: 0.9313 - val_loss: 0.3320 - val_acc: 0.9234\n",
            "Epoch 228/270\n",
            "230/230 [==============================] - 1s 2ms/step - loss: 0.3081 - acc: 0.9318 - val_loss: 0.3301 - val_acc: 0.9234\n",
            "Epoch 229/270\n",
            "230/230 [==============================] - 1s 2ms/step - loss: 0.3062 - acc: 0.9318 - val_loss: 0.3283 - val_acc: 0.9234\n",
            "Epoch 230/270\n",
            "230/230 [==============================] - 1s 2ms/step - loss: 0.3044 - acc: 0.9318 - val_loss: 0.3265 - val_acc: 0.9273\n",
            "Epoch 231/270\n",
            "230/230 [==============================] - 1s 2ms/step - loss: 0.3027 - acc: 0.9337 - val_loss: 0.3247 - val_acc: 0.9286\n",
            "Epoch 232/270\n",
            "230/230 [==============================] - 1s 2ms/step - loss: 0.3009 - acc: 0.9358 - val_loss: 0.3229 - val_acc: 0.9291\n",
            "Epoch 233/270\n",
            "230/230 [==============================] - 0s 2ms/step - loss: 0.2992 - acc: 0.9356 - val_loss: 0.3212 - val_acc: 0.9291\n",
            "Epoch 234/270\n",
            "230/230 [==============================] - 0s 2ms/step - loss: 0.2975 - acc: 0.9360 - val_loss: 0.3195 - val_acc: 0.9291\n",
            "Epoch 235/270\n",
            "230/230 [==============================] - 1s 2ms/step - loss: 0.2958 - acc: 0.9364 - val_loss: 0.3178 - val_acc: 0.9295\n",
            "Epoch 236/270\n",
            "230/230 [==============================] - 1s 2ms/step - loss: 0.2941 - acc: 0.9370 - val_loss: 0.3161 - val_acc: 0.9304\n",
            "Epoch 237/270\n",
            "230/230 [==============================] - 1s 2ms/step - loss: 0.2925 - acc: 0.9374 - val_loss: 0.3144 - val_acc: 0.9308\n",
            "Epoch 238/270\n",
            "230/230 [==============================] - 0s 2ms/step - loss: 0.2909 - acc: 0.9384 - val_loss: 0.3128 - val_acc: 0.9304\n",
            "Epoch 239/270\n",
            "230/230 [==============================] - 0s 2ms/step - loss: 0.2893 - acc: 0.9388 - val_loss: 0.3112 - val_acc: 0.9321\n",
            "Epoch 240/270\n",
            "230/230 [==============================] - 0s 2ms/step - loss: 0.2877 - acc: 0.9399 - val_loss: 0.3095 - val_acc: 0.9321\n",
            "Epoch 241/270\n",
            "230/230 [==============================] - 0s 2ms/step - loss: 0.2861 - acc: 0.9400 - val_loss: 0.3080 - val_acc: 0.9326\n",
            "Epoch 242/270\n",
            "230/230 [==============================] - 1s 2ms/step - loss: 0.2845 - acc: 0.9407 - val_loss: 0.3064 - val_acc: 0.9326\n",
            "Epoch 243/270\n",
            "230/230 [==============================] - 0s 2ms/step - loss: 0.2830 - acc: 0.9404 - val_loss: 0.3048 - val_acc: 0.9343\n",
            "Epoch 244/270\n",
            "230/230 [==============================] - 0s 2ms/step - loss: 0.2815 - acc: 0.9417 - val_loss: 0.3033 - val_acc: 0.9347\n",
            "Epoch 245/270\n",
            "230/230 [==============================] - 0s 2ms/step - loss: 0.2800 - acc: 0.9417 - val_loss: 0.3018 - val_acc: 0.9347\n",
            "Epoch 246/270\n",
            "230/230 [==============================] - 1s 2ms/step - loss: 0.2785 - acc: 0.9417 - val_loss: 0.3003 - val_acc: 0.9352\n",
            "Epoch 247/270\n",
            "230/230 [==============================] - 0s 2ms/step - loss: 0.2771 - acc: 0.9417 - val_loss: 0.2988 - val_acc: 0.9352\n",
            "Epoch 248/270\n",
            "230/230 [==============================] - 0s 2ms/step - loss: 0.2756 - acc: 0.9417 - val_loss: 0.2973 - val_acc: 0.9352\n",
            "Epoch 249/270\n",
            "230/230 [==============================] - 0s 2ms/step - loss: 0.2742 - acc: 0.9419 - val_loss: 0.2959 - val_acc: 0.9352\n",
            "Epoch 250/270\n",
            "230/230 [==============================] - 1s 2ms/step - loss: 0.2728 - acc: 0.9423 - val_loss: 0.2945 - val_acc: 0.9352\n",
            "Epoch 251/270\n",
            "230/230 [==============================] - 1s 2ms/step - loss: 0.2714 - acc: 0.9422 - val_loss: 0.2931 - val_acc: 0.9352\n",
            "Epoch 252/270\n",
            "230/230 [==============================] - 1s 2ms/step - loss: 0.2700 - acc: 0.9424 - val_loss: 0.2917 - val_acc: 0.9352\n",
            "Epoch 253/270\n",
            "230/230 [==============================] - 1s 2ms/step - loss: 0.2686 - acc: 0.9426 - val_loss: 0.2903 - val_acc: 0.9352\n",
            "Epoch 254/270\n",
            "230/230 [==============================] - 0s 2ms/step - loss: 0.2673 - acc: 0.9424 - val_loss: 0.2889 - val_acc: 0.9343\n",
            "Epoch 255/270\n",
            "230/230 [==============================] - 0s 2ms/step - loss: 0.2659 - acc: 0.9424 - val_loss: 0.2876 - val_acc: 0.9343\n",
            "Epoch 256/270\n",
            "230/230 [==============================] - 1s 2ms/step - loss: 0.2646 - acc: 0.9425 - val_loss: 0.2862 - val_acc: 0.9347\n",
            "Epoch 257/270\n",
            "230/230 [==============================] - 0s 2ms/step - loss: 0.2633 - acc: 0.9426 - val_loss: 0.2849 - val_acc: 0.9347\n",
            "Epoch 258/270\n",
            "230/230 [==============================] - 0s 2ms/step - loss: 0.2620 - acc: 0.9429 - val_loss: 0.2836 - val_acc: 0.9347\n",
            "Epoch 259/270\n",
            "230/230 [==============================] - 1s 2ms/step - loss: 0.2607 - acc: 0.9431 - val_loss: 0.2823 - val_acc: 0.9347\n",
            "Epoch 260/270\n",
            "230/230 [==============================] - 1s 2ms/step - loss: 0.2595 - acc: 0.9437 - val_loss: 0.2810 - val_acc: 0.9356\n",
            "Epoch 261/270\n",
            "230/230 [==============================] - 0s 2ms/step - loss: 0.2582 - acc: 0.9442 - val_loss: 0.2798 - val_acc: 0.9356\n",
            "Epoch 262/270\n",
            "230/230 [==============================] - 1s 2ms/step - loss: 0.2570 - acc: 0.9442 - val_loss: 0.2785 - val_acc: 0.9356\n",
            "Epoch 263/270\n",
            "230/230 [==============================] - 0s 2ms/step - loss: 0.2557 - acc: 0.9443 - val_loss: 0.2772 - val_acc: 0.9356\n",
            "Epoch 264/270\n",
            "230/230 [==============================] - 1s 2ms/step - loss: 0.2545 - acc: 0.9447 - val_loss: 0.2760 - val_acc: 0.9356\n",
            "Epoch 265/270\n",
            "230/230 [==============================] - 0s 2ms/step - loss: 0.2533 - acc: 0.9456 - val_loss: 0.2748 - val_acc: 0.9356\n",
            "Epoch 266/270\n",
            "230/230 [==============================] - 0s 2ms/step - loss: 0.2521 - acc: 0.9453 - val_loss: 0.2736 - val_acc: 0.9360\n",
            "Epoch 267/270\n",
            "230/230 [==============================] - 0s 2ms/step - loss: 0.2509 - acc: 0.9468 - val_loss: 0.2724 - val_acc: 0.9360\n",
            "Epoch 268/270\n",
            "230/230 [==============================] - 0s 2ms/step - loss: 0.2498 - acc: 0.9463 - val_loss: 0.2712 - val_acc: 0.9360\n",
            "Epoch 269/270\n",
            "230/230 [==============================] - 0s 2ms/step - loss: 0.2486 - acc: 0.9467 - val_loss: 0.2700 - val_acc: 0.9365\n",
            "Epoch 270/270\n",
            "230/230 [==============================] - 0s 2ms/step - loss: 0.2475 - acc: 0.9467 - val_loss: 0.2689 - val_acc: 0.9365\n",
            "<bound method Model.summary of <tensorflow.python.keras.engine.sequential.Sequential object at 0x7fd8437b5e48>>\n",
            "Test Accuracy:\n",
            "2585/2585 [==============================] - 4s 2ms/step - loss: 0.2527 - acc: 0.9437\n",
            "Random Sample Accuracy:\n",
            "38/38 [==============================] - 0s 2ms/step - loss: 0.8560 - acc: 0.7193\n"
          ],
          "name": "stdout"
        },
        {
          "output_type": "display_data",
          "data": {
            "image/png": "[encoded data removed]",
            "text/plain": [
              "<Figure size 1080x432 with 2 Axes>"
            ]
          },
          "metadata": {
            "tags": [],
            "needs_background": "light"
          }
        }
      ]
    },
    {
      "cell_type": "code",
      "metadata": {
        "id": "HN_AYIMG7RXp"
      },
      "source": [
        "model6_params = {'activation 1': 'relu', \n",
        "                 'activation 2': 'relu', \n",
        "                 'activation 3': 'softmax', \n",
        "                 'opt': tf.keras.optimizers.SGD(learning_rate=0.001),\n",
        "                 'loss': 'categorical_crossentropy',\n",
        "                 'epochs': 170, \n",
        "                 'batch_size': 30, \n",
        "                 }"
      ],
      "execution_count": 50,
      "outputs": []
    },
    {
      "cell_type": "code",
      "metadata": {
        "colab": {
          "base_uri": "https://localhost:8080/",
          "height": 1000
        },
        "id": "brxftL147ua1",
        "outputId": "96b849d3-1f79-49a0-df22-a8acef09b764"
      },
      "source": [
        "model6_history, model6 = create_model(train, label_train, test, label_test, model6_params)"
      ],
      "execution_count": 51,
      "outputs": [
        {
          "output_type": "stream",
          "text": [
            "Epoch 1/170\n",
            "307/307 [==============================] - 1s 2ms/step - loss: 2.5912 - acc: 0.3847 - val_loss: 2.5368 - val_acc: 0.5117\n",
            "Epoch 2/170\n",
            "307/307 [==============================] - 1s 2ms/step - loss: 2.4790 - acc: 0.5215 - val_loss: 2.4241 - val_acc: 0.5109\n",
            "Epoch 3/170\n",
            "307/307 [==============================] - 1s 2ms/step - loss: 2.3600 - acc: 0.5215 - val_loss: 2.3012 - val_acc: 0.5109\n",
            "Epoch 4/170\n",
            "307/307 [==============================] - 1s 2ms/step - loss: 2.2257 - acc: 0.5215 - val_loss: 2.1648 - val_acc: 0.5109\n",
            "Epoch 5/170\n",
            "307/307 [==============================] - 1s 2ms/step - loss: 2.0840 - acc: 0.5215 - val_loss: 2.0258 - val_acc: 0.5109\n",
            "Epoch 6/170\n",
            "307/307 [==============================] - 1s 2ms/step - loss: 1.9439 - acc: 0.5215 - val_loss: 1.8952 - val_acc: 0.5109\n",
            "Epoch 7/170\n",
            "307/307 [==============================] - 1s 2ms/step - loss: 1.8204 - acc: 0.5215 - val_loss: 1.7892 - val_acc: 0.5109\n",
            "Epoch 8/170\n",
            "307/307 [==============================] - 1s 2ms/step - loss: 1.7269 - acc: 0.5215 - val_loss: 1.7154 - val_acc: 0.5109\n",
            "Epoch 9/170\n",
            "307/307 [==============================] - 1s 2ms/step - loss: 1.6639 - acc: 0.5215 - val_loss: 1.6656 - val_acc: 0.5109\n",
            "Epoch 10/170\n",
            "307/307 [==============================] - 1s 2ms/step - loss: 1.6193 - acc: 0.5215 - val_loss: 1.6278 - val_acc: 0.5109\n",
            "Epoch 11/170\n",
            "307/307 [==============================] - 1s 2ms/step - loss: 1.5842 - acc: 0.5215 - val_loss: 1.5965 - val_acc: 0.5109\n",
            "Epoch 12/170\n",
            "307/307 [==============================] - 1s 2ms/step - loss: 1.5544 - acc: 0.5215 - val_loss: 1.5693 - val_acc: 0.5109\n",
            "Epoch 13/170\n",
            "307/307 [==============================] - 1s 2ms/step - loss: 1.5281 - acc: 0.5215 - val_loss: 1.5444 - val_acc: 0.5109\n",
            "Epoch 14/170\n",
            "307/307 [==============================] - 1s 2ms/step - loss: 1.5038 - acc: 0.5215 - val_loss: 1.5210 - val_acc: 0.5109\n",
            "Epoch 15/170\n",
            "307/307 [==============================] - 1s 2ms/step - loss: 1.4807 - acc: 0.5215 - val_loss: 1.4985 - val_acc: 0.5109\n",
            "Epoch 16/170\n",
            "307/307 [==============================] - 1s 2ms/step - loss: 1.4586 - acc: 0.5215 - val_loss: 1.4768 - val_acc: 0.5109\n",
            "Epoch 17/170\n",
            "307/307 [==============================] - 1s 2ms/step - loss: 1.4373 - acc: 0.5215 - val_loss: 1.4561 - val_acc: 0.5109\n",
            "Epoch 18/170\n",
            "307/307 [==============================] - 1s 2ms/step - loss: 1.4169 - acc: 0.5215 - val_loss: 1.4360 - val_acc: 0.5109\n",
            "Epoch 19/170\n",
            "307/307 [==============================] - 1s 2ms/step - loss: 1.3970 - acc: 0.5215 - val_loss: 1.4161 - val_acc: 0.5109\n",
            "Epoch 20/170\n",
            "307/307 [==============================] - 1s 2ms/step - loss: 1.3776 - acc: 0.5215 - val_loss: 1.3967 - val_acc: 0.5109\n",
            "Epoch 21/170\n",
            "307/307 [==============================] - 1s 2ms/step - loss: 1.3585 - acc: 0.5215 - val_loss: 1.3777 - val_acc: 0.5109\n",
            "Epoch 22/170\n",
            "307/307 [==============================] - 1s 2ms/step - loss: 1.3402 - acc: 0.5215 - val_loss: 1.3597 - val_acc: 0.5109\n",
            "Epoch 23/170\n",
            "307/307 [==============================] - 1s 2ms/step - loss: 1.3226 - acc: 0.5215 - val_loss: 1.3421 - val_acc: 0.5109\n",
            "Epoch 24/170\n",
            "307/307 [==============================] - 1s 2ms/step - loss: 1.3055 - acc: 0.5215 - val_loss: 1.3250 - val_acc: 0.5109\n",
            "Epoch 25/170\n",
            "307/307 [==============================] - 1s 2ms/step - loss: 1.2888 - acc: 0.5215 - val_loss: 1.3084 - val_acc: 0.5109\n",
            "Epoch 26/170\n",
            "307/307 [==============================] - 1s 2ms/step - loss: 1.2726 - acc: 0.5215 - val_loss: 1.2922 - val_acc: 0.5109\n",
            "Epoch 27/170\n",
            "307/307 [==============================] - 1s 2ms/step - loss: 1.2570 - acc: 0.5274 - val_loss: 1.2766 - val_acc: 0.5444\n",
            "Epoch 28/170\n",
            "307/307 [==============================] - 1s 2ms/step - loss: 1.2417 - acc: 0.5723 - val_loss: 1.2613 - val_acc: 0.5679\n",
            "Epoch 29/170\n",
            "307/307 [==============================] - 1s 2ms/step - loss: 1.2270 - acc: 0.5735 - val_loss: 1.2466 - val_acc: 0.5679\n",
            "Epoch 30/170\n",
            "307/307 [==============================] - 1s 2ms/step - loss: 1.2126 - acc: 0.5735 - val_loss: 1.2322 - val_acc: 0.5679\n",
            "Epoch 31/170\n",
            "307/307 [==============================] - 1s 2ms/step - loss: 1.1986 - acc: 0.5737 - val_loss: 1.2181 - val_acc: 0.5683\n",
            "Epoch 32/170\n",
            "307/307 [==============================] - 1s 2ms/step - loss: 1.1850 - acc: 0.5797 - val_loss: 1.2044 - val_acc: 0.5762\n",
            "Epoch 33/170\n",
            "307/307 [==============================] - 1s 2ms/step - loss: 1.1717 - acc: 0.5897 - val_loss: 1.1910 - val_acc: 0.5801\n",
            "Epoch 34/170\n",
            "307/307 [==============================] - 1s 2ms/step - loss: 1.1587 - acc: 0.5911 - val_loss: 1.1781 - val_acc: 0.5831\n",
            "Epoch 35/170\n",
            "307/307 [==============================] - 1s 2ms/step - loss: 1.1461 - acc: 0.5976 - val_loss: 1.1654 - val_acc: 0.5905\n",
            "Epoch 36/170\n",
            "307/307 [==============================] - 1s 2ms/step - loss: 1.1339 - acc: 0.6071 - val_loss: 1.1531 - val_acc: 0.6044\n",
            "Epoch 37/170\n",
            "307/307 [==============================] - 1s 2ms/step - loss: 1.1220 - acc: 0.6191 - val_loss: 1.1412 - val_acc: 0.6140\n",
            "Epoch 38/170\n",
            "307/307 [==============================] - 1s 2ms/step - loss: 1.1104 - acc: 0.6246 - val_loss: 1.1296 - val_acc: 0.6214\n",
            "Epoch 39/170\n",
            "307/307 [==============================] - 1s 2ms/step - loss: 1.0992 - acc: 0.6351 - val_loss: 1.1183 - val_acc: 0.6301\n",
            "Epoch 40/170\n",
            "307/307 [==============================] - 1s 2ms/step - loss: 1.0882 - acc: 0.6508 - val_loss: 1.1073 - val_acc: 0.6432\n",
            "Epoch 41/170\n",
            "307/307 [==============================] - 1s 2ms/step - loss: 1.0776 - acc: 0.6688 - val_loss: 1.0966 - val_acc: 0.6936\n",
            "Epoch 42/170\n",
            "307/307 [==============================] - 1s 2ms/step - loss: 1.0672 - acc: 0.6998 - val_loss: 1.0861 - val_acc: 0.6941\n",
            "Epoch 43/170\n",
            "307/307 [==============================] - 1s 2ms/step - loss: 1.0570 - acc: 0.7002 - val_loss: 1.0759 - val_acc: 0.6967\n",
            "Epoch 44/170\n",
            "307/307 [==============================] - 1s 2ms/step - loss: 1.0471 - acc: 0.7007 - val_loss: 1.0659 - val_acc: 0.6976\n",
            "Epoch 45/170\n",
            "307/307 [==============================] - 1s 2ms/step - loss: 1.0374 - acc: 0.7012 - val_loss: 1.0561 - val_acc: 0.6963\n",
            "Epoch 46/170\n",
            "307/307 [==============================] - 1s 2ms/step - loss: 1.0278 - acc: 0.7042 - val_loss: 1.0464 - val_acc: 0.7032\n",
            "Epoch 47/170\n",
            "307/307 [==============================] - 1s 2ms/step - loss: 1.0184 - acc: 0.7101 - val_loss: 1.0369 - val_acc: 0.7097\n",
            "Epoch 48/170\n",
            "307/307 [==============================] - 1s 2ms/step - loss: 1.0092 - acc: 0.7167 - val_loss: 1.0276 - val_acc: 0.7167\n",
            "Epoch 49/170\n",
            "307/307 [==============================] - 1s 2ms/step - loss: 1.0001 - acc: 0.7176 - val_loss: 1.0184 - val_acc: 0.7167\n",
            "Epoch 50/170\n",
            "307/307 [==============================] - 1s 2ms/step - loss: 0.9912 - acc: 0.7184 - val_loss: 1.0094 - val_acc: 0.7185\n",
            "Epoch 51/170\n",
            "307/307 [==============================] - 1s 2ms/step - loss: 0.9824 - acc: 0.7193 - val_loss: 1.0005 - val_acc: 0.7215\n",
            "Epoch 52/170\n",
            "307/307 [==============================] - 1s 2ms/step - loss: 0.9737 - acc: 0.7213 - val_loss: 0.9916 - val_acc: 0.7215\n",
            "Epoch 53/170\n",
            "307/307 [==============================] - 1s 2ms/step - loss: 0.9651 - acc: 0.7232 - val_loss: 0.9829 - val_acc: 0.7237\n",
            "Epoch 54/170\n",
            "307/307 [==============================] - 1s 2ms/step - loss: 0.9566 - acc: 0.7240 - val_loss: 0.9743 - val_acc: 0.7237\n",
            "Epoch 55/170\n",
            "307/307 [==============================] - 1s 2ms/step - loss: 0.9482 - acc: 0.7239 - val_loss: 0.9657 - val_acc: 0.7237\n",
            "Epoch 56/170\n",
            "307/307 [==============================] - 1s 2ms/step - loss: 0.9398 - acc: 0.7267 - val_loss: 0.9572 - val_acc: 0.7267\n",
            "Epoch 57/170\n",
            "307/307 [==============================] - 1s 2ms/step - loss: 0.9315 - acc: 0.7317 - val_loss: 0.9488 - val_acc: 0.7293\n",
            "Epoch 58/170\n",
            "307/307 [==============================] - 1s 2ms/step - loss: 0.9233 - acc: 0.7348 - val_loss: 0.9405 - val_acc: 0.7341\n",
            "Epoch 59/170\n",
            "307/307 [==============================] - 1s 2ms/step - loss: 0.9152 - acc: 0.7405 - val_loss: 0.9323 - val_acc: 0.7402\n",
            "Epoch 60/170\n",
            "307/307 [==============================] - 1s 2ms/step - loss: 0.9071 - acc: 0.7439 - val_loss: 0.9241 - val_acc: 0.7402\n",
            "Epoch 61/170\n",
            "307/307 [==============================] - 1s 2ms/step - loss: 0.8991 - acc: 0.7439 - val_loss: 0.9160 - val_acc: 0.7402\n",
            "Epoch 62/170\n",
            "307/307 [==============================] - 1s 2ms/step - loss: 0.8911 - acc: 0.7458 - val_loss: 0.9079 - val_acc: 0.7459\n",
            "Epoch 63/170\n",
            "307/307 [==============================] - 1s 2ms/step - loss: 0.8832 - acc: 0.7484 - val_loss: 0.8998 - val_acc: 0.7459\n",
            "Epoch 64/170\n",
            "307/307 [==============================] - 1s 2ms/step - loss: 0.8753 - acc: 0.7484 - val_loss: 0.8918 - val_acc: 0.7428\n",
            "Epoch 65/170\n",
            "307/307 [==============================] - 1s 2ms/step - loss: 0.8674 - acc: 0.7495 - val_loss: 0.8839 - val_acc: 0.7454\n",
            "Epoch 66/170\n",
            "307/307 [==============================] - 1s 2ms/step - loss: 0.8596 - acc: 0.7545 - val_loss: 0.8761 - val_acc: 0.7507\n",
            "Epoch 67/170\n",
            "307/307 [==============================] - 1s 2ms/step - loss: 0.8519 - acc: 0.7597 - val_loss: 0.8683 - val_acc: 0.7511\n",
            "Epoch 68/170\n",
            "307/307 [==============================] - 1s 2ms/step - loss: 0.8442 - acc: 0.7616 - val_loss: 0.8605 - val_acc: 0.7541\n",
            "Epoch 69/170\n",
            "307/307 [==============================] - 1s 2ms/step - loss: 0.8366 - acc: 0.7633 - val_loss: 0.8529 - val_acc: 0.7554\n",
            "Epoch 70/170\n",
            "307/307 [==============================] - 1s 2ms/step - loss: 0.8291 - acc: 0.7633 - val_loss: 0.8454 - val_acc: 0.7554\n",
            "Epoch 71/170\n",
            "307/307 [==============================] - 1s 2ms/step - loss: 0.8217 - acc: 0.7635 - val_loss: 0.8379 - val_acc: 0.7572\n",
            "Epoch 72/170\n",
            "307/307 [==============================] - 1s 2ms/step - loss: 0.8143 - acc: 0.7649 - val_loss: 0.8305 - val_acc: 0.7572\n",
            "Epoch 73/170\n",
            "307/307 [==============================] - 1s 2ms/step - loss: 0.8069 - acc: 0.7659 - val_loss: 0.8232 - val_acc: 0.7598\n",
            "Epoch 74/170\n",
            "307/307 [==============================] - 1s 2ms/step - loss: 0.7996 - acc: 0.7695 - val_loss: 0.8159 - val_acc: 0.7598\n",
            "Epoch 75/170\n",
            "307/307 [==============================] - 1s 2ms/step - loss: 0.7923 - acc: 0.7696 - val_loss: 0.8086 - val_acc: 0.7607\n",
            "Epoch 76/170\n",
            "307/307 [==============================] - 1s 2ms/step - loss: 0.7850 - acc: 0.7710 - val_loss: 0.8014 - val_acc: 0.7633\n",
            "Epoch 77/170\n",
            "307/307 [==============================] - 1s 2ms/step - loss: 0.7778 - acc: 0.7748 - val_loss: 0.7942 - val_acc: 0.7681\n",
            "Epoch 78/170\n",
            "307/307 [==============================] - 1s 2ms/step - loss: 0.7706 - acc: 0.7769 - val_loss: 0.7871 - val_acc: 0.7681\n",
            "Epoch 79/170\n",
            "307/307 [==============================] - 1s 2ms/step - loss: 0.7635 - acc: 0.7769 - val_loss: 0.7800 - val_acc: 0.7681\n",
            "Epoch 80/170\n",
            "307/307 [==============================] - 1s 2ms/step - loss: 0.7564 - acc: 0.7772 - val_loss: 0.7729 - val_acc: 0.7694\n",
            "Epoch 81/170\n",
            "307/307 [==============================] - 1s 2ms/step - loss: 0.7493 - acc: 0.7780 - val_loss: 0.7659 - val_acc: 0.7702\n",
            "Epoch 82/170\n",
            "307/307 [==============================] - 1s 2ms/step - loss: 0.7422 - acc: 0.7822 - val_loss: 0.7589 - val_acc: 0.7746\n",
            "Epoch 83/170\n",
            "307/307 [==============================] - 1s 2ms/step - loss: 0.7352 - acc: 0.7853 - val_loss: 0.7520 - val_acc: 0.7746\n",
            "Epoch 84/170\n",
            "307/307 [==============================] - 1s 2ms/step - loss: 0.7282 - acc: 0.7856 - val_loss: 0.7450 - val_acc: 0.7755\n",
            "Epoch 85/170\n",
            "307/307 [==============================] - 1s 2ms/step - loss: 0.7212 - acc: 0.7868 - val_loss: 0.7382 - val_acc: 0.7755\n",
            "Epoch 86/170\n",
            "307/307 [==============================] - 1s 2ms/step - loss: 0.7143 - acc: 0.7872 - val_loss: 0.7313 - val_acc: 0.7846\n",
            "Epoch 87/170\n",
            "307/307 [==============================] - 1s 2ms/step - loss: 0.7074 - acc: 0.8012 - val_loss: 0.7245 - val_acc: 0.7929\n",
            "Epoch 88/170\n",
            "307/307 [==============================] - 1s 2ms/step - loss: 0.7005 - acc: 0.8040 - val_loss: 0.7177 - val_acc: 0.7933\n",
            "Epoch 89/170\n",
            "307/307 [==============================] - 1s 2ms/step - loss: 0.6936 - acc: 0.8065 - val_loss: 0.7110 - val_acc: 0.7972\n",
            "Epoch 90/170\n",
            "307/307 [==============================] - 1s 2ms/step - loss: 0.6868 - acc: 0.8091 - val_loss: 0.7042 - val_acc: 0.7990\n",
            "Epoch 91/170\n",
            "307/307 [==============================] - 1s 2ms/step - loss: 0.6800 - acc: 0.8106 - val_loss: 0.6975 - val_acc: 0.8016\n",
            "Epoch 92/170\n",
            "307/307 [==============================] - 1s 2ms/step - loss: 0.6733 - acc: 0.8131 - val_loss: 0.6909 - val_acc: 0.8016\n",
            "Epoch 93/170\n",
            "307/307 [==============================] - 1s 2ms/step - loss: 0.6666 - acc: 0.8217 - val_loss: 0.6843 - val_acc: 0.8211\n",
            "Epoch 94/170\n",
            "307/307 [==============================] - 1s 2ms/step - loss: 0.6599 - acc: 0.8310 - val_loss: 0.6777 - val_acc: 0.8216\n",
            "Epoch 95/170\n",
            "307/307 [==============================] - 1s 2ms/step - loss: 0.6532 - acc: 0.8334 - val_loss: 0.6711 - val_acc: 0.8294\n",
            "Epoch 96/170\n",
            "307/307 [==============================] - 1s 2ms/step - loss: 0.6466 - acc: 0.8415 - val_loss: 0.6645 - val_acc: 0.8399\n",
            "Epoch 97/170\n",
            "307/307 [==============================] - 1s 2ms/step - loss: 0.6400 - acc: 0.8465 - val_loss: 0.6580 - val_acc: 0.8429\n",
            "Epoch 98/170\n",
            "307/307 [==============================] - 1s 2ms/step - loss: 0.6334 - acc: 0.8497 - val_loss: 0.6515 - val_acc: 0.8464\n",
            "Epoch 99/170\n",
            "307/307 [==============================] - 1s 2ms/step - loss: 0.6269 - acc: 0.8508 - val_loss: 0.6451 - val_acc: 0.8464\n",
            "Epoch 100/170\n",
            "307/307 [==============================] - 1s 2ms/step - loss: 0.6204 - acc: 0.8505 - val_loss: 0.6387 - val_acc: 0.8473\n",
            "Epoch 101/170\n",
            "307/307 [==============================] - 1s 2ms/step - loss: 0.6139 - acc: 0.8563 - val_loss: 0.6323 - val_acc: 0.8512\n",
            "Epoch 102/170\n",
            "307/307 [==============================] - 1s 2ms/step - loss: 0.6075 - acc: 0.8571 - val_loss: 0.6259 - val_acc: 0.8512\n",
            "Epoch 103/170\n",
            "307/307 [==============================] - 1s 2ms/step - loss: 0.6011 - acc: 0.8577 - val_loss: 0.6197 - val_acc: 0.8516\n",
            "Epoch 104/170\n",
            "307/307 [==============================] - 1s 2ms/step - loss: 0.5947 - acc: 0.8598 - val_loss: 0.6133 - val_acc: 0.8555\n",
            "Epoch 105/170\n",
            "307/307 [==============================] - 1s 2ms/step - loss: 0.5884 - acc: 0.8622 - val_loss: 0.6071 - val_acc: 0.8560\n",
            "Epoch 106/170\n",
            "307/307 [==============================] - 1s 2ms/step - loss: 0.5822 - acc: 0.8643 - val_loss: 0.6009 - val_acc: 0.8586\n",
            "Epoch 107/170\n",
            "307/307 [==============================] - 1s 2ms/step - loss: 0.5760 - acc: 0.8659 - val_loss: 0.5948 - val_acc: 0.8586\n",
            "Epoch 108/170\n",
            "307/307 [==============================] - 1s 2ms/step - loss: 0.5698 - acc: 0.8659 - val_loss: 0.5887 - val_acc: 0.8586\n",
            "Epoch 109/170\n",
            "307/307 [==============================] - 1s 2ms/step - loss: 0.5637 - acc: 0.8659 - val_loss: 0.5826 - val_acc: 0.8586\n",
            "Epoch 110/170\n",
            "307/307 [==============================] - 1s 2ms/step - loss: 0.5576 - acc: 0.8659 - val_loss: 0.5765 - val_acc: 0.8607\n",
            "Epoch 111/170\n",
            "307/307 [==============================] - 1s 2ms/step - loss: 0.5516 - acc: 0.8677 - val_loss: 0.5705 - val_acc: 0.8607\n",
            "Epoch 112/170\n",
            "307/307 [==============================] - 1s 2ms/step - loss: 0.5456 - acc: 0.8677 - val_loss: 0.5647 - val_acc: 0.8607\n",
            "Epoch 113/170\n",
            "307/307 [==============================] - 1s 2ms/step - loss: 0.5397 - acc: 0.8678 - val_loss: 0.5588 - val_acc: 0.8607\n",
            "Epoch 114/170\n",
            "307/307 [==============================] - 1s 2ms/step - loss: 0.5339 - acc: 0.8681 - val_loss: 0.5531 - val_acc: 0.8607\n",
            "Epoch 115/170\n",
            "307/307 [==============================] - 1s 2ms/step - loss: 0.5281 - acc: 0.8694 - val_loss: 0.5474 - val_acc: 0.8634\n",
            "Epoch 116/170\n",
            "307/307 [==============================] - 1s 2ms/step - loss: 0.5224 - acc: 0.8703 - val_loss: 0.5417 - val_acc: 0.8634\n",
            "Epoch 117/170\n",
            "307/307 [==============================] - 1s 2ms/step - loss: 0.5168 - acc: 0.8706 - val_loss: 0.5362 - val_acc: 0.8638\n",
            "Epoch 118/170\n",
            "307/307 [==============================] - 1s 2ms/step - loss: 0.5113 - acc: 0.8720 - val_loss: 0.5307 - val_acc: 0.8655\n",
            "Epoch 119/170\n",
            "307/307 [==============================] - 1s 2ms/step - loss: 0.5059 - acc: 0.8719 - val_loss: 0.5253 - val_acc: 0.8673\n",
            "Epoch 120/170\n",
            "307/307 [==============================] - 1s 2ms/step - loss: 0.5005 - acc: 0.8757 - val_loss: 0.5200 - val_acc: 0.8729\n",
            "Epoch 121/170\n",
            "307/307 [==============================] - 1s 2ms/step - loss: 0.4952 - acc: 0.8782 - val_loss: 0.5147 - val_acc: 0.8747\n",
            "Epoch 122/170\n",
            "307/307 [==============================] - 1s 2ms/step - loss: 0.4899 - acc: 0.8792 - val_loss: 0.5095 - val_acc: 0.8760\n",
            "Epoch 123/170\n",
            "307/307 [==============================] - 1s 2ms/step - loss: 0.4847 - acc: 0.8823 - val_loss: 0.5043 - val_acc: 0.8768\n",
            "Epoch 124/170\n",
            "307/307 [==============================] - 1s 2ms/step - loss: 0.4796 - acc: 0.8848 - val_loss: 0.4992 - val_acc: 0.8790\n",
            "Epoch 125/170\n",
            "307/307 [==============================] - 1s 2ms/step - loss: 0.4746 - acc: 0.8875 - val_loss: 0.4942 - val_acc: 0.8873\n",
            "Epoch 126/170\n",
            "307/307 [==============================] - 1s 2ms/step - loss: 0.4696 - acc: 0.8924 - val_loss: 0.4893 - val_acc: 0.8938\n",
            "Epoch 127/170\n",
            "307/307 [==============================] - 1s 2ms/step - loss: 0.4647 - acc: 0.8987 - val_loss: 0.4844 - val_acc: 0.8943\n",
            "Epoch 128/170\n",
            "307/307 [==============================] - 1s 2ms/step - loss: 0.4599 - acc: 0.8987 - val_loss: 0.4796 - val_acc: 0.8943\n",
            "Epoch 129/170\n",
            "307/307 [==============================] - 1s 3ms/step - loss: 0.4551 - acc: 0.8991 - val_loss: 0.4749 - val_acc: 0.8947\n",
            "Epoch 130/170\n",
            "307/307 [==============================] - 1s 3ms/step - loss: 0.4504 - acc: 0.8993 - val_loss: 0.4702 - val_acc: 0.8947\n",
            "Epoch 131/170\n",
            "307/307 [==============================] - 1s 3ms/step - loss: 0.4458 - acc: 0.9010 - val_loss: 0.4656 - val_acc: 0.8977\n",
            "Epoch 132/170\n",
            "307/307 [==============================] - 1s 3ms/step - loss: 0.4412 - acc: 0.9072 - val_loss: 0.4611 - val_acc: 0.9034\n",
            "Epoch 133/170\n",
            "307/307 [==============================] - 1s 3ms/step - loss: 0.4367 - acc: 0.9112 - val_loss: 0.4566 - val_acc: 0.9034\n",
            "Epoch 134/170\n",
            "307/307 [==============================] - 1s 3ms/step - loss: 0.4323 - acc: 0.9115 - val_loss: 0.4522 - val_acc: 0.9034\n",
            "Epoch 135/170\n",
            "307/307 [==============================] - 1s 3ms/step - loss: 0.4279 - acc: 0.9117 - val_loss: 0.4479 - val_acc: 0.9034\n",
            "Epoch 136/170\n",
            "307/307 [==============================] - 1s 3ms/step - loss: 0.4236 - acc: 0.9122 - val_loss: 0.4436 - val_acc: 0.9038\n",
            "Epoch 137/170\n",
            "307/307 [==============================] - 1s 3ms/step - loss: 0.4194 - acc: 0.9129 - val_loss: 0.4395 - val_acc: 0.9056\n",
            "Epoch 138/170\n",
            "307/307 [==============================] - 1s 3ms/step - loss: 0.4153 - acc: 0.9150 - val_loss: 0.4353 - val_acc: 0.9069\n",
            "Epoch 139/170\n",
            "307/307 [==============================] - 1s 3ms/step - loss: 0.4112 - acc: 0.9161 - val_loss: 0.4312 - val_acc: 0.9091\n",
            "Epoch 140/170\n",
            "307/307 [==============================] - 1s 3ms/step - loss: 0.4072 - acc: 0.9177 - val_loss: 0.4272 - val_acc: 0.9095\n",
            "Epoch 141/170\n",
            "307/307 [==============================] - 1s 2ms/step - loss: 0.4032 - acc: 0.9200 - val_loss: 0.4233 - val_acc: 0.9112\n",
            "Epoch 142/170\n",
            "307/307 [==============================] - 1s 2ms/step - loss: 0.3994 - acc: 0.9234 - val_loss: 0.4194 - val_acc: 0.9169\n",
            "Epoch 143/170\n",
            "307/307 [==============================] - 1s 2ms/step - loss: 0.3956 - acc: 0.9245 - val_loss: 0.4156 - val_acc: 0.9191\n",
            "Epoch 144/170\n",
            "307/307 [==============================] - 1s 2ms/step - loss: 0.3918 - acc: 0.9256 - val_loss: 0.4119 - val_acc: 0.9195\n",
            "Epoch 145/170\n",
            "307/307 [==============================] - 1s 2ms/step - loss: 0.3881 - acc: 0.9275 - val_loss: 0.4082 - val_acc: 0.9199\n",
            "Epoch 146/170\n",
            "307/307 [==============================] - 1s 2ms/step - loss: 0.3845 - acc: 0.9276 - val_loss: 0.4046 - val_acc: 0.9199\n",
            "Epoch 147/170\n",
            "307/307 [==============================] - 1s 2ms/step - loss: 0.3810 - acc: 0.9278 - val_loss: 0.4011 - val_acc: 0.9199\n",
            "Epoch 148/170\n",
            "307/307 [==============================] - 1s 2ms/step - loss: 0.3775 - acc: 0.9279 - val_loss: 0.3976 - val_acc: 0.9199\n",
            "Epoch 149/170\n",
            "307/307 [==============================] - 1s 2ms/step - loss: 0.3740 - acc: 0.9279 - val_loss: 0.3942 - val_acc: 0.9204\n",
            "Epoch 150/170\n",
            "307/307 [==============================] - 1s 2ms/step - loss: 0.3707 - acc: 0.9279 - val_loss: 0.3908 - val_acc: 0.9204\n",
            "Epoch 151/170\n",
            "307/307 [==============================] - 1s 2ms/step - loss: 0.3673 - acc: 0.9281 - val_loss: 0.3875 - val_acc: 0.9225\n",
            "Epoch 152/170\n",
            "307/307 [==============================] - 1s 2ms/step - loss: 0.3641 - acc: 0.9293 - val_loss: 0.3843 - val_acc: 0.9225\n",
            "Epoch 153/170\n",
            "307/307 [==============================] - 1s 2ms/step - loss: 0.3608 - acc: 0.9303 - val_loss: 0.3811 - val_acc: 0.9247\n",
            "Epoch 154/170\n",
            "307/307 [==============================] - 1s 2ms/step - loss: 0.3577 - acc: 0.9302 - val_loss: 0.3779 - val_acc: 0.9247\n",
            "Epoch 155/170\n",
            "307/307 [==============================] - 1s 2ms/step - loss: 0.3546 - acc: 0.9306 - val_loss: 0.3748 - val_acc: 0.9247\n",
            "Epoch 156/170\n",
            "307/307 [==============================] - 1s 2ms/step - loss: 0.3515 - acc: 0.9308 - val_loss: 0.3718 - val_acc: 0.9247\n",
            "Epoch 157/170\n",
            "307/307 [==============================] - 1s 2ms/step - loss: 0.3486 - acc: 0.9310 - val_loss: 0.3688 - val_acc: 0.9256\n",
            "Epoch 158/170\n",
            "307/307 [==============================] - 1s 2ms/step - loss: 0.3456 - acc: 0.9336 - val_loss: 0.3659 - val_acc: 0.9299\n",
            "Epoch 159/170\n",
            "307/307 [==============================] - 1s 2ms/step - loss: 0.3427 - acc: 0.9346 - val_loss: 0.3631 - val_acc: 0.9308\n",
            "Epoch 160/170\n",
            "307/307 [==============================] - 1s 2ms/step - loss: 0.3399 - acc: 0.9347 - val_loss: 0.3602 - val_acc: 0.9308\n",
            "Epoch 161/170\n",
            "307/307 [==============================] - 1s 2ms/step - loss: 0.3371 - acc: 0.9347 - val_loss: 0.3574 - val_acc: 0.9308\n",
            "Epoch 162/170\n",
            "307/307 [==============================] - 1s 2ms/step - loss: 0.3343 - acc: 0.9347 - val_loss: 0.3547 - val_acc: 0.9308\n",
            "Epoch 163/170\n",
            "307/307 [==============================] - 1s 2ms/step - loss: 0.3316 - acc: 0.9346 - val_loss: 0.3519 - val_acc: 0.9308\n",
            "Epoch 164/170\n",
            "307/307 [==============================] - 1s 2ms/step - loss: 0.3289 - acc: 0.9354 - val_loss: 0.3493 - val_acc: 0.9312\n",
            "Epoch 165/170\n",
            "307/307 [==============================] - 1s 2ms/step - loss: 0.3263 - acc: 0.9358 - val_loss: 0.3467 - val_acc: 0.9326\n",
            "Epoch 166/170\n",
            "307/307 [==============================] - 1s 2ms/step - loss: 0.3237 - acc: 0.9367 - val_loss: 0.3441 - val_acc: 0.9326\n",
            "Epoch 167/170\n",
            "307/307 [==============================] - 1s 2ms/step - loss: 0.3212 - acc: 0.9364 - val_loss: 0.3415 - val_acc: 0.9326\n",
            "Epoch 168/170\n",
            "307/307 [==============================] - 1s 2ms/step - loss: 0.3187 - acc: 0.9365 - val_loss: 0.3391 - val_acc: 0.9326\n",
            "Epoch 169/170\n",
            "307/307 [==============================] - 1s 2ms/step - loss: 0.3162 - acc: 0.9367 - val_loss: 0.3366 - val_acc: 0.9330\n",
            "Epoch 170/170\n",
            "307/307 [==============================] - 1s 2ms/step - loss: 0.3138 - acc: 0.9381 - val_loss: 0.3342 - val_acc: 0.9343\n",
            "<bound method Model.summary of <tensorflow.python.keras.engine.sequential.Sequential object at 0x7fd8436822e8>>\n",
            "Test Accuracy:\n",
            "3446/3446 [==============================] - 5s 2ms/step - loss: 0.3170 - acc: 0.9338\n",
            "Random Sample Accuracy:\n",
            " 1/50 [..............................] - ETA: 0s - loss: 0.9489 - acc: 0.6333WARNING:tensorflow:Callbacks method `on_test_batch_end` is slow compared to the batch time (batch time: 0.0013s vs `on_test_batch_end` time: 0.0021s). Check your callbacks.\n",
            "50/50 [==============================] - 0s 2ms/step - loss: 0.8247 - acc: 0.6973\n"
          ],
          "name": "stdout"
        },
        {
          "output_type": "display_data",
          "data": {
            "image/png": "[encoded data removed]",
            "text/plain": [
              "<Figure size 1080x432 with 2 Axes>"
            ]
          },
          "metadata": {
            "tags": [],
            "needs_background": "light"
          }
        }
      ]
    },
    {
      "cell_type": "markdown",
      "metadata": {
        "id": "__MpwHll6CmX"
      },
      "source": [
        "Model 6 had the best performance on the random sample, with about 74% accuracy."
      ]
    },
    {
      "cell_type": "markdown",
      "metadata": {
        "id": "W-VgBuAfywOp"
      },
      "source": [
        "## Confusion Matrix"
      ]
    },
    {
      "cell_type": "markdown",
      "metadata": {
        "id": "DEyOaI696aJh"
      },
      "source": [
        "We'll create a confusion matrix to get a fuller sense of how the model performed on the random sample.  "
      ]
    },
    {
      "cell_type": "code",
      "metadata": {
        "id": "l8EMtKM143FT"
      },
      "source": [
        "label_preds = model4.predict_classes(r_descriptor_onehot)\n",
        "label_preds_onehot = to_categorical(label_preds)"
      ],
      "execution_count": 188,
      "outputs": []
    },
    {
      "cell_type": "code",
      "metadata": {
        "id": "fiHQNsVupk2W"
      },
      "source": [
        "cf_matrix = confusion_matrix(r_agency_cat, label_preds)"
      ],
      "execution_count": 189,
      "outputs": []
    },
    {
      "cell_type": "code",
      "metadata": {
        "colab": {
          "base_uri": "https://localhost:8080/",
          "height": 805
        },
        "id": "9VxZFJDWumpA",
        "outputId": "f7a11a41-d8cc-43df-9a9f-74ba91c07987"
      },
      "source": [
        "plt.figure(figsize=(13, 13))\n",
        "plt.title('Confusion Matrix: Predictions on Random Sample', \n",
        "          fontdict={'fontsize': 16, 'family': 'serif', 'color': '#58508d', 'weight': 'bold'})\n",
        "\n",
        "sns.heatmap(cf_matrix/np.sum(cf_matrix), annot=True, xticklabels=le.classes_, yticklabels=le.classes_,\n",
        "            fmt='.2%', cmap='Reds')\n",
        "plt.ylabel('True Agency')\n",
        "plt.xlabel('Predicted Agency')"
      ],
      "execution_count": 190,
      "outputs": [
        {
          "output_type": "execute_result",
          "data": {
            "text/plain": [
              "Text(0.5, 96.0, 'Predicted Agency')"
            ]
          },
          "metadata": {
            "tags": []
          },
          "execution_count": 190
        },
        {
          "output_type": "display_data",
          "data": {
            "image/png": "[encoded data removed]",
            "text/plain": [
              "<Figure size 936x936 with 2 Axes>"
            ]
          },
          "metadata": {
            "tags": [],
            "needs_background": "light"
          }
        }
      ]
    },
    {
      "cell_type": "markdown",
      "metadata": {
        "id": "lB5-ByaiIYCx"
      },
      "source": [
        "# LSTM Model"
      ]
    },
    {
      "cell_type": "markdown",
      "metadata": {
        "id": "cx6z6lqAbCpk"
      },
      "source": [
        "Long Short Term Memory (LSTM) recurrent neural network models are appropriate when the order of the input data matters. They are especially useful when working with natural language data, given that the order of words in a grouping of words can significantly change their meaning. Most of the 311 call descriptions are short, so there may be limited variation in the order of words within them. For perspective, the longest descriptor has been printed below."
      ]
    },
    {
      "cell_type": "code",
      "metadata": {
        "colab": {
          "base_uri": "https://localhost:8080/"
        },
        "id": "CGv2NyIxdIGp",
        "outputId": "cd280be3-37c9-4c43-9a8a-f0c32777939d"
      },
      "source": [
        "#create dictionary and update it with each unique descriptor and its length\n",
        "lengths = {} \n",
        "for descriptor in df.descriptor:\n",
        "  if descriptor not in lengths:\n",
        "    lengths[descriptor] = len(descriptor)\n",
        "\n",
        "#Get descriptor with the highest length value and print it\n",
        "for descriptor, length in lengths.items(): \n",
        "  if len(descriptor) == max(lengths.values()):\n",
        "    print('Descriptor:', descriptor)\n",
        "    print('Length:', length)"
      ],
      "execution_count": 55,
      "outputs": [
        {
          "output_type": "stream",
          "text": [
            "Descriptor: safety netting guard rails  damaged inadequate none  stories  feet or less\n",
            "Length: 74\n"
          ],
          "name": "stdout"
        }
      ]
    },
    {
      "cell_type": "markdown",
      "metadata": {
        "id": "oXOEWvZagy8B"
      },
      "source": [
        "The longest descriptor is only 74 characters. If there is little variation in the order of descriptor words due to their short length, we may not see much improvement in an LSTM model, but possible improvement is nonetheless worth investigating."
      ]
    },
    {
      "cell_type": "code",
      "metadata": {
        "id": "H0WgHIoydZxu"
      },
      "source": [
        "descriptors = X\n",
        "tokenizer = Tokenizer() \n",
        "\n",
        "tokenizer.fit_on_texts(descriptors) \n",
        "descriptor_onehot = tokenizer.texts_to_sequences(descriptors) \n",
        "\n",
        "#padding sequences ensures all sequences have the same length\n",
        "descriptor_onehot = pad_sequences(descriptor_onehot) "
      ],
      "execution_count": 73,
      "outputs": []
    },
    {
      "cell_type": "code",
      "metadata": {
        "id": "ULk7tZtHg3KR"
      },
      "source": [
        "#split the test and train data again with new descriptor data\n",
        "test, train, label_test, label_train = train_test_split(descriptor_onehot, \n",
        "                                                        agency_onehot, \n",
        "                                                        test_size=.1, \n",
        "                                                        random_state=6)"
      ],
      "execution_count": 74,
      "outputs": []
    },
    {
      "cell_type": "code",
      "metadata": {
        "id": "0O3OwrVGv9JD"
      },
      "source": [
        "#store the shape in an object that will be used in the model's input dimensions\n",
        "train_shape = train.shape"
      ],
      "execution_count": 97,
      "outputs": []
    },
    {
      "cell_type": "code",
      "metadata": {
        "id": "6PfhxhxrseIe"
      },
      "source": [
        "#create a model using an LSTM layer, with dropout to prevent overfitting\n",
        "\n",
        "opt = tf.keras.optimizers.SGD(learning_rate=0.01)\n",
        "model = Sequential()\n",
        "model.add(layers.Embedding(input_dim=train_shape[0], output_dim=100))\n",
        "model.add(layers.LSTM(64, dropout=0.1, activation='relu',return_sequences=True))\n",
        "model.add(layers.GRU(14, recurrent_dropout=0.2, dropout=0.2))\n",
        "model.add(Dropout(.2))\n",
        "model.add(layers.Dense(14, activation='softmax'))\n",
        "model.compile(loss='categorical_crossentropy', optimizer=opt, metrics=['accuracy'])"
      ],
      "execution_count": null,
      "outputs": []
    },
    {
      "cell_type": "markdown",
      "metadata": {
        "id": "5Qy2fvs51KDo"
      },
      "source": [
        "We'll fit the LSTM model with an early stopping callback. This model has a longer training time than those built in the previous section. Implementing early stopping will ensure that the model does not continue to train after its improvement with each epoch becomes insignificant."
      ]
    },
    {
      "cell_type": "code",
      "metadata": {
        "colab": {
          "base_uri": "https://localhost:8080/"
        },
        "id": "-kRHhCxQvRZp",
        "outputId": "38c0ad6c-c74a-45f6-fca2-8437da60e700"
      },
      "source": [
        "early_stopping = EarlyStopping(monitor='val_loss', patience=3)\n",
        "history = model.fit(train, label_train, validation_data=(test, label_test), \n",
        "                    epochs=150, batch_size=30, callbacks=[early_stopping])"
      ],
      "execution_count": 168,
      "outputs": [
        {
          "output_type": "stream",
          "text": [
            "Epoch 1/150\n",
            "383/383 [==============================] - 42s 110ms/step - loss: 2.0293 - accuracy: 0.5166 - val_loss: 1.7932 - val_accuracy: 0.5231\n",
            "Epoch 2/150\n",
            "383/383 [==============================] - 41s 108ms/step - loss: 1.7864 - accuracy: 0.5194 - val_loss: 1.7156 - val_accuracy: 0.5231\n",
            "Epoch 3/150\n",
            "383/383 [==============================] - 42s 109ms/step - loss: 1.7281 - accuracy: 0.5194 - val_loss: 1.6680 - val_accuracy: 0.5231\n",
            "Epoch 4/150\n",
            "383/383 [==============================] - 43s 111ms/step - loss: 1.6803 - accuracy: 0.5194 - val_loss: 1.6185 - val_accuracy: 0.5231\n",
            "Epoch 5/150\n",
            "383/383 [==============================] - 42s 110ms/step - loss: 1.6163 - accuracy: 0.5195 - val_loss: 1.5367 - val_accuracy: 0.5231\n",
            "Epoch 6/150\n",
            "383/383 [==============================] - 42s 108ms/step - loss: 1.5202 - accuracy: 0.5258 - val_loss: 1.4179 - val_accuracy: 0.5393\n",
            "Epoch 7/150\n",
            "383/383 [==============================] - 42s 109ms/step - loss: 1.3972 - accuracy: 0.5586 - val_loss: 1.3041 - val_accuracy: 0.5758\n",
            "Epoch 8/150\n",
            "383/383 [==============================] - 42s 109ms/step - loss: 1.2828 - accuracy: 0.5863 - val_loss: 1.1705 - val_accuracy: 0.5949\n",
            "Epoch 9/150\n",
            "383/383 [==============================] - 42s 108ms/step - loss: 1.1802 - accuracy: 0.6242 - val_loss: 1.0712 - val_accuracy: 0.6833\n",
            "Epoch 10/150\n",
            "383/383 [==============================] - 42s 109ms/step - loss: 1.0980 - accuracy: 0.6510 - val_loss: 1.0009 - val_accuracy: 0.6881\n",
            "Epoch 11/150\n",
            "383/383 [==============================] - 43s 112ms/step - loss: 1.0345 - accuracy: 0.6724 - val_loss: 0.9622 - val_accuracy: 0.6923\n",
            "Epoch 12/150\n",
            "383/383 [==============================] - 42s 110ms/step - loss: 0.9902 - accuracy: 0.6850 - val_loss: 0.9195 - val_accuracy: 0.6973\n",
            "Epoch 13/150\n",
            "383/383 [==============================] - 45s 117ms/step - loss: 0.9545 - accuracy: 0.6909 - val_loss: 0.8780 - val_accuracy: 0.7037\n",
            "Epoch 14/150\n",
            "383/383 [==============================] - 43s 111ms/step - loss: 0.9261 - accuracy: 0.6951 - val_loss: 0.8498 - val_accuracy: 0.7033\n",
            "Epoch 15/150\n",
            "383/383 [==============================] - 42s 111ms/step - loss: 0.9009 - accuracy: 0.7008 - val_loss: 0.8239 - val_accuracy: 0.7107\n",
            "Epoch 16/150\n",
            "383/383 [==============================] - 42s 108ms/step - loss: 0.8777 - accuracy: 0.7108 - val_loss: 0.8011 - val_accuracy: 0.7222\n",
            "Epoch 17/150\n",
            "383/383 [==============================] - 41s 108ms/step - loss: 0.8529 - accuracy: 0.7190 - val_loss: 0.7712 - val_accuracy: 0.7324\n",
            "Epoch 18/150\n",
            "383/383 [==============================] - 42s 110ms/step - loss: 0.8269 - accuracy: 0.7267 - val_loss: 0.7472 - val_accuracy: 0.7477\n",
            "Epoch 19/150\n",
            "383/383 [==============================] - 41s 108ms/step - loss: 0.8035 - accuracy: 0.7359 - val_loss: 0.7171 - val_accuracy: 0.7625\n",
            "Epoch 20/150\n",
            "383/383 [==============================] - 41s 107ms/step - loss: 0.7756 - accuracy: 0.7464 - val_loss: 0.6902 - val_accuracy: 0.7750\n",
            "Epoch 21/150\n",
            "383/383 [==============================] - 41s 107ms/step - loss: 0.7508 - accuracy: 0.7587 - val_loss: 0.6611 - val_accuracy: 0.7764\n",
            "Epoch 22/150\n",
            "383/383 [==============================] - 41s 108ms/step - loss: 0.7095 - accuracy: 0.7753 - val_loss: 0.6096 - val_accuracy: 0.7970\n",
            "Epoch 23/150\n",
            "383/383 [==============================] - 41s 107ms/step - loss: 0.6841 - accuracy: 0.7862 - val_loss: 0.5760 - val_accuracy: 0.8437\n",
            "Epoch 24/150\n",
            "383/383 [==============================] - 41s 106ms/step - loss: 0.6597 - accuracy: 0.7922 - val_loss: 0.5464 - val_accuracy: 0.8482\n",
            "Epoch 25/150\n",
            "383/383 [==============================] - 41s 106ms/step - loss: 0.6229 - accuracy: 0.8106 - val_loss: 0.5189 - val_accuracy: 0.8558\n",
            "Epoch 26/150\n",
            "383/383 [==============================] - 41s 108ms/step - loss: 0.5942 - accuracy: 0.8230 - val_loss: 0.4918 - val_accuracy: 0.8659\n",
            "Epoch 27/150\n",
            "383/383 [==============================] - 41s 106ms/step - loss: 0.5746 - accuracy: 0.8296 - val_loss: 0.4646 - val_accuracy: 0.8723\n",
            "Epoch 28/150\n",
            "383/383 [==============================] - 41s 106ms/step - loss: 0.5514 - accuracy: 0.8338 - val_loss: 0.4624 - val_accuracy: 0.8773\n",
            "Epoch 29/150\n",
            "383/383 [==============================] - 41s 107ms/step - loss: 0.5267 - accuracy: 0.8419 - val_loss: 0.4278 - val_accuracy: 0.8781\n",
            "Epoch 30/150\n",
            "383/383 [==============================] - 41s 107ms/step - loss: 0.5022 - accuracy: 0.8530 - val_loss: 0.4069 - val_accuracy: 0.8816\n",
            "Epoch 31/150\n",
            "383/383 [==============================] - 41s 106ms/step - loss: 0.4888 - accuracy: 0.8580 - val_loss: 0.4042 - val_accuracy: 0.8886\n",
            "Epoch 32/150\n",
            "383/383 [==============================] - 40s 106ms/step - loss: 0.4739 - accuracy: 0.8590 - val_loss: 0.3754 - val_accuracy: 0.8952\n",
            "Epoch 33/150\n",
            "383/383 [==============================] - 41s 108ms/step - loss: 0.4552 - accuracy: 0.8633 - val_loss: 0.3585 - val_accuracy: 0.8943\n",
            "Epoch 34/150\n",
            "383/383 [==============================] - 41s 107ms/step - loss: 0.4443 - accuracy: 0.8709 - val_loss: 0.3621 - val_accuracy: 0.9050\n",
            "Epoch 35/150\n",
            "383/383 [==============================] - 40s 106ms/step - loss: 0.4265 - accuracy: 0.8768 - val_loss: 0.3424 - val_accuracy: 0.8984\n",
            "Epoch 36/150\n",
            "383/383 [==============================] - 41s 106ms/step - loss: 0.4167 - accuracy: 0.8812 - val_loss: 0.3298 - val_accuracy: 0.9194\n",
            "Epoch 37/150\n",
            "383/383 [==============================] - 41s 107ms/step - loss: 0.3957 - accuracy: 0.8884 - val_loss: 0.3105 - val_accuracy: 0.9191\n",
            "Epoch 38/150\n",
            "383/383 [==============================] - 41s 106ms/step - loss: 0.3830 - accuracy: 0.8953 - val_loss: 0.2971 - val_accuracy: 0.9303\n",
            "Epoch 39/150\n",
            "383/383 [==============================] - 40s 105ms/step - loss: 0.3745 - accuracy: 0.8993 - val_loss: 0.3127 - val_accuracy: 0.9165\n",
            "Epoch 40/150\n",
            "383/383 [==============================] - 41s 107ms/step - loss: 0.3613 - accuracy: 0.9042 - val_loss: 0.2958 - val_accuracy: 0.9253\n",
            "Epoch 41/150\n",
            "383/383 [==============================] - 41s 108ms/step - loss: 0.3540 - accuracy: 0.9059 - val_loss: 0.2601 - val_accuracy: 0.9471\n",
            "Epoch 42/150\n",
            "383/383 [==============================] - 41s 108ms/step - loss: 0.3363 - accuracy: 0.9129 - val_loss: 0.2464 - val_accuracy: 0.9471\n",
            "Epoch 43/150\n",
            "383/383 [==============================] - 42s 109ms/step - loss: 0.3327 - accuracy: 0.9135 - val_loss: 0.2392 - val_accuracy: 0.9413\n",
            "Epoch 44/150\n",
            "383/383 [==============================] - 44s 114ms/step - loss: 0.3205 - accuracy: 0.9189 - val_loss: 0.2459 - val_accuracy: 0.9539\n",
            "Epoch 45/150\n",
            "383/383 [==============================] - 41s 108ms/step - loss: 0.3084 - accuracy: 0.9212 - val_loss: 0.2231 - val_accuracy: 0.9479\n",
            "Epoch 46/150\n",
            "383/383 [==============================] - 41s 108ms/step - loss: 0.3025 - accuracy: 0.9232 - val_loss: 0.2310 - val_accuracy: 0.9336\n",
            "Epoch 47/150\n",
            "383/383 [==============================] - 41s 108ms/step - loss: 0.2943 - accuracy: 0.9242 - val_loss: 0.2099 - val_accuracy: 0.9543\n",
            "Epoch 48/150\n",
            "383/383 [==============================] - 42s 109ms/step - loss: 0.2818 - accuracy: 0.9277 - val_loss: 0.2110 - val_accuracy: 0.9477\n",
            "Epoch 49/150\n",
            "383/383 [==============================] - 41s 107ms/step - loss: 0.2727 - accuracy: 0.9304 - val_loss: 0.1956 - val_accuracy: 0.9552\n",
            "Epoch 50/150\n",
            "383/383 [==============================] - 41s 107ms/step - loss: 0.2709 - accuracy: 0.9321 - val_loss: 0.2056 - val_accuracy: 0.9470\n",
            "Epoch 51/150\n",
            "383/383 [==============================] - 41s 107ms/step - loss: 0.2638 - accuracy: 0.9353 - val_loss: 0.1891 - val_accuracy: 0.9602\n",
            "Epoch 52/150\n",
            "383/383 [==============================] - 41s 108ms/step - loss: 0.2584 - accuracy: 0.9354 - val_loss: 0.1794 - val_accuracy: 0.9604\n",
            "Epoch 53/150\n",
            "383/383 [==============================] - 41s 107ms/step - loss: 0.2531 - accuracy: 0.9357 - val_loss: 0.1767 - val_accuracy: 0.9631\n",
            "Epoch 54/150\n",
            "383/383 [==============================] - 41s 106ms/step - loss: 0.2508 - accuracy: 0.9372 - val_loss: 0.1735 - val_accuracy: 0.9621\n",
            "Epoch 55/150\n",
            "383/383 [==============================] - 41s 106ms/step - loss: 0.2449 - accuracy: 0.9392 - val_loss: 0.1663 - val_accuracy: 0.9619\n",
            "Epoch 56/150\n",
            "383/383 [==============================] - 41s 108ms/step - loss: 0.2329 - accuracy: 0.9429 - val_loss: 0.1612 - val_accuracy: 0.9633\n",
            "Epoch 57/150\n",
            "383/383 [==============================] - 41s 106ms/step - loss: 0.2273 - accuracy: 0.9422 - val_loss: 0.1599 - val_accuracy: 0.9642\n",
            "Epoch 58/150\n",
            "383/383 [==============================] - 41s 106ms/step - loss: 0.2263 - accuracy: 0.9436 - val_loss: 0.1586 - val_accuracy: 0.9633\n",
            "Epoch 59/150\n",
            "383/383 [==============================] - 41s 106ms/step - loss: 0.2221 - accuracy: 0.9436 - val_loss: 0.1476 - val_accuracy: 0.9668\n",
            "Epoch 60/150\n",
            "383/383 [==============================] - 41s 106ms/step - loss: 0.2205 - accuracy: 0.9460 - val_loss: 0.1542 - val_accuracy: 0.9645\n",
            "Epoch 61/150\n",
            "383/383 [==============================] - 41s 106ms/step - loss: 0.2144 - accuracy: 0.9448 - val_loss: 0.1509 - val_accuracy: 0.9644\n",
            "Epoch 62/150\n",
            "383/383 [==============================] - 41s 107ms/step - loss: 0.2099 - accuracy: 0.9485 - val_loss: 0.1443 - val_accuracy: 0.9688\n",
            "Epoch 63/150\n",
            "383/383 [==============================] - 41s 106ms/step - loss: 0.2032 - accuracy: 0.9478 - val_loss: 0.1412 - val_accuracy: 0.9661\n",
            "Epoch 64/150\n",
            "383/383 [==============================] - 41s 108ms/step - loss: 0.1994 - accuracy: 0.9495 - val_loss: 0.1353 - val_accuracy: 0.9653\n",
            "Epoch 65/150\n",
            "383/383 [==============================] - 41s 106ms/step - loss: 0.2011 - accuracy: 0.9480 - val_loss: 0.1347 - val_accuracy: 0.9660\n",
            "Epoch 66/150\n",
            "383/383 [==============================] - 41s 107ms/step - loss: 0.1916 - accuracy: 0.9520 - val_loss: 0.1285 - val_accuracy: 0.9671\n",
            "Epoch 67/150\n",
            "383/383 [==============================] - 41s 106ms/step - loss: 0.1871 - accuracy: 0.9525 - val_loss: 0.1261 - val_accuracy: 0.9675\n",
            "Epoch 68/150\n",
            "383/383 [==============================] - 41s 107ms/step - loss: 0.1883 - accuracy: 0.9508 - val_loss: 0.1383 - val_accuracy: 0.9641\n",
            "Epoch 69/150\n",
            "383/383 [==============================] - 41s 107ms/step - loss: 0.1864 - accuracy: 0.9510 - val_loss: 0.1204 - val_accuracy: 0.9689\n",
            "Epoch 70/150\n",
            "383/383 [==============================] - 41s 106ms/step - loss: 0.1823 - accuracy: 0.9546 - val_loss: 0.1248 - val_accuracy: 0.9730\n",
            "Epoch 71/150\n",
            "383/383 [==============================] - 42s 109ms/step - loss: 0.1785 - accuracy: 0.9533 - val_loss: 0.1213 - val_accuracy: 0.9690\n",
            "Epoch 72/150\n",
            "383/383 [==============================] - 41s 106ms/step - loss: 0.1702 - accuracy: 0.9569 - val_loss: 0.1177 - val_accuracy: 0.9741\n",
            "Epoch 73/150\n",
            "383/383 [==============================] - 41s 107ms/step - loss: 0.1753 - accuracy: 0.9540 - val_loss: 0.1145 - val_accuracy: 0.9701\n",
            "Epoch 74/150\n",
            "383/383 [==============================] - 41s 107ms/step - loss: 0.1702 - accuracy: 0.9557 - val_loss: 0.1267 - val_accuracy: 0.9673\n",
            "Epoch 75/150\n",
            "383/383 [==============================] - 40s 106ms/step - loss: 0.1650 - accuracy: 0.9560 - val_loss: 0.1095 - val_accuracy: 0.9758\n",
            "Epoch 76/150\n",
            "383/383 [==============================] - 41s 106ms/step - loss: 0.1641 - accuracy: 0.9573 - val_loss: 0.1099 - val_accuracy: 0.9749\n",
            "Epoch 77/150\n",
            "383/383 [==============================] - 40s 105ms/step - loss: 0.1629 - accuracy: 0.9594 - val_loss: 0.1072 - val_accuracy: 0.9721\n",
            "Epoch 78/150\n",
            "383/383 [==============================] - 41s 106ms/step - loss: 0.1608 - accuracy: 0.9586 - val_loss: 0.1177 - val_accuracy: 0.9692\n",
            "Epoch 79/150\n",
            "383/383 [==============================] - 41s 108ms/step - loss: 0.1539 - accuracy: 0.9606 - val_loss: 0.1068 - val_accuracy: 0.9749\n",
            "Epoch 80/150\n",
            "383/383 [==============================] - 41s 106ms/step - loss: 0.1537 - accuracy: 0.9604 - val_loss: 0.1038 - val_accuracy: 0.9767\n",
            "Epoch 81/150\n",
            "383/383 [==============================] - 41s 107ms/step - loss: 0.1510 - accuracy: 0.9600 - val_loss: 0.1051 - val_accuracy: 0.9737\n",
            "Epoch 82/150\n",
            "383/383 [==============================] - 41s 106ms/step - loss: 0.1485 - accuracy: 0.9620 - val_loss: 0.0997 - val_accuracy: 0.9785\n",
            "Epoch 83/150\n",
            "383/383 [==============================] - 41s 106ms/step - loss: 0.1462 - accuracy: 0.9618 - val_loss: 0.1063 - val_accuracy: 0.9745\n",
            "Epoch 84/150\n",
            "383/383 [==============================] - 40s 105ms/step - loss: 0.1454 - accuracy: 0.9639 - val_loss: 0.0958 - val_accuracy: 0.9785\n",
            "Epoch 85/150\n",
            "383/383 [==============================] - 40s 105ms/step - loss: 0.1436 - accuracy: 0.9637 - val_loss: 0.0964 - val_accuracy: 0.9781\n",
            "Epoch 86/150\n",
            "383/383 [==============================] - 41s 108ms/step - loss: 0.1412 - accuracy: 0.9621 - val_loss: 0.1034 - val_accuracy: 0.9763\n",
            "Epoch 87/150\n",
            "383/383 [==============================] - 41s 106ms/step - loss: 0.1428 - accuracy: 0.9614 - val_loss: 0.0951 - val_accuracy: 0.9785\n",
            "Epoch 88/150\n",
            "383/383 [==============================] - 40s 105ms/step - loss: 0.1333 - accuracy: 0.9650 - val_loss: 0.0921 - val_accuracy: 0.9788\n",
            "Epoch 89/150\n",
            "383/383 [==============================] - 41s 107ms/step - loss: 0.1356 - accuracy: 0.9653 - val_loss: 0.0957 - val_accuracy: 0.9760\n",
            "Epoch 90/150\n",
            "383/383 [==============================] - 40s 106ms/step - loss: 0.1328 - accuracy: 0.9660 - val_loss: 0.0942 - val_accuracy: 0.9786\n",
            "Epoch 91/150\n",
            "383/383 [==============================] - 41s 106ms/step - loss: 0.1333 - accuracy: 0.9657 - val_loss: 0.0971 - val_accuracy: 0.9782\n"
          ],
          "name": "stdout"
        }
      ]
    },
    {
      "cell_type": "markdown",
      "metadata": {
        "id": "eZLVzrZW2yco"
      },
      "source": [
        "With the early stopping callback, the model stopped training after 91 epochs. Below, we use modified code from the `plot_acc_loss()` function to visualize the model's learning history."
      ]
    },
    {
      "cell_type": "code",
      "metadata": {
        "colab": {
          "base_uri": "https://localhost:8080/",
          "height": 407
        },
        "id": "HTN75iuepZDb",
        "outputId": "7f10d5bc-4d7f-430a-997e-d8b01399c2b4"
      },
      "source": [
        "fig, (ax1, ax2) = plt.subplots(nrows=1,\n",
        "                               ncols=2,\n",
        "                               figsize=(15, 6))\n",
        "\n",
        "ax_font = {'fontsize': 12, 'family': 'serif', \n",
        "             'color': '#58508d', 'weight': 'bold'}\n",
        "title_font = {'fontsize': 14, 'family': 'serif',\n",
        "                'color': '#58508d', 'weight': 'bold'}\n",
        "\n",
        "\n",
        "ax1.plot(history.history['accuracy'], color='#D8A7B1', linewidth=3)\n",
        "ax1.grid(color='g', linestyle='-', linewidth=.09)\n",
        "ax1.plot(history.history['val_accuracy'], color='#05234C', linewidth=3)\n",
        "ax1.set_title('Model Accuracy', fontdict=title_font)\n",
        "ax1.set_ylabel('Accuracy', fontdict=ax_font)\n",
        "ax1.set_xlabel('Number of epochs', fontdict=ax_font)\n",
        "ax1.legend(['train', 'validation'], loc='upper left')\n",
        "\n",
        "\n",
        "ax2.plot(history.history['loss'], color='#D8A7B1', linewidth=3)\n",
        "ax2.grid(color='g', linestyle='-', linewidth=.09)\n",
        "ax2.plot(history.history['val_loss'], color='#05234C', linewidth=3)\n",
        "ax2.set_title('Model Loss', fontdict=title_font)\n",
        "ax2.set_ylabel('Loss', fontdict=ax_font)\n",
        "ax2.set_xlabel('Number of epochs', fontdict=ax_font)\n",
        "ax2.legend(['train', 'validation'], loc='upper right')\n",
        "\n",
        "fig.show()"
      ],
      "execution_count": 174,
      "outputs": [
        {
          "output_type": "display_data",
          "data": {
            "image/png": "[encoded data removed]",
            "text/plain": [
              "<Figure size 1080x432 with 2 Axes>"
            ]
          },
          "metadata": {
            "tags": [],
            "needs_background": "light"
          }
        }
      ]
    },
    {
      "cell_type": "markdown",
      "metadata": {
        "id": "6xPrV2ul3dH9"
      },
      "source": [
        "The model's performance on the validation data improved steadily alongside the training data across the 91 epochs. We'll now evaluate its accuracy on the random subset. "
      ]
    },
    {
      "cell_type": "code",
      "metadata": {
        "id": "sUtwxrgbrKuT"
      },
      "source": [
        "#create random sample test data with padded sequences \n",
        "tokenizer.fit_on_texts(r_descriptors) \n",
        "LSTM_r_descriptor_onehot = tokenizer.texts_to_sequences(r_descriptors)\n",
        "LSTM_r_descriptor_onehot = pad_sequences(LSTM_r_descriptor_onehot)"
      ],
      "execution_count": 183,
      "outputs": []
    },
    {
      "cell_type": "code",
      "metadata": {
        "colab": {
          "base_uri": "https://localhost:8080/"
        },
        "id": "4Kpfl3z6w6tU",
        "outputId": "aa7320df-ac13-4ebc-9bba-0471f4a43cb4"
      },
      "source": [
        "#evaluate accuracy\n",
        "LSTM_random_results = model.evaluate(LSTM_r_descriptor_onehot, r_agency_onehot, batch_size=30)"
      ],
      "execution_count": 184,
      "outputs": [
        {
          "output_type": "stream",
          "text": [
            "3863/3863 [==============================] - 25s 6ms/step - loss: 1.6404 - accuracy: 0.7057\n"
          ],
          "name": "stdout"
        }
      ]
    },
    {
      "cell_type": "markdown",
      "metadata": {
        "id": "teWJLk-I4DF_"
      },
      "source": [
        "In terms of accuracy scores on the random sample, the performance of the fourth model still exceeds that of the LSTM model. Different parameters could be tested on the LSTM model, but this process would be costly given the substantial increase in training time. "
      ]
    },
    {
      "cell_type": "markdown",
      "metadata": {
        "id": "nQCkQBCrLMhL"
      },
      "source": [
        "# Interpreting the Results\n",
        "With 92% accuracy on the resampled test data, and 72.8% accuracy on the random subset, the fourth sequential model had the best overall performance. \n",
        "\n",
        "- The model correctly predicted that roughly half (49%) of calls received a response from the NYPD. \n",
        "- About 7% of predictions were correct HPD classifications.\n",
        "- About 6% were correct DPR classifications. \n",
        "- About 3% were correct DOT classifications, and another 2% were correct DSNY classifications.\n",
        "- Despite being trained on resampled data, the model still mis-classified the responding agency of some calls as the NYPD, HPD, or DOT. About 3% of calls, for example, were HPD but classified as DOT.\n",
        "\n",
        "Similar models can be trained and broadened in scope to optimize the assignment of future complaints to a responding agency. The evaluation of future models may also consider metrics other than accuracy to achieve a fuller understanding of their performance."
      ]
    },
    {
      "cell_type": "markdown",
      "metadata": {
        "id": "buv6obDyjy8g"
      },
      "source": [
        "# References \n",
        "[Hyperparameter Optimization with Keras]('https://towardsdatascience.com/hyperparameter-optimization-with-keras-b82e6364ca53')"
      ]
    }
  ]
}