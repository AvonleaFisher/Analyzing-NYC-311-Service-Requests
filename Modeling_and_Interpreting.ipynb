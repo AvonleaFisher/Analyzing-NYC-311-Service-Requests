{
  "nbformat": 4,
  "nbformat_minor": 0,
  "metadata": {
    "accelerator": "GPU",
    "colab": {
      "name": "Modeling_and_Interpreting.ipynb",
      "provenance": [],
      "collapsed_sections": [],
      "machine_shape": "hm",
      "mount_file_id": "1fasbo4TM3VyhL8ZkUYap0v6rsVNJXWxA",
      "authorship_tag": "ABX9TyNwMoc3KzbZJ2Puq3DrWV1I",
      "include_colab_link": true
    },
    "kernelspec": {
      "display_name": "Python 3",
      "name": "python3"
    }
  },
  "cells": [
    {
      "cell_type": "markdown",
      "metadata": {
        "id": "view-in-github",
        "colab_type": "text"
      },
      "source": [
        "<a href=\"https://colab.research.google.com/github/AvonleaFisher/Analyzing-NYC-311-Service-Requests/blob/main/Modeling_and_Interpreting.ipynb\" target=\"_parent\"><img src=\"https://colab.research.google.com/assets/colab-badge.svg\" alt=\"Open In Colab\"/></a>"
      ]
    },
    {
      "cell_type": "markdown",
      "metadata": {
        "id": "BuPIppTCJQoQ"
      },
      "source": [
        "# Introduction "
      ]
    },
    {
      "cell_type": "markdown",
      "metadata": {
        "id": "zalxhpvEJQld"
      },
      "source": [
        "The aim of this section is to train a neural network that can accurately classify the agency that responded to a 311 call. In the exploratory analysis section, we saw that none of the community districts' numeric indicators were highly correlated with any of the dummy-encoded agency categories. Intuitively, one may expect the call's descriptor to be the best predictor of the responding agency, but given that the descriptors consist of natural language data, they will need to undergo additional preprocessig before being fed into a model."
      ]
    },
    {
      "cell_type": "markdown",
      "metadata": {
        "id": "EQ2JuRRPUfI6"
      },
      "source": [
        "# Loading Dependencies"
      ]
    },
    {
      "cell_type": "code",
      "metadata": {
        "id": "muoTtQYo0uhz"
      },
      "source": [
        "!pip install -U -q PyDrive\n",
        "from pydrive.auth import GoogleAuth\n",
        "from pydrive.drive import GoogleDrive\n",
        "from google.colab import auth\n",
        "from oauth2client.client import GoogleCredentials\n",
        "from sklearn.model_selection import train_test_split\n",
        "from sklearn.metrics import confusion_matrix\n",
        "\n",
        "\n",
        "import matplotlib.pyplot as plt\n",
        "import pandas as pd\n",
        "import numpy as np\n",
        "import seaborn as sns\n",
        "import random\n",
        "import re\n",
        "\n",
        "from sklearn import preprocessing\n",
        "import tensorflow as tf\n",
        "from tensorflow import keras\n",
        "from tensorflow.keras import layers\n",
        "\n",
        "from keras.preprocessing.text import Tokenizer\n",
        "from keras import models\n",
        "from keras import layers\n",
        "from keras import optimizers\n",
        "from keras.utils.np_utils import to_categorical"
      ],
      "execution_count": 69,
      "outputs": []
    },
    {
      "cell_type": "code",
      "metadata": {
        "id": "dHtsa82d0yeh"
      },
      "source": [
        "auth.authenticate_user()\n",
        "gauth = GoogleAuth()\n",
        "gauth.credentials = GoogleCredentials.get_application_default()\n",
        "drive = GoogleDrive(gauth)"
      ],
      "execution_count": 70,
      "outputs": []
    },
    {
      "cell_type": "code",
      "metadata": {
        "colab": {
          "base_uri": "https://localhost:8080/"
        },
        "id": "WZHghdba0oB5",
        "outputId": "d1597714-f392-42a1-9c6b-333dcd949c7e"
      },
      "source": [
        "path = '/content/drive/MyDrive/Colab Notebooks/df_final.csv'\n",
        "df = pd.read_csv(path, index_col=0)"
      ],
      "execution_count": 71,
      "outputs": [
        {
          "output_type": "stream",
          "text": [
            "/usr/local/lib/python3.6/dist-packages/numpy/lib/arraysetops.py:569: FutureWarning: elementwise comparison failed; returning scalar instead, but in the future will perform elementwise comparison\n",
            "  mask |= (ar1 == a)\n"
          ],
          "name": "stderr"
        }
      ]
    },
    {
      "cell_type": "markdown",
      "metadata": {
        "id": "q395NFX9yEMQ"
      },
      "source": [
        "# Assessing Model Performance"
      ]
    },
    {
      "cell_type": "markdown",
      "metadata": {
        "id": "9LUNQFdHyb4p"
      },
      "source": [
        "With perfectly balanced classes, a model's accuracy is acceptable if it exceeds the expected accuracy rate of simply picking a random class. With heavily imbalanced classes, however, a model's accuracy can instead be compared to that of picking the majority class. Below is the expected accuracy rate if we were to predict that all calls in a sample were responded to by the NYPD."
      ]
    },
    {
      "cell_type": "code",
      "metadata": {
        "colab": {
          "base_uri": "https://localhost:8080/"
        },
        "id": "DNrao_hK2sFG",
        "outputId": "db5aba6c-f6a2-4318-9352-62d85bc6b0ab"
      },
      "source": [
        "len(df[df.agency =='NYPD'])/sum(df.agency.value_counts()) * 100"
      ],
      "execution_count": 72,
      "outputs": [
        {
          "output_type": "execute_result",
          "data": {
            "text/plain": [
              "52.613013902155835"
            ]
          },
          "metadata": {
            "tags": []
          },
          "execution_count": 72
        }
      ]
    },
    {
      "cell_type": "markdown",
      "metadata": {
        "id": "1TpY--8t3X-b"
      },
      "source": [
        "While the aim will be to maximize model accuracy, any classifier that is at least 53% accurate will out-perform the simple assignment of all calls to the NYPD."
      ]
    },
    {
      "cell_type": "markdown",
      "metadata": {
        "id": "W9fRwJwwMgbA"
      },
      "source": [
        "# Sampling the Data \n",
        "The dataset currently consists of more than one million rows:"
      ]
    },
    {
      "cell_type": "code",
      "metadata": {
        "colab": {
          "base_uri": "https://localhost:8080/"
        },
        "id": "mMMJh58Y8dIA",
        "outputId": "6e6251a8-f882-49c9-99e0-81f47c64b385"
      },
      "source": [
        "len(df)"
      ],
      "execution_count": 73,
      "outputs": [
        {
          "output_type": "execute_result",
          "data": {
            "text/plain": [
              "1379786"
            ]
          },
          "metadata": {
            "tags": []
          },
          "execution_count": 73
        }
      ]
    },
    {
      "cell_type": "markdown",
      "metadata": {
        "id": "JMUcv--x8aaY"
      },
      "source": [
        "Retrieving the training data from a representative sample, rather than the entire dataset, will save time in the training process and ideally not result in a significant decline in accuracy.\n",
        "\n",
        "In training classification models, we'll want to ensure that complaint descriptors from every agency category are represented. This way, the model will also be able to recognize encoded descriptors that correspond to agencies that rarely receive calls. However, training a model on samples of equal length from each agency may lead to confusion when it is presented with new, imbalanced data. We'll oversample the minority classes, but ensure that the largest samples are those agencies that receive the most calls. This will allow the diversity of descriptors associated with each agency to be captured in the samples. Below, we create and print a dictionary with the class weights."
      ]
    },
    {
      "cell_type": "code",
      "metadata": {
        "colab": {
          "base_uri": "https://localhost:8080/"
        },
        "id": "m2JjrNL748aM",
        "outputId": "b07d15b3-9505-47a2-cc31-9bf33b63eaa3"
      },
      "source": [
        "weights_dict = {}\n",
        "\n",
        "for agency, count in list(zip(df.agency.value_counts().index, df.agency.value_counts().values)):\n",
        "  weight = count/len(df)\n",
        "  weights_dict[agency] = weight\n",
        "weights_dict"
      ],
      "execution_count": 74,
      "outputs": [
        {
          "output_type": "execute_result",
          "data": {
            "text/plain": [
              "{'DCA': 0.007849768007502613,\n",
              " 'DEP': 0.057544430803037575,\n",
              " 'DOB': 0.031322248522596983,\n",
              " 'DOE': 0.0003138167802833193,\n",
              " 'DOHMH': 0.022252001397318134,\n",
              " 'DOITT': 0.00011233626084044916,\n",
              " 'DOT': 0.059362103978443034,\n",
              " 'DPR': 0.08357020581452486,\n",
              " 'DSNY': 0.04376330822315924,\n",
              " 'EDC': 0.004157891151236496,\n",
              " 'HPD': 0.12691315899711986,\n",
              " 'NYPD': 0.5261301390215584,\n",
              " 'OSE': 0.03320152545394721,\n",
              " 'TLC': 0.0035070655884318295}"
            ]
          },
          "metadata": {
            "tags": []
          },
          "execution_count": 74
        }
      ]
    },
    {
      "cell_type": "code",
      "metadata": {
        "colab": {
          "base_uri": "https://localhost:8080/"
        },
        "id": "uPPBjrs5LGG6",
        "outputId": "78aca72f-74a8-461b-ff16-6790862eda05"
      },
      "source": [
        "df.agency.value_counts()"
      ],
      "execution_count": 75,
      "outputs": [
        {
          "output_type": "execute_result",
          "data": {
            "text/plain": [
              "NYPD     725947\n",
              "HPD      175113\n",
              "DPR      115309\n",
              "DOT       81907\n",
              "DEP       79399\n",
              "DSNY      60384\n",
              "OSE       45811\n",
              "DOB       43218\n",
              "DOHMH     30703\n",
              "DCA       10831\n",
              "EDC        5737\n",
              "TLC        4839\n",
              "DOE         433\n",
              "DOITT       155\n",
              "Name: agency, dtype: int64"
            ]
          },
          "metadata": {
            "tags": []
          },
          "execution_count": 75
        }
      ]
    },
    {
      "cell_type": "markdown",
      "metadata": {
        "id": "gh_WXYsAPfWm"
      },
      "source": [
        "Next, we'll create a new dictionary with guidelines for the number of samples to be drawn from each class. The class weights are multiplied by a term that results in the largest sample, NYPD, consisting of around 60k calls."
      ]
    },
    {
      "cell_type": "code",
      "metadata": {
        "id": "Eei-2kEy9iCS"
      },
      "source": [
        "n_samples_dict = {}\n",
        "\n",
        "for agency, weight in zip(weights_dict.keys(), weights_dict.values()):\n",
        "  n_samples = int(15**4.3 * weight)\n",
        "  n_samples_dict[agency] = n_samples"
      ],
      "execution_count": 76,
      "outputs": []
    },
    {
      "cell_type": "code",
      "metadata": {
        "colab": {
          "base_uri": "https://localhost:8080/"
        },
        "id": "qE__5eWsBH0c",
        "outputId": "0ac6bd3e-6edc-496a-e57f-9052fb1f7f38"
      },
      "source": [
        "n_samples_dict"
      ],
      "execution_count": 77,
      "outputs": [
        {
          "output_type": "execute_result",
          "data": {
            "text/plain": [
              "{'DCA': 895,\n",
              " 'DEP': 6564,\n",
              " 'DOB': 3573,\n",
              " 'DOE': 35,\n",
              " 'DOHMH': 2538,\n",
              " 'DOITT': 12,\n",
              " 'DOT': 6771,\n",
              " 'DPR': 9533,\n",
              " 'DSNY': 4992,\n",
              " 'EDC': 474,\n",
              " 'HPD': 14477,\n",
              " 'NYPD': 60018,\n",
              " 'OSE': 3787,\n",
              " 'TLC': 400}"
            ]
          },
          "metadata": {
            "tags": []
          },
          "execution_count": 77
        }
      ]
    },
    {
      "cell_type": "markdown",
      "metadata": {
        "id": "1g8WnjUsRmw2"
      },
      "source": [
        "The below function returns weighted samples of an agency that's passed in. Agencies that appear in fewer than 400 rows are sampled with replacement, such\n",
        "that the minimum sample size is 400."
      ]
    },
    {
      "cell_type": "code",
      "metadata": {
        "id": "geHzoyWv52OZ"
      },
      "source": [
        "def get_weighted_sample(agency):\n",
        "  \n",
        "  \"\"\"Takes in an agency name as a string, and creates a subset with all rows\n",
        "     with a match in the agency column. If the number of rows is greater than \n",
        "     that of one of the minority classes, DOE, a weighted sample is returned. \n",
        "     For the two smallest minority classes, sample sizes of at least 400 are \n",
        "     returned.\"\"\"\n",
        "\n",
        "  agency_subset = df[df.agency == agency]\n",
        "\n",
        "  n_samples = n_samples_dict[agency]\n",
        "  \n",
        "  weighted_sample = agency_subset.sample(n=n_samples, random_state=9)\n",
        "\n",
        "  return weighted_sample"
      ],
      "execution_count": 78,
      "outputs": []
    },
    {
      "cell_type": "markdown",
      "metadata": {
        "id": "__2PdUBESxkK"
      },
      "source": [
        "The function is applied below to each unique agency to create a dataframe of samples. These are conatenated in 'weighted_df' and the index is reset."
      ]
    },
    {
      "cell_type": "code",
      "metadata": {
        "id": "uR6-bbBC-MiY"
      },
      "source": [
        "DCA = get_weighted_sample('DCA')\n",
        "DEP = get_weighted_sample('DEP')\n",
        "DOB = get_weighted_sample('DOB')\n",
        "DOE = get_weighted_sample('DOE')\n",
        "DOHMH = get_weighted_sample('DOHMH')\n",
        "DOITT = get_weighted_sample('DOITT')\n",
        "DOT = get_weighted_sample('DOT')\n",
        "DPR = get_weighted_sample('DPR')\n",
        "DSNY = get_weighted_sample('DSNY')\n",
        "EDC = get_weighted_sample('EDC')\n",
        "HPD = get_weighted_sample('HPD')\n",
        "NYPD = get_weighted_sample('NYPD')\n",
        "OSE = get_weighted_sample('OSE')\n",
        "TLC = get_weighted_sample('TLC')"
      ],
      "execution_count": 79,
      "outputs": []
    },
    {
      "cell_type": "code",
      "metadata": {
        "id": "ny-Ss-YVFcCJ"
      },
      "source": [
        "weighted_df = pd.concat([DCA, DEP, DOB, DOE, DOHMH, DOITT,\n",
        "                        DOT, DPR, DSNY, EDC, HPD, NYPD, OSE, TLC])\n",
        "weighted_df.reset_index(inplace=True)"
      ],
      "execution_count": 80,
      "outputs": []
    },
    {
      "cell_type": "markdown",
      "metadata": {
        "id": "VJ-R1hGCuT4P"
      },
      "source": [
        "In order for the model to be tested on new data, it should have exposure to every unique descriptor in the dataset. The below code creates a list of every item in the original dataframe's unique descriptors that is not found in the sample dataframe."
      ]
    },
    {
      "cell_type": "code",
      "metadata": {
        "colab": {
          "base_uri": "https://localhost:8080/"
        },
        "id": "LCKQkzBWcAJy",
        "outputId": "8719bf8a-b6b6-46d2-e9dc-5cfb6434b3d5"
      },
      "source": [
        "descriptors_not_in_sample = []\n",
        "\n",
        "for i in df.descriptor.unique():\n",
        "  if i not in weighted_df.descriptor.unique():\n",
        "    descriptors_not_in_sample.append(i)\n",
        "\n",
        "len(descriptors_not_in_sample)"
      ],
      "execution_count": 81,
      "outputs": [
        {
          "output_type": "execute_result",
          "data": {
            "text/plain": [
              "168"
            ]
          },
          "metadata": {
            "tags": []
          },
          "execution_count": 81
        }
      ]
    },
    {
      "cell_type": "markdown",
      "metadata": {
        "id": "Iim78erDu8if"
      },
      "source": [
        "The list above captures many of the less common descriptors that were not captured in the sample data. Below, we create a dataframe with all calls that match these descriptors and concatenate them with the weighted sample dataframe."
      ]
    },
    {
      "cell_type": "code",
      "metadata": {
        "id": "zdZUiYEveDap"
      },
      "source": [
        "descriptors_not_in_sample_df = df[df.descriptor.isin(descriptors_not_in_sample)]"
      ],
      "execution_count": 82,
      "outputs": []
    },
    {
      "cell_type": "code",
      "metadata": {
        "id": "XTy5NgSAezLu"
      },
      "source": [
        "weighted_df = pd.concat([DCA, DEP, DOB, DOE, DOHMH, DOT, DOITT,\n",
        "                         DPR, DSNY, EDC, HPD, NYPD, OSE, TLC,\n",
        "                         descriptors_not_in_sample_df])\n",
        "weighted_df.reset_index(inplace=True)"
      ],
      "execution_count": 83,
      "outputs": []
    },
    {
      "cell_type": "code",
      "metadata": {
        "colab": {
          "base_uri": "https://localhost:8080/"
        },
        "id": "Ka9F8jA5b1xJ",
        "outputId": "afcc457b-c454-4e3f-ef74-87039748ab01"
      },
      "source": [
        "#confirm that the number of unique descriptors is the same for both dataframes\n",
        "len(weighted_df.descriptor.unique()) == len(df.descriptor.unique())"
      ],
      "execution_count": 84,
      "outputs": [
        {
          "output_type": "execute_result",
          "data": {
            "text/plain": [
              "True"
            ]
          },
          "metadata": {
            "tags": []
          },
          "execution_count": 84
        }
      ]
    },
    {
      "cell_type": "markdown",
      "metadata": {
        "id": "7G-L7vYfTWXO"
      },
      "source": [
        "The classes remain imbalanced, but no agency is represented by only a handful of samples, as would have been the case with simple random sampling:"
      ]
    },
    {
      "cell_type": "code",
      "metadata": {
        "colab": {
          "base_uri": "https://localhost:8080/"
        },
        "id": "iJ_kfxRaDU69",
        "outputId": "2cfba201-8947-4cd6-e9ce-d9c6a474b567"
      },
      "source": [
        "weighted_df.agency.value_counts()"
      ],
      "execution_count": 85,
      "outputs": [
        {
          "output_type": "execute_result",
          "data": {
            "text/plain": [
              "NYPD     60042\n",
              "HPD      14521\n",
              "DPR       9556\n",
              "DOT       6999\n",
              "DEP       6684\n",
              "DSNY      5022\n",
              "OSE       3787\n",
              "DOB       3618\n",
              "DOHMH     2675\n",
              "DCA        978\n",
              "EDC        474\n",
              "TLC        412\n",
              "DOE         53\n",
              "DOITT       37\n",
              "Name: agency, dtype: int64"
            ]
          },
          "metadata": {
            "tags": []
          },
          "execution_count": 85
        }
      ]
    },
    {
      "cell_type": "markdown",
      "metadata": {
        "id": "0Xxzm3adUPw4"
      },
      "source": [
        "# Keras Neural Network"
      ]
    },
    {
      "cell_type": "markdown",
      "metadata": {
        "id": "mEdxA7s6wc6X"
      },
      "source": [
        "## Preparing the Training and Test Data"
      ]
    },
    {
      "cell_type": "markdown",
      "metadata": {
        "id": "rQ45Wmxxwhg0"
      },
      "source": [
        "Using the dataframe of weighted samples, we assign 'X' to the descriptor column and 'y' to the agency column. "
      ]
    },
    {
      "cell_type": "code",
      "metadata": {
        "id": "XuDY4PxXbCXy"
      },
      "source": [
        "X = weighted_df.descriptor\n",
        "y = weighted_df.agency"
      ],
      "execution_count": 86,
      "outputs": []
    },
    {
      "cell_type": "markdown",
      "metadata": {
        "id": "vWtSr0A5w3qD"
      },
      "source": [
        "The [Keras Tokenizer](https://www.tensorflow.org/api_docs/python/tf/keras/preprocessing/text/Tokenizer) `fit_on_texts()` method, used below, \"updates internal vocabulary based on a list of texts.\" In this case, the list of texts is all descriptors in the weighted sample. The `texts_to_matrix()` method converts the list of texts to a NumPy matrix. Specifying the mode \"binary\" means that only the presence or absence of each item in the tokenizer's vocabulary will be accounted for in the matrix."
      ]
    },
    {
      "cell_type": "code",
      "metadata": {
        "id": "0q7gzxcYgyQ2"
      },
      "source": [
        "descriptors = X\n",
        "tokenizer = Tokenizer() \n",
        "\n",
        "tokenizer.fit_on_texts(descriptors) \n",
        "descriptor_onehot = tokenizer.texts_to_matrix(descriptors, mode='binary')\n",
        "word_index = tokenizer.word_index"
      ],
      "execution_count": 87,
      "outputs": []
    },
    {
      "cell_type": "markdown",
      "metadata": {
        "id": "yQMyujM_-goW"
      },
      "source": [
        "The word index is a dictionary that contains words in the tokenizer's vocabulary as keys, and integers that correspond to the keys' frequency rank as values. The first ten items of the dictionary are printed below, and we can see that the most frequent words have the lowest values. The highest value in the dictionary is 1114."
      ]
    },
    {
      "cell_type": "code",
      "metadata": {
        "colab": {
          "base_uri": "https://localhost:8080/"
        },
        "id": "tqSVnoIz3KfY",
        "outputId": "c5dcab0d-cf4a-4949-ce00-295795e1bb1b"
      },
      "source": [
        "# reversed_word_index = dict(map(reversed, word_index.items()))\n",
        "# list(reversed_word_index.items())[0:10]\n",
        "print(list(word_index.items())[0:10])\n",
        "print('Max:', max(word_index.values()))"
      ],
      "execution_count": 88,
      "outputs": [
        {
          "output_type": "stream",
          "text": [
            "[('music', 1), ('loud', 2), ('party', 3), ('access', 4), ('no', 5), ('blocked', 6), ('hydrant', 7), ('truck', 8), ('car', 9), ('in', 10)]\n",
            "Max: 1114\n"
          ],
          "name": "stdout"
        }
      ]
    },
    {
      "cell_type": "markdown",
      "metadata": {
        "id": "58-ghEfZB5Hn"
      },
      "source": [
        "The content and shape of the one-hot encoded descriptors are displayed below."
      ]
    },
    {
      "cell_type": "code",
      "metadata": {
        "colab": {
          "base_uri": "https://localhost:8080/",
          "height": 158
        },
        "id": "W1L7LoTr3fA8",
        "outputId": "39986592-d46a-4e61-b095-1d5b65a5c886"
      },
      "source": [
        "display(descriptor_onehot)\n",
        "\n",
        "print('Shape:', descriptor_onehot.shape)"
      ],
      "execution_count": 89,
      "outputs": [
        {
          "output_type": "display_data",
          "data": {
            "text/plain": [
              "array([[0., 0., 0., ..., 0., 0., 0.],\n",
              "       [0., 0., 0., ..., 0., 0., 0.],\n",
              "       [0., 0., 0., ..., 0., 0., 0.],\n",
              "       ...,\n",
              "       [0., 0., 0., ..., 0., 0., 0.],\n",
              "       [0., 0., 0., ..., 0., 0., 0.],\n",
              "       [0., 0., 0., ..., 0., 0., 0.]])"
            ]
          },
          "metadata": {
            "tags": []
          }
        },
        {
          "output_type": "stream",
          "text": [
            "Shape: (114858, 1115)\n"
          ],
          "name": "stdout"
        }
      ]
    },
    {
      "cell_type": "markdown",
      "metadata": {
        "id": "NWO_IAYWC4Mc"
      },
      "source": [
        "The number of rows is the same as the number of rows in X, and correspond to an individual call:"
      ]
    },
    {
      "cell_type": "code",
      "metadata": {
        "colab": {
          "base_uri": "https://localhost:8080/"
        },
        "id": "1zOwlHkJCtrZ",
        "outputId": "ff30c2a0-8ba0-471d-f48d-e12730678d59"
      },
      "source": [
        "X.shape"
      ],
      "execution_count": 90,
      "outputs": [
        {
          "output_type": "execute_result",
          "data": {
            "text/plain": [
              "(114858,)"
            ]
          },
          "metadata": {
            "tags": []
          },
          "execution_count": 90
        }
      ]
    },
    {
      "cell_type": "markdown",
      "metadata": {
        "id": "KEr1U7bzDknt"
      },
      "source": [
        "Each column corresponds to one of 1,110 words in the tokenizer's vocabulary. If the word for a column is present in a given call's descriptor, its value at the call's corresponding row will be '1.' Otherwise, it will be '0.'"
      ]
    },
    {
      "cell_type": "markdown",
      "metadata": {
        "id": "EIw59i2XFJ12"
      },
      "source": [
        "The label encoder used below assigns a unique integer to each of the categories in the agency column. The [keras.utils.to_categorical\n",
        "](https://www.tensorflow.org/api_docs/python/tf/keras/utils/to_categorical) method \"converts a class vector (integers) to binary class matrix.\""
      ]
    },
    {
      "cell_type": "code",
      "metadata": {
        "id": "cJGOuSOohgMX"
      },
      "source": [
        "agency = y\n",
        "\n",
        "le = preprocessing.LabelEncoder() \n",
        "le.fit(agency)\n",
        "agency_cat = le.transform(agency)  \n",
        "agency_onehot = to_categorical(agency_cat)"
      ],
      "execution_count": 91,
      "outputs": []
    },
    {
      "cell_type": "markdown",
      "metadata": {
        "id": "BitB8V1fKuFb"
      },
      "source": [
        "Let's examine the content and shape of the encoded agency data:"
      ]
    },
    {
      "cell_type": "code",
      "metadata": {
        "colab": {
          "base_uri": "https://localhost:8080/",
          "height": 158
        },
        "id": "XGhGFhjcKYHQ",
        "outputId": "ef31f46f-9602-417f-fb3c-4198846b31ed"
      },
      "source": [
        "display(agency_onehot)\n",
        "print('Shape:', agency_onehot.shape)"
      ],
      "execution_count": 92,
      "outputs": [
        {
          "output_type": "display_data",
          "data": {
            "text/plain": [
              "array([[1., 0., 0., ..., 0., 0., 0.],\n",
              "       [1., 0., 0., ..., 0., 0., 0.],\n",
              "       [1., 0., 0., ..., 0., 0., 0.],\n",
              "       ...,\n",
              "       [0., 0., 0., ..., 0., 0., 0.],\n",
              "       [0., 0., 0., ..., 0., 0., 0.],\n",
              "       [0., 0., 0., ..., 0., 0., 0.]], dtype=float32)"
            ]
          },
          "metadata": {
            "tags": []
          }
        },
        {
          "output_type": "stream",
          "text": [
            "Shape: (114858, 14)\n"
          ],
          "name": "stdout"
        }
      ]
    },
    {
      "cell_type": "markdown",
      "metadata": {
        "id": "fe7mqmR7QA6y"
      },
      "source": [
        "Each row corresponds to a call, and each column corresponds to an agency. The value in a given cell indicates whether the agency in its column either responded ('1'), or did not respond ('0'), to the call in its row.\n",
        "\n",
        "Now that both X and y have been encoded, we'll create a random split of training and test data."
      ]
    },
    {
      "cell_type": "code",
      "metadata": {
        "id": "w17CTxizTvsS"
      },
      "source": [
        "test, train, label_test, label_train = train_test_split(descriptor_onehot, agency_onehot, test_size=.1, random_state=6)"
      ],
      "execution_count": 93,
      "outputs": []
    },
    {
      "cell_type": "markdown",
      "metadata": {
        "id": "fcydqkeWxrQt"
      },
      "source": [
        "## Baseline Model"
      ]
    },
    {
      "cell_type": "markdown",
      "metadata": {
        "id": "fQ7LdKjaI-kH"
      },
      "source": [
        "We'll start with a baseline model before writing a function to assess how different parameters affect the model's performance. For all of the models, we'll use the \"categorical crossentropy\" loss function, which is appropriate for multiclass classification. Accuracy will also be the performance metric used for each model, but our interpretation of the accuracy should be informed by the large number of classes and significant class imbalance."
      ]
    },
    {
      "cell_type": "code",
      "metadata": {
        "id": "xkP7CC257B1v"
      },
      "source": [
        "model1 = models.Sequential()\n",
        "\n",
        "model1.add(layers.Dense(50, activation='relu', input_shape=(test.shape[1],)))\n",
        "model1.add(layers.Dense(25, activation='relu'))\n",
        "model1.add(layers.Dense(14, activation='softmax'))\n",
        "\n",
        "\n",
        "opt = tf.keras.optimizers.SGD(learning_rate=0.001)\n",
        "model1.compile(optimizer=opt,\n",
        "              loss='categorical_crossentropy',\n",
        "              metrics=['acc'])"
      ],
      "execution_count": 94,
      "outputs": []
    },
    {
      "cell_type": "markdown",
      "metadata": {
        "id": "889WTz47R5_A"
      },
      "source": [
        "To avoid overfitting the model to the training data, we'll add the `validation_split` parameter, and an early stopping callback that monitors validation loss, to our fit function."
      ]
    },
    {
      "cell_type": "code",
      "metadata": {
        "colab": {
          "base_uri": "https://localhost:8080/"
        },
        "id": "cRgLsdFd7enu",
        "outputId": "9008860a-a440-4b5f-edd5-f8f64195b1fc"
      },
      "source": [
        "es = keras.callbacks.EarlyStopping(monitor='val_loss', patience=5)\n",
        "\n",
        "history = model1.fit(train,\n",
        "                    label_train,\n",
        "                    validation_split=0.20,\n",
        "                    epochs=62,\n",
        "                    batch_size=32,\n",
        "                    callbacks=[es])"
      ],
      "execution_count": 95,
      "outputs": [
        {
          "output_type": "stream",
          "text": [
            "Epoch 1/62\n",
            "288/288 [==============================] - 1s 3ms/step - loss: 2.5817 - acc: 0.3372 - val_loss: 2.5236 - val_acc: 0.5205\n",
            "Epoch 2/62\n",
            "288/288 [==============================] - 1s 2ms/step - loss: 2.4638 - acc: 0.5257 - val_loss: 2.4040 - val_acc: 0.5231\n",
            "Epoch 3/62\n",
            "288/288 [==============================] - 1s 2ms/step - loss: 2.3416 - acc: 0.5258 - val_loss: 2.2797 - val_acc: 0.5231\n",
            "Epoch 4/62\n",
            "288/288 [==============================] - 1s 2ms/step - loss: 2.2109 - acc: 0.5258 - val_loss: 2.1420 - val_acc: 0.5231\n",
            "Epoch 5/62\n",
            "288/288 [==============================] - 1s 2ms/step - loss: 2.0654 - acc: 0.5258 - val_loss: 1.9938 - val_acc: 0.5231\n",
            "Epoch 6/62\n",
            "288/288 [==============================] - 1s 2ms/step - loss: 1.9194 - acc: 0.5258 - val_loss: 1.8555 - val_acc: 0.5231\n",
            "Epoch 7/62\n",
            "288/288 [==============================] - 1s 2ms/step - loss: 1.7940 - acc: 0.5258 - val_loss: 1.7479 - val_acc: 0.5231\n",
            "Epoch 8/62\n",
            "288/288 [==============================] - 1s 2ms/step - loss: 1.7042 - acc: 0.5258 - val_loss: 1.6768 - val_acc: 0.5231\n",
            "Epoch 9/62\n",
            "288/288 [==============================] - 1s 2ms/step - loss: 1.6464 - acc: 0.5258 - val_loss: 1.6314 - val_acc: 0.5231\n",
            "Epoch 10/62\n",
            "288/288 [==============================] - 1s 2ms/step - loss: 1.6076 - acc: 0.5258 - val_loss: 1.5984 - val_acc: 0.5231\n",
            "Epoch 11/62\n",
            "288/288 [==============================] - 1s 2ms/step - loss: 1.5772 - acc: 0.5258 - val_loss: 1.5702 - val_acc: 0.5231\n",
            "Epoch 12/62\n",
            "288/288 [==============================] - 1s 2ms/step - loss: 1.5502 - acc: 0.5258 - val_loss: 1.5446 - val_acc: 0.5231\n",
            "Epoch 13/62\n",
            "288/288 [==============================] - 1s 2ms/step - loss: 1.5254 - acc: 0.5258 - val_loss: 1.5206 - val_acc: 0.5231\n",
            "Epoch 14/62\n",
            "288/288 [==============================] - 1s 2ms/step - loss: 1.5020 - acc: 0.5258 - val_loss: 1.4979 - val_acc: 0.5231\n",
            "Epoch 15/62\n",
            "288/288 [==============================] - 1s 2ms/step - loss: 1.4800 - acc: 0.5258 - val_loss: 1.4763 - val_acc: 0.5231\n",
            "Epoch 16/62\n",
            "288/288 [==============================] - 1s 2ms/step - loss: 1.4586 - acc: 0.5258 - val_loss: 1.4552 - val_acc: 0.5231\n",
            "Epoch 17/62\n",
            "288/288 [==============================] - 1s 2ms/step - loss: 1.4379 - acc: 0.5258 - val_loss: 1.4349 - val_acc: 0.5231\n",
            "Epoch 18/62\n",
            "288/288 [==============================] - 1s 2ms/step - loss: 1.4180 - acc: 0.5258 - val_loss: 1.4152 - val_acc: 0.5231\n",
            "Epoch 19/62\n",
            "288/288 [==============================] - 1s 2ms/step - loss: 1.3987 - acc: 0.5258 - val_loss: 1.3962 - val_acc: 0.5231\n",
            "Epoch 20/62\n",
            "288/288 [==============================] - 1s 2ms/step - loss: 1.3800 - acc: 0.5258 - val_loss: 1.3777 - val_acc: 0.5231\n",
            "Epoch 21/62\n",
            "288/288 [==============================] - 1s 2ms/step - loss: 1.3618 - acc: 0.5258 - val_loss: 1.3595 - val_acc: 0.5231\n",
            "Epoch 22/62\n",
            "288/288 [==============================] - 1s 2ms/step - loss: 1.3437 - acc: 0.5258 - val_loss: 1.3415 - val_acc: 0.5231\n",
            "Epoch 23/62\n",
            "288/288 [==============================] - 1s 2ms/step - loss: 1.3259 - acc: 0.5258 - val_loss: 1.3237 - val_acc: 0.5231\n",
            "Epoch 24/62\n",
            "288/288 [==============================] - 1s 2ms/step - loss: 1.3083 - acc: 0.5258 - val_loss: 1.3062 - val_acc: 0.5231\n",
            "Epoch 25/62\n",
            "288/288 [==============================] - 1s 2ms/step - loss: 1.2910 - acc: 0.5258 - val_loss: 1.2888 - val_acc: 0.5231\n",
            "Epoch 26/62\n",
            "288/288 [==============================] - 1s 2ms/step - loss: 1.2740 - acc: 0.5389 - val_loss: 1.2718 - val_acc: 0.5418\n",
            "Epoch 27/62\n",
            "288/288 [==============================] - 1s 2ms/step - loss: 1.2573 - acc: 0.5481 - val_loss: 1.2549 - val_acc: 0.5418\n",
            "Epoch 28/62\n",
            "288/288 [==============================] - 1s 2ms/step - loss: 1.2408 - acc: 0.5481 - val_loss: 1.2382 - val_acc: 0.5418\n",
            "Epoch 29/62\n",
            "288/288 [==============================] - 1s 2ms/step - loss: 1.2246 - acc: 0.5603 - val_loss: 1.2217 - val_acc: 0.5601\n",
            "Epoch 30/62\n",
            "288/288 [==============================] - 1s 2ms/step - loss: 1.2085 - acc: 0.5648 - val_loss: 1.2056 - val_acc: 0.5644\n",
            "Epoch 31/62\n",
            "288/288 [==============================] - 1s 2ms/step - loss: 1.1928 - acc: 0.5748 - val_loss: 1.1897 - val_acc: 0.5762\n",
            "Epoch 32/62\n",
            "288/288 [==============================] - 1s 2ms/step - loss: 1.1774 - acc: 0.5787 - val_loss: 1.1742 - val_acc: 0.5762\n",
            "Epoch 33/62\n",
            "288/288 [==============================] - 1s 2ms/step - loss: 1.1626 - acc: 0.5926 - val_loss: 1.1595 - val_acc: 0.6070\n",
            "Epoch 34/62\n",
            "288/288 [==============================] - 1s 2ms/step - loss: 1.1483 - acc: 0.6095 - val_loss: 1.1451 - val_acc: 0.6166\n",
            "Epoch 35/62\n",
            "288/288 [==============================] - 1s 2ms/step - loss: 1.1343 - acc: 0.6205 - val_loss: 1.1311 - val_acc: 0.6214\n",
            "Epoch 36/62\n",
            "288/288 [==============================] - 1s 2ms/step - loss: 1.1206 - acc: 0.6293 - val_loss: 1.1174 - val_acc: 0.6310\n",
            "Epoch 37/62\n",
            "288/288 [==============================] - 1s 2ms/step - loss: 1.1072 - acc: 0.6345 - val_loss: 1.1039 - val_acc: 0.6340\n",
            "Epoch 38/62\n",
            "288/288 [==============================] - 1s 2ms/step - loss: 1.0941 - acc: 0.6431 - val_loss: 1.0907 - val_acc: 0.6488\n",
            "Epoch 39/62\n",
            "288/288 [==============================] - 1s 2ms/step - loss: 1.0812 - acc: 0.6520 - val_loss: 1.0778 - val_acc: 0.6488\n",
            "Epoch 40/62\n",
            "288/288 [==============================] - 1s 2ms/step - loss: 1.0686 - acc: 0.6609 - val_loss: 1.0650 - val_acc: 0.6636\n",
            "Epoch 41/62\n",
            "288/288 [==============================] - 1s 2ms/step - loss: 1.0561 - acc: 0.6679 - val_loss: 1.0523 - val_acc: 0.6654\n",
            "Epoch 42/62\n",
            "288/288 [==============================] - 1s 2ms/step - loss: 1.0438 - acc: 0.6676 - val_loss: 1.0399 - val_acc: 0.6645\n",
            "Epoch 43/62\n",
            "288/288 [==============================] - 1s 2ms/step - loss: 1.0318 - acc: 0.6694 - val_loss: 1.0278 - val_acc: 0.6688\n",
            "Epoch 44/62\n",
            "288/288 [==============================] - 1s 2ms/step - loss: 1.0200 - acc: 0.6715 - val_loss: 1.0158 - val_acc: 0.6697\n",
            "Epoch 45/62\n",
            "288/288 [==============================] - 1s 2ms/step - loss: 1.0083 - acc: 0.6783 - val_loss: 1.0040 - val_acc: 0.6771\n",
            "Epoch 46/62\n",
            "288/288 [==============================] - 1s 2ms/step - loss: 0.9968 - acc: 0.6843 - val_loss: 0.9925 - val_acc: 0.6815\n",
            "Epoch 47/62\n",
            "288/288 [==============================] - 1s 2ms/step - loss: 0.9855 - acc: 0.6875 - val_loss: 0.9810 - val_acc: 0.6854\n",
            "Epoch 48/62\n",
            "288/288 [==============================] - 1s 2ms/step - loss: 0.9744 - acc: 0.6914 - val_loss: 0.9697 - val_acc: 0.6854\n",
            "Epoch 49/62\n",
            "288/288 [==============================] - 1s 2ms/step - loss: 0.9634 - acc: 0.7072 - val_loss: 0.9585 - val_acc: 0.7171\n",
            "Epoch 50/62\n",
            "288/288 [==============================] - 1s 2ms/step - loss: 0.9525 - acc: 0.7189 - val_loss: 0.9475 - val_acc: 0.7254\n",
            "Epoch 51/62\n",
            "288/288 [==============================] - 1s 2ms/step - loss: 0.9418 - acc: 0.7301 - val_loss: 0.9366 - val_acc: 0.7385\n",
            "Epoch 52/62\n",
            "288/288 [==============================] - 1s 2ms/step - loss: 0.9312 - acc: 0.7357 - val_loss: 0.9259 - val_acc: 0.7385\n",
            "Epoch 53/62\n",
            "288/288 [==============================] - 1s 2ms/step - loss: 0.9207 - acc: 0.7367 - val_loss: 0.9154 - val_acc: 0.7406\n",
            "Epoch 54/62\n",
            "288/288 [==============================] - 1s 2ms/step - loss: 0.9103 - acc: 0.7381 - val_loss: 0.9049 - val_acc: 0.7406\n",
            "Epoch 55/62\n",
            "288/288 [==============================] - 1s 2ms/step - loss: 0.9001 - acc: 0.7394 - val_loss: 0.8946 - val_acc: 0.7433\n",
            "Epoch 56/62\n",
            "288/288 [==============================] - 1s 2ms/step - loss: 0.8900 - acc: 0.7540 - val_loss: 0.8844 - val_acc: 0.7663\n",
            "Epoch 57/62\n",
            "288/288 [==============================] - 1s 2ms/step - loss: 0.8800 - acc: 0.7625 - val_loss: 0.8744 - val_acc: 0.7681\n",
            "Epoch 58/62\n",
            "288/288 [==============================] - 1s 2ms/step - loss: 0.8702 - acc: 0.7646 - val_loss: 0.8646 - val_acc: 0.7711\n",
            "Epoch 59/62\n",
            "288/288 [==============================] - 1s 2ms/step - loss: 0.8604 - acc: 0.7696 - val_loss: 0.8547 - val_acc: 0.7724\n",
            "Epoch 60/62\n",
            "288/288 [==============================] - 1s 2ms/step - loss: 0.8507 - acc: 0.7710 - val_loss: 0.8449 - val_acc: 0.7759\n",
            "Epoch 61/62\n",
            "288/288 [==============================] - 1s 2ms/step - loss: 0.8411 - acc: 0.7745 - val_loss: 0.8352 - val_acc: 0.7824\n",
            "Epoch 62/62\n",
            "288/288 [==============================] - 1s 2ms/step - loss: 0.8315 - acc: 0.7783 - val_loss: 0.8257 - val_acc: 0.7833\n"
          ],
          "name": "stdout"
        }
      ]
    },
    {
      "cell_type": "markdown",
      "metadata": {
        "id": "HXCkp3-l0FRD"
      },
      "source": [
        "Let's look at the model's loss and accuracy score."
      ]
    },
    {
      "cell_type": "code",
      "metadata": {
        "colab": {
          "base_uri": "https://localhost:8080/"
        },
        "id": "Fpz0BAQqKNf9",
        "outputId": "3d74b241-3588-48c2-abaf-bc77cc3e3f93"
      },
      "source": [
        "results = model1.evaluate(test, label_test, batch_size=32)"
      ],
      "execution_count": 96,
      "outputs": [
        {
          "output_type": "stream",
          "text": [
            "3231/3231 [==============================] - 5s 2ms/step - loss: 0.8399 - acc: 0.7749\n"
          ],
          "name": "stdout"
        }
      ]
    },
    {
      "cell_type": "markdown",
      "metadata": {
        "id": "KRKe8u-B0Nu5"
      },
      "source": [
        "The function below plots the model's loss and accuracy curves, which will provide a better visual sense of how the values for these metrics changed as the number of epochs increased."
      ]
    },
    {
      "cell_type": "code",
      "metadata": {
        "id": "amYF3K8pbej4"
      },
      "source": [
        "def plot_loss_acc(history):\n",
        " \n",
        "  \"\"\"Takes in a Keras history object and returns a 15*6 figure displaying the \n",
        "     model's loss and accuracy curves.\"\"\"\n",
        "\n",
        "\n",
        "  fig, (ax1, ax2) = plt.subplots(nrows=1,\n",
        "                               ncols=2,\n",
        "                               figsize=(15, 6))\n",
        "\n",
        "  ax_font = {'fontsize': 12, 'family': 'serif', \n",
        "             'color': '#58508d', 'weight': 'bold'}\n",
        "  title_font = {'fontsize': 14, 'family': 'serif',\n",
        "                'color': '#58508d', 'weight': 'bold'}\n",
        "\n",
        "\n",
        "  ax1.plot(history.history['acc'], color='#D8A7B1', linewidth=3)\n",
        "  ax1.grid(color='g', linestyle='-', linewidth=.09)\n",
        "  ax1.plot(history.history['val_acc'], color='#05234C', linewidth=3)\n",
        "  ax1.set_title('Model Accuracy', fontdict=title_font)\n",
        "  ax1.set_ylabel('Accuracy', fontdict=ax_font)\n",
        "  ax1.set_xlabel('Number of epochs', fontdict=ax_font)\n",
        "  ax1.legend(['train', 'validation'], loc='upper left')\n",
        "\n",
        "\n",
        "  ax2.plot(history.history['loss'], color='#D8A7B1', linewidth=3)\n",
        "  ax2.grid(color='g', linestyle='-', linewidth=.09)\n",
        "  ax2.plot(history.history['val_loss'], color='#05234C', linewidth=3)\n",
        "  ax2.set_title('Model Loss', fontdict=title_font)\n",
        "  ax2.set_ylabel('Loss', fontdict=ax_font)\n",
        "  ax2.set_xlabel('Number of epochs', fontdict=ax_font)\n",
        "  ax2.legend(['train', 'validation'], loc='upper right')\n",
        "\n",
        "  fig.show()"
      ],
      "execution_count": 97,
      "outputs": []
    },
    {
      "cell_type": "code",
      "metadata": {
        "colab": {
          "base_uri": "https://localhost:8080/",
          "height": 407
        },
        "id": "UWoFuBe5hLco",
        "outputId": "6e62d91f-a867-4461-e574-0784d6daa7b9"
      },
      "source": [
        "plot_loss_acc(history)"
      ],
      "execution_count": 98,
      "outputs": [
        {
          "output_type": "display_data",
          "data": {
            "image/png": "[encoded data removed]",
            "text/plain": [
              "<Figure size 1080x432 with 2 Axes>"
            ]
          },
          "metadata": {
            "tags": [],
            "needs_background": "light"
          }
        }
      ]
    },
    {
      "cell_type": "markdown",
      "metadata": {
        "id": "n4iIKXNU0qcn"
      },
      "source": [
        "The accuracy score improves steadily after 30 epochs, while the loss steadily drops. We'll also create a random subset of the data that has not been resampled to evaluate the model's performance, and apply the same preprocessing steps as above."
      ]
    },
    {
      "cell_type": "code",
      "metadata": {
        "id": "ywhDpnurahU8"
      },
      "source": [
        "random_df = df.sample(len(weighted_df), random_state=6)"
      ],
      "execution_count": 99,
      "outputs": []
    },
    {
      "cell_type": "code",
      "metadata": {
        "colab": {
          "base_uri": "https://localhost:8080/"
        },
        "id": "yuQ8NFhstPu8",
        "outputId": "b28d50d9-7472-43a9-ba39-745109758afc"
      },
      "source": [
        "descriptors_not_in_sample = []\n",
        "\n",
        "for i in df.descriptor.unique():\n",
        "  if i not in random_df.descriptor.unique():\n",
        "    descriptors_not_in_sample.append(i)\n",
        "\n",
        "descriptors_not_in_sample"
      ],
      "execution_count": 100,
      "outputs": [
        {
          "output_type": "execute_result",
          "data": {
            "text/plain": [
              "['bingo hall',\n",
              " 'waterwaycolor ihd',\n",
              " 'oil, grease in water qd',\n",
              " 'safety inspectionretaining walls may ',\n",
              " 'allergy information',\n",
              " 'other industrial waste problem use comments for dep internal use only iz',\n",
              " 'indoor pool over capacity',\n",
              " 'jewelry appraiser',\n",
              " 'graffiti litter on phone',\n",
              " 'phone blocking sidewalk',\n",
              " 'sediment',\n",
              " 'snake',\n",
              " 'high grass',\n",
              " 'cloudy or milky, other use comments qbz',\n",
              " 'push button',\n",
              " 'cloudy or milky water qb',\n",
              " 'absent',\n",
              " 'inspection work order dob',\n",
              " 'cigarette vending machine',\n",
              " 'mast arm',\n",
              " 'unauthorized posting of signs',\n",
              " 'ped flasher',\n",
              " 'enclosure cap',\n",
              " 'maintenance cover',\n",
              " 'booting company',\n",
              " 'warning signal lamp',\n",
              " 'immigration services',\n",
              " 'oil spill into basin sewer  small iabs',\n",
              " 'roof gutters',\n",
              " 'platform condition',\n",
              " 'manhole cover broken making noise sb',\n",
              " 'dogs or cats not sold',\n",
              " 'bent loose',\n",
              " 'toxic chemical material',\n",
              " 'basement',\n",
              " 'gasoline spill iaa',\n",
              " 'puddle on sidewalk',\n",
              " 'warning signal',\n",
              " 'remove debris',\n",
              " 'plants odor related problems po',\n",
              " 'street con game',\n",
              " 'temporary',\n",
              " 'inadequate support shoring',\n",
              " 'building',\n",
              " 'other water problem use comments qzz',\n",
              " 'shisha',\n",
              " 'used gun dealer',\n",
              " 'natural gas leak *for dep internal use only* hf',\n",
              " 'junction box',\n",
              " 'veh signal lens',\n",
              " 'grocery store',\n",
              " 'plate missing movedexposing hole sb',\n",
              " 'e transfer station',\n",
              " 'defective water sampling station qss',\n",
              " 'use of newly seeded lawn',\n",
              " 'color',\n",
              " 'air: odor fumes, dry cleaners ad',\n",
              " 'disabled device dealer',\n",
              " 'smoking ban  smoking on construction site',\n",
              " 'new automatic public toilet request',\n",
              " 'driver complaint',\n",
              " 'musical instrument',\n",
              " 'sports equipment',\n",
              " ' litter basket   request',\n",
              " 'contamination risk',\n",
              " ' dead animals',\n",
              " 'inattentive',\n",
              " 'user unlicensed',\n",
              " 'amusement ride',\n",
              " 'integrity complaint referral',\n",
              " 'curb violation',\n",
              " 'flood light lamp missing',\n",
              " 'plumbing problem',\n",
              " 'sway bar',\n",
              " 'on messenger',\n",
              " 'b sweeping inadequate',\n",
              " 'eb sidewalk obstruction',\n",
              " 'general bad condition',\n",
              " 'relocation of parking meter',\n",
              " 'ped lens',\n",
              " 'guard rail  bridge',\n",
              " 'catch basin search sc',\n",
              " 'c uncollected xmas trees',\n",
              " 'controller flasher',\n",
              " 'foundation',\n",
              " 'request to open a hydrant wc',\n",
              " 'failure to post calorie information',\n",
              " 'bwso referral to water quality for dep internal use only qbwso',\n",
              " 'snow or ice',\n",
              " 'e street obstruction',\n",
              " 'bikes in buildings',\n",
              " 'going out of business',\n",
              " 'unauthorized film shoot',\n",
              " 'utility cover blocked',\n",
              " 'sidewalk grating  missing',\n",
              " 'exposure unnecessary',\n",
              " 'noise: construction equipment  for dep internal use only ync',\n",
              " 'no dial tone',\n",
              " 'graffiti dirty condition',\n",
              " 'puddle on roof',\n",
              " 'not certified',\n",
              " 'illegal air conditioning during drought cjo',\n",
              " 'plumbing',\n",
              " 'contrary to ll  handicapped access',\n",
              " 'cp employee behaviorbcc',\n",
              " 'conflict monitor',\n",
              " 'monkey',\n",
              " 'broken window',\n",
              " 'a sweeping missed',\n",
              " 'flood light lamp dayburning',\n",
              " 'remove stump',\n",
              " 'e throwout',\n",
              " 'do not block the box',\n",
              " 'fire globe missing',\n",
              " 'bracket arm broken',\n",
              " 'vocational or trade school',\n",
              " 'hitting phone cable lines',\n",
              " 'swimming pool cover',\n",
              " 'professional photographer',\n",
              " 'warning buzzer',\n",
              " 'taste',\n",
              " 'outlet cover',\n",
              " ' dsny spillage',\n",
              " 'ferret',\n",
              " 'fountain  over  gallons',\n",
              " 'no idling',\n",
              " 'traffic camera',\n",
              " 'glassware hanging',\n",
              " 'blocked  atm',\n",
              " 'noise: other noise sources use comments nzz',\n",
              " 'noise: loud music daytime mark date and time nn',\n",
              " 'waterwayfloatables ihc',\n",
              " 'suspected street cut',\n",
              " 'controller cabinet',\n",
              " 'facility unregistered',\n",
              " 'defective hardware  dep',\n",
              " 'broken lock',\n",
              " 'lane control signal',\n",
              " 'fire alarm lamp cycling',\n",
              " 'licensee complaint',\n",
              " 'caps & chains missingfire dept use only wkmc',\n",
              " 'bracket arm loose',\n",
              " 'bracket arm bent',\n",
              " 'i street condition icenon storm',\n",
              " 'beach pool sauna unpermitted',\n",
              " 'time clock maladjusted',\n",
              " 'process server',\n",
              " 'milk not pasteurized',\n",
              " 'asphalt around valve box',\n",
              " 'manhole sunken damaged raised sb',\n",
              " 'detector sensor',\n",
              " 'flooded',\n",
              " 'dead end signal',\n",
              " 'defective catch basin',\n",
              " 'flashing hazard',\n",
              " 'e litter surveillance',\n",
              " 'damaged toilet sink',\n",
              " 'equipment malfunction',\n",
              " 'pedestrian sign',\n",
              " 'glassware missing',\n",
              " 'lane station',\n",
              " 'on structure',\n",
              " 'condulet cover',\n",
              " 'defective manhole cover',\n",
              " 'utility company',\n",
              " 'blocking sidewalk',\n",
              " 'asphalt around manhole cover',\n",
              " 'flood light lamp dim',\n",
              " 'reflector louvre',\n",
              " 'too few on duty',\n",
              " 'plants noise related problems pn',\n",
              " 'ticket scalping',\n",
              " 'manhole cover missing emergency for dep internal use only wf',\n",
              " 'technician unlicensed',\n",
              " 'chained bike',\n",
              " 'box cover']"
            ]
          },
          "metadata": {
            "tags": []
          },
          "execution_count": 100
        }
      ]
    },
    {
      "cell_type": "code",
      "metadata": {
        "id": "N5YdojXCtiNf"
      },
      "source": [
        "descriptors_not_in_sample_df = df[df.descriptor.isin(descriptors_not_in_sample)]\n",
        "random_df = pd.concat([random_df, descriptors_not_in_sample_df])\n",
        "random_df.reset_index(inplace=True)"
      ],
      "execution_count": 101,
      "outputs": []
    },
    {
      "cell_type": "code",
      "metadata": {
        "id": "yH94tmTEPgUm"
      },
      "source": [
        "random_X = random_df.descriptor\n",
        "random_y = random_df.agency"
      ],
      "execution_count": 102,
      "outputs": []
    },
    {
      "cell_type": "code",
      "metadata": {
        "id": "-mOrsN1TQRPr"
      },
      "source": [
        "r_descriptors = random_X\n",
        "tokenizer = Tokenizer() \n",
        "\n",
        "tokenizer.fit_on_texts(r_descriptors) \n",
        "r_descriptor_onehot = tokenizer.texts_to_matrix(r_descriptors, mode='binary')\n",
        "word_index = tokenizer.word_index"
      ],
      "execution_count": 103,
      "outputs": []
    },
    {
      "cell_type": "code",
      "metadata": {
        "id": "Q5Ve_W4NQX97"
      },
      "source": [
        "r_agency = random_y\n",
        "\n",
        "le = preprocessing.LabelEncoder() \n",
        "le.fit(r_agency)\n",
        "r_agency_cat = le.transform(r_agency)  \n",
        "r_agency_onehot = to_categorical(r_agency_cat)"
      ],
      "execution_count": 104,
      "outputs": []
    },
    {
      "cell_type": "code",
      "metadata": {
        "id": "c9MwlTriRHt1"
      },
      "source": [
        "random.seed(999)\n",
        "test_index = random.sample(range(1,10000), 1500)\n",
        "\n",
        "r_test = r_descriptor_onehot[test_index]\n",
        "r_label_test = r_agency_onehot[test_index]"
      ],
      "execution_count": 105,
      "outputs": []
    },
    {
      "cell_type": "code",
      "metadata": {
        "colab": {
          "base_uri": "https://localhost:8080/"
        },
        "id": "md8FyuC0RVLw",
        "outputId": "909d4a25-dfae-4411-9e04-cf1cf736f413"
      },
      "source": [
        "random_results = model1.evaluate(r_descriptor_onehot, r_agency_onehot, batch_size=32)"
      ],
      "execution_count": 106,
      "outputs": [
        {
          "output_type": "stream",
          "text": [
            "3622/3622 [==============================] - 6s 2ms/step - loss: 1.0455 - acc: 0.6531\n"
          ],
          "name": "stdout"
        }
      ]
    },
    {
      "cell_type": "markdown",
      "metadata": {
        "id": "COFR7H471iEo"
      },
      "source": [
        "The model had 62% accuracy on the random sample. This score can be improved by testing different parameters in the model."
      ]
    },
    {
      "cell_type": "markdown",
      "metadata": {
        "id": "9TZA4Zl9x2EZ"
      },
      "source": [
        "## Parameter Tuning"
      ]
    },
    {
      "cell_type": "code",
      "metadata": {
        "id": "t1XAcgaVhHSI"
      },
      "source": [
        "def create_model(X_train, y_train, X_test, y_test, params):\n",
        "\n",
        "    model = models.Sequential()\n",
        "    model.add(layers.Dense(50, activation=params['activation 1'], \n",
        "                           input_shape=(test.shape[1],)))\n",
        "    model.add(layers.Dense(25, activation=params['activation 2']))\n",
        "    model.add(layers.Dense(14, activation=params['activation 3']))\n",
        "\n",
        "    opt = params['opt']\n",
        "    model.compile(optimizer=opt,\n",
        "              loss=params['loss'],\n",
        "              metrics=['acc'])\n",
        "    \n",
        "    es = keras.callbacks.EarlyStopping(monitor='val_loss', patience=5)\n",
        "    history = model.fit(X_train,\n",
        "                    y_train,\n",
        "                    epochs=params['epochs'],\n",
        "                    batch_size=params['batch_size'],\n",
        "                    validation_split=0.20)\n",
        "    \n",
        "    print(model.summary)\n",
        "\n",
        "    print('Test Accuracy:')\n",
        "    model.evaluate(X_test, y_test, batch_size=params['batch_size'])\n",
        "    \n",
        "    print('Random Sample Accuracy:')\n",
        "    model.evaluate(r_test, r_label_test, batch_size=params['batch_size'])\n",
        "    \n",
        "    plot_loss_acc(history)\n",
        "    \n",
        "    return history, model"
      ],
      "execution_count": 107,
      "outputs": []
    },
    {
      "cell_type": "code",
      "metadata": {
        "id": "e6QqNu9vI5Bb"
      },
      "source": [
        "model2_params = {'activation 1': 'relu', \n",
        "                 'activation 2': 'softmax', \n",
        "                 'activation 3': 'softmax', \n",
        "                 'opt': keras.optimizers.Adam(lr=0.0001),\n",
        "                 'loss': 'categorical_crossentropy',\n",
        "                 'epochs': 75, \n",
        "                 'batch_size': 16, \n",
        "                 }"
      ],
      "execution_count": 108,
      "outputs": []
    },
    {
      "cell_type": "code",
      "metadata": {
        "colab": {
          "base_uri": "https://localhost:8080/",
          "height": 1000
        },
        "id": "qznZkA3tKeWi",
        "outputId": "4a2ca214-0f6b-4617-b5a6-18e2b850e0c3"
      },
      "source": [
        "model2_history, model2 = create_model(train, label_train, test, label_test, model2_params)"
      ],
      "execution_count": 109,
      "outputs": [
        {
          "output_type": "stream",
          "text": [
            "Epoch 1/75\n",
            "575/575 [==============================] - 1s 2ms/step - loss: 2.5715 - acc: 0.2504 - val_loss: 2.4873 - val_acc: 0.5231\n",
            "Epoch 2/75\n",
            "575/575 [==============================] - 1s 2ms/step - loss: 2.3889 - acc: 0.5258 - val_loss: 2.2979 - val_acc: 0.5231\n",
            "Epoch 3/75\n",
            "575/575 [==============================] - 1s 2ms/step - loss: 2.2094 - acc: 0.5258 - val_loss: 2.1195 - val_acc: 0.5231\n",
            "Epoch 4/75\n",
            "575/575 [==============================] - 1s 2ms/step - loss: 2.0345 - acc: 0.5515 - val_loss: 1.9629 - val_acc: 0.5653\n",
            "Epoch 5/75\n",
            "575/575 [==============================] - 1s 2ms/step - loss: 1.8993 - acc: 0.5748 - val_loss: 1.8429 - val_acc: 0.5853\n",
            "Epoch 6/75\n",
            "575/575 [==============================] - 1s 2ms/step - loss: 1.7789 - acc: 0.6224 - val_loss: 1.7191 - val_acc: 0.6558\n",
            "Epoch 7/75\n",
            "575/575 [==============================] - 1s 2ms/step - loss: 1.6536 - acc: 0.6978 - val_loss: 1.5979 - val_acc: 0.7093\n",
            "Epoch 8/75\n",
            "575/575 [==============================] - 1s 2ms/step - loss: 1.5393 - acc: 0.7158 - val_loss: 1.4928 - val_acc: 0.7124\n",
            "Epoch 9/75\n",
            "575/575 [==============================] - 1s 2ms/step - loss: 1.4406 - acc: 0.7212 - val_loss: 1.4018 - val_acc: 0.7185\n",
            "Epoch 10/75\n",
            "575/575 [==============================] - 1s 2ms/step - loss: 1.3539 - acc: 0.7665 - val_loss: 1.3209 - val_acc: 0.7737\n",
            "Epoch 11/75\n",
            "575/575 [==============================] - 1s 2ms/step - loss: 1.2761 - acc: 0.7778 - val_loss: 1.2478 - val_acc: 0.7768\n",
            "Epoch 12/75\n",
            "575/575 [==============================] - 1s 2ms/step - loss: 1.2058 - acc: 0.7803 - val_loss: 1.1815 - val_acc: 0.7785\n",
            "Epoch 13/75\n",
            "575/575 [==============================] - 1s 2ms/step - loss: 1.1417 - acc: 0.7818 - val_loss: 1.1210 - val_acc: 0.7785\n",
            "Epoch 14/75\n",
            "575/575 [==============================] - 1s 2ms/step - loss: 1.0832 - acc: 0.7834 - val_loss: 1.0657 - val_acc: 0.7807\n",
            "Epoch 15/75\n",
            "575/575 [==============================] - 1s 2ms/step - loss: 1.0295 - acc: 0.7865 - val_loss: 1.0149 - val_acc: 0.7850\n",
            "Epoch 16/75\n",
            "575/575 [==============================] - 1s 2ms/step - loss: 0.9805 - acc: 0.7909 - val_loss: 0.9686 - val_acc: 0.7911\n",
            "Epoch 17/75\n",
            "575/575 [==============================] - 1s 2ms/step - loss: 0.9358 - acc: 0.7981 - val_loss: 0.9260 - val_acc: 0.7977\n",
            "Epoch 18/75\n",
            "575/575 [==============================] - 1s 2ms/step - loss: 0.8947 - acc: 0.8041 - val_loss: 0.8863 - val_acc: 0.8007\n",
            "Epoch 19/75\n",
            "575/575 [==============================] - 1s 2ms/step - loss: 0.8566 - acc: 0.8037 - val_loss: 0.8494 - val_acc: 0.7959\n",
            "Epoch 20/75\n",
            "575/575 [==============================] - 1s 2ms/step - loss: 0.8205 - acc: 0.8123 - val_loss: 0.8142 - val_acc: 0.8020\n",
            "Epoch 21/75\n",
            "575/575 [==============================] - 1s 2ms/step - loss: 0.7862 - acc: 0.8104 - val_loss: 0.7820 - val_acc: 0.8103\n",
            "Epoch 22/75\n",
            "575/575 [==============================] - 1s 2ms/step - loss: 0.7550 - acc: 0.8176 - val_loss: 0.7526 - val_acc: 0.8103\n",
            "Epoch 23/75\n",
            "575/575 [==============================] - 1s 2ms/step - loss: 0.7260 - acc: 0.8180 - val_loss: 0.7252 - val_acc: 0.8107\n",
            "Epoch 24/75\n",
            "575/575 [==============================] - 1s 2ms/step - loss: 0.6991 - acc: 0.8199 - val_loss: 0.6997 - val_acc: 0.8120\n",
            "Epoch 25/75\n",
            "575/575 [==============================] - 1s 2ms/step - loss: 0.6742 - acc: 0.8212 - val_loss: 0.6759 - val_acc: 0.8120\n",
            "Epoch 26/75\n",
            "575/575 [==============================] - 1s 2ms/step - loss: 0.6511 - acc: 0.8215 - val_loss: 0.6537 - val_acc: 0.8142\n",
            "Epoch 27/75\n",
            "575/575 [==============================] - 1s 2ms/step - loss: 0.6295 - acc: 0.8384 - val_loss: 0.6328 - val_acc: 0.8516\n",
            "Epoch 28/75\n",
            "575/575 [==============================] - 1s 2ms/step - loss: 0.6091 - acc: 0.8545 - val_loss: 0.6130 - val_acc: 0.8525\n",
            "Epoch 29/75\n",
            "575/575 [==============================] - 1s 2ms/step - loss: 0.5898 - acc: 0.8550 - val_loss: 0.5943 - val_acc: 0.8529\n",
            "Epoch 30/75\n",
            "575/575 [==============================] - 1s 2ms/step - loss: 0.5715 - acc: 0.8550 - val_loss: 0.5766 - val_acc: 0.8529\n",
            "Epoch 31/75\n",
            "575/575 [==============================] - 1s 2ms/step - loss: 0.5542 - acc: 0.8554 - val_loss: 0.5598 - val_acc: 0.8529\n",
            "Epoch 32/75\n",
            "575/575 [==============================] - 1s 2ms/step - loss: 0.5378 - acc: 0.8557 - val_loss: 0.5440 - val_acc: 0.8538\n",
            "Epoch 33/75\n",
            "575/575 [==============================] - 1s 2ms/step - loss: 0.5222 - acc: 0.8558 - val_loss: 0.5289 - val_acc: 0.8538\n",
            "Epoch 34/75\n",
            "575/575 [==============================] - 1s 2ms/step - loss: 0.5075 - acc: 0.8560 - val_loss: 0.5147 - val_acc: 0.8560\n",
            "Epoch 35/75\n",
            "575/575 [==============================] - 1s 2ms/step - loss: 0.4936 - acc: 0.8568 - val_loss: 0.5013 - val_acc: 0.8560\n",
            "Epoch 36/75\n",
            "575/575 [==============================] - 1s 2ms/step - loss: 0.4804 - acc: 0.8570 - val_loss: 0.4886 - val_acc: 0.8560\n",
            "Epoch 37/75\n",
            "575/575 [==============================] - 1s 2ms/step - loss: 0.4679 - acc: 0.8570 - val_loss: 0.4766 - val_acc: 0.8560\n",
            "Epoch 38/75\n",
            "575/575 [==============================] - 1s 2ms/step - loss: 0.4561 - acc: 0.8570 - val_loss: 0.4652 - val_acc: 0.8560\n",
            "Epoch 39/75\n",
            "575/575 [==============================] - 1s 2ms/step - loss: 0.4450 - acc: 0.8570 - val_loss: 0.4546 - val_acc: 0.8560\n",
            "Epoch 40/75\n",
            "575/575 [==============================] - 1s 2ms/step - loss: 0.4345 - acc: 0.8571 - val_loss: 0.4446 - val_acc: 0.8560\n",
            "Epoch 41/75\n",
            "575/575 [==============================] - 1s 2ms/step - loss: 0.4246 - acc: 0.8572 - val_loss: 0.4350 - val_acc: 0.8560\n",
            "Epoch 42/75\n",
            "575/575 [==============================] - 1s 2ms/step - loss: 0.4152 - acc: 0.8574 - val_loss: 0.4261 - val_acc: 0.8564\n",
            "Epoch 43/75\n",
            "575/575 [==============================] - 1s 2ms/step - loss: 0.4063 - acc: 0.8576 - val_loss: 0.4176 - val_acc: 0.8564\n",
            "Epoch 44/75\n",
            "575/575 [==============================] - 1s 2ms/step - loss: 0.3978 - acc: 0.8576 - val_loss: 0.4094 - val_acc: 0.8564\n",
            "Epoch 45/75\n",
            "575/575 [==============================] - 1s 2ms/step - loss: 0.3896 - acc: 0.8576 - val_loss: 0.4016 - val_acc: 0.8564\n",
            "Epoch 46/75\n",
            "575/575 [==============================] - 1s 2ms/step - loss: 0.3819 - acc: 0.8579 - val_loss: 0.3939 - val_acc: 0.8564\n",
            "Epoch 47/75\n",
            "575/575 [==============================] - 1s 2ms/step - loss: 0.3745 - acc: 0.8579 - val_loss: 0.3862 - val_acc: 0.8564\n",
            "Epoch 48/75\n",
            "575/575 [==============================] - 1s 2ms/step - loss: 0.3674 - acc: 0.8579 - val_loss: 0.3785 - val_acc: 0.8564\n",
            "Epoch 49/75\n",
            "575/575 [==============================] - 1s 2ms/step - loss: 0.3606 - acc: 0.8579 - val_loss: 0.3712 - val_acc: 0.8564\n",
            "Epoch 50/75\n",
            "575/575 [==============================] - 2s 3ms/step - loss: 0.3542 - acc: 0.8579 - val_loss: 0.3649 - val_acc: 0.8564\n",
            "Epoch 51/75\n",
            "575/575 [==============================] - 2s 3ms/step - loss: 0.3482 - acc: 0.8579 - val_loss: 0.3587 - val_acc: 0.8564\n",
            "Epoch 52/75\n",
            "575/575 [==============================] - 2s 3ms/step - loss: 0.3425 - acc: 0.8579 - val_loss: 0.3527 - val_acc: 0.8564\n",
            "Epoch 53/75\n",
            "575/575 [==============================] - 2s 3ms/step - loss: 0.3371 - acc: 0.8579 - val_loss: 0.3475 - val_acc: 0.8564\n",
            "Epoch 54/75\n",
            "575/575 [==============================] - 2s 3ms/step - loss: 0.3318 - acc: 0.8579 - val_loss: 0.3421 - val_acc: 0.8564\n",
            "Epoch 55/75\n",
            "575/575 [==============================] - 2s 3ms/step - loss: 0.3267 - acc: 0.8579 - val_loss: 0.3375 - val_acc: 0.8564\n",
            "Epoch 56/75\n",
            "575/575 [==============================] - 2s 3ms/step - loss: 0.3219 - acc: 0.8579 - val_loss: 0.3327 - val_acc: 0.8564\n",
            "Epoch 57/75\n",
            "575/575 [==============================] - 1s 2ms/step - loss: 0.3174 - acc: 0.8579 - val_loss: 0.3289 - val_acc: 0.8564\n",
            "Epoch 58/75\n",
            "575/575 [==============================] - 1s 2ms/step - loss: 0.3131 - acc: 0.8579 - val_loss: 0.3251 - val_acc: 0.8564\n",
            "Epoch 59/75\n",
            "575/575 [==============================] - 1s 2ms/step - loss: 0.3091 - acc: 0.8579 - val_loss: 0.3208 - val_acc: 0.8568\n",
            "Epoch 60/75\n",
            "575/575 [==============================] - 1s 2ms/step - loss: 0.3052 - acc: 0.8579 - val_loss: 0.3168 - val_acc: 0.8568\n",
            "Epoch 61/75\n",
            "575/575 [==============================] - 1s 2ms/step - loss: 0.3016 - acc: 0.8579 - val_loss: 0.3135 - val_acc: 0.8568\n",
            "Epoch 62/75\n",
            "575/575 [==============================] - 1s 2ms/step - loss: 0.2980 - acc: 0.8580 - val_loss: 0.3100 - val_acc: 0.8568\n",
            "Epoch 63/75\n",
            "575/575 [==============================] - 1s 2ms/step - loss: 0.2947 - acc: 0.8580 - val_loss: 0.3069 - val_acc: 0.8564\n",
            "Epoch 64/75\n",
            "575/575 [==============================] - 1s 2ms/step - loss: 0.2915 - acc: 0.8580 - val_loss: 0.3041 - val_acc: 0.8564\n",
            "Epoch 65/75\n",
            "575/575 [==============================] - 1s 2ms/step - loss: 0.2885 - acc: 0.8584 - val_loss: 0.3009 - val_acc: 0.8577\n",
            "Epoch 66/75\n",
            "575/575 [==============================] - 1s 2ms/step - loss: 0.2856 - acc: 0.8584 - val_loss: 0.2983 - val_acc: 0.8577\n",
            "Epoch 67/75\n",
            "575/575 [==============================] - 1s 2ms/step - loss: 0.2828 - acc: 0.8584 - val_loss: 0.2959 - val_acc: 0.8577\n",
            "Epoch 68/75\n",
            "575/575 [==============================] - 1s 2ms/step - loss: 0.2801 - acc: 0.8584 - val_loss: 0.2931 - val_acc: 0.8581\n",
            "Epoch 69/75\n",
            "575/575 [==============================] - 1s 2ms/step - loss: 0.2775 - acc: 0.8584 - val_loss: 0.2911 - val_acc: 0.8581\n",
            "Epoch 70/75\n",
            "575/575 [==============================] - 1s 2ms/step - loss: 0.2746 - acc: 0.8584 - val_loss: 0.2865 - val_acc: 0.8586\n",
            "Epoch 71/75\n",
            "575/575 [==============================] - 1s 2ms/step - loss: 0.2696 - acc: 0.8585 - val_loss: 0.2820 - val_acc: 0.8586\n",
            "Epoch 72/75\n",
            "575/575 [==============================] - 1s 2ms/step - loss: 0.2633 - acc: 0.8597 - val_loss: 0.2755 - val_acc: 0.8594\n",
            "Epoch 73/75\n",
            "575/575 [==============================] - 1s 2ms/step - loss: 0.2561 - acc: 0.8800 - val_loss: 0.2692 - val_acc: 0.9173\n",
            "Epoch 74/75\n",
            "575/575 [==============================] - 1s 2ms/step - loss: 0.2507 - acc: 0.9199 - val_loss: 0.2647 - val_acc: 0.9230\n",
            "Epoch 75/75\n",
            "575/575 [==============================] - 1s 2ms/step - loss: 0.2461 - acc: 0.9224 - val_loss: 0.2602 - val_acc: 0.9238\n",
            "<bound method Model.summary of <tensorflow.python.keras.engine.sequential.Sequential object at 0x7f73a5bc2400>>\n",
            "Test Accuracy:\n",
            "6461/6461 [==============================] - 10s 2ms/step - loss: 0.2706 - acc: 0.9171\n",
            "Random Sample Accuracy:\n",
            "94/94 [==============================] - 0s 2ms/step - loss: 1.5928 - acc: 0.6393\n"
          ],
          "name": "stdout"
        },
        {
          "output_type": "display_data",
          "data": {
            "image/png": "[encoded data removed]",
            "text/plain": [
              "<Figure size 1080x432 with 2 Axes>"
            ]
          },
          "metadata": {
            "tags": [],
            "needs_background": "light"
          }
        }
      ]
    },
    {
      "cell_type": "code",
      "metadata": {
        "id": "8CO8w3uTnjxr"
      },
      "source": [
        "model3_params = {'activation 1': 'relu', \n",
        "                 'activation 2': 'relu', \n",
        "                 'activation 3': 'softmax', \n",
        "                 'opt': tf.keras.optimizers.SGD(learning_rate=0.01),\n",
        "                 'loss': 'categorical_crossentropy',\n",
        "                 'epochs': 45, \n",
        "                 'batch_size': 16, \n",
        "                 }"
      ],
      "execution_count": 110,
      "outputs": []
    },
    {
      "cell_type": "code",
      "metadata": {
        "colab": {
          "base_uri": "https://localhost:8080/",
          "height": 1000
        },
        "id": "Rd_DRvv2n3jX",
        "outputId": "bbb750c2-bdc7-4fd1-c13d-ed2e2a5efbf6"
      },
      "source": [
        "model3_history, model3 = create_model(train, label_train, test, label_test, model3_params)"
      ],
      "execution_count": 111,
      "outputs": [
        {
          "output_type": "stream",
          "text": [
            "Epoch 1/45\n",
            "575/575 [==============================] - 1s 2ms/step - loss: 1.7556 - acc: 0.5235 - val_loss: 1.4086 - val_acc: 0.5231\n",
            "Epoch 2/45\n",
            "575/575 [==============================] - 1s 2ms/step - loss: 1.2584 - acc: 0.5727 - val_loss: 1.1511 - val_acc: 0.6162\n",
            "Epoch 3/45\n",
            "575/575 [==============================] - 1s 2ms/step - loss: 1.0497 - acc: 0.6784 - val_loss: 0.9752 - val_acc: 0.6902\n",
            "Epoch 4/45\n",
            "575/575 [==============================] - 1s 2ms/step - loss: 0.8887 - acc: 0.7177 - val_loss: 0.8174 - val_acc: 0.7576\n",
            "Epoch 5/45\n",
            "575/575 [==============================] - 1s 2ms/step - loss: 0.7414 - acc: 0.7934 - val_loss: 0.6776 - val_acc: 0.8285\n",
            "Epoch 6/45\n",
            "575/575 [==============================] - 1s 2ms/step - loss: 0.6118 - acc: 0.8620 - val_loss: 0.5595 - val_acc: 0.8725\n",
            "Epoch 7/45\n",
            "575/575 [==============================] - 1s 2ms/step - loss: 0.4988 - acc: 0.8882 - val_loss: 0.4573 - val_acc: 0.8977\n",
            "Epoch 8/45\n",
            "575/575 [==============================] - 1s 2ms/step - loss: 0.4069 - acc: 0.9159 - val_loss: 0.3789 - val_acc: 0.9204\n",
            "Epoch 9/45\n",
            "575/575 [==============================] - 1s 2ms/step - loss: 0.3387 - acc: 0.9330 - val_loss: 0.3206 - val_acc: 0.9321\n",
            "Epoch 10/45\n",
            "575/575 [==============================] - 1s 2ms/step - loss: 0.2881 - acc: 0.9430 - val_loss: 0.2770 - val_acc: 0.9417\n",
            "Epoch 11/45\n",
            "575/575 [==============================] - 1s 2ms/step - loss: 0.2509 - acc: 0.9492 - val_loss: 0.2447 - val_acc: 0.9469\n",
            "Epoch 12/45\n",
            "575/575 [==============================] - 1s 2ms/step - loss: 0.2219 - acc: 0.9531 - val_loss: 0.2192 - val_acc: 0.9482\n",
            "Epoch 13/45\n",
            "575/575 [==============================] - 1s 2ms/step - loss: 0.1990 - acc: 0.9573 - val_loss: 0.1987 - val_acc: 0.9526\n",
            "Epoch 14/45\n",
            "575/575 [==============================] - 1s 2ms/step - loss: 0.1805 - acc: 0.9599 - val_loss: 0.1824 - val_acc: 0.9560\n",
            "Epoch 15/45\n",
            "575/575 [==============================] - 1s 2ms/step - loss: 0.1648 - acc: 0.9622 - val_loss: 0.1681 - val_acc: 0.9565\n",
            "Epoch 16/45\n",
            "575/575 [==============================] - 1s 2ms/step - loss: 0.1521 - acc: 0.9652 - val_loss: 0.1560 - val_acc: 0.9578\n",
            "Epoch 17/45\n",
            "575/575 [==============================] - 1s 2ms/step - loss: 0.1407 - acc: 0.9655 - val_loss: 0.1466 - val_acc: 0.9604\n",
            "Epoch 18/45\n",
            "575/575 [==============================] - 1s 2ms/step - loss: 0.1310 - acc: 0.9666 - val_loss: 0.1377 - val_acc: 0.9608\n",
            "Epoch 19/45\n",
            "575/575 [==============================] - 1s 2ms/step - loss: 0.1225 - acc: 0.9688 - val_loss: 0.1307 - val_acc: 0.9648\n",
            "Epoch 20/45\n",
            "575/575 [==============================] - 1s 2ms/step - loss: 0.1152 - acc: 0.9707 - val_loss: 0.1242 - val_acc: 0.9665\n",
            "Epoch 21/45\n",
            "575/575 [==============================] - 1s 2ms/step - loss: 0.1084 - acc: 0.9745 - val_loss: 0.1183 - val_acc: 0.9674\n",
            "Epoch 22/45\n",
            "575/575 [==============================] - 1s 2ms/step - loss: 0.1023 - acc: 0.9769 - val_loss: 0.1127 - val_acc: 0.9687\n",
            "Epoch 23/45\n",
            "575/575 [==============================] - 1s 2ms/step - loss: 0.0967 - acc: 0.9776 - val_loss: 0.1060 - val_acc: 0.9730\n",
            "Epoch 24/45\n",
            "575/575 [==============================] - 1s 2ms/step - loss: 0.0919 - acc: 0.9789 - val_loss: 0.1021 - val_acc: 0.9717\n",
            "Epoch 25/45\n",
            "575/575 [==============================] - 1s 2ms/step - loss: 0.0872 - acc: 0.9799 - val_loss: 0.0993 - val_acc: 0.9721\n",
            "Epoch 26/45\n",
            "575/575 [==============================] - 1s 2ms/step - loss: 0.0830 - acc: 0.9805 - val_loss: 0.0945 - val_acc: 0.9748\n",
            "Epoch 27/45\n",
            "575/575 [==============================] - 1s 2ms/step - loss: 0.0791 - acc: 0.9817 - val_loss: 0.0917 - val_acc: 0.9748\n",
            "Epoch 28/45\n",
            "575/575 [==============================] - 1s 2ms/step - loss: 0.0755 - acc: 0.9827 - val_loss: 0.0869 - val_acc: 0.9769\n",
            "Epoch 29/45\n",
            "575/575 [==============================] - 1s 2ms/step - loss: 0.0721 - acc: 0.9839 - val_loss: 0.0849 - val_acc: 0.9787\n",
            "Epoch 30/45\n",
            "575/575 [==============================] - 1s 2ms/step - loss: 0.0689 - acc: 0.9851 - val_loss: 0.0815 - val_acc: 0.9800\n",
            "Epoch 31/45\n",
            "575/575 [==============================] - 1s 2ms/step - loss: 0.0661 - acc: 0.9860 - val_loss: 0.0802 - val_acc: 0.9804\n",
            "Epoch 32/45\n",
            "575/575 [==============================] - 1s 2ms/step - loss: 0.0634 - acc: 0.9861 - val_loss: 0.0764 - val_acc: 0.9809\n",
            "Epoch 33/45\n",
            "575/575 [==============================] - 1s 2ms/step - loss: 0.0610 - acc: 0.9866 - val_loss: 0.0743 - val_acc: 0.9817\n",
            "Epoch 34/45\n",
            "575/575 [==============================] - 1s 2ms/step - loss: 0.0584 - acc: 0.9877 - val_loss: 0.0735 - val_acc: 0.9826\n",
            "Epoch 35/45\n",
            "575/575 [==============================] - 1s 2ms/step - loss: 0.0565 - acc: 0.9877 - val_loss: 0.0705 - val_acc: 0.9826\n",
            "Epoch 36/45\n",
            "575/575 [==============================] - 1s 2ms/step - loss: 0.0544 - acc: 0.9877 - val_loss: 0.0690 - val_acc: 0.9830\n",
            "Epoch 37/45\n",
            "575/575 [==============================] - 1s 2ms/step - loss: 0.0524 - acc: 0.9886 - val_loss: 0.0667 - val_acc: 0.9848\n",
            "Epoch 38/45\n",
            "575/575 [==============================] - 1s 2ms/step - loss: 0.0506 - acc: 0.9892 - val_loss: 0.0659 - val_acc: 0.9839\n",
            "Epoch 39/45\n",
            "575/575 [==============================] - 1s 2ms/step - loss: 0.0488 - acc: 0.9898 - val_loss: 0.0629 - val_acc: 0.9878\n",
            "Epoch 40/45\n",
            "575/575 [==============================] - 1s 2ms/step - loss: 0.0473 - acc: 0.9924 - val_loss: 0.0618 - val_acc: 0.9878\n",
            "Epoch 41/45\n",
            "575/575 [==============================] - 1s 2ms/step - loss: 0.0456 - acc: 0.9921 - val_loss: 0.0627 - val_acc: 0.9887\n",
            "Epoch 42/45\n",
            "575/575 [==============================] - 1s 2ms/step - loss: 0.0442 - acc: 0.9927 - val_loss: 0.0617 - val_acc: 0.9887\n",
            "Epoch 43/45\n",
            "575/575 [==============================] - 1s 2ms/step - loss: 0.0429 - acc: 0.9930 - val_loss: 0.0601 - val_acc: 0.9883\n",
            "Epoch 44/45\n",
            "575/575 [==============================] - 1s 2ms/step - loss: 0.0415 - acc: 0.9931 - val_loss: 0.0586 - val_acc: 0.9896\n",
            "Epoch 45/45\n",
            "575/575 [==============================] - 1s 2ms/step - loss: 0.0402 - acc: 0.9931 - val_loss: 0.0558 - val_acc: 0.9896\n",
            "<bound method Model.summary of <tensorflow.python.keras.engine.sequential.Sequential object at 0x7f739027a9e8>>\n",
            "Test Accuracy:\n",
            "6461/6461 [==============================] - 10s 2ms/step - loss: 0.0693 - acc: 0.9864\n",
            "Random Sample Accuracy:\n",
            "94/94 [==============================] - 0s 2ms/step - loss: 1.4989 - acc: 0.6840\n"
          ],
          "name": "stdout"
        },
        {
          "output_type": "display_data",
          "data": {
            "image/png": "[encoded data removed]",
            "text/plain": [
              "<Figure size 1080x432 with 2 Axes>"
            ]
          },
          "metadata": {
            "tags": [],
            "needs_background": "light"
          }
        }
      ]
    },
    {
      "cell_type": "code",
      "metadata": {
        "id": "Tr_uT5YW6wBu"
      },
      "source": [
        "model4_params = {'activation 1': 'relu', \n",
        "                 'activation 2': 'relu', \n",
        "                 'activation 3': 'softmax', \n",
        "                 'opt': tf.keras.optimizers.SGD(learning_rate=0.001),\n",
        "                 'loss': 'categorical_crossentropy',\n",
        "                 'epochs': 250, \n",
        "                 'batch_size': 50, \n",
        "                 }"
      ],
      "execution_count": 112,
      "outputs": []
    },
    {
      "cell_type": "code",
      "metadata": {
        "colab": {
          "base_uri": "https://localhost:8080/",
          "height": 1000
        },
        "id": "nKzymFb26_kD",
        "outputId": "1caa1141-cde0-4775-faeb-bbca01d9b469"
      },
      "source": [
        "model4_history, model4 = create_model(train, label_train, test, label_test, model4_params)"
      ],
      "execution_count": 113,
      "outputs": [
        {
          "output_type": "stream",
          "text": [
            "Epoch 1/250\n",
            "184/184 [==============================] - 1s 3ms/step - loss: 2.6169 - acc: 0.2717 - val_loss: 2.5855 - val_acc: 0.4465\n",
            "Epoch 2/250\n",
            "184/184 [==============================] - 0s 2ms/step - loss: 2.5535 - acc: 0.4938 - val_loss: 2.5256 - val_acc: 0.5231\n",
            "Epoch 3/250\n",
            "184/184 [==============================] - 0s 2ms/step - loss: 2.4937 - acc: 0.5258 - val_loss: 2.4668 - val_acc: 0.5231\n",
            "Epoch 4/250\n",
            "184/184 [==============================] - 0s 2ms/step - loss: 2.4342 - acc: 0.5258 - val_loss: 2.4073 - val_acc: 0.5231\n",
            "Epoch 5/250\n",
            "184/184 [==============================] - 0s 2ms/step - loss: 2.3709 - acc: 0.5258 - val_loss: 2.3408 - val_acc: 0.5231\n",
            "Epoch 6/250\n",
            "184/184 [==============================] - 0s 2ms/step - loss: 2.3023 - acc: 0.5258 - val_loss: 2.2718 - val_acc: 0.5231\n",
            "Epoch 7/250\n",
            "184/184 [==============================] - 0s 2ms/step - loss: 2.2315 - acc: 0.5258 - val_loss: 2.2008 - val_acc: 0.5231\n",
            "Epoch 8/250\n",
            "184/184 [==============================] - 0s 2ms/step - loss: 2.1590 - acc: 0.5258 - val_loss: 2.1279 - val_acc: 0.5231\n",
            "Epoch 9/250\n",
            "184/184 [==============================] - 0s 2ms/step - loss: 2.0844 - acc: 0.5258 - val_loss: 2.0533 - val_acc: 0.5231\n",
            "Epoch 10/250\n",
            "184/184 [==============================] - 0s 2ms/step - loss: 2.0090 - acc: 0.5258 - val_loss: 1.9789 - val_acc: 0.5231\n",
            "Epoch 11/250\n",
            "184/184 [==============================] - 0s 2ms/step - loss: 1.9350 - acc: 0.5258 - val_loss: 1.9071 - val_acc: 0.5231\n",
            "Epoch 12/250\n",
            "184/184 [==============================] - 0s 2ms/step - loss: 1.8652 - acc: 0.5258 - val_loss: 1.8413 - val_acc: 0.5231\n",
            "Epoch 13/250\n",
            "184/184 [==============================] - 0s 2ms/step - loss: 1.8030 - acc: 0.5258 - val_loss: 1.7842 - val_acc: 0.5231\n",
            "Epoch 14/250\n",
            "184/184 [==============================] - 0s 2ms/step - loss: 1.7505 - acc: 0.5258 - val_loss: 1.7371 - val_acc: 0.5231\n",
            "Epoch 15/250\n",
            "184/184 [==============================] - 0s 2ms/step - loss: 1.7077 - acc: 0.5258 - val_loss: 1.6992 - val_acc: 0.5231\n",
            "Epoch 16/250\n",
            "184/184 [==============================] - 0s 2ms/step - loss: 1.6734 - acc: 0.5258 - val_loss: 1.6685 - val_acc: 0.5231\n",
            "Epoch 17/250\n",
            "184/184 [==============================] - 0s 2ms/step - loss: 1.6454 - acc: 0.5258 - val_loss: 1.6431 - val_acc: 0.5231\n",
            "Epoch 18/250\n",
            "184/184 [==============================] - 0s 2ms/step - loss: 1.6219 - acc: 0.5258 - val_loss: 1.6211 - val_acc: 0.5231\n",
            "Epoch 19/250\n",
            "184/184 [==============================] - 0s 2ms/step - loss: 1.6012 - acc: 0.5258 - val_loss: 1.6014 - val_acc: 0.5231\n",
            "Epoch 20/250\n",
            "184/184 [==============================] - 0s 2ms/step - loss: 1.5825 - acc: 0.5258 - val_loss: 1.5834 - val_acc: 0.5231\n",
            "Epoch 21/250\n",
            "184/184 [==============================] - 0s 2ms/step - loss: 1.5653 - acc: 0.5258 - val_loss: 1.5665 - val_acc: 0.5231\n",
            "Epoch 22/250\n",
            "184/184 [==============================] - 0s 2ms/step - loss: 1.5489 - acc: 0.5258 - val_loss: 1.5503 - val_acc: 0.5231\n",
            "Epoch 23/250\n",
            "184/184 [==============================] - 0s 2ms/step - loss: 1.5330 - acc: 0.5258 - val_loss: 1.5346 - val_acc: 0.5231\n",
            "Epoch 24/250\n",
            "184/184 [==============================] - 0s 2ms/step - loss: 1.5177 - acc: 0.5258 - val_loss: 1.5192 - val_acc: 0.5231\n",
            "Epoch 25/250\n",
            "184/184 [==============================] - 0s 2ms/step - loss: 1.5028 - acc: 0.5258 - val_loss: 1.5044 - val_acc: 0.5231\n",
            "Epoch 26/250\n",
            "184/184 [==============================] - 0s 2ms/step - loss: 1.4884 - acc: 0.5258 - val_loss: 1.4901 - val_acc: 0.5231\n",
            "Epoch 27/250\n",
            "184/184 [==============================] - 0s 2ms/step - loss: 1.4745 - acc: 0.5258 - val_loss: 1.4762 - val_acc: 0.5231\n",
            "Epoch 28/250\n",
            "184/184 [==============================] - 0s 2ms/step - loss: 1.4611 - acc: 0.5258 - val_loss: 1.4627 - val_acc: 0.5231\n",
            "Epoch 29/250\n",
            "184/184 [==============================] - 0s 2ms/step - loss: 1.4480 - acc: 0.5258 - val_loss: 1.4495 - val_acc: 0.5231\n",
            "Epoch 30/250\n",
            "184/184 [==============================] - 0s 2ms/step - loss: 1.4352 - acc: 0.5258 - val_loss: 1.4366 - val_acc: 0.5231\n",
            "Epoch 31/250\n",
            "184/184 [==============================] - 0s 2ms/step - loss: 1.4228 - acc: 0.5258 - val_loss: 1.4241 - val_acc: 0.5231\n",
            "Epoch 32/250\n",
            "184/184 [==============================] - 0s 2ms/step - loss: 1.4106 - acc: 0.5258 - val_loss: 1.4119 - val_acc: 0.5231\n",
            "Epoch 33/250\n",
            "184/184 [==============================] - 0s 2ms/step - loss: 1.3988 - acc: 0.5258 - val_loss: 1.4000 - val_acc: 0.5231\n",
            "Epoch 34/250\n",
            "184/184 [==============================] - 0s 2ms/step - loss: 1.3873 - acc: 0.5258 - val_loss: 1.3884 - val_acc: 0.5231\n",
            "Epoch 35/250\n",
            "184/184 [==============================] - 0s 2ms/step - loss: 1.3759 - acc: 0.5258 - val_loss: 1.3768 - val_acc: 0.5231\n",
            "Epoch 36/250\n",
            "184/184 [==============================] - 0s 2ms/step - loss: 1.3647 - acc: 0.5258 - val_loss: 1.3654 - val_acc: 0.5231\n",
            "Epoch 37/250\n",
            "184/184 [==============================] - 0s 2ms/step - loss: 1.3536 - acc: 0.5258 - val_loss: 1.3541 - val_acc: 0.5231\n",
            "Epoch 38/250\n",
            "184/184 [==============================] - 0s 2ms/step - loss: 1.3425 - acc: 0.5258 - val_loss: 1.3429 - val_acc: 0.5231\n",
            "Epoch 39/250\n",
            "184/184 [==============================] - 0s 2ms/step - loss: 1.3315 - acc: 0.5406 - val_loss: 1.3317 - val_acc: 0.5579\n",
            "Epoch 40/250\n",
            "184/184 [==============================] - 0s 2ms/step - loss: 1.3207 - acc: 0.5575 - val_loss: 1.3206 - val_acc: 0.5579\n",
            "Epoch 41/250\n",
            "184/184 [==============================] - 0s 2ms/step - loss: 1.3099 - acc: 0.5575 - val_loss: 1.3096 - val_acc: 0.5579\n",
            "Epoch 42/250\n",
            "184/184 [==============================] - 0s 2ms/step - loss: 1.2991 - acc: 0.5575 - val_loss: 1.2985 - val_acc: 0.5579\n",
            "Epoch 43/250\n",
            "184/184 [==============================] - 0s 2ms/step - loss: 1.2884 - acc: 0.5575 - val_loss: 1.2876 - val_acc: 0.5579\n",
            "Epoch 44/250\n",
            "184/184 [==============================] - 0s 2ms/step - loss: 1.2778 - acc: 0.5575 - val_loss: 1.2768 - val_acc: 0.5579\n",
            "Epoch 45/250\n",
            "184/184 [==============================] - 0s 2ms/step - loss: 1.2673 - acc: 0.5792 - val_loss: 1.2660 - val_acc: 0.5970\n",
            "Epoch 46/250\n",
            "184/184 [==============================] - 0s 2ms/step - loss: 1.2569 - acc: 0.5911 - val_loss: 1.2554 - val_acc: 0.5970\n",
            "Epoch 47/250\n",
            "184/184 [==============================] - 0s 2ms/step - loss: 1.2466 - acc: 0.5911 - val_loss: 1.2449 - val_acc: 0.5970\n",
            "Epoch 48/250\n",
            "184/184 [==============================] - 0s 2ms/step - loss: 1.2364 - acc: 0.5911 - val_loss: 1.2344 - val_acc: 0.5970\n",
            "Epoch 49/250\n",
            "184/184 [==============================] - 0s 2ms/step - loss: 1.2263 - acc: 0.5911 - val_loss: 1.2241 - val_acc: 0.5970\n",
            "Epoch 50/250\n",
            "184/184 [==============================] - 0s 2ms/step - loss: 1.2163 - acc: 0.5911 - val_loss: 1.2139 - val_acc: 0.5970\n",
            "Epoch 51/250\n",
            "184/184 [==============================] - 0s 2ms/step - loss: 1.2064 - acc: 0.6036 - val_loss: 1.2038 - val_acc: 0.6158\n",
            "Epoch 52/250\n",
            "184/184 [==============================] - 0s 2ms/step - loss: 1.1966 - acc: 0.6134 - val_loss: 1.1938 - val_acc: 0.6158\n",
            "Epoch 53/250\n",
            "184/184 [==============================] - 0s 2ms/step - loss: 1.1870 - acc: 0.6134 - val_loss: 1.1840 - val_acc: 0.6158\n",
            "Epoch 54/250\n",
            "184/184 [==============================] - 0s 2ms/step - loss: 1.1776 - acc: 0.6149 - val_loss: 1.1744 - val_acc: 0.6179\n",
            "Epoch 55/250\n",
            "184/184 [==============================] - 0s 2ms/step - loss: 1.1682 - acc: 0.6149 - val_loss: 1.1649 - val_acc: 0.6179\n",
            "Epoch 56/250\n",
            "184/184 [==============================] - 0s 2ms/step - loss: 1.1591 - acc: 0.6149 - val_loss: 1.1557 - val_acc: 0.6179\n",
            "Epoch 57/250\n",
            "184/184 [==============================] - 0s 2ms/step - loss: 1.1501 - acc: 0.6179 - val_loss: 1.1466 - val_acc: 0.6214\n",
            "Epoch 58/250\n",
            "184/184 [==============================] - 0s 2ms/step - loss: 1.1413 - acc: 0.6182 - val_loss: 1.1377 - val_acc: 0.6214\n",
            "Epoch 59/250\n",
            "184/184 [==============================] - 0s 2ms/step - loss: 1.1327 - acc: 0.6199 - val_loss: 1.1289 - val_acc: 0.6240\n",
            "Epoch 60/250\n",
            "184/184 [==============================] - 0s 2ms/step - loss: 1.1241 - acc: 0.6249 - val_loss: 1.1202 - val_acc: 0.6240\n",
            "Epoch 61/250\n",
            "184/184 [==============================] - 0s 2ms/step - loss: 1.1156 - acc: 0.6254 - val_loss: 1.1116 - val_acc: 0.6279\n",
            "Epoch 62/250\n",
            "184/184 [==============================] - 0s 2ms/step - loss: 1.1073 - acc: 0.6271 - val_loss: 1.1031 - val_acc: 0.6279\n",
            "Epoch 63/250\n",
            "184/184 [==============================] - 0s 2ms/step - loss: 1.0991 - acc: 0.6270 - val_loss: 1.0948 - val_acc: 0.6279\n",
            "Epoch 64/250\n",
            "184/184 [==============================] - 0s 2ms/step - loss: 1.0909 - acc: 0.6270 - val_loss: 1.0866 - val_acc: 0.6279\n",
            "Epoch 65/250\n",
            "184/184 [==============================] - 0s 2ms/step - loss: 1.0830 - acc: 0.6332 - val_loss: 1.0785 - val_acc: 0.6466\n",
            "Epoch 66/250\n",
            "184/184 [==============================] - 0s 2ms/step - loss: 1.0751 - acc: 0.6515 - val_loss: 1.0705 - val_acc: 0.6562\n",
            "Epoch 67/250\n",
            "184/184 [==============================] - 0s 2ms/step - loss: 1.0673 - acc: 0.6556 - val_loss: 1.0626 - val_acc: 0.6558\n",
            "Epoch 68/250\n",
            "184/184 [==============================] - 0s 2ms/step - loss: 1.0596 - acc: 0.6563 - val_loss: 1.0548 - val_acc: 0.6584\n",
            "Epoch 69/250\n",
            "184/184 [==============================] - 0s 2ms/step - loss: 1.0520 - acc: 0.6589 - val_loss: 1.0472 - val_acc: 0.6632\n",
            "Epoch 70/250\n",
            "184/184 [==============================] - 0s 2ms/step - loss: 1.0446 - acc: 0.6615 - val_loss: 1.0397 - val_acc: 0.6688\n",
            "Epoch 71/250\n",
            "184/184 [==============================] - 0s 2ms/step - loss: 1.0372 - acc: 0.6655 - val_loss: 1.0323 - val_acc: 0.6810\n",
            "Epoch 72/250\n",
            "184/184 [==============================] - 0s 2ms/step - loss: 1.0300 - acc: 0.6747 - val_loss: 1.0250 - val_acc: 0.6862\n",
            "Epoch 73/250\n",
            "184/184 [==============================] - 0s 2ms/step - loss: 1.0228 - acc: 0.6810 - val_loss: 1.0178 - val_acc: 0.6910\n",
            "Epoch 74/250\n",
            "184/184 [==============================] - 0s 2ms/step - loss: 1.0158 - acc: 0.6924 - val_loss: 1.0107 - val_acc: 0.6941\n",
            "Epoch 75/250\n",
            "184/184 [==============================] - 0s 2ms/step - loss: 1.0089 - acc: 0.6938 - val_loss: 1.0038 - val_acc: 0.6941\n",
            "Epoch 76/250\n",
            "184/184 [==============================] - 0s 2ms/step - loss: 1.0021 - acc: 0.6942 - val_loss: 0.9969 - val_acc: 0.6980\n",
            "Epoch 77/250\n",
            "184/184 [==============================] - 0s 2ms/step - loss: 0.9954 - acc: 0.7009 - val_loss: 0.9902 - val_acc: 0.7006\n",
            "Epoch 78/250\n",
            "184/184 [==============================] - 0s 2ms/step - loss: 0.9887 - acc: 0.7009 - val_loss: 0.9836 - val_acc: 0.7006\n",
            "Epoch 79/250\n",
            "184/184 [==============================] - 0s 2ms/step - loss: 0.9822 - acc: 0.7020 - val_loss: 0.9770 - val_acc: 0.7045\n",
            "Epoch 80/250\n",
            "184/184 [==============================] - 0s 2ms/step - loss: 0.9757 - acc: 0.7103 - val_loss: 0.9706 - val_acc: 0.7185\n",
            "Epoch 81/250\n",
            "184/184 [==============================] - 0s 2ms/step - loss: 0.9694 - acc: 0.7193 - val_loss: 0.9642 - val_acc: 0.7185\n",
            "Epoch 82/250\n",
            "184/184 [==============================] - 0s 2ms/step - loss: 0.9631 - acc: 0.7192 - val_loss: 0.9579 - val_acc: 0.7189\n",
            "Epoch 83/250\n",
            "184/184 [==============================] - 0s 2ms/step - loss: 0.9568 - acc: 0.7206 - val_loss: 0.9517 - val_acc: 0.7254\n",
            "Epoch 84/250\n",
            "184/184 [==============================] - 0s 2ms/step - loss: 0.9507 - acc: 0.7269 - val_loss: 0.9456 - val_acc: 0.7389\n",
            "Epoch 85/250\n",
            "184/184 [==============================] - 0s 2ms/step - loss: 0.9446 - acc: 0.7354 - val_loss: 0.9396 - val_acc: 0.7367\n",
            "Epoch 86/250\n",
            "184/184 [==============================] - 0s 2ms/step - loss: 0.9387 - acc: 0.7377 - val_loss: 0.9336 - val_acc: 0.7393\n",
            "Epoch 87/250\n",
            "184/184 [==============================] - 0s 2ms/step - loss: 0.9327 - acc: 0.7398 - val_loss: 0.9278 - val_acc: 0.7424\n",
            "Epoch 88/250\n",
            "184/184 [==============================] - 0s 2ms/step - loss: 0.9269 - acc: 0.7406 - val_loss: 0.9220 - val_acc: 0.7424\n",
            "Epoch 89/250\n",
            "184/184 [==============================] - 0s 2ms/step - loss: 0.9211 - acc: 0.7407 - val_loss: 0.9163 - val_acc: 0.7424\n",
            "Epoch 90/250\n",
            "184/184 [==============================] - 0s 2ms/step - loss: 0.9154 - acc: 0.7409 - val_loss: 0.9106 - val_acc: 0.7424\n",
            "Epoch 91/250\n",
            "184/184 [==============================] - 0s 2ms/step - loss: 0.9097 - acc: 0.7404 - val_loss: 0.9050 - val_acc: 0.7406\n",
            "Epoch 92/250\n",
            "184/184 [==============================] - 0s 2ms/step - loss: 0.9041 - acc: 0.7399 - val_loss: 0.8995 - val_acc: 0.7406\n",
            "Epoch 93/250\n",
            "184/184 [==============================] - 0s 2ms/step - loss: 0.8986 - acc: 0.7419 - val_loss: 0.8940 - val_acc: 0.7515\n",
            "Epoch 94/250\n",
            "184/184 [==============================] - 0s 2ms/step - loss: 0.8931 - acc: 0.7487 - val_loss: 0.8886 - val_acc: 0.7515\n",
            "Epoch 95/250\n",
            "184/184 [==============================] - 0s 2ms/step - loss: 0.8876 - acc: 0.7487 - val_loss: 0.8832 - val_acc: 0.7515\n",
            "Epoch 96/250\n",
            "184/184 [==============================] - 0s 2ms/step - loss: 0.8823 - acc: 0.7472 - val_loss: 0.8779 - val_acc: 0.7507\n",
            "Epoch 97/250\n",
            "184/184 [==============================] - 0s 2ms/step - loss: 0.8769 - acc: 0.7470 - val_loss: 0.8727 - val_acc: 0.7493\n",
            "Epoch 98/250\n",
            "184/184 [==============================] - 0s 2ms/step - loss: 0.8716 - acc: 0.7455 - val_loss: 0.8675 - val_acc: 0.7493\n",
            "Epoch 99/250\n",
            "184/184 [==============================] - 0s 2ms/step - loss: 0.8664 - acc: 0.7452 - val_loss: 0.8623 - val_acc: 0.7498\n",
            "Epoch 100/250\n",
            "184/184 [==============================] - 0s 2ms/step - loss: 0.8612 - acc: 0.7452 - val_loss: 0.8572 - val_acc: 0.7498\n",
            "Epoch 101/250\n",
            "184/184 [==============================] - 0s 2ms/step - loss: 0.8560 - acc: 0.7452 - val_loss: 0.8521 - val_acc: 0.7498\n",
            "Epoch 102/250\n",
            "184/184 [==============================] - 0s 2ms/step - loss: 0.8508 - acc: 0.7452 - val_loss: 0.8471 - val_acc: 0.7498\n",
            "Epoch 103/250\n",
            "184/184 [==============================] - 0s 2ms/step - loss: 0.8458 - acc: 0.7452 - val_loss: 0.8421 - val_acc: 0.7498\n",
            "Epoch 104/250\n",
            "184/184 [==============================] - 0s 2ms/step - loss: 0.8407 - acc: 0.7455 - val_loss: 0.8372 - val_acc: 0.7498\n",
            "Epoch 105/250\n",
            "184/184 [==============================] - 0s 2ms/step - loss: 0.8357 - acc: 0.7456 - val_loss: 0.8323 - val_acc: 0.7498\n",
            "Epoch 106/250\n",
            "184/184 [==============================] - 0s 2ms/step - loss: 0.8307 - acc: 0.7456 - val_loss: 0.8274 - val_acc: 0.7498\n",
            "Epoch 107/250\n",
            "184/184 [==============================] - 0s 2ms/step - loss: 0.8257 - acc: 0.7456 - val_loss: 0.8225 - val_acc: 0.7498\n",
            "Epoch 108/250\n",
            "184/184 [==============================] - 0s 2ms/step - loss: 0.8208 - acc: 0.7456 - val_loss: 0.8177 - val_acc: 0.7498\n",
            "Epoch 109/250\n",
            "184/184 [==============================] - 0s 2ms/step - loss: 0.8159 - acc: 0.7458 - val_loss: 0.8130 - val_acc: 0.7498\n",
            "Epoch 110/250\n",
            "184/184 [==============================] - 0s 2ms/step - loss: 0.8110 - acc: 0.7458 - val_loss: 0.8082 - val_acc: 0.7498\n",
            "Epoch 111/250\n",
            "184/184 [==============================] - 0s 2ms/step - loss: 0.8061 - acc: 0.7459 - val_loss: 0.8035 - val_acc: 0.7498\n",
            "Epoch 112/250\n",
            "184/184 [==============================] - 0s 2ms/step - loss: 0.8013 - acc: 0.7459 - val_loss: 0.7987 - val_acc: 0.7498\n",
            "Epoch 113/250\n",
            "184/184 [==============================] - 0s 2ms/step - loss: 0.7965 - acc: 0.7461 - val_loss: 0.7941 - val_acc: 0.7528\n",
            "Epoch 114/250\n",
            "184/184 [==============================] - 0s 2ms/step - loss: 0.7917 - acc: 0.7493 - val_loss: 0.7894 - val_acc: 0.7528\n",
            "Epoch 115/250\n",
            "184/184 [==============================] - 0s 2ms/step - loss: 0.7869 - acc: 0.7493 - val_loss: 0.7848 - val_acc: 0.7528\n",
            "Epoch 116/250\n",
            "184/184 [==============================] - 0s 2ms/step - loss: 0.7821 - acc: 0.7495 - val_loss: 0.7802 - val_acc: 0.7528\n",
            "Epoch 117/250\n",
            "184/184 [==============================] - 0s 2ms/step - loss: 0.7774 - acc: 0.7496 - val_loss: 0.7756 - val_acc: 0.7528\n",
            "Epoch 118/250\n",
            "184/184 [==============================] - 0s 2ms/step - loss: 0.7727 - acc: 0.7499 - val_loss: 0.7710 - val_acc: 0.7546\n",
            "Epoch 119/250\n",
            "184/184 [==============================] - 0s 2ms/step - loss: 0.7679 - acc: 0.7528 - val_loss: 0.7665 - val_acc: 0.7567\n",
            "Epoch 120/250\n",
            "184/184 [==============================] - 0s 2ms/step - loss: 0.7632 - acc: 0.7536 - val_loss: 0.7619 - val_acc: 0.7567\n",
            "Epoch 121/250\n",
            "184/184 [==============================] - 0s 2ms/step - loss: 0.7586 - acc: 0.7542 - val_loss: 0.7574 - val_acc: 0.7576\n",
            "Epoch 122/250\n",
            "184/184 [==============================] - 0s 2ms/step - loss: 0.7539 - acc: 0.7558 - val_loss: 0.7530 - val_acc: 0.7576\n",
            "Epoch 123/250\n",
            "184/184 [==============================] - 0s 2ms/step - loss: 0.7493 - acc: 0.7559 - val_loss: 0.7485 - val_acc: 0.7576\n",
            "Epoch 124/250\n",
            "184/184 [==============================] - 0s 2ms/step - loss: 0.7447 - acc: 0.7613 - val_loss: 0.7441 - val_acc: 0.7733\n",
            "Epoch 125/250\n",
            "184/184 [==============================] - 0s 2ms/step - loss: 0.7401 - acc: 0.7750 - val_loss: 0.7396 - val_acc: 0.7794\n",
            "Epoch 126/250\n",
            "184/184 [==============================] - 0s 2ms/step - loss: 0.7355 - acc: 0.7775 - val_loss: 0.7352 - val_acc: 0.7794\n",
            "Epoch 127/250\n",
            "184/184 [==============================] - 0s 2ms/step - loss: 0.7309 - acc: 0.7775 - val_loss: 0.7308 - val_acc: 0.7794\n",
            "Epoch 128/250\n",
            "184/184 [==============================] - 0s 2ms/step - loss: 0.7264 - acc: 0.7798 - val_loss: 0.7264 - val_acc: 0.7842\n",
            "Epoch 129/250\n",
            "184/184 [==============================] - 0s 2ms/step - loss: 0.7218 - acc: 0.7831 - val_loss: 0.7221 - val_acc: 0.7842\n",
            "Epoch 130/250\n",
            "184/184 [==============================] - 0s 2ms/step - loss: 0.7173 - acc: 0.7837 - val_loss: 0.7177 - val_acc: 0.7946\n",
            "Epoch 131/250\n",
            "184/184 [==============================] - 0s 2ms/step - loss: 0.7128 - acc: 0.7928 - val_loss: 0.7134 - val_acc: 0.7990\n",
            "Epoch 132/250\n",
            "184/184 [==============================] - 0s 2ms/step - loss: 0.7083 - acc: 0.7935 - val_loss: 0.7091 - val_acc: 0.7990\n",
            "Epoch 133/250\n",
            "184/184 [==============================] - 0s 2ms/step - loss: 0.7038 - acc: 0.7975 - val_loss: 0.7048 - val_acc: 0.8072\n",
            "Epoch 134/250\n",
            "184/184 [==============================] - 0s 2ms/step - loss: 0.6993 - acc: 0.8019 - val_loss: 0.7005 - val_acc: 0.8072\n",
            "Epoch 135/250\n",
            "184/184 [==============================] - 0s 2ms/step - loss: 0.6948 - acc: 0.8139 - val_loss: 0.6962 - val_acc: 0.8164\n",
            "Epoch 136/250\n",
            "184/184 [==============================] - 0s 2ms/step - loss: 0.6903 - acc: 0.8168 - val_loss: 0.6919 - val_acc: 0.8177\n",
            "Epoch 137/250\n",
            "184/184 [==============================] - 0s 2ms/step - loss: 0.6859 - acc: 0.8222 - val_loss: 0.6877 - val_acc: 0.8264\n",
            "Epoch 138/250\n",
            "184/184 [==============================] - 0s 2ms/step - loss: 0.6815 - acc: 0.8253 - val_loss: 0.6834 - val_acc: 0.8281\n",
            "Epoch 139/250\n",
            "184/184 [==============================] - 0s 2ms/step - loss: 0.6771 - acc: 0.8262 - val_loss: 0.6792 - val_acc: 0.8281\n",
            "Epoch 140/250\n",
            "184/184 [==============================] - 0s 2ms/step - loss: 0.6727 - acc: 0.8269 - val_loss: 0.6751 - val_acc: 0.8281\n",
            "Epoch 141/250\n",
            "184/184 [==============================] - 0s 2ms/step - loss: 0.6683 - acc: 0.8271 - val_loss: 0.6709 - val_acc: 0.8281\n",
            "Epoch 142/250\n",
            "184/184 [==============================] - 0s 2ms/step - loss: 0.6640 - acc: 0.8274 - val_loss: 0.6667 - val_acc: 0.8307\n",
            "Epoch 143/250\n",
            "184/184 [==============================] - 0s 2ms/step - loss: 0.6596 - acc: 0.8335 - val_loss: 0.6626 - val_acc: 0.8351\n",
            "Epoch 144/250\n",
            "184/184 [==============================] - 0s 2ms/step - loss: 0.6553 - acc: 0.8337 - val_loss: 0.6585 - val_acc: 0.8351\n",
            "Epoch 145/250\n",
            "184/184 [==============================] - 0s 2ms/step - loss: 0.6510 - acc: 0.8343 - val_loss: 0.6543 - val_acc: 0.8368\n",
            "Epoch 146/250\n",
            "184/184 [==============================] - 0s 2ms/step - loss: 0.6467 - acc: 0.8345 - val_loss: 0.6502 - val_acc: 0.8368\n",
            "Epoch 147/250\n",
            "184/184 [==============================] - 0s 2ms/step - loss: 0.6424 - acc: 0.8346 - val_loss: 0.6461 - val_acc: 0.8368\n",
            "Epoch 148/250\n",
            "184/184 [==============================] - 0s 2ms/step - loss: 0.6382 - acc: 0.8352 - val_loss: 0.6421 - val_acc: 0.8368\n",
            "Epoch 149/250\n",
            "184/184 [==============================] - 0s 2ms/step - loss: 0.6339 - acc: 0.8359 - val_loss: 0.6380 - val_acc: 0.8372\n",
            "Epoch 150/250\n",
            "184/184 [==============================] - 0s 2ms/step - loss: 0.6296 - acc: 0.8362 - val_loss: 0.6340 - val_acc: 0.8429\n",
            "Epoch 151/250\n",
            "184/184 [==============================] - 0s 2ms/step - loss: 0.6254 - acc: 0.8399 - val_loss: 0.6299 - val_acc: 0.8433\n",
            "Epoch 152/250\n",
            "184/184 [==============================] - 0s 2ms/step - loss: 0.6212 - acc: 0.8415 - val_loss: 0.6259 - val_acc: 0.8433\n",
            "Epoch 153/250\n",
            "184/184 [==============================] - 0s 2ms/step - loss: 0.6170 - acc: 0.8433 - val_loss: 0.6219 - val_acc: 0.8468\n",
            "Epoch 154/250\n",
            "184/184 [==============================] - 0s 2ms/step - loss: 0.6129 - acc: 0.8439 - val_loss: 0.6180 - val_acc: 0.8473\n",
            "Epoch 155/250\n",
            "184/184 [==============================] - 0s 2ms/step - loss: 0.6087 - acc: 0.8446 - val_loss: 0.6140 - val_acc: 0.8473\n",
            "Epoch 156/250\n",
            "184/184 [==============================] - 0s 2ms/step - loss: 0.6046 - acc: 0.8471 - val_loss: 0.6101 - val_acc: 0.8512\n",
            "Epoch 157/250\n",
            "184/184 [==============================] - 0s 2ms/step - loss: 0.6005 - acc: 0.8485 - val_loss: 0.6062 - val_acc: 0.8512\n",
            "Epoch 158/250\n",
            "184/184 [==============================] - 0s 2ms/step - loss: 0.5964 - acc: 0.8489 - val_loss: 0.6023 - val_acc: 0.8512\n",
            "Epoch 159/250\n",
            "184/184 [==============================] - 0s 2ms/step - loss: 0.5924 - acc: 0.8493 - val_loss: 0.5984 - val_acc: 0.8512\n",
            "Epoch 160/250\n",
            "184/184 [==============================] - 0s 2ms/step - loss: 0.5883 - acc: 0.8498 - val_loss: 0.5946 - val_acc: 0.8516\n",
            "Epoch 161/250\n",
            "184/184 [==============================] - 0s 2ms/step - loss: 0.5843 - acc: 0.8530 - val_loss: 0.5907 - val_acc: 0.8538\n",
            "Epoch 162/250\n",
            "184/184 [==============================] - 0s 2ms/step - loss: 0.5803 - acc: 0.8548 - val_loss: 0.5869 - val_acc: 0.8538\n",
            "Epoch 163/250\n",
            "184/184 [==============================] - 0s 2ms/step - loss: 0.5763 - acc: 0.8550 - val_loss: 0.5831 - val_acc: 0.8542\n",
            "Epoch 164/250\n",
            "184/184 [==============================] - 0s 2ms/step - loss: 0.5724 - acc: 0.8556 - val_loss: 0.5794 - val_acc: 0.8542\n",
            "Epoch 165/250\n",
            "184/184 [==============================] - 0s 2ms/step - loss: 0.5684 - acc: 0.8594 - val_loss: 0.5756 - val_acc: 0.8573\n",
            "Epoch 166/250\n",
            "184/184 [==============================] - 0s 2ms/step - loss: 0.5645 - acc: 0.8626 - val_loss: 0.5719 - val_acc: 0.8573\n",
            "Epoch 167/250\n",
            "184/184 [==============================] - 0s 2ms/step - loss: 0.5606 - acc: 0.8626 - val_loss: 0.5682 - val_acc: 0.8573\n",
            "Epoch 168/250\n",
            "184/184 [==============================] - 0s 2ms/step - loss: 0.5568 - acc: 0.8626 - val_loss: 0.5646 - val_acc: 0.8573\n",
            "Epoch 169/250\n",
            "184/184 [==============================] - 0s 2ms/step - loss: 0.5529 - acc: 0.8632 - val_loss: 0.5609 - val_acc: 0.8573\n",
            "Epoch 170/250\n",
            "184/184 [==============================] - 0s 2ms/step - loss: 0.5491 - acc: 0.8636 - val_loss: 0.5573 - val_acc: 0.8603\n",
            "Epoch 171/250\n",
            "184/184 [==============================] - 0s 2ms/step - loss: 0.5453 - acc: 0.8640 - val_loss: 0.5537 - val_acc: 0.8603\n",
            "Epoch 172/250\n",
            "184/184 [==============================] - 0s 2ms/step - loss: 0.5415 - acc: 0.8640 - val_loss: 0.5501 - val_acc: 0.8603\n",
            "Epoch 173/250\n",
            "184/184 [==============================] - 0s 2ms/step - loss: 0.5378 - acc: 0.8640 - val_loss: 0.5465 - val_acc: 0.8607\n",
            "Epoch 174/250\n",
            "184/184 [==============================] - 0s 2ms/step - loss: 0.5341 - acc: 0.8646 - val_loss: 0.5430 - val_acc: 0.8607\n",
            "Epoch 175/250\n",
            "184/184 [==============================] - 0s 2ms/step - loss: 0.5304 - acc: 0.8649 - val_loss: 0.5395 - val_acc: 0.8642\n",
            "Epoch 176/250\n",
            "184/184 [==============================] - 0s 2ms/step - loss: 0.5267 - acc: 0.8697 - val_loss: 0.5360 - val_acc: 0.8642\n",
            "Epoch 177/250\n",
            "184/184 [==============================] - 0s 2ms/step - loss: 0.5231 - acc: 0.8687 - val_loss: 0.5326 - val_acc: 0.8647\n",
            "Epoch 178/250\n",
            "184/184 [==============================] - 0s 2ms/step - loss: 0.5195 - acc: 0.8702 - val_loss: 0.5292 - val_acc: 0.8651\n",
            "Epoch 179/250\n",
            "184/184 [==============================] - 0s 2ms/step - loss: 0.5159 - acc: 0.8718 - val_loss: 0.5258 - val_acc: 0.8686\n",
            "Epoch 180/250\n",
            "184/184 [==============================] - 0s 2ms/step - loss: 0.5124 - acc: 0.8767 - val_loss: 0.5224 - val_acc: 0.8703\n",
            "Epoch 181/250\n",
            "184/184 [==============================] - 0s 2ms/step - loss: 0.5088 - acc: 0.8794 - val_loss: 0.5190 - val_acc: 0.8716\n",
            "Epoch 182/250\n",
            "184/184 [==============================] - 0s 2ms/step - loss: 0.5053 - acc: 0.8808 - val_loss: 0.5157 - val_acc: 0.8725\n",
            "Epoch 183/250\n",
            "184/184 [==============================] - 0s 2ms/step - loss: 0.5019 - acc: 0.8808 - val_loss: 0.5124 - val_acc: 0.8725\n",
            "Epoch 184/250\n",
            "184/184 [==============================] - 0s 2ms/step - loss: 0.4984 - acc: 0.8809 - val_loss: 0.5091 - val_acc: 0.8725\n",
            "Epoch 185/250\n",
            "184/184 [==============================] - 0s 2ms/step - loss: 0.4950 - acc: 0.8811 - val_loss: 0.5059 - val_acc: 0.8729\n",
            "Epoch 186/250\n",
            "184/184 [==============================] - 0s 2ms/step - loss: 0.4916 - acc: 0.8814 - val_loss: 0.5027 - val_acc: 0.8734\n",
            "Epoch 187/250\n",
            "184/184 [==============================] - 0s 2ms/step - loss: 0.4882 - acc: 0.8815 - val_loss: 0.4995 - val_acc: 0.8734\n",
            "Epoch 188/250\n",
            "184/184 [==============================] - 0s 2ms/step - loss: 0.4849 - acc: 0.8819 - val_loss: 0.4963 - val_acc: 0.8738\n",
            "Epoch 189/250\n",
            "184/184 [==============================] - 0s 2ms/step - loss: 0.4816 - acc: 0.8829 - val_loss: 0.4932 - val_acc: 0.8738\n",
            "Epoch 190/250\n",
            "184/184 [==============================] - 0s 2ms/step - loss: 0.4783 - acc: 0.8846 - val_loss: 0.4900 - val_acc: 0.8747\n",
            "Epoch 191/250\n",
            "184/184 [==============================] - 0s 2ms/step - loss: 0.4750 - acc: 0.8856 - val_loss: 0.4870 - val_acc: 0.8755\n",
            "Epoch 192/250\n",
            "184/184 [==============================] - 0s 2ms/step - loss: 0.4718 - acc: 0.8872 - val_loss: 0.4839 - val_acc: 0.8760\n",
            "Epoch 193/250\n",
            "184/184 [==============================] - 0s 2ms/step - loss: 0.4686 - acc: 0.8891 - val_loss: 0.4809 - val_acc: 0.8795\n",
            "Epoch 194/250\n",
            "184/184 [==============================] - 0s 2ms/step - loss: 0.4654 - acc: 0.8903 - val_loss: 0.4779 - val_acc: 0.8812\n",
            "Epoch 195/250\n",
            "184/184 [==============================] - 0s 2ms/step - loss: 0.4623 - acc: 0.8928 - val_loss: 0.4749 - val_acc: 0.8856\n",
            "Epoch 196/250\n",
            "184/184 [==============================] - 0s 2ms/step - loss: 0.4592 - acc: 0.8960 - val_loss: 0.4720 - val_acc: 0.8856\n",
            "Epoch 197/250\n",
            "184/184 [==============================] - 0s 2ms/step - loss: 0.4561 - acc: 0.8960 - val_loss: 0.4690 - val_acc: 0.8856\n",
            "Epoch 198/250\n",
            "184/184 [==============================] - 0s 2ms/step - loss: 0.4531 - acc: 0.8960 - val_loss: 0.4661 - val_acc: 0.8864\n",
            "Epoch 199/250\n",
            "184/184 [==============================] - 0s 2ms/step - loss: 0.4500 - acc: 0.8966 - val_loss: 0.4633 - val_acc: 0.8864\n",
            "Epoch 200/250\n",
            "184/184 [==============================] - 0s 2ms/step - loss: 0.4470 - acc: 0.8967 - val_loss: 0.4604 - val_acc: 0.8864\n",
            "Epoch 201/250\n",
            "184/184 [==============================] - 0s 2ms/step - loss: 0.4441 - acc: 0.8966 - val_loss: 0.4576 - val_acc: 0.8864\n",
            "Epoch 202/250\n",
            "184/184 [==============================] - 0s 2ms/step - loss: 0.4411 - acc: 0.8974 - val_loss: 0.4548 - val_acc: 0.8882\n",
            "Epoch 203/250\n",
            "184/184 [==============================] - 0s 2ms/step - loss: 0.4382 - acc: 0.8981 - val_loss: 0.4520 - val_acc: 0.8882\n",
            "Epoch 204/250\n",
            "184/184 [==============================] - 0s 2ms/step - loss: 0.4353 - acc: 0.8982 - val_loss: 0.4493 - val_acc: 0.8882\n",
            "Epoch 205/250\n",
            "184/184 [==============================] - 0s 2ms/step - loss: 0.4325 - acc: 0.8988 - val_loss: 0.4466 - val_acc: 0.8882\n",
            "Epoch 206/250\n",
            "184/184 [==============================] - 0s 2ms/step - loss: 0.4297 - acc: 0.8989 - val_loss: 0.4439 - val_acc: 0.8882\n",
            "Epoch 207/250\n",
            "184/184 [==============================] - 0s 2ms/step - loss: 0.4269 - acc: 0.8989 - val_loss: 0.4413 - val_acc: 0.8895\n",
            "Epoch 208/250\n",
            "184/184 [==============================] - 0s 2ms/step - loss: 0.4241 - acc: 0.8993 - val_loss: 0.4386 - val_acc: 0.8895\n",
            "Epoch 209/250\n",
            "184/184 [==============================] - 0s 2ms/step - loss: 0.4214 - acc: 0.8994 - val_loss: 0.4361 - val_acc: 0.8895\n",
            "Epoch 210/250\n",
            "184/184 [==============================] - 0s 2ms/step - loss: 0.4186 - acc: 0.8993 - val_loss: 0.4335 - val_acc: 0.8895\n",
            "Epoch 211/250\n",
            "184/184 [==============================] - 0s 2ms/step - loss: 0.4159 - acc: 0.8997 - val_loss: 0.4309 - val_acc: 0.8899\n",
            "Epoch 212/250\n",
            "184/184 [==============================] - 0s 2ms/step - loss: 0.4133 - acc: 0.9005 - val_loss: 0.4284 - val_acc: 0.8960\n",
            "Epoch 213/250\n",
            "184/184 [==============================] - 0s 2ms/step - loss: 0.4107 - acc: 0.9030 - val_loss: 0.4259 - val_acc: 0.8964\n",
            "Epoch 214/250\n",
            "184/184 [==============================] - 0s 2ms/step - loss: 0.4080 - acc: 0.9040 - val_loss: 0.4234 - val_acc: 0.8964\n",
            "Epoch 215/250\n",
            "184/184 [==============================] - 0s 2ms/step - loss: 0.4055 - acc: 0.9044 - val_loss: 0.4209 - val_acc: 0.8986\n",
            "Epoch 216/250\n",
            "184/184 [==============================] - 0s 2ms/step - loss: 0.4029 - acc: 0.9061 - val_loss: 0.4185 - val_acc: 0.8986\n",
            "Epoch 217/250\n",
            "184/184 [==============================] - 0s 2ms/step - loss: 0.4004 - acc: 0.9073 - val_loss: 0.4161 - val_acc: 0.8986\n",
            "Epoch 218/250\n",
            "184/184 [==============================] - 0s 2ms/step - loss: 0.3979 - acc: 0.9073 - val_loss: 0.4137 - val_acc: 0.8986\n",
            "Epoch 219/250\n",
            "184/184 [==============================] - 0s 2ms/step - loss: 0.3954 - acc: 0.9076 - val_loss: 0.4113 - val_acc: 0.8995\n",
            "Epoch 220/250\n",
            "184/184 [==============================] - 0s 2ms/step - loss: 0.3929 - acc: 0.9097 - val_loss: 0.4090 - val_acc: 0.9038\n",
            "Epoch 221/250\n",
            "184/184 [==============================] - 0s 2ms/step - loss: 0.3905 - acc: 0.9097 - val_loss: 0.4067 - val_acc: 0.9038\n",
            "Epoch 222/250\n",
            "184/184 [==============================] - 0s 2ms/step - loss: 0.3881 - acc: 0.9097 - val_loss: 0.4044 - val_acc: 0.9038\n",
            "Epoch 223/250\n",
            "184/184 [==============================] - 0s 2ms/step - loss: 0.3857 - acc: 0.9097 - val_loss: 0.4021 - val_acc: 0.9038\n",
            "Epoch 224/250\n",
            "184/184 [==============================] - 0s 2ms/step - loss: 0.3834 - acc: 0.9105 - val_loss: 0.3999 - val_acc: 0.9056\n",
            "Epoch 225/250\n",
            "184/184 [==============================] - 0s 2ms/step - loss: 0.3810 - acc: 0.9115 - val_loss: 0.3976 - val_acc: 0.9056\n",
            "Epoch 226/250\n",
            "184/184 [==============================] - 0s 2ms/step - loss: 0.3787 - acc: 0.9120 - val_loss: 0.3954 - val_acc: 0.9073\n",
            "Epoch 227/250\n",
            "184/184 [==============================] - 0s 2ms/step - loss: 0.3765 - acc: 0.9126 - val_loss: 0.3933 - val_acc: 0.9073\n",
            "Epoch 228/250\n",
            "184/184 [==============================] - 0s 2ms/step - loss: 0.3742 - acc: 0.9130 - val_loss: 0.3911 - val_acc: 0.9073\n",
            "Epoch 229/250\n",
            "184/184 [==============================] - 0s 2ms/step - loss: 0.3720 - acc: 0.9130 - val_loss: 0.3890 - val_acc: 0.9073\n",
            "Epoch 230/250\n",
            "184/184 [==============================] - 0s 2ms/step - loss: 0.3698 - acc: 0.9134 - val_loss: 0.3869 - val_acc: 0.9073\n",
            "Epoch 231/250\n",
            "184/184 [==============================] - 0s 2ms/step - loss: 0.3676 - acc: 0.9139 - val_loss: 0.3848 - val_acc: 0.9121\n",
            "Epoch 232/250\n",
            "184/184 [==============================] - 0s 2ms/step - loss: 0.3654 - acc: 0.9178 - val_loss: 0.3827 - val_acc: 0.9147\n",
            "Epoch 233/250\n",
            "184/184 [==============================] - 0s 2ms/step - loss: 0.3633 - acc: 0.9210 - val_loss: 0.3807 - val_acc: 0.9169\n",
            "Epoch 234/250\n",
            "184/184 [==============================] - 0s 2ms/step - loss: 0.3612 - acc: 0.9204 - val_loss: 0.3786 - val_acc: 0.9169\n",
            "Epoch 235/250\n",
            "184/184 [==============================] - 0s 2ms/step - loss: 0.3591 - acc: 0.9221 - val_loss: 0.3766 - val_acc: 0.9173\n",
            "Epoch 236/250\n",
            "184/184 [==============================] - 0s 2ms/step - loss: 0.3570 - acc: 0.9223 - val_loss: 0.3747 - val_acc: 0.9173\n",
            "Epoch 237/250\n",
            "184/184 [==============================] - 0s 2ms/step - loss: 0.3549 - acc: 0.9225 - val_loss: 0.3727 - val_acc: 0.9173\n",
            "Epoch 238/250\n",
            "184/184 [==============================] - 0s 2ms/step - loss: 0.3529 - acc: 0.9228 - val_loss: 0.3707 - val_acc: 0.9186\n",
            "Epoch 239/250\n",
            "184/184 [==============================] - 0s 2ms/step - loss: 0.3509 - acc: 0.9234 - val_loss: 0.3688 - val_acc: 0.9186\n",
            "Epoch 240/250\n",
            "184/184 [==============================] - 0s 2ms/step - loss: 0.3489 - acc: 0.9236 - val_loss: 0.3669 - val_acc: 0.9186\n",
            "Epoch 241/250\n",
            "184/184 [==============================] - 0s 2ms/step - loss: 0.3469 - acc: 0.9236 - val_loss: 0.3650 - val_acc: 0.9186\n",
            "Epoch 242/250\n",
            "184/184 [==============================] - 0s 2ms/step - loss: 0.3450 - acc: 0.9236 - val_loss: 0.3631 - val_acc: 0.9186\n",
            "Epoch 243/250\n",
            "184/184 [==============================] - 0s 2ms/step - loss: 0.3430 - acc: 0.9238 - val_loss: 0.3612 - val_acc: 0.9186\n",
            "Epoch 244/250\n",
            "184/184 [==============================] - 0s 2ms/step - loss: 0.3411 - acc: 0.9242 - val_loss: 0.3594 - val_acc: 0.9195\n",
            "Epoch 245/250\n",
            "184/184 [==============================] - 0s 2ms/step - loss: 0.3392 - acc: 0.9242 - val_loss: 0.3576 - val_acc: 0.9195\n",
            "Epoch 246/250\n",
            "184/184 [==============================] - 0s 2ms/step - loss: 0.3374 - acc: 0.9242 - val_loss: 0.3558 - val_acc: 0.9195\n",
            "Epoch 247/250\n",
            "184/184 [==============================] - 0s 2ms/step - loss: 0.3355 - acc: 0.9245 - val_loss: 0.3540 - val_acc: 0.9195\n",
            "Epoch 248/250\n",
            "184/184 [==============================] - 0s 2ms/step - loss: 0.3337 - acc: 0.9249 - val_loss: 0.3522 - val_acc: 0.9195\n",
            "Epoch 249/250\n",
            "184/184 [==============================] - 0s 2ms/step - loss: 0.3318 - acc: 0.9249 - val_loss: 0.3505 - val_acc: 0.9195\n",
            "Epoch 250/250\n",
            "184/184 [==============================] - 0s 2ms/step - loss: 0.3300 - acc: 0.9249 - val_loss: 0.3487 - val_acc: 0.9195\n",
            "<bound method Model.summary of <tensorflow.python.keras.engine.sequential.Sequential object at 0x7f73a1d61cf8>>\n",
            "Test Accuracy:\n",
            "2068/2068 [==============================] - 3s 2ms/step - loss: 0.3597 - acc: 0.9166\n",
            "Random Sample Accuracy:\n",
            "30/30 [==============================] - 0s 2ms/step - loss: 0.8288 - acc: 0.7393\n"
          ],
          "name": "stdout"
        },
        {
          "output_type": "display_data",
          "data": {
            "image/png": "[encoded data removed]",
            "text/plain": [
              "<Figure size 1080x432 with 2 Axes>"
            ]
          },
          "metadata": {
            "tags": [],
            "needs_background": "light"
          }
        }
      ]
    },
    {
      "cell_type": "code",
      "metadata": {
        "id": "H843Nzhp68kH"
      },
      "source": [
        "model5_params = {'activation 1': 'relu', \n",
        "                 'activation 2': 'relu', \n",
        "                 'activation 3': 'softmax', \n",
        "                 'opt': tf.keras.optimizers.SGD(learning_rate=0.001),\n",
        "                 'loss': 'categorical_crossentropy',\n",
        "                 'epochs': 270, \n",
        "                 'batch_size': 40, \n",
        "                 }"
      ],
      "execution_count": 114,
      "outputs": []
    },
    {
      "cell_type": "code",
      "metadata": {
        "colab": {
          "base_uri": "https://localhost:8080/",
          "height": 1000
        },
        "id": "zx-thXl37FTR",
        "outputId": "87c542a7-5411-4482-dbed-4c12a0bfd17c"
      },
      "source": [
        "model5_history, model5 = create_model(train, label_train, test, label_test, model5_params)"
      ],
      "execution_count": 115,
      "outputs": [
        {
          "output_type": "stream",
          "text": [
            "Epoch 1/270\n",
            "230/230 [==============================] - 1s 3ms/step - loss: 2.5702 - acc: 0.4050 - val_loss: 2.5196 - val_acc: 0.5109\n",
            "Epoch 2/270\n",
            "230/230 [==============================] - 0s 2ms/step - loss: 2.4643 - acc: 0.5251 - val_loss: 2.4135 - val_acc: 0.5231\n",
            "Epoch 3/270\n",
            "230/230 [==============================] - 1s 2ms/step - loss: 2.3541 - acc: 0.5258 - val_loss: 2.2997 - val_acc: 0.5231\n",
            "Epoch 4/270\n",
            "230/230 [==============================] - 1s 2ms/step - loss: 2.2316 - acc: 0.5258 - val_loss: 2.1715 - val_acc: 0.5231\n",
            "Epoch 5/270\n",
            "230/230 [==============================] - 1s 2ms/step - loss: 2.0981 - acc: 0.5258 - val_loss: 2.0377 - val_acc: 0.5231\n",
            "Epoch 6/270\n",
            "230/230 [==============================] - 1s 2ms/step - loss: 1.9640 - acc: 0.5258 - val_loss: 1.9088 - val_acc: 0.5231\n",
            "Epoch 7/270\n",
            "230/230 [==============================] - 1s 2ms/step - loss: 1.8422 - acc: 0.5258 - val_loss: 1.7998 - val_acc: 0.5231\n",
            "Epoch 8/270\n",
            "230/230 [==============================] - 0s 2ms/step - loss: 1.7467 - acc: 0.5258 - val_loss: 1.7205 - val_acc: 0.5231\n",
            "Epoch 9/270\n",
            "230/230 [==============================] - 0s 2ms/step - loss: 1.6809 - acc: 0.5258 - val_loss: 1.6683 - val_acc: 0.5231\n",
            "Epoch 10/270\n",
            "230/230 [==============================] - 1s 2ms/step - loss: 1.6377 - acc: 0.5258 - val_loss: 1.6333 - val_acc: 0.5231\n",
            "Epoch 11/270\n",
            "230/230 [==============================] - 0s 2ms/step - loss: 1.6078 - acc: 0.5258 - val_loss: 1.6075 - val_acc: 0.5231\n",
            "Epoch 12/270\n",
            "230/230 [==============================] - 1s 2ms/step - loss: 1.5844 - acc: 0.5258 - val_loss: 1.5860 - val_acc: 0.5231\n",
            "Epoch 13/270\n",
            "230/230 [==============================] - 1s 2ms/step - loss: 1.5641 - acc: 0.5258 - val_loss: 1.5667 - val_acc: 0.5231\n",
            "Epoch 14/270\n",
            "230/230 [==============================] - 0s 2ms/step - loss: 1.5457 - acc: 0.5258 - val_loss: 1.5487 - val_acc: 0.5231\n",
            "Epoch 15/270\n",
            "230/230 [==============================] - 1s 2ms/step - loss: 1.5283 - acc: 0.5258 - val_loss: 1.5316 - val_acc: 0.5231\n",
            "Epoch 16/270\n",
            "230/230 [==============================] - 1s 2ms/step - loss: 1.5118 - acc: 0.5258 - val_loss: 1.5154 - val_acc: 0.5231\n",
            "Epoch 17/270\n",
            "230/230 [==============================] - 1s 2ms/step - loss: 1.4960 - acc: 0.5258 - val_loss: 1.4999 - val_acc: 0.5231\n",
            "Epoch 18/270\n",
            "230/230 [==============================] - 0s 2ms/step - loss: 1.4810 - acc: 0.5258 - val_loss: 1.4850 - val_acc: 0.5231\n",
            "Epoch 19/270\n",
            "230/230 [==============================] - 0s 2ms/step - loss: 1.4664 - acc: 0.5258 - val_loss: 1.4704 - val_acc: 0.5231\n",
            "Epoch 20/270\n",
            "230/230 [==============================] - 1s 2ms/step - loss: 1.4521 - acc: 0.5258 - val_loss: 1.4561 - val_acc: 0.5231\n",
            "Epoch 21/270\n",
            "230/230 [==============================] - 1s 2ms/step - loss: 1.4380 - acc: 0.5258 - val_loss: 1.4421 - val_acc: 0.5231\n",
            "Epoch 22/270\n",
            "230/230 [==============================] - 0s 2ms/step - loss: 1.4245 - acc: 0.5258 - val_loss: 1.4287 - val_acc: 0.5231\n",
            "Epoch 23/270\n",
            "230/230 [==============================] - 1s 2ms/step - loss: 1.4114 - acc: 0.5258 - val_loss: 1.4156 - val_acc: 0.5231\n",
            "Epoch 24/270\n",
            "230/230 [==============================] - 1s 2ms/step - loss: 1.3987 - acc: 0.5258 - val_loss: 1.4031 - val_acc: 0.5231\n",
            "Epoch 25/270\n",
            "230/230 [==============================] - 1s 2ms/step - loss: 1.3864 - acc: 0.5258 - val_loss: 1.3909 - val_acc: 0.5231\n",
            "Epoch 26/270\n",
            "230/230 [==============================] - 1s 2ms/step - loss: 1.3745 - acc: 0.5258 - val_loss: 1.3790 - val_acc: 0.5231\n",
            "Epoch 27/270\n",
            "230/230 [==============================] - 0s 2ms/step - loss: 1.3628 - acc: 0.5258 - val_loss: 1.3673 - val_acc: 0.5231\n",
            "Epoch 28/270\n",
            "230/230 [==============================] - 0s 2ms/step - loss: 1.3514 - acc: 0.5258 - val_loss: 1.3558 - val_acc: 0.5231\n",
            "Epoch 29/270\n",
            "230/230 [==============================] - 1s 2ms/step - loss: 1.3401 - acc: 0.5258 - val_loss: 1.3445 - val_acc: 0.5231\n",
            "Epoch 30/270\n",
            "230/230 [==============================] - 1s 2ms/step - loss: 1.3290 - acc: 0.5258 - val_loss: 1.3334 - val_acc: 0.5231\n",
            "Epoch 31/270\n",
            "230/230 [==============================] - 1s 2ms/step - loss: 1.3181 - acc: 0.5258 - val_loss: 1.3225 - val_acc: 0.5231\n",
            "Epoch 32/270\n",
            "230/230 [==============================] - 0s 2ms/step - loss: 1.3074 - acc: 0.5258 - val_loss: 1.3118 - val_acc: 0.5231\n",
            "Epoch 33/270\n",
            "230/230 [==============================] - 1s 2ms/step - loss: 1.2968 - acc: 0.5258 - val_loss: 1.3011 - val_acc: 0.5231\n",
            "Epoch 34/270\n",
            "230/230 [==============================] - 0s 2ms/step - loss: 1.2863 - acc: 0.5258 - val_loss: 1.2906 - val_acc: 0.5231\n",
            "Epoch 35/270\n",
            "230/230 [==============================] - 1s 2ms/step - loss: 1.2760 - acc: 0.5258 - val_loss: 1.2801 - val_acc: 0.5231\n",
            "Epoch 36/270\n",
            "230/230 [==============================] - 1s 2ms/step - loss: 1.2658 - acc: 0.5258 - val_loss: 1.2699 - val_acc: 0.5231\n",
            "Epoch 37/270\n",
            "230/230 [==============================] - 1s 2ms/step - loss: 1.2558 - acc: 0.5258 - val_loss: 1.2598 - val_acc: 0.5231\n",
            "Epoch 38/270\n",
            "230/230 [==============================] - 1s 2ms/step - loss: 1.2460 - acc: 0.5258 - val_loss: 1.2500 - val_acc: 0.5231\n",
            "Epoch 39/270\n",
            "230/230 [==============================] - 1s 2ms/step - loss: 1.2365 - acc: 0.5258 - val_loss: 1.2404 - val_acc: 0.5231\n",
            "Epoch 40/270\n",
            "230/230 [==============================] - 1s 2ms/step - loss: 1.2271 - acc: 0.5258 - val_loss: 1.2310 - val_acc: 0.5231\n",
            "Epoch 41/270\n",
            "230/230 [==============================] - 1s 2ms/step - loss: 1.2178 - acc: 0.5336 - val_loss: 1.2216 - val_acc: 0.5418\n",
            "Epoch 42/270\n",
            "230/230 [==============================] - 1s 2ms/step - loss: 1.2087 - acc: 0.5481 - val_loss: 1.2125 - val_acc: 0.5418\n",
            "Epoch 43/270\n",
            "230/230 [==============================] - 1s 2ms/step - loss: 1.1998 - acc: 0.5481 - val_loss: 1.2035 - val_acc: 0.5418\n",
            "Epoch 44/270\n",
            "230/230 [==============================] - 1s 2ms/step - loss: 1.1909 - acc: 0.5481 - val_loss: 1.1946 - val_acc: 0.5418\n",
            "Epoch 45/270\n",
            "230/230 [==============================] - 1s 2ms/step - loss: 1.1822 - acc: 0.5734 - val_loss: 1.1858 - val_acc: 0.5766\n",
            "Epoch 46/270\n",
            "230/230 [==============================] - 1s 2ms/step - loss: 1.1736 - acc: 0.5796 - val_loss: 1.1772 - val_acc: 0.5805\n",
            "Epoch 47/270\n",
            "230/230 [==============================] - 1s 2ms/step - loss: 1.1652 - acc: 0.5824 - val_loss: 1.1687 - val_acc: 0.5796\n",
            "Epoch 48/270\n",
            "230/230 [==============================] - 1s 2ms/step - loss: 1.1569 - acc: 0.5929 - val_loss: 1.1603 - val_acc: 0.5918\n",
            "Epoch 49/270\n",
            "230/230 [==============================] - 1s 2ms/step - loss: 1.1486 - acc: 0.5961 - val_loss: 1.1520 - val_acc: 0.5927\n",
            "Epoch 50/270\n",
            "230/230 [==============================] - 1s 2ms/step - loss: 1.1406 - acc: 0.5971 - val_loss: 1.1439 - val_acc: 0.5927\n",
            "Epoch 51/270\n",
            "230/230 [==============================] - 1s 2ms/step - loss: 1.1326 - acc: 0.6104 - val_loss: 1.1359 - val_acc: 0.6088\n",
            "Epoch 52/270\n",
            "230/230 [==============================] - 1s 2ms/step - loss: 1.1248 - acc: 0.6137 - val_loss: 1.1280 - val_acc: 0.6088\n",
            "Epoch 53/270\n",
            "230/230 [==============================] - 1s 2ms/step - loss: 1.1171 - acc: 0.6157 - val_loss: 1.1203 - val_acc: 0.6131\n",
            "Epoch 54/270\n",
            "230/230 [==============================] - 1s 2ms/step - loss: 1.1096 - acc: 0.6216 - val_loss: 1.1127 - val_acc: 0.6236\n",
            "Epoch 55/270\n",
            "230/230 [==============================] - 0s 2ms/step - loss: 1.1021 - acc: 0.6311 - val_loss: 1.1052 - val_acc: 0.6305\n",
            "Epoch 56/270\n",
            "230/230 [==============================] - 1s 2ms/step - loss: 1.0947 - acc: 0.6372 - val_loss: 1.0978 - val_acc: 0.6384\n",
            "Epoch 57/270\n",
            "230/230 [==============================] - 1s 2ms/step - loss: 1.0875 - acc: 0.6429 - val_loss: 1.0905 - val_acc: 0.6453\n",
            "Epoch 58/270\n",
            "230/230 [==============================] - 1s 2ms/step - loss: 1.0803 - acc: 0.6473 - val_loss: 1.0833 - val_acc: 0.6488\n",
            "Epoch 59/270\n",
            "230/230 [==============================] - 0s 2ms/step - loss: 1.0732 - acc: 0.6580 - val_loss: 1.0762 - val_acc: 0.6580\n",
            "Epoch 60/270\n",
            "230/230 [==============================] - 1s 2ms/step - loss: 1.0663 - acc: 0.6585 - val_loss: 1.0692 - val_acc: 0.6619\n",
            "Epoch 61/270\n",
            "230/230 [==============================] - 0s 2ms/step - loss: 1.0594 - acc: 0.6628 - val_loss: 1.0623 - val_acc: 0.6645\n",
            "Epoch 62/270\n",
            "230/230 [==============================] - 0s 2ms/step - loss: 1.0526 - acc: 0.6662 - val_loss: 1.0555 - val_acc: 0.6645\n",
            "Epoch 63/270\n",
            "230/230 [==============================] - 1s 2ms/step - loss: 1.0460 - acc: 0.6715 - val_loss: 1.0488 - val_acc: 0.6732\n",
            "Epoch 64/270\n",
            "230/230 [==============================] - 0s 2ms/step - loss: 1.0394 - acc: 0.6734 - val_loss: 1.0422 - val_acc: 0.6736\n",
            "Epoch 65/270\n",
            "230/230 [==============================] - 0s 2ms/step - loss: 1.0329 - acc: 0.6739 - val_loss: 1.0357 - val_acc: 0.6745\n",
            "Epoch 66/270\n",
            "230/230 [==============================] - 0s 2ms/step - loss: 1.0264 - acc: 0.6741 - val_loss: 1.0292 - val_acc: 0.6745\n",
            "Epoch 67/270\n",
            "230/230 [==============================] - 0s 2ms/step - loss: 1.0201 - acc: 0.6806 - val_loss: 1.0228 - val_acc: 0.6823\n",
            "Epoch 68/270\n",
            "230/230 [==============================] - 1s 2ms/step - loss: 1.0139 - acc: 0.6813 - val_loss: 1.0165 - val_acc: 0.6823\n",
            "Epoch 69/270\n",
            "230/230 [==============================] - 0s 2ms/step - loss: 1.0077 - acc: 0.6820 - val_loss: 1.0103 - val_acc: 0.6828\n",
            "Epoch 70/270\n",
            "230/230 [==============================] - 0s 2ms/step - loss: 1.0016 - acc: 0.6821 - val_loss: 1.0042 - val_acc: 0.6828\n",
            "Epoch 71/270\n",
            "230/230 [==============================] - 1s 2ms/step - loss: 0.9955 - acc: 0.6827 - val_loss: 0.9981 - val_acc: 0.6828\n",
            "Epoch 72/270\n",
            "230/230 [==============================] - 1s 2ms/step - loss: 0.9896 - acc: 0.6834 - val_loss: 0.9921 - val_acc: 0.6828\n",
            "Epoch 73/270\n",
            "230/230 [==============================] - 1s 2ms/step - loss: 0.9837 - acc: 0.6833 - val_loss: 0.9862 - val_acc: 0.6815\n",
            "Epoch 74/270\n",
            "230/230 [==============================] - 0s 2ms/step - loss: 0.9779 - acc: 0.6861 - val_loss: 0.9804 - val_acc: 0.6858\n",
            "Epoch 75/270\n",
            "230/230 [==============================] - 1s 2ms/step - loss: 0.9722 - acc: 0.6865 - val_loss: 0.9746 - val_acc: 0.6858\n",
            "Epoch 76/270\n",
            "230/230 [==============================] - 1s 2ms/step - loss: 0.9664 - acc: 0.6865 - val_loss: 0.9688 - val_acc: 0.6858\n",
            "Epoch 77/270\n",
            "230/230 [==============================] - 1s 2ms/step - loss: 0.9607 - acc: 0.6872 - val_loss: 0.9630 - val_acc: 0.7180\n",
            "Epoch 78/270\n",
            "230/230 [==============================] - 0s 2ms/step - loss: 0.9551 - acc: 0.7121 - val_loss: 0.9573 - val_acc: 0.7171\n",
            "Epoch 79/270\n",
            "230/230 [==============================] - 1s 2ms/step - loss: 0.9495 - acc: 0.7120 - val_loss: 0.9517 - val_acc: 0.7171\n",
            "Epoch 80/270\n",
            "230/230 [==============================] - 1s 2ms/step - loss: 0.9439 - acc: 0.7120 - val_loss: 0.9461 - val_acc: 0.7171\n",
            "Epoch 81/270\n",
            "230/230 [==============================] - 1s 2ms/step - loss: 0.9384 - acc: 0.7120 - val_loss: 0.9405 - val_acc: 0.7171\n",
            "Epoch 82/270\n",
            "230/230 [==============================] - 1s 2ms/step - loss: 0.9329 - acc: 0.7120 - val_loss: 0.9349 - val_acc: 0.7171\n",
            "Epoch 83/270\n",
            "230/230 [==============================] - 1s 2ms/step - loss: 0.9274 - acc: 0.7120 - val_loss: 0.9294 - val_acc: 0.7171\n",
            "Epoch 84/270\n",
            "230/230 [==============================] - 0s 2ms/step - loss: 0.9219 - acc: 0.7120 - val_loss: 0.9239 - val_acc: 0.7171\n",
            "Epoch 85/270\n",
            "230/230 [==============================] - 0s 2ms/step - loss: 0.9165 - acc: 0.7120 - val_loss: 0.9185 - val_acc: 0.7171\n",
            "Epoch 86/270\n",
            "230/230 [==============================] - 1s 2ms/step - loss: 0.9112 - acc: 0.7120 - val_loss: 0.9131 - val_acc: 0.7171\n",
            "Epoch 87/270\n",
            "230/230 [==============================] - 1s 2ms/step - loss: 0.9058 - acc: 0.7130 - val_loss: 0.9077 - val_acc: 0.7198\n",
            "Epoch 88/270\n",
            "230/230 [==============================] - 1s 2ms/step - loss: 0.9005 - acc: 0.7165 - val_loss: 0.9024 - val_acc: 0.7206\n",
            "Epoch 89/270\n",
            "230/230 [==============================] - 1s 2ms/step - loss: 0.8952 - acc: 0.7202 - val_loss: 0.8970 - val_acc: 0.7232\n",
            "Epoch 90/270\n",
            "230/230 [==============================] - 0s 2ms/step - loss: 0.8899 - acc: 0.7222 - val_loss: 0.8916 - val_acc: 0.7298\n",
            "Epoch 91/270\n",
            "230/230 [==============================] - 1s 2ms/step - loss: 0.8845 - acc: 0.7247 - val_loss: 0.8863 - val_acc: 0.7298\n",
            "Epoch 92/270\n",
            "230/230 [==============================] - 0s 2ms/step - loss: 0.8793 - acc: 0.7247 - val_loss: 0.8810 - val_acc: 0.7298\n",
            "Epoch 93/270\n",
            "230/230 [==============================] - 0s 2ms/step - loss: 0.8740 - acc: 0.7295 - val_loss: 0.8757 - val_acc: 0.7372\n",
            "Epoch 94/270\n",
            "230/230 [==============================] - 1s 2ms/step - loss: 0.8688 - acc: 0.7308 - val_loss: 0.8705 - val_acc: 0.7372\n",
            "Epoch 95/270\n",
            "230/230 [==============================] - 1s 2ms/step - loss: 0.8636 - acc: 0.7308 - val_loss: 0.8652 - val_acc: 0.7372\n",
            "Epoch 96/270\n",
            "230/230 [==============================] - 0s 2ms/step - loss: 0.8584 - acc: 0.7328 - val_loss: 0.8600 - val_acc: 0.7419\n",
            "Epoch 97/270\n",
            "230/230 [==============================] - 1s 2ms/step - loss: 0.8532 - acc: 0.7369 - val_loss: 0.8547 - val_acc: 0.7446\n",
            "Epoch 98/270\n",
            "230/230 [==============================] - 1s 2ms/step - loss: 0.8481 - acc: 0.7418 - val_loss: 0.8495 - val_acc: 0.7480\n",
            "Epoch 99/270\n",
            "230/230 [==============================] - 1s 2ms/step - loss: 0.8429 - acc: 0.7450 - val_loss: 0.8443 - val_acc: 0.7511\n",
            "Epoch 100/270\n",
            "230/230 [==============================] - 1s 2ms/step - loss: 0.8378 - acc: 0.7465 - val_loss: 0.8391 - val_acc: 0.7511\n",
            "Epoch 101/270\n",
            "230/230 [==============================] - 1s 2ms/step - loss: 0.8326 - acc: 0.7476 - val_loss: 0.8339 - val_acc: 0.7511\n",
            "Epoch 102/270\n",
            "230/230 [==============================] - 0s 2ms/step - loss: 0.8274 - acc: 0.7478 - val_loss: 0.8286 - val_acc: 0.7511\n",
            "Epoch 103/270\n",
            "230/230 [==============================] - 1s 2ms/step - loss: 0.8222 - acc: 0.7517 - val_loss: 0.8234 - val_acc: 0.7559\n",
            "Epoch 104/270\n",
            "230/230 [==============================] - 1s 2ms/step - loss: 0.8170 - acc: 0.7538 - val_loss: 0.8182 - val_acc: 0.7559\n",
            "Epoch 105/270\n",
            "230/230 [==============================] - 1s 2ms/step - loss: 0.8118 - acc: 0.7567 - val_loss: 0.8129 - val_acc: 0.7615\n",
            "Epoch 106/270\n",
            "230/230 [==============================] - 1s 2ms/step - loss: 0.8067 - acc: 0.7585 - val_loss: 0.8077 - val_acc: 0.7615\n",
            "Epoch 107/270\n",
            "230/230 [==============================] - 1s 2ms/step - loss: 0.8015 - acc: 0.7588 - val_loss: 0.8025 - val_acc: 0.7615\n",
            "Epoch 108/270\n",
            "230/230 [==============================] - 1s 2ms/step - loss: 0.7963 - acc: 0.7597 - val_loss: 0.7972 - val_acc: 0.7637\n",
            "Epoch 109/270\n",
            "230/230 [==============================] - 1s 2ms/step - loss: 0.7911 - acc: 0.7612 - val_loss: 0.7919 - val_acc: 0.7637\n",
            "Epoch 110/270\n",
            "230/230 [==============================] - 0s 2ms/step - loss: 0.7859 - acc: 0.7615 - val_loss: 0.7867 - val_acc: 0.7641\n",
            "Epoch 111/270\n",
            "230/230 [==============================] - 1s 2ms/step - loss: 0.7807 - acc: 0.7615 - val_loss: 0.7814 - val_acc: 0.7641\n",
            "Epoch 112/270\n",
            "230/230 [==============================] - 1s 2ms/step - loss: 0.7755 - acc: 0.7615 - val_loss: 0.7761 - val_acc: 0.7641\n",
            "Epoch 113/270\n",
            "230/230 [==============================] - 1s 2ms/step - loss: 0.7703 - acc: 0.7619 - val_loss: 0.7709 - val_acc: 0.7654\n",
            "Epoch 114/270\n",
            "230/230 [==============================] - 1s 2ms/step - loss: 0.7651 - acc: 0.7652 - val_loss: 0.7657 - val_acc: 0.7689\n",
            "Epoch 115/270\n",
            "230/230 [==============================] - 1s 2ms/step - loss: 0.7599 - acc: 0.7682 - val_loss: 0.7604 - val_acc: 0.7707\n",
            "Epoch 116/270\n",
            "230/230 [==============================] - 1s 2ms/step - loss: 0.7547 - acc: 0.7709 - val_loss: 0.7552 - val_acc: 0.7707\n",
            "Epoch 117/270\n",
            "230/230 [==============================] - 1s 2ms/step - loss: 0.7495 - acc: 0.7709 - val_loss: 0.7500 - val_acc: 0.7707\n",
            "Epoch 118/270\n",
            "230/230 [==============================] - 1s 2ms/step - loss: 0.7443 - acc: 0.7710 - val_loss: 0.7448 - val_acc: 0.7707\n",
            "Epoch 119/270\n",
            "230/230 [==============================] - 1s 2ms/step - loss: 0.7391 - acc: 0.7754 - val_loss: 0.7396 - val_acc: 0.7750\n",
            "Epoch 120/270\n",
            "230/230 [==============================] - 1s 2ms/step - loss: 0.7340 - acc: 0.7757 - val_loss: 0.7344 - val_acc: 0.7750\n",
            "Epoch 121/270\n",
            "230/230 [==============================] - 1s 2ms/step - loss: 0.7288 - acc: 0.7767 - val_loss: 0.7292 - val_acc: 0.7772\n",
            "Epoch 122/270\n",
            "230/230 [==============================] - 1s 2ms/step - loss: 0.7237 - acc: 0.7781 - val_loss: 0.7241 - val_acc: 0.7776\n",
            "Epoch 123/270\n",
            "230/230 [==============================] - 1s 2ms/step - loss: 0.7186 - acc: 0.7794 - val_loss: 0.7189 - val_acc: 0.7776\n",
            "Epoch 124/270\n",
            "230/230 [==============================] - 1s 2ms/step - loss: 0.7134 - acc: 0.7805 - val_loss: 0.7138 - val_acc: 0.7798\n",
            "Epoch 125/270\n",
            "230/230 [==============================] - 1s 2ms/step - loss: 0.7083 - acc: 0.7869 - val_loss: 0.7087 - val_acc: 0.7959\n",
            "Epoch 126/270\n",
            "230/230 [==============================] - 1s 2ms/step - loss: 0.7032 - acc: 0.7951 - val_loss: 0.7036 - val_acc: 0.7994\n",
            "Epoch 127/270\n",
            "230/230 [==============================] - 1s 2ms/step - loss: 0.6982 - acc: 0.7967 - val_loss: 0.6985 - val_acc: 0.8003\n",
            "Epoch 128/270\n",
            "230/230 [==============================] - 1s 2ms/step - loss: 0.6931 - acc: 0.7969 - val_loss: 0.6934 - val_acc: 0.8003\n",
            "Epoch 129/270\n",
            "230/230 [==============================] - 0s 2ms/step - loss: 0.6881 - acc: 0.7970 - val_loss: 0.6884 - val_acc: 0.8003\n",
            "Epoch 130/270\n",
            "230/230 [==============================] - 1s 2ms/step - loss: 0.6831 - acc: 0.7993 - val_loss: 0.6834 - val_acc: 0.8020\n",
            "Epoch 131/270\n",
            "230/230 [==============================] - 1s 2ms/step - loss: 0.6781 - acc: 0.8009 - val_loss: 0.6784 - val_acc: 0.8042\n",
            "Epoch 132/270\n",
            "230/230 [==============================] - 1s 2ms/step - loss: 0.6731 - acc: 0.8031 - val_loss: 0.6734 - val_acc: 0.8068\n",
            "Epoch 133/270\n",
            "230/230 [==============================] - 1s 2ms/step - loss: 0.6682 - acc: 0.8046 - val_loss: 0.6685 - val_acc: 0.8068\n",
            "Epoch 134/270\n",
            "230/230 [==============================] - 1s 2ms/step - loss: 0.6633 - acc: 0.8055 - val_loss: 0.6637 - val_acc: 0.8177\n",
            "Epoch 135/270\n",
            "230/230 [==============================] - 0s 2ms/step - loss: 0.6584 - acc: 0.8150 - val_loss: 0.6588 - val_acc: 0.8220\n",
            "Epoch 136/270\n",
            "230/230 [==============================] - 1s 2ms/step - loss: 0.6535 - acc: 0.8179 - val_loss: 0.6540 - val_acc: 0.8225\n",
            "Epoch 137/270\n",
            "230/230 [==============================] - 1s 2ms/step - loss: 0.6487 - acc: 0.8184 - val_loss: 0.6492 - val_acc: 0.8225\n",
            "Epoch 138/270\n",
            "230/230 [==============================] - 1s 2ms/step - loss: 0.6439 - acc: 0.8185 - val_loss: 0.6445 - val_acc: 0.8225\n",
            "Epoch 139/270\n",
            "230/230 [==============================] - 1s 2ms/step - loss: 0.6391 - acc: 0.8186 - val_loss: 0.6397 - val_acc: 0.8229\n",
            "Epoch 140/270\n",
            "230/230 [==============================] - 0s 2ms/step - loss: 0.6343 - acc: 0.8285 - val_loss: 0.6350 - val_acc: 0.8451\n",
            "Epoch 141/270\n",
            "230/230 [==============================] - 1s 2ms/step - loss: 0.6296 - acc: 0.8443 - val_loss: 0.6303 - val_acc: 0.8451\n",
            "Epoch 142/270\n",
            "230/230 [==============================] - 1s 2ms/step - loss: 0.6249 - acc: 0.8447 - val_loss: 0.6256 - val_acc: 0.8455\n",
            "Epoch 143/270\n",
            "230/230 [==============================] - 1s 2ms/step - loss: 0.6201 - acc: 0.8475 - val_loss: 0.6210 - val_acc: 0.8525\n",
            "Epoch 144/270\n",
            "230/230 [==============================] - 1s 2ms/step - loss: 0.6154 - acc: 0.8542 - val_loss: 0.6163 - val_acc: 0.8616\n",
            "Epoch 145/270\n",
            "230/230 [==============================] - 0s 2ms/step - loss: 0.6107 - acc: 0.8572 - val_loss: 0.6117 - val_acc: 0.8625\n",
            "Epoch 146/270\n",
            "230/230 [==============================] - 0s 2ms/step - loss: 0.6060 - acc: 0.8584 - val_loss: 0.6071 - val_acc: 0.8629\n",
            "Epoch 147/270\n",
            "230/230 [==============================] - 1s 2ms/step - loss: 0.6014 - acc: 0.8596 - val_loss: 0.6025 - val_acc: 0.8634\n",
            "Epoch 148/270\n",
            "230/230 [==============================] - 1s 2ms/step - loss: 0.5968 - acc: 0.8614 - val_loss: 0.5980 - val_acc: 0.8660\n",
            "Epoch 149/270\n",
            "230/230 [==============================] - 0s 2ms/step - loss: 0.5922 - acc: 0.8641 - val_loss: 0.5935 - val_acc: 0.8660\n",
            "Epoch 150/270\n",
            "230/230 [==============================] - 1s 2ms/step - loss: 0.5876 - acc: 0.8642 - val_loss: 0.5890 - val_acc: 0.8664\n",
            "Epoch 151/270\n",
            "230/230 [==============================] - 1s 2ms/step - loss: 0.5830 - acc: 0.8650 - val_loss: 0.5845 - val_acc: 0.8699\n",
            "Epoch 152/270\n",
            "230/230 [==============================] - 1s 2ms/step - loss: 0.5785 - acc: 0.8665 - val_loss: 0.5800 - val_acc: 0.8699\n",
            "Epoch 153/270\n",
            "230/230 [==============================] - 1s 2ms/step - loss: 0.5740 - acc: 0.8686 - val_loss: 0.5756 - val_acc: 0.8708\n",
            "Epoch 154/270\n",
            "230/230 [==============================] - 1s 2ms/step - loss: 0.5695 - acc: 0.8699 - val_loss: 0.5712 - val_acc: 0.8725\n",
            "Epoch 155/270\n",
            "230/230 [==============================] - 1s 2ms/step - loss: 0.5650 - acc: 0.8710 - val_loss: 0.5668 - val_acc: 0.8725\n",
            "Epoch 156/270\n",
            "230/230 [==============================] - 1s 2ms/step - loss: 0.5605 - acc: 0.8715 - val_loss: 0.5624 - val_acc: 0.8738\n",
            "Epoch 157/270\n",
            "230/230 [==============================] - 1s 2ms/step - loss: 0.5561 - acc: 0.8736 - val_loss: 0.5581 - val_acc: 0.8738\n",
            "Epoch 158/270\n",
            "230/230 [==============================] - 1s 2ms/step - loss: 0.5516 - acc: 0.8745 - val_loss: 0.5537 - val_acc: 0.8768\n",
            "Epoch 159/270\n",
            "230/230 [==============================] - 1s 2ms/step - loss: 0.5472 - acc: 0.8749 - val_loss: 0.5494 - val_acc: 0.8773\n",
            "Epoch 160/270\n",
            "230/230 [==============================] - 1s 2ms/step - loss: 0.5429 - acc: 0.8753 - val_loss: 0.5451 - val_acc: 0.8786\n",
            "Epoch 161/270\n",
            "230/230 [==============================] - 1s 2ms/step - loss: 0.5385 - acc: 0.8756 - val_loss: 0.5408 - val_acc: 0.8786\n",
            "Epoch 162/270\n",
            "230/230 [==============================] - 0s 2ms/step - loss: 0.5342 - acc: 0.8773 - val_loss: 0.5366 - val_acc: 0.8864\n",
            "Epoch 163/270\n",
            "230/230 [==============================] - 1s 2ms/step - loss: 0.5298 - acc: 0.8840 - val_loss: 0.5323 - val_acc: 0.8882\n",
            "Epoch 164/270\n",
            "230/230 [==============================] - 1s 2ms/step - loss: 0.5255 - acc: 0.8853 - val_loss: 0.5281 - val_acc: 0.8882\n",
            "Epoch 165/270\n",
            "230/230 [==============================] - 1s 2ms/step - loss: 0.5213 - acc: 0.8855 - val_loss: 0.5240 - val_acc: 0.8882\n",
            "Epoch 166/270\n",
            "230/230 [==============================] - 1s 2ms/step - loss: 0.5170 - acc: 0.8879 - val_loss: 0.5198 - val_acc: 0.8886\n",
            "Epoch 167/270\n",
            "230/230 [==============================] - 1s 2ms/step - loss: 0.5128 - acc: 0.8880 - val_loss: 0.5156 - val_acc: 0.8886\n",
            "Epoch 168/270\n",
            "230/230 [==============================] - 1s 2ms/step - loss: 0.5085 - acc: 0.8882 - val_loss: 0.5115 - val_acc: 0.8903\n",
            "Epoch 169/270\n",
            "230/230 [==============================] - 1s 2ms/step - loss: 0.5044 - acc: 0.8908 - val_loss: 0.5074 - val_acc: 0.8934\n",
            "Epoch 170/270\n",
            "230/230 [==============================] - 1s 3ms/step - loss: 0.5002 - acc: 0.8927 - val_loss: 0.5034 - val_acc: 0.8934\n",
            "Epoch 171/270\n",
            "230/230 [==============================] - 1s 3ms/step - loss: 0.4960 - acc: 0.8929 - val_loss: 0.4993 - val_acc: 0.8934\n",
            "Epoch 172/270\n",
            "230/230 [==============================] - 1s 3ms/step - loss: 0.4919 - acc: 0.8930 - val_loss: 0.4952 - val_acc: 0.8934\n",
            "Epoch 173/270\n",
            "230/230 [==============================] - 1s 3ms/step - loss: 0.4878 - acc: 0.8930 - val_loss: 0.4912 - val_acc: 0.8934\n",
            "Epoch 174/270\n",
            "230/230 [==============================] - 1s 3ms/step - loss: 0.4837 - acc: 0.8931 - val_loss: 0.4872 - val_acc: 0.8934\n",
            "Epoch 175/270\n",
            "230/230 [==============================] - 1s 3ms/step - loss: 0.4796 - acc: 0.8933 - val_loss: 0.4832 - val_acc: 0.8960\n",
            "Epoch 176/270\n",
            "230/230 [==============================] - 1s 3ms/step - loss: 0.4756 - acc: 0.8942 - val_loss: 0.4793 - val_acc: 0.8960\n",
            "Epoch 177/270\n",
            "230/230 [==============================] - 1s 3ms/step - loss: 0.4716 - acc: 0.8945 - val_loss: 0.4754 - val_acc: 0.8960\n",
            "Epoch 178/270\n",
            "230/230 [==============================] - 1s 3ms/step - loss: 0.4677 - acc: 0.8948 - val_loss: 0.4715 - val_acc: 0.8960\n",
            "Epoch 179/270\n",
            "230/230 [==============================] - 1s 3ms/step - loss: 0.4637 - acc: 0.8962 - val_loss: 0.4677 - val_acc: 0.8973\n",
            "Epoch 180/270\n",
            "230/230 [==============================] - 1s 3ms/step - loss: 0.4598 - acc: 0.8964 - val_loss: 0.4638 - val_acc: 0.8973\n",
            "Epoch 181/270\n",
            "230/230 [==============================] - 1s 3ms/step - loss: 0.4560 - acc: 0.8964 - val_loss: 0.4601 - val_acc: 0.8973\n",
            "Epoch 182/270\n",
            "230/230 [==============================] - 1s 3ms/step - loss: 0.4521 - acc: 0.8964 - val_loss: 0.4563 - val_acc: 0.8973\n",
            "Epoch 183/270\n",
            "230/230 [==============================] - 1s 3ms/step - loss: 0.4483 - acc: 0.8966 - val_loss: 0.4526 - val_acc: 0.8973\n",
            "Epoch 184/270\n",
            "230/230 [==============================] - 1s 3ms/step - loss: 0.4446 - acc: 0.8968 - val_loss: 0.4490 - val_acc: 0.9017\n",
            "Epoch 185/270\n",
            "230/230 [==============================] - 1s 3ms/step - loss: 0.4408 - acc: 0.9069 - val_loss: 0.4453 - val_acc: 0.9017\n",
            "Epoch 186/270\n",
            "230/230 [==============================] - 1s 3ms/step - loss: 0.4371 - acc: 0.9084 - val_loss: 0.4417 - val_acc: 0.9099\n",
            "Epoch 187/270\n",
            "230/230 [==============================] - 1s 2ms/step - loss: 0.4335 - acc: 0.9139 - val_loss: 0.4381 - val_acc: 0.9099\n",
            "Epoch 188/270\n",
            "230/230 [==============================] - 0s 2ms/step - loss: 0.4298 - acc: 0.9143 - val_loss: 0.4345 - val_acc: 0.9099\n",
            "Epoch 189/270\n",
            "230/230 [==============================] - 1s 2ms/step - loss: 0.4262 - acc: 0.9143 - val_loss: 0.4310 - val_acc: 0.9112\n",
            "Epoch 190/270\n",
            "230/230 [==============================] - 1s 2ms/step - loss: 0.4227 - acc: 0.9146 - val_loss: 0.4276 - val_acc: 0.9112\n",
            "Epoch 191/270\n",
            "230/230 [==============================] - 1s 2ms/step - loss: 0.4192 - acc: 0.9148 - val_loss: 0.4241 - val_acc: 0.9125\n",
            "Epoch 192/270\n",
            "230/230 [==============================] - 1s 2ms/step - loss: 0.4157 - acc: 0.9158 - val_loss: 0.4207 - val_acc: 0.9125\n",
            "Epoch 193/270\n",
            "230/230 [==============================] - 1s 2ms/step - loss: 0.4122 - acc: 0.9161 - val_loss: 0.4173 - val_acc: 0.9125\n",
            "Epoch 194/270\n",
            "230/230 [==============================] - 1s 2ms/step - loss: 0.4088 - acc: 0.9162 - val_loss: 0.4140 - val_acc: 0.9125\n",
            "Epoch 195/270\n",
            "230/230 [==============================] - 1s 2ms/step - loss: 0.4055 - acc: 0.9161 - val_loss: 0.4107 - val_acc: 0.9125\n",
            "Epoch 196/270\n",
            "230/230 [==============================] - 1s 2ms/step - loss: 0.4021 - acc: 0.9163 - val_loss: 0.4075 - val_acc: 0.9134\n",
            "Epoch 197/270\n",
            "230/230 [==============================] - 1s 2ms/step - loss: 0.3988 - acc: 0.9167 - val_loss: 0.4043 - val_acc: 0.9134\n",
            "Epoch 198/270\n",
            "230/230 [==============================] - 1s 2ms/step - loss: 0.3956 - acc: 0.9174 - val_loss: 0.4011 - val_acc: 0.9147\n",
            "Epoch 199/270\n",
            "230/230 [==============================] - 1s 2ms/step - loss: 0.3924 - acc: 0.9174 - val_loss: 0.3980 - val_acc: 0.9160\n",
            "Epoch 200/270\n",
            "230/230 [==============================] - 1s 2ms/step - loss: 0.3892 - acc: 0.9191 - val_loss: 0.3948 - val_acc: 0.9160\n",
            "Epoch 201/270\n",
            "230/230 [==============================] - 1s 2ms/step - loss: 0.3860 - acc: 0.9191 - val_loss: 0.3918 - val_acc: 0.9160\n",
            "Epoch 202/270\n",
            "230/230 [==============================] - 1s 2ms/step - loss: 0.3829 - acc: 0.9197 - val_loss: 0.3887 - val_acc: 0.9169\n",
            "Epoch 203/270\n",
            "230/230 [==============================] - 1s 2ms/step - loss: 0.3798 - acc: 0.9200 - val_loss: 0.3857 - val_acc: 0.9186\n",
            "Epoch 204/270\n",
            "230/230 [==============================] - 1s 2ms/step - loss: 0.3768 - acc: 0.9211 - val_loss: 0.3828 - val_acc: 0.9282\n",
            "Epoch 205/270\n",
            "230/230 [==============================] - 1s 2ms/step - loss: 0.3738 - acc: 0.9283 - val_loss: 0.3799 - val_acc: 0.9282\n",
            "Epoch 206/270\n",
            "230/230 [==============================] - 1s 2ms/step - loss: 0.3708 - acc: 0.9293 - val_loss: 0.3769 - val_acc: 0.9299\n",
            "Epoch 207/270\n",
            "230/230 [==============================] - 1s 2ms/step - loss: 0.3679 - acc: 0.9297 - val_loss: 0.3741 - val_acc: 0.9299\n",
            "Epoch 208/270\n",
            "230/230 [==============================] - 1s 2ms/step - loss: 0.3650 - acc: 0.9299 - val_loss: 0.3713 - val_acc: 0.9304\n",
            "Epoch 209/270\n",
            "230/230 [==============================] - 1s 2ms/step - loss: 0.3621 - acc: 0.9298 - val_loss: 0.3685 - val_acc: 0.9308\n",
            "Epoch 210/270\n",
            "230/230 [==============================] - 1s 2ms/step - loss: 0.3593 - acc: 0.9300 - val_loss: 0.3657 - val_acc: 0.9308\n",
            "Epoch 211/270\n",
            "230/230 [==============================] - 0s 2ms/step - loss: 0.3565 - acc: 0.9301 - val_loss: 0.3630 - val_acc: 0.9308\n",
            "Epoch 212/270\n",
            "230/230 [==============================] - 1s 2ms/step - loss: 0.3538 - acc: 0.9301 - val_loss: 0.3603 - val_acc: 0.9308\n",
            "Epoch 213/270\n",
            "230/230 [==============================] - 1s 2ms/step - loss: 0.3511 - acc: 0.9306 - val_loss: 0.3577 - val_acc: 0.9326\n",
            "Epoch 214/270\n",
            "230/230 [==============================] - 1s 2ms/step - loss: 0.3484 - acc: 0.9307 - val_loss: 0.3551 - val_acc: 0.9326\n",
            "Epoch 215/270\n",
            "230/230 [==============================] - 1s 2ms/step - loss: 0.3457 - acc: 0.9311 - val_loss: 0.3525 - val_acc: 0.9326\n",
            "Epoch 216/270\n",
            "230/230 [==============================] - 1s 2ms/step - loss: 0.3431 - acc: 0.9311 - val_loss: 0.3499 - val_acc: 0.9343\n",
            "Epoch 217/270\n",
            "230/230 [==============================] - 1s 2ms/step - loss: 0.3405 - acc: 0.9320 - val_loss: 0.3474 - val_acc: 0.9343\n",
            "Epoch 218/270\n",
            "230/230 [==============================] - 1s 2ms/step - loss: 0.3380 - acc: 0.9322 - val_loss: 0.3449 - val_acc: 0.9343\n",
            "Epoch 219/270\n",
            "230/230 [==============================] - 0s 2ms/step - loss: 0.3354 - acc: 0.9322 - val_loss: 0.3424 - val_acc: 0.9343\n",
            "Epoch 220/270\n",
            "230/230 [==============================] - 1s 2ms/step - loss: 0.3329 - acc: 0.9326 - val_loss: 0.3400 - val_acc: 0.9343\n",
            "Epoch 221/270\n",
            "230/230 [==============================] - 0s 2ms/step - loss: 0.3305 - acc: 0.9327 - val_loss: 0.3376 - val_acc: 0.9343\n",
            "Epoch 222/270\n",
            "230/230 [==============================] - 1s 2ms/step - loss: 0.3280 - acc: 0.9327 - val_loss: 0.3352 - val_acc: 0.9343\n",
            "Epoch 223/270\n",
            "230/230 [==============================] - 1s 2ms/step - loss: 0.3256 - acc: 0.9327 - val_loss: 0.3329 - val_acc: 0.9343\n",
            "Epoch 224/270\n",
            "230/230 [==============================] - 1s 2ms/step - loss: 0.3233 - acc: 0.9327 - val_loss: 0.3306 - val_acc: 0.9343\n",
            "Epoch 225/270\n",
            "230/230 [==============================] - 1s 2ms/step - loss: 0.3209 - acc: 0.9327 - val_loss: 0.3283 - val_acc: 0.9343\n",
            "Epoch 226/270\n",
            "230/230 [==============================] - 1s 2ms/step - loss: 0.3186 - acc: 0.9328 - val_loss: 0.3260 - val_acc: 0.9343\n",
            "Epoch 227/270\n",
            "230/230 [==============================] - 1s 2ms/step - loss: 0.3163 - acc: 0.9328 - val_loss: 0.3238 - val_acc: 0.9343\n",
            "Epoch 228/270\n",
            "230/230 [==============================] - 1s 2ms/step - loss: 0.3141 - acc: 0.9328 - val_loss: 0.3216 - val_acc: 0.9343\n",
            "Epoch 229/270\n",
            "230/230 [==============================] - 1s 2ms/step - loss: 0.3118 - acc: 0.9328 - val_loss: 0.3194 - val_acc: 0.9343\n",
            "Epoch 230/270\n",
            "230/230 [==============================] - 0s 2ms/step - loss: 0.3096 - acc: 0.9328 - val_loss: 0.3173 - val_acc: 0.9343\n",
            "Epoch 231/270\n",
            "230/230 [==============================] - 1s 2ms/step - loss: 0.3075 - acc: 0.9335 - val_loss: 0.3151 - val_acc: 0.9343\n",
            "Epoch 232/270\n",
            "230/230 [==============================] - 1s 2ms/step - loss: 0.3053 - acc: 0.9343 - val_loss: 0.3130 - val_acc: 0.9378\n",
            "Epoch 233/270\n",
            "230/230 [==============================] - 1s 2ms/step - loss: 0.3032 - acc: 0.9362 - val_loss: 0.3109 - val_acc: 0.9378\n",
            "Epoch 234/270\n",
            "230/230 [==============================] - 1s 2ms/step - loss: 0.3011 - acc: 0.9367 - val_loss: 0.3089 - val_acc: 0.9378\n",
            "Epoch 235/270\n",
            "230/230 [==============================] - 1s 2ms/step - loss: 0.2990 - acc: 0.9365 - val_loss: 0.3069 - val_acc: 0.9378\n",
            "Epoch 236/270\n",
            "230/230 [==============================] - 1s 2ms/step - loss: 0.2970 - acc: 0.9369 - val_loss: 0.3049 - val_acc: 0.9378\n",
            "Epoch 237/270\n",
            "230/230 [==============================] - 1s 2ms/step - loss: 0.2950 - acc: 0.9369 - val_loss: 0.3029 - val_acc: 0.9378\n",
            "Epoch 238/270\n",
            "230/230 [==============================] - 1s 2ms/step - loss: 0.2930 - acc: 0.9371 - val_loss: 0.3010 - val_acc: 0.9378\n",
            "Epoch 239/270\n",
            "230/230 [==============================] - 1s 2ms/step - loss: 0.2910 - acc: 0.9375 - val_loss: 0.2991 - val_acc: 0.9378\n",
            "Epoch 240/270\n",
            "230/230 [==============================] - 1s 2ms/step - loss: 0.2891 - acc: 0.9377 - val_loss: 0.2972 - val_acc: 0.9386\n",
            "Epoch 241/270\n",
            "230/230 [==============================] - 1s 2ms/step - loss: 0.2872 - acc: 0.9385 - val_loss: 0.2953 - val_acc: 0.9395\n",
            "Epoch 242/270\n",
            "230/230 [==============================] - 0s 2ms/step - loss: 0.2853 - acc: 0.9387 - val_loss: 0.2935 - val_acc: 0.9395\n",
            "Epoch 243/270\n",
            "230/230 [==============================] - 1s 2ms/step - loss: 0.2834 - acc: 0.9392 - val_loss: 0.2917 - val_acc: 0.9408\n",
            "Epoch 244/270\n",
            "230/230 [==============================] - 1s 2ms/step - loss: 0.2816 - acc: 0.9400 - val_loss: 0.2899 - val_acc: 0.9417\n",
            "Epoch 245/270\n",
            "230/230 [==============================] - 1s 2ms/step - loss: 0.2798 - acc: 0.9405 - val_loss: 0.2881 - val_acc: 0.9417\n",
            "Epoch 246/270\n",
            "230/230 [==============================] - 1s 2ms/step - loss: 0.2780 - acc: 0.9405 - val_loss: 0.2863 - val_acc: 0.9417\n",
            "Epoch 247/270\n",
            "230/230 [==============================] - 1s 2ms/step - loss: 0.2762 - acc: 0.9406 - val_loss: 0.2846 - val_acc: 0.9430\n",
            "Epoch 248/270\n",
            "230/230 [==============================] - 1s 2ms/step - loss: 0.2744 - acc: 0.9410 - val_loss: 0.2829 - val_acc: 0.9434\n",
            "Epoch 249/270\n",
            "230/230 [==============================] - 1s 2ms/step - loss: 0.2727 - acc: 0.9418 - val_loss: 0.2812 - val_acc: 0.9434\n",
            "Epoch 250/270\n",
            "230/230 [==============================] - 1s 2ms/step - loss: 0.2710 - acc: 0.9421 - val_loss: 0.2795 - val_acc: 0.9439\n",
            "Epoch 251/270\n",
            "230/230 [==============================] - 1s 2ms/step - loss: 0.2693 - acc: 0.9422 - val_loss: 0.2779 - val_acc: 0.9439\n",
            "Epoch 252/270\n",
            "230/230 [==============================] - 1s 2ms/step - loss: 0.2676 - acc: 0.9428 - val_loss: 0.2762 - val_acc: 0.9439\n",
            "Epoch 253/270\n",
            "230/230 [==============================] - 1s 2ms/step - loss: 0.2660 - acc: 0.9441 - val_loss: 0.2746 - val_acc: 0.9447\n",
            "Epoch 254/270\n",
            "230/230 [==============================] - 1s 2ms/step - loss: 0.2643 - acc: 0.9450 - val_loss: 0.2730 - val_acc: 0.9447\n",
            "Epoch 255/270\n",
            "230/230 [==============================] - 0s 2ms/step - loss: 0.2627 - acc: 0.9461 - val_loss: 0.2714 - val_acc: 0.9456\n",
            "Epoch 256/270\n",
            "230/230 [==============================] - 1s 2ms/step - loss: 0.2611 - acc: 0.9465 - val_loss: 0.2698 - val_acc: 0.9456\n",
            "Epoch 257/270\n",
            "230/230 [==============================] - 1s 2ms/step - loss: 0.2596 - acc: 0.9465 - val_loss: 0.2683 - val_acc: 0.9456\n",
            "Epoch 258/270\n",
            "230/230 [==============================] - 1s 2ms/step - loss: 0.2580 - acc: 0.9465 - val_loss: 0.2668 - val_acc: 0.9469\n",
            "Epoch 259/270\n",
            "230/230 [==============================] - 0s 2ms/step - loss: 0.2565 - acc: 0.9469 - val_loss: 0.2653 - val_acc: 0.9469\n",
            "Epoch 260/270\n",
            "230/230 [==============================] - 1s 2ms/step - loss: 0.2549 - acc: 0.9470 - val_loss: 0.2638 - val_acc: 0.9469\n",
            "Epoch 261/270\n",
            "230/230 [==============================] - 1s 2ms/step - loss: 0.2534 - acc: 0.9470 - val_loss: 0.2623 - val_acc: 0.9469\n",
            "Epoch 262/270\n",
            "230/230 [==============================] - 1s 2ms/step - loss: 0.2519 - acc: 0.9480 - val_loss: 0.2609 - val_acc: 0.9482\n",
            "Epoch 263/270\n",
            "230/230 [==============================] - 1s 2ms/step - loss: 0.2505 - acc: 0.9482 - val_loss: 0.2595 - val_acc: 0.9495\n",
            "Epoch 264/270\n",
            "230/230 [==============================] - 1s 2ms/step - loss: 0.2490 - acc: 0.9487 - val_loss: 0.2580 - val_acc: 0.9495\n",
            "Epoch 265/270\n",
            "230/230 [==============================] - 1s 2ms/step - loss: 0.2476 - acc: 0.9496 - val_loss: 0.2566 - val_acc: 0.9495\n",
            "Epoch 266/270\n",
            "230/230 [==============================] - 1s 2ms/step - loss: 0.2462 - acc: 0.9499 - val_loss: 0.2552 - val_acc: 0.9495\n",
            "Epoch 267/270\n",
            "230/230 [==============================] - 1s 2ms/step - loss: 0.2447 - acc: 0.9502 - val_loss: 0.2538 - val_acc: 0.9495\n",
            "Epoch 268/270\n",
            "230/230 [==============================] - 1s 2ms/step - loss: 0.2434 - acc: 0.9503 - val_loss: 0.2525 - val_acc: 0.9508\n",
            "Epoch 269/270\n",
            "230/230 [==============================] - 0s 2ms/step - loss: 0.2420 - acc: 0.9506 - val_loss: 0.2511 - val_acc: 0.9508\n",
            "Epoch 270/270\n",
            "230/230 [==============================] - 1s 2ms/step - loss: 0.2406 - acc: 0.9509 - val_loss: 0.2498 - val_acc: 0.9508\n",
            "<bound method Model.summary of <tensorflow.python.keras.engine.sequential.Sequential object at 0x7f739027a470>>\n",
            "Test Accuracy:\n",
            "2585/2585 [==============================] - 4s 2ms/step - loss: 0.2650 - acc: 0.9416\n",
            "Random Sample Accuracy:\n",
            "38/38 [==============================] - 0s 2ms/step - loss: 0.8580 - acc: 0.7020\n"
          ],
          "name": "stdout"
        },
        {
          "output_type": "display_data",
          "data": {
            "image/png": "[encoded data removed]",
            "text/plain": [
              "<Figure size 1080x432 with 2 Axes>"
            ]
          },
          "metadata": {
            "tags": [],
            "needs_background": "light"
          }
        }
      ]
    },
    {
      "cell_type": "code",
      "metadata": {
        "id": "HN_AYIMG7RXp"
      },
      "source": [
        "model6_params = {'activation 1': 'relu', \n",
        "                 'activation 2': 'relu', \n",
        "                 'activation 3': 'softmax', \n",
        "                 'opt': tf.keras.optimizers.SGD(learning_rate=0.001),\n",
        "                 'loss': 'categorical_crossentropy',\n",
        "                 'epochs': 170, \n",
        "                 'batch_size': 30, \n",
        "                 }"
      ],
      "execution_count": 116,
      "outputs": []
    },
    {
      "cell_type": "code",
      "metadata": {
        "colab": {
          "base_uri": "https://localhost:8080/",
          "height": 1000
        },
        "id": "brxftL147ua1",
        "outputId": "a6c483bc-051c-411b-ce66-638d38191f0e"
      },
      "source": [
        "model6_history, model6 = create_model(train, label_train, test, label_test, model6_params)"
      ],
      "execution_count": 117,
      "outputs": [
        {
          "output_type": "stream",
          "text": [
            "Epoch 1/170\n",
            "307/307 [==============================] - 1s 2ms/step - loss: 2.5435 - acc: 0.4681 - val_loss: 2.4666 - val_acc: 0.5231\n",
            "Epoch 2/170\n",
            "307/307 [==============================] - 1s 2ms/step - loss: 2.3835 - acc: 0.5258 - val_loss: 2.2976 - val_acc: 0.5231\n",
            "Epoch 3/170\n",
            "307/307 [==============================] - 1s 2ms/step - loss: 2.2027 - acc: 0.5258 - val_loss: 2.1090 - val_acc: 0.5231\n",
            "Epoch 4/170\n",
            "307/307 [==============================] - 1s 2ms/step - loss: 2.0076 - acc: 0.5258 - val_loss: 1.9159 - val_acc: 0.5231\n",
            "Epoch 5/170\n",
            "307/307 [==============================] - 1s 2ms/step - loss: 1.8273 - acc: 0.5258 - val_loss: 1.7595 - val_acc: 0.5231\n",
            "Epoch 6/170\n",
            "307/307 [==============================] - 1s 2ms/step - loss: 1.7007 - acc: 0.5258 - val_loss: 1.6657 - val_acc: 0.5231\n",
            "Epoch 7/170\n",
            "307/307 [==============================] - 1s 2ms/step - loss: 1.6311 - acc: 0.5258 - val_loss: 1.6162 - val_acc: 0.5231\n",
            "Epoch 8/170\n",
            "307/307 [==============================] - 1s 2ms/step - loss: 1.5926 - acc: 0.5258 - val_loss: 1.5857 - val_acc: 0.5231\n",
            "Epoch 9/170\n",
            "307/307 [==============================] - 1s 2ms/step - loss: 1.5664 - acc: 0.5258 - val_loss: 1.5623 - val_acc: 0.5231\n",
            "Epoch 10/170\n",
            "307/307 [==============================] - 1s 2ms/step - loss: 1.5447 - acc: 0.5258 - val_loss: 1.5415 - val_acc: 0.5231\n",
            "Epoch 11/170\n",
            "307/307 [==============================] - 1s 2ms/step - loss: 1.5251 - acc: 0.5258 - val_loss: 1.5224 - val_acc: 0.5231\n",
            "Epoch 12/170\n",
            "307/307 [==============================] - 1s 2ms/step - loss: 1.5070 - acc: 0.5258 - val_loss: 1.5047 - val_acc: 0.5231\n",
            "Epoch 13/170\n",
            "307/307 [==============================] - 1s 2ms/step - loss: 1.4898 - acc: 0.5258 - val_loss: 1.4877 - val_acc: 0.5231\n",
            "Epoch 14/170\n",
            "307/307 [==============================] - 1s 2ms/step - loss: 1.4733 - acc: 0.5258 - val_loss: 1.4711 - val_acc: 0.5231\n",
            "Epoch 15/170\n",
            "307/307 [==============================] - 1s 2ms/step - loss: 1.4566 - acc: 0.5258 - val_loss: 1.4541 - val_acc: 0.5231\n",
            "Epoch 16/170\n",
            "307/307 [==============================] - 1s 2ms/step - loss: 1.4402 - acc: 0.5258 - val_loss: 1.4381 - val_acc: 0.5231\n",
            "Epoch 17/170\n",
            "307/307 [==============================] - 1s 2ms/step - loss: 1.4246 - acc: 0.5258 - val_loss: 1.4226 - val_acc: 0.5231\n",
            "Epoch 18/170\n",
            "307/307 [==============================] - 1s 2ms/step - loss: 1.4091 - acc: 0.5258 - val_loss: 1.4068 - val_acc: 0.5231\n",
            "Epoch 19/170\n",
            "307/307 [==============================] - 1s 2ms/step - loss: 1.3935 - acc: 0.5258 - val_loss: 1.3914 - val_acc: 0.5231\n",
            "Epoch 20/170\n",
            "307/307 [==============================] - 1s 2ms/step - loss: 1.3784 - acc: 0.5258 - val_loss: 1.3763 - val_acc: 0.5231\n",
            "Epoch 21/170\n",
            "307/307 [==============================] - 1s 2ms/step - loss: 1.3637 - acc: 0.5258 - val_loss: 1.3616 - val_acc: 0.5231\n",
            "Epoch 22/170\n",
            "307/307 [==============================] - 1s 2ms/step - loss: 1.3494 - acc: 0.5258 - val_loss: 1.3473 - val_acc: 0.5231\n",
            "Epoch 23/170\n",
            "307/307 [==============================] - 1s 2ms/step - loss: 1.3354 - acc: 0.5258 - val_loss: 1.3332 - val_acc: 0.5231\n",
            "Epoch 24/170\n",
            "307/307 [==============================] - 1s 2ms/step - loss: 1.3217 - acc: 0.5258 - val_loss: 1.3193 - val_acc: 0.5231\n",
            "Epoch 25/170\n",
            "307/307 [==============================] - 1s 2ms/step - loss: 1.3080 - acc: 0.5258 - val_loss: 1.3055 - val_acc: 0.5231\n",
            "Epoch 26/170\n",
            "307/307 [==============================] - 1s 2ms/step - loss: 1.2944 - acc: 0.5258 - val_loss: 1.2915 - val_acc: 0.5231\n",
            "Epoch 27/170\n",
            "307/307 [==============================] - 1s 2ms/step - loss: 1.2808 - acc: 0.5258 - val_loss: 1.2776 - val_acc: 0.5231\n",
            "Epoch 28/170\n",
            "307/307 [==============================] - 1s 2ms/step - loss: 1.2673 - acc: 0.5258 - val_loss: 1.2638 - val_acc: 0.5231\n",
            "Epoch 29/170\n",
            "307/307 [==============================] - 1s 2ms/step - loss: 1.2539 - acc: 0.5258 - val_loss: 1.2501 - val_acc: 0.5231\n",
            "Epoch 30/170\n",
            "307/307 [==============================] - 1s 2ms/step - loss: 1.2406 - acc: 0.5257 - val_loss: 1.2364 - val_acc: 0.5226\n",
            "Epoch 31/170\n",
            "307/307 [==============================] - 1s 2ms/step - loss: 1.2273 - acc: 0.5540 - val_loss: 1.2229 - val_acc: 0.5735\n",
            "Epoch 32/170\n",
            "307/307 [==============================] - 1s 2ms/step - loss: 1.2143 - acc: 0.5746 - val_loss: 1.2096 - val_acc: 0.5735\n",
            "Epoch 33/170\n",
            "307/307 [==============================] - 1s 2ms/step - loss: 1.2015 - acc: 0.5746 - val_loss: 1.1963 - val_acc: 0.5735\n",
            "Epoch 34/170\n",
            "307/307 [==============================] - 1s 2ms/step - loss: 1.1887 - acc: 0.5746 - val_loss: 1.1833 - val_acc: 0.5735\n",
            "Epoch 35/170\n",
            "307/307 [==============================] - 1s 2ms/step - loss: 1.1761 - acc: 0.5778 - val_loss: 1.1704 - val_acc: 0.5783\n",
            "Epoch 36/170\n",
            "307/307 [==============================] - 1s 2ms/step - loss: 1.1637 - acc: 0.5781 - val_loss: 1.1575 - val_acc: 0.5783\n",
            "Epoch 37/170\n",
            "307/307 [==============================] - 1s 2ms/step - loss: 1.1514 - acc: 0.5781 - val_loss: 1.1450 - val_acc: 0.5783\n",
            "Epoch 38/170\n",
            "307/307 [==============================] - 1s 2ms/step - loss: 1.1394 - acc: 0.5783 - val_loss: 1.1326 - val_acc: 0.5783\n",
            "Epoch 39/170\n",
            "307/307 [==============================] - 1s 2ms/step - loss: 1.1275 - acc: 0.5785 - val_loss: 1.1203 - val_acc: 0.5788\n",
            "Epoch 40/170\n",
            "307/307 [==============================] - 1s 2ms/step - loss: 1.1158 - acc: 0.5849 - val_loss: 1.1083 - val_acc: 0.5936\n",
            "Epoch 41/170\n",
            "307/307 [==============================] - 1s 2ms/step - loss: 1.1043 - acc: 0.5963 - val_loss: 1.0963 - val_acc: 0.5970\n",
            "Epoch 42/170\n",
            "307/307 [==============================] - 1s 2ms/step - loss: 1.0928 - acc: 0.6048 - val_loss: 1.0846 - val_acc: 0.6036\n",
            "Epoch 43/170\n",
            "307/307 [==============================] - 1s 2ms/step - loss: 1.0815 - acc: 0.6126 - val_loss: 1.0730 - val_acc: 0.6127\n",
            "Epoch 44/170\n",
            "307/307 [==============================] - 1s 2ms/step - loss: 1.0704 - acc: 0.6229 - val_loss: 1.0616 - val_acc: 0.6366\n",
            "Epoch 45/170\n",
            "307/307 [==============================] - 1s 2ms/step - loss: 1.0595 - acc: 0.6369 - val_loss: 1.0504 - val_acc: 0.6375\n",
            "Epoch 46/170\n",
            "307/307 [==============================] - 1s 2ms/step - loss: 1.0488 - acc: 0.6409 - val_loss: 1.0394 - val_acc: 0.6427\n",
            "Epoch 47/170\n",
            "307/307 [==============================] - 1s 2ms/step - loss: 1.0382 - acc: 0.6471 - val_loss: 1.0286 - val_acc: 0.6484\n",
            "Epoch 48/170\n",
            "307/307 [==============================] - 1s 2ms/step - loss: 1.0279 - acc: 0.6505 - val_loss: 1.0180 - val_acc: 0.6545\n",
            "Epoch 49/170\n",
            "307/307 [==============================] - 1s 2ms/step - loss: 1.0177 - acc: 0.6544 - val_loss: 1.0076 - val_acc: 0.6571\n",
            "Epoch 50/170\n",
            "307/307 [==============================] - 1s 2ms/step - loss: 1.0078 - acc: 0.6585 - val_loss: 0.9975 - val_acc: 0.6597\n",
            "Epoch 51/170\n",
            "307/307 [==============================] - 1s 2ms/step - loss: 0.9981 - acc: 0.6623 - val_loss: 0.9877 - val_acc: 0.6632\n",
            "Epoch 52/170\n",
            "307/307 [==============================] - 1s 2ms/step - loss: 0.9887 - acc: 0.6626 - val_loss: 0.9782 - val_acc: 0.6641\n",
            "Epoch 53/170\n",
            "307/307 [==============================] - 1s 2ms/step - loss: 0.9794 - acc: 0.6622 - val_loss: 0.9688 - val_acc: 0.6623\n",
            "Epoch 54/170\n",
            "307/307 [==============================] - 1s 2ms/step - loss: 0.9703 - acc: 0.6642 - val_loss: 0.9596 - val_acc: 0.6680\n",
            "Epoch 55/170\n",
            "307/307 [==============================] - 1s 2ms/step - loss: 0.9614 - acc: 0.6797 - val_loss: 0.9506 - val_acc: 0.6858\n",
            "Epoch 56/170\n",
            "307/307 [==============================] - 1s 2ms/step - loss: 0.9525 - acc: 0.6831 - val_loss: 0.9417 - val_acc: 0.6858\n",
            "Epoch 57/170\n",
            "307/307 [==============================] - 1s 2ms/step - loss: 0.9438 - acc: 0.6828 - val_loss: 0.9330 - val_acc: 0.6858\n",
            "Epoch 58/170\n",
            "307/307 [==============================] - 1s 2ms/step - loss: 0.9353 - acc: 0.6862 - val_loss: 0.9243 - val_acc: 0.7010\n",
            "Epoch 59/170\n",
            "307/307 [==============================] - 1s 2ms/step - loss: 0.9267 - acc: 0.6971 - val_loss: 0.9157 - val_acc: 0.7045\n",
            "Epoch 60/170\n",
            "307/307 [==============================] - 1s 2ms/step - loss: 0.9182 - acc: 0.7027 - val_loss: 0.9072 - val_acc: 0.7111\n",
            "Epoch 61/170\n",
            "307/307 [==============================] - 1s 2ms/step - loss: 0.9098 - acc: 0.7056 - val_loss: 0.8988 - val_acc: 0.7124\n",
            "Epoch 62/170\n",
            "307/307 [==============================] - 1s 2ms/step - loss: 0.9015 - acc: 0.7088 - val_loss: 0.8904 - val_acc: 0.7289\n",
            "Epoch 63/170\n",
            "307/307 [==============================] - 1s 2ms/step - loss: 0.8932 - acc: 0.7237 - val_loss: 0.8822 - val_acc: 0.7319\n",
            "Epoch 64/170\n",
            "307/307 [==============================] - 1s 2ms/step - loss: 0.8850 - acc: 0.7249 - val_loss: 0.8741 - val_acc: 0.7332\n",
            "Epoch 65/170\n",
            "307/307 [==============================] - 1s 2ms/step - loss: 0.8768 - acc: 0.7250 - val_loss: 0.8659 - val_acc: 0.7350\n",
            "Epoch 66/170\n",
            "307/307 [==============================] - 1s 2ms/step - loss: 0.8686 - acc: 0.7298 - val_loss: 0.8577 - val_acc: 0.7385\n",
            "Epoch 67/170\n",
            "307/307 [==============================] - 1s 2ms/step - loss: 0.8605 - acc: 0.7343 - val_loss: 0.8497 - val_acc: 0.7411\n",
            "Epoch 68/170\n",
            "307/307 [==============================] - 1s 2ms/step - loss: 0.8524 - acc: 0.7392 - val_loss: 0.8419 - val_acc: 0.7441\n",
            "Epoch 69/170\n",
            "307/307 [==============================] - 1s 2ms/step - loss: 0.8445 - acc: 0.7394 - val_loss: 0.8341 - val_acc: 0.7446\n",
            "Epoch 70/170\n",
            "307/307 [==============================] - 1s 2ms/step - loss: 0.8366 - acc: 0.7409 - val_loss: 0.8263 - val_acc: 0.7446\n",
            "Epoch 71/170\n",
            "307/307 [==============================] - 1s 2ms/step - loss: 0.8288 - acc: 0.7421 - val_loss: 0.8187 - val_acc: 0.7446\n",
            "Epoch 72/170\n",
            "307/307 [==============================] - 1s 2ms/step - loss: 0.8211 - acc: 0.7528 - val_loss: 0.8112 - val_acc: 0.7615\n",
            "Epoch 73/170\n",
            "307/307 [==============================] - 1s 2ms/step - loss: 0.8134 - acc: 0.7600 - val_loss: 0.8037 - val_acc: 0.7694\n",
            "Epoch 74/170\n",
            "307/307 [==============================] - 1s 2ms/step - loss: 0.8058 - acc: 0.7650 - val_loss: 0.7962 - val_acc: 0.7715\n",
            "Epoch 75/170\n",
            "307/307 [==============================] - 1s 2ms/step - loss: 0.7982 - acc: 0.7736 - val_loss: 0.7888 - val_acc: 0.7846\n",
            "Epoch 76/170\n",
            "307/307 [==============================] - 1s 2ms/step - loss: 0.7906 - acc: 0.7770 - val_loss: 0.7814 - val_acc: 0.7872\n",
            "Epoch 77/170\n",
            "307/307 [==============================] - 1s 2ms/step - loss: 0.7831 - acc: 0.7783 - val_loss: 0.7741 - val_acc: 0.7876\n",
            "Epoch 78/170\n",
            "307/307 [==============================] - 1s 2ms/step - loss: 0.7756 - acc: 0.7787 - val_loss: 0.7668 - val_acc: 0.7876\n",
            "Epoch 79/170\n",
            "307/307 [==============================] - 1s 2ms/step - loss: 0.7681 - acc: 0.7821 - val_loss: 0.7595 - val_acc: 0.7889\n",
            "Epoch 80/170\n",
            "307/307 [==============================] - 1s 2ms/step - loss: 0.7607 - acc: 0.7840 - val_loss: 0.7523 - val_acc: 0.7889\n",
            "Epoch 81/170\n",
            "307/307 [==============================] - 1s 2ms/step - loss: 0.7533 - acc: 0.7849 - val_loss: 0.7451 - val_acc: 0.7933\n",
            "Epoch 82/170\n",
            "307/307 [==============================] - 1s 2ms/step - loss: 0.7459 - acc: 0.7976 - val_loss: 0.7379 - val_acc: 0.8050\n",
            "Epoch 83/170\n",
            "307/307 [==============================] - 1s 2ms/step - loss: 0.7385 - acc: 0.8047 - val_loss: 0.7308 - val_acc: 0.8124\n",
            "Epoch 84/170\n",
            "307/307 [==============================] - 1s 2ms/step - loss: 0.7312 - acc: 0.8144 - val_loss: 0.7237 - val_acc: 0.8151\n",
            "Epoch 85/170\n",
            "307/307 [==============================] - 1s 2ms/step - loss: 0.7239 - acc: 0.8189 - val_loss: 0.7166 - val_acc: 0.8190\n",
            "Epoch 86/170\n",
            "307/307 [==============================] - 1s 2ms/step - loss: 0.7166 - acc: 0.8216 - val_loss: 0.7096 - val_acc: 0.8190\n",
            "Epoch 87/170\n",
            "307/307 [==============================] - 1s 2ms/step - loss: 0.7094 - acc: 0.8222 - val_loss: 0.7026 - val_acc: 0.8225\n",
            "Epoch 88/170\n",
            "307/307 [==============================] - 1s 2ms/step - loss: 0.7022 - acc: 0.8253 - val_loss: 0.6956 - val_acc: 0.8233\n",
            "Epoch 89/170\n",
            "307/307 [==============================] - 1s 2ms/step - loss: 0.6950 - acc: 0.8256 - val_loss: 0.6887 - val_acc: 0.8233\n",
            "Epoch 90/170\n",
            "307/307 [==============================] - 1s 2ms/step - loss: 0.6878 - acc: 0.8274 - val_loss: 0.6818 - val_acc: 0.8281\n",
            "Epoch 91/170\n",
            "307/307 [==============================] - 1s 2ms/step - loss: 0.6807 - acc: 0.8314 - val_loss: 0.6749 - val_acc: 0.8329\n",
            "Epoch 92/170\n",
            "307/307 [==============================] - 1s 2ms/step - loss: 0.6736 - acc: 0.8342 - val_loss: 0.6681 - val_acc: 0.8333\n",
            "Epoch 93/170\n",
            "307/307 [==============================] - 1s 2ms/step - loss: 0.6665 - acc: 0.8355 - val_loss: 0.6613 - val_acc: 0.8381\n",
            "Epoch 94/170\n",
            "307/307 [==============================] - 1s 2ms/step - loss: 0.6595 - acc: 0.8379 - val_loss: 0.6546 - val_acc: 0.8394\n",
            "Epoch 95/170\n",
            "307/307 [==============================] - 1s 2ms/step - loss: 0.6524 - acc: 0.8394 - val_loss: 0.6478 - val_acc: 0.8399\n",
            "Epoch 96/170\n",
            "307/307 [==============================] - 1s 2ms/step - loss: 0.6455 - acc: 0.8412 - val_loss: 0.6412 - val_acc: 0.8446\n",
            "Epoch 97/170\n",
            "307/307 [==============================] - 1s 2ms/step - loss: 0.6385 - acc: 0.8443 - val_loss: 0.6345 - val_acc: 0.8464\n",
            "Epoch 98/170\n",
            "307/307 [==============================] - 1s 2ms/step - loss: 0.6316 - acc: 0.8480 - val_loss: 0.6278 - val_acc: 0.8490\n",
            "Epoch 99/170\n",
            "307/307 [==============================] - 1s 2ms/step - loss: 0.6248 - acc: 0.8493 - val_loss: 0.6213 - val_acc: 0.8507\n",
            "Epoch 100/170\n",
            "307/307 [==============================] - 1s 2ms/step - loss: 0.6180 - acc: 0.8497 - val_loss: 0.6147 - val_acc: 0.8507\n",
            "Epoch 101/170\n",
            "307/307 [==============================] - 1s 2ms/step - loss: 0.6112 - acc: 0.8500 - val_loss: 0.6083 - val_acc: 0.8507\n",
            "Epoch 102/170\n",
            "307/307 [==============================] - 1s 2ms/step - loss: 0.6045 - acc: 0.8539 - val_loss: 0.6018 - val_acc: 0.8542\n",
            "Epoch 103/170\n",
            "307/307 [==============================] - 1s 2ms/step - loss: 0.5978 - acc: 0.8544 - val_loss: 0.5955 - val_acc: 0.8547\n",
            "Epoch 104/170\n",
            "307/307 [==============================] - 1s 2ms/step - loss: 0.5912 - acc: 0.8546 - val_loss: 0.5892 - val_acc: 0.8551\n",
            "Epoch 105/170\n",
            "307/307 [==============================] - 1s 2ms/step - loss: 0.5847 - acc: 0.8549 - val_loss: 0.5830 - val_acc: 0.8551\n",
            "Epoch 106/170\n",
            "307/307 [==============================] - 1s 2ms/step - loss: 0.5782 - acc: 0.8554 - val_loss: 0.5768 - val_acc: 0.8560\n",
            "Epoch 107/170\n",
            "307/307 [==============================] - 1s 2ms/step - loss: 0.5718 - acc: 0.8554 - val_loss: 0.5707 - val_acc: 0.8560\n",
            "Epoch 108/170\n",
            "307/307 [==============================] - 1s 2ms/step - loss: 0.5655 - acc: 0.8556 - val_loss: 0.5646 - val_acc: 0.8560\n",
            "Epoch 109/170\n",
            "307/307 [==============================] - 1s 2ms/step - loss: 0.5592 - acc: 0.8558 - val_loss: 0.5586 - val_acc: 0.8581\n",
            "Epoch 110/170\n",
            "307/307 [==============================] - 1s 2ms/step - loss: 0.5530 - acc: 0.8583 - val_loss: 0.5526 - val_acc: 0.8607\n",
            "Epoch 111/170\n",
            "307/307 [==============================] - 1s 2ms/step - loss: 0.5468 - acc: 0.8594 - val_loss: 0.5467 - val_acc: 0.8607\n",
            "Epoch 112/170\n",
            "307/307 [==============================] - 1s 2ms/step - loss: 0.5408 - acc: 0.8604 - val_loss: 0.5410 - val_acc: 0.8634\n",
            "Epoch 113/170\n",
            "307/307 [==============================] - 1s 2ms/step - loss: 0.5347 - acc: 0.8614 - val_loss: 0.5352 - val_acc: 0.8690\n",
            "Epoch 114/170\n",
            "307/307 [==============================] - 1s 2ms/step - loss: 0.5288 - acc: 0.8692 - val_loss: 0.5296 - val_acc: 0.8690\n",
            "Epoch 115/170\n",
            "307/307 [==============================] - 1s 2ms/step - loss: 0.5229 - acc: 0.8722 - val_loss: 0.5240 - val_acc: 0.8760\n",
            "Epoch 116/170\n",
            "307/307 [==============================] - 1s 2ms/step - loss: 0.5171 - acc: 0.8739 - val_loss: 0.5184 - val_acc: 0.8760\n",
            "Epoch 117/170\n",
            "307/307 [==============================] - 1s 2ms/step - loss: 0.5113 - acc: 0.8743 - val_loss: 0.5130 - val_acc: 0.8760\n",
            "Epoch 118/170\n",
            "307/307 [==============================] - 1s 2ms/step - loss: 0.5057 - acc: 0.8751 - val_loss: 0.5075 - val_acc: 0.8760\n",
            "Epoch 119/170\n",
            "307/307 [==============================] - 1s 2ms/step - loss: 0.5000 - acc: 0.8766 - val_loss: 0.5021 - val_acc: 0.8812\n",
            "Epoch 120/170\n",
            "307/307 [==============================] - 1s 2ms/step - loss: 0.4945 - acc: 0.8800 - val_loss: 0.4969 - val_acc: 0.8886\n",
            "Epoch 121/170\n",
            "307/307 [==============================] - 1s 2ms/step - loss: 0.4890 - acc: 0.8847 - val_loss: 0.4917 - val_acc: 0.8886\n",
            "Epoch 122/170\n",
            "307/307 [==============================] - 1s 2ms/step - loss: 0.4836 - acc: 0.8878 - val_loss: 0.4865 - val_acc: 0.8916\n",
            "Epoch 123/170\n",
            "307/307 [==============================] - 1s 2ms/step - loss: 0.4783 - acc: 0.8917 - val_loss: 0.4814 - val_acc: 0.8916\n",
            "Epoch 124/170\n",
            "307/307 [==============================] - 1s 2ms/step - loss: 0.4730 - acc: 0.8917 - val_loss: 0.4763 - val_acc: 0.8930\n",
            "Epoch 125/170\n",
            "307/307 [==============================] - 1s 2ms/step - loss: 0.4678 - acc: 0.8920 - val_loss: 0.4714 - val_acc: 0.8930\n",
            "Epoch 126/170\n",
            "307/307 [==============================] - 1s 2ms/step - loss: 0.4627 - acc: 0.8928 - val_loss: 0.4666 - val_acc: 0.8943\n",
            "Epoch 127/170\n",
            "307/307 [==============================] - 1s 2ms/step - loss: 0.4577 - acc: 0.8937 - val_loss: 0.4617 - val_acc: 0.8982\n",
            "Epoch 128/170\n",
            "307/307 [==============================] - 1s 2ms/step - loss: 0.4527 - acc: 0.9010 - val_loss: 0.4570 - val_acc: 0.9017\n",
            "Epoch 129/170\n",
            "307/307 [==============================] - 1s 2ms/step - loss: 0.4478 - acc: 0.9035 - val_loss: 0.4523 - val_acc: 0.9017\n",
            "Epoch 130/170\n",
            "307/307 [==============================] - 1s 2ms/step - loss: 0.4430 - acc: 0.9044 - val_loss: 0.4477 - val_acc: 0.9030\n",
            "Epoch 131/170\n",
            "307/307 [==============================] - 1s 2ms/step - loss: 0.4382 - acc: 0.9054 - val_loss: 0.4432 - val_acc: 0.9047\n",
            "Epoch 132/170\n",
            "307/307 [==============================] - 1s 2ms/step - loss: 0.4335 - acc: 0.9073 - val_loss: 0.4387 - val_acc: 0.9073\n",
            "Epoch 133/170\n",
            "307/307 [==============================] - 1s 2ms/step - loss: 0.4289 - acc: 0.9079 - val_loss: 0.4343 - val_acc: 0.9077\n",
            "Epoch 134/170\n",
            "307/307 [==============================] - 1s 2ms/step - loss: 0.4244 - acc: 0.9079 - val_loss: 0.4300 - val_acc: 0.9077\n",
            "Epoch 135/170\n",
            "307/307 [==============================] - 1s 2ms/step - loss: 0.4199 - acc: 0.9081 - val_loss: 0.4258 - val_acc: 0.9086\n",
            "Epoch 136/170\n",
            "307/307 [==============================] - 1s 2ms/step - loss: 0.4155 - acc: 0.9100 - val_loss: 0.4216 - val_acc: 0.9086\n",
            "Epoch 137/170\n",
            "307/307 [==============================] - 1s 2ms/step - loss: 0.4111 - acc: 0.9101 - val_loss: 0.4175 - val_acc: 0.9095\n",
            "Epoch 138/170\n",
            "307/307 [==============================] - 1s 2ms/step - loss: 0.4069 - acc: 0.9102 - val_loss: 0.4135 - val_acc: 0.9095\n",
            "Epoch 139/170\n",
            "307/307 [==============================] - 1s 2ms/step - loss: 0.4027 - acc: 0.9106 - val_loss: 0.4094 - val_acc: 0.9104\n",
            "Epoch 140/170\n",
            "307/307 [==============================] - 1s 2ms/step - loss: 0.3985 - acc: 0.9118 - val_loss: 0.4056 - val_acc: 0.9104\n",
            "Epoch 141/170\n",
            "307/307 [==============================] - 1s 2ms/step - loss: 0.3945 - acc: 0.9122 - val_loss: 0.4016 - val_acc: 0.9130\n",
            "Epoch 142/170\n",
            "307/307 [==============================] - 1s 2ms/step - loss: 0.3904 - acc: 0.9134 - val_loss: 0.3978 - val_acc: 0.9130\n",
            "Epoch 143/170\n",
            "307/307 [==============================] - 1s 2ms/step - loss: 0.3865 - acc: 0.9140 - val_loss: 0.3940 - val_acc: 0.9147\n",
            "Epoch 144/170\n",
            "307/307 [==============================] - 1s 2ms/step - loss: 0.3826 - acc: 0.9141 - val_loss: 0.3904 - val_acc: 0.9147\n",
            "Epoch 145/170\n",
            "307/307 [==============================] - 1s 2ms/step - loss: 0.3788 - acc: 0.9145 - val_loss: 0.3867 - val_acc: 0.9147\n",
            "Epoch 146/170\n",
            "307/307 [==============================] - 1s 2ms/step - loss: 0.3750 - acc: 0.9161 - val_loss: 0.3831 - val_acc: 0.9156\n",
            "Epoch 147/170\n",
            "307/307 [==============================] - 1s 2ms/step - loss: 0.3713 - acc: 0.9182 - val_loss: 0.3796 - val_acc: 0.9173\n",
            "Epoch 148/170\n",
            "307/307 [==============================] - 1s 2ms/step - loss: 0.3677 - acc: 0.9194 - val_loss: 0.3762 - val_acc: 0.9173\n",
            "Epoch 149/170\n",
            "307/307 [==============================] - 1s 2ms/step - loss: 0.3641 - acc: 0.9200 - val_loss: 0.3727 - val_acc: 0.9173\n",
            "Epoch 150/170\n",
            "307/307 [==============================] - 1s 2ms/step - loss: 0.3605 - acc: 0.9216 - val_loss: 0.3693 - val_acc: 0.9191\n",
            "Epoch 151/170\n",
            "307/307 [==============================] - 1s 2ms/step - loss: 0.3570 - acc: 0.9245 - val_loss: 0.3661 - val_acc: 0.9217\n",
            "Epoch 152/170\n",
            "307/307 [==============================] - 1s 2ms/step - loss: 0.3536 - acc: 0.9269 - val_loss: 0.3629 - val_acc: 0.9252\n",
            "Epoch 153/170\n",
            "307/307 [==============================] - 1s 2ms/step - loss: 0.3502 - acc: 0.9308 - val_loss: 0.3596 - val_acc: 0.9299\n",
            "Epoch 154/170\n",
            "307/307 [==============================] - 1s 2ms/step - loss: 0.3469 - acc: 0.9334 - val_loss: 0.3565 - val_acc: 0.9299\n",
            "Epoch 155/170\n",
            "307/307 [==============================] - 1s 2ms/step - loss: 0.3437 - acc: 0.9337 - val_loss: 0.3533 - val_acc: 0.9299\n",
            "Epoch 156/170\n",
            "307/307 [==============================] - 1s 2ms/step - loss: 0.3405 - acc: 0.9344 - val_loss: 0.3503 - val_acc: 0.9299\n",
            "Epoch 157/170\n",
            "307/307 [==============================] - 1s 2ms/step - loss: 0.3373 - acc: 0.9352 - val_loss: 0.3474 - val_acc: 0.9299\n",
            "Epoch 158/170\n",
            "307/307 [==============================] - 1s 2ms/step - loss: 0.3342 - acc: 0.9352 - val_loss: 0.3444 - val_acc: 0.9304\n",
            "Epoch 159/170\n",
            "307/307 [==============================] - 1s 2ms/step - loss: 0.3311 - acc: 0.9355 - val_loss: 0.3414 - val_acc: 0.9304\n",
            "Epoch 160/170\n",
            "307/307 [==============================] - 1s 2ms/step - loss: 0.3281 - acc: 0.9360 - val_loss: 0.3386 - val_acc: 0.9304\n",
            "Epoch 161/170\n",
            "307/307 [==============================] - 1s 2ms/step - loss: 0.3251 - acc: 0.9363 - val_loss: 0.3357 - val_acc: 0.9308\n",
            "Epoch 162/170\n",
            "307/307 [==============================] - 1s 2ms/step - loss: 0.3222 - acc: 0.9371 - val_loss: 0.3329 - val_acc: 0.9312\n",
            "Epoch 163/170\n",
            "307/307 [==============================] - 1s 2ms/step - loss: 0.3193 - acc: 0.9376 - val_loss: 0.3302 - val_acc: 0.9312\n",
            "Epoch 164/170\n",
            "307/307 [==============================] - 1s 2ms/step - loss: 0.3164 - acc: 0.9379 - val_loss: 0.3275 - val_acc: 0.9312\n",
            "Epoch 165/170\n",
            "307/307 [==============================] - 1s 2ms/step - loss: 0.3137 - acc: 0.9389 - val_loss: 0.3248 - val_acc: 0.9317\n",
            "Epoch 166/170\n",
            "307/307 [==============================] - 1s 2ms/step - loss: 0.3109 - acc: 0.9393 - val_loss: 0.3222 - val_acc: 0.9317\n",
            "Epoch 167/170\n",
            "307/307 [==============================] - 1s 2ms/step - loss: 0.3082 - acc: 0.9394 - val_loss: 0.3197 - val_acc: 0.9317\n",
            "Epoch 168/170\n",
            "307/307 [==============================] - 1s 2ms/step - loss: 0.3055 - acc: 0.9394 - val_loss: 0.3171 - val_acc: 0.9321\n",
            "Epoch 169/170\n",
            "307/307 [==============================] - 1s 2ms/step - loss: 0.3029 - acc: 0.9404 - val_loss: 0.3146 - val_acc: 0.9321\n",
            "Epoch 170/170\n",
            "307/307 [==============================] - 1s 2ms/step - loss: 0.3003 - acc: 0.9410 - val_loss: 0.3121 - val_acc: 0.9326\n",
            "<bound method Model.summary of <tensorflow.python.keras.engine.sequential.Sequential object at 0x7f73a2ec0cf8>>\n",
            "Test Accuracy:\n",
            "3446/3446 [==============================] - 5s 2ms/step - loss: 0.3276 - acc: 0.9316\n",
            "Random Sample Accuracy:\n",
            "50/50 [==============================] - 0s 2ms/step - loss: 0.8546 - acc: 0.7287\n"
          ],
          "name": "stdout"
        },
        {
          "output_type": "display_data",
          "data": {
            "image/png": "[encoded data removed]",
            "text/plain": [
              "<Figure size 1080x432 with 2 Axes>"
            ]
          },
          "metadata": {
            "tags": [],
            "needs_background": "light"
          }
        }
      ]
    },
    {
      "cell_type": "markdown",
      "metadata": {
        "id": "__MpwHll6CmX"
      },
      "source": [
        "Model 6 had the best performance on the random sample, with about 74% accuracy."
      ]
    },
    {
      "cell_type": "markdown",
      "metadata": {
        "id": "W-VgBuAfywOp"
      },
      "source": [
        "## Confusion Matrix"
      ]
    },
    {
      "cell_type": "markdown",
      "metadata": {
        "id": "DEyOaI696aJh"
      },
      "source": [
        "We'll create a confusion matrix to get a fuller sense of how the model performed on the random sample.  "
      ]
    },
    {
      "cell_type": "code",
      "metadata": {
        "id": "l8EMtKM143FT"
      },
      "source": [
        "label_preds = model6.predict_classes(r_descriptor_onehot)\n",
        "label_preds_onehot = to_categorical(label_preds)"
      ],
      "execution_count": 118,
      "outputs": []
    },
    {
      "cell_type": "code",
      "metadata": {
        "id": "fiHQNsVupk2W"
      },
      "source": [
        "cf_matrix = confusion_matrix(r_agency_cat, label_preds)"
      ],
      "execution_count": 119,
      "outputs": []
    },
    {
      "cell_type": "code",
      "metadata": {
        "colab": {
          "base_uri": "https://localhost:8080/",
          "height": 805
        },
        "id": "9VxZFJDWumpA",
        "outputId": "a3b41599-ae49-4872-ea8f-14fd83b1575e"
      },
      "source": [
        "plt.figure(figsize=(13, 13))\n",
        "plt.title('Confusion Matrix: Predictions on Random Sample', \n",
        "          fontdict={'fontsize': 16, 'family': 'serif', 'color': '#58508d', 'weight': 'bold'})\n",
        "\n",
        "sns.heatmap(cf_matrix/np.sum(cf_matrix), annot=True, xticklabels=le.classes_, yticklabels=le.classes_,\n",
        "            fmt='.2%', cmap='Reds')\n",
        "plt.ylabel('True Agency')\n",
        "plt.xlabel('Predicted Agency')"
      ],
      "execution_count": 120,
      "outputs": [
        {
          "output_type": "execute_result",
          "data": {
            "text/plain": [
              "Text(0.5, 96.0, 'Predicted Agency')"
            ]
          },
          "metadata": {
            "tags": []
          },
          "execution_count": 120
        },
        {
          "output_type": "display_data",
          "data": {
            "image/png": "[encoded data removed]",
            "text/plain": [
              "<Figure size 936x936 with 2 Axes>"
            ]
          },
          "metadata": {
            "tags": [],
            "needs_background": "light"
          }
        }
      ]
    },
    {
      "cell_type": "markdown",
      "metadata": {
        "id": "nQCkQBCrLMhL"
      },
      "source": [
        "# Interpreting the Results\n",
        "With 91% accuracy on the resampled test data, and 73.8% accuracy on the random subset, the sixth model had the best overall performance. \n",
        "\n",
        "- The model correctly predicted that roughly half (49%) of calls received a response from the NYPD. \n",
        "- About 9% of predictions were correct HPD classifications.\n",
        "- About 6% were correct DPR classifications. \n",
        "- About 3% were correct DOT classifications, and another 3% were correct DSNY classifications.\n",
        "- Despite being trained on resampled data, the model still mis-classified the responding agency of some calls as the NYPD, HPD, or DOT. About 1.6% of calls, for example, were DOT but classified as HPD.\n",
        "\n",
        "Similar models can be trained and broadened in scope to optimize the assignment of future complaints to a responding agency. "
      ]
    },
    {
      "cell_type": "markdown",
      "metadata": {
        "id": "buv6obDyjy8g"
      },
      "source": [
        "# References \n",
        "[Hyperparameter Optimization with Keras]('https://towardsdatascience.com/hyperparameter-optimization-with-keras-b82e6364ca53')"
      ]
    }
  ]
}