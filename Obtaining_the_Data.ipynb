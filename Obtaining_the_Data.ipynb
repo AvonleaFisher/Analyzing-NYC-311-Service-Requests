{
  "nbformat": 4,
  "nbformat_minor": 0,
  "metadata": {
    "colab": {
      "name": "Obtaining_the_Data.ipynb",
      "provenance": []
    },
    "kernelspec": {
      "name": "python3",
      "display_name": "Python 3"
    }
  },
  "cells": [
    {
      "cell_type": "markdown",
      "metadata": {
        "id": "WsEuqidJPcw4"
      },
      "source": [
        "# Introduction\n",
        "\n",
        "The data used in this project was obtained from two sources: \n",
        "\n",
        "- [NYC Open Data's 311 Service Requests from 2010 to Present](https://data.cityofnewyork.us/Social-Services/311-Service-Requests-from-2010-to-Present/erm2-nwe9)\n",
        "  - This dataset contains information about the time, location, complaint type, and status of more than 24 million 311 service requests made in New York City within the past decade. This project uses a subset of the data from 2020 that was accessed with the [Socrata Open Data (SODA) API](https://dev.socrata.com/consumers/getting-started.html). \n",
        "- [NYC Department of City Planning’s Community District Profiles](https://communityprofiles.planning.nyc.gov/)\n",
        "  - After navigating to any profile on the Community District Profiles website,  the Indicators Data can be obtained under \"Download the Data.\" This dataset contains development and population information for each Community District in New York City. Community board names, which correspond to community districts, can also be found in the 311 dataset. \n",
        "\n"
      ]
    },
    {
      "cell_type": "markdown",
      "metadata": {
        "id": "G2oD66MKYc36"
      },
      "source": [
        "# Loading Dependencies"
      ]
    },
    {
      "cell_type": "code",
      "metadata": {
        "id": "gyroju8671oZ",
        "colab": {
          "base_uri": "https://localhost:8080/"
        },
        "outputId": "dcafaef7-6265-43ff-f022-941c779bd817"
      },
      "source": [
        "pip install sodapy"
      ],
      "execution_count": 1,
      "outputs": [
        {
          "output_type": "stream",
          "text": [
            "Requirement already satisfied: sodapy in /usr/local/lib/python3.6/dist-packages (2.1.0)\n",
            "Requirement already satisfied: requests>=2.20.0 in /usr/local/lib/python3.6/dist-packages (from sodapy) (2.23.0)\n",
            "Requirement already satisfied: certifi>=2017.4.17 in /usr/local/lib/python3.6/dist-packages (from requests>=2.20.0->sodapy) (2020.11.8)\n",
            "Requirement already satisfied: chardet<4,>=3.0.2 in /usr/local/lib/python3.6/dist-packages (from requests>=2.20.0->sodapy) (3.0.4)\n",
            "Requirement already satisfied: idna<3,>=2.5 in /usr/local/lib/python3.6/dist-packages (from requests>=2.20.0->sodapy) (2.10)\n",
            "Requirement already satisfied: urllib3!=1.25.0,!=1.25.1,<1.26,>=1.21.1 in /usr/local/lib/python3.6/dist-packages (from requests>=2.20.0->sodapy) (1.24.3)\n"
          ],
          "name": "stdout"
        }
      ]
    },
    {
      "cell_type": "code",
      "metadata": {
        "id": "mHArX7fZ7M3Z"
      },
      "source": [
        "from sodapy import Socrata\n",
        "import pandas as pd\n",
        "from google.colab import drive"
      ],
      "execution_count": 2,
      "outputs": []
    },
    {
      "cell_type": "markdown",
      "metadata": {
        "id": "h57BAf86Ypns"
      },
      "source": [
        "# Obtaining and Exporting the 311 Data"
      ]
    },
    {
      "cell_type": "markdown",
      "metadata": {
        "id": "YanjT6uxZDoF"
      },
      "source": [
        "The [API Documentation](https://dev.socrata.com/foundry/data.cityofnewyork.us/erm2-nwe9) for this dataset contains further information about how to obtain filtered versions of the data. Below, we simply request the 1500000 most recent 311 calls. The line ``client.timeout = 1000`` prevents the Socrata connection from timing out after its default setting of 10 seconds. "
      ]
    },
    {
      "cell_type": "code",
      "metadata": {
        "id": "ZCqG9HYw7T39",
        "colab": {
          "base_uri": "https://localhost:8080/"
        },
        "outputId": "03d77cad-3117-4f32-c0d1-b23c0283f9cd"
      },
      "source": [
        "client = Socrata(\"data.cityofnewyork.us\", None)\n",
        "\n",
        "client.timeout = 1000\n",
        "results = client.get(\"erm2-nwe9\", limit=1500000)"
      ],
      "execution_count": 3,
      "outputs": [
        {
          "output_type": "stream",
          "text": [
            "WARNING:root:Requests made without an app_token will be subject to strict throttling limits.\n"
          ],
          "name": "stderr"
        }
      ]
    },
    {
      "cell_type": "markdown",
      "metadata": {
        "id": "BGx7PNoWa8CC"
      },
      "source": [
        "The results are stored into a pandas dataframe and exported as a CSV file to Google Drive:"
      ]
    },
    {
      "cell_type": "code",
      "metadata": {
        "id": "Ca6vnk6L8QTi"
      },
      "source": [
        "df = pd.DataFrame.from_records(results)"
      ],
      "execution_count": 4,
      "outputs": []
    },
    {
      "cell_type": "code",
      "metadata": {
        "id": "Nh8tlU9z9WA6",
        "colab": {
          "base_uri": "https://localhost:8080/"
        },
        "outputId": "72275f0e-6ed0-4648-dc04-0088e26574ba"
      },
      "source": [
        "drive.mount(\"/content/gdrive\")"
      ],
      "execution_count": 5,
      "outputs": [
        {
          "output_type": "stream",
          "text": [
            "Mounted at /content/gdrive\n"
          ],
          "name": "stdout"
        }
      ]
    },
    {
      "cell_type": "code",
      "metadata": {
        "id": "5mhnUOFm93MB"
      },
      "source": [
        "df.to_csv('/content/gdrive/My Drive/Colab Notebooks/311.csv', header=True)"
      ],
      "execution_count": 6,
      "outputs": []
    },
    {
      "cell_type": "markdown",
      "metadata": {
        "id": "ZUAUoRe8bT9g"
      },
      "source": [
        "# Google Drive Links"
      ]
    },
    {
      "cell_type": "markdown",
      "metadata": {
        "id": "jrTKVAh9bwSo"
      },
      "source": [
        "The datasets can also be accessed via public Google Drive documents at the links below."
      ]
    },
    {
      "cell_type": "markdown",
      "metadata": {
        "id": "kIMbbfeyctnf"
      },
      "source": [
        "- [311 Service Requests](https://drive.google.com/file/d/1wzwvb1gEN9o9sIhRPoZAt8ISLIoQrdrT/view?usp=sharing)\n",
        "\n",
        "- [Community District Indicators](https://drive.google.com/file/d/1CBg0A-Y1IocnqQTtBQ_35kMZNwa5wxR4/view?usp=sharing)"
      ]
    }
  ]
}