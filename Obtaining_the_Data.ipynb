{
  "nbformat": 4,
  "nbformat_minor": 0,
  "metadata": {
    "colab": {
      "name": "Obtaining_the_Data.ipynb",
      "provenance": []
    },
    "kernelspec": {
      "name": "python3",
      "display_name": "Python 3"
    }
  },
  "cells": [
    {
      "cell_type": "markdown",
      "metadata": {
        "id": "WsEuqidJPcw4"
      },
      "source": [
        "# Introduction\n",
        "\n",
        "The data used in this project was obtained from two sources: \n",
        "\n",
        "- [NYC Open Data's 311 Service Requests from 2010 to Present](https://data.cityofnewyork.us/Social-Services/311-Service-Requests-from-2010-to-Present/erm2-nwe9)\n",
        "  - This dataset contains information about the time, location, complaint type, and status of more than 24 million 311 service requests made in New York City within the past decade. This project uses a subset of the data from 2020 that was accessed with the [Socrata Open Data (SODA) API](https://dev.socrata.com/consumers/getting-started.html). \n",
        "- [NYC Department of City Planning’s Community District Profiles](https://communityprofiles.planning.nyc.gov/)\n",
        "  - After navigating to any profile on the Community District Profiles website,  the Indicators Data can be obtained under \"Download the Data.\" This dataset contains development and population information for each Community District in New York City. Community board names, which correspond to community districts, can also be found in the 311 dataset. \n",
        "\n"
      ]
    },
    {
      "cell_type": "markdown",
      "metadata": {
        "id": "G2oD66MKYc36"
      },
      "source": [
        "# Loading Dependencies"
      ]
    },
    {
      "cell_type": "code",
      "metadata": {
        "id": "gyroju8671oZ",
        "colab": {
          "base_uri": "https://localhost:8080/"
        },
        "outputId": "f07a6317-4ac6-4ad7-ea4c-4763462c5b7c"
      },
      "source": [
        "pip install sodapy"
      ],
      "execution_count": null,
      "outputs": [
        {
          "output_type": "stream",
          "text": [
            "Collecting sodapy\n",
            "  Downloading https://files.pythonhosted.org/packages/9e/74/95fb7d45bbe7f1de43caac45d7dd4807ef1e15881564a00eef489a3bb5c6/sodapy-2.1.0-py2.py3-none-any.whl\n",
            "Requirement already satisfied: requests>=2.20.0 in /usr/local/lib/python3.6/dist-packages (from sodapy) (2.23.0)\n",
            "Requirement already satisfied: urllib3!=1.25.0,!=1.25.1,<1.26,>=1.21.1 in /usr/local/lib/python3.6/dist-packages (from requests>=2.20.0->sodapy) (1.24.3)\n",
            "Requirement already satisfied: chardet<4,>=3.0.2 in /usr/local/lib/python3.6/dist-packages (from requests>=2.20.0->sodapy) (3.0.4)\n",
            "Requirement already satisfied: idna<3,>=2.5 in /usr/local/lib/python3.6/dist-packages (from requests>=2.20.0->sodapy) (2.10)\n",
            "Requirement already satisfied: certifi>=2017.4.17 in /usr/local/lib/python3.6/dist-packages (from requests>=2.20.0->sodapy) (2020.6.20)\n",
            "Installing collected packages: sodapy\n",
            "Successfully installed sodapy-2.1.0\n"
          ],
          "name": "stdout"
        }
      ]
    },
    {
      "cell_type": "code",
      "metadata": {
        "id": "mHArX7fZ7M3Z",
        "colab": {
          "base_uri": "https://localhost:8080/"
        },
        "outputId": "ce08e5da-bd20-4383-8c5c-f1c219810bd2"
      },
      "source": [
        "from sodapy import Socrata\n",
        "import pandas as pd\n",
        "from google.colab import drive"
      ],
      "execution_count": null,
      "outputs": [
        {
          "output_type": "stream",
          "text": [
            "/usr/local/lib/python3.6/dist-packages/sklearn/externals/six.py:31: FutureWarning:\n",
            "\n",
            "The module is deprecated in version 0.21 and will be removed in version 0.23 since we've dropped support for Python 2.7. Please rely on the official version of six (https://pypi.org/project/six/).\n",
            "\n",
            "/usr/local/lib/python3.6/dist-packages/sklearn/utils/deprecation.py:144: FutureWarning:\n",
            "\n",
            "The sklearn.neighbors.base module is  deprecated in version 0.22 and will be removed in version 0.24. The corresponding classes / functions should instead be imported from sklearn.neighbors. Anything that cannot be imported from sklearn.neighbors is now part of the private API.\n",
            "\n"
          ],
          "name": "stderr"
        }
      ]
    },
    {
      "cell_type": "markdown",
      "metadata": {
        "id": "h57BAf86Ypns"
      },
      "source": [
        "# Obtaining and Exporting the 311 Data"
      ]
    },
    {
      "cell_type": "markdown",
      "metadata": {
        "id": "YanjT6uxZDoF"
      },
      "source": [
        "The [API Documentation](https://dev.socrata.com/foundry/data.cityofnewyork.us/erm2-nwe9) for this dataset contains further information about how to obtain filtered versions of the data. Below, we simply request the 1450000 most recent 311 calls. The line ``client.timeout = 1000`` prevents the Socrata connection from timing out after its default setting of 10 seconds. "
      ]
    },
    {
      "cell_type": "code",
      "metadata": {
        "id": "ZCqG9HYw7T39"
      },
      "source": [
        "client = Socrata(\"data.cityofnewyork.us\", None)\n",
        "\n",
        "client.timeout = 1000\n",
        "results = client.get(\"erm2-nwe9\", limit=1450000)"
      ],
      "execution_count": null,
      "outputs": []
    },
    {
      "cell_type": "markdown",
      "metadata": {
        "id": "BGx7PNoWa8CC"
      },
      "source": [
        "The results are stored into a pandas dataframe and exported as a CSV file to Google Drive:"
      ]
    },
    {
      "cell_type": "code",
      "metadata": {
        "id": "Ca6vnk6L8QTi"
      },
      "source": [
        "df = pd.DataFrame.from_records(results)"
      ],
      "execution_count": null,
      "outputs": []
    },
    {
      "cell_type": "code",
      "metadata": {
        "id": "Nh8tlU9z9WA6",
        "colab": {
          "base_uri": "https://localhost:8080/"
        },
        "outputId": "f5df4494-229f-47ac-804c-199132c95dba"
      },
      "source": [
        "drive.mount(\"/content/gdrive\")"
      ],
      "execution_count": null,
      "outputs": [
        {
          "output_type": "stream",
          "text": [
            "Mounted at /content/gdrive\n"
          ],
          "name": "stdout"
        }
      ]
    },
    {
      "cell_type": "code",
      "metadata": {
        "id": "5mhnUOFm93MB"
      },
      "source": [
        "df.to_csv('/content/gdrive/My Drive/311.csv', header=True)"
      ],
      "execution_count": null,
      "outputs": []
    },
    {
      "cell_type": "markdown",
      "metadata": {
        "id": "ZUAUoRe8bT9g"
      },
      "source": [
        "# Google Drive Links"
      ]
    },
    {
      "cell_type": "markdown",
      "metadata": {
        "id": "jrTKVAh9bwSo"
      },
      "source": [
        "The datasets can also be accessed via public Google Drive documents at the links below."
      ]
    },
    {
      "cell_type": "markdown",
      "metadata": {
        "id": "kIMbbfeyctnf"
      },
      "source": [
        "- [311 Service Requests](https://drive.google.com/file/d/1-2N5LdtbgESvjH4fONjY7ee24FLOb0Np/view?usp=sharing)\n",
        "\n",
        "- [Community District Indicators](https://drive.google.com/file/d/1CBg0A-Y1IocnqQTtBQ_35kMZNwa5wxR4/view?usp=sharing)"
      ]
    }
  ]
}